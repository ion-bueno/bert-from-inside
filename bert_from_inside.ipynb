{
  "nbformat": 4,
  "nbformat_minor": 0,
  "metadata": {
    "accelerator": "GPU",
    "colab": {
      "name": "bert_from_inside",
      "provenance": [],
      "collapsed_sections": [],
      "toc_visible": true,
      "machine_shape": "hm",
      "include_colab_link": true
    },
    "kernelspec": {
      "display_name": "Python 3",
      "name": "python3"
    },
    "widgets": {
      "application/vnd.jupyter.widget-state+json": {
        "eed17105d92e44239e8dc9be5ea3c706": {
          "model_module": "@jupyter-widgets/controls",
          "model_name": "HBoxModel",
          "state": {
            "_view_name": "HBoxView",
            "_dom_classes": [],
            "_model_name": "HBoxModel",
            "_view_module": "@jupyter-widgets/controls",
            "_model_module_version": "1.5.0",
            "_view_count": null,
            "_view_module_version": "1.5.0",
            "box_style": "",
            "layout": "IPY_MODEL_f08631001b6f465bb05c6607d47af343",
            "_model_module": "@jupyter-widgets/controls",
            "children": [
              "IPY_MODEL_d53c15aaa60c4d3dac2c6798df06116f",
              "IPY_MODEL_f90870fe55f746e3a4bb6bf1f45aa5af"
            ]
          }
        },
        "f08631001b6f465bb05c6607d47af343": {
          "model_module": "@jupyter-widgets/base",
          "model_name": "LayoutModel",
          "state": {
            "_view_name": "LayoutView",
            "grid_template_rows": null,
            "right": null,
            "justify_content": null,
            "_view_module": "@jupyter-widgets/base",
            "overflow": null,
            "_model_module_version": "1.2.0",
            "_view_count": null,
            "flex_flow": null,
            "width": null,
            "min_width": null,
            "border": null,
            "align_items": null,
            "bottom": null,
            "_model_module": "@jupyter-widgets/base",
            "top": null,
            "grid_column": null,
            "overflow_y": null,
            "overflow_x": null,
            "grid_auto_flow": null,
            "grid_area": null,
            "grid_template_columns": null,
            "flex": null,
            "_model_name": "LayoutModel",
            "justify_items": null,
            "grid_row": null,
            "max_height": null,
            "align_content": null,
            "visibility": null,
            "align_self": null,
            "height": null,
            "min_height": null,
            "padding": null,
            "grid_auto_rows": null,
            "grid_gap": null,
            "max_width": null,
            "order": null,
            "_view_module_version": "1.2.0",
            "grid_template_areas": null,
            "object_position": null,
            "object_fit": null,
            "grid_auto_columns": null,
            "margin": null,
            "display": null,
            "left": null
          }
        },
        "d53c15aaa60c4d3dac2c6798df06116f": {
          "model_module": "@jupyter-widgets/controls",
          "model_name": "FloatProgressModel",
          "state": {
            "_view_name": "ProgressView",
            "style": "IPY_MODEL_96a3b0df54bd4a2da54d12fbb1734f8d",
            "_dom_classes": [],
            "description": "Downloading: 100%",
            "_model_name": "FloatProgressModel",
            "bar_style": "success",
            "max": 570,
            "_view_module": "@jupyter-widgets/controls",
            "_model_module_version": "1.5.0",
            "value": 570,
            "_view_count": null,
            "_view_module_version": "1.5.0",
            "orientation": "horizontal",
            "min": 0,
            "description_tooltip": null,
            "_model_module": "@jupyter-widgets/controls",
            "layout": "IPY_MODEL_0418c437d03a4c6fbc080ff62d78369b"
          }
        },
        "f90870fe55f746e3a4bb6bf1f45aa5af": {
          "model_module": "@jupyter-widgets/controls",
          "model_name": "HTMLModel",
          "state": {
            "_view_name": "HTMLView",
            "style": "IPY_MODEL_73f14a5f40014f9b9543e9cbf1047bca",
            "_dom_classes": [],
            "description": "",
            "_model_name": "HTMLModel",
            "placeholder": "​",
            "_view_module": "@jupyter-widgets/controls",
            "_model_module_version": "1.5.0",
            "value": " 570/570 [00:00&lt;00:00, 694B/s]",
            "_view_count": null,
            "_view_module_version": "1.5.0",
            "description_tooltip": null,
            "_model_module": "@jupyter-widgets/controls",
            "layout": "IPY_MODEL_353bb1503d7b4e11b81a97db53c86518"
          }
        },
        "96a3b0df54bd4a2da54d12fbb1734f8d": {
          "model_module": "@jupyter-widgets/controls",
          "model_name": "ProgressStyleModel",
          "state": {
            "_view_name": "StyleView",
            "_model_name": "ProgressStyleModel",
            "description_width": "initial",
            "_view_module": "@jupyter-widgets/base",
            "_model_module_version": "1.5.0",
            "_view_count": null,
            "_view_module_version": "1.2.0",
            "bar_color": null,
            "_model_module": "@jupyter-widgets/controls"
          }
        },
        "0418c437d03a4c6fbc080ff62d78369b": {
          "model_module": "@jupyter-widgets/base",
          "model_name": "LayoutModel",
          "state": {
            "_view_name": "LayoutView",
            "grid_template_rows": null,
            "right": null,
            "justify_content": null,
            "_view_module": "@jupyter-widgets/base",
            "overflow": null,
            "_model_module_version": "1.2.0",
            "_view_count": null,
            "flex_flow": null,
            "width": null,
            "min_width": null,
            "border": null,
            "align_items": null,
            "bottom": null,
            "_model_module": "@jupyter-widgets/base",
            "top": null,
            "grid_column": null,
            "overflow_y": null,
            "overflow_x": null,
            "grid_auto_flow": null,
            "grid_area": null,
            "grid_template_columns": null,
            "flex": null,
            "_model_name": "LayoutModel",
            "justify_items": null,
            "grid_row": null,
            "max_height": null,
            "align_content": null,
            "visibility": null,
            "align_self": null,
            "height": null,
            "min_height": null,
            "padding": null,
            "grid_auto_rows": null,
            "grid_gap": null,
            "max_width": null,
            "order": null,
            "_view_module_version": "1.2.0",
            "grid_template_areas": null,
            "object_position": null,
            "object_fit": null,
            "grid_auto_columns": null,
            "margin": null,
            "display": null,
            "left": null
          }
        },
        "73f14a5f40014f9b9543e9cbf1047bca": {
          "model_module": "@jupyter-widgets/controls",
          "model_name": "DescriptionStyleModel",
          "state": {
            "_view_name": "StyleView",
            "_model_name": "DescriptionStyleModel",
            "description_width": "",
            "_view_module": "@jupyter-widgets/base",
            "_model_module_version": "1.5.0",
            "_view_count": null,
            "_view_module_version": "1.2.0",
            "_model_module": "@jupyter-widgets/controls"
          }
        },
        "353bb1503d7b4e11b81a97db53c86518": {
          "model_module": "@jupyter-widgets/base",
          "model_name": "LayoutModel",
          "state": {
            "_view_name": "LayoutView",
            "grid_template_rows": null,
            "right": null,
            "justify_content": null,
            "_view_module": "@jupyter-widgets/base",
            "overflow": null,
            "_model_module_version": "1.2.0",
            "_view_count": null,
            "flex_flow": null,
            "width": null,
            "min_width": null,
            "border": null,
            "align_items": null,
            "bottom": null,
            "_model_module": "@jupyter-widgets/base",
            "top": null,
            "grid_column": null,
            "overflow_y": null,
            "overflow_x": null,
            "grid_auto_flow": null,
            "grid_area": null,
            "grid_template_columns": null,
            "flex": null,
            "_model_name": "LayoutModel",
            "justify_items": null,
            "grid_row": null,
            "max_height": null,
            "align_content": null,
            "visibility": null,
            "align_self": null,
            "height": null,
            "min_height": null,
            "padding": null,
            "grid_auto_rows": null,
            "grid_gap": null,
            "max_width": null,
            "order": null,
            "_view_module_version": "1.2.0",
            "grid_template_areas": null,
            "object_position": null,
            "object_fit": null,
            "grid_auto_columns": null,
            "margin": null,
            "display": null,
            "left": null
          }
        },
        "d157f96fbda1481b902cc9928144f4f6": {
          "model_module": "@jupyter-widgets/controls",
          "model_name": "HBoxModel",
          "state": {
            "_view_name": "HBoxView",
            "_dom_classes": [],
            "_model_name": "HBoxModel",
            "_view_module": "@jupyter-widgets/controls",
            "_model_module_version": "1.5.0",
            "_view_count": null,
            "_view_module_version": "1.5.0",
            "box_style": "",
            "layout": "IPY_MODEL_0573f5c28d734881a9b9d88b45384ec9",
            "_model_module": "@jupyter-widgets/controls",
            "children": [
              "IPY_MODEL_2203cd949c644eba9727edd11198d475",
              "IPY_MODEL_7513e90105be4df6bfc390fdd1bee470"
            ]
          }
        },
        "0573f5c28d734881a9b9d88b45384ec9": {
          "model_module": "@jupyter-widgets/base",
          "model_name": "LayoutModel",
          "state": {
            "_view_name": "LayoutView",
            "grid_template_rows": null,
            "right": null,
            "justify_content": null,
            "_view_module": "@jupyter-widgets/base",
            "overflow": null,
            "_model_module_version": "1.2.0",
            "_view_count": null,
            "flex_flow": null,
            "width": null,
            "min_width": null,
            "border": null,
            "align_items": null,
            "bottom": null,
            "_model_module": "@jupyter-widgets/base",
            "top": null,
            "grid_column": null,
            "overflow_y": null,
            "overflow_x": null,
            "grid_auto_flow": null,
            "grid_area": null,
            "grid_template_columns": null,
            "flex": null,
            "_model_name": "LayoutModel",
            "justify_items": null,
            "grid_row": null,
            "max_height": null,
            "align_content": null,
            "visibility": null,
            "align_self": null,
            "height": null,
            "min_height": null,
            "padding": null,
            "grid_auto_rows": null,
            "grid_gap": null,
            "max_width": null,
            "order": null,
            "_view_module_version": "1.2.0",
            "grid_template_areas": null,
            "object_position": null,
            "object_fit": null,
            "grid_auto_columns": null,
            "margin": null,
            "display": null,
            "left": null
          }
        },
        "2203cd949c644eba9727edd11198d475": {
          "model_module": "@jupyter-widgets/controls",
          "model_name": "FloatProgressModel",
          "state": {
            "_view_name": "ProgressView",
            "style": "IPY_MODEL_2d5e319cf29b495d9e92725bd24e88fa",
            "_dom_classes": [],
            "description": "Downloading: 100%",
            "_model_name": "FloatProgressModel",
            "bar_style": "success",
            "max": 440473133,
            "_view_module": "@jupyter-widgets/controls",
            "_model_module_version": "1.5.0",
            "value": 440473133,
            "_view_count": null,
            "_view_module_version": "1.5.0",
            "orientation": "horizontal",
            "min": 0,
            "description_tooltip": null,
            "_model_module": "@jupyter-widgets/controls",
            "layout": "IPY_MODEL_c69662f5bdb84b0d8587d2d43a0d3235"
          }
        },
        "7513e90105be4df6bfc390fdd1bee470": {
          "model_module": "@jupyter-widgets/controls",
          "model_name": "HTMLModel",
          "state": {
            "_view_name": "HTMLView",
            "style": "IPY_MODEL_db735268868e43f190bdc99ed2ec8053",
            "_dom_classes": [],
            "description": "",
            "_model_name": "HTMLModel",
            "placeholder": "​",
            "_view_module": "@jupyter-widgets/controls",
            "_model_module_version": "1.5.0",
            "value": " 440M/440M [00:21&lt;00:00, 20.7MB/s]",
            "_view_count": null,
            "_view_module_version": "1.5.0",
            "description_tooltip": null,
            "_model_module": "@jupyter-widgets/controls",
            "layout": "IPY_MODEL_530b61cdc72e467a99a5f4134c94e8d6"
          }
        },
        "2d5e319cf29b495d9e92725bd24e88fa": {
          "model_module": "@jupyter-widgets/controls",
          "model_name": "ProgressStyleModel",
          "state": {
            "_view_name": "StyleView",
            "_model_name": "ProgressStyleModel",
            "description_width": "initial",
            "_view_module": "@jupyter-widgets/base",
            "_model_module_version": "1.5.0",
            "_view_count": null,
            "_view_module_version": "1.2.0",
            "bar_color": null,
            "_model_module": "@jupyter-widgets/controls"
          }
        },
        "c69662f5bdb84b0d8587d2d43a0d3235": {
          "model_module": "@jupyter-widgets/base",
          "model_name": "LayoutModel",
          "state": {
            "_view_name": "LayoutView",
            "grid_template_rows": null,
            "right": null,
            "justify_content": null,
            "_view_module": "@jupyter-widgets/base",
            "overflow": null,
            "_model_module_version": "1.2.0",
            "_view_count": null,
            "flex_flow": null,
            "width": null,
            "min_width": null,
            "border": null,
            "align_items": null,
            "bottom": null,
            "_model_module": "@jupyter-widgets/base",
            "top": null,
            "grid_column": null,
            "overflow_y": null,
            "overflow_x": null,
            "grid_auto_flow": null,
            "grid_area": null,
            "grid_template_columns": null,
            "flex": null,
            "_model_name": "LayoutModel",
            "justify_items": null,
            "grid_row": null,
            "max_height": null,
            "align_content": null,
            "visibility": null,
            "align_self": null,
            "height": null,
            "min_height": null,
            "padding": null,
            "grid_auto_rows": null,
            "grid_gap": null,
            "max_width": null,
            "order": null,
            "_view_module_version": "1.2.0",
            "grid_template_areas": null,
            "object_position": null,
            "object_fit": null,
            "grid_auto_columns": null,
            "margin": null,
            "display": null,
            "left": null
          }
        },
        "db735268868e43f190bdc99ed2ec8053": {
          "model_module": "@jupyter-widgets/controls",
          "model_name": "DescriptionStyleModel",
          "state": {
            "_view_name": "StyleView",
            "_model_name": "DescriptionStyleModel",
            "description_width": "",
            "_view_module": "@jupyter-widgets/base",
            "_model_module_version": "1.5.0",
            "_view_count": null,
            "_view_module_version": "1.2.0",
            "_model_module": "@jupyter-widgets/controls"
          }
        },
        "530b61cdc72e467a99a5f4134c94e8d6": {
          "model_module": "@jupyter-widgets/base",
          "model_name": "LayoutModel",
          "state": {
            "_view_name": "LayoutView",
            "grid_template_rows": null,
            "right": null,
            "justify_content": null,
            "_view_module": "@jupyter-widgets/base",
            "overflow": null,
            "_model_module_version": "1.2.0",
            "_view_count": null,
            "flex_flow": null,
            "width": null,
            "min_width": null,
            "border": null,
            "align_items": null,
            "bottom": null,
            "_model_module": "@jupyter-widgets/base",
            "top": null,
            "grid_column": null,
            "overflow_y": null,
            "overflow_x": null,
            "grid_auto_flow": null,
            "grid_area": null,
            "grid_template_columns": null,
            "flex": null,
            "_model_name": "LayoutModel",
            "justify_items": null,
            "grid_row": null,
            "max_height": null,
            "align_content": null,
            "visibility": null,
            "align_self": null,
            "height": null,
            "min_height": null,
            "padding": null,
            "grid_auto_rows": null,
            "grid_gap": null,
            "max_width": null,
            "order": null,
            "_view_module_version": "1.2.0",
            "grid_template_areas": null,
            "object_position": null,
            "object_fit": null,
            "grid_auto_columns": null,
            "margin": null,
            "display": null,
            "left": null
          }
        },
        "ace10f1bac344bd097eeb4bf740f8190": {
          "model_module": "@jupyter-widgets/controls",
          "model_name": "HBoxModel",
          "state": {
            "_view_name": "HBoxView",
            "_dom_classes": [],
            "_model_name": "HBoxModel",
            "_view_module": "@jupyter-widgets/controls",
            "_model_module_version": "1.5.0",
            "_view_count": null,
            "_view_module_version": "1.5.0",
            "box_style": "",
            "layout": "IPY_MODEL_46448d09808e46d18c47dc56b43a48a5",
            "_model_module": "@jupyter-widgets/controls",
            "children": [
              "IPY_MODEL_6d78faaa864a487387a4a5f4cdee7c35",
              "IPY_MODEL_f75126cff7bd4761ba6b2d86f5cf81ac"
            ]
          }
        },
        "46448d09808e46d18c47dc56b43a48a5": {
          "model_module": "@jupyter-widgets/base",
          "model_name": "LayoutModel",
          "state": {
            "_view_name": "LayoutView",
            "grid_template_rows": null,
            "right": null,
            "justify_content": null,
            "_view_module": "@jupyter-widgets/base",
            "overflow": null,
            "_model_module_version": "1.2.0",
            "_view_count": null,
            "flex_flow": null,
            "width": null,
            "min_width": null,
            "border": null,
            "align_items": null,
            "bottom": null,
            "_model_module": "@jupyter-widgets/base",
            "top": null,
            "grid_column": null,
            "overflow_y": null,
            "overflow_x": null,
            "grid_auto_flow": null,
            "grid_area": null,
            "grid_template_columns": null,
            "flex": null,
            "_model_name": "LayoutModel",
            "justify_items": null,
            "grid_row": null,
            "max_height": null,
            "align_content": null,
            "visibility": null,
            "align_self": null,
            "height": null,
            "min_height": null,
            "padding": null,
            "grid_auto_rows": null,
            "grid_gap": null,
            "max_width": null,
            "order": null,
            "_view_module_version": "1.2.0",
            "grid_template_areas": null,
            "object_position": null,
            "object_fit": null,
            "grid_auto_columns": null,
            "margin": null,
            "display": null,
            "left": null
          }
        },
        "6d78faaa864a487387a4a5f4cdee7c35": {
          "model_module": "@jupyter-widgets/controls",
          "model_name": "FloatProgressModel",
          "state": {
            "_view_name": "ProgressView",
            "style": "IPY_MODEL_6133a68ea3b243a794fddc44a9f14640",
            "_dom_classes": [],
            "description": "Downloading: 100%",
            "_model_name": "FloatProgressModel",
            "bar_style": "success",
            "max": 231508,
            "_view_module": "@jupyter-widgets/controls",
            "_model_module_version": "1.5.0",
            "value": 231508,
            "_view_count": null,
            "_view_module_version": "1.5.0",
            "orientation": "horizontal",
            "min": 0,
            "description_tooltip": null,
            "_model_module": "@jupyter-widgets/controls",
            "layout": "IPY_MODEL_812090fb5d634ff2990df26c72ba32fa"
          }
        },
        "f75126cff7bd4761ba6b2d86f5cf81ac": {
          "model_module": "@jupyter-widgets/controls",
          "model_name": "HTMLModel",
          "state": {
            "_view_name": "HTMLView",
            "style": "IPY_MODEL_b98c6cb3c3254a40a9e0062d7f3818e4",
            "_dom_classes": [],
            "description": "",
            "_model_name": "HTMLModel",
            "placeholder": "​",
            "_view_module": "@jupyter-widgets/controls",
            "_model_module_version": "1.5.0",
            "value": " 232k/232k [00:05&lt;00:00, 44.1kB/s]",
            "_view_count": null,
            "_view_module_version": "1.5.0",
            "description_tooltip": null,
            "_model_module": "@jupyter-widgets/controls",
            "layout": "IPY_MODEL_ed10841c114f45ef8e614c6ea6515847"
          }
        },
        "6133a68ea3b243a794fddc44a9f14640": {
          "model_module": "@jupyter-widgets/controls",
          "model_name": "ProgressStyleModel",
          "state": {
            "_view_name": "StyleView",
            "_model_name": "ProgressStyleModel",
            "description_width": "initial",
            "_view_module": "@jupyter-widgets/base",
            "_model_module_version": "1.5.0",
            "_view_count": null,
            "_view_module_version": "1.2.0",
            "bar_color": null,
            "_model_module": "@jupyter-widgets/controls"
          }
        },
        "812090fb5d634ff2990df26c72ba32fa": {
          "model_module": "@jupyter-widgets/base",
          "model_name": "LayoutModel",
          "state": {
            "_view_name": "LayoutView",
            "grid_template_rows": null,
            "right": null,
            "justify_content": null,
            "_view_module": "@jupyter-widgets/base",
            "overflow": null,
            "_model_module_version": "1.2.0",
            "_view_count": null,
            "flex_flow": null,
            "width": null,
            "min_width": null,
            "border": null,
            "align_items": null,
            "bottom": null,
            "_model_module": "@jupyter-widgets/base",
            "top": null,
            "grid_column": null,
            "overflow_y": null,
            "overflow_x": null,
            "grid_auto_flow": null,
            "grid_area": null,
            "grid_template_columns": null,
            "flex": null,
            "_model_name": "LayoutModel",
            "justify_items": null,
            "grid_row": null,
            "max_height": null,
            "align_content": null,
            "visibility": null,
            "align_self": null,
            "height": null,
            "min_height": null,
            "padding": null,
            "grid_auto_rows": null,
            "grid_gap": null,
            "max_width": null,
            "order": null,
            "_view_module_version": "1.2.0",
            "grid_template_areas": null,
            "object_position": null,
            "object_fit": null,
            "grid_auto_columns": null,
            "margin": null,
            "display": null,
            "left": null
          }
        },
        "b98c6cb3c3254a40a9e0062d7f3818e4": {
          "model_module": "@jupyter-widgets/controls",
          "model_name": "DescriptionStyleModel",
          "state": {
            "_view_name": "StyleView",
            "_model_name": "DescriptionStyleModel",
            "description_width": "",
            "_view_module": "@jupyter-widgets/base",
            "_model_module_version": "1.5.0",
            "_view_count": null,
            "_view_module_version": "1.2.0",
            "_model_module": "@jupyter-widgets/controls"
          }
        },
        "ed10841c114f45ef8e614c6ea6515847": {
          "model_module": "@jupyter-widgets/base",
          "model_name": "LayoutModel",
          "state": {
            "_view_name": "LayoutView",
            "grid_template_rows": null,
            "right": null,
            "justify_content": null,
            "_view_module": "@jupyter-widgets/base",
            "overflow": null,
            "_model_module_version": "1.2.0",
            "_view_count": null,
            "flex_flow": null,
            "width": null,
            "min_width": null,
            "border": null,
            "align_items": null,
            "bottom": null,
            "_model_module": "@jupyter-widgets/base",
            "top": null,
            "grid_column": null,
            "overflow_y": null,
            "overflow_x": null,
            "grid_auto_flow": null,
            "grid_area": null,
            "grid_template_columns": null,
            "flex": null,
            "_model_name": "LayoutModel",
            "justify_items": null,
            "grid_row": null,
            "max_height": null,
            "align_content": null,
            "visibility": null,
            "align_self": null,
            "height": null,
            "min_height": null,
            "padding": null,
            "grid_auto_rows": null,
            "grid_gap": null,
            "max_width": null,
            "order": null,
            "_view_module_version": "1.2.0",
            "grid_template_areas": null,
            "object_position": null,
            "object_fit": null,
            "grid_auto_columns": null,
            "margin": null,
            "display": null,
            "left": null
          }
        },
        "d404716eddac4c9a9bcefbd580e77ebc": {
          "model_module": "@jupyter-widgets/controls",
          "model_name": "HBoxModel",
          "state": {
            "_view_name": "HBoxView",
            "_dom_classes": [],
            "_model_name": "HBoxModel",
            "_view_module": "@jupyter-widgets/controls",
            "_model_module_version": "1.5.0",
            "_view_count": null,
            "_view_module_version": "1.5.0",
            "box_style": "",
            "layout": "IPY_MODEL_3894ec6f711944b2859240678c7e8c54",
            "_model_module": "@jupyter-widgets/controls",
            "children": [
              "IPY_MODEL_c655b880806c42f09f40d43cc02157ab",
              "IPY_MODEL_07a5b51d786c4e90bfb8e798cbbff6e0"
            ]
          }
        },
        "3894ec6f711944b2859240678c7e8c54": {
          "model_module": "@jupyter-widgets/base",
          "model_name": "LayoutModel",
          "state": {
            "_view_name": "LayoutView",
            "grid_template_rows": null,
            "right": null,
            "justify_content": null,
            "_view_module": "@jupyter-widgets/base",
            "overflow": null,
            "_model_module_version": "1.2.0",
            "_view_count": null,
            "flex_flow": null,
            "width": null,
            "min_width": null,
            "border": null,
            "align_items": null,
            "bottom": null,
            "_model_module": "@jupyter-widgets/base",
            "top": null,
            "grid_column": null,
            "overflow_y": null,
            "overflow_x": null,
            "grid_auto_flow": null,
            "grid_area": null,
            "grid_template_columns": null,
            "flex": null,
            "_model_name": "LayoutModel",
            "justify_items": null,
            "grid_row": null,
            "max_height": null,
            "align_content": null,
            "visibility": null,
            "align_self": null,
            "height": null,
            "min_height": null,
            "padding": null,
            "grid_auto_rows": null,
            "grid_gap": null,
            "max_width": null,
            "order": null,
            "_view_module_version": "1.2.0",
            "grid_template_areas": null,
            "object_position": null,
            "object_fit": null,
            "grid_auto_columns": null,
            "margin": null,
            "display": null,
            "left": null
          }
        },
        "c655b880806c42f09f40d43cc02157ab": {
          "model_module": "@jupyter-widgets/controls",
          "model_name": "FloatProgressModel",
          "state": {
            "_view_name": "ProgressView",
            "style": "IPY_MODEL_39443ef61eb54a2f9dc970ef679deb55",
            "_dom_classes": [],
            "description": "Downloading: 100%",
            "_model_name": "FloatProgressModel",
            "bar_style": "success",
            "max": 28,
            "_view_module": "@jupyter-widgets/controls",
            "_model_module_version": "1.5.0",
            "value": 28,
            "_view_count": null,
            "_view_module_version": "1.5.0",
            "orientation": "horizontal",
            "min": 0,
            "description_tooltip": null,
            "_model_module": "@jupyter-widgets/controls",
            "layout": "IPY_MODEL_55f0863f26dd484f81466bf953d69f84"
          }
        },
        "07a5b51d786c4e90bfb8e798cbbff6e0": {
          "model_module": "@jupyter-widgets/controls",
          "model_name": "HTMLModel",
          "state": {
            "_view_name": "HTMLView",
            "style": "IPY_MODEL_bd0ed33b9ed04ae8899dab053f115f5d",
            "_dom_classes": [],
            "description": "",
            "_model_name": "HTMLModel",
            "placeholder": "​",
            "_view_module": "@jupyter-widgets/controls",
            "_model_module_version": "1.5.0",
            "value": " 28.0/28.0 [00:01&lt;00:00, 18.9B/s]",
            "_view_count": null,
            "_view_module_version": "1.5.0",
            "description_tooltip": null,
            "_model_module": "@jupyter-widgets/controls",
            "layout": "IPY_MODEL_230462d1065c40d0aed8bda2bd96ebed"
          }
        },
        "39443ef61eb54a2f9dc970ef679deb55": {
          "model_module": "@jupyter-widgets/controls",
          "model_name": "ProgressStyleModel",
          "state": {
            "_view_name": "StyleView",
            "_model_name": "ProgressStyleModel",
            "description_width": "initial",
            "_view_module": "@jupyter-widgets/base",
            "_model_module_version": "1.5.0",
            "_view_count": null,
            "_view_module_version": "1.2.0",
            "bar_color": null,
            "_model_module": "@jupyter-widgets/controls"
          }
        },
        "55f0863f26dd484f81466bf953d69f84": {
          "model_module": "@jupyter-widgets/base",
          "model_name": "LayoutModel",
          "state": {
            "_view_name": "LayoutView",
            "grid_template_rows": null,
            "right": null,
            "justify_content": null,
            "_view_module": "@jupyter-widgets/base",
            "overflow": null,
            "_model_module_version": "1.2.0",
            "_view_count": null,
            "flex_flow": null,
            "width": null,
            "min_width": null,
            "border": null,
            "align_items": null,
            "bottom": null,
            "_model_module": "@jupyter-widgets/base",
            "top": null,
            "grid_column": null,
            "overflow_y": null,
            "overflow_x": null,
            "grid_auto_flow": null,
            "grid_area": null,
            "grid_template_columns": null,
            "flex": null,
            "_model_name": "LayoutModel",
            "justify_items": null,
            "grid_row": null,
            "max_height": null,
            "align_content": null,
            "visibility": null,
            "align_self": null,
            "height": null,
            "min_height": null,
            "padding": null,
            "grid_auto_rows": null,
            "grid_gap": null,
            "max_width": null,
            "order": null,
            "_view_module_version": "1.2.0",
            "grid_template_areas": null,
            "object_position": null,
            "object_fit": null,
            "grid_auto_columns": null,
            "margin": null,
            "display": null,
            "left": null
          }
        },
        "bd0ed33b9ed04ae8899dab053f115f5d": {
          "model_module": "@jupyter-widgets/controls",
          "model_name": "DescriptionStyleModel",
          "state": {
            "_view_name": "StyleView",
            "_model_name": "DescriptionStyleModel",
            "description_width": "",
            "_view_module": "@jupyter-widgets/base",
            "_model_module_version": "1.5.0",
            "_view_count": null,
            "_view_module_version": "1.2.0",
            "_model_module": "@jupyter-widgets/controls"
          }
        },
        "230462d1065c40d0aed8bda2bd96ebed": {
          "model_module": "@jupyter-widgets/base",
          "model_name": "LayoutModel",
          "state": {
            "_view_name": "LayoutView",
            "grid_template_rows": null,
            "right": null,
            "justify_content": null,
            "_view_module": "@jupyter-widgets/base",
            "overflow": null,
            "_model_module_version": "1.2.0",
            "_view_count": null,
            "flex_flow": null,
            "width": null,
            "min_width": null,
            "border": null,
            "align_items": null,
            "bottom": null,
            "_model_module": "@jupyter-widgets/base",
            "top": null,
            "grid_column": null,
            "overflow_y": null,
            "overflow_x": null,
            "grid_auto_flow": null,
            "grid_area": null,
            "grid_template_columns": null,
            "flex": null,
            "_model_name": "LayoutModel",
            "justify_items": null,
            "grid_row": null,
            "max_height": null,
            "align_content": null,
            "visibility": null,
            "align_self": null,
            "height": null,
            "min_height": null,
            "padding": null,
            "grid_auto_rows": null,
            "grid_gap": null,
            "max_width": null,
            "order": null,
            "_view_module_version": "1.2.0",
            "grid_template_areas": null,
            "object_position": null,
            "object_fit": null,
            "grid_auto_columns": null,
            "margin": null,
            "display": null,
            "left": null
          }
        },
        "97dda1f3205442ba9a717f2dd0dec45d": {
          "model_module": "@jupyter-widgets/controls",
          "model_name": "HBoxModel",
          "state": {
            "_view_name": "HBoxView",
            "_dom_classes": [],
            "_model_name": "HBoxModel",
            "_view_module": "@jupyter-widgets/controls",
            "_model_module_version": "1.5.0",
            "_view_count": null,
            "_view_module_version": "1.5.0",
            "box_style": "",
            "layout": "IPY_MODEL_08ef3b639c434f12ae73d67fd78a875f",
            "_model_module": "@jupyter-widgets/controls",
            "children": [
              "IPY_MODEL_27ac5f42541d4e9996feb4221a5eed66",
              "IPY_MODEL_7ee52677e4f645058711d4edf68de5a7"
            ]
          }
        },
        "08ef3b639c434f12ae73d67fd78a875f": {
          "model_module": "@jupyter-widgets/base",
          "model_name": "LayoutModel",
          "state": {
            "_view_name": "LayoutView",
            "grid_template_rows": null,
            "right": null,
            "justify_content": null,
            "_view_module": "@jupyter-widgets/base",
            "overflow": null,
            "_model_module_version": "1.2.0",
            "_view_count": null,
            "flex_flow": null,
            "width": null,
            "min_width": null,
            "border": null,
            "align_items": null,
            "bottom": null,
            "_model_module": "@jupyter-widgets/base",
            "top": null,
            "grid_column": null,
            "overflow_y": null,
            "overflow_x": null,
            "grid_auto_flow": null,
            "grid_area": null,
            "grid_template_columns": null,
            "flex": null,
            "_model_name": "LayoutModel",
            "justify_items": null,
            "grid_row": null,
            "max_height": null,
            "align_content": null,
            "visibility": null,
            "align_self": null,
            "height": null,
            "min_height": null,
            "padding": null,
            "grid_auto_rows": null,
            "grid_gap": null,
            "max_width": null,
            "order": null,
            "_view_module_version": "1.2.0",
            "grid_template_areas": null,
            "object_position": null,
            "object_fit": null,
            "grid_auto_columns": null,
            "margin": null,
            "display": null,
            "left": null
          }
        },
        "27ac5f42541d4e9996feb4221a5eed66": {
          "model_module": "@jupyter-widgets/controls",
          "model_name": "FloatProgressModel",
          "state": {
            "_view_name": "ProgressView",
            "style": "IPY_MODEL_f6c512a3be8d425996ba02c084714ecc",
            "_dom_classes": [],
            "description": "Downloading: 100%",
            "_model_name": "FloatProgressModel",
            "bar_style": "success",
            "max": 466062,
            "_view_module": "@jupyter-widgets/controls",
            "_model_module_version": "1.5.0",
            "value": 466062,
            "_view_count": null,
            "_view_module_version": "1.5.0",
            "orientation": "horizontal",
            "min": 0,
            "description_tooltip": null,
            "_model_module": "@jupyter-widgets/controls",
            "layout": "IPY_MODEL_d43fe1a66e1842c3a7ff3abe07e542f0"
          }
        },
        "7ee52677e4f645058711d4edf68de5a7": {
          "model_module": "@jupyter-widgets/controls",
          "model_name": "HTMLModel",
          "state": {
            "_view_name": "HTMLView",
            "style": "IPY_MODEL_500520ae8d8a4b07a9d4ffbdac2d6747",
            "_dom_classes": [],
            "description": "",
            "_model_name": "HTMLModel",
            "placeholder": "​",
            "_view_module": "@jupyter-widgets/controls",
            "_model_module_version": "1.5.0",
            "value": " 466k/466k [00:00&lt;00:00, 834kB/s]",
            "_view_count": null,
            "_view_module_version": "1.5.0",
            "description_tooltip": null,
            "_model_module": "@jupyter-widgets/controls",
            "layout": "IPY_MODEL_9eff15c520f64aa6a3ac6721bff56aba"
          }
        },
        "f6c512a3be8d425996ba02c084714ecc": {
          "model_module": "@jupyter-widgets/controls",
          "model_name": "ProgressStyleModel",
          "state": {
            "_view_name": "StyleView",
            "_model_name": "ProgressStyleModel",
            "description_width": "initial",
            "_view_module": "@jupyter-widgets/base",
            "_model_module_version": "1.5.0",
            "_view_count": null,
            "_view_module_version": "1.2.0",
            "bar_color": null,
            "_model_module": "@jupyter-widgets/controls"
          }
        },
        "d43fe1a66e1842c3a7ff3abe07e542f0": {
          "model_module": "@jupyter-widgets/base",
          "model_name": "LayoutModel",
          "state": {
            "_view_name": "LayoutView",
            "grid_template_rows": null,
            "right": null,
            "justify_content": null,
            "_view_module": "@jupyter-widgets/base",
            "overflow": null,
            "_model_module_version": "1.2.0",
            "_view_count": null,
            "flex_flow": null,
            "width": null,
            "min_width": null,
            "border": null,
            "align_items": null,
            "bottom": null,
            "_model_module": "@jupyter-widgets/base",
            "top": null,
            "grid_column": null,
            "overflow_y": null,
            "overflow_x": null,
            "grid_auto_flow": null,
            "grid_area": null,
            "grid_template_columns": null,
            "flex": null,
            "_model_name": "LayoutModel",
            "justify_items": null,
            "grid_row": null,
            "max_height": null,
            "align_content": null,
            "visibility": null,
            "align_self": null,
            "height": null,
            "min_height": null,
            "padding": null,
            "grid_auto_rows": null,
            "grid_gap": null,
            "max_width": null,
            "order": null,
            "_view_module_version": "1.2.0",
            "grid_template_areas": null,
            "object_position": null,
            "object_fit": null,
            "grid_auto_columns": null,
            "margin": null,
            "display": null,
            "left": null
          }
        },
        "500520ae8d8a4b07a9d4ffbdac2d6747": {
          "model_module": "@jupyter-widgets/controls",
          "model_name": "DescriptionStyleModel",
          "state": {
            "_view_name": "StyleView",
            "_model_name": "DescriptionStyleModel",
            "description_width": "",
            "_view_module": "@jupyter-widgets/base",
            "_model_module_version": "1.5.0",
            "_view_count": null,
            "_view_module_version": "1.2.0",
            "_model_module": "@jupyter-widgets/controls"
          }
        },
        "9eff15c520f64aa6a3ac6721bff56aba": {
          "model_module": "@jupyter-widgets/base",
          "model_name": "LayoutModel",
          "state": {
            "_view_name": "LayoutView",
            "grid_template_rows": null,
            "right": null,
            "justify_content": null,
            "_view_module": "@jupyter-widgets/base",
            "overflow": null,
            "_model_module_version": "1.2.0",
            "_view_count": null,
            "flex_flow": null,
            "width": null,
            "min_width": null,
            "border": null,
            "align_items": null,
            "bottom": null,
            "_model_module": "@jupyter-widgets/base",
            "top": null,
            "grid_column": null,
            "overflow_y": null,
            "overflow_x": null,
            "grid_auto_flow": null,
            "grid_area": null,
            "grid_template_columns": null,
            "flex": null,
            "_model_name": "LayoutModel",
            "justify_items": null,
            "grid_row": null,
            "max_height": null,
            "align_content": null,
            "visibility": null,
            "align_self": null,
            "height": null,
            "min_height": null,
            "padding": null,
            "grid_auto_rows": null,
            "grid_gap": null,
            "max_width": null,
            "order": null,
            "_view_module_version": "1.2.0",
            "grid_template_areas": null,
            "object_position": null,
            "object_fit": null,
            "grid_auto_columns": null,
            "margin": null,
            "display": null,
            "left": null
          }
        },
        "9682d236b1f14f6d9a5d466458beaf2c": {
          "model_module": "@jupyter-widgets/controls",
          "model_name": "HBoxModel",
          "state": {
            "_view_name": "HBoxView",
            "_dom_classes": [],
            "_model_name": "HBoxModel",
            "_view_module": "@jupyter-widgets/controls",
            "_model_module_version": "1.5.0",
            "_view_count": null,
            "_view_module_version": "1.5.0",
            "box_style": "",
            "layout": "IPY_MODEL_47778129b21e4b1ab88750557e39e94f",
            "_model_module": "@jupyter-widgets/controls",
            "children": [
              "IPY_MODEL_c3a7fb759c124063ae0285bb32f2c1dc",
              "IPY_MODEL_bf771ae5914e49fc9ef88fc9c581cc4a"
            ]
          }
        },
        "47778129b21e4b1ab88750557e39e94f": {
          "model_module": "@jupyter-widgets/base",
          "model_name": "LayoutModel",
          "state": {
            "_view_name": "LayoutView",
            "grid_template_rows": null,
            "right": null,
            "justify_content": null,
            "_view_module": "@jupyter-widgets/base",
            "overflow": null,
            "_model_module_version": "1.2.0",
            "_view_count": null,
            "flex_flow": null,
            "width": null,
            "min_width": null,
            "border": null,
            "align_items": null,
            "bottom": null,
            "_model_module": "@jupyter-widgets/base",
            "top": null,
            "grid_column": null,
            "overflow_y": null,
            "overflow_x": null,
            "grid_auto_flow": null,
            "grid_area": null,
            "grid_template_columns": null,
            "flex": null,
            "_model_name": "LayoutModel",
            "justify_items": null,
            "grid_row": null,
            "max_height": null,
            "align_content": null,
            "visibility": null,
            "align_self": null,
            "height": null,
            "min_height": null,
            "padding": null,
            "grid_auto_rows": null,
            "grid_gap": null,
            "max_width": null,
            "order": null,
            "_view_module_version": "1.2.0",
            "grid_template_areas": null,
            "object_position": null,
            "object_fit": null,
            "grid_auto_columns": null,
            "margin": null,
            "display": null,
            "left": null
          }
        },
        "c3a7fb759c124063ae0285bb32f2c1dc": {
          "model_module": "@jupyter-widgets/controls",
          "model_name": "FloatProgressModel",
          "state": {
            "_view_name": "ProgressView",
            "style": "IPY_MODEL_7165d4ad4e8e42aa89c2f21b38cb80da",
            "_dom_classes": [],
            "description": "Downloading: ",
            "_model_name": "FloatProgressModel",
            "bar_style": "success",
            "max": 1947,
            "_view_module": "@jupyter-widgets/controls",
            "_model_module_version": "1.5.0",
            "value": 1947,
            "_view_count": null,
            "_view_module_version": "1.5.0",
            "orientation": "horizontal",
            "min": 0,
            "description_tooltip": null,
            "_model_module": "@jupyter-widgets/controls",
            "layout": "IPY_MODEL_ea8bab9736b04550830b373d4c2be1a9"
          }
        },
        "bf771ae5914e49fc9ef88fc9c581cc4a": {
          "model_module": "@jupyter-widgets/controls",
          "model_name": "HTMLModel",
          "state": {
            "_view_name": "HTMLView",
            "style": "IPY_MODEL_de2728dda4f44ade9a3c7cd7d19ab3b7",
            "_dom_classes": [],
            "description": "",
            "_model_name": "HTMLModel",
            "placeholder": "​",
            "_view_module": "@jupyter-widgets/controls",
            "_model_module_version": "1.5.0",
            "value": " 5.29k/? [00:00&lt;00:00, 35.4kB/s]",
            "_view_count": null,
            "_view_module_version": "1.5.0",
            "description_tooltip": null,
            "_model_module": "@jupyter-widgets/controls",
            "layout": "IPY_MODEL_81d3896278af46be83a0e30c1f62c605"
          }
        },
        "7165d4ad4e8e42aa89c2f21b38cb80da": {
          "model_module": "@jupyter-widgets/controls",
          "model_name": "ProgressStyleModel",
          "state": {
            "_view_name": "StyleView",
            "_model_name": "ProgressStyleModel",
            "description_width": "initial",
            "_view_module": "@jupyter-widgets/base",
            "_model_module_version": "1.5.0",
            "_view_count": null,
            "_view_module_version": "1.2.0",
            "bar_color": null,
            "_model_module": "@jupyter-widgets/controls"
          }
        },
        "ea8bab9736b04550830b373d4c2be1a9": {
          "model_module": "@jupyter-widgets/base",
          "model_name": "LayoutModel",
          "state": {
            "_view_name": "LayoutView",
            "grid_template_rows": null,
            "right": null,
            "justify_content": null,
            "_view_module": "@jupyter-widgets/base",
            "overflow": null,
            "_model_module_version": "1.2.0",
            "_view_count": null,
            "flex_flow": null,
            "width": null,
            "min_width": null,
            "border": null,
            "align_items": null,
            "bottom": null,
            "_model_module": "@jupyter-widgets/base",
            "top": null,
            "grid_column": null,
            "overflow_y": null,
            "overflow_x": null,
            "grid_auto_flow": null,
            "grid_area": null,
            "grid_template_columns": null,
            "flex": null,
            "_model_name": "LayoutModel",
            "justify_items": null,
            "grid_row": null,
            "max_height": null,
            "align_content": null,
            "visibility": null,
            "align_self": null,
            "height": null,
            "min_height": null,
            "padding": null,
            "grid_auto_rows": null,
            "grid_gap": null,
            "max_width": null,
            "order": null,
            "_view_module_version": "1.2.0",
            "grid_template_areas": null,
            "object_position": null,
            "object_fit": null,
            "grid_auto_columns": null,
            "margin": null,
            "display": null,
            "left": null
          }
        },
        "de2728dda4f44ade9a3c7cd7d19ab3b7": {
          "model_module": "@jupyter-widgets/controls",
          "model_name": "DescriptionStyleModel",
          "state": {
            "_view_name": "StyleView",
            "_model_name": "DescriptionStyleModel",
            "description_width": "",
            "_view_module": "@jupyter-widgets/base",
            "_model_module_version": "1.5.0",
            "_view_count": null,
            "_view_module_version": "1.2.0",
            "_model_module": "@jupyter-widgets/controls"
          }
        },
        "81d3896278af46be83a0e30c1f62c605": {
          "model_module": "@jupyter-widgets/base",
          "model_name": "LayoutModel",
          "state": {
            "_view_name": "LayoutView",
            "grid_template_rows": null,
            "right": null,
            "justify_content": null,
            "_view_module": "@jupyter-widgets/base",
            "overflow": null,
            "_model_module_version": "1.2.0",
            "_view_count": null,
            "flex_flow": null,
            "width": null,
            "min_width": null,
            "border": null,
            "align_items": null,
            "bottom": null,
            "_model_module": "@jupyter-widgets/base",
            "top": null,
            "grid_column": null,
            "overflow_y": null,
            "overflow_x": null,
            "grid_auto_flow": null,
            "grid_area": null,
            "grid_template_columns": null,
            "flex": null,
            "_model_name": "LayoutModel",
            "justify_items": null,
            "grid_row": null,
            "max_height": null,
            "align_content": null,
            "visibility": null,
            "align_self": null,
            "height": null,
            "min_height": null,
            "padding": null,
            "grid_auto_rows": null,
            "grid_gap": null,
            "max_width": null,
            "order": null,
            "_view_module_version": "1.2.0",
            "grid_template_areas": null,
            "object_position": null,
            "object_fit": null,
            "grid_auto_columns": null,
            "margin": null,
            "display": null,
            "left": null
          }
        },
        "5fda5d278f3b4f2b88ab1aa9d4e7a94a": {
          "model_module": "@jupyter-widgets/controls",
          "model_name": "HBoxModel",
          "state": {
            "_view_name": "HBoxView",
            "_dom_classes": [],
            "_model_name": "HBoxModel",
            "_view_module": "@jupyter-widgets/controls",
            "_model_module_version": "1.5.0",
            "_view_count": null,
            "_view_module_version": "1.5.0",
            "box_style": "",
            "layout": "IPY_MODEL_9bac08a97d654a06b730793e8ac2b644",
            "_model_module": "@jupyter-widgets/controls",
            "children": [
              "IPY_MODEL_74820ca738db4e8c96d66c828e9fded9",
              "IPY_MODEL_e2cc18176eef4f90ac0db167cce4f861"
            ]
          }
        },
        "9bac08a97d654a06b730793e8ac2b644": {
          "model_module": "@jupyter-widgets/base",
          "model_name": "LayoutModel",
          "state": {
            "_view_name": "LayoutView",
            "grid_template_rows": null,
            "right": null,
            "justify_content": null,
            "_view_module": "@jupyter-widgets/base",
            "overflow": null,
            "_model_module_version": "1.2.0",
            "_view_count": null,
            "flex_flow": null,
            "width": null,
            "min_width": null,
            "border": null,
            "align_items": null,
            "bottom": null,
            "_model_module": "@jupyter-widgets/base",
            "top": null,
            "grid_column": null,
            "overflow_y": null,
            "overflow_x": null,
            "grid_auto_flow": null,
            "grid_area": null,
            "grid_template_columns": null,
            "flex": null,
            "_model_name": "LayoutModel",
            "justify_items": null,
            "grid_row": null,
            "max_height": null,
            "align_content": null,
            "visibility": null,
            "align_self": null,
            "height": null,
            "min_height": null,
            "padding": null,
            "grid_auto_rows": null,
            "grid_gap": null,
            "max_width": null,
            "order": null,
            "_view_module_version": "1.2.0",
            "grid_template_areas": null,
            "object_position": null,
            "object_fit": null,
            "grid_auto_columns": null,
            "margin": null,
            "display": null,
            "left": null
          }
        },
        "74820ca738db4e8c96d66c828e9fded9": {
          "model_module": "@jupyter-widgets/controls",
          "model_name": "FloatProgressModel",
          "state": {
            "_view_name": "ProgressView",
            "style": "IPY_MODEL_b536b3f2aaca49b1b70c74915d8ed455",
            "_dom_classes": [],
            "description": "Downloading: ",
            "_model_name": "FloatProgressModel",
            "bar_style": "success",
            "max": 1021,
            "_view_module": "@jupyter-widgets/controls",
            "_model_module_version": "1.5.0",
            "value": 1021,
            "_view_count": null,
            "_view_module_version": "1.5.0",
            "orientation": "horizontal",
            "min": 0,
            "description_tooltip": null,
            "_model_module": "@jupyter-widgets/controls",
            "layout": "IPY_MODEL_bec704dba23e423bb09444a0ed868238"
          }
        },
        "e2cc18176eef4f90ac0db167cce4f861": {
          "model_module": "@jupyter-widgets/controls",
          "model_name": "HTMLModel",
          "state": {
            "_view_name": "HTMLView",
            "style": "IPY_MODEL_304d22a9fd2c4c1b955f919289af3de2",
            "_dom_classes": [],
            "description": "",
            "_model_name": "HTMLModel",
            "placeholder": "​",
            "_view_module": "@jupyter-widgets/controls",
            "_model_module_version": "1.5.0",
            "value": " 2.36k/? [00:02&lt;00:00, 1.12kB/s]",
            "_view_count": null,
            "_view_module_version": "1.5.0",
            "description_tooltip": null,
            "_model_module": "@jupyter-widgets/controls",
            "layout": "IPY_MODEL_99fef41754a646b4a531968196b7acab"
          }
        },
        "b536b3f2aaca49b1b70c74915d8ed455": {
          "model_module": "@jupyter-widgets/controls",
          "model_name": "ProgressStyleModel",
          "state": {
            "_view_name": "StyleView",
            "_model_name": "ProgressStyleModel",
            "description_width": "initial",
            "_view_module": "@jupyter-widgets/base",
            "_model_module_version": "1.5.0",
            "_view_count": null,
            "_view_module_version": "1.2.0",
            "bar_color": null,
            "_model_module": "@jupyter-widgets/controls"
          }
        },
        "bec704dba23e423bb09444a0ed868238": {
          "model_module": "@jupyter-widgets/base",
          "model_name": "LayoutModel",
          "state": {
            "_view_name": "LayoutView",
            "grid_template_rows": null,
            "right": null,
            "justify_content": null,
            "_view_module": "@jupyter-widgets/base",
            "overflow": null,
            "_model_module_version": "1.2.0",
            "_view_count": null,
            "flex_flow": null,
            "width": null,
            "min_width": null,
            "border": null,
            "align_items": null,
            "bottom": null,
            "_model_module": "@jupyter-widgets/base",
            "top": null,
            "grid_column": null,
            "overflow_y": null,
            "overflow_x": null,
            "grid_auto_flow": null,
            "grid_area": null,
            "grid_template_columns": null,
            "flex": null,
            "_model_name": "LayoutModel",
            "justify_items": null,
            "grid_row": null,
            "max_height": null,
            "align_content": null,
            "visibility": null,
            "align_self": null,
            "height": null,
            "min_height": null,
            "padding": null,
            "grid_auto_rows": null,
            "grid_gap": null,
            "max_width": null,
            "order": null,
            "_view_module_version": "1.2.0",
            "grid_template_areas": null,
            "object_position": null,
            "object_fit": null,
            "grid_auto_columns": null,
            "margin": null,
            "display": null,
            "left": null
          }
        },
        "304d22a9fd2c4c1b955f919289af3de2": {
          "model_module": "@jupyter-widgets/controls",
          "model_name": "DescriptionStyleModel",
          "state": {
            "_view_name": "StyleView",
            "_model_name": "DescriptionStyleModel",
            "description_width": "",
            "_view_module": "@jupyter-widgets/base",
            "_model_module_version": "1.5.0",
            "_view_count": null,
            "_view_module_version": "1.2.0",
            "_model_module": "@jupyter-widgets/controls"
          }
        },
        "99fef41754a646b4a531968196b7acab": {
          "model_module": "@jupyter-widgets/base",
          "model_name": "LayoutModel",
          "state": {
            "_view_name": "LayoutView",
            "grid_template_rows": null,
            "right": null,
            "justify_content": null,
            "_view_module": "@jupyter-widgets/base",
            "overflow": null,
            "_model_module_version": "1.2.0",
            "_view_count": null,
            "flex_flow": null,
            "width": null,
            "min_width": null,
            "border": null,
            "align_items": null,
            "bottom": null,
            "_model_module": "@jupyter-widgets/base",
            "top": null,
            "grid_column": null,
            "overflow_y": null,
            "overflow_x": null,
            "grid_auto_flow": null,
            "grid_area": null,
            "grid_template_columns": null,
            "flex": null,
            "_model_name": "LayoutModel",
            "justify_items": null,
            "grid_row": null,
            "max_height": null,
            "align_content": null,
            "visibility": null,
            "align_self": null,
            "height": null,
            "min_height": null,
            "padding": null,
            "grid_auto_rows": null,
            "grid_gap": null,
            "max_width": null,
            "order": null,
            "_view_module_version": "1.2.0",
            "grid_template_areas": null,
            "object_position": null,
            "object_fit": null,
            "grid_auto_columns": null,
            "margin": null,
            "display": null,
            "left": null
          }
        },
        "af2f5508bfbc4f6a96fda3101304b387": {
          "model_module": "@jupyter-widgets/controls",
          "model_name": "HBoxModel",
          "state": {
            "_view_name": "HBoxView",
            "_dom_classes": [],
            "_model_name": "HBoxModel",
            "_view_module": "@jupyter-widgets/controls",
            "_model_module_version": "1.5.0",
            "_view_count": null,
            "_view_module_version": "1.5.0",
            "box_style": "",
            "layout": "IPY_MODEL_4e4104d3257144f6a85fc3fdb817760c",
            "_model_module": "@jupyter-widgets/controls",
            "children": [
              "IPY_MODEL_3abf36e368e94f9c8e6820a8a3a60590",
              "IPY_MODEL_3638be53fa8145bdaf4208489d0b079b"
            ]
          }
        },
        "4e4104d3257144f6a85fc3fdb817760c": {
          "model_module": "@jupyter-widgets/base",
          "model_name": "LayoutModel",
          "state": {
            "_view_name": "LayoutView",
            "grid_template_rows": null,
            "right": null,
            "justify_content": null,
            "_view_module": "@jupyter-widgets/base",
            "overflow": null,
            "_model_module_version": "1.2.0",
            "_view_count": null,
            "flex_flow": null,
            "width": null,
            "min_width": null,
            "border": null,
            "align_items": null,
            "bottom": null,
            "_model_module": "@jupyter-widgets/base",
            "top": null,
            "grid_column": null,
            "overflow_y": null,
            "overflow_x": null,
            "grid_auto_flow": null,
            "grid_area": null,
            "grid_template_columns": null,
            "flex": null,
            "_model_name": "LayoutModel",
            "justify_items": null,
            "grid_row": null,
            "max_height": null,
            "align_content": null,
            "visibility": null,
            "align_self": null,
            "height": null,
            "min_height": null,
            "padding": null,
            "grid_auto_rows": null,
            "grid_gap": null,
            "max_width": null,
            "order": null,
            "_view_module_version": "1.2.0",
            "grid_template_areas": null,
            "object_position": null,
            "object_fit": null,
            "grid_auto_columns": null,
            "margin": null,
            "display": null,
            "left": null
          }
        },
        "3abf36e368e94f9c8e6820a8a3a60590": {
          "model_module": "@jupyter-widgets/controls",
          "model_name": "FloatProgressModel",
          "state": {
            "_view_name": "ProgressView",
            "style": "IPY_MODEL_903d87fa836e473e9a31a8cf1c6a7601",
            "_dom_classes": [],
            "description": "Downloading: ",
            "_model_name": "FloatProgressModel",
            "bar_style": "success",
            "max": 8116577,
            "_view_module": "@jupyter-widgets/controls",
            "_model_module_version": "1.5.0",
            "value": 8116577,
            "_view_count": null,
            "_view_module_version": "1.5.0",
            "orientation": "horizontal",
            "min": 0,
            "description_tooltip": null,
            "_model_module": "@jupyter-widgets/controls",
            "layout": "IPY_MODEL_c08438a1ecd141ed95c8809f7ddcf26a"
          }
        },
        "3638be53fa8145bdaf4208489d0b079b": {
          "model_module": "@jupyter-widgets/controls",
          "model_name": "HTMLModel",
          "state": {
            "_view_name": "HTMLView",
            "style": "IPY_MODEL_d661376dd5c44332856da9a4cf9f1335",
            "_dom_classes": [],
            "description": "",
            "_model_name": "HTMLModel",
            "placeholder": "​",
            "_view_module": "@jupyter-widgets/controls",
            "_model_module_version": "1.5.0",
            "value": " 30.3M/? [00:01&lt;00:00, 25.5MB/s]",
            "_view_count": null,
            "_view_module_version": "1.5.0",
            "description_tooltip": null,
            "_model_module": "@jupyter-widgets/controls",
            "layout": "IPY_MODEL_f3e9571a2e084e4b8ac16cfc38ddf1b4"
          }
        },
        "903d87fa836e473e9a31a8cf1c6a7601": {
          "model_module": "@jupyter-widgets/controls",
          "model_name": "ProgressStyleModel",
          "state": {
            "_view_name": "StyleView",
            "_model_name": "ProgressStyleModel",
            "description_width": "initial",
            "_view_module": "@jupyter-widgets/base",
            "_model_module_version": "1.5.0",
            "_view_count": null,
            "_view_module_version": "1.2.0",
            "bar_color": null,
            "_model_module": "@jupyter-widgets/controls"
          }
        },
        "c08438a1ecd141ed95c8809f7ddcf26a": {
          "model_module": "@jupyter-widgets/base",
          "model_name": "LayoutModel",
          "state": {
            "_view_name": "LayoutView",
            "grid_template_rows": null,
            "right": null,
            "justify_content": null,
            "_view_module": "@jupyter-widgets/base",
            "overflow": null,
            "_model_module_version": "1.2.0",
            "_view_count": null,
            "flex_flow": null,
            "width": null,
            "min_width": null,
            "border": null,
            "align_items": null,
            "bottom": null,
            "_model_module": "@jupyter-widgets/base",
            "top": null,
            "grid_column": null,
            "overflow_y": null,
            "overflow_x": null,
            "grid_auto_flow": null,
            "grid_area": null,
            "grid_template_columns": null,
            "flex": null,
            "_model_name": "LayoutModel",
            "justify_items": null,
            "grid_row": null,
            "max_height": null,
            "align_content": null,
            "visibility": null,
            "align_self": null,
            "height": null,
            "min_height": null,
            "padding": null,
            "grid_auto_rows": null,
            "grid_gap": null,
            "max_width": null,
            "order": null,
            "_view_module_version": "1.2.0",
            "grid_template_areas": null,
            "object_position": null,
            "object_fit": null,
            "grid_auto_columns": null,
            "margin": null,
            "display": null,
            "left": null
          }
        },
        "d661376dd5c44332856da9a4cf9f1335": {
          "model_module": "@jupyter-widgets/controls",
          "model_name": "DescriptionStyleModel",
          "state": {
            "_view_name": "StyleView",
            "_model_name": "DescriptionStyleModel",
            "description_width": "",
            "_view_module": "@jupyter-widgets/base",
            "_model_module_version": "1.5.0",
            "_view_count": null,
            "_view_module_version": "1.2.0",
            "_model_module": "@jupyter-widgets/controls"
          }
        },
        "f3e9571a2e084e4b8ac16cfc38ddf1b4": {
          "model_module": "@jupyter-widgets/base",
          "model_name": "LayoutModel",
          "state": {
            "_view_name": "LayoutView",
            "grid_template_rows": null,
            "right": null,
            "justify_content": null,
            "_view_module": "@jupyter-widgets/base",
            "overflow": null,
            "_model_module_version": "1.2.0",
            "_view_count": null,
            "flex_flow": null,
            "width": null,
            "min_width": null,
            "border": null,
            "align_items": null,
            "bottom": null,
            "_model_module": "@jupyter-widgets/base",
            "top": null,
            "grid_column": null,
            "overflow_y": null,
            "overflow_x": null,
            "grid_auto_flow": null,
            "grid_area": null,
            "grid_template_columns": null,
            "flex": null,
            "_model_name": "LayoutModel",
            "justify_items": null,
            "grid_row": null,
            "max_height": null,
            "align_content": null,
            "visibility": null,
            "align_self": null,
            "height": null,
            "min_height": null,
            "padding": null,
            "grid_auto_rows": null,
            "grid_gap": null,
            "max_width": null,
            "order": null,
            "_view_module_version": "1.2.0",
            "grid_template_areas": null,
            "object_position": null,
            "object_fit": null,
            "grid_auto_columns": null,
            "margin": null,
            "display": null,
            "left": null
          }
        },
        "56272bb483334c329af56692f981f050": {
          "model_module": "@jupyter-widgets/controls",
          "model_name": "HBoxModel",
          "state": {
            "_view_name": "HBoxView",
            "_dom_classes": [],
            "_model_name": "HBoxModel",
            "_view_module": "@jupyter-widgets/controls",
            "_model_module_version": "1.5.0",
            "_view_count": null,
            "_view_module_version": "1.5.0",
            "box_style": "",
            "layout": "IPY_MODEL_696bb5681ac14789a0fe45dc4d3a23a9",
            "_model_module": "@jupyter-widgets/controls",
            "children": [
              "IPY_MODEL_9861ef684f24462e8c1b03f13bfeb070",
              "IPY_MODEL_a9c62bbb8c2046d99685920827122b2a"
            ]
          }
        },
        "696bb5681ac14789a0fe45dc4d3a23a9": {
          "model_module": "@jupyter-widgets/base",
          "model_name": "LayoutModel",
          "state": {
            "_view_name": "LayoutView",
            "grid_template_rows": null,
            "right": null,
            "justify_content": null,
            "_view_module": "@jupyter-widgets/base",
            "overflow": null,
            "_model_module_version": "1.2.0",
            "_view_count": null,
            "flex_flow": null,
            "width": null,
            "min_width": null,
            "border": null,
            "align_items": null,
            "bottom": null,
            "_model_module": "@jupyter-widgets/base",
            "top": null,
            "grid_column": null,
            "overflow_y": null,
            "overflow_x": null,
            "grid_auto_flow": null,
            "grid_area": null,
            "grid_template_columns": null,
            "flex": null,
            "_model_name": "LayoutModel",
            "justify_items": null,
            "grid_row": null,
            "max_height": null,
            "align_content": null,
            "visibility": null,
            "align_self": null,
            "height": null,
            "min_height": null,
            "padding": null,
            "grid_auto_rows": null,
            "grid_gap": null,
            "max_width": null,
            "order": null,
            "_view_module_version": "1.2.0",
            "grid_template_areas": null,
            "object_position": null,
            "object_fit": null,
            "grid_auto_columns": null,
            "margin": null,
            "display": null,
            "left": null
          }
        },
        "9861ef684f24462e8c1b03f13bfeb070": {
          "model_module": "@jupyter-widgets/controls",
          "model_name": "FloatProgressModel",
          "state": {
            "_view_name": "ProgressView",
            "style": "IPY_MODEL_fb761a3d3d2b4c728355fff2da6eb0e1",
            "_dom_classes": [],
            "description": "Downloading: ",
            "_model_name": "FloatProgressModel",
            "bar_style": "success",
            "max": 1054280,
            "_view_module": "@jupyter-widgets/controls",
            "_model_module_version": "1.5.0",
            "value": 1054280,
            "_view_count": null,
            "_view_module_version": "1.5.0",
            "orientation": "horizontal",
            "min": 0,
            "description_tooltip": null,
            "_model_module": "@jupyter-widgets/controls",
            "layout": "IPY_MODEL_df3a2f22afba4d2f94299f8e24d20d3b"
          }
        },
        "a9c62bbb8c2046d99685920827122b2a": {
          "model_module": "@jupyter-widgets/controls",
          "model_name": "HTMLModel",
          "state": {
            "_view_name": "HTMLView",
            "style": "IPY_MODEL_59d29630173a443ca1f84f58bfbbe90d",
            "_dom_classes": [],
            "description": "",
            "_model_name": "HTMLModel",
            "placeholder": "​",
            "_view_module": "@jupyter-widgets/controls",
            "_model_module_version": "1.5.0",
            "value": " 4.85M/? [00:00&lt;00:00, 19.8MB/s]",
            "_view_count": null,
            "_view_module_version": "1.5.0",
            "description_tooltip": null,
            "_model_module": "@jupyter-widgets/controls",
            "layout": "IPY_MODEL_1395c770ef2c4eccacd3efd627f7ced1"
          }
        },
        "fb761a3d3d2b4c728355fff2da6eb0e1": {
          "model_module": "@jupyter-widgets/controls",
          "model_name": "ProgressStyleModel",
          "state": {
            "_view_name": "StyleView",
            "_model_name": "ProgressStyleModel",
            "description_width": "initial",
            "_view_module": "@jupyter-widgets/base",
            "_model_module_version": "1.5.0",
            "_view_count": null,
            "_view_module_version": "1.2.0",
            "bar_color": null,
            "_model_module": "@jupyter-widgets/controls"
          }
        },
        "df3a2f22afba4d2f94299f8e24d20d3b": {
          "model_module": "@jupyter-widgets/base",
          "model_name": "LayoutModel",
          "state": {
            "_view_name": "LayoutView",
            "grid_template_rows": null,
            "right": null,
            "justify_content": null,
            "_view_module": "@jupyter-widgets/base",
            "overflow": null,
            "_model_module_version": "1.2.0",
            "_view_count": null,
            "flex_flow": null,
            "width": null,
            "min_width": null,
            "border": null,
            "align_items": null,
            "bottom": null,
            "_model_module": "@jupyter-widgets/base",
            "top": null,
            "grid_column": null,
            "overflow_y": null,
            "overflow_x": null,
            "grid_auto_flow": null,
            "grid_area": null,
            "grid_template_columns": null,
            "flex": null,
            "_model_name": "LayoutModel",
            "justify_items": null,
            "grid_row": null,
            "max_height": null,
            "align_content": null,
            "visibility": null,
            "align_self": null,
            "height": null,
            "min_height": null,
            "padding": null,
            "grid_auto_rows": null,
            "grid_gap": null,
            "max_width": null,
            "order": null,
            "_view_module_version": "1.2.0",
            "grid_template_areas": null,
            "object_position": null,
            "object_fit": null,
            "grid_auto_columns": null,
            "margin": null,
            "display": null,
            "left": null
          }
        },
        "59d29630173a443ca1f84f58bfbbe90d": {
          "model_module": "@jupyter-widgets/controls",
          "model_name": "DescriptionStyleModel",
          "state": {
            "_view_name": "StyleView",
            "_model_name": "DescriptionStyleModel",
            "description_width": "",
            "_view_module": "@jupyter-widgets/base",
            "_model_module_version": "1.5.0",
            "_view_count": null,
            "_view_module_version": "1.2.0",
            "_model_module": "@jupyter-widgets/controls"
          }
        },
        "1395c770ef2c4eccacd3efd627f7ced1": {
          "model_module": "@jupyter-widgets/base",
          "model_name": "LayoutModel",
          "state": {
            "_view_name": "LayoutView",
            "grid_template_rows": null,
            "right": null,
            "justify_content": null,
            "_view_module": "@jupyter-widgets/base",
            "overflow": null,
            "_model_module_version": "1.2.0",
            "_view_count": null,
            "flex_flow": null,
            "width": null,
            "min_width": null,
            "border": null,
            "align_items": null,
            "bottom": null,
            "_model_module": "@jupyter-widgets/base",
            "top": null,
            "grid_column": null,
            "overflow_y": null,
            "overflow_x": null,
            "grid_auto_flow": null,
            "grid_area": null,
            "grid_template_columns": null,
            "flex": null,
            "_model_name": "LayoutModel",
            "justify_items": null,
            "grid_row": null,
            "max_height": null,
            "align_content": null,
            "visibility": null,
            "align_self": null,
            "height": null,
            "min_height": null,
            "padding": null,
            "grid_auto_rows": null,
            "grid_gap": null,
            "max_width": null,
            "order": null,
            "_view_module_version": "1.2.0",
            "grid_template_areas": null,
            "object_position": null,
            "object_fit": null,
            "grid_auto_columns": null,
            "margin": null,
            "display": null,
            "left": null
          }
        },
        "baf5d5a70d36492e80a67eb99ba37ec0": {
          "model_module": "@jupyter-widgets/controls",
          "model_name": "HBoxModel",
          "state": {
            "_view_name": "HBoxView",
            "_dom_classes": [],
            "_model_name": "HBoxModel",
            "_view_module": "@jupyter-widgets/controls",
            "_model_module_version": "1.5.0",
            "_view_count": null,
            "_view_module_version": "1.5.0",
            "box_style": "",
            "layout": "IPY_MODEL_95439036f19a46e193e8c04380860f95",
            "_model_module": "@jupyter-widgets/controls",
            "children": [
              "IPY_MODEL_3179ea28629f4313a06aca487eef4642",
              "IPY_MODEL_d181b174002f430bb165690b4ea29906"
            ]
          }
        },
        "95439036f19a46e193e8c04380860f95": {
          "model_module": "@jupyter-widgets/base",
          "model_name": "LayoutModel",
          "state": {
            "_view_name": "LayoutView",
            "grid_template_rows": null,
            "right": null,
            "justify_content": null,
            "_view_module": "@jupyter-widgets/base",
            "overflow": null,
            "_model_module_version": "1.2.0",
            "_view_count": null,
            "flex_flow": null,
            "width": null,
            "min_width": null,
            "border": null,
            "align_items": null,
            "bottom": null,
            "_model_module": "@jupyter-widgets/base",
            "top": null,
            "grid_column": null,
            "overflow_y": null,
            "overflow_x": null,
            "grid_auto_flow": null,
            "grid_area": null,
            "grid_template_columns": null,
            "flex": null,
            "_model_name": "LayoutModel",
            "justify_items": null,
            "grid_row": null,
            "max_height": null,
            "align_content": null,
            "visibility": null,
            "align_self": null,
            "height": null,
            "min_height": null,
            "padding": null,
            "grid_auto_rows": null,
            "grid_gap": null,
            "max_width": null,
            "order": null,
            "_view_module_version": "1.2.0",
            "grid_template_areas": null,
            "object_position": null,
            "object_fit": null,
            "grid_auto_columns": null,
            "margin": null,
            "display": null,
            "left": null
          }
        },
        "3179ea28629f4313a06aca487eef4642": {
          "model_module": "@jupyter-widgets/controls",
          "model_name": "FloatProgressModel",
          "state": {
            "_view_name": "ProgressView",
            "style": "IPY_MODEL_00b68ebfab9241968a60d44cb5793d51",
            "_dom_classes": [],
            "description": "",
            "_model_name": "FloatProgressModel",
            "bar_style": "info",
            "max": 1,
            "_view_module": "@jupyter-widgets/controls",
            "_model_module_version": "1.5.0",
            "value": 1,
            "_view_count": null,
            "_view_module_version": "1.5.0",
            "orientation": "horizontal",
            "min": 0,
            "description_tooltip": null,
            "_model_module": "@jupyter-widgets/controls",
            "layout": "IPY_MODEL_580eac65ec364d73a8d960720d0848bc"
          }
        },
        "d181b174002f430bb165690b4ea29906": {
          "model_module": "@jupyter-widgets/controls",
          "model_name": "HTMLModel",
          "state": {
            "_view_name": "HTMLView",
            "style": "IPY_MODEL_6b5c3c5f5315449884342c00676a7a5a",
            "_dom_classes": [],
            "description": "",
            "_model_name": "HTMLModel",
            "placeholder": "​",
            "_view_module": "@jupyter-widgets/controls",
            "_model_module_version": "1.5.0",
            "value": " 87599/0 [00:06&lt;00:00, 17923.22 examples/s]",
            "_view_count": null,
            "_view_module_version": "1.5.0",
            "description_tooltip": null,
            "_model_module": "@jupyter-widgets/controls",
            "layout": "IPY_MODEL_f9654cd217684f67b77d2849d320f7e8"
          }
        },
        "00b68ebfab9241968a60d44cb5793d51": {
          "model_module": "@jupyter-widgets/controls",
          "model_name": "ProgressStyleModel",
          "state": {
            "_view_name": "StyleView",
            "_model_name": "ProgressStyleModel",
            "description_width": "initial",
            "_view_module": "@jupyter-widgets/base",
            "_model_module_version": "1.5.0",
            "_view_count": null,
            "_view_module_version": "1.2.0",
            "bar_color": null,
            "_model_module": "@jupyter-widgets/controls"
          }
        },
        "580eac65ec364d73a8d960720d0848bc": {
          "model_module": "@jupyter-widgets/base",
          "model_name": "LayoutModel",
          "state": {
            "_view_name": "LayoutView",
            "grid_template_rows": null,
            "right": null,
            "justify_content": null,
            "_view_module": "@jupyter-widgets/base",
            "overflow": null,
            "_model_module_version": "1.2.0",
            "_view_count": null,
            "flex_flow": null,
            "width": null,
            "min_width": null,
            "border": null,
            "align_items": null,
            "bottom": null,
            "_model_module": "@jupyter-widgets/base",
            "top": null,
            "grid_column": null,
            "overflow_y": null,
            "overflow_x": null,
            "grid_auto_flow": null,
            "grid_area": null,
            "grid_template_columns": null,
            "flex": null,
            "_model_name": "LayoutModel",
            "justify_items": null,
            "grid_row": null,
            "max_height": null,
            "align_content": null,
            "visibility": null,
            "align_self": null,
            "height": null,
            "min_height": null,
            "padding": null,
            "grid_auto_rows": null,
            "grid_gap": null,
            "max_width": null,
            "order": null,
            "_view_module_version": "1.2.0",
            "grid_template_areas": null,
            "object_position": null,
            "object_fit": null,
            "grid_auto_columns": null,
            "margin": null,
            "display": null,
            "left": null
          }
        },
        "6b5c3c5f5315449884342c00676a7a5a": {
          "model_module": "@jupyter-widgets/controls",
          "model_name": "DescriptionStyleModel",
          "state": {
            "_view_name": "StyleView",
            "_model_name": "DescriptionStyleModel",
            "description_width": "",
            "_view_module": "@jupyter-widgets/base",
            "_model_module_version": "1.5.0",
            "_view_count": null,
            "_view_module_version": "1.2.0",
            "_model_module": "@jupyter-widgets/controls"
          }
        },
        "f9654cd217684f67b77d2849d320f7e8": {
          "model_module": "@jupyter-widgets/base",
          "model_name": "LayoutModel",
          "state": {
            "_view_name": "LayoutView",
            "grid_template_rows": null,
            "right": null,
            "justify_content": null,
            "_view_module": "@jupyter-widgets/base",
            "overflow": null,
            "_model_module_version": "1.2.0",
            "_view_count": null,
            "flex_flow": null,
            "width": null,
            "min_width": null,
            "border": null,
            "align_items": null,
            "bottom": null,
            "_model_module": "@jupyter-widgets/base",
            "top": null,
            "grid_column": null,
            "overflow_y": null,
            "overflow_x": null,
            "grid_auto_flow": null,
            "grid_area": null,
            "grid_template_columns": null,
            "flex": null,
            "_model_name": "LayoutModel",
            "justify_items": null,
            "grid_row": null,
            "max_height": null,
            "align_content": null,
            "visibility": null,
            "align_self": null,
            "height": null,
            "min_height": null,
            "padding": null,
            "grid_auto_rows": null,
            "grid_gap": null,
            "max_width": null,
            "order": null,
            "_view_module_version": "1.2.0",
            "grid_template_areas": null,
            "object_position": null,
            "object_fit": null,
            "grid_auto_columns": null,
            "margin": null,
            "display": null,
            "left": null
          }
        },
        "412d827f4dfd4ca8ad0322c5567d7828": {
          "model_module": "@jupyter-widgets/controls",
          "model_name": "HBoxModel",
          "state": {
            "_view_name": "HBoxView",
            "_dom_classes": [],
            "_model_name": "HBoxModel",
            "_view_module": "@jupyter-widgets/controls",
            "_model_module_version": "1.5.0",
            "_view_count": null,
            "_view_module_version": "1.5.0",
            "box_style": "",
            "layout": "IPY_MODEL_6cd09dff9f924afaa57cfb1b1d333850",
            "_model_module": "@jupyter-widgets/controls",
            "children": [
              "IPY_MODEL_3b44acac8de2465b84b8785e4e422c4e",
              "IPY_MODEL_0a469f0faa434535981653caeee2220d"
            ]
          }
        },
        "6cd09dff9f924afaa57cfb1b1d333850": {
          "model_module": "@jupyter-widgets/base",
          "model_name": "LayoutModel",
          "state": {
            "_view_name": "LayoutView",
            "grid_template_rows": null,
            "right": null,
            "justify_content": null,
            "_view_module": "@jupyter-widgets/base",
            "overflow": null,
            "_model_module_version": "1.2.0",
            "_view_count": null,
            "flex_flow": null,
            "width": null,
            "min_width": null,
            "border": null,
            "align_items": null,
            "bottom": null,
            "_model_module": "@jupyter-widgets/base",
            "top": null,
            "grid_column": null,
            "overflow_y": null,
            "overflow_x": null,
            "grid_auto_flow": null,
            "grid_area": null,
            "grid_template_columns": null,
            "flex": null,
            "_model_name": "LayoutModel",
            "justify_items": null,
            "grid_row": null,
            "max_height": null,
            "align_content": null,
            "visibility": null,
            "align_self": null,
            "height": null,
            "min_height": null,
            "padding": null,
            "grid_auto_rows": null,
            "grid_gap": null,
            "max_width": null,
            "order": null,
            "_view_module_version": "1.2.0",
            "grid_template_areas": null,
            "object_position": null,
            "object_fit": null,
            "grid_auto_columns": null,
            "margin": null,
            "display": null,
            "left": null
          }
        },
        "3b44acac8de2465b84b8785e4e422c4e": {
          "model_module": "@jupyter-widgets/controls",
          "model_name": "FloatProgressModel",
          "state": {
            "_view_name": "ProgressView",
            "style": "IPY_MODEL_b34d0eea570e4ff7beb9162fcb821be6",
            "_dom_classes": [],
            "description": "",
            "_model_name": "FloatProgressModel",
            "bar_style": "info",
            "max": 1,
            "_view_module": "@jupyter-widgets/controls",
            "_model_module_version": "1.5.0",
            "value": 1,
            "_view_count": null,
            "_view_module_version": "1.5.0",
            "orientation": "horizontal",
            "min": 0,
            "description_tooltip": null,
            "_model_module": "@jupyter-widgets/controls",
            "layout": "IPY_MODEL_e742895551814aab9e238de77ee6ac1f"
          }
        },
        "0a469f0faa434535981653caeee2220d": {
          "model_module": "@jupyter-widgets/controls",
          "model_name": "HTMLModel",
          "state": {
            "_view_name": "HTMLView",
            "style": "IPY_MODEL_e10b062314724548a1b016c0e08a014b",
            "_dom_classes": [],
            "description": "",
            "_model_name": "HTMLModel",
            "placeholder": "​",
            "_view_module": "@jupyter-widgets/controls",
            "_model_module_version": "1.5.0",
            "value": " 10570/0 [00:01&lt;00:00, 8790.63 examples/s]",
            "_view_count": null,
            "_view_module_version": "1.5.0",
            "description_tooltip": null,
            "_model_module": "@jupyter-widgets/controls",
            "layout": "IPY_MODEL_0b2c7595672c4c0ead0d9bc2ae217e25"
          }
        },
        "b34d0eea570e4ff7beb9162fcb821be6": {
          "model_module": "@jupyter-widgets/controls",
          "model_name": "ProgressStyleModel",
          "state": {
            "_view_name": "StyleView",
            "_model_name": "ProgressStyleModel",
            "description_width": "initial",
            "_view_module": "@jupyter-widgets/base",
            "_model_module_version": "1.5.0",
            "_view_count": null,
            "_view_module_version": "1.2.0",
            "bar_color": null,
            "_model_module": "@jupyter-widgets/controls"
          }
        },
        "e742895551814aab9e238de77ee6ac1f": {
          "model_module": "@jupyter-widgets/base",
          "model_name": "LayoutModel",
          "state": {
            "_view_name": "LayoutView",
            "grid_template_rows": null,
            "right": null,
            "justify_content": null,
            "_view_module": "@jupyter-widgets/base",
            "overflow": null,
            "_model_module_version": "1.2.0",
            "_view_count": null,
            "flex_flow": null,
            "width": null,
            "min_width": null,
            "border": null,
            "align_items": null,
            "bottom": null,
            "_model_module": "@jupyter-widgets/base",
            "top": null,
            "grid_column": null,
            "overflow_y": null,
            "overflow_x": null,
            "grid_auto_flow": null,
            "grid_area": null,
            "grid_template_columns": null,
            "flex": null,
            "_model_name": "LayoutModel",
            "justify_items": null,
            "grid_row": null,
            "max_height": null,
            "align_content": null,
            "visibility": null,
            "align_self": null,
            "height": null,
            "min_height": null,
            "padding": null,
            "grid_auto_rows": null,
            "grid_gap": null,
            "max_width": null,
            "order": null,
            "_view_module_version": "1.2.0",
            "grid_template_areas": null,
            "object_position": null,
            "object_fit": null,
            "grid_auto_columns": null,
            "margin": null,
            "display": null,
            "left": null
          }
        },
        "e10b062314724548a1b016c0e08a014b": {
          "model_module": "@jupyter-widgets/controls",
          "model_name": "DescriptionStyleModel",
          "state": {
            "_view_name": "StyleView",
            "_model_name": "DescriptionStyleModel",
            "description_width": "",
            "_view_module": "@jupyter-widgets/base",
            "_model_module_version": "1.5.0",
            "_view_count": null,
            "_view_module_version": "1.2.0",
            "_model_module": "@jupyter-widgets/controls"
          }
        },
        "0b2c7595672c4c0ead0d9bc2ae217e25": {
          "model_module": "@jupyter-widgets/base",
          "model_name": "LayoutModel",
          "state": {
            "_view_name": "LayoutView",
            "grid_template_rows": null,
            "right": null,
            "justify_content": null,
            "_view_module": "@jupyter-widgets/base",
            "overflow": null,
            "_model_module_version": "1.2.0",
            "_view_count": null,
            "flex_flow": null,
            "width": null,
            "min_width": null,
            "border": null,
            "align_items": null,
            "bottom": null,
            "_model_module": "@jupyter-widgets/base",
            "top": null,
            "grid_column": null,
            "overflow_y": null,
            "overflow_x": null,
            "grid_auto_flow": null,
            "grid_area": null,
            "grid_template_columns": null,
            "flex": null,
            "_model_name": "LayoutModel",
            "justify_items": null,
            "grid_row": null,
            "max_height": null,
            "align_content": null,
            "visibility": null,
            "align_self": null,
            "height": null,
            "min_height": null,
            "padding": null,
            "grid_auto_rows": null,
            "grid_gap": null,
            "max_width": null,
            "order": null,
            "_view_module_version": "1.2.0",
            "grid_template_areas": null,
            "object_position": null,
            "object_fit": null,
            "grid_auto_columns": null,
            "margin": null,
            "display": null,
            "left": null
          }
        },
        "f5ed8e38e4b4407d83b5d9c6516ad618": {
          "model_module": "@jupyter-widgets/controls",
          "model_name": "HBoxModel",
          "state": {
            "_view_name": "HBoxView",
            "_dom_classes": [],
            "_model_name": "HBoxModel",
            "_view_module": "@jupyter-widgets/controls",
            "_model_module_version": "1.5.0",
            "_view_count": null,
            "_view_module_version": "1.5.0",
            "box_style": "",
            "layout": "IPY_MODEL_2f892028c9bc4c6b9cea9f0d2e353dc2",
            "_model_module": "@jupyter-widgets/controls",
            "children": [
              "IPY_MODEL_c3b92a65cd0a4012842d73c4086088c8",
              "IPY_MODEL_54d404bf1a8d4b4aaefed7782383ecde"
            ]
          }
        },
        "2f892028c9bc4c6b9cea9f0d2e353dc2": {
          "model_module": "@jupyter-widgets/base",
          "model_name": "LayoutModel",
          "state": {
            "_view_name": "LayoutView",
            "grid_template_rows": null,
            "right": null,
            "justify_content": null,
            "_view_module": "@jupyter-widgets/base",
            "overflow": null,
            "_model_module_version": "1.2.0",
            "_view_count": null,
            "flex_flow": null,
            "width": null,
            "min_width": null,
            "border": null,
            "align_items": null,
            "bottom": null,
            "_model_module": "@jupyter-widgets/base",
            "top": null,
            "grid_column": null,
            "overflow_y": null,
            "overflow_x": null,
            "grid_auto_flow": null,
            "grid_area": null,
            "grid_template_columns": null,
            "flex": null,
            "_model_name": "LayoutModel",
            "justify_items": null,
            "grid_row": null,
            "max_height": null,
            "align_content": null,
            "visibility": null,
            "align_self": null,
            "height": null,
            "min_height": null,
            "padding": null,
            "grid_auto_rows": null,
            "grid_gap": null,
            "max_width": null,
            "order": null,
            "_view_module_version": "1.2.0",
            "grid_template_areas": null,
            "object_position": null,
            "object_fit": null,
            "grid_auto_columns": null,
            "margin": null,
            "display": null,
            "left": null
          }
        },
        "c3b92a65cd0a4012842d73c4086088c8": {
          "model_module": "@jupyter-widgets/controls",
          "model_name": "FloatProgressModel",
          "state": {
            "_view_name": "ProgressView",
            "style": "IPY_MODEL_c881957e5ca34a188462b064d9bfb4eb",
            "_dom_classes": [],
            "description": "100%",
            "_model_name": "FloatProgressModel",
            "bar_style": "success",
            "max": 59,
            "_view_module": "@jupyter-widgets/controls",
            "_model_module_version": "1.5.0",
            "value": 59,
            "_view_count": null,
            "_view_module_version": "1.5.0",
            "orientation": "horizontal",
            "min": 0,
            "description_tooltip": null,
            "_model_module": "@jupyter-widgets/controls",
            "layout": "IPY_MODEL_6202167ee6d345b2b29089f11e4ed2f1"
          }
        },
        "54d404bf1a8d4b4aaefed7782383ecde": {
          "model_module": "@jupyter-widgets/controls",
          "model_name": "HTMLModel",
          "state": {
            "_view_name": "HTMLView",
            "style": "IPY_MODEL_1b90775d537f469f86a502fc639c4ddb",
            "_dom_classes": [],
            "description": "",
            "_model_name": "HTMLModel",
            "placeholder": "​",
            "_view_module": "@jupyter-widgets/controls",
            "_model_module_version": "1.5.0",
            "value": " 59/59 [00:30&lt;00:00,  1.97ba/s]",
            "_view_count": null,
            "_view_module_version": "1.5.0",
            "description_tooltip": null,
            "_model_module": "@jupyter-widgets/controls",
            "layout": "IPY_MODEL_5f15ef64c5184a0e939a3ad73493b9c2"
          }
        },
        "c881957e5ca34a188462b064d9bfb4eb": {
          "model_module": "@jupyter-widgets/controls",
          "model_name": "ProgressStyleModel",
          "state": {
            "_view_name": "StyleView",
            "_model_name": "ProgressStyleModel",
            "description_width": "initial",
            "_view_module": "@jupyter-widgets/base",
            "_model_module_version": "1.5.0",
            "_view_count": null,
            "_view_module_version": "1.2.0",
            "bar_color": null,
            "_model_module": "@jupyter-widgets/controls"
          }
        },
        "6202167ee6d345b2b29089f11e4ed2f1": {
          "model_module": "@jupyter-widgets/base",
          "model_name": "LayoutModel",
          "state": {
            "_view_name": "LayoutView",
            "grid_template_rows": null,
            "right": null,
            "justify_content": null,
            "_view_module": "@jupyter-widgets/base",
            "overflow": null,
            "_model_module_version": "1.2.0",
            "_view_count": null,
            "flex_flow": null,
            "width": null,
            "min_width": null,
            "border": null,
            "align_items": null,
            "bottom": null,
            "_model_module": "@jupyter-widgets/base",
            "top": null,
            "grid_column": null,
            "overflow_y": null,
            "overflow_x": null,
            "grid_auto_flow": null,
            "grid_area": null,
            "grid_template_columns": null,
            "flex": null,
            "_model_name": "LayoutModel",
            "justify_items": null,
            "grid_row": null,
            "max_height": null,
            "align_content": null,
            "visibility": null,
            "align_self": null,
            "height": null,
            "min_height": null,
            "padding": null,
            "grid_auto_rows": null,
            "grid_gap": null,
            "max_width": null,
            "order": null,
            "_view_module_version": "1.2.0",
            "grid_template_areas": null,
            "object_position": null,
            "object_fit": null,
            "grid_auto_columns": null,
            "margin": null,
            "display": null,
            "left": null
          }
        },
        "1b90775d537f469f86a502fc639c4ddb": {
          "model_module": "@jupyter-widgets/controls",
          "model_name": "DescriptionStyleModel",
          "state": {
            "_view_name": "StyleView",
            "_model_name": "DescriptionStyleModel",
            "description_width": "",
            "_view_module": "@jupyter-widgets/base",
            "_model_module_version": "1.5.0",
            "_view_count": null,
            "_view_module_version": "1.2.0",
            "_model_module": "@jupyter-widgets/controls"
          }
        },
        "5f15ef64c5184a0e939a3ad73493b9c2": {
          "model_module": "@jupyter-widgets/base",
          "model_name": "LayoutModel",
          "state": {
            "_view_name": "LayoutView",
            "grid_template_rows": null,
            "right": null,
            "justify_content": null,
            "_view_module": "@jupyter-widgets/base",
            "overflow": null,
            "_model_module_version": "1.2.0",
            "_view_count": null,
            "flex_flow": null,
            "width": null,
            "min_width": null,
            "border": null,
            "align_items": null,
            "bottom": null,
            "_model_module": "@jupyter-widgets/base",
            "top": null,
            "grid_column": null,
            "overflow_y": null,
            "overflow_x": null,
            "grid_auto_flow": null,
            "grid_area": null,
            "grid_template_columns": null,
            "flex": null,
            "_model_name": "LayoutModel",
            "justify_items": null,
            "grid_row": null,
            "max_height": null,
            "align_content": null,
            "visibility": null,
            "align_self": null,
            "height": null,
            "min_height": null,
            "padding": null,
            "grid_auto_rows": null,
            "grid_gap": null,
            "max_width": null,
            "order": null,
            "_view_module_version": "1.2.0",
            "grid_template_areas": null,
            "object_position": null,
            "object_fit": null,
            "grid_auto_columns": null,
            "margin": null,
            "display": null,
            "left": null
          }
        },
        "d738dc2ae8ea443d995c8fb7818689e6": {
          "model_module": "@jupyter-widgets/controls",
          "model_name": "HBoxModel",
          "state": {
            "_view_name": "HBoxView",
            "_dom_classes": [],
            "_model_name": "HBoxModel",
            "_view_module": "@jupyter-widgets/controls",
            "_model_module_version": "1.5.0",
            "_view_count": null,
            "_view_module_version": "1.5.0",
            "box_style": "",
            "layout": "IPY_MODEL_8dba3b398bd448f5bb566cff7eff8e01",
            "_model_module": "@jupyter-widgets/controls",
            "children": [
              "IPY_MODEL_b98e804f288642339daa0b1ab87a46df",
              "IPY_MODEL_87cc1d01fb0342cb989a5263badc7cb4"
            ]
          }
        },
        "8dba3b398bd448f5bb566cff7eff8e01": {
          "model_module": "@jupyter-widgets/base",
          "model_name": "LayoutModel",
          "state": {
            "_view_name": "LayoutView",
            "grid_template_rows": null,
            "right": null,
            "justify_content": null,
            "_view_module": "@jupyter-widgets/base",
            "overflow": null,
            "_model_module_version": "1.2.0",
            "_view_count": null,
            "flex_flow": null,
            "width": null,
            "min_width": null,
            "border": null,
            "align_items": null,
            "bottom": null,
            "_model_module": "@jupyter-widgets/base",
            "top": null,
            "grid_column": null,
            "overflow_y": null,
            "overflow_x": null,
            "grid_auto_flow": null,
            "grid_area": null,
            "grid_template_columns": null,
            "flex": null,
            "_model_name": "LayoutModel",
            "justify_items": null,
            "grid_row": null,
            "max_height": null,
            "align_content": null,
            "visibility": null,
            "align_self": null,
            "height": null,
            "min_height": null,
            "padding": null,
            "grid_auto_rows": null,
            "grid_gap": null,
            "max_width": null,
            "order": null,
            "_view_module_version": "1.2.0",
            "grid_template_areas": null,
            "object_position": null,
            "object_fit": null,
            "grid_auto_columns": null,
            "margin": null,
            "display": null,
            "left": null
          }
        },
        "b98e804f288642339daa0b1ab87a46df": {
          "model_module": "@jupyter-widgets/controls",
          "model_name": "FloatProgressModel",
          "state": {
            "_view_name": "ProgressView",
            "style": "IPY_MODEL_3260cd759ea049c396fc9ecf0e4057ad",
            "_dom_classes": [],
            "description": "100%",
            "_model_name": "FloatProgressModel",
            "bar_style": "success",
            "max": 11,
            "_view_module": "@jupyter-widgets/controls",
            "_model_module_version": "1.5.0",
            "value": 11,
            "_view_count": null,
            "_view_module_version": "1.5.0",
            "orientation": "horizontal",
            "min": 0,
            "description_tooltip": null,
            "_model_module": "@jupyter-widgets/controls",
            "layout": "IPY_MODEL_8ca632cc43a74b66808c8ef7388ba68c"
          }
        },
        "87cc1d01fb0342cb989a5263badc7cb4": {
          "model_module": "@jupyter-widgets/controls",
          "model_name": "HTMLModel",
          "state": {
            "_view_name": "HTMLView",
            "style": "IPY_MODEL_aaab5f370f714015b3e5be2e5f9165f0",
            "_dom_classes": [],
            "description": "",
            "_model_name": "HTMLModel",
            "placeholder": "​",
            "_view_module": "@jupyter-widgets/controls",
            "_model_module_version": "1.5.0",
            "value": " 11/11 [00:06&lt;00:00,  1.73ba/s]",
            "_view_count": null,
            "_view_module_version": "1.5.0",
            "description_tooltip": null,
            "_model_module": "@jupyter-widgets/controls",
            "layout": "IPY_MODEL_636a9eac22bf4772947966da4279e91b"
          }
        },
        "3260cd759ea049c396fc9ecf0e4057ad": {
          "model_module": "@jupyter-widgets/controls",
          "model_name": "ProgressStyleModel",
          "state": {
            "_view_name": "StyleView",
            "_model_name": "ProgressStyleModel",
            "description_width": "initial",
            "_view_module": "@jupyter-widgets/base",
            "_model_module_version": "1.5.0",
            "_view_count": null,
            "_view_module_version": "1.2.0",
            "bar_color": null,
            "_model_module": "@jupyter-widgets/controls"
          }
        },
        "8ca632cc43a74b66808c8ef7388ba68c": {
          "model_module": "@jupyter-widgets/base",
          "model_name": "LayoutModel",
          "state": {
            "_view_name": "LayoutView",
            "grid_template_rows": null,
            "right": null,
            "justify_content": null,
            "_view_module": "@jupyter-widgets/base",
            "overflow": null,
            "_model_module_version": "1.2.0",
            "_view_count": null,
            "flex_flow": null,
            "width": null,
            "min_width": null,
            "border": null,
            "align_items": null,
            "bottom": null,
            "_model_module": "@jupyter-widgets/base",
            "top": null,
            "grid_column": null,
            "overflow_y": null,
            "overflow_x": null,
            "grid_auto_flow": null,
            "grid_area": null,
            "grid_template_columns": null,
            "flex": null,
            "_model_name": "LayoutModel",
            "justify_items": null,
            "grid_row": null,
            "max_height": null,
            "align_content": null,
            "visibility": null,
            "align_self": null,
            "height": null,
            "min_height": null,
            "padding": null,
            "grid_auto_rows": null,
            "grid_gap": null,
            "max_width": null,
            "order": null,
            "_view_module_version": "1.2.0",
            "grid_template_areas": null,
            "object_position": null,
            "object_fit": null,
            "grid_auto_columns": null,
            "margin": null,
            "display": null,
            "left": null
          }
        },
        "aaab5f370f714015b3e5be2e5f9165f0": {
          "model_module": "@jupyter-widgets/controls",
          "model_name": "DescriptionStyleModel",
          "state": {
            "_view_name": "StyleView",
            "_model_name": "DescriptionStyleModel",
            "description_width": "",
            "_view_module": "@jupyter-widgets/base",
            "_model_module_version": "1.5.0",
            "_view_count": null,
            "_view_module_version": "1.2.0",
            "_model_module": "@jupyter-widgets/controls"
          }
        },
        "636a9eac22bf4772947966da4279e91b": {
          "model_module": "@jupyter-widgets/base",
          "model_name": "LayoutModel",
          "state": {
            "_view_name": "LayoutView",
            "grid_template_rows": null,
            "right": null,
            "justify_content": null,
            "_view_module": "@jupyter-widgets/base",
            "overflow": null,
            "_model_module_version": "1.2.0",
            "_view_count": null,
            "flex_flow": null,
            "width": null,
            "min_width": null,
            "border": null,
            "align_items": null,
            "bottom": null,
            "_model_module": "@jupyter-widgets/base",
            "top": null,
            "grid_column": null,
            "overflow_y": null,
            "overflow_x": null,
            "grid_auto_flow": null,
            "grid_area": null,
            "grid_template_columns": null,
            "flex": null,
            "_model_name": "LayoutModel",
            "justify_items": null,
            "grid_row": null,
            "max_height": null,
            "align_content": null,
            "visibility": null,
            "align_self": null,
            "height": null,
            "min_height": null,
            "padding": null,
            "grid_auto_rows": null,
            "grid_gap": null,
            "max_width": null,
            "order": null,
            "_view_module_version": "1.2.0",
            "grid_template_areas": null,
            "object_position": null,
            "object_fit": null,
            "grid_auto_columns": null,
            "margin": null,
            "display": null,
            "left": null
          }
        },
        "da3d877e32c945aa999b7b5eebd5db03": {
          "model_module": "@jupyter-widgets/controls",
          "model_name": "HBoxModel",
          "state": {
            "_view_name": "HBoxView",
            "_dom_classes": [],
            "_model_name": "HBoxModel",
            "_view_module": "@jupyter-widgets/controls",
            "_model_module_version": "1.5.0",
            "_view_count": null,
            "_view_module_version": "1.5.0",
            "box_style": "",
            "layout": "IPY_MODEL_e76b6bf40b4d440eb6ec653f0393f8fd",
            "_model_module": "@jupyter-widgets/controls",
            "children": [
              "IPY_MODEL_de9866dc89834e06bdd9ed8fe8cc2638",
              "IPY_MODEL_4905ca4ba5834a229575a8f9dcf9c361"
            ]
          }
        },
        "e76b6bf40b4d440eb6ec653f0393f8fd": {
          "model_module": "@jupyter-widgets/base",
          "model_name": "LayoutModel",
          "state": {
            "_view_name": "LayoutView",
            "grid_template_rows": null,
            "right": null,
            "justify_content": null,
            "_view_module": "@jupyter-widgets/base",
            "overflow": null,
            "_model_module_version": "1.2.0",
            "_view_count": null,
            "flex_flow": null,
            "width": null,
            "min_width": null,
            "border": null,
            "align_items": null,
            "bottom": null,
            "_model_module": "@jupyter-widgets/base",
            "top": null,
            "grid_column": null,
            "overflow_y": null,
            "overflow_x": null,
            "grid_auto_flow": null,
            "grid_area": null,
            "grid_template_columns": null,
            "flex": null,
            "_model_name": "LayoutModel",
            "justify_items": null,
            "grid_row": null,
            "max_height": null,
            "align_content": null,
            "visibility": null,
            "align_self": null,
            "height": null,
            "min_height": null,
            "padding": null,
            "grid_auto_rows": null,
            "grid_gap": null,
            "max_width": null,
            "order": null,
            "_view_module_version": "1.2.0",
            "grid_template_areas": null,
            "object_position": null,
            "object_fit": null,
            "grid_auto_columns": null,
            "margin": null,
            "display": null,
            "left": null
          }
        },
        "de9866dc89834e06bdd9ed8fe8cc2638": {
          "model_module": "@jupyter-widgets/controls",
          "model_name": "FloatProgressModel",
          "state": {
            "_view_name": "ProgressView",
            "style": "IPY_MODEL_a64f5fc3f09941c59d0f17551f5c44f1",
            "_dom_classes": [],
            "description": "100%",
            "_model_name": "FloatProgressModel",
            "bar_style": "success",
            "max": 29,
            "_view_module": "@jupyter-widgets/controls",
            "_model_module_version": "1.5.0",
            "value": 29,
            "_view_count": null,
            "_view_module_version": "1.5.0",
            "orientation": "horizontal",
            "min": 0,
            "description_tooltip": null,
            "_model_module": "@jupyter-widgets/controls",
            "layout": "IPY_MODEL_feaafc37b3684796804531838d243140"
          }
        },
        "4905ca4ba5834a229575a8f9dcf9c361": {
          "model_module": "@jupyter-widgets/controls",
          "model_name": "HTMLModel",
          "state": {
            "_view_name": "HTMLView",
            "style": "IPY_MODEL_f58d720e28bf4852887200a86e00fc8d",
            "_dom_classes": [],
            "description": "",
            "_model_name": "HTMLModel",
            "placeholder": "​",
            "_view_module": "@jupyter-widgets/controls",
            "_model_module_version": "1.5.0",
            "value": " 29/29 [00:16&lt;00:00,  1.72ba/s]",
            "_view_count": null,
            "_view_module_version": "1.5.0",
            "description_tooltip": null,
            "_model_module": "@jupyter-widgets/controls",
            "layout": "IPY_MODEL_fedf476a7ab04330a4803d0b499606fe"
          }
        },
        "a64f5fc3f09941c59d0f17551f5c44f1": {
          "model_module": "@jupyter-widgets/controls",
          "model_name": "ProgressStyleModel",
          "state": {
            "_view_name": "StyleView",
            "_model_name": "ProgressStyleModel",
            "description_width": "initial",
            "_view_module": "@jupyter-widgets/base",
            "_model_module_version": "1.5.0",
            "_view_count": null,
            "_view_module_version": "1.2.0",
            "bar_color": null,
            "_model_module": "@jupyter-widgets/controls"
          }
        },
        "feaafc37b3684796804531838d243140": {
          "model_module": "@jupyter-widgets/base",
          "model_name": "LayoutModel",
          "state": {
            "_view_name": "LayoutView",
            "grid_template_rows": null,
            "right": null,
            "justify_content": null,
            "_view_module": "@jupyter-widgets/base",
            "overflow": null,
            "_model_module_version": "1.2.0",
            "_view_count": null,
            "flex_flow": null,
            "width": null,
            "min_width": null,
            "border": null,
            "align_items": null,
            "bottom": null,
            "_model_module": "@jupyter-widgets/base",
            "top": null,
            "grid_column": null,
            "overflow_y": null,
            "overflow_x": null,
            "grid_auto_flow": null,
            "grid_area": null,
            "grid_template_columns": null,
            "flex": null,
            "_model_name": "LayoutModel",
            "justify_items": null,
            "grid_row": null,
            "max_height": null,
            "align_content": null,
            "visibility": null,
            "align_self": null,
            "height": null,
            "min_height": null,
            "padding": null,
            "grid_auto_rows": null,
            "grid_gap": null,
            "max_width": null,
            "order": null,
            "_view_module_version": "1.2.0",
            "grid_template_areas": null,
            "object_position": null,
            "object_fit": null,
            "grid_auto_columns": null,
            "margin": null,
            "display": null,
            "left": null
          }
        },
        "f58d720e28bf4852887200a86e00fc8d": {
          "model_module": "@jupyter-widgets/controls",
          "model_name": "DescriptionStyleModel",
          "state": {
            "_view_name": "StyleView",
            "_model_name": "DescriptionStyleModel",
            "description_width": "",
            "_view_module": "@jupyter-widgets/base",
            "_model_module_version": "1.5.0",
            "_view_count": null,
            "_view_module_version": "1.2.0",
            "_model_module": "@jupyter-widgets/controls"
          }
        },
        "fedf476a7ab04330a4803d0b499606fe": {
          "model_module": "@jupyter-widgets/base",
          "model_name": "LayoutModel",
          "state": {
            "_view_name": "LayoutView",
            "grid_template_rows": null,
            "right": null,
            "justify_content": null,
            "_view_module": "@jupyter-widgets/base",
            "overflow": null,
            "_model_module_version": "1.2.0",
            "_view_count": null,
            "flex_flow": null,
            "width": null,
            "min_width": null,
            "border": null,
            "align_items": null,
            "bottom": null,
            "_model_module": "@jupyter-widgets/base",
            "top": null,
            "grid_column": null,
            "overflow_y": null,
            "overflow_x": null,
            "grid_auto_flow": null,
            "grid_area": null,
            "grid_template_columns": null,
            "flex": null,
            "_model_name": "LayoutModel",
            "justify_items": null,
            "grid_row": null,
            "max_height": null,
            "align_content": null,
            "visibility": null,
            "align_self": null,
            "height": null,
            "min_height": null,
            "padding": null,
            "grid_auto_rows": null,
            "grid_gap": null,
            "max_width": null,
            "order": null,
            "_view_module_version": "1.2.0",
            "grid_template_areas": null,
            "object_position": null,
            "object_fit": null,
            "grid_auto_columns": null,
            "margin": null,
            "display": null,
            "left": null
          }
        },
        "856056c4642b4429af66ebeb631b84da": {
          "model_module": "@jupyter-widgets/controls",
          "model_name": "HBoxModel",
          "state": {
            "_view_name": "HBoxView",
            "_dom_classes": [],
            "_model_name": "HBoxModel",
            "_view_module": "@jupyter-widgets/controls",
            "_model_module_version": "1.5.0",
            "_view_count": null,
            "_view_module_version": "1.5.0",
            "box_style": "",
            "layout": "IPY_MODEL_7ed69ba4d23341cbb9336b0789fbf8e3",
            "_model_module": "@jupyter-widgets/controls",
            "children": [
              "IPY_MODEL_87d0dead72df43f4b34af202e9aaddc3",
              "IPY_MODEL_39c51d45461f41a99858a7152ca4094c"
            ]
          }
        },
        "7ed69ba4d23341cbb9336b0789fbf8e3": {
          "model_module": "@jupyter-widgets/base",
          "model_name": "LayoutModel",
          "state": {
            "_view_name": "LayoutView",
            "grid_template_rows": null,
            "right": null,
            "justify_content": null,
            "_view_module": "@jupyter-widgets/base",
            "overflow": null,
            "_model_module_version": "1.2.0",
            "_view_count": null,
            "flex_flow": null,
            "width": null,
            "min_width": null,
            "border": null,
            "align_items": null,
            "bottom": null,
            "_model_module": "@jupyter-widgets/base",
            "top": null,
            "grid_column": null,
            "overflow_y": null,
            "overflow_x": null,
            "grid_auto_flow": null,
            "grid_area": null,
            "grid_template_columns": null,
            "flex": null,
            "_model_name": "LayoutModel",
            "justify_items": null,
            "grid_row": null,
            "max_height": null,
            "align_content": null,
            "visibility": null,
            "align_self": null,
            "height": null,
            "min_height": null,
            "padding": null,
            "grid_auto_rows": null,
            "grid_gap": null,
            "max_width": null,
            "order": null,
            "_view_module_version": "1.2.0",
            "grid_template_areas": null,
            "object_position": null,
            "object_fit": null,
            "grid_auto_columns": null,
            "margin": null,
            "display": null,
            "left": null
          }
        },
        "87d0dead72df43f4b34af202e9aaddc3": {
          "model_module": "@jupyter-widgets/controls",
          "model_name": "FloatProgressModel",
          "state": {
            "_view_name": "ProgressView",
            "style": "IPY_MODEL_03d48ffab67d46b7accda89888d0a85b",
            "_dom_classes": [],
            "description": "100%",
            "_model_name": "FloatProgressModel",
            "bar_style": "success",
            "max": 29,
            "_view_module": "@jupyter-widgets/controls",
            "_model_module_version": "1.5.0",
            "value": 29,
            "_view_count": null,
            "_view_module_version": "1.5.0",
            "orientation": "horizontal",
            "min": 0,
            "description_tooltip": null,
            "_model_module": "@jupyter-widgets/controls",
            "layout": "IPY_MODEL_a0e4162e8a054cefbe06d5998f966c0c"
          }
        },
        "39c51d45461f41a99858a7152ca4094c": {
          "model_module": "@jupyter-widgets/controls",
          "model_name": "HTMLModel",
          "state": {
            "_view_name": "HTMLView",
            "style": "IPY_MODEL_0b72447fda4c4b4cba86a3b3cd060206",
            "_dom_classes": [],
            "description": "",
            "_model_name": "HTMLModel",
            "placeholder": "​",
            "_view_module": "@jupyter-widgets/controls",
            "_model_module_version": "1.5.0",
            "value": " 29/29 [00:49&lt;00:00,  1.71s/ba]",
            "_view_count": null,
            "_view_module_version": "1.5.0",
            "description_tooltip": null,
            "_model_module": "@jupyter-widgets/controls",
            "layout": "IPY_MODEL_2827b3ba903241f8b0db34a65d5d5ba7"
          }
        },
        "03d48ffab67d46b7accda89888d0a85b": {
          "model_module": "@jupyter-widgets/controls",
          "model_name": "ProgressStyleModel",
          "state": {
            "_view_name": "StyleView",
            "_model_name": "ProgressStyleModel",
            "description_width": "initial",
            "_view_module": "@jupyter-widgets/base",
            "_model_module_version": "1.5.0",
            "_view_count": null,
            "_view_module_version": "1.2.0",
            "bar_color": null,
            "_model_module": "@jupyter-widgets/controls"
          }
        },
        "a0e4162e8a054cefbe06d5998f966c0c": {
          "model_module": "@jupyter-widgets/base",
          "model_name": "LayoutModel",
          "state": {
            "_view_name": "LayoutView",
            "grid_template_rows": null,
            "right": null,
            "justify_content": null,
            "_view_module": "@jupyter-widgets/base",
            "overflow": null,
            "_model_module_version": "1.2.0",
            "_view_count": null,
            "flex_flow": null,
            "width": null,
            "min_width": null,
            "border": null,
            "align_items": null,
            "bottom": null,
            "_model_module": "@jupyter-widgets/base",
            "top": null,
            "grid_column": null,
            "overflow_y": null,
            "overflow_x": null,
            "grid_auto_flow": null,
            "grid_area": null,
            "grid_template_columns": null,
            "flex": null,
            "_model_name": "LayoutModel",
            "justify_items": null,
            "grid_row": null,
            "max_height": null,
            "align_content": null,
            "visibility": null,
            "align_self": null,
            "height": null,
            "min_height": null,
            "padding": null,
            "grid_auto_rows": null,
            "grid_gap": null,
            "max_width": null,
            "order": null,
            "_view_module_version": "1.2.0",
            "grid_template_areas": null,
            "object_position": null,
            "object_fit": null,
            "grid_auto_columns": null,
            "margin": null,
            "display": null,
            "left": null
          }
        },
        "0b72447fda4c4b4cba86a3b3cd060206": {
          "model_module": "@jupyter-widgets/controls",
          "model_name": "DescriptionStyleModel",
          "state": {
            "_view_name": "StyleView",
            "_model_name": "DescriptionStyleModel",
            "description_width": "",
            "_view_module": "@jupyter-widgets/base",
            "_model_module_version": "1.5.0",
            "_view_count": null,
            "_view_module_version": "1.2.0",
            "_model_module": "@jupyter-widgets/controls"
          }
        },
        "2827b3ba903241f8b0db34a65d5d5ba7": {
          "model_module": "@jupyter-widgets/base",
          "model_name": "LayoutModel",
          "state": {
            "_view_name": "LayoutView",
            "grid_template_rows": null,
            "right": null,
            "justify_content": null,
            "_view_module": "@jupyter-widgets/base",
            "overflow": null,
            "_model_module_version": "1.2.0",
            "_view_count": null,
            "flex_flow": null,
            "width": null,
            "min_width": null,
            "border": null,
            "align_items": null,
            "bottom": null,
            "_model_module": "@jupyter-widgets/base",
            "top": null,
            "grid_column": null,
            "overflow_y": null,
            "overflow_x": null,
            "grid_auto_flow": null,
            "grid_area": null,
            "grid_template_columns": null,
            "flex": null,
            "_model_name": "LayoutModel",
            "justify_items": null,
            "grid_row": null,
            "max_height": null,
            "align_content": null,
            "visibility": null,
            "align_self": null,
            "height": null,
            "min_height": null,
            "padding": null,
            "grid_auto_rows": null,
            "grid_gap": null,
            "max_width": null,
            "order": null,
            "_view_module_version": "1.2.0",
            "grid_template_areas": null,
            "object_position": null,
            "object_fit": null,
            "grid_auto_columns": null,
            "margin": null,
            "display": null,
            "left": null
          }
        }
      }
    }
  },
  "cells": [
    {
      "cell_type": "markdown",
      "metadata": {
        "id": "view-in-github",
        "colab_type": "text"
      },
      "source": [
        "<a href=\"https://colab.research.google.com/github/ion-bueno/bert-from-inside/blob/main/bert_from_inside.ipynb\" target=\"_parent\"><img src=\"https://colab.research.google.com/assets/colab-badge.svg\" alt=\"Open In Colab\"/></a>"
      ]
    },
    {
      "cell_type": "markdown",
      "metadata": {
        "id": "uo8tsaAo5a11"
      },
      "source": [
        "# Installation"
      ]
    },
    {
      "cell_type": "markdown",
      "metadata": {
        "id": "hDbShn3OWDj0"
      },
      "source": [
        "During this notebook it is used Pytorch. It is installed running next cell."
      ]
    },
    {
      "cell_type": "code",
      "metadata": {
        "id": "npZ_8a2vxn7N"
      },
      "source": [
        "#!pip install torch==1.8.1+cu111 torchvision==0.9.1+cu111 torchaudio==0.8.1 -f https://download.pytorch.org/whl/torch_stable.html"
      ],
      "execution_count": 1,
      "outputs": []
    },
    {
      "cell_type": "markdown",
      "metadata": {
        "id": "oic_Lz0GZ6Pt"
      },
      "source": [
        "Other modules."
      ]
    },
    {
      "cell_type": "code",
      "metadata": {
        "id": "s2LVsAsvOwqW"
      },
      "source": [
        "# Pytorch modules\n",
        "import torch\n",
        "import torch.nn as nn\n",
        "from torch.autograd import Variable\n",
        "import torch.nn.functional as F\n",
        "# Colab modules\n",
        "from google.colab import files\n",
        "# Usual modules used\n",
        "from pathlib import Path\n",
        "import pandas as pd\n",
        "import numpy as np\n",
        "import math\n",
        "import random\n",
        "import os\n",
        "import json\n",
        "import shutil\n",
        "import matplotlib.pyplot as plt\n",
        "import seaborn as sns"
      ],
      "execution_count": 2,
      "outputs": []
    },
    {
      "cell_type": "markdown",
      "metadata": {
        "id": "qmA7A_2yZ28N"
      },
      "source": [
        "Mount drive to load files from Google Drive. Useful to load trained models."
      ]
    },
    {
      "cell_type": "code",
      "metadata": {
        "id": "KatQ5N1QI_ie"
      },
      "source": [
        "# from google.colab import drive\n",
        "# drive.mount('/content/drive')"
      ],
      "execution_count": 3,
      "outputs": []
    },
    {
      "cell_type": "markdown",
      "metadata": {
        "id": "ksCpEC_5vdb_"
      },
      "source": [
        "# 1 - Background\n",
        "\n",
        "Recurrent neural networks (RNN) were declared as state of the art in sequence modeling and transduction problems, in particular long short-term memory (LSTM) and gated recurrent neural networks (GRU).\n",
        "\n",
        "These models work respect the position of the symbols, input and output. They generate a sequence of hidden states $h_t$, function of previous hidden states $h_{t-1}$ and current input $x_t$.\n",
        "\n",
        "\\begin{equation}\n",
        "  h_t = f(x_t, h_{t-1})\n",
        "\\end{equation}\n"
      ]
    },
    {
      "cell_type": "markdown",
      "metadata": {
        "id": "ByU_MM9YmQLq"
      },
      "source": [
        "![RNN](https://raw.githubusercontent.com/ion-bueno/bert-from-inside/main/images/RNN.png)\n",
        "\n",
        "> RNN high level structure. Original image from [Dive into Deep Learning](https://d2l.ai/)"
      ]
    },
    {
      "cell_type": "markdown",
      "metadata": {
        "id": "EL9zstqnViDC"
      },
      "source": [
        "However, RNNs are really slow to train due to the sequential computation they employ. This operations cannot be optimized with modern hardware employed today (GPUs or TPUs).\n",
        "\n",
        "Another important issue is the difficulty to capture long-term dependencies. Gradient based learning algorithms face many problems as the sequence or spans increases. Gradients can exploit or vanish, resulting in many difficulties for gradient optimization."
      ]
    },
    {
      "cell_type": "markdown",
      "metadata": {
        "id": "KHtLxnVeSryf"
      },
      "source": [
        "One novel mechanism employed was **Attention**. It is based on retaining the most significant information. It is applied between the elements of the input and the output. In translation for example, between the source sentence and the translation. Attention has been widely used for many tasks, specially in translation.\n",
        "\n",
        "In this work we are interested in one type of attention: **Self-attention**. Attention is only applied between the elements of the input sequence, relating themselves."
      ]
    },
    {
      "cell_type": "markdown",
      "metadata": {
        "id": "3fs7sOi1O53b"
      },
      "source": [
        "# 2 - Self Attention"
      ]
    },
    {
      "cell_type": "markdown",
      "metadata": {
        "id": "NlzWfPuaNpyf"
      },
      "source": [
        "It is an attention mechanism relating different positions of a single sequence in order to compute a representation of the sequence. The goal is mapping sets to sets, regardless of the order in the sequence. Self-attention has been used successfully in a variety of tasks including reading comprehension, abstractive summarization, textual entailment and learning task-independent sentence representations. \\\\"
      ]
    },
    {
      "cell_type": "markdown",
      "metadata": {
        "id": "snXFyJKGRZSP"
      },
      "source": [
        "## 2.1 - Word Embeddings"
      ]
    },
    {
      "cell_type": "markdown",
      "metadata": {
        "id": "gddSt8MOQdP6"
      },
      "source": [
        "If we have a sentence with length $ n $, each word is usually represented with a word vector $ x_i \\in \\mathbb R^{d}, i \\in \\lbrace1, \\dots, n \\rbrace $, where $ d $ is the dimension of the vector. This parameter depends on the size of embedding we are using. \n",
        "\n",
        "\\begin{array}\n",
        "  \\text{The} & \\text{orange} & \\text{is} & \\text{very} & \\text{healthy} \\\\\n",
        "  x_1 & x_2 & x_3 & x_4 & x_5\n",
        "\\end{array}\n"
      ]
    },
    {
      "cell_type": "code",
      "metadata": {
        "colab": {
          "base_uri": "https://localhost:8080/"
        },
        "id": "Q_ZPAha90o8p",
        "outputId": "f605383c-e44f-43bb-d826-4071a791f5d4"
      },
      "source": [
        "#@title { vertical-output: true }\n",
        "sentence = \"The orange is very healthy\" #@param {type:\"string\"}\n",
        "list_sentence = sentence.split()\n",
        "#@markdown Dimension of the embedding vector\n",
        "d =  3#@param {type:\"number\"}\n",
        "vocab = set(list_sentence)\n",
        "word_to_ix = {word: i for i, word in enumerate(vocab)}\n",
        "embeds = nn.Embedding(len(word_to_ix), d)\n",
        "\n",
        "for word in list_sentence:\n",
        "  lookup_tensor = torch.tensor(word_to_ix[word], dtype=torch.long)\n",
        "  vector = embeds(lookup_tensor)\n",
        "  print(word)\n",
        "  print(vector.detach().numpy(), '\\n')"
      ],
      "execution_count": 4,
      "outputs": [
        {
          "output_type": "stream",
          "text": [
            "The\n",
            "[ 0.2972846  1.1454724 -0.9478285] \n",
            "\n",
            "orange\n",
            "[-1.005168    0.11030454  1.4334269 ] \n",
            "\n",
            "is\n",
            "[ 0.8999159   1.0623589  -0.44568616] \n",
            "\n",
            "very\n",
            "[-0.65508276 -0.32948834 -1.4258631 ] \n",
            "\n",
            "healthy\n",
            "[0.36417076 1.0811074  1.3970529 ] \n",
            "\n"
          ],
          "name": "stdout"
        }
      ]
    },
    {
      "cell_type": "markdown",
      "metadata": {
        "id": "FQiDwc4JybzS"
      },
      "source": [
        "These vectors do not provide context information, i.e. the relationship with the rest of the elements in the sequence. For example, $ x_2 $ does not determine if *orange* refers to the color or to the fruit, so it is not clear if it exists a clear relationship with *healthy*.\n",
        "\n",
        "We are looking for an output vector, formed by attention weigths, $ y_i \\in \\mathbb R^{n}, i \\in \\lbrace1,\\dots,n\\rbrace $, where $ n $ is the number of elements in the sequence. For all $ i, j \\in \\lbrace{1,\\dots,n}\\rbrace $.\n",
        "\n",
        "\\begin{equation}\n",
        "  y_i = \\sum^{n}_{j} x_j w_{ij}\n",
        "\\end{equation}\n",
        "\n",
        "The question is, how could we get these weigths? In order to illustrate the process, we are going to use the previous sentence and get the weights associated to the new embedding vector for *orange* ($ y_{2} $).\n",
        "\n",
        "> Remember that $ n $ is the number of words in the sentence and $ d $ the dimension of the word vectors."
      ]
    },
    {
      "cell_type": "markdown",
      "metadata": {
        "id": "fo04Vmks3Gq0"
      },
      "source": [
        "> The explanation is based in the slides of [A series of videos on transformers](https://www.youtube.com/playlist?list=PLDw5cZwIToCvXLVY2bSqt7F2gu8y-Rqje) by Lennart Svensson"
      ]
    },
    {
      "cell_type": "markdown",
      "metadata": {
        "id": "9BgDkBMJ2yxK"
      },
      "source": [
        "## 2.2 - Weighted Averages of Words"
      ]
    },
    {
      "cell_type": "markdown",
      "metadata": {
        "id": "2_6qnuArbEUh"
      },
      "source": [
        "The traditional idea was based in providing larger weigths to similar words making use of the **dot product**. Two similar vectors are going to get a bigget dot product than two very distant. Applying the dot product and softmax respect $ x_2 $"
      ]
    },
    {
      "cell_type": "markdown",
      "metadata": {
        "id": "dqoYDolEOJdg"
      },
      "source": [
        "\\begin{equation}\n",
        "  \\begin{matrix} z_{1} = x_1^T x_2 & \\dots & z_{n} = x_n^T x_2 \\end{matrix} \\\\\n",
        "  \\begin{bmatrix} w_{1} & \\dots & w_{n} \\end{bmatrix} = \\text{softmax} \\begin{pmatrix} z_{1} & \\dots & z_{n} \\end{pmatrix} \\\\\n",
        "  y_2 = \\sum_{j=1}^{n} x_j w_{j}\n",
        "\\end{equation}"
      ]
    },
    {
      "cell_type": "markdown",
      "metadata": {
        "id": "IRMYg52-XN6d"
      },
      "source": [
        "![Weighted Averaged of Words](https://raw.githubusercontent.com/ion-bueno/bert-from-inside/main/images/weight_ave_words.png)\n",
        "\n",
        "> Observations and weights respect time. Original image from [A series of videos on transformers](https://www.youtube.com/playlist?list=PLDw5cZwIToCvXLVY2bSqt7F2gu8y-Rqje)"
      ]
    },
    {
      "cell_type": "markdown",
      "metadata": {
        "id": "P7WPCEYKYbh_"
      },
      "source": [
        "Intuitively, it is a method which could obatin good results. Nevertheless, several times correlated words are not necessary close. Therefore it is not an accurate and general method to extract the information between one element and the rest of the sequence."
      ]
    },
    {
      "cell_type": "markdown",
      "metadata": {
        "id": "2s8JJyH4MNy0"
      },
      "source": [
        "## 2.3 - Weights in Self-Attention"
      ]
    },
    {
      "cell_type": "markdown",
      "metadata": {
        "id": "biJITJoQXosT"
      },
      "source": [
        "We need to introduce three new vectors: **query**, **keys** and **values**. It is also included three new parameters: $ W_Q, W_K, W_V $, which are going to be trained. For all $ i \\in \\lbrace{1,\\dots,n}\\rbrace $.\n",
        "\n",
        "\\begin{matrix}\n",
        "  \\text{Query} & \\rightarrow & q_i = W^Q x_2 \\\\\n",
        "  \\text{Keys} & \\rightarrow & k_i = W^K x_i \\\\\n",
        "  \\text{Values} & \\rightarrow & v_i = W^V x_i \n",
        "\\end{matrix}"
      ]
    },
    {
      "cell_type": "markdown",
      "metadata": {
        "id": "2outRvCKMV-Z"
      },
      "source": [
        "Instead of using directly the inputs $ x_i $, it is employed the **query** $ q_i $ and **keys** $ k_i $ to calculate the weights:\n",
        "\\begin{equation}\n",
        "    \\begin{matrix} z_{1} = \\frac{k_1^T q_2}{\\sqrt{d}} & \\dots & z_{n} = \\frac{k_n^T q_2}{\\sqrt{d}} \\end{matrix} \\\\\n",
        "  \\begin{bmatrix} w_1 & \\dots & w_n \\end{bmatrix} = \\text{softmax} \\begin{pmatrix} z_1 & \\dots & z_n \\end{pmatrix}\n",
        "\\end{equation}\n"
      ]
    },
    {
      "cell_type": "markdown",
      "metadata": {
        "id": "2AAWQFphXsty"
      },
      "source": [
        "To calculate the final embedding vector it is used the **values** $ v_i $ instead of the inputs $ x_i $\n",
        "\n",
        "\\begin{equation}\n",
        "  y_2 = \\sum_{j=1}^{n} v_j w_{j}\n",
        "\\end{equation}"
      ]
    },
    {
      "cell_type": "markdown",
      "metadata": {
        "id": "sLDkf7xi-hsw"
      },
      "source": [
        "Intuitively,the query attends the word for which we are going to get the attention weights. Keys corresponds with the rest of the elements in the dot product operation. Values are used in the final combination with the weights. Thanks to learnable matrixes, these combinations are optimized to find combinations and correlations in the own sentence."
      ]
    },
    {
      "cell_type": "markdown",
      "metadata": {
        "id": "VsBg0CcUAqvi"
      },
      "source": [
        "![Self-attention process](https://raw.githubusercontent.com/ion-bueno/bert-from-inside/main/images/self-attention_process.png)\n",
        "\n",
        "> Self-attention process. Original image from [Illustrated: Self-Attention](https://towardsdatascience.com/illustrated-self-attention-2d627e33b20a)"
      ]
    },
    {
      "cell_type": "markdown",
      "metadata": {
        "id": "4PLlEXM0YpG2"
      },
      "source": [
        "### 2.3.1 - Matrix Notation"
      ]
    },
    {
      "cell_type": "markdown",
      "metadata": {
        "id": "lnvZVIwwDn5W"
      },
      "source": [
        "To represent the whole process in matrix notation:\n",
        "\n",
        "\\begin{matrix}\n",
        "  \\text{Input} & \\rightarrow & X = \\begin{bmatrix} x_1 & \\dots & x_n \\end{bmatrix}\n",
        "\\end{matrix}"
      ]
    },
    {
      "cell_type": "code",
      "metadata": {
        "colab": {
          "base_uri": "https://localhost:8080/"
        },
        "id": "2Ca6iaIA1EjQ",
        "outputId": "3270cd72-2915-406a-a13a-90099ca1ff05"
      },
      "source": [
        "lookup_tensor = torch.tensor([word_to_ix[word] for word in list_sentence], dtype=torch.long)\n",
        "X = embeds(lookup_tensor).T\n",
        "print('Input: word per column\\n')\n",
        "print(X.detach().numpy())"
      ],
      "execution_count": 5,
      "outputs": [
        {
          "output_type": "stream",
          "text": [
            "Input: word per column\n",
            "\n",
            "[[ 0.2972846  -1.005168    0.8999159  -0.65508276  0.36417076]\n",
            " [ 1.1454724   0.11030454  1.0623589  -0.32948834  1.0811074 ]\n",
            " [-0.9478285   1.4334269  -0.44568616 -1.4258631   1.3970529 ]]\n"
          ],
          "name": "stdout"
        }
      ]
    },
    {
      "cell_type": "markdown",
      "metadata": {
        "id": "yME-uGRP24l_"
      },
      "source": [
        "Calculate **query**, **keys** and **values**:\n",
        "\n",
        "\\begin{matrix}\n",
        "  Q = W^Q X = \\begin{bmatrix} q_1 & \\dots & q_n \\end{bmatrix}  \\\\\n",
        "  K = W^K X = \\begin{bmatrix} k_1 & \\dots & k_n \\end{bmatrix} \\\\\n",
        "  V = W^V X = \\begin{bmatrix} v_1 & \\dots & v_n \\end{bmatrix}\n",
        "\\end{matrix}"
      ]
    },
    {
      "cell_type": "code",
      "metadata": {
        "colab": {
          "base_uri": "https://localhost:8080/"
        },
        "id": "MEMuOjMq4XU0",
        "outputId": "36bf2c3d-8e48-4496-be2a-6c850428e8e2"
      },
      "source": [
        "# initialize weight matrixes\n",
        "dim = (X.shape[-1], X.shape[0])\n",
        "W_Q = torch.randn(dim)\n",
        "W_K = torch.randn(dim)\n",
        "W_V = torch.randn(dim)\n",
        "\n",
        "# calculate query, keys, values\n",
        "Q = W_Q @ X\n",
        "K = W_K @ X\n",
        "V = W_V @ X\n",
        "\n",
        "print('Query\\n')\n",
        "print(Q.detach().numpy(), '\\n')\n",
        "print('Keys\\n')\n",
        "print(K.detach().numpy(), '\\n')\n",
        "print('Values\\n')\n",
        "print(V.detach().numpy(), '\\n')"
      ],
      "execution_count": 6,
      "outputs": [
        {
          "output_type": "stream",
          "text": [
            "Query\n",
            "\n",
            "[[ 0.94732577  0.24976121  1.807257   -2.105751    2.7083457 ]\n",
            " [ 2.6012852   0.7231882   1.4945571   0.6981796   1.288662  ]\n",
            " [ 1.7002228  -1.5210627   1.5536348   0.53349406 -0.11486899]\n",
            " [ 0.91347826 -0.7959454   1.7463113  -1.4348488   1.5853568 ]\n",
            " [-0.37543783  0.11682709 -0.62658256  0.5410353  -0.69848484]] \n",
            "\n",
            "Keys\n",
            "\n",
            "[[-0.48036295  2.6824331  -1.0744416  -0.26827198  1.1428027 ]\n",
            " [ 1.7740306  -4.1905646  -0.08809493  5.2739897  -5.7614717 ]\n",
            " [ 2.5668268  -1.8516264   1.1261073   2.8332417  -1.9053587 ]\n",
            " [ 1.3917127   0.23223738  1.0341364   0.02369173  0.9536887 ]\n",
            " [ 0.54052305 -1.723981    0.91600287  0.09904789 -0.5192256 ]] \n",
            "\n",
            "Values\n",
            "\n",
            "[[-0.77198565  0.3788088  -0.6859384  -0.0975714  -0.2236819 ]\n",
            " [ 1.9430461  -3.0536022   1.1756802   2.4986253  -2.511243  ]\n",
            " [ 1.2776299  -2.8472173   2.323278   -0.77578324  0.27764013]\n",
            " [-0.60166216  0.53085405 -0.10473537 -1.0189025   0.8270517 ]\n",
            " [-2.396129    2.7505422  -2.6366727  -0.26620758 -0.03109352]] \n",
            "\n"
          ],
          "name": "stdout"
        }
      ]
    },
    {
      "cell_type": "markdown",
      "metadata": {
        "id": "IJhYMfJBhMV_"
      },
      "source": [
        "Calculate the **weights**:\n",
        "\n",
        "\\begin{matrix}\n",
        "  Z = \\frac{K^T Q}{\\sqrt{d}} \\\\\n",
        "  W = \\text{softmax}(Z)\n",
        "\\end{matrix}"
      ]
    },
    {
      "cell_type": "code",
      "metadata": {
        "colab": {
          "base_uri": "https://localhost:8080/"
        },
        "id": "r9Iir7Nn1NCp",
        "outputId": "addbc3cf-9434-4cd0-fa13-236d82dc508d"
      },
      "source": [
        "Z = (K.T @ Q) / (d)\n",
        "# dim=0 since we want to apply it per column\n",
        "W = nn.LogSoftmax(dim=0)(Z)\n",
        "print('Weigths\\n')\n",
        "print(W.detach().numpy(), '\\n')"
      ],
      "execution_count": 7,
      "outputs": [
        {
          "output_type": "stream",
          "text": [
            "Weigths\n",
            "\n",
            "[[ -2.9488108   -2.386987    -1.5730894   -1.7282917   -1.753173  ]\n",
            " [ -9.695726    -1.1018249   -5.1294265   -5.976006    -1.3762794 ]\n",
            " [ -5.72343     -2.0453682   -3.8913448   -1.7621305   -3.3105993 ]\n",
            " [ -0.05735593  -1.3149333   -0.26784465  -0.44056866  -0.6886264 ]\n",
            " [-11.505575    -1.7259446   -6.699026    -5.3982463   -3.3382103 ]] \n",
            "\n"
          ],
          "name": "stdout"
        }
      ]
    },
    {
      "cell_type": "markdown",
      "metadata": {
        "id": "eYvPf694-192"
      },
      "source": [
        "Finally, we get the **output** matrix:\n",
        "\n",
        "\\begin{matrix}\n",
        "  \\text{Output} & \\rightarrow & Y = VW = \\begin{bmatrix} y_1 & \\dots & y_n \\end{bmatrix}\n",
        "\\end{matrix}"
      ]
    },
    {
      "cell_type": "code",
      "metadata": {
        "colab": {
          "base_uri": "https://localhost:8080/"
        },
        "id": "qg6YXnOC_e4w",
        "outputId": "39bfe940-a031-417b-b593-2ae8967bcc68"
      },
      "source": [
        "Y = V @ W\n",
        "print('Output\\n')\n",
        "print(Y.detach().numpy(), '\\n')"
      ],
      "execution_count": 8,
      "outputs": [
        {
          "output_type": "stream",
          "text": [
            "Output\n",
            "\n",
            "[[  5.108719     3.3426979    3.4651382    1.5296426    3.9168322 ]\n",
            " [ 45.898277    -2.629449    24.185305    25.273985     3.5663462 ]\n",
            " [  7.39132     -4.1235976    1.9019614    9.555967    -6.405379  ]\n",
            " [-12.230647     0.9778175   -6.6364803   -5.963714    -1.388278  ]\n",
            " [ -4.1389437    8.485591     0.20042273  -7.364752     9.431396  ]] \n",
            "\n"
          ],
          "name": "stdout"
        }
      ]
    },
    {
      "cell_type": "markdown",
      "metadata": {
        "id": "E0yR7j8HDIaw"
      },
      "source": [
        "As it is normal, we have not obtained a meaningful result, since $ W^Q, W^K, W^V $ have not been trained. At the end, we are looking for a rectangular matrix which relates every word in the sentence. "
      ]
    },
    {
      "cell_type": "markdown",
      "metadata": {
        "id": "qkH-EJ8jlh8O"
      },
      "source": [
        "![Intuition self-attention](https://raw.githubusercontent.com/ion-bueno/bert-from-inside/main/images/intuition_att.png)\n",
        "\n",
        "> Intuition about attention. Image from [exBERT](https://huggingface.co/exbert/?model=bert-base-cased&modelKind=bidirectional&sentence=The%20orange%20is%20very%20healthy&layer=0&heads=..0,1,2,3,4,5,6,7,8,9,10,11&threshold=0.7&tokenInd=null&tokenSide=null&maskInds=..&hideClsSep=true) tool"
      ]
    },
    {
      "cell_type": "markdown",
      "metadata": {
        "id": "Rx2d2n9VycK7"
      },
      "source": [
        "# 3 - The Transformer\n",
        "\n",
        "In 2017 was presented the Transformer in the paper [Attention is All You Need](https://arxiv.org/abs/1706.03762). It is the first transduction model relying entirely on self-attention to compute representations of its input and output without using sequence aligned RNNs or convolution. The Transformer reached a new state of the art in translation quality, the original goal for the model. "
      ]
    },
    {
      "cell_type": "markdown",
      "metadata": {
        "id": "A_xD9N3umEyu"
      },
      "source": [
        "![Transformer architecture](https://raw.githubusercontent.com/ion-bueno/bert-from-inside/main/images/transformer.png)\n",
        "\n",
        "> Transformer architecture. Image from [Attention is All You Need](https://arxiv.org/abs/1706.03762)"
      ]
    },
    {
      "cell_type": "markdown",
      "metadata": {
        "id": "78bu--O6DXAu"
      },
      "source": [
        "In order to understand how the Transformer works, it is going to be explained the main parts.\n",
        "\n",
        "> The code is based mainly in the implementation of [The Annotated Transformer](http://nlp.seas.harvard.edu/2018/04/03/attention.html), which implements the model step by step as it is discussed in the original paper."
      ]
    },
    {
      "cell_type": "markdown",
      "metadata": {
        "id": "p9XTCL8IJ9Ma"
      },
      "source": [
        "## 3.1 - Model Architecture"
      ]
    },
    {
      "cell_type": "markdown",
      "metadata": {
        "id": "BIW801LBKBh5"
      },
      "source": [
        "The model is based in an encoder-decoder structure, as other competitive neural sequence transduction models. It receives as input a complete sentence and generates the probabilities for the next word as output. Usually it is selected the higher one and feed it into the decoder until it is selected the token which indicates the end of sequence. "
      ]
    },
    {
      "cell_type": "markdown",
      "metadata": {
        "id": "Nofb2wJqO9TP"
      },
      "source": [
        "![High level transformer architecture](https://raw.githubusercontent.com/ion-bueno/bert-from-inside/main/images/hl_trans_archi.png)\n",
        "\n",
        "> High-level transformer architecture. From the slides of [A series of videos on transformers](https://www.youtube.com/watch?v=0SmNEp4zTpc&list=PLDw5cZwIToCvXLVY2bSqt7F2gu8y-Rqje)\n"
      ]
    },
    {
      "cell_type": "markdown",
      "metadata": {
        "id": "jopZSHTl6sk2"
      },
      "source": [
        "The Transformer generates a one symbol at a time, consuming the previously generated symbols as additional input, so it is an example of auto-regressive model."
      ]
    },
    {
      "cell_type": "markdown",
      "metadata": {
        "id": "cxiXBozxPpWI"
      },
      "source": [
        "## 3.2 - Input Embedding"
      ]
    },
    {
      "cell_type": "markdown",
      "metadata": {
        "id": "UOKfYGq8R90U"
      },
      "source": [
        "Before going into the encoder and decoder stacks, mention how the sentences are preprocessed. The word vectors used as input in the encoder and the decoder are formed by the sum of other two vectors: **word embedding** and **positional encoding**."
      ]
    },
    {
      "cell_type": "markdown",
      "metadata": {
        "id": "rE33YK_we8uE"
      },
      "source": [
        "> Let's define some variables:\n",
        "\n",
        "\n",
        "\n",
        "*   Number of sentences in a batch: $ m $\n",
        "*   Number of words per sentence: $ n $\n",
        "*   Embedding dimension: $ d_{model} $\n",
        "*   Size of vocabulary: $ vocab $\n",
        "\n",
        "\n"
      ]
    },
    {
      "cell_type": "markdown",
      "metadata": {
        "id": "np5nmAyUbPgV"
      },
      "source": [
        "![Transformer input embedding](https://raw.githubusercontent.com/ion-bueno/bert-from-inside/main/images/in_emb.png)\n",
        "\n",
        "> Transformer input embedding"
      ]
    },
    {
      "cell_type": "markdown",
      "metadata": {
        "id": "fsV9N-zJYnGg"
      },
      "source": [
        "### 3.2.1 - Word Embeddings"
      ]
    },
    {
      "cell_type": "markdown",
      "metadata": {
        "id": "CLsRZqxRTL4i"
      },
      "source": [
        "It is used learned embeddings to convert the input tokens and output tokens to vectors of dimension $ d_{model} $. It is shared the same weight matrix between the two embbeding layers, similar to [Using the Output Embedding to Improve Language Models](https://arxiv.org/abs/1608.05859). Also mention those weihts are multiplied by $ \\sqrt{d_{model}} $."
      ]
    },
    {
      "cell_type": "code",
      "metadata": {
        "id": "Kav4S0GhU3Jd"
      },
      "source": [
        "class Embeddings(nn.Module):\n",
        "  def __init__(self, d_model, vocab):\n",
        "    super(Embeddings, self).__init__()\n",
        "    self.lut = nn.Embedding(vocab, d_model)\n",
        "    self.d_model = d_model\n",
        "\n",
        "  def forward(self, x):\n",
        "    return self.lut(x) * math.sqrt(self.d_model)"
      ],
      "execution_count": 9,
      "outputs": []
    },
    {
      "cell_type": "markdown",
      "metadata": {
        "id": "mmnQ3x8IYrRV"
      },
      "source": [
        "### 3.2.2 - Positional Encoding"
      ]
    },
    {
      "cell_type": "markdown",
      "metadata": {
        "id": "xuY7cXIoTnaj"
      },
      "source": [
        "The attention blocks only map sets to sets, due to that, there is not any information about the position of the word in the sentence. Then it is injected some information about the relative or absolute position. In the original paper, it is used sine and cosine functions of different frequencies:\n",
        "\n",
        "\\begin{equation}\n",
        "  PE_{(pos, 2i)} = sin(pos/10000^{2i/d_{model}}) \\\\\n",
        "  PE_{(pos, 2i+1)} = cos(pos/10000^{2i/d_{model}})\n",
        "\\end{equation}"
      ]
    },
    {
      "cell_type": "code",
      "metadata": {
        "id": "9s3UgPQ0Wdck"
      },
      "source": [
        "class PositionalEncoding(nn.Module):\n",
        "  \"\"\"Implement the PE function\n",
        "\n",
        "  \"\"\"\n",
        "  def __init__(self, d_model, dropout, max_len=5000):\n",
        "    super(PositionalEncoding, self).__init__()\n",
        "    self.dropout = nn.Dropout(p=dropout)\n",
        "    pe = torch.zeros(max_len, d_model)\n",
        "    position = torch.arange(0, max_len).unsqueeze(1)\n",
        "    div_term = torch.exp(torch.arange(0, d_model, 2) * \n",
        "                         -(math.log(10000.0) / d_model))\n",
        "    pe[:, 0::2] = torch.sin(position * div_term)\n",
        "    pe[:, 1::2] = torch.cos(position * div_term)\n",
        "    pe = pe.unsqueeze(0)\n",
        "    self.register_buffer('pe', pe)\n",
        "\n",
        "\n",
        "  def forward(self, x):\n",
        "    x = x + Variable(self.pe[:, :x.size(1)], requires_grad=False)\n",
        "    return self.dropout(x)"
      ],
      "execution_count": 10,
      "outputs": []
    },
    {
      "cell_type": "markdown",
      "metadata": {
        "id": "rhcQ8jbyyzlp"
      },
      "source": [
        "The output is the addition of both embeddings. \n",
        "\n",
        "\\begin{matrix}\n",
        "  x_i = & \\underbrace{E_i}_\\text{Word Embedding} & + & \\underbrace{P_i}_\\text{Positional Encoding}\n",
        "\\end{matrix}\n",
        "\n",
        "Let's see how is the input and how is transformed after this process"
      ]
    },
    {
      "cell_type": "markdown",
      "metadata": {
        "id": "gpnPSaICY6OA"
      },
      "source": [
        "Function to mask Transformer inputs"
      ]
    },
    {
      "cell_type": "code",
      "metadata": {
        "id": "-lzuoKnVa03e"
      },
      "source": [
        "def subsequent_mask(size):\n",
        "  \"\"\"Mask out subsequent positions\n",
        "\n",
        "  \"\"\"\n",
        "  attn_shape = (1, size, size)\n",
        "  subsequent_mask = np.triu(np.ones(attn_shape), k=1).astype('uint8')\n",
        "  return torch.from_numpy(subsequent_mask) == 0"
      ],
      "execution_count": 11,
      "outputs": []
    },
    {
      "cell_type": "markdown",
      "metadata": {
        "id": "5oSCMJUEY2pU"
      },
      "source": [
        "Class to manage one batch of data"
      ]
    },
    {
      "cell_type": "code",
      "metadata": {
        "id": "eCLpgj6fZ4UW"
      },
      "source": [
        "class Batch:\n",
        "  \"\"\"Object for holding a batch of data with mask during training\n",
        "\n",
        "  \"\"\"\n",
        "  def __init__(self, src, trg=None, pad=0):\n",
        "    self.src = src\n",
        "    self.src_mask = (src != pad).unsqueeze(-2)\n",
        "    if trg is not None:\n",
        "      self.trg = trg[:, :-1]\n",
        "      self.trg_y = trg[:, 1:]\n",
        "      self.trg_mask = self.make_std_mask(self.trg, pad)\n",
        "      self.ntokens = (self.trg_y != pad).data.sum()\n",
        "\n",
        "  @staticmethod\n",
        "  def make_std_mask(tgt, pad):\n",
        "    \"\"\"Create a mask to hide padding and future words\n",
        "\n",
        "    \"\"\"\n",
        "    tgt_mask = (tgt != pad).unsqueeze(-2)\n",
        "    tgt_mask = tgt_mask & Variable(subsequent_mask(tgt.size(-1)).type_as(tgt_mask.data))\n",
        "    return tgt_mask"
      ],
      "execution_count": 12,
      "outputs": []
    },
    {
      "cell_type": "markdown",
      "metadata": {
        "id": "vS_sxWBgY_wJ"
      },
      "source": [
        "Function to generate a random batch of data"
      ]
    },
    {
      "cell_type": "code",
      "metadata": {
        "id": "1f_dsjQNVVfT"
      },
      "source": [
        "def batch_gen(V, batch, words):\n",
        "  \"\"\"Generate random data for a src-tgt copy task.\n",
        "\n",
        "  Args:\n",
        "  V (int): until number created for random int\n",
        "  batch (int): number of rows\n",
        "  words (int): number of columns\n",
        "\n",
        "  Returns:\n",
        "  Batch\n",
        "\n",
        "  \"\"\"\n",
        "  data = torch.from_numpy(np.random.randint(1, V, size=(batch, words)))\n",
        "  data[:, 0] = 1\n",
        "  src = Variable(data, requires_grad=False)\n",
        "  tgt = Variable(data, requires_grad=False)\n",
        "  return Batch(src, tgt, 0)"
      ],
      "execution_count": 13,
      "outputs": []
    },
    {
      "cell_type": "markdown",
      "metadata": {
        "id": "0cyPzIoPVu_A"
      },
      "source": [
        "We can check the Transformer input"
      ]
    },
    {
      "cell_type": "code",
      "metadata": {
        "colab": {
          "base_uri": "https://localhost:8080/"
        },
        "id": "GZAKlqt0iSBb",
        "outputId": "7536d92b-64e9-4954-b6e0-96fa3f127587"
      },
      "source": [
        "#@title { vertical-output: true }\n",
        "#@markdown Number of sentences in a batch\n",
        "m = 5 #@param {type:\"integer\"}\n",
        "\n",
        "#@markdown Number of words in a sentence\n",
        "n = 10 #@param {type:\"integer\"}\n",
        "\n",
        "#@markdown Embedding dimension\n",
        "d_model = 512 #@param {type:\"integer\"}\n",
        "\n",
        "#@markdown Vocabulary size\n",
        "vocab = 11 #@param {type:\"integer\"}\n",
        "\n",
        "batch = batch_gen(vocab, m, n)\n",
        "emb = Embeddings(d_model, vocab)\n",
        "pos = PositionalEncoding(d_model, 0.01)\n",
        "\n",
        "emb_w = emb.lut.weight\n",
        "print('Embedding matrix with dimension: (vocab x d_model)')\n",
        "print(tuple(emb_w.shape), '\\n')\n",
        "#print(emb_w.detach().numpy(), '\\n')\n",
        "\n",
        "enc_in = batch.src\n",
        "print('Encoder input before embedding with dimension: (m x n) ')\n",
        "print(tuple(enc_in.shape), '\\n')\n",
        "\n",
        "enc_out = nn.Sequential(emb, pos)(enc_in)\n",
        "print('Encoder input with dimension: (m x n x d_model)')\n",
        "print(tuple(enc_out.shape), '\\n')\n",
        "\n",
        "dec_in = batch.trg\n",
        "print('Decoder input before embedding  with dimension: (m x n-1) ')\n",
        "print(tuple(dec_in.shape), '\\n')\n",
        "\n",
        "dec_out = nn.Sequential(emb, pos)(dec_in)\n",
        "print('Decoder input with dimension: (m x n-1 x d_model)')\n",
        "print(tuple(dec_out.shape), '\\n')"
      ],
      "execution_count": 14,
      "outputs": [
        {
          "output_type": "stream",
          "text": [
            "Embedding matrix with dimension: (vocab x d_model)\n",
            "(11, 512) \n",
            "\n",
            "Encoder input before embedding with dimension: (m x n) \n",
            "(5, 10) \n",
            "\n",
            "Encoder input with dimension: (m x n x d_model)\n",
            "(5, 10, 512) \n",
            "\n",
            "Decoder input before embedding  with dimension: (m x n-1) \n",
            "(5, 9) \n",
            "\n",
            "Decoder input with dimension: (m x n-1 x d_model)\n",
            "(5, 9, 512) \n",
            "\n"
          ],
          "name": "stdout"
        }
      ]
    },
    {
      "cell_type": "markdown",
      "metadata": {
        "id": "l9ofzwczProp"
      },
      "source": [
        "## 3.3 - Encoder"
      ]
    },
    {
      "cell_type": "markdown",
      "metadata": {
        "id": "7PP1EybI5CV6"
      },
      "source": [
        "The encoder stacks $ N $ encoder blocks which map sets to sets, what means the output size is the same than input: $ ( m \\ x \\ n \\ x \\ d_{model} ) $. In the original implementation, they employ $ N=6 $ encoders."
      ]
    },
    {
      "cell_type": "markdown",
      "metadata": {
        "id": "ms1C-CsrbIuR"
      },
      "source": [
        "![Transformer's encoder](https://raw.githubusercontent.com/ion-bueno/bert-from-inside/main/images/encoder.png)\n",
        "\n",
        "> Encoder architecture. Modified image from [Attention is All You Need](https://arxiv.org/abs/1706.03762)"
      ]
    },
    {
      "cell_type": "markdown",
      "metadata": {
        "id": "eAibzJp2sMNL"
      },
      "source": [
        "Each block is formed by two sub-layers: **Multi-Head Attention** and **Feed Forward**. Both are followed by an **Add \\& Norm** layer."
      ]
    },
    {
      "cell_type": "markdown",
      "metadata": {
        "id": "nuOR0vIaZeH6"
      },
      "source": [
        "### 3.3.1 - Multi-Head Attention"
      ]
    },
    {
      "cell_type": "markdown",
      "metadata": {
        "id": "MSCGGrr5Uof3"
      },
      "source": [
        "The Transformer differs for using exclusively self-attention. This model employs a type of self-attention called **Scaled Dot-Product Attention**"
      ]
    },
    {
      "cell_type": "markdown",
      "metadata": {
        "id": "3njTSJhVEfur"
      },
      "source": [
        "#### 3.3.1.1 - Scaled Dot-Product Attention"
      ]
    },
    {
      "cell_type": "markdown",
      "metadata": {
        "id": "RdUPRWV1u9Ao"
      },
      "source": [
        "It is fast and space-efficient in practice, since it can be implemented using highly optimized matrix multiplication code.\n",
        "\n",
        "We have queries $ Q $ and keys $ K $ of dimension $ d_k $ and values $ V $ of dimension $ d_v $.\n",
        "\n",
        "\\begin{equation}\n",
        "  \\text{Attention}(Q, K, V) = \\text{softmax}(\\frac{QK^T}{\\sqrt{d_k}})V\n",
        "\\end{equation}\n",
        "\n",
        "For large values of $ d_k $ the softmax function could have extremely small gradients. For this reason, the dot product is scaled by $ \\frac{1}{\\sqrt{d_k}} $."
      ]
    },
    {
      "cell_type": "markdown",
      "metadata": {
        "id": "MLtjORVBnZ1D"
      },
      "source": [
        "![Scaled dot product attention](https://raw.githubusercontent.com/ion-bueno/bert-from-inside/main/images/sdp_attention.png)"
      ]
    },
    {
      "cell_type": "code",
      "metadata": {
        "id": "YeDeFHvgWprw"
      },
      "source": [
        "def sdp_attention(query, key, value, mask=None, dropout=None):\n",
        "  d_k = query.size(-1)\n",
        "  scores = torch.matmul(query, key.transpose(-2, -1)) / math.sqrt(d_k)\n",
        "  if mask is not None:\n",
        "    scores = scores.masked_fill(mask == 0, -1e9)\n",
        "  p_attn = F.softmax(scores, dim=-1)\n",
        "  if dropout is not None:\n",
        "    p_attn = dropout(p_attn)\n",
        "  return torch.matmul(p_attn, value), p_attn"
      ],
      "execution_count": 15,
      "outputs": []
    },
    {
      "cell_type": "markdown",
      "metadata": {
        "id": "_cxAhy-RZxHi"
      },
      "source": [
        "> To remember variables:\n",
        "\n",
        "*   Number of sentences in a batch: $ m $\n",
        "*   Number of words per sentence: $ n $\n",
        "*   Embedding dimension: $ d_{model} $\n",
        "\n",
        "> And let's introduce new ones\n",
        "\n",
        "\n",
        "*   Attention blocks: $ h $\n",
        "*   Dimension attention layers: $ d_k = \\frac{d_{model}}{h} $"
      ]
    },
    {
      "cell_type": "markdown",
      "metadata": {
        "id": "R64X60ZyWAQz"
      },
      "source": [
        "Multi-Head Attention is based on performing attention in parallel. There are $ h $ different blocks, with identical structure but different parameterers: $ W^Q $, $ W^K $ and $ W^V $. The output vectors from different heads are concatenated for each word using the parameter $ W^O $.\n",
        "\n",
        "\\begin{equation}\n",
        "  \\text{MultiHead}(Q,K,V) = \\text{Concat}(\\text{head}_1, \\dots, \\text{head}_h) W_O \\\\\n",
        "  \\text{where} \\ \\text{head}_i = \\text{Attention}(QW^Q_i, KW^K_i, VW^V_i) \\\\\n",
        "  W^Q_i \\in \\mathbb R^{d_{model}\\ x \\ d_k}, \\ W^K_i \\in \\mathbb R^{d_{model}\\ x \\ d_k}, \\ W^V_i \\in \\mathbb R^{d_{model}\\ x \\ d_v} \\\\\n",
        "  W^O \\in \\mathbb R^{h d_v\\ x \\ d_{model}}\n",
        "\\end{equation}\n",
        "\n",
        "The idea is to get information from different representation subspaces at different positions. To get an intuition, we could see it as one head is understanding the sentence gramatically, another one from the point of spelling, etc."
      ]
    },
    {
      "cell_type": "markdown",
      "metadata": {
        "id": "IB3nhzM6dyOk"
      },
      "source": [
        "> In the papers [Attention is All You Need](https://arxiv.org/abs/1706.03762) and [The Annotated Transformer](http://nlp.seas.harvard.edu/2018/04/03/attention.html), it is used $ h = 8 $ and they assume that $ d_v = d_k $."
      ]
    },
    {
      "cell_type": "markdown",
      "metadata": {
        "id": "KcZ1ULyDnpXm"
      },
      "source": [
        "![Multi-Head Attention](https://raw.githubusercontent.com/ion-bueno/bert-from-inside/main/images/multi__head_attention.png)"
      ]
    },
    {
      "cell_type": "markdown",
      "metadata": {
        "id": "vKpHHa4vZ0Lc"
      },
      "source": [
        "To generate $ N $ identical layers:"
      ]
    },
    {
      "cell_type": "code",
      "metadata": {
        "id": "wIptwAwCj7wB"
      },
      "source": [
        "import copy\n",
        "\n",
        "def clones(module, N):\n",
        "  return nn.ModuleList([copy.deepcopy(module) for _ in range(N)])"
      ],
      "execution_count": 16,
      "outputs": []
    },
    {
      "cell_type": "markdown",
      "metadata": {
        "id": "SCpFzMs6Z6yr"
      },
      "source": [
        "A class to represent Multi-Head Attention:"
      ]
    },
    {
      "cell_type": "code",
      "metadata": {
        "id": "OGabuvuHebXG"
      },
      "source": [
        "class MultiHeadAttention(nn.Module):\n",
        "  \n",
        "  def __init__(self, h, d_model, dropout=0.1):\n",
        "    super(MultiHeadAttention, self).__init__()\n",
        "    assert d_model % h == 0\n",
        "    # To assume d_v always equals d_k\n",
        "    self.d_k = d_model // h\n",
        "    self.h = h\n",
        "    self.linears = clones(nn.Linear(d_model, d_model), 4)\n",
        "    self.attn = None\n",
        "    self.dropout = nn.Dropout(p=dropout)\n",
        "\n",
        "\n",
        "  def forward(self, query, key, value, mask=None):\n",
        "    if mask is not None:\n",
        "      # Same mask applied to all h heads.\n",
        "      mask = mask.unsqueeze(1)\n",
        "    nbatches = query.size(0)\n",
        "\n",
        "    # 1) Do all the linear projections in batch from d_model => h x d_k\n",
        "    query, key, value = \\\n",
        "      [l(x).view(nbatches, -1, self.h, self.d_k).transpose(1, 2)\n",
        "      for l, x in zip(self.linears, (query, key, value))]\n",
        "\n",
        "    # 2) Apply attention on all the projected vectors in batch.\n",
        "    att_out, self.attn = sdp_attention(query, key, value, mask=mask, \n",
        "                                       dropout=self.dropout)\n",
        "\n",
        "    # 3) \"Concat\" using a view and apply a final linear.\n",
        "    concat_out = att_out.transpose(1, 2).contiguous().view(nbatches, -1, \n",
        "                                                           self.h * self.d_k)\n",
        "\n",
        "    # 4) Last linear\n",
        "    return query, key, value, att_out, concat_out, self.linears[-1](concat_out)"
      ],
      "execution_count": 17,
      "outputs": []
    },
    {
      "cell_type": "markdown",
      "metadata": {
        "id": "KbId20t_aBu4"
      },
      "source": [
        "We can see how the tensor is divided into the $ h $ heads and then contactenated to recover its original shape."
      ]
    },
    {
      "cell_type": "code",
      "metadata": {
        "colab": {
          "base_uri": "https://localhost:8080/"
        },
        "id": "se0tXhR_fCks",
        "outputId": "c6eb697b-cc52-45ee-c4c0-5a10173490a7"
      },
      "source": [
        "#@title  { vertical-output: true }\n",
        "#@markdown Attention blocks\n",
        "h =  8#@param {type:\"integer\"}\n",
        "\n",
        "# get previous output as input\n",
        "input = enc_out\n",
        "\n",
        "multi = MultiHeadAttention(h , d_model)\n",
        "q, k, v, att, concat, output = multi(input, input, input)\n",
        "\n",
        "print('Input with dimension: (m x n)')\n",
        "print(tuple(input.shape), '\\n')\n",
        "\n",
        "print('Query, keys and values with dimension: (m x h x n x d_k)')\n",
        "print(tuple(q.shape), '\\n')\n",
        "\n",
        "print('Output with dimension: (m x n x d_model)')\n",
        "print(tuple(output.shape), '\\n')\n",
        "\n",
        "for w, layer in zip(['W_Q', 'W_K', 'W_V', 'W_O'], multi.linears): \n",
        "  print(f'{w} with dimension: {tuple(layer.weight.shape)}')"
      ],
      "execution_count": 18,
      "outputs": [
        {
          "output_type": "stream",
          "text": [
            "Input with dimension: (m x n)\n",
            "(5, 10, 512) \n",
            "\n",
            "Query, keys and values with dimension: (m x h x n x d_k)\n",
            "(5, 8, 10, 64) \n",
            "\n",
            "Output with dimension: (m x n x d_model)\n",
            "(5, 10, 512) \n",
            "\n",
            "W_Q with dimension: (512, 512)\n",
            "W_K with dimension: (512, 512)\n",
            "W_V with dimension: (512, 512)\n",
            "W_O with dimension: (512, 512)\n"
          ],
          "name": "stdout"
        }
      ]
    },
    {
      "cell_type": "markdown",
      "metadata": {
        "id": "pyScS4mWaIGG"
      },
      "source": [
        "### 3.3.2 - Feed-Forward"
      ]
    },
    {
      "cell_type": "markdown",
      "metadata": {
        "id": "leKQ5Bk1M6fW"
      },
      "source": [
        "Each layer contains a fully connected feed-forward network. It is used different parameters between blocks.\n",
        "\n",
        "\\begin{equation}\n",
        "  \\text{FFN}(x) = \\text{max}(0,\\ xW_1 \\ + \\ b_1)W_2 \\ + \\ b_2\n",
        "\\end{equation}"
      ]
    },
    {
      "cell_type": "markdown",
      "metadata": {
        "id": "lAS0XzeuaNSt"
      },
      "source": [
        "> In the original paper the input and output have dimensionality $ d_{model} = 512 $ and the inner-layer $ d_{ff} = 2048 $."
      ]
    },
    {
      "cell_type": "code",
      "metadata": {
        "id": "ZMlushNuv3BV"
      },
      "source": [
        "class PositionwiseFeedForward(nn.Module):\n",
        "\n",
        "  def __init__(self, d_model, d_ff, dropout=0.1):\n",
        "    super(PositionwiseFeedForward, self).__init__()\n",
        "    self.w_1 = nn.Linear(d_model, d_ff)\n",
        "    self.w_2 = nn.Linear(d_ff, d_model)\n",
        "    self.dropout = nn.Dropout(dropout)\n",
        "\n",
        "  def forward(self, x):\n",
        "    return self.w_2(self.dropout(F.relu(self.w_1(x))))"
      ],
      "execution_count": 19,
      "outputs": []
    },
    {
      "cell_type": "markdown",
      "metadata": {
        "id": "98jLXRaxnDJv"
      },
      "source": [
        "### 3.3.3 Add & Norm"
      ]
    },
    {
      "cell_type": "markdown",
      "metadata": {
        "id": "5rgP8tPIVuS7"
      },
      "source": [
        "This layer corresponds to a [residual connection](https://openaccess.thecvf.com/content_cvpr_2016/html/He_Deep_Residual_Learning_CVPR_2016_paper.html) followed by [layer normalization](https://arxiv.org/abs/1607.06450) in both sub-layers. The goal of a residual connection is easing the training, with layers learning functions with reference to the layer inputs, instead of learning unreferenced ones. The layer normalization is a normalization which is applied per feature."
      ]
    },
    {
      "cell_type": "markdown",
      "metadata": {
        "id": "-PEU842En4eM"
      },
      "source": [
        "![Layer Normalization](https://raw.githubusercontent.com/ion-bueno/bert-from-inside/main/images/layer_norm.png)\n",
        "\n",
        "> Layer Normalization"
      ]
    },
    {
      "cell_type": "markdown",
      "metadata": {
        "id": "yDoWEwSxtlCi"
      },
      "source": [
        "Then, the output of each sub-layer is:\n",
        "\n",
        "\\begin{equation}\n",
        "    \\text{LayerNorm}(x \\ + \\ \\text{Sublayer}(x))\n",
        "\\end{equation}\n",
        "\n",
        "where $ \\text{Sublayer}(x) $ is the function implemented by the corresponding sub-layer. \n",
        "\n",
        "In order to reduce overfitting, it is applied dropout to the output of each sub-layer, before it is added to the sub-layer input and normalized."
      ]
    },
    {
      "cell_type": "code",
      "metadata": {
        "id": "yWCRO3n8w6GK"
      },
      "source": [
        "class LayerNorm(nn.Module):\n",
        "\n",
        "  def __init__(self, features, eps=1e-6):\n",
        "    super(LayerNorm, self).__init__()\n",
        "    self.a_2 = nn.Parameter(torch.ones(features))\n",
        "    self.b_2 = nn.Parameter(torch.zeros(features))\n",
        "    self.eps = eps\n",
        "\n",
        "  def forward(self, x):\n",
        "    mean = x.mean(-1, keepdim=True)\n",
        "    std = x.std(-1, keepdim=True)\n",
        "    return self.a_2 * (x - mean) / (std + self.eps) + self.b_2"
      ],
      "execution_count": 20,
      "outputs": []
    },
    {
      "cell_type": "markdown",
      "metadata": {
        "id": "m0riUa70aU8b"
      },
      "source": [
        "To show normalization process in a layer"
      ]
    },
    {
      "cell_type": "code",
      "metadata": {
        "colab": {
          "base_uri": "https://localhost:8080/"
        },
        "id": "nsnnp7boyMI5",
        "outputId": "369a213d-ff6b-4c93-9bed-2cca8285e32d"
      },
      "source": [
        "#@title { vertical-output: true }\n",
        "#@markdown This variable would correspond with d_model in the Transformer\n",
        "features = 5 #@param {type:\"integer\"}\n",
        "rows = 2 #@param {type:\"integer\"}\n",
        "\n",
        "batch_norm = batch_gen(5, rows, features)\n",
        "input = batch_norm.src.float()\n",
        "print('Input')\n",
        "print(input.detach().numpy(), '\\n')\n",
        "\n",
        "output = LayerNorm(features)(input)\n",
        "print('Output')\n",
        "print(output.detach().numpy())"
      ],
      "execution_count": 21,
      "outputs": [
        {
          "output_type": "stream",
          "text": [
            "Input\n",
            "[[1. 2. 1. 2. 3.]\n",
            " [1. 4. 1. 1. 3.]] \n",
            "\n",
            "Output\n",
            "[[-0.95618165  0.23904549 -0.95618165  0.23904549  1.4342726 ]\n",
            " [-0.7071063   1.4142126  -0.7071063  -0.7071063   0.7071063 ]]\n"
          ],
          "name": "stdout"
        }
      ]
    },
    {
      "cell_type": "markdown",
      "metadata": {
        "id": "il6ellS9aas_"
      },
      "source": [
        "Class to represent Sublayer Connection"
      ]
    },
    {
      "cell_type": "code",
      "metadata": {
        "id": "klJw2QYEw8js"
      },
      "source": [
        "class SublayerConnection(nn.Module):\n",
        "  \"\"\"A residual connection followed by a layer norm.\n",
        "  Note for code simplicity the norm is first as opposed to last\n",
        "  \n",
        "  \"\"\"\n",
        "  def __init__(self, size, dropout):\n",
        "    super(SublayerConnection, self).__init__()\n",
        "    self.norm = LayerNorm(size)\n",
        "    self.dropout = nn.Dropout(dropout)\n",
        "\n",
        "  def forward(self, x, sublayer):\n",
        "    \"\"\"Apply residual connection to any sublayer with the same size\n",
        "\n",
        "    \"\"\"\n",
        "    return x + self.dropout(sublayer(self.norm(x)))"
      ],
      "execution_count": 22,
      "outputs": []
    },
    {
      "cell_type": "markdown",
      "metadata": {
        "id": "aofgg0qifWRd"
      },
      "source": [
        "\n",
        "\n",
        "---\n",
        "\n"
      ]
    },
    {
      "cell_type": "markdown",
      "metadata": {
        "id": "oB-x7Ye92U_A"
      },
      "source": [
        "Now that all layers are explained, we can implement the whole encoder. First, it is defined the class for an instance in the stack."
      ]
    },
    {
      "cell_type": "code",
      "metadata": {
        "id": "KHgrd2822bir"
      },
      "source": [
        "class EncoderLayer(nn.Module):\n",
        "\n",
        "  def __init__(self, size, self_attn, feed_forward, dropout):\n",
        "    super(EncoderLayer, self).__init__()\n",
        "    self.self_attn = self_attn\n",
        "    self.feed_forward = feed_forward\n",
        "    self.sublayer = clones(SublayerConnection(size, dropout), 2)\n",
        "    self.size = size\n",
        "\n",
        "  def forward(self, x, mask):\n",
        "    x = self.sublayer[0](x, lambda x: self.self_attn(x, x, x, mask))\n",
        "    return self.sublayer[1](x, self.feed_forward)"
      ],
      "execution_count": 23,
      "outputs": []
    },
    {
      "cell_type": "markdown",
      "metadata": {
        "id": "V9_hBtxp3Rhm"
      },
      "source": [
        "And the whole class for the encoder\n",
        "\n",
        "> In the original paper they used a stack of $ N=6 $"
      ]
    },
    {
      "cell_type": "code",
      "metadata": {
        "id": "NF0BUBYQ3UhK"
      },
      "source": [
        "class Encoder(nn.Module):\n",
        "    \n",
        "  def __init__(self, layer, N):\n",
        "    super(Encoder, self).__init__()\n",
        "    self.layers = clones(layer, N)\n",
        "    self.norm = LayerNorm(layer.size)\n",
        "\n",
        "  def forward(self, x, mask):\n",
        "    for layer in self.layers: \n",
        "      x = layer(x, mask)\n",
        "    return self.norm(x)"
      ],
      "execution_count": 24,
      "outputs": []
    },
    {
      "cell_type": "markdown",
      "metadata": {
        "id": "s7qGfrVEaoXA"
      },
      "source": [
        "To show encoder"
      ]
    },
    {
      "cell_type": "code",
      "metadata": {
        "colab": {
          "base_uri": "https://localhost:8080/"
        },
        "id": "L3fL2fnkMQKl",
        "outputId": "abbe72f5-855e-4b42-910b-ae1e466a602d"
      },
      "source": [
        "#@title \n",
        "#@markdown Attention blocks\n",
        "h =  8#@param {type:\"integer\"}\n",
        "#@markdown Embedding dimension\n",
        "d_model = 512 #@param {type:\"integer\"}\n",
        "#@markdown Dimension inner layer\n",
        "d_ff = 2048 #@param {type:\"integer\"}\n",
        "#@markdown Dropout\n",
        "dropout = 0.1 #@param {type:\"number\"}\n",
        "#@markdown Encoder blocks\n",
        "N = 6 #@param {type:\"integer\"}\n",
        "\n",
        "c = copy.deepcopy\n",
        "attn = MultiHeadAttention(h, d_model)\n",
        "ff = PositionwiseFeedForward(d_model, d_ff, dropout)\n",
        "\n",
        "enc_block = EncoderLayer(d_model, c(attn), c(ff), dropout)\n",
        "encoder = Encoder(enc_block, N)\n",
        "\n",
        "print(f'One encoder block, there are {N} like this\\n')\n",
        "print(encoder.layers[0])"
      ],
      "execution_count": 25,
      "outputs": [
        {
          "output_type": "stream",
          "text": [
            "One encoder block, there are 6 like this\n",
            "\n",
            "EncoderLayer(\n",
            "  (self_attn): MultiHeadAttention(\n",
            "    (linears): ModuleList(\n",
            "      (0): Linear(in_features=512, out_features=512, bias=True)\n",
            "      (1): Linear(in_features=512, out_features=512, bias=True)\n",
            "      (2): Linear(in_features=512, out_features=512, bias=True)\n",
            "      (3): Linear(in_features=512, out_features=512, bias=True)\n",
            "    )\n",
            "    (dropout): Dropout(p=0.1, inplace=False)\n",
            "  )\n",
            "  (feed_forward): PositionwiseFeedForward(\n",
            "    (w_1): Linear(in_features=512, out_features=2048, bias=True)\n",
            "    (w_2): Linear(in_features=2048, out_features=512, bias=True)\n",
            "    (dropout): Dropout(p=0.1, inplace=False)\n",
            "  )\n",
            "  (sublayer): ModuleList(\n",
            "    (0): SublayerConnection(\n",
            "      (norm): LayerNorm()\n",
            "      (dropout): Dropout(p=0.1, inplace=False)\n",
            "    )\n",
            "    (1): SublayerConnection(\n",
            "      (norm): LayerNorm()\n",
            "      (dropout): Dropout(p=0.1, inplace=False)\n",
            "    )\n",
            "  )\n",
            ")\n"
          ],
          "name": "stdout"
        }
      ]
    },
    {
      "cell_type": "markdown",
      "metadata": {
        "id": "i6apm_esRlPP"
      },
      "source": [
        "## 3.4 - Decoder"
      ]
    },
    {
      "cell_type": "markdown",
      "metadata": {
        "id": "A5WY0_QqyvBF"
      },
      "source": [
        "It is also composed of a stack of $ N $ decoder blocks. Using the output from the encoder its function is also mapping sets to sets, maintaning the shape: number of vectors $ m $ and length $ n $. However, the dimensionality in the number of words differs one position from the encoder, being the size: $ ( m \\ x \\ n-1 \\ x \\ d_{model} ) $. In the original implementation, they employ $ N=6 $ decoders."
      ]
    },
    {
      "cell_type": "markdown",
      "metadata": {
        "id": "ivW20glBbTXN"
      },
      "source": [
        "![Transformer's decoder](https://raw.githubusercontent.com/ion-bueno/bert-from-inside/main/images/decoder.png)\n",
        "\n",
        "> Decoder architecture. Modified image from [Attention is All You Need](https://arxiv.org/abs/1706.03762)"
      ]
    },
    {
      "cell_type": "markdown",
      "metadata": {
        "id": "2XLa9Wa8U7Wj"
      },
      "source": [
        "The architecture is almost equal to the encoder. Appart from the dimension, there are other two differences:\n",
        "\n",
        "-   The mask for the first multi-attention.\n",
        "-   The encoder's output used as input in the second multi-attention.\n",
        "\n"
      ]
    },
    {
      "cell_type": "markdown",
      "metadata": {
        "id": "W5Ocr6ZOa_fk"
      },
      "source": [
        "### 3.4.1 - Masked Multi-Head Attention"
      ]
    },
    {
      "cell_type": "markdown",
      "metadata": {
        "id": "XutrVAx7Vk_H"
      },
      "source": [
        "The use of a mask is already implemented in the self-attention function and in the generation of a batch. This prevents attending to subsequent positions and ensures that the predictions only depend on known outputs previous to the current one."
      ]
    },
    {
      "cell_type": "markdown",
      "metadata": {
        "id": "MzScbuiZbYh6"
      },
      "source": [
        "![Masked self-attention](https://raw.githubusercontent.com/ion-bueno/bert-from-inside/main/images/masked_attn.png)\n",
        "\n",
        "> Self-attention intuition in encoder and decoder. Image from [Transformer video](https://www.youtube.com/watch?v=TQQlZhbC5ps&list=PLTl9hO2Oobd_bzXUpzKMKA3liq2kj6LfE) by CodeEmporium."
      ]
    },
    {
      "cell_type": "code",
      "metadata": {
        "colab": {
          "base_uri": "https://localhost:8080/"
        },
        "id": "hZgY-1yCaphw",
        "outputId": "9e2030c8-13af-417c-f3ad-b024cdfce83c"
      },
      "source": [
        "enc_mask = batch.src_mask.detach().numpy()\n",
        "dec_mask = batch.trg_mask[0].detach().numpy()\n",
        "\n",
        "print('No mask used in encoder\\n')\n",
        "print(enc_mask, '\\n\\n')\n",
        "\n",
        "print('Mask used in decoder\\n')\n",
        "print(dec_mask)"
      ],
      "execution_count": 26,
      "outputs": [
        {
          "output_type": "stream",
          "text": [
            "No mask used in encoder\n",
            "\n",
            "[[[ True  True  True  True  True  True  True  True  True  True]]\n",
            "\n",
            " [[ True  True  True  True  True  True  True  True  True  True]]\n",
            "\n",
            " [[ True  True  True  True  True  True  True  True  True  True]]\n",
            "\n",
            " [[ True  True  True  True  True  True  True  True  True  True]]\n",
            "\n",
            " [[ True  True  True  True  True  True  True  True  True  True]]] \n",
            "\n",
            "\n",
            "Mask used in decoder\n",
            "\n",
            "[[ True False False False False False False False False]\n",
            " [ True  True False False False False False False False]\n",
            " [ True  True  True False False False False False False]\n",
            " [ True  True  True  True False False False False False]\n",
            " [ True  True  True  True  True False False False False]\n",
            " [ True  True  True  True  True  True False False False]\n",
            " [ True  True  True  True  True  True  True False False]\n",
            " [ True  True  True  True  True  True  True  True False]\n",
            " [ True  True  True  True  True  True  True  True  True]]\n"
          ],
          "name": "stdout"
        }
      ]
    },
    {
      "cell_type": "markdown",
      "metadata": {
        "id": "zvvlsaTyb7BS"
      },
      "source": [
        "### 3.4.2 - Encoder-Decoder Self-Attention"
      ]
    },
    {
      "cell_type": "markdown",
      "metadata": {
        "id": "AFncrjt8eTiR"
      },
      "source": [
        "The second sublayer in the decoder is a multi-head attention, without mask in this case, but using the encoder's output as input in the block.\n",
        "\n",
        "\\begin{matrix}\n",
        "  \\text{Query} & \\rightarrow & Q^D  & \\text{from decoder's input embedding} \\\\\n",
        "  \\text{Keys} & \\rightarrow & K^E & \\text{from encoder's output} \\\\\n",
        "  \\text{Values} & \\rightarrow & V^E & \\text{from encoder's output}\n",
        "\\end{matrix}"
      ]
    },
    {
      "cell_type": "markdown",
      "metadata": {
        "id": "o8E3Qhk1h22R"
      },
      "source": [
        "Once these two differences are explained, it can be implemented the decoder's blocks."
      ]
    },
    {
      "cell_type": "code",
      "metadata": {
        "id": "QVuMeBPJh-tN"
      },
      "source": [
        "class DecoderLayer(nn.Module):\n",
        "\n",
        "  def __init__(self, size, self_attn, src_attn, feed_forward, dropout):\n",
        "    super(DecoderLayer, self).__init__()\n",
        "    self.size = size\n",
        "    self.self_attn = self_attn\n",
        "    self.src_attn = src_attn\n",
        "    self.feed_forward = feed_forward\n",
        "    self.sublayer = clones(SublayerConnection(size, dropout), 3)\n",
        "\n",
        "  def forward(self, x, memory, src_mask, tgt_mask):\n",
        "    \n",
        "    x = self.sublayer[0](x, lambda x: self.self_attn(x, x, x, tgt_mask))\n",
        "    x = self.sublayer[1](x, lambda x: self.src_attn(x, memory, memory, src_mask))\n",
        "    return self.sublayer[2](x, self.feed_forward)"
      ],
      "execution_count": 27,
      "outputs": []
    },
    {
      "cell_type": "markdown",
      "metadata": {
        "id": "vNn7e0ZiiK1G"
      },
      "source": [
        "And the complete decoder."
      ]
    },
    {
      "cell_type": "code",
      "metadata": {
        "id": "F8l37wzGiMPw"
      },
      "source": [
        "class Decoder(nn.Module):\n",
        "\n",
        "  def __init__(self, layer, N):\n",
        "    super(Decoder, self).__init__()\n",
        "    self.layers = clones(layer, N)\n",
        "    self.norm = LayerNorm(layer.size)\n",
        "\n",
        "  def forward(self, x, memory, src_mask, tgt_mask):\n",
        "    for layer in self.layers:\n",
        "      x = layer(x, memory, src_mask, tgt_mask)\n",
        "    return self.norm(x)"
      ],
      "execution_count": 28,
      "outputs": []
    },
    {
      "cell_type": "markdown",
      "metadata": {
        "id": "jCnMNMjUcBQo"
      },
      "source": [
        "To show decoder architecture."
      ]
    },
    {
      "cell_type": "code",
      "metadata": {
        "colab": {
          "base_uri": "https://localhost:8080/"
        },
        "id": "K8cZH1NvB2Ml",
        "outputId": "7cf10da4-397e-4ac1-cca5-6f576bd0afa9"
      },
      "source": [
        "#@title \n",
        "#@markdown Attention blocks\n",
        "h =  8#@param {type:\"integer\"}\n",
        "#@markdown Embedding dimension\n",
        "d_model = 512 #@param {type:\"integer\"}\n",
        "#@markdown Dimension inner layer\n",
        "d_ff = 2048 #@param {type:\"integer\"}\n",
        "#@markdown Dropout\n",
        "dropout = 0.1 #@param {type:\"number\"}\n",
        "#@markdown Encoder blocks\n",
        "N = 6 #@param {type:\"integer\"}\n",
        "\n",
        "c = copy.deepcopy\n",
        "attn = MultiHeadAttention(h, d_model)\n",
        "ff = PositionwiseFeedForward(d_model, d_ff, dropout)\n",
        "\n",
        "dec_block = DecoderLayer(d_model, c(attn), c(attn), c(ff), dropout)\n",
        "decoder = Decoder(dec_block, N)\n",
        "\n",
        "print(f'One decoder block, there are {N} like this\\n')\n",
        "print(decoder.layers[0])"
      ],
      "execution_count": 29,
      "outputs": [
        {
          "output_type": "stream",
          "text": [
            "One decoder block, there are 6 like this\n",
            "\n",
            "DecoderLayer(\n",
            "  (self_attn): MultiHeadAttention(\n",
            "    (linears): ModuleList(\n",
            "      (0): Linear(in_features=512, out_features=512, bias=True)\n",
            "      (1): Linear(in_features=512, out_features=512, bias=True)\n",
            "      (2): Linear(in_features=512, out_features=512, bias=True)\n",
            "      (3): Linear(in_features=512, out_features=512, bias=True)\n",
            "    )\n",
            "    (dropout): Dropout(p=0.1, inplace=False)\n",
            "  )\n",
            "  (src_attn): MultiHeadAttention(\n",
            "    (linears): ModuleList(\n",
            "      (0): Linear(in_features=512, out_features=512, bias=True)\n",
            "      (1): Linear(in_features=512, out_features=512, bias=True)\n",
            "      (2): Linear(in_features=512, out_features=512, bias=True)\n",
            "      (3): Linear(in_features=512, out_features=512, bias=True)\n",
            "    )\n",
            "    (dropout): Dropout(p=0.1, inplace=False)\n",
            "  )\n",
            "  (feed_forward): PositionwiseFeedForward(\n",
            "    (w_1): Linear(in_features=512, out_features=2048, bias=True)\n",
            "    (w_2): Linear(in_features=2048, out_features=512, bias=True)\n",
            "    (dropout): Dropout(p=0.1, inplace=False)\n",
            "  )\n",
            "  (sublayer): ModuleList(\n",
            "    (0): SublayerConnection(\n",
            "      (norm): LayerNorm()\n",
            "      (dropout): Dropout(p=0.1, inplace=False)\n",
            "    )\n",
            "    (1): SublayerConnection(\n",
            "      (norm): LayerNorm()\n",
            "      (dropout): Dropout(p=0.1, inplace=False)\n",
            "    )\n",
            "    (2): SublayerConnection(\n",
            "      (norm): LayerNorm()\n",
            "      (dropout): Dropout(p=0.1, inplace=False)\n",
            "    )\n",
            "  )\n",
            ")\n"
          ],
          "name": "stdout"
        }
      ]
    },
    {
      "cell_type": "markdown",
      "metadata": {
        "id": "zxEz0m8hW9y2"
      },
      "source": [
        "## 3.5 - Generator"
      ]
    },
    {
      "cell_type": "markdown",
      "metadata": {
        "id": "tBFIP1RX2KwQ"
      },
      "source": [
        "The final block is a combination of a feed-forward network and a softmax in order to get probabilities for next word."
      ]
    },
    {
      "cell_type": "markdown",
      "metadata": {
        "id": "z_qOaBC1cK13"
      },
      "source": [
        "![Transformer's generator](https://raw.githubusercontent.com/ion-bueno/bert-from-inside/main/images/generator.png)\n",
        "\n",
        "> Final module, generator. Modified image from [Attention is All You Need](https://arxiv.org/abs/1706.03762)"
      ]
    },
    {
      "cell_type": "code",
      "metadata": {
        "id": "R1XNpbMhBHh6"
      },
      "source": [
        "class Generator(nn.Module):\n",
        "   \n",
        "  def __init__(self, d_model, vocab):\n",
        "    super(Generator, self).__init__()\n",
        "    self.proj = nn.Linear(d_model, vocab)\n",
        "\n",
        "  def forward(self, x):\n",
        "    return F.log_softmax(self.proj(x), dim=-1)"
      ],
      "execution_count": 30,
      "outputs": []
    },
    {
      "cell_type": "markdown",
      "metadata": {
        "id": "UyjjFoHV4Z9H"
      },
      "source": [
        "## 3.6 - Final Visualization\n"
      ]
    },
    {
      "cell_type": "markdown",
      "metadata": {
        "id": "Q-Csm3wmI6Vm"
      },
      "source": [
        "Finally, we can implement the whole transformer architecture."
      ]
    },
    {
      "cell_type": "code",
      "metadata": {
        "id": "A6pCQJOKDOpR"
      },
      "source": [
        "class EncoderDecoder(nn.Module):\n",
        "\n",
        "  def __init__(self, encoder, decoder, src_embed, tgt_embed, generator):\n",
        "    super(EncoderDecoder, self).__init__()\n",
        "    self.encoder = encoder\n",
        "    self.decoder = decoder\n",
        "    self.src_embed = src_embed\n",
        "    self.tgt_embed = tgt_embed\n",
        "    self.generator = generator\n",
        "\n",
        "  def forward(self, src, tgt, src_mask, tgt_mask):\n",
        "    return self.decode(self.encode(src, src_mask), src_mask, tgt, tgt_mask)\n",
        "\n",
        "  def encode(self, src, src_mask):\n",
        "    return self.encoder(self.src_embed(src), src_mask)\n",
        "\n",
        "  def decode(self, memory, src_mask, tgt, tgt_mask):\n",
        "    return self.decoder(self.tgt_embed(tgt), memory, src_mask, tgt_mask)"
      ],
      "execution_count": 31,
      "outputs": []
    },
    {
      "cell_type": "markdown",
      "metadata": {
        "id": "ypAq7A13cUIm"
      },
      "source": [
        "Function to get a transforme by just setting the parameters."
      ]
    },
    {
      "cell_type": "code",
      "metadata": {
        "id": "jbLhOCWTchCh"
      },
      "source": [
        "def make_model(src_vocab, tgt_vocab, N=6, d_model=512, d_ff=2048, h=8, dropout=0.1):\n",
        "    c = copy.deepcopy\n",
        "    attn = MultiHeadAttention(h, d_model)\n",
        "    ff = PositionwiseFeedForward(d_model, d_ff, dropout)\n",
        "    position = PositionalEncoding(d_model, dropout)\n",
        "    model = EncoderDecoder(\n",
        "            Encoder(EncoderLayer(d_model, c(attn), c(ff), dropout), N),\n",
        "            Decoder(DecoderLayer(d_model, c(attn), c(attn), c(ff), dropout), N),\n",
        "            nn.Sequential(Embeddings(d_model, src_vocab), c(position)),\n",
        "            nn.Sequential(Embeddings(d_model, tgt_vocab), c(position)),\n",
        "            Generator(d_model, tgt_vocab))\n",
        "\n",
        "    # This was important from their code.\n",
        "    # Initialize parameters with Glorot / fan_avg.\n",
        "    for p in model.parameters():\n",
        "        if p.dim() > 1:\n",
        "            nn.init.xavier_uniform_(p)\n",
        "\n",
        "    return model"
      ],
      "execution_count": 32,
      "outputs": []
    },
    {
      "cell_type": "markdown",
      "metadata": {
        "id": "I9Zt7OVFcq6e"
      },
      "source": [
        "Set the Transformer parameters."
      ]
    },
    {
      "cell_type": "code",
      "metadata": {
        "id": "RKdpBa-aFIR_"
      },
      "source": [
        "#@markdown Size of source vocabulary\n",
        "src_vocab = 11#@param {type:\"integer\"}\n",
        "#@markdown Size of target vocabulary\n",
        "tgt_vocab = 11#@param {type:\"integer\"}\n",
        "#@markdown Number of encoder and decoder blocks\n",
        "N = 6#@param {type:\"integer\"}\n",
        "#@markdown Inner Transformer size\n",
        "d_model = 512#@param {type:\"integer\"}\n",
        "#@markdown Hidden feed forward size\n",
        "d_ff = 2048#@param {type:\"integer\"}\n",
        "#@markdown Number of attention heads\n",
        "h = 8#@param {type:\"integer\"}\n",
        "#@markdown Dropout probability\n",
        "dropout = 0.1#@param {type:\"number\"}\n",
        "\n",
        "model = make_model(src_vocab, tgt_vocab, N, d_model, d_ff, h, dropout)"
      ],
      "execution_count": 33,
      "outputs": []
    },
    {
      "cell_type": "markdown",
      "metadata": {
        "id": "CH-9hBJudSnF"
      },
      "source": [
        "To visualize the whole architecture or per block."
      ]
    },
    {
      "cell_type": "code",
      "metadata": {
        "colab": {
          "base_uri": "https://localhost:8080/"
        },
        "id": "rf9xw--dFRnk",
        "outputId": "17d81698-66e4-4394-c7ed-f888459443e1"
      },
      "source": [
        "#@markdown Select a block in the Transformer to visualize it\n",
        "block = \"transformer\" #@param [\"transformer\", \"encoder\", \"decoder\", \"src_embed\", \"tgt_embed\", \"generator\"]\n",
        "\n",
        "if block == 'transformer':\n",
        "    print(model)\n",
        "else:\n",
        "    print(getattr(model, block))"
      ],
      "execution_count": 34,
      "outputs": [
        {
          "output_type": "stream",
          "text": [
            "EncoderDecoder(\n",
            "  (encoder): Encoder(\n",
            "    (layers): ModuleList(\n",
            "      (0): EncoderLayer(\n",
            "        (self_attn): MultiHeadAttention(\n",
            "          (linears): ModuleList(\n",
            "            (0): Linear(in_features=512, out_features=512, bias=True)\n",
            "            (1): Linear(in_features=512, out_features=512, bias=True)\n",
            "            (2): Linear(in_features=512, out_features=512, bias=True)\n",
            "            (3): Linear(in_features=512, out_features=512, bias=True)\n",
            "          )\n",
            "          (dropout): Dropout(p=0.1, inplace=False)\n",
            "        )\n",
            "        (feed_forward): PositionwiseFeedForward(\n",
            "          (w_1): Linear(in_features=512, out_features=2048, bias=True)\n",
            "          (w_2): Linear(in_features=2048, out_features=512, bias=True)\n",
            "          (dropout): Dropout(p=0.1, inplace=False)\n",
            "        )\n",
            "        (sublayer): ModuleList(\n",
            "          (0): SublayerConnection(\n",
            "            (norm): LayerNorm()\n",
            "            (dropout): Dropout(p=0.1, inplace=False)\n",
            "          )\n",
            "          (1): SublayerConnection(\n",
            "            (norm): LayerNorm()\n",
            "            (dropout): Dropout(p=0.1, inplace=False)\n",
            "          )\n",
            "        )\n",
            "      )\n",
            "      (1): EncoderLayer(\n",
            "        (self_attn): MultiHeadAttention(\n",
            "          (linears): ModuleList(\n",
            "            (0): Linear(in_features=512, out_features=512, bias=True)\n",
            "            (1): Linear(in_features=512, out_features=512, bias=True)\n",
            "            (2): Linear(in_features=512, out_features=512, bias=True)\n",
            "            (3): Linear(in_features=512, out_features=512, bias=True)\n",
            "          )\n",
            "          (dropout): Dropout(p=0.1, inplace=False)\n",
            "        )\n",
            "        (feed_forward): PositionwiseFeedForward(\n",
            "          (w_1): Linear(in_features=512, out_features=2048, bias=True)\n",
            "          (w_2): Linear(in_features=2048, out_features=512, bias=True)\n",
            "          (dropout): Dropout(p=0.1, inplace=False)\n",
            "        )\n",
            "        (sublayer): ModuleList(\n",
            "          (0): SublayerConnection(\n",
            "            (norm): LayerNorm()\n",
            "            (dropout): Dropout(p=0.1, inplace=False)\n",
            "          )\n",
            "          (1): SublayerConnection(\n",
            "            (norm): LayerNorm()\n",
            "            (dropout): Dropout(p=0.1, inplace=False)\n",
            "          )\n",
            "        )\n",
            "      )\n",
            "      (2): EncoderLayer(\n",
            "        (self_attn): MultiHeadAttention(\n",
            "          (linears): ModuleList(\n",
            "            (0): Linear(in_features=512, out_features=512, bias=True)\n",
            "            (1): Linear(in_features=512, out_features=512, bias=True)\n",
            "            (2): Linear(in_features=512, out_features=512, bias=True)\n",
            "            (3): Linear(in_features=512, out_features=512, bias=True)\n",
            "          )\n",
            "          (dropout): Dropout(p=0.1, inplace=False)\n",
            "        )\n",
            "        (feed_forward): PositionwiseFeedForward(\n",
            "          (w_1): Linear(in_features=512, out_features=2048, bias=True)\n",
            "          (w_2): Linear(in_features=2048, out_features=512, bias=True)\n",
            "          (dropout): Dropout(p=0.1, inplace=False)\n",
            "        )\n",
            "        (sublayer): ModuleList(\n",
            "          (0): SublayerConnection(\n",
            "            (norm): LayerNorm()\n",
            "            (dropout): Dropout(p=0.1, inplace=False)\n",
            "          )\n",
            "          (1): SublayerConnection(\n",
            "            (norm): LayerNorm()\n",
            "            (dropout): Dropout(p=0.1, inplace=False)\n",
            "          )\n",
            "        )\n",
            "      )\n",
            "      (3): EncoderLayer(\n",
            "        (self_attn): MultiHeadAttention(\n",
            "          (linears): ModuleList(\n",
            "            (0): Linear(in_features=512, out_features=512, bias=True)\n",
            "            (1): Linear(in_features=512, out_features=512, bias=True)\n",
            "            (2): Linear(in_features=512, out_features=512, bias=True)\n",
            "            (3): Linear(in_features=512, out_features=512, bias=True)\n",
            "          )\n",
            "          (dropout): Dropout(p=0.1, inplace=False)\n",
            "        )\n",
            "        (feed_forward): PositionwiseFeedForward(\n",
            "          (w_1): Linear(in_features=512, out_features=2048, bias=True)\n",
            "          (w_2): Linear(in_features=2048, out_features=512, bias=True)\n",
            "          (dropout): Dropout(p=0.1, inplace=False)\n",
            "        )\n",
            "        (sublayer): ModuleList(\n",
            "          (0): SublayerConnection(\n",
            "            (norm): LayerNorm()\n",
            "            (dropout): Dropout(p=0.1, inplace=False)\n",
            "          )\n",
            "          (1): SublayerConnection(\n",
            "            (norm): LayerNorm()\n",
            "            (dropout): Dropout(p=0.1, inplace=False)\n",
            "          )\n",
            "        )\n",
            "      )\n",
            "      (4): EncoderLayer(\n",
            "        (self_attn): MultiHeadAttention(\n",
            "          (linears): ModuleList(\n",
            "            (0): Linear(in_features=512, out_features=512, bias=True)\n",
            "            (1): Linear(in_features=512, out_features=512, bias=True)\n",
            "            (2): Linear(in_features=512, out_features=512, bias=True)\n",
            "            (3): Linear(in_features=512, out_features=512, bias=True)\n",
            "          )\n",
            "          (dropout): Dropout(p=0.1, inplace=False)\n",
            "        )\n",
            "        (feed_forward): PositionwiseFeedForward(\n",
            "          (w_1): Linear(in_features=512, out_features=2048, bias=True)\n",
            "          (w_2): Linear(in_features=2048, out_features=512, bias=True)\n",
            "          (dropout): Dropout(p=0.1, inplace=False)\n",
            "        )\n",
            "        (sublayer): ModuleList(\n",
            "          (0): SublayerConnection(\n",
            "            (norm): LayerNorm()\n",
            "            (dropout): Dropout(p=0.1, inplace=False)\n",
            "          )\n",
            "          (1): SublayerConnection(\n",
            "            (norm): LayerNorm()\n",
            "            (dropout): Dropout(p=0.1, inplace=False)\n",
            "          )\n",
            "        )\n",
            "      )\n",
            "      (5): EncoderLayer(\n",
            "        (self_attn): MultiHeadAttention(\n",
            "          (linears): ModuleList(\n",
            "            (0): Linear(in_features=512, out_features=512, bias=True)\n",
            "            (1): Linear(in_features=512, out_features=512, bias=True)\n",
            "            (2): Linear(in_features=512, out_features=512, bias=True)\n",
            "            (3): Linear(in_features=512, out_features=512, bias=True)\n",
            "          )\n",
            "          (dropout): Dropout(p=0.1, inplace=False)\n",
            "        )\n",
            "        (feed_forward): PositionwiseFeedForward(\n",
            "          (w_1): Linear(in_features=512, out_features=2048, bias=True)\n",
            "          (w_2): Linear(in_features=2048, out_features=512, bias=True)\n",
            "          (dropout): Dropout(p=0.1, inplace=False)\n",
            "        )\n",
            "        (sublayer): ModuleList(\n",
            "          (0): SublayerConnection(\n",
            "            (norm): LayerNorm()\n",
            "            (dropout): Dropout(p=0.1, inplace=False)\n",
            "          )\n",
            "          (1): SublayerConnection(\n",
            "            (norm): LayerNorm()\n",
            "            (dropout): Dropout(p=0.1, inplace=False)\n",
            "          )\n",
            "        )\n",
            "      )\n",
            "    )\n",
            "    (norm): LayerNorm()\n",
            "  )\n",
            "  (decoder): Decoder(\n",
            "    (layers): ModuleList(\n",
            "      (0): DecoderLayer(\n",
            "        (self_attn): MultiHeadAttention(\n",
            "          (linears): ModuleList(\n",
            "            (0): Linear(in_features=512, out_features=512, bias=True)\n",
            "            (1): Linear(in_features=512, out_features=512, bias=True)\n",
            "            (2): Linear(in_features=512, out_features=512, bias=True)\n",
            "            (3): Linear(in_features=512, out_features=512, bias=True)\n",
            "          )\n",
            "          (dropout): Dropout(p=0.1, inplace=False)\n",
            "        )\n",
            "        (src_attn): MultiHeadAttention(\n",
            "          (linears): ModuleList(\n",
            "            (0): Linear(in_features=512, out_features=512, bias=True)\n",
            "            (1): Linear(in_features=512, out_features=512, bias=True)\n",
            "            (2): Linear(in_features=512, out_features=512, bias=True)\n",
            "            (3): Linear(in_features=512, out_features=512, bias=True)\n",
            "          )\n",
            "          (dropout): Dropout(p=0.1, inplace=False)\n",
            "        )\n",
            "        (feed_forward): PositionwiseFeedForward(\n",
            "          (w_1): Linear(in_features=512, out_features=2048, bias=True)\n",
            "          (w_2): Linear(in_features=2048, out_features=512, bias=True)\n",
            "          (dropout): Dropout(p=0.1, inplace=False)\n",
            "        )\n",
            "        (sublayer): ModuleList(\n",
            "          (0): SublayerConnection(\n",
            "            (norm): LayerNorm()\n",
            "            (dropout): Dropout(p=0.1, inplace=False)\n",
            "          )\n",
            "          (1): SublayerConnection(\n",
            "            (norm): LayerNorm()\n",
            "            (dropout): Dropout(p=0.1, inplace=False)\n",
            "          )\n",
            "          (2): SublayerConnection(\n",
            "            (norm): LayerNorm()\n",
            "            (dropout): Dropout(p=0.1, inplace=False)\n",
            "          )\n",
            "        )\n",
            "      )\n",
            "      (1): DecoderLayer(\n",
            "        (self_attn): MultiHeadAttention(\n",
            "          (linears): ModuleList(\n",
            "            (0): Linear(in_features=512, out_features=512, bias=True)\n",
            "            (1): Linear(in_features=512, out_features=512, bias=True)\n",
            "            (2): Linear(in_features=512, out_features=512, bias=True)\n",
            "            (3): Linear(in_features=512, out_features=512, bias=True)\n",
            "          )\n",
            "          (dropout): Dropout(p=0.1, inplace=False)\n",
            "        )\n",
            "        (src_attn): MultiHeadAttention(\n",
            "          (linears): ModuleList(\n",
            "            (0): Linear(in_features=512, out_features=512, bias=True)\n",
            "            (1): Linear(in_features=512, out_features=512, bias=True)\n",
            "            (2): Linear(in_features=512, out_features=512, bias=True)\n",
            "            (3): Linear(in_features=512, out_features=512, bias=True)\n",
            "          )\n",
            "          (dropout): Dropout(p=0.1, inplace=False)\n",
            "        )\n",
            "        (feed_forward): PositionwiseFeedForward(\n",
            "          (w_1): Linear(in_features=512, out_features=2048, bias=True)\n",
            "          (w_2): Linear(in_features=2048, out_features=512, bias=True)\n",
            "          (dropout): Dropout(p=0.1, inplace=False)\n",
            "        )\n",
            "        (sublayer): ModuleList(\n",
            "          (0): SublayerConnection(\n",
            "            (norm): LayerNorm()\n",
            "            (dropout): Dropout(p=0.1, inplace=False)\n",
            "          )\n",
            "          (1): SublayerConnection(\n",
            "            (norm): LayerNorm()\n",
            "            (dropout): Dropout(p=0.1, inplace=False)\n",
            "          )\n",
            "          (2): SublayerConnection(\n",
            "            (norm): LayerNorm()\n",
            "            (dropout): Dropout(p=0.1, inplace=False)\n",
            "          )\n",
            "        )\n",
            "      )\n",
            "      (2): DecoderLayer(\n",
            "        (self_attn): MultiHeadAttention(\n",
            "          (linears): ModuleList(\n",
            "            (0): Linear(in_features=512, out_features=512, bias=True)\n",
            "            (1): Linear(in_features=512, out_features=512, bias=True)\n",
            "            (2): Linear(in_features=512, out_features=512, bias=True)\n",
            "            (3): Linear(in_features=512, out_features=512, bias=True)\n",
            "          )\n",
            "          (dropout): Dropout(p=0.1, inplace=False)\n",
            "        )\n",
            "        (src_attn): MultiHeadAttention(\n",
            "          (linears): ModuleList(\n",
            "            (0): Linear(in_features=512, out_features=512, bias=True)\n",
            "            (1): Linear(in_features=512, out_features=512, bias=True)\n",
            "            (2): Linear(in_features=512, out_features=512, bias=True)\n",
            "            (3): Linear(in_features=512, out_features=512, bias=True)\n",
            "          )\n",
            "          (dropout): Dropout(p=0.1, inplace=False)\n",
            "        )\n",
            "        (feed_forward): PositionwiseFeedForward(\n",
            "          (w_1): Linear(in_features=512, out_features=2048, bias=True)\n",
            "          (w_2): Linear(in_features=2048, out_features=512, bias=True)\n",
            "          (dropout): Dropout(p=0.1, inplace=False)\n",
            "        )\n",
            "        (sublayer): ModuleList(\n",
            "          (0): SublayerConnection(\n",
            "            (norm): LayerNorm()\n",
            "            (dropout): Dropout(p=0.1, inplace=False)\n",
            "          )\n",
            "          (1): SublayerConnection(\n",
            "            (norm): LayerNorm()\n",
            "            (dropout): Dropout(p=0.1, inplace=False)\n",
            "          )\n",
            "          (2): SublayerConnection(\n",
            "            (norm): LayerNorm()\n",
            "            (dropout): Dropout(p=0.1, inplace=False)\n",
            "          )\n",
            "        )\n",
            "      )\n",
            "      (3): DecoderLayer(\n",
            "        (self_attn): MultiHeadAttention(\n",
            "          (linears): ModuleList(\n",
            "            (0): Linear(in_features=512, out_features=512, bias=True)\n",
            "            (1): Linear(in_features=512, out_features=512, bias=True)\n",
            "            (2): Linear(in_features=512, out_features=512, bias=True)\n",
            "            (3): Linear(in_features=512, out_features=512, bias=True)\n",
            "          )\n",
            "          (dropout): Dropout(p=0.1, inplace=False)\n",
            "        )\n",
            "        (src_attn): MultiHeadAttention(\n",
            "          (linears): ModuleList(\n",
            "            (0): Linear(in_features=512, out_features=512, bias=True)\n",
            "            (1): Linear(in_features=512, out_features=512, bias=True)\n",
            "            (2): Linear(in_features=512, out_features=512, bias=True)\n",
            "            (3): Linear(in_features=512, out_features=512, bias=True)\n",
            "          )\n",
            "          (dropout): Dropout(p=0.1, inplace=False)\n",
            "        )\n",
            "        (feed_forward): PositionwiseFeedForward(\n",
            "          (w_1): Linear(in_features=512, out_features=2048, bias=True)\n",
            "          (w_2): Linear(in_features=2048, out_features=512, bias=True)\n",
            "          (dropout): Dropout(p=0.1, inplace=False)\n",
            "        )\n",
            "        (sublayer): ModuleList(\n",
            "          (0): SublayerConnection(\n",
            "            (norm): LayerNorm()\n",
            "            (dropout): Dropout(p=0.1, inplace=False)\n",
            "          )\n",
            "          (1): SublayerConnection(\n",
            "            (norm): LayerNorm()\n",
            "            (dropout): Dropout(p=0.1, inplace=False)\n",
            "          )\n",
            "          (2): SublayerConnection(\n",
            "            (norm): LayerNorm()\n",
            "            (dropout): Dropout(p=0.1, inplace=False)\n",
            "          )\n",
            "        )\n",
            "      )\n",
            "      (4): DecoderLayer(\n",
            "        (self_attn): MultiHeadAttention(\n",
            "          (linears): ModuleList(\n",
            "            (0): Linear(in_features=512, out_features=512, bias=True)\n",
            "            (1): Linear(in_features=512, out_features=512, bias=True)\n",
            "            (2): Linear(in_features=512, out_features=512, bias=True)\n",
            "            (3): Linear(in_features=512, out_features=512, bias=True)\n",
            "          )\n",
            "          (dropout): Dropout(p=0.1, inplace=False)\n",
            "        )\n",
            "        (src_attn): MultiHeadAttention(\n",
            "          (linears): ModuleList(\n",
            "            (0): Linear(in_features=512, out_features=512, bias=True)\n",
            "            (1): Linear(in_features=512, out_features=512, bias=True)\n",
            "            (2): Linear(in_features=512, out_features=512, bias=True)\n",
            "            (3): Linear(in_features=512, out_features=512, bias=True)\n",
            "          )\n",
            "          (dropout): Dropout(p=0.1, inplace=False)\n",
            "        )\n",
            "        (feed_forward): PositionwiseFeedForward(\n",
            "          (w_1): Linear(in_features=512, out_features=2048, bias=True)\n",
            "          (w_2): Linear(in_features=2048, out_features=512, bias=True)\n",
            "          (dropout): Dropout(p=0.1, inplace=False)\n",
            "        )\n",
            "        (sublayer): ModuleList(\n",
            "          (0): SublayerConnection(\n",
            "            (norm): LayerNorm()\n",
            "            (dropout): Dropout(p=0.1, inplace=False)\n",
            "          )\n",
            "          (1): SublayerConnection(\n",
            "            (norm): LayerNorm()\n",
            "            (dropout): Dropout(p=0.1, inplace=False)\n",
            "          )\n",
            "          (2): SublayerConnection(\n",
            "            (norm): LayerNorm()\n",
            "            (dropout): Dropout(p=0.1, inplace=False)\n",
            "          )\n",
            "        )\n",
            "      )\n",
            "      (5): DecoderLayer(\n",
            "        (self_attn): MultiHeadAttention(\n",
            "          (linears): ModuleList(\n",
            "            (0): Linear(in_features=512, out_features=512, bias=True)\n",
            "            (1): Linear(in_features=512, out_features=512, bias=True)\n",
            "            (2): Linear(in_features=512, out_features=512, bias=True)\n",
            "            (3): Linear(in_features=512, out_features=512, bias=True)\n",
            "          )\n",
            "          (dropout): Dropout(p=0.1, inplace=False)\n",
            "        )\n",
            "        (src_attn): MultiHeadAttention(\n",
            "          (linears): ModuleList(\n",
            "            (0): Linear(in_features=512, out_features=512, bias=True)\n",
            "            (1): Linear(in_features=512, out_features=512, bias=True)\n",
            "            (2): Linear(in_features=512, out_features=512, bias=True)\n",
            "            (3): Linear(in_features=512, out_features=512, bias=True)\n",
            "          )\n",
            "          (dropout): Dropout(p=0.1, inplace=False)\n",
            "        )\n",
            "        (feed_forward): PositionwiseFeedForward(\n",
            "          (w_1): Linear(in_features=512, out_features=2048, bias=True)\n",
            "          (w_2): Linear(in_features=2048, out_features=512, bias=True)\n",
            "          (dropout): Dropout(p=0.1, inplace=False)\n",
            "        )\n",
            "        (sublayer): ModuleList(\n",
            "          (0): SublayerConnection(\n",
            "            (norm): LayerNorm()\n",
            "            (dropout): Dropout(p=0.1, inplace=False)\n",
            "          )\n",
            "          (1): SublayerConnection(\n",
            "            (norm): LayerNorm()\n",
            "            (dropout): Dropout(p=0.1, inplace=False)\n",
            "          )\n",
            "          (2): SublayerConnection(\n",
            "            (norm): LayerNorm()\n",
            "            (dropout): Dropout(p=0.1, inplace=False)\n",
            "          )\n",
            "        )\n",
            "      )\n",
            "    )\n",
            "    (norm): LayerNorm()\n",
            "  )\n",
            "  (src_embed): Sequential(\n",
            "    (0): Embeddings(\n",
            "      (lut): Embedding(11, 512)\n",
            "    )\n",
            "    (1): PositionalEncoding(\n",
            "      (dropout): Dropout(p=0.1, inplace=False)\n",
            "    )\n",
            "  )\n",
            "  (tgt_embed): Sequential(\n",
            "    (0): Embeddings(\n",
            "      (lut): Embedding(11, 512)\n",
            "    )\n",
            "    (1): PositionalEncoding(\n",
            "      (dropout): Dropout(p=0.1, inplace=False)\n",
            "    )\n",
            "  )\n",
            "  (generator): Generator(\n",
            "    (proj): Linear(in_features=512, out_features=11, bias=True)\n",
            "  )\n",
            ")\n"
          ],
          "name": "stdout"
        }
      ]
    },
    {
      "cell_type": "markdown",
      "metadata": {
        "id": "vcmcatefeCb3"
      },
      "source": [
        "# 4 - BERT"
      ]
    },
    {
      "cell_type": "markdown",
      "metadata": {
        "id": "KexD7CXsOLxz"
      },
      "source": [
        "**B**idirectional **E**ncoder **R**epresentations from **T**ransformer, released in 2019 in paper [BERT: Pre-training of Deep Bidirectional Transformers for Language Understanding](https://arxiv.org/abs/1810.04805), obtaining new state-of-the-art results on eleven NLP tasks. \n",
        "\n",
        "BERT was designed to pretrain deep bidirecional representations from unlabeled text by using self-attention to get the left and right context. This approach overcomes current pre-training techniques, where they use unidirectional language models to learn general language representations. Two examples which were competitive models before BERT are [ELMo](https://arxiv.org/abs/1802.05365) and [GPT](https://openai.com/blog/language-unsupervised/).\n",
        "\n",
        "This pretrained model can be fine-tuned adding one output layer and used for a wide range of NLP tasks."
      ]
    },
    {
      "cell_type": "markdown",
      "metadata": {
        "id": "xGrb8nPpeHz6"
      },
      "source": [
        "> The original model developed in TensorFlow is in [github.com/google-research/bert](https://github.com/google-research/bert), but it is going to be used the libray of [HuggingFace](https://huggingface.co/transformers/index.html) to show the model"
      ]
    },
    {
      "cell_type": "code",
      "metadata": {
        "colab": {
          "base_uri": "https://localhost:8080/"
        },
        "id": "UnUkCtDSRYPs",
        "outputId": "1850abe9-abdf-45c4-d8bd-6dd787697693"
      },
      "source": [
        "!pip install transformers"
      ],
      "execution_count": 35,
      "outputs": [
        {
          "output_type": "stream",
          "text": [
            "Collecting transformers\n",
            "\u001b[?25l  Downloading https://files.pythonhosted.org/packages/d5/43/cfe4ee779bbd6a678ac6a97c5a5cdeb03c35f9eaebbb9720b036680f9a2d/transformers-4.6.1-py3-none-any.whl (2.2MB)\n",
            "\u001b[K     |████████████████████████████████| 2.3MB 4.0MB/s \n",
            "\u001b[?25hCollecting huggingface-hub==0.0.8\n",
            "  Downloading https://files.pythonhosted.org/packages/a1/88/7b1e45720ecf59c6c6737ff332f41c955963090a18e72acbcbeac6b25e86/huggingface_hub-0.0.8-py3-none-any.whl\n",
            "Requirement already satisfied: numpy>=1.17 in /usr/local/lib/python3.7/dist-packages (from transformers) (1.19.5)\n",
            "Requirement already satisfied: regex!=2019.12.17 in /usr/local/lib/python3.7/dist-packages (from transformers) (2019.12.20)\n",
            "Requirement already satisfied: importlib-metadata; python_version < \"3.8\" in /usr/local/lib/python3.7/dist-packages (from transformers) (4.0.1)\n",
            "Requirement already satisfied: requests in /usr/local/lib/python3.7/dist-packages (from transformers) (2.23.0)\n",
            "Requirement already satisfied: tqdm>=4.27 in /usr/local/lib/python3.7/dist-packages (from transformers) (4.41.1)\n",
            "Requirement already satisfied: packaging in /usr/local/lib/python3.7/dist-packages (from transformers) (20.9)\n",
            "Collecting tokenizers<0.11,>=0.10.1\n",
            "\u001b[?25l  Downloading https://files.pythonhosted.org/packages/d4/e2/df3543e8ffdab68f5acc73f613de9c2b155ac47f162e725dcac87c521c11/tokenizers-0.10.3-cp37-cp37m-manylinux_2_5_x86_64.manylinux1_x86_64.manylinux_2_12_x86_64.manylinux2010_x86_64.whl (3.3MB)\n",
            "\u001b[K     |████████████████████████████████| 3.3MB 23.0MB/s \n",
            "\u001b[?25hCollecting sacremoses\n",
            "\u001b[?25l  Downloading https://files.pythonhosted.org/packages/75/ee/67241dc87f266093c533a2d4d3d69438e57d7a90abb216fa076e7d475d4a/sacremoses-0.0.45-py3-none-any.whl (895kB)\n",
            "\u001b[K     |████████████████████████████████| 901kB 29.1MB/s \n",
            "\u001b[?25hRequirement already satisfied: filelock in /usr/local/lib/python3.7/dist-packages (from transformers) (3.0.12)\n",
            "Requirement already satisfied: zipp>=0.5 in /usr/local/lib/python3.7/dist-packages (from importlib-metadata; python_version < \"3.8\"->transformers) (3.4.1)\n",
            "Requirement already satisfied: typing-extensions>=3.6.4; python_version < \"3.8\" in /usr/local/lib/python3.7/dist-packages (from importlib-metadata; python_version < \"3.8\"->transformers) (3.7.4.3)\n",
            "Requirement already satisfied: idna<3,>=2.5 in /usr/local/lib/python3.7/dist-packages (from requests->transformers) (2.10)\n",
            "Requirement already satisfied: urllib3!=1.25.0,!=1.25.1,<1.26,>=1.21.1 in /usr/local/lib/python3.7/dist-packages (from requests->transformers) (1.24.3)\n",
            "Requirement already satisfied: chardet<4,>=3.0.2 in /usr/local/lib/python3.7/dist-packages (from requests->transformers) (3.0.4)\n",
            "Requirement already satisfied: certifi>=2017.4.17 in /usr/local/lib/python3.7/dist-packages (from requests->transformers) (2020.12.5)\n",
            "Requirement already satisfied: pyparsing>=2.0.2 in /usr/local/lib/python3.7/dist-packages (from packaging->transformers) (2.4.7)\n",
            "Requirement already satisfied: click in /usr/local/lib/python3.7/dist-packages (from sacremoses->transformers) (7.1.2)\n",
            "Requirement already satisfied: six in /usr/local/lib/python3.7/dist-packages (from sacremoses->transformers) (1.15.0)\n",
            "Requirement already satisfied: joblib in /usr/local/lib/python3.7/dist-packages (from sacremoses->transformers) (1.0.1)\n",
            "Installing collected packages: huggingface-hub, tokenizers, sacremoses, transformers\n",
            "Successfully installed huggingface-hub-0.0.8 sacremoses-0.0.45 tokenizers-0.10.3 transformers-4.6.1\n"
          ],
          "name": "stdout"
        }
      ]
    },
    {
      "cell_type": "markdown",
      "metadata": {
        "id": "4-Qe3tZVePqX"
      },
      "source": [
        "## 4.1 - Model Architecture"
      ]
    },
    {
      "cell_type": "markdown",
      "metadata": {
        "id": "GR6BHy1eOAez"
      },
      "source": [
        "It is a multi-layer bidirectional Transformer encoder, based on [Attention is All You Need](https://arxiv.org/abs/1706.03762) and implemented as [The Annotated Transformer](http://nlp.seas.harvard.edu/2018/04/03/attention.html). The different hyperparameters and the original notation are:\n",
        "\n",
        "\n",
        "\n",
        "*   Number of layers: $ L $, number of encoder blocks which compose the whole stack. Previously defined as $ N $ in the Encoder part.\n",
        "\n",
        "*   Hidden size: $ H $, embedding dimension of the model. Previously deined as $ d_{model} $.\n",
        "\n",
        "*   Self-attention heads: $ A $, number of heads in self-attention blocks. Previously defined as $ h $.\n"
      ]
    },
    {
      "cell_type": "markdown",
      "metadata": {
        "id": "DXQPhg66eVM5"
      },
      "source": [
        "There are defined two model sizes: \n",
        "\n",
        "\\begin{matrix}\n",
        "  \\text{BERT}_{\\text{BASE}} & \\rightarrow & L=12, \\ H=768, \\ A=12 & \\text{Total parameters}:\\ 110\\text{M} \\\\\n",
        "  \\text{BERT}_{\\text{LARGE}} & \\rightarrow & L=24, \\ H=1024, \\ A=16 & \\text{Total parameters}:\\ 340\\text{M}\n",
        "\\end{matrix}\n",
        "\n",
        "In both cases the inner layer for the last feed-forward block is defined as $ 4H $, being in the BASE 3072 and in the LARGE 4096."
      ]
    },
    {
      "cell_type": "markdown",
      "metadata": {
        "id": "6EBnC4w7eYxG"
      },
      "source": [
        "BERT has been already trained, so we can easily instantiate one of the base model classes of the [HuggingFace](https://huggingface.co/transformers/index.html) library from a pretrained model. To load the required model is used the class [`BertModel`](https://huggingface.co/transformers/model_doc/bert.html#transformers.BertModel).\n",
        "\n",
        "> [HuggingFace](https://huggingface.co/transformers/index.html) has the the possibility to differentiate between *cased* and *uncased* models. "
      ]
    },
    {
      "cell_type": "code",
      "metadata": {
        "id": "bt7Oq3-r3PmA"
      },
      "source": [
        "from transformers import BertModel"
      ],
      "execution_count": 36,
      "outputs": []
    },
    {
      "cell_type": "code",
      "metadata": {
        "colab": {
          "base_uri": "https://localhost:8080/",
          "height": 186,
          "referenced_widgets": [
            "eed17105d92e44239e8dc9be5ea3c706",
            "f08631001b6f465bb05c6607d47af343",
            "d53c15aaa60c4d3dac2c6798df06116f",
            "f90870fe55f746e3a4bb6bf1f45aa5af",
            "96a3b0df54bd4a2da54d12fbb1734f8d",
            "0418c437d03a4c6fbc080ff62d78369b",
            "73f14a5f40014f9b9543e9cbf1047bca",
            "353bb1503d7b4e11b81a97db53c86518",
            "d157f96fbda1481b902cc9928144f4f6",
            "0573f5c28d734881a9b9d88b45384ec9",
            "2203cd949c644eba9727edd11198d475",
            "7513e90105be4df6bfc390fdd1bee470",
            "2d5e319cf29b495d9e92725bd24e88fa",
            "c69662f5bdb84b0d8587d2d43a0d3235",
            "db735268868e43f190bdc99ed2ec8053",
            "530b61cdc72e467a99a5f4134c94e8d6"
          ]
        },
        "id": "yp0Vn4p1R4EH",
        "outputId": "2f9b42e1-f428-4f64-b6b1-3a84dc2fa000"
      },
      "source": [
        "#@markdown Select one configuration\n",
        "model_name = \"bert-base-uncased\" #@param [\"bert-base-uncased\", \"bert-base-cased\", \"bert-large-uncased\", \"bert-large-cased\"]\n",
        "# We need to create the model and tokenizer\n",
        "model = BertModel.from_pretrained(model_name)"
      ],
      "execution_count": 37,
      "outputs": [
        {
          "output_type": "display_data",
          "data": {
            "application/vnd.jupyter.widget-view+json": {
              "model_id": "eed17105d92e44239e8dc9be5ea3c706",
              "version_minor": 0,
              "version_major": 2
            },
            "text/plain": [
              "HBox(children=(FloatProgress(value=0.0, description='Downloading', max=570.0, style=ProgressStyle(description_…"
            ]
          },
          "metadata": {
            "tags": []
          }
        },
        {
          "output_type": "stream",
          "text": [
            "\n"
          ],
          "name": "stdout"
        },
        {
          "output_type": "display_data",
          "data": {
            "application/vnd.jupyter.widget-view+json": {
              "model_id": "d157f96fbda1481b902cc9928144f4f6",
              "version_minor": 0,
              "version_major": 2
            },
            "text/plain": [
              "HBox(children=(FloatProgress(value=0.0, description='Downloading', max=440473133.0, style=ProgressStyle(descri…"
            ]
          },
          "metadata": {
            "tags": []
          }
        },
        {
          "output_type": "stream",
          "text": [
            "\n"
          ],
          "name": "stdout"
        },
        {
          "output_type": "stream",
          "text": [
            "Some weights of the model checkpoint at bert-base-uncased were not used when initializing BertModel: ['cls.predictions.transform.LayerNorm.bias', 'cls.seq_relationship.bias', 'cls.predictions.transform.LayerNorm.weight', 'cls.predictions.transform.dense.weight', 'cls.predictions.transform.dense.bias', 'cls.predictions.decoder.weight', 'cls.predictions.bias', 'cls.seq_relationship.weight']\n",
            "- This IS expected if you are initializing BertModel from the checkpoint of a model trained on another task or with another architecture (e.g. initializing a BertForSequenceClassification model from a BertForPreTraining model).\n",
            "- This IS NOT expected if you are initializing BertModel from the checkpoint of a model that you expect to be exactly identical (initializing a BertForSequenceClassification model from a BertForSequenceClassification model).\n"
          ],
          "name": "stderr"
        }
      ]
    },
    {
      "cell_type": "markdown",
      "metadata": {
        "id": "M1qpQYvHS8Rj"
      },
      "source": [
        "The warning is telling us we are throwing away some weights and randomly initializing some other. That is because we are removing the head used to pretrain the model on a masked language modeling objective and replacing it with a new head for which we don't have pretrained weights, so the library warns us we should fine-tune this model before using it for inference, which is exactly what we are going to do in next sections."
      ]
    },
    {
      "cell_type": "code",
      "metadata": {
        "colab": {
          "base_uri": "https://localhost:8080/"
        },
        "id": "SvyTaI6sh-oB",
        "outputId": "f6030ce8-ed28-486f-af0d-d363489f8342"
      },
      "source": [
        "#@markdown Select whole model or a block to visualize it\n",
        "block = \"bert\" #@param [\"bert\", \"embeddings\", \"encoder\", \"pooler\"]\n",
        "if block == 'bert':\n",
        "    print(model)\n",
        "else:\n",
        "    print(getattr(model, block))"
      ],
      "execution_count": 38,
      "outputs": [
        {
          "output_type": "stream",
          "text": [
            "BertModel(\n",
            "  (embeddings): BertEmbeddings(\n",
            "    (word_embeddings): Embedding(30522, 768, padding_idx=0)\n",
            "    (position_embeddings): Embedding(512, 768)\n",
            "    (token_type_embeddings): Embedding(2, 768)\n",
            "    (LayerNorm): LayerNorm((768,), eps=1e-12, elementwise_affine=True)\n",
            "    (dropout): Dropout(p=0.1, inplace=False)\n",
            "  )\n",
            "  (encoder): BertEncoder(\n",
            "    (layer): ModuleList(\n",
            "      (0): BertLayer(\n",
            "        (attention): BertAttention(\n",
            "          (self): BertSelfAttention(\n",
            "            (query): Linear(in_features=768, out_features=768, bias=True)\n",
            "            (key): Linear(in_features=768, out_features=768, bias=True)\n",
            "            (value): Linear(in_features=768, out_features=768, bias=True)\n",
            "            (dropout): Dropout(p=0.1, inplace=False)\n",
            "          )\n",
            "          (output): BertSelfOutput(\n",
            "            (dense): Linear(in_features=768, out_features=768, bias=True)\n",
            "            (LayerNorm): LayerNorm((768,), eps=1e-12, elementwise_affine=True)\n",
            "            (dropout): Dropout(p=0.1, inplace=False)\n",
            "          )\n",
            "        )\n",
            "        (intermediate): BertIntermediate(\n",
            "          (dense): Linear(in_features=768, out_features=3072, bias=True)\n",
            "        )\n",
            "        (output): BertOutput(\n",
            "          (dense): Linear(in_features=3072, out_features=768, bias=True)\n",
            "          (LayerNorm): LayerNorm((768,), eps=1e-12, elementwise_affine=True)\n",
            "          (dropout): Dropout(p=0.1, inplace=False)\n",
            "        )\n",
            "      )\n",
            "      (1): BertLayer(\n",
            "        (attention): BertAttention(\n",
            "          (self): BertSelfAttention(\n",
            "            (query): Linear(in_features=768, out_features=768, bias=True)\n",
            "            (key): Linear(in_features=768, out_features=768, bias=True)\n",
            "            (value): Linear(in_features=768, out_features=768, bias=True)\n",
            "            (dropout): Dropout(p=0.1, inplace=False)\n",
            "          )\n",
            "          (output): BertSelfOutput(\n",
            "            (dense): Linear(in_features=768, out_features=768, bias=True)\n",
            "            (LayerNorm): LayerNorm((768,), eps=1e-12, elementwise_affine=True)\n",
            "            (dropout): Dropout(p=0.1, inplace=False)\n",
            "          )\n",
            "        )\n",
            "        (intermediate): BertIntermediate(\n",
            "          (dense): Linear(in_features=768, out_features=3072, bias=True)\n",
            "        )\n",
            "        (output): BertOutput(\n",
            "          (dense): Linear(in_features=3072, out_features=768, bias=True)\n",
            "          (LayerNorm): LayerNorm((768,), eps=1e-12, elementwise_affine=True)\n",
            "          (dropout): Dropout(p=0.1, inplace=False)\n",
            "        )\n",
            "      )\n",
            "      (2): BertLayer(\n",
            "        (attention): BertAttention(\n",
            "          (self): BertSelfAttention(\n",
            "            (query): Linear(in_features=768, out_features=768, bias=True)\n",
            "            (key): Linear(in_features=768, out_features=768, bias=True)\n",
            "            (value): Linear(in_features=768, out_features=768, bias=True)\n",
            "            (dropout): Dropout(p=0.1, inplace=False)\n",
            "          )\n",
            "          (output): BertSelfOutput(\n",
            "            (dense): Linear(in_features=768, out_features=768, bias=True)\n",
            "            (LayerNorm): LayerNorm((768,), eps=1e-12, elementwise_affine=True)\n",
            "            (dropout): Dropout(p=0.1, inplace=False)\n",
            "          )\n",
            "        )\n",
            "        (intermediate): BertIntermediate(\n",
            "          (dense): Linear(in_features=768, out_features=3072, bias=True)\n",
            "        )\n",
            "        (output): BertOutput(\n",
            "          (dense): Linear(in_features=3072, out_features=768, bias=True)\n",
            "          (LayerNorm): LayerNorm((768,), eps=1e-12, elementwise_affine=True)\n",
            "          (dropout): Dropout(p=0.1, inplace=False)\n",
            "        )\n",
            "      )\n",
            "      (3): BertLayer(\n",
            "        (attention): BertAttention(\n",
            "          (self): BertSelfAttention(\n",
            "            (query): Linear(in_features=768, out_features=768, bias=True)\n",
            "            (key): Linear(in_features=768, out_features=768, bias=True)\n",
            "            (value): Linear(in_features=768, out_features=768, bias=True)\n",
            "            (dropout): Dropout(p=0.1, inplace=False)\n",
            "          )\n",
            "          (output): BertSelfOutput(\n",
            "            (dense): Linear(in_features=768, out_features=768, bias=True)\n",
            "            (LayerNorm): LayerNorm((768,), eps=1e-12, elementwise_affine=True)\n",
            "            (dropout): Dropout(p=0.1, inplace=False)\n",
            "          )\n",
            "        )\n",
            "        (intermediate): BertIntermediate(\n",
            "          (dense): Linear(in_features=768, out_features=3072, bias=True)\n",
            "        )\n",
            "        (output): BertOutput(\n",
            "          (dense): Linear(in_features=3072, out_features=768, bias=True)\n",
            "          (LayerNorm): LayerNorm((768,), eps=1e-12, elementwise_affine=True)\n",
            "          (dropout): Dropout(p=0.1, inplace=False)\n",
            "        )\n",
            "      )\n",
            "      (4): BertLayer(\n",
            "        (attention): BertAttention(\n",
            "          (self): BertSelfAttention(\n",
            "            (query): Linear(in_features=768, out_features=768, bias=True)\n",
            "            (key): Linear(in_features=768, out_features=768, bias=True)\n",
            "            (value): Linear(in_features=768, out_features=768, bias=True)\n",
            "            (dropout): Dropout(p=0.1, inplace=False)\n",
            "          )\n",
            "          (output): BertSelfOutput(\n",
            "            (dense): Linear(in_features=768, out_features=768, bias=True)\n",
            "            (LayerNorm): LayerNorm((768,), eps=1e-12, elementwise_affine=True)\n",
            "            (dropout): Dropout(p=0.1, inplace=False)\n",
            "          )\n",
            "        )\n",
            "        (intermediate): BertIntermediate(\n",
            "          (dense): Linear(in_features=768, out_features=3072, bias=True)\n",
            "        )\n",
            "        (output): BertOutput(\n",
            "          (dense): Linear(in_features=3072, out_features=768, bias=True)\n",
            "          (LayerNorm): LayerNorm((768,), eps=1e-12, elementwise_affine=True)\n",
            "          (dropout): Dropout(p=0.1, inplace=False)\n",
            "        )\n",
            "      )\n",
            "      (5): BertLayer(\n",
            "        (attention): BertAttention(\n",
            "          (self): BertSelfAttention(\n",
            "            (query): Linear(in_features=768, out_features=768, bias=True)\n",
            "            (key): Linear(in_features=768, out_features=768, bias=True)\n",
            "            (value): Linear(in_features=768, out_features=768, bias=True)\n",
            "            (dropout): Dropout(p=0.1, inplace=False)\n",
            "          )\n",
            "          (output): BertSelfOutput(\n",
            "            (dense): Linear(in_features=768, out_features=768, bias=True)\n",
            "            (LayerNorm): LayerNorm((768,), eps=1e-12, elementwise_affine=True)\n",
            "            (dropout): Dropout(p=0.1, inplace=False)\n",
            "          )\n",
            "        )\n",
            "        (intermediate): BertIntermediate(\n",
            "          (dense): Linear(in_features=768, out_features=3072, bias=True)\n",
            "        )\n",
            "        (output): BertOutput(\n",
            "          (dense): Linear(in_features=3072, out_features=768, bias=True)\n",
            "          (LayerNorm): LayerNorm((768,), eps=1e-12, elementwise_affine=True)\n",
            "          (dropout): Dropout(p=0.1, inplace=False)\n",
            "        )\n",
            "      )\n",
            "      (6): BertLayer(\n",
            "        (attention): BertAttention(\n",
            "          (self): BertSelfAttention(\n",
            "            (query): Linear(in_features=768, out_features=768, bias=True)\n",
            "            (key): Linear(in_features=768, out_features=768, bias=True)\n",
            "            (value): Linear(in_features=768, out_features=768, bias=True)\n",
            "            (dropout): Dropout(p=0.1, inplace=False)\n",
            "          )\n",
            "          (output): BertSelfOutput(\n",
            "            (dense): Linear(in_features=768, out_features=768, bias=True)\n",
            "            (LayerNorm): LayerNorm((768,), eps=1e-12, elementwise_affine=True)\n",
            "            (dropout): Dropout(p=0.1, inplace=False)\n",
            "          )\n",
            "        )\n",
            "        (intermediate): BertIntermediate(\n",
            "          (dense): Linear(in_features=768, out_features=3072, bias=True)\n",
            "        )\n",
            "        (output): BertOutput(\n",
            "          (dense): Linear(in_features=3072, out_features=768, bias=True)\n",
            "          (LayerNorm): LayerNorm((768,), eps=1e-12, elementwise_affine=True)\n",
            "          (dropout): Dropout(p=0.1, inplace=False)\n",
            "        )\n",
            "      )\n",
            "      (7): BertLayer(\n",
            "        (attention): BertAttention(\n",
            "          (self): BertSelfAttention(\n",
            "            (query): Linear(in_features=768, out_features=768, bias=True)\n",
            "            (key): Linear(in_features=768, out_features=768, bias=True)\n",
            "            (value): Linear(in_features=768, out_features=768, bias=True)\n",
            "            (dropout): Dropout(p=0.1, inplace=False)\n",
            "          )\n",
            "          (output): BertSelfOutput(\n",
            "            (dense): Linear(in_features=768, out_features=768, bias=True)\n",
            "            (LayerNorm): LayerNorm((768,), eps=1e-12, elementwise_affine=True)\n",
            "            (dropout): Dropout(p=0.1, inplace=False)\n",
            "          )\n",
            "        )\n",
            "        (intermediate): BertIntermediate(\n",
            "          (dense): Linear(in_features=768, out_features=3072, bias=True)\n",
            "        )\n",
            "        (output): BertOutput(\n",
            "          (dense): Linear(in_features=3072, out_features=768, bias=True)\n",
            "          (LayerNorm): LayerNorm((768,), eps=1e-12, elementwise_affine=True)\n",
            "          (dropout): Dropout(p=0.1, inplace=False)\n",
            "        )\n",
            "      )\n",
            "      (8): BertLayer(\n",
            "        (attention): BertAttention(\n",
            "          (self): BertSelfAttention(\n",
            "            (query): Linear(in_features=768, out_features=768, bias=True)\n",
            "            (key): Linear(in_features=768, out_features=768, bias=True)\n",
            "            (value): Linear(in_features=768, out_features=768, bias=True)\n",
            "            (dropout): Dropout(p=0.1, inplace=False)\n",
            "          )\n",
            "          (output): BertSelfOutput(\n",
            "            (dense): Linear(in_features=768, out_features=768, bias=True)\n",
            "            (LayerNorm): LayerNorm((768,), eps=1e-12, elementwise_affine=True)\n",
            "            (dropout): Dropout(p=0.1, inplace=False)\n",
            "          )\n",
            "        )\n",
            "        (intermediate): BertIntermediate(\n",
            "          (dense): Linear(in_features=768, out_features=3072, bias=True)\n",
            "        )\n",
            "        (output): BertOutput(\n",
            "          (dense): Linear(in_features=3072, out_features=768, bias=True)\n",
            "          (LayerNorm): LayerNorm((768,), eps=1e-12, elementwise_affine=True)\n",
            "          (dropout): Dropout(p=0.1, inplace=False)\n",
            "        )\n",
            "      )\n",
            "      (9): BertLayer(\n",
            "        (attention): BertAttention(\n",
            "          (self): BertSelfAttention(\n",
            "            (query): Linear(in_features=768, out_features=768, bias=True)\n",
            "            (key): Linear(in_features=768, out_features=768, bias=True)\n",
            "            (value): Linear(in_features=768, out_features=768, bias=True)\n",
            "            (dropout): Dropout(p=0.1, inplace=False)\n",
            "          )\n",
            "          (output): BertSelfOutput(\n",
            "            (dense): Linear(in_features=768, out_features=768, bias=True)\n",
            "            (LayerNorm): LayerNorm((768,), eps=1e-12, elementwise_affine=True)\n",
            "            (dropout): Dropout(p=0.1, inplace=False)\n",
            "          )\n",
            "        )\n",
            "        (intermediate): BertIntermediate(\n",
            "          (dense): Linear(in_features=768, out_features=3072, bias=True)\n",
            "        )\n",
            "        (output): BertOutput(\n",
            "          (dense): Linear(in_features=3072, out_features=768, bias=True)\n",
            "          (LayerNorm): LayerNorm((768,), eps=1e-12, elementwise_affine=True)\n",
            "          (dropout): Dropout(p=0.1, inplace=False)\n",
            "        )\n",
            "      )\n",
            "      (10): BertLayer(\n",
            "        (attention): BertAttention(\n",
            "          (self): BertSelfAttention(\n",
            "            (query): Linear(in_features=768, out_features=768, bias=True)\n",
            "            (key): Linear(in_features=768, out_features=768, bias=True)\n",
            "            (value): Linear(in_features=768, out_features=768, bias=True)\n",
            "            (dropout): Dropout(p=0.1, inplace=False)\n",
            "          )\n",
            "          (output): BertSelfOutput(\n",
            "            (dense): Linear(in_features=768, out_features=768, bias=True)\n",
            "            (LayerNorm): LayerNorm((768,), eps=1e-12, elementwise_affine=True)\n",
            "            (dropout): Dropout(p=0.1, inplace=False)\n",
            "          )\n",
            "        )\n",
            "        (intermediate): BertIntermediate(\n",
            "          (dense): Linear(in_features=768, out_features=3072, bias=True)\n",
            "        )\n",
            "        (output): BertOutput(\n",
            "          (dense): Linear(in_features=3072, out_features=768, bias=True)\n",
            "          (LayerNorm): LayerNorm((768,), eps=1e-12, elementwise_affine=True)\n",
            "          (dropout): Dropout(p=0.1, inplace=False)\n",
            "        )\n",
            "      )\n",
            "      (11): BertLayer(\n",
            "        (attention): BertAttention(\n",
            "          (self): BertSelfAttention(\n",
            "            (query): Linear(in_features=768, out_features=768, bias=True)\n",
            "            (key): Linear(in_features=768, out_features=768, bias=True)\n",
            "            (value): Linear(in_features=768, out_features=768, bias=True)\n",
            "            (dropout): Dropout(p=0.1, inplace=False)\n",
            "          )\n",
            "          (output): BertSelfOutput(\n",
            "            (dense): Linear(in_features=768, out_features=768, bias=True)\n",
            "            (LayerNorm): LayerNorm((768,), eps=1e-12, elementwise_affine=True)\n",
            "            (dropout): Dropout(p=0.1, inplace=False)\n",
            "          )\n",
            "        )\n",
            "        (intermediate): BertIntermediate(\n",
            "          (dense): Linear(in_features=768, out_features=3072, bias=True)\n",
            "        )\n",
            "        (output): BertOutput(\n",
            "          (dense): Linear(in_features=3072, out_features=768, bias=True)\n",
            "          (LayerNorm): LayerNorm((768,), eps=1e-12, elementwise_affine=True)\n",
            "          (dropout): Dropout(p=0.1, inplace=False)\n",
            "        )\n",
            "      )\n",
            "    )\n",
            "  )\n",
            "  (pooler): BertPooler(\n",
            "    (dense): Linear(in_features=768, out_features=768, bias=True)\n",
            "    (activation): Tanh()\n",
            "  )\n",
            ")\n"
          ],
          "name": "stdout"
        }
      ]
    },
    {
      "cell_type": "markdown",
      "metadata": {
        "id": "4F7MxCNyfPeo"
      },
      "source": [
        "### 4.1.1 - Input-Output Representations"
      ]
    },
    {
      "cell_type": "markdown",
      "metadata": {
        "id": "Xsn3fTeGbFdL"
      },
      "source": [
        "In order to handle a variety of tasks, the input can be a single sentence or a pair of sentences in one token sequence, which is certainly the name given to the input. The input representation of a word is the addition of three different embeddings:\n",
        "\n",
        "*   **Token Embedding**: normal word embedding. It is used WordPiece with a 30.000 token vocabulary.\n",
        "\n",
        "*   **Segment Embedding**: to differentiate the sentence the word belongs to. It is used the special token $ [SEP] $ to separate both sentences. \n",
        "\n",
        "*   **Position Embedding**: to indicate the position in the whole sequence.\n",
        "\n",
        "The first token is always a special classification token $ [CLS] $, whose final hidden state layer is used in classification tasks.\n",
        "\n"
      ]
    },
    {
      "cell_type": "markdown",
      "metadata": {
        "id": "3hBoDdzBAIvD"
      },
      "source": [
        "![BERT's input](https://raw.githubusercontent.com/ion-bueno/bert-from-inside/main/images/in_BERT.png)\n",
        "\n",
        "> Input Embedding. Image from [BERT: Pre-training of Deep Bidirectional Transformers for Language Understanding](https://arxiv.org/abs/1810.04805)"
      ]
    },
    {
      "cell_type": "code",
      "metadata": {
        "colab": {
          "base_uri": "https://localhost:8080/"
        },
        "id": "WSmOADeOfOiY",
        "outputId": "1b605824-ddce-44a4-903d-7c330abc1be8"
      },
      "source": [
        "print(model.embeddings)"
      ],
      "execution_count": 39,
      "outputs": [
        {
          "output_type": "stream",
          "text": [
            "BertEmbeddings(\n",
            "  (word_embeddings): Embedding(30522, 768, padding_idx=0)\n",
            "  (position_embeddings): Embedding(512, 768)\n",
            "  (token_type_embeddings): Embedding(2, 768)\n",
            "  (LayerNorm): LayerNorm((768,), eps=1e-12, elementwise_affine=True)\n",
            "  (dropout): Dropout(p=0.1, inplace=False)\n",
            ")\n"
          ],
          "name": "stdout"
        }
      ]
    },
    {
      "cell_type": "markdown",
      "metadata": {
        "id": "CGc2QVvs6vDl"
      },
      "source": [
        "As output we get the corresponding sequence embedding, as it is explained in the encoder, and *NSP* for classification. These values are going to be explained better in *Pre-Training* section."
      ]
    },
    {
      "cell_type": "markdown",
      "metadata": {
        "id": "9g6fHh4mfHXX"
      },
      "source": [
        "## 4.2 - Pre-training"
      ]
    },
    {
      "cell_type": "markdown",
      "metadata": {
        "id": "i2M14_bCgkfM"
      },
      "source": [
        "This step is in charge of the model to understand the language and its context. It is used two unsupervised tasks instead of the traditional left-to-right or right-to-left."
      ]
    },
    {
      "cell_type": "markdown",
      "metadata": {
        "id": "_3AH5O6uALAE"
      },
      "source": [
        "![Pre-training BERT](https://raw.githubusercontent.com/ion-bueno/bert-from-inside/main/images/pretrain_BERT.png)\n",
        "\n",
        "> Pre-training process in BERT. Image from [BERT: Pre-training of Deep Bidirectional Transformers for Language Understanding](https://arxiv.org/abs/1810.04805)"
      ]
    },
    {
      "cell_type": "markdown",
      "metadata": {
        "id": "6zmfGdJHfFC1"
      },
      "source": [
        "### 4.2.1 - Masked Language Model (MLM)"
      ]
    },
    {
      "cell_type": "markdown",
      "metadata": {
        "id": "swuvqUT5jALw"
      },
      "source": [
        "Some tokens are masked at random and then predicted. The final $ T_i $ vectors have the sime size and are generated simultaneously. They are fed into an output softmax over the vocabulary (30k) to get a distribution and compare with cross entropy loss in order to train the model.\n",
        "\n",
        "However, as the output have all the worlds, included the ones were not masked, it is only considered the ones were masked and ignores the others to calculate the cross entropy loss. This ensures more focus into predict the masked values and increases the context awareness."
      ]
    },
    {
      "cell_type": "markdown",
      "metadata": {
        "id": "SkGOlDsqpShP"
      },
      "source": [
        "![MLM](https://raw.githubusercontent.com/ion-bueno/bert-from-inside/main/images/cross_entro_BERT.png)\n",
        "\n",
        "> Prediction of masked word in BERT."
      ]
    },
    {
      "cell_type": "markdown",
      "metadata": {
        "id": "y0QIZVHpfbJA"
      },
      "source": [
        "### 4.2.2 - Next Sentence Prediction (NSP)"
      ]
    },
    {
      "cell_type": "markdown",
      "metadata": {
        "id": "kuQTTjvOjdp8"
      },
      "source": [
        "Many important tasks as question and answering are based on understanding relationship between two sentences, which is not captured by language modeling. For that reason, while the model is being trained in MLM, is also trained in next sentence prediction.\n",
        "\n",
        "For this purpose it is used the special token $ [CLS] $ in the input and $ C $ in the output to indicate if *Sentence B* could follow *Sentence A*."
      ]
    },
    {
      "cell_type": "markdown",
      "metadata": {
        "id": "Ul_LRGnUpb-j"
      },
      "source": [
        "![Pre-train BERT](https://raw.githubusercontent.com/ion-bueno/bert-from-inside/main/images/pretrain_BERT_methods.png)\n",
        "\n",
        "> MLM and NSP in pre-training BERT."
      ]
    },
    {
      "cell_type": "markdown",
      "metadata": {
        "id": "fhI1w305tZET"
      },
      "source": [
        "Training of $ \\text{BERT}_{\\text{BASE}} $ was performed on 4 Cloud TPUs (16 TPU chips total). While training of $ \\text{BERT}_{\\text{LARGE}} $ eployed 16 Cloud TPUs (64 TPU chips total). Each pre-training took 4 days to complete."
      ]
    },
    {
      "cell_type": "markdown",
      "metadata": {
        "id": "2qEQi_BDffW1"
      },
      "source": [
        "### 4.2.3 - Self-Attention Visualization"
      ]
    },
    {
      "cell_type": "markdown",
      "metadata": {
        "id": "fm8NzovuqEqC"
      },
      "source": [
        "As it has been mentioned, the model contains $ L $ blocks and $ A $ attention heads. Many models which come from BERT acquired the encoder to perform self-attention. Self-attention operations are not straightforward, even further if we have different blocks and many heads into them.\n",
        "\n",
        "To get an intuition for BERT (and other similar models) respect the attention weights between the elements, we can use [exBERT](https://huggingface.co/exbert/?model=bert-base-cased&modelKind=bidirectional&sentence=This%20model%20has%20revolutionized%20the%20world!&layer=0&heads=..0,1,2,3,4,5,6,7,8,9,10,11&threshold=0.7&tokenInd=null&tokenSide=null&maskInds=..&hideClsSep=true). Following next steps:\n",
        "\n",
        "1. First we select a model and introduce the input sentence.\n",
        "2. We can choose if hide special tokens and the percentage of attention shown.\n",
        "3. We select an encoder block (as *Layer*).\n",
        "4. Lastly the attention heads we want to visualize."
      ]
    },
    {
      "cell_type": "markdown",
      "metadata": {
        "id": "NyG_JpNiG299"
      },
      "source": [
        "![exBERT](https://raw.githubusercontent.com/ion-bueno/bert-from-inside/main/images/exbert.png)\n",
        "\n",
        "> Example of [exBERT](https://huggingface.co/exbert/?model=bert-base-cased&modelKind=bidirectional&sentence=This%20model%20has%20revolutionized%20the%20world!&layer=0&heads=..0,1,2,3,4,5,6,7,8,9,10,11&threshold=0.7&tokenInd=null&tokenSide=null&maskInds=..&hideClsSep=true) visualization."
      ]
    },
    {
      "cell_type": "markdown",
      "metadata": {
        "id": "p9ky2Sp-N5Ut"
      },
      "source": [
        "## 4.3 - Fine-Tuning"
      ]
    },
    {
      "cell_type": "markdown",
      "metadata": {
        "id": "7DJIu80m4QdU"
      },
      "source": [
        "Thanks to self-attention, which is in charge of applying bidirectional cross attention between the two sentences, is straightforward to model many downstream tasks. In addition to, the two sentences as input in pretraining are equivalent to different trainings in NLP as sentence pairs in paraphrasing, hypothesis-premise pairs, question-passage pairs, etc.\n"
      ]
    },
    {
      "cell_type": "markdown",
      "metadata": {
        "id": "3NwtnjUvpwFh"
      },
      "source": [
        "![Fine-tune BERT](https://raw.githubusercontent.com/ion-bueno/bert-from-inside/main/images/finetune_examples.png)\n",
        "\n",
        "> Different NLP tasks implemented by fine-tuning BERT."
      ]
    },
    {
      "cell_type": "markdown",
      "metadata": {
        "id": "dASIeoBig8mC"
      },
      "source": [
        "The output token representations are fed into an output layer and the $ C $ is fed into an output layer for classification. Only new parameters are learned from sratch, while the rest are slightly fine-tuned. \n",
        "\n",
        "That is the reason fine-tune is relatively inexpensive in computation cost compared with pretraining. In the original paper, authors claim that all of the results can be replicated in at most 1 hour on a single Cloud TPU, or a few hours on a GPU, starting from the exact same pre-trained model."
      ]
    },
    {
      "cell_type": "markdown",
      "metadata": {
        "id": "dRQ7TcbAp9Nl"
      },
      "source": [
        "![Fine-tune BERT details](https://raw.githubusercontent.com/ion-bueno/bert-from-inside/main/images/finetune_BERT_details.png)\n",
        "\n",
        "> Output layer added in fine-tuning."
      ]
    },
    {
      "cell_type": "markdown",
      "metadata": {
        "id": "fhsnqD1UKfE4"
      },
      "source": [
        "# 5 - Sentiment Analysis\n",
        "\n"
      ]
    },
    {
      "cell_type": "markdown",
      "metadata": {
        "id": "ISgoHueqCeEg"
      },
      "source": [
        "A tradiditonal task in NLP is **Sentiment Analysis**. The target is to determine if the sentence has a *positive* or *negative* sentiment, corresponding with a binary classification problem. As it is normal, these two labels depend on the context of our text. In spite of being one of the most simple applications, it is really useful and currently demanded in many applications, for example in films or series reviews.\n",
        "\n",
        "In addition to be a standard assignment, it compounds one of the task of [GLUE](https://gluebenchmark.com/) (General Language Understanding Evaluation), a group of nine classification tasks on sentences or pairs of sentences, which is commonly used to evaluate state-of-the-art models. Sentiment analysis corresponds with [SST-2](https://nlp.stanford.edu/sentiment/index.html) (Stanford Sentiment Treebank)."
      ]
    },
    {
      "cell_type": "markdown",
      "metadata": {
        "id": "oEm7PX1G3luN"
      },
      "source": [
        "![Sentiment Analysis](https://raw.githubusercontent.com/ion-bueno/bert-from-inside/main/images/sentiment_analysis.PNG)\n",
        "\n",
        "> Example of sentiment analysis in one of the [Hugging Face's models](https://huggingface.co/models)."
      ]
    },
    {
      "cell_type": "markdown",
      "metadata": {
        "id": "Q7sSjqazGNDT"
      },
      "source": [
        "> For this task, two tutorials [Fine tuning BERT for Sentiment Analysis](https://skimai.com/fine-tuning-bert-for-sentiment-analysis/) and [BERT Fine-Tuning Tutorial with PyTorch](http://mccormickml.com/2019/07/22/BERT-fine-tuning/), have been used as guide and support to the development of the application."
      ]
    },
    {
      "cell_type": "markdown",
      "metadata": {
        "id": "C72t07tkgGGf"
      },
      "source": [
        "## 5.1 - Setup"
      ]
    },
    {
      "cell_type": "markdown",
      "metadata": {
        "id": "-Sy2wgHzAwRJ"
      },
      "source": [
        "In spite of being much faster than pre-training, fine-tune a BERT model for any class could be slow for a CPU. Due to that, we are going to try using a GPU."
      ]
    },
    {
      "cell_type": "markdown",
      "metadata": {
        "id": "DYpkzpTFBEIY"
      },
      "source": [
        "> In case of running it from Colab, we could make use of Google's GPUs. Make sure to select GPU from *Runtime > Change runtime type > Hardware accelerator > GPU*."
      ]
    },
    {
      "cell_type": "code",
      "metadata": {
        "colab": {
          "base_uri": "https://localhost:8080/"
        },
        "id": "i_x4k_DmO5M8",
        "outputId": "80b35493-b2e3-42af-fe0b-ff65fedb3004"
      },
      "source": [
        "# If there's a GPU available...\n",
        "if torch.cuda.is_available():    \n",
        "    # Tell PyTorch to use the GPU.    \n",
        "    device = torch.device(\"cuda\")\n",
        "    print('There are %d GPU(s) available.' % torch.cuda.device_count())\n",
        "    print('We will use the GPU:', torch.cuda.get_device_name(0))\n",
        "\n",
        "# If not...\n",
        "else:\n",
        "    print('No GPU available, using the CPU instead.')\n",
        "    device = torch.device(\"cpu\")\n"
      ],
      "execution_count": 40,
      "outputs": [
        {
          "output_type": "stream",
          "text": [
            "There are 1 GPU(s) available.\n",
            "We will use the GPU: Tesla P100-PCIE-16GB\n"
          ],
          "name": "stdout"
        }
      ]
    },
    {
      "cell_type": "code",
      "metadata": {
        "id": "bcAwK4YSYAtO"
      },
      "source": [
        "def info_device():\n",
        "    # If there's a GPU available\n",
        "    if torch.cuda.is_available():\n",
        "        print(f'\\nUsing GPU {torch.cuda.get_device_name(0)}.', '\\n')\n",
        "    # If not\n",
        "    else:\n",
        "        print('\\nNo GPU available, using the CPU instead.', '\\n')"
      ],
      "execution_count": 41,
      "outputs": []
    },
    {
      "cell_type": "markdown",
      "metadata": {
        "id": "UWOX4s-agL1m"
      },
      "source": [
        "## 5.2 - Load SST-2 Dataset"
      ]
    },
    {
      "cell_type": "markdown",
      "metadata": {
        "id": "mSzeqGUCIPCh"
      },
      "source": [
        "First of all we need to download the dataset. We’ll use the `wget` package to download the dataset to the Colab instance’s file system."
      ]
    },
    {
      "cell_type": "code",
      "metadata": {
        "colab": {
          "base_uri": "https://localhost:8080/"
        },
        "id": "I_EKeJwIMOjb",
        "outputId": "3e4bd131-fdf2-4aa4-bdeb-07d4f6edca6e"
      },
      "source": [
        "!pip install wget"
      ],
      "execution_count": 42,
      "outputs": [
        {
          "output_type": "stream",
          "text": [
            "Collecting wget\n",
            "  Downloading https://files.pythonhosted.org/packages/47/6a/62e288da7bcda82b935ff0c6cfe542970f04e29c756b0e147251b2fb251f/wget-3.2.zip\n",
            "Building wheels for collected packages: wget\n",
            "  Building wheel for wget (setup.py) ... \u001b[?25l\u001b[?25hdone\n",
            "  Created wheel for wget: filename=wget-3.2-cp37-none-any.whl size=9675 sha256=2adf5a38e51ee62c56e4ad9e8bd58925f30c675c8ec81e02b70fb74a2ac853b1\n",
            "  Stored in directory: /root/.cache/pip/wheels/40/15/30/7d8f7cea2902b4db79e3fea550d7d7b85ecb27ef992b618f3f\n",
            "Successfully built wget\n",
            "Installing collected packages: wget\n",
            "Successfully installed wget-3.2\n"
          ],
          "name": "stdout"
        }
      ]
    },
    {
      "cell_type": "markdown",
      "metadata": {
        "id": "O1QkRBVoI6G0"
      },
      "source": [
        "In this [repository](https://github.com/nyu-mll/GLUE-baselines) is explained how to manage GLUE datasets, altough in this case we only need the corresponding URL. We donwload the dataset and then unzip it to access it."
      ]
    },
    {
      "cell_type": "code",
      "metadata": {
        "colab": {
          "base_uri": "https://localhost:8080/"
        },
        "id": "DJ0uAJ2WNE1t",
        "outputId": "f83e81b9-bb31-4fb4-8993-0bfc26096fd8"
      },
      "source": [
        "import wget\n",
        "\n",
        "sentiment_dir = Path('sentiment_analysis')\n",
        "if not os.path.exists(sentiment_dir):\n",
        "    !mkdir $sentiment_dir\n",
        "\n",
        "# The URL for the dataset zip file.\n",
        "url = 'https://dl.fbaipublicfiles.com/glue/data/SST-2.zip'\n",
        "\n",
        "# Download the file (if we haven't already)\n",
        "if not os.path.exists('./SST-2.zip'):\n",
        "    print('Downloading dataset...')\n",
        "    wget.download(url, './SST-2.zip')\n",
        "\n",
        "# Unzip the dataset (if we haven't already)\n",
        "sst2_dataset = Path('sst-2_dataset')\n",
        "if not os.path.exists(sst2_dataset):\n",
        "    !unzip SST-2.zip\n",
        "    shutil.move('SST-2', sst2_dataset)"
      ],
      "execution_count": 43,
      "outputs": [
        {
          "output_type": "stream",
          "text": [
            "Downloading dataset...\n",
            "Archive:  SST-2.zip\n",
            "   creating: SST-2/\n",
            "  inflating: SST-2/dev.tsv           \n",
            "   creating: SST-2/original/\n",
            "  inflating: SST-2/original/README.txt  \n",
            "  inflating: SST-2/original/SOStr.txt  \n",
            "  inflating: SST-2/original/STree.txt  \n",
            "  inflating: SST-2/original/datasetSentences.txt  \n",
            "  inflating: SST-2/original/datasetSplit.txt  \n",
            "  inflating: SST-2/original/dictionary.txt  \n",
            "  inflating: SST-2/original/original_rt_snippets.txt  \n",
            "  inflating: SST-2/original/sentiment_labels.txt  \n",
            "  inflating: SST-2/test.tsv          \n",
            "  inflating: SST-2/train.tsv         \n"
          ],
          "name": "stdout"
        }
      ]
    },
    {
      "cell_type": "markdown",
      "metadata": {
        "id": "KyXCF0E3fW8o"
      },
      "source": [
        "There are three different datasets: *train.csv*, *test.csv*, *dev.csv*. As its own name indicates, they are used for training, testing and validate respectively, the studied model. As there is a [GLUE leaderboard](https://gluebenchmark.com/leaderboard), the test dataset is not labeled. In order to study the performance of our model, we are going to divide the train dataset, which has enough samples, into train and test. Test set is going to be one third of the original train test."
      ]
    },
    {
      "cell_type": "code",
      "metadata": {
        "id": "pMYvqVOQfIg8"
      },
      "source": [
        "from sklearn.model_selection import train_test_split\n",
        "\n",
        "train_df = pd.read_csv(sst2_dataset/'train.tsv', delimiter='\\t', header=1, names=['sentence', 'label'])\n",
        "val_df = pd.read_csv(sst2_dataset/'dev.tsv', delimiter='\\t', header=1, names=['sentence', 'label'])\n",
        "train_df, test_df = train_test_split(train_df, test_size=0.33, shuffle=True)"
      ],
      "execution_count": 44,
      "outputs": []
    },
    {
      "cell_type": "markdown",
      "metadata": {
        "id": "TaVAVVZgJPID"
      },
      "source": [
        "They are saved into a dictionay to allow an easy access."
      ]
    },
    {
      "cell_type": "code",
      "metadata": {
        "id": "JO9lvi3_T_oA"
      },
      "source": [
        "# Load the datasets into a pandas dataframe.\n",
        "original_datasets = {\n",
        "    'train':    train_df, \n",
        "    'val':      val_df, \n",
        "    'test':     test_df\n",
        "}"
      ],
      "execution_count": 45,
      "outputs": []
    },
    {
      "cell_type": "markdown",
      "metadata": {
        "id": "8sUA4BM7LO3C"
      },
      "source": [
        "To get a fast intuition on the dataset, we can plot some used sentences for the three splits. Mention the label 1 corresponds with positive sentiment while label 0 with negative.\n",
        "\n",
        "\\begin{matrix}\n",
        "    \\text{Class 0} & \\rightarrow & \\text{Negative sentiment} \\\\\n",
        "    \\text{Class 1} & \\rightarrow & \\text{Positive sentiment}\n",
        "\\end{matrix}"
      ]
    },
    {
      "cell_type": "code",
      "metadata": {
        "colab": {
          "base_uri": "https://localhost:8080/",
          "height": 238
        },
        "id": "_1s1Y3T5RS-z",
        "outputId": "9ad08325-8565-4972-d27e-4ff5e9a9e78c"
      },
      "source": [
        "#@markdown Select a split\n",
        "split = \"train\" #@param [\"train\", \"val\", \"test\"]\n",
        "\n",
        "#@markdown Select number of examples to visualize it\n",
        "num_examples = 5 #@param {type:\"slider\", min:1, max:10, step:1}\n",
        "\n",
        "print(f'Some sentences of {split} split, which has a length of {len(original_datasets[split])}\\n')\n",
        "pd.set_option(\"max_colwidth\", 150)\n",
        "original_datasets[split].sample(num_examples)"
      ],
      "execution_count": 46,
      "outputs": [
        {
          "output_type": "stream",
          "text": [
            "Some sentences of train split, which has a length of 45123\n",
            "\n"
          ],
          "name": "stdout"
        },
        {
          "output_type": "execute_result",
          "data": {
            "text/html": [
              "<div>\n",
              "<style scoped>\n",
              "    .dataframe tbody tr th:only-of-type {\n",
              "        vertical-align: middle;\n",
              "    }\n",
              "\n",
              "    .dataframe tbody tr th {\n",
              "        vertical-align: top;\n",
              "    }\n",
              "\n",
              "    .dataframe thead th {\n",
              "        text-align: right;\n",
              "    }\n",
              "</style>\n",
              "<table border=\"1\" class=\"dataframe\">\n",
              "  <thead>\n",
              "    <tr style=\"text-align: right;\">\n",
              "      <th></th>\n",
              "      <th>sentence</th>\n",
              "      <th>label</th>\n",
              "    </tr>\n",
              "  </thead>\n",
              "  <tbody>\n",
              "    <tr>\n",
              "      <th>48657</th>\n",
              "      <td>certain</td>\n",
              "      <td>1</td>\n",
              "    </tr>\n",
              "    <tr>\n",
              "      <th>44012</th>\n",
              "      <td>is almost certainly going to go down as the worst -- and only -- killer website movie of this or any other year</td>\n",
              "      <td>0</td>\n",
              "    </tr>\n",
              "    <tr>\n",
              "      <th>37689</th>\n",
              "      <td>poignant and gently humorous</td>\n",
              "      <td>1</td>\n",
              "    </tr>\n",
              "    <tr>\n",
              "      <th>32390</th>\n",
              "      <td>should drop everything and run to ichi</td>\n",
              "      <td>1</td>\n",
              "    </tr>\n",
              "    <tr>\n",
              "      <th>51718</th>\n",
              "      <td>he makes you realize that deep inside righteousness can be found a tough beauty .</td>\n",
              "      <td>1</td>\n",
              "    </tr>\n",
              "  </tbody>\n",
              "</table>\n",
              "</div>"
            ],
            "text/plain": [
              "                                                                                                               sentence  label\n",
              "48657                                                                                                          certain       1\n",
              "44012  is almost certainly going to go down as the worst -- and only -- killer website movie of this or any other year       0\n",
              "37689                                                                                     poignant and gently humorous       1\n",
              "32390                                                                           should drop everything and run to ichi       1\n",
              "51718                                he makes you realize that deep inside righteousness can be found a tough beauty .       1"
            ]
          },
          "metadata": {
            "tags": []
          },
          "execution_count": 46
        }
      ]
    },
    {
      "cell_type": "markdown",
      "metadata": {
        "id": "o03dUBH1KxIp"
      },
      "source": [
        "Depending on the computation velocity, training process could be more or less slow. For a fast intuition on the model, we can remove some data, since the original size of the dataset has more than 60k samples only in training. With `perc` we select the percentage of data we are going to use. Removed sample are selected randomly."
      ]
    },
    {
      "cell_type": "code",
      "metadata": {
        "colab": {
          "base_uri": "https://localhost:8080/"
        },
        "id": "Q3d-eYHQgegp",
        "outputId": "2d5cc08a-6c46-4e91-93d3-450b13543ae7"
      },
      "source": [
        "#@title 5.2.1 Resize dataset { vertical-output: true }\n",
        "#@markdown Percentage of dataset to use %\n",
        "perc = 100 #@param {type:\"slider\", min:1, max:100, step:1}\n",
        "datasets = {}\n",
        "\n",
        "for key, df in original_datasets.items():\n",
        "    new_df = df.sample(n=round(len(df)*(perc/100)), random_state=np.random.RandomState())\n",
        "    datasets[key] = new_df.reset_index(drop=True)\n",
        "    if perc != 100:\n",
        "        print(f'{key:<10}', f'From: {len(original_datasets[key]):<10}', f'To: {len(datasets[key]):<10}')\n",
        "    else:\n",
        "        print(f'{key:<10}', f'size: {len(original_datasets[key]):<10}')"
      ],
      "execution_count": 47,
      "outputs": [
        {
          "output_type": "stream",
          "text": [
            "train      size: 45123     \n",
            "val        size: 871       \n",
            "test       size: 22225     \n"
          ],
          "name": "stdout"
        }
      ]
    },
    {
      "cell_type": "markdown",
      "metadata": {
        "id": "cxgbVHrorSqy"
      },
      "source": [
        "It is important to know how many samples we have per class in our training dataset, in case we are dealing with an imbalanced classification problem. The number of samples is going to depend on how the original train datatset has been splitted to get the test set."
      ]
    },
    {
      "cell_type": "code",
      "metadata": {
        "colab": {
          "base_uri": "https://localhost:8080/"
        },
        "id": "chVHT0EOrcW3",
        "outputId": "cdd2d708-c9d3-4540-f7ff-9d0410d68ece"
      },
      "source": [
        "train_labels = datasets['train'].label\n",
        "\n",
        "# Print resulted samples\n",
        "print(f\"{'Total samples':^15} | {'Positive':^10} | {'Negative':^10}\")\n",
        "print(42*'-')\n",
        "print(f\"{len(train_labels):^15} | {len(train_labels[train_labels==1]):^10} | {len(train_labels[train_labels==0]):^10}\")\n",
        "print(42*'-')"
      ],
      "execution_count": 48,
      "outputs": [
        {
          "output_type": "stream",
          "text": [
            " Total samples  |  Positive  |  Negative \n",
            "------------------------------------------\n",
            "     45123      |   25135    |   19988   \n",
            "------------------------------------------\n"
          ],
          "name": "stdout"
        }
      ]
    },
    {
      "cell_type": "markdown",
      "metadata": {
        "id": "iPwweniNgTvl"
      },
      "source": [
        "## 5.3 -  Preprocessing data"
      ]
    },
    {
      "cell_type": "markdown",
      "metadata": {
        "id": "krEPtT0qTpQ9"
      },
      "source": [
        "Before input sequences into BERT, it is necessary to preprocess data. Depending on the model, there are more or less steps to do, but mainly the guide to follow is:\n",
        "\n",
        "*   Tokenize sequences. Convert text into integers according to embedding space used. There are many literature about tokenization algorithms.\n",
        "\n",
        "*   Pad each sentence to the maximum length there is in your batch.\n",
        "\n",
        "*   Truncate each sentence to the maximum length the model can accept (if applicable). \n"
      ]
    },
    {
      "cell_type": "markdown",
      "metadata": {
        "id": "MRbrb0iDqkZX"
      },
      "source": [
        "![Tokenization](https://raw.githubusercontent.com/ion-bueno/bert-from-inside/main/images/tokenization.png)"
      ]
    },
    {
      "cell_type": "markdown",
      "metadata": {
        "id": "iePZgKqDVcFD"
      },
      "source": [
        "The whole text must also be divided into sentences. Each one can select the more suitable approach depending on the origin of the text. In this case, I already have the original text divided into sentences.\n",
        "\n",
        "BERT employs [WordPiece](https://research.google/pubs/pub37842/) subword tokenization algorithm. Subword tokenization algorithms rely on the principle that frequently used words should not be split into smaller subwords, but rare words should be decomposed into meaningful subwords.\n",
        "\t\t\n",
        "WordPiece is very similar to [Byte Pair Encoding (BPE)](https://arxiv.org/abs/1508.07909). Every character present in training data is included to learn the corresponding merge rules. In contrast to BPE that chooses the most frequent symbol pair, this algorithm maximizes the likelihood of the training data when it is added to the vocabulary. This approach evaluates if it is worthy to merge two symbols, instead of separated."
      ]
    },
    {
      "cell_type": "markdown",
      "metadata": {
        "id": "JjbGx7_xMfdH"
      },
      "source": [
        "Remember that BERT input follows next scheme\n",
        "\n",
        "\\begin{matrix}\n",
        "    \\text{[CLS]} & \\text{Sentence A} & \\text{[SEP]} & \\text{Sentence B} & \\text{[SEP]}\n",
        "\\end{matrix}\n",
        "\n",
        "or\n",
        "\n",
        "\\begin{matrix}\n",
        "    \\text{[CLS]} & \\text{Sentence} & \\text{[SEP]}\n",
        "\\end{matrix} \\\\\n",
        "\n",
        "depending on the final task. Our case, classification of one sentence, corresponds with second option.\n"
      ]
    },
    {
      "cell_type": "markdown",
      "metadata": {
        "id": "dSdChhNAOfLC"
      },
      "source": [
        "In order to preprocess according to the model, it is going to be used the [`BertTokenizer`](https://huggingface.co/transformers/model_doc/bert.html?highlight=berttokenizer#transformers.BertTokenizer) from Hugging Face which ensures that we get a tokenizer that corresponds to the model architecture we want to use. Besides that, it downloads the vocabulary used when pretraining this specific checkpoint.\n",
        "\n",
        "\n",
        "It is necessary to pass to the tokenizer the name of the pre-trained model we are going to use. For this task the selected one is [`bert-base-uncased`](https://huggingface.co/bert-base-uncased), a base BERT which does not distinguish between upper and lower case."
      ]
    },
    {
      "cell_type": "code",
      "metadata": {
        "colab": {
          "base_uri": "https://localhost:8080/",
          "height": 198,
          "referenced_widgets": [
            "ace10f1bac344bd097eeb4bf740f8190",
            "46448d09808e46d18c47dc56b43a48a5",
            "6d78faaa864a487387a4a5f4cdee7c35",
            "f75126cff7bd4761ba6b2d86f5cf81ac",
            "6133a68ea3b243a794fddc44a9f14640",
            "812090fb5d634ff2990df26c72ba32fa",
            "b98c6cb3c3254a40a9e0062d7f3818e4",
            "ed10841c114f45ef8e614c6ea6515847",
            "d404716eddac4c9a9bcefbd580e77ebc",
            "3894ec6f711944b2859240678c7e8c54",
            "c655b880806c42f09f40d43cc02157ab",
            "07a5b51d786c4e90bfb8e798cbbff6e0",
            "39443ef61eb54a2f9dc970ef679deb55",
            "55f0863f26dd484f81466bf953d69f84",
            "bd0ed33b9ed04ae8899dab053f115f5d",
            "230462d1065c40d0aed8bda2bd96ebed",
            "97dda1f3205442ba9a717f2dd0dec45d",
            "08ef3b639c434f12ae73d67fd78a875f",
            "27ac5f42541d4e9996feb4221a5eed66",
            "7ee52677e4f645058711d4edf68de5a7",
            "f6c512a3be8d425996ba02c084714ecc",
            "d43fe1a66e1842c3a7ff3abe07e542f0",
            "500520ae8d8a4b07a9d4ffbdac2d6747",
            "9eff15c520f64aa6a3ac6721bff56aba"
          ]
        },
        "id": "_QEvK9RzQdln",
        "outputId": "eb456470-51b2-4b26-967b-05b6966f0f53"
      },
      "source": [
        "from transformers import BertTokenizer\n",
        "\n",
        "MODEL_NAME = 'bert-base-uncased'\n",
        "\n",
        "# Load the BERT tokenizer.\n",
        "print('Loading BERT tokenizer...\\n')\n",
        "tokenizer = BertTokenizer.from_pretrained(MODEL_NAME)"
      ],
      "execution_count": 49,
      "outputs": [
        {
          "output_type": "stream",
          "text": [
            "Loading BERT tokenizer...\n",
            "\n"
          ],
          "name": "stdout"
        },
        {
          "output_type": "display_data",
          "data": {
            "application/vnd.jupyter.widget-view+json": {
              "model_id": "ace10f1bac344bd097eeb4bf740f8190",
              "version_minor": 0,
              "version_major": 2
            },
            "text/plain": [
              "HBox(children=(FloatProgress(value=0.0, description='Downloading', max=231508.0, style=ProgressStyle(descripti…"
            ]
          },
          "metadata": {
            "tags": []
          }
        },
        {
          "output_type": "stream",
          "text": [
            "\n"
          ],
          "name": "stdout"
        },
        {
          "output_type": "display_data",
          "data": {
            "application/vnd.jupyter.widget-view+json": {
              "model_id": "d404716eddac4c9a9bcefbd580e77ebc",
              "version_minor": 0,
              "version_major": 2
            },
            "text/plain": [
              "HBox(children=(FloatProgress(value=0.0, description='Downloading', max=28.0, style=ProgressStyle(description_w…"
            ]
          },
          "metadata": {
            "tags": []
          }
        },
        {
          "output_type": "stream",
          "text": [
            "\n"
          ],
          "name": "stdout"
        },
        {
          "output_type": "display_data",
          "data": {
            "application/vnd.jupyter.widget-view+json": {
              "model_id": "97dda1f3205442ba9a717f2dd0dec45d",
              "version_minor": 0,
              "version_major": 2
            },
            "text/plain": [
              "HBox(children=(FloatProgress(value=0.0, description='Downloading', max=466062.0, style=ProgressStyle(descripti…"
            ]
          },
          "metadata": {
            "tags": []
          }
        },
        {
          "output_type": "stream",
          "text": [
            "\n"
          ],
          "name": "stdout"
        }
      ]
    },
    {
      "cell_type": "markdown",
      "metadata": {
        "id": "Esjs9IJyQ-mU"
      },
      "source": [
        "From this instance we can get many information about the model: \n",
        "\n",
        "- Dimension of the vocabulary used\n",
        "- Maximum allowed length of the model\n",
        "- In which size is applied padding\n",
        "- Special used tokens for separation token, padding token, classification token, mask token and other unknown tokens.\n"
      ]
    },
    {
      "cell_type": "code",
      "metadata": {
        "colab": {
          "base_uri": "https://localhost:8080/"
        },
        "id": "MbJCgRpQYODR",
        "outputId": "585dae22-398d-4c53-9866-a331ba7b50e5"
      },
      "source": [
        "#@markdown Select an option to visualize it\n",
        "attribute = \"vocab_size\" #@param [\"vocab_size\", \"model_max_length\", \"padding_side\", \"sep_token\", \"pad_token\", \"cls_token\", \"mask_token\", \"unk_token\"]\n",
        "\n",
        "print(getattr(tokenizer, attribute))"
      ],
      "execution_count": 50,
      "outputs": [
        {
          "output_type": "stream",
          "text": [
            "30522\n"
          ],
          "name": "stdout"
        }
      ]
    },
    {
      "cell_type": "markdown",
      "metadata": {
        "id": "_1hLzeZHRJHb"
      },
      "source": [
        "BERT works with sentences of same dimension. Due to that, it is required to pad (add padding tokens until a specified size) or truncate (separate a sentence if it is longer than the maximum model length). For this reason it is very useful to know which is the maximum length in our sentences, and limit the input size to this value."
      ]
    },
    {
      "cell_type": "code",
      "metadata": {
        "colab": {
          "base_uri": "https://localhost:8080/"
        },
        "id": "MLbnuF07maXq",
        "outputId": "a4ad6a6a-5367-454f-e9d2-e48ba3c81b32"
      },
      "source": [
        "# Concatenate sentences in datasets\n",
        "all_sentences = np.concatenate([datasets['train'].sentence.values, \n",
        "                                datasets['val'].sentence.values, \n",
        "                                datasets['test'].sentence.values])\n",
        "\n",
        "# Encode our concatenated data\n",
        "encoded_sentences = [tokenizer.encode(sent, add_special_tokens=True) for sent in all_sentences]\n",
        "\n",
        "# Find the maximum length\n",
        "max_len = max([len(sent) for sent in encoded_sentences])\n",
        "print(f'Max length: {max_len}')"
      ],
      "execution_count": 51,
      "outputs": [
        {
          "output_type": "stream",
          "text": [
            "Max length: 66\n"
          ],
          "name": "stdout"
        }
      ]
    },
    {
      "cell_type": "markdown",
      "metadata": {
        "id": "re7NomrbSU4B"
      },
      "source": [
        "In addition to, we have to add the special tokens: [CLS] at the beginning of a sentence and [SEP] between them, altough in our case it will be only at the end of each one."
      ]
    },
    {
      "cell_type": "markdown",
      "metadata": {
        "id": "DqTTwCtTSwNw"
      },
      "source": [
        "In next function, we tokenize each sentence in addition to add special tokens and perform the required padding or truncating operations."
      ]
    },
    {
      "cell_type": "code",
      "metadata": {
        "id": "Q2uqvgtbrZSV"
      },
      "source": [
        "def preprocessing_for_sa(data, tokenizer, max_len=512):\n",
        "    \"\"\"Perform required preprocessing steps for pretrained BERT.\n",
        "    @param    data (np.array): Array of texts to be processed.\n",
        "    @return   input_ids (torch.Tensor): Tensor of token ids to be fed to a model.\n",
        "    @return   attention_masks (torch.Tensor): Tensor of indices specifying which\n",
        "                  tokens should be attended to by the model.\n",
        "    \"\"\"\n",
        "    # Create empty lists to store outputs\n",
        "    input_ids = []\n",
        "    attention_masks = []\n",
        "\n",
        "    # For every sentence...\n",
        "    for sent in data:\n",
        "        encoded_sent = tokenizer.encode_plus(\n",
        "            sent,                           # Tokenize sentence\n",
        "            add_special_tokens=True,        # Add `[CLS]` and `[SEP]`\n",
        "            max_length=max_len,             # Max length to truncate/pad\n",
        "            padding='max_length',           # Pad sentence to max length\n",
        "            truncation=True,                # Truncate to max_length\n",
        "            return_attention_mask=True      # Return attention mask\n",
        "            )\n",
        "        \n",
        "        # Get output and attention mask\n",
        "        input_ids.append(encoded_sent.get('input_ids'))\n",
        "        attention_masks.append(encoded_sent.get('attention_mask'))\n",
        "\n",
        "    # Convert lists to tensors\n",
        "    input_ids = torch.tensor(input_ids)\n",
        "    attention_masks = torch.tensor(attention_masks)\n",
        "\n",
        "    return input_ids, attention_masks"
      ],
      "execution_count": 52,
      "outputs": []
    },
    {
      "cell_type": "markdown",
      "metadata": {
        "id": "E0oMD7QcTUH_"
      },
      "source": [
        "From this function we will get the corresponding token IDs as `input_ids`. Also, the second output `attention_masks`, indicates which tokens are useful and which ones are padding tokens. This requirement in the input is necessary for BERT."
      ]
    },
    {
      "cell_type": "code",
      "metadata": {
        "id": "ggrf-hV_3Qmr"
      },
      "source": [
        "encoded_datasets = dict.fromkeys(datasets)\n",
        "\n",
        "for split, df in datasets.items(): \n",
        "    encoded_datasets[split] = dict()\n",
        "    encoded_datasets[split]['input_ids'], encoded_datasets[split]['attention_mask'] = preprocessing_for_sa(df.sentence, tokenizer, max_len)\n",
        "    # Add the corresponding labels\n",
        "    encoded_datasets[split]['label'] = torch.tensor(df.label)"
      ],
      "execution_count": 53,
      "outputs": []
    },
    {
      "cell_type": "markdown",
      "metadata": {
        "id": "CS872sOtUW60"
      },
      "source": [
        "To get an intutiton about the whole process, we can print a random sentence as well as the corresponding token IDs and the result after tokenize it."
      ]
    },
    {
      "cell_type": "code",
      "metadata": {
        "colab": {
          "base_uri": "https://localhost:8080/"
        },
        "id": "0uMO0Akt4VSR",
        "outputId": "68627b69-68f6-4abf-fe91-e196c6b9d00a"
      },
      "source": [
        "# Random index\n",
        "rnd_index = random.randint(0, len(datasets[split])-1)\n",
        "# Original sentence\n",
        "sentence = datasets[split].sentence[rnd_index]\n",
        "print('Original sentence:')\n",
        "print(sentence, '\\n')\n",
        "\n",
        "# IDs\n",
        "ids = encoded_datasets[split]['input_ids'][rnd_index]\n",
        "print('Token IDs:')\n",
        "print(ids.detach().numpy(), '\\n')\n",
        "\n",
        "# Token IDs\n",
        "#tokens = tokenizer.convert_ids_to_tokens(ids)\n",
        "print('After tokenization:')\n",
        "print(np.array(tokenizer.convert_ids_to_tokens(ids)))"
      ],
      "execution_count": 54,
      "outputs": [
        {
          "output_type": "stream",
          "text": [
            "Original sentence:\n",
            "substantial depth  \n",
            "\n",
            "Token IDs:\n",
            "[ 101 6937 5995  102    0    0    0    0    0    0    0    0    0    0\n",
            "    0    0    0    0    0    0    0    0    0    0    0    0    0    0\n",
            "    0    0    0    0    0    0    0    0    0    0    0    0    0    0\n",
            "    0    0    0    0    0    0    0    0    0    0    0    0    0    0\n",
            "    0    0    0    0    0    0    0    0    0    0] \n",
            "\n",
            "After tokenization:\n",
            "['[CLS]' 'substantial' 'depth' '[SEP]' '[PAD]' '[PAD]' '[PAD]' '[PAD]'\n",
            " '[PAD]' '[PAD]' '[PAD]' '[PAD]' '[PAD]' '[PAD]' '[PAD]' '[PAD]' '[PAD]'\n",
            " '[PAD]' '[PAD]' '[PAD]' '[PAD]' '[PAD]' '[PAD]' '[PAD]' '[PAD]' '[PAD]'\n",
            " '[PAD]' '[PAD]' '[PAD]' '[PAD]' '[PAD]' '[PAD]' '[PAD]' '[PAD]' '[PAD]'\n",
            " '[PAD]' '[PAD]' '[PAD]' '[PAD]' '[PAD]' '[PAD]' '[PAD]' '[PAD]' '[PAD]'\n",
            " '[PAD]' '[PAD]' '[PAD]' '[PAD]' '[PAD]' '[PAD]' '[PAD]' '[PAD]' '[PAD]'\n",
            " '[PAD]' '[PAD]' '[PAD]' '[PAD]' '[PAD]' '[PAD]' '[PAD]' '[PAD]' '[PAD]'\n",
            " '[PAD]' '[PAD]' '[PAD]' '[PAD]']\n"
          ],
          "name": "stdout"
        }
      ]
    },
    {
      "cell_type": "markdown",
      "metadata": {
        "id": "C0qzQm6Ag2fG"
      },
      "source": [
        "We will create an iterator for our dataset using the torch [data loader](https://pytorch.org/tutorials/beginner/basics/data_tutorial.html) class. This will help save on memory during training and boost the training speed."
      ]
    },
    {
      "cell_type": "code",
      "metadata": {
        "id": "Kmgor3yXeUsW"
      },
      "source": [
        "from torch.utils.data import TensorDataset, DataLoader, RandomSampler, SequentialSampler\n",
        "\n",
        "def generate_data_loaders(batch_size, test=False):\n",
        "    # Train and val dataloaders\n",
        "    if test is False:\n",
        "        dataloaders = list()\n",
        "        for dataset in (encoded_datasets['train'], \n",
        "                        encoded_datasets['val']):\n",
        "            \n",
        "            data = TensorDataset(dataset['input_ids'], \n",
        "                                dataset['attention_mask'], \n",
        "                                dataset['label'])\n",
        "            sampler = RandomSampler(data)\n",
        "            dataloader = DataLoader(data, sampler=sampler, batch_size=batch_size)\n",
        "            dataloaders.append(dataloader)\n",
        "        return tuple(dataloaders)\n",
        "\n",
        "    # Test dataloader\n",
        "    else:\n",
        "        dataset = encoded_datasets['test']\n",
        "        data = TensorDataset(dataset['input_ids'], \n",
        "                                dataset['attention_mask'], \n",
        "                                dataset['label'])\n",
        "        sampler = SequentialSampler(data)\n",
        "        return DataLoader(data, sampler=sampler, batch_size=batch_size)"
      ],
      "execution_count": 55,
      "outputs": []
    },
    {
      "cell_type": "markdown",
      "metadata": {
        "id": "gPQVNkKcgfQp"
      },
      "source": [
        "## 5.4 - Create the Model"
      ]
    },
    {
      "cell_type": "markdown",
      "metadata": {
        "id": "7jqdXV0CFsG4"
      },
      "source": [
        "To fine-tune on GLUE, new parameters introduced are classification layer weigths $ W \\in \\mathbb R^{K \\ x \\ H} $, where $ K $ is the number of labels. Then we compute a standard classification loss with $ C $ and $ W $:\n",
        "\n",
        "\\begin{equation}\n",
        "    \\text{log}(\\text{softmax}(CW^T))\n",
        "\\end{equation}\n",
        "\n"
      ]
    },
    {
      "cell_type": "markdown",
      "metadata": {
        "id": "HUkyebe_q0cZ"
      },
      "source": [
        "![Fine tune sentiment analysis](https://raw.githubusercontent.com/ion-bueno/bert-from-inside/main/images/sentiment_analysis_fine_tune.png)"
      ]
    },
    {
      "cell_type": "markdown",
      "metadata": {
        "id": "IhpgGfl9heot"
      },
      "source": [
        "In **Sentiment Analysis** task, the final model is just a combination of BERT's encoder and a classifier to get the final probabilities."
      ]
    },
    {
      "cell_type": "markdown",
      "metadata": {
        "id": "5bV6gHgCqrRP"
      },
      "source": [
        "![BERT Classifier](https://raw.githubusercontent.com/ion-bueno/bert-from-inside/main/images/bert-classifier.png)\n",
        "\n",
        "> Diagram of BERT Classifier."
      ]
    },
    {
      "cell_type": "markdown",
      "metadata": {
        "id": "vUAMrvRQYa_a"
      },
      "source": [
        "Hugging Face provides [`BertForSequenceClassification`](https://huggingface.co/transformers/model_doc/bert.html?highlight=berttokenizer#bertforsequenceclassification) to perform this task. However, in order to show the simplicity of fine-tune process, we are going to create our own model. At the end, this is the combination of the pre-trained [`BertModel`](https://huggingface.co/transformers/model_doc/bert.html#transformers.BertModel) and a classifier, composed by a simple feed-forward neural netword with only one hidden layer, plus a softmax to get the probabilities of each class."
      ]
    },
    {
      "cell_type": "code",
      "metadata": {
        "id": "ujfnQXfrhwcB"
      },
      "source": [
        "# Create the BertClassfier class\n",
        "class BertClassifier(nn.Module):\n",
        "    \"\"\"Bert Model for Classification Tasks.\n",
        "    \"\"\"\n",
        "    def __init__(self, in_classifier=50, dropout=0.1, freeze_bert=False):\n",
        "        \"\"\"\n",
        "        @param    bert: a BertModel object\n",
        "        @param    classifier: a torch.nn.Module classifier\n",
        "        @param    freeze_bert (bool): Set `False` to fine-tune the BERT model\n",
        "        \"\"\"\n",
        "        super(BertClassifier, self).__init__()\n",
        "\n",
        "        # Instantiate BERT model\n",
        "        self.bert = BertModel.from_pretrained(MODEL_NAME)\n",
        "\n",
        "        # Instantiate an one-layer feed-forward classifier\n",
        "        H = in_classifier\n",
        "        D_in = self.bert.config.hidden_size\n",
        "\n",
        "        self.classifier = nn.Sequential(\n",
        "                nn.Linear(D_in, H),\n",
        "                nn.ReLU(),\n",
        "                nn.Dropout(dropout),\n",
        "                nn.Linear(H, 2)\n",
        "        )\n",
        "\n",
        "        # Freeze the BERT model\n",
        "        if freeze_bert:\n",
        "            for param in self.bert.parameters():\n",
        "                param.requires_grad = False\n",
        "        \n",
        "    def forward(self, input_ids, attention_mask):\n",
        "        \"\"\"\n",
        "        Feed input to BERT and the classifier to compute logits.\n",
        "        @param    input_ids (torch.Tensor): an input tensor with shape (batch_size,\n",
        "                      max_length)\n",
        "        @param    attention_mask (torch.Tensor): a tensor that hold attention mask\n",
        "                      information with shape (batch_size, max_length)\n",
        "        @return   logits (torch.Tensor): an output tensor with shape (batch_size,\n",
        "                      num_labels)\n",
        "        \"\"\"\n",
        "        # Feed input to BERT\n",
        "        outputs = self.bert(input_ids=input_ids,\n",
        "                            attention_mask=attention_mask)\n",
        "        \n",
        "        # Extract the last hidden state of the token `[CLS]` for classification task\n",
        "        # outputs[0] = last_hidden_state\n",
        "        # last_hidden_state dimension: (n_batches x words x inner_dim_BERT)\n",
        "        last_hidden_state_cls = outputs[0][:, 0, :]\n",
        "\n",
        "        # Feed input to classifier to compute logits\n",
        "        logits = self.classifier(last_hidden_state_cls)\n",
        "\n",
        "        return logits"
      ],
      "execution_count": 56,
      "outputs": []
    },
    {
      "cell_type": "markdown",
      "metadata": {
        "id": "_1NLY5sbc097"
      },
      "source": [
        "Finally, we have to decide the classifier's parameters. In our case the number of neurons in the hidden layer of the neural network as `in_classifier` and a dropout probability as `dropout_classifier`."
      ]
    },
    {
      "cell_type": "code",
      "metadata": {
        "colab": {
          "base_uri": "https://localhost:8080/"
        },
        "id": "r__KXCK8-9jI",
        "outputId": "75f5b443-c4cc-4242-c185-32ad4f2b3bfc"
      },
      "source": [
        "#@markdown Size classifier layer\n",
        "in_classifier = 50 #@param {type:\"integer\"}\n",
        "#@markdown Classifier droput probability\n",
        "dropout_classifier = 0.01 #@param {type:\"number\"}\n",
        "model = BertClassifier(in_classifier, dropout_classifier)"
      ],
      "execution_count": 57,
      "outputs": [
        {
          "output_type": "stream",
          "text": [
            "Some weights of the model checkpoint at bert-base-uncased were not used when initializing BertModel: ['cls.predictions.transform.LayerNorm.bias', 'cls.seq_relationship.bias', 'cls.predictions.transform.LayerNorm.weight', 'cls.predictions.transform.dense.weight', 'cls.predictions.transform.dense.bias', 'cls.predictions.decoder.weight', 'cls.predictions.bias', 'cls.seq_relationship.weight']\n",
            "- This IS expected if you are initializing BertModel from the checkpoint of a model trained on another task or with another architecture (e.g. initializing a BertForSequenceClassification model from a BertForPreTraining model).\n",
            "- This IS NOT expected if you are initializing BertModel from the checkpoint of a model that you expect to be exactly identical (initializing a BertForSequenceClassification model from a BertForSequenceClassification model).\n"
          ],
          "name": "stderr"
        }
      ]
    },
    {
      "cell_type": "markdown",
      "metadata": {
        "id": "_LVmrGBOeB15"
      },
      "source": [
        "With the model created, we can visualize each part: the whole model, only pretrained BERT or the classifier."
      ]
    },
    {
      "cell_type": "code",
      "metadata": {
        "colab": {
          "base_uri": "https://localhost:8080/"
        },
        "id": "cyXhITJRm0Pq",
        "outputId": "e420586c-9241-41d1-8d3f-57dd0ae14e44"
      },
      "source": [
        "#@markdown Select whole model, only pretrained BERT or the classifier\n",
        "block = \"classifier\" #@param [\"model\", \"bert\", \"classifier\"]\n",
        "if block == 'model':\n",
        "    print(model)\n",
        "else:\n",
        "    print(getattr(model, block))"
      ],
      "execution_count": 58,
      "outputs": [
        {
          "output_type": "stream",
          "text": [
            "Sequential(\n",
            "  (0): Linear(in_features=768, out_features=50, bias=True)\n",
            "  (1): ReLU()\n",
            "  (2): Dropout(p=0.01, inplace=False)\n",
            "  (3): Linear(in_features=50, out_features=2, bias=True)\n",
            ")\n"
          ],
          "name": "stdout"
        }
      ]
    },
    {
      "cell_type": "markdown",
      "metadata": {
        "id": "V6iOXiN8-8gc"
      },
      "source": [
        "To fine-tune our Bert Classifier, we need to create an optimizer. "
      ]
    },
    {
      "cell_type": "code",
      "metadata": {
        "cellView": "code",
        "id": "D4RYJWzH0wYH"
      },
      "source": [
        "from transformers import AdamW, get_linear_schedule_with_warmup\n",
        "\n",
        "def init_model(train_dataloader,\n",
        "               in_classifier=50, dropout_classifier=0.1, \n",
        "               learning_rate=5e-5, epsilon=1e-8, \n",
        "               epochs=4):\n",
        "    # Model\n",
        "    bert_classifier = BertClassifier(in_classifier, dropout_classifier)\n",
        "    # Run model in device\n",
        "    bert_classifier.to(device)\n",
        "\n",
        "    # Create the optimizer\n",
        "    optimizer = AdamW(\n",
        "        bert_classifier.parameters(),\n",
        "        lr=learning_rate,    \n",
        "        eps=epsilon    \n",
        "    )\n",
        "\n",
        "    # Total number of training steps\n",
        "    total_steps = len(train_dataloader) * epochs\n",
        "\n",
        "    # Set up the learning rate scheduler\n",
        "    scheduler = get_linear_schedule_with_warmup(optimizer,\n",
        "                                                num_warmup_steps=0, # Default value\n",
        "                                                num_training_steps=total_steps)\n",
        "    return bert_classifier, optimizer, scheduler"
      ],
      "execution_count": 59,
      "outputs": []
    },
    {
      "cell_type": "markdown",
      "metadata": {
        "id": "beqNViLcz0es"
      },
      "source": [
        "## 5.5 - Fine-Tune on SST-2"
      ]
    },
    {
      "cell_type": "markdown",
      "metadata": {
        "id": "bf1km6oGwsat"
      },
      "source": [
        "Before going into detail about how to fine-tune the model, a recap about binary classification problems. There are 4 possible combinations in a binary classification problem (predict a class between two possible ones).\n",
        "\n",
        "- **True Positive (TP)**: if both predicted and actual values are *Positive*.\n",
        "- **False Positive (FP)**: if predicted value is *Positive* and actual one is *Negative*.\n",
        "- **False Negative (FN)**: if predicted value is *Negative* and actual one is *Positive*.\n",
        "- **True Negative (NP)**: if both predicted and actual values are *Negative*.\n",
        "\n"
      ]
    },
    {
      "cell_type": "markdown",
      "metadata": {
        "id": "wSiDusMqx_Nx"
      },
      "source": [
        "![Confussion matrix](https://raw.githubusercontent.com/ion-bueno/bert-from-inside/main/images/conf_matrix.png)\n",
        "\n",
        "> Confusion matrix. Predicted vs. real values."
      ]
    },
    {
      "cell_type": "markdown",
      "metadata": {
        "id": "GOQkdtq70lGH"
      },
      "source": [
        "One method to measure the performance of the model is the **accuracy**. This is defined as the coefficient between the number of correct predictions and the total number of predictions. Then, with previous classification possibilities defined we have:\n",
        "\n",
        "\\begin{equation}\n",
        "    \\text{Accuracy} = \\frac{\\text{Number of correct predictions}}{\\text{Total number of predictions}} = \\frac{TP \\ + \\ TN}{TP \\ + \\ TN \\ + \\ FP \\ + \\ FN}\n",
        "\\end{equation}"
      ]
    },
    {
      "cell_type": "markdown",
      "metadata": {
        "id": "za8pBoDYzw5B"
      },
      "source": [
        "In addition to the accuracy, we use the [cross-entropy loss](https://machinelearningmastery.com/cross-entropy-for-machine-learning/). Each sample has a known class label with a probability of 1.0, and 0.0 for the other label. The model can estimate the probability of an example belonging to each class label. Cross-entropy can then be used to calculate the difference between the two probability distributions."
      ]
    },
    {
      "cell_type": "code",
      "metadata": {
        "id": "mo_Ew7bvz74W"
      },
      "source": [
        "loss_fn = nn.CrossEntropyLoss()"
      ],
      "execution_count": 60,
      "outputs": []
    },
    {
      "cell_type": "markdown",
      "metadata": {
        "id": "zb7K4dyOestG"
      },
      "source": [
        "To train the model, as in other architectures, we are going to iterate through batches. At the end of each epoch the model is evaluated respect the validation dataset. We use a [fixed seed](https://machinelearningmastery.com/reproducible-results-neural-networks-keras/) for the random number generator to ensure the same result in two consecutive executions with same parameters, and do not let it to random initialization."
      ]
    },
    {
      "cell_type": "code",
      "metadata": {
        "id": "aq2h2osmcg-D"
      },
      "source": [
        "import datetime\n",
        "import time\n",
        "\n",
        "def format_time(elapsed):\n",
        "    '''\n",
        "    Takes a time in seconds and returns a string hh:mm:ss\n",
        "    '''\n",
        "    # Round to the nearest second.\n",
        "    elapsed_rounded = int(round(elapsed))\n",
        "    \n",
        "    # Format as hh:mm:ss\n",
        "    return str(datetime.timedelta(seconds=elapsed_rounded))"
      ],
      "execution_count": 61,
      "outputs": []
    },
    {
      "cell_type": "code",
      "metadata": {
        "id": "jBwRZLp97bTB"
      },
      "source": [
        "class BertTrainer():\n",
        "\n",
        "    def __init__(self, params):\n",
        "        self.epochs = params['epochs']\n",
        "        self.train_dataloader, self.val_dataloader = generate_data_loaders(params['batch_size'])\n",
        "        self.training_stats = []\n",
        "        self.model, self.optimizer, self.scheduler = init_model(self.train_dataloader,\n",
        "                                                                params['in_classifier'], params['dropout'],\n",
        "                                                                params['learning_rate'], params['epsilon'],\n",
        "                                                                self.epochs)\n",
        "        \n",
        "    def set_seed(self, seed_value=42):\n",
        "        \"\"\"Set seed for reproducibility.\n",
        "        \"\"\"\n",
        "        random.seed(seed_value)\n",
        "        np.random.seed(seed_value)\n",
        "        torch.manual_seed(seed_value)\n",
        "        torch.cuda.manual_seed_all(seed_value)\n",
        "\n",
        "    def train(self, evaluation=True):\n",
        "        self.set_seed(42)\n",
        "        info_device()\n",
        "        for epoch_i in range(self.epochs):\n",
        "\n",
        "            # =======================================\n",
        "            #               Training\n",
        "            # =======================================\n",
        "            print(f'======== Epoch {epoch_i+1} / {epochs} ========\\n')\n",
        "\n",
        "            # Print the header of the result table\n",
        "            print(f'Training: {len(self.train_dataloader)} batches\\n')\n",
        "            print(f\"{'Batch':^7} | {'Train Loss':^12} | {'Elapsed':^9}\")\n",
        "            print(\"-\"*35)\n",
        "\n",
        "            # Measure the elapsed time of each epoch\n",
        "            training_time = 0\n",
        "            t0_batch = time.time()\n",
        "\n",
        "            # Reset tracking variables at the beginning of each epoch\n",
        "            total_loss, batch_loss, batch_counts = 0, 0, 0\n",
        "\n",
        "            # Put the model into the training mode\n",
        "            self.model.train()\n",
        "\n",
        "            # For each batch of training data...\n",
        "            for step, batch in enumerate(self.train_dataloader):\n",
        "\n",
        "                batch_counts +=1\n",
        "                # Load batch to device\n",
        "                b_input_ids, b_attn_mask, b_labels = tuple(t.to(device) for t in batch)\n",
        "\n",
        "                # Zero out any previously calculated gradients\n",
        "                self.model.zero_grad()\n",
        "\n",
        "                # Perform a forward pass. This will return logits.\n",
        "                logits = self.model(b_input_ids, b_attn_mask)\n",
        "\n",
        "                # Compute loss and accumulate the loss values\n",
        "                loss = loss_fn(logits, b_labels)\n",
        "                batch_loss += loss.item()\n",
        "                total_loss += loss.item()\n",
        "\n",
        "                # Perform a backward pass to calculate gradients\n",
        "                loss.backward()\n",
        "\n",
        "                # Clip the norm of the gradients to 1.0 to prevent \"exploding gradients\"\n",
        "                torch.nn.utils.clip_grad_norm_(self.model.parameters(), 1.0)\n",
        "\n",
        "                # Update parameters and the learning rate\n",
        "                self.optimizer.step()\n",
        "                self.scheduler.step()\n",
        "\n",
        "                # Print the loss values and time elapsed for every 20 batches\n",
        "                if (step % 20 == 0 and step != 0) or (step == len(self.train_dataloader) - 1):\n",
        "                    # Calculate time elapsed for 20 batches\n",
        "                    time_elapsed = time.time() - t0_batch\n",
        "                    training_time += time_elapsed\n",
        "                    time_elapsed = format_time(time_elapsed)\n",
        "\n",
        "                    # Print training results\n",
        "                    print(f\"{step:^7} | {batch_loss / batch_counts:^12.6f} | {time_elapsed:^9}\")\n",
        "\n",
        "                    # Reset batch tracking variables\n",
        "                    batch_loss, batch_counts = 0, 0\n",
        "                    t0_batch = time.time()\n",
        "\n",
        "            # Calculate the average loss over the entire training data\n",
        "            avg_train_loss = total_loss / len(self.train_dataloader)\n",
        "            # Format training_time\n",
        "            training_time = format_time(training_time)\n",
        "\n",
        "            print(\"-\"*35)\n",
        "            print(f\"{'-':^7} | {avg_train_loss:^12.6f} | {training_time:^9}\")\n",
        "            print(\"-\"*35)\n",
        "            print(\"\\n\")\n",
        "\n",
        "            # =======================================\n",
        "            #               Evaluation\n",
        "            # =======================================\n",
        "\n",
        "            if evaluation:\n",
        "                # After the completion of each training epoch, measure the model's performance\n",
        "                # on our validation set.\n",
        "                val_loss, val_accuracy, validation_time = self.evaluate()\n",
        "\n",
        "            print(\"\\n\")\n",
        "\n",
        "            # Record all statistics from this epoch.\n",
        "            self.training_stats.append(\n",
        "                {\n",
        "                    'epoch': epoch_i + 1,\n",
        "                    'Training Loss': avg_train_loss,\n",
        "                    'Validation Loss': val_loss,\n",
        "                    'Accuracy': val_accuracy,\n",
        "                    'Training Time': training_time,\n",
        "                    'Validation Time': validation_time\n",
        "                }\n",
        "            )\n",
        "\n",
        "        # Finished all epochs\n",
        "        print(\"Training completed!\")\n",
        "\n",
        "\n",
        "    def evaluate(self):\n",
        "        \"\"\"After the completion of each training epoch, measure the model's performance\n",
        "        on our validation set.\n",
        "        \"\"\"\n",
        "        # Put the model into the evaluation mode. The dropout layers are disabled during\n",
        "        # the test time.\n",
        "        self.model.eval()\n",
        "\n",
        "        # Set time\n",
        "        t0_val = time.time()\n",
        "\n",
        "        # Tracking variables\n",
        "        val_accuracy = []\n",
        "        val_loss = []\n",
        "\n",
        "        # For each batch in our validation set...\n",
        "        for batch in self.val_dataloader:\n",
        "            # Load batch to device\n",
        "            b_input_ids, b_attn_mask, b_labels = tuple(t.to(device) for t in batch)\n",
        "\n",
        "            # Compute logits\n",
        "            with torch.no_grad(): \n",
        "                logits = self.model(b_input_ids, b_attn_mask)\n",
        "\n",
        "            # Compute loss\n",
        "            loss = loss_fn(logits, b_labels)\n",
        "            val_loss.append(loss.item())\n",
        "\n",
        "            # Get the predictions\n",
        "            preds = torch.argmax(logits, dim=1).flatten()\n",
        "\n",
        "            # Calculate the accuracy rate\n",
        "            accuracy = (preds == b_labels).cpu().numpy().mean()\n",
        "            val_accuracy.append(accuracy)\n",
        "\n",
        "        # Compute the average accuracy and loss over the validation set.\n",
        "        val_loss = np.mean(val_loss)\n",
        "        val_accuracy = np.mean(val_accuracy)\n",
        "\n",
        "        # Compute elapsed time\n",
        "        time_elapsed = format_time(time.time() - t0_val)\n",
        "\n",
        "        print('Evaluation\\n')\n",
        "        print(f\"{'Val Loss':^10} | {'Accuracy':^10} | {'Elapsed':^9}\")\n",
        "        print(\"-\"*35)\n",
        "        print(f\"{val_loss:^10.6f} | {val_accuracy:^10.6f} | {time_elapsed:^9}\")\n",
        "        print(\"-\"*35)\n",
        "\n",
        "        return val_loss, val_accuracy, time_elapsed"
      ],
      "execution_count": 62,
      "outputs": []
    },
    {
      "cell_type": "markdown",
      "metadata": {
        "id": "Owa1c6DDge93"
      },
      "source": [
        "Once we have declared the `BertTrainer` class, it is only necessary to specify the parameters to train the model. The authors recommend following hyper-parameters:\n",
        "\n",
        "- Batch size: 16 or 32\n",
        "- Learning rate for AdamW optimizer: 5e-5, 3e-5 or 2e-5\n",
        "- Number of epochs: 2, 3, 4"
      ]
    },
    {
      "cell_type": "code",
      "metadata": {
        "id": "yX0SIOS7AtWH"
      },
      "source": [
        "#@title 5.5.1 - Hyperparameters Selection\n",
        "in_classifier = 50 #@param {type:\"integer\"}\n",
        "dropout_classifier = 0.1 #@param {type:\"number\"}\n",
        "batch_size =  32#@param {type:\"integer\"}\n",
        "learning_rate = 5e-5 #@param {type:\"number\"}\n",
        "epochs =  3#@param {type:\"integer\"}\n",
        "epsilon = 1e-8 #@param {type:\"number\"}\n",
        "\n",
        "args = {\n",
        "    'batch_size': batch_size,\n",
        "    'in_classifier': in_classifier,\n",
        "    'dropout': dropout_classifier,\n",
        "    'learning_rate': learning_rate,\n",
        "    'epsilon': epsilon,\n",
        "    'epochs': epochs,\n",
        "}"
      ],
      "execution_count": 63,
      "outputs": []
    },
    {
      "cell_type": "markdown",
      "metadata": {
        "id": "4vkGIBQ9jIrY"
      },
      "source": [
        "And now we only need to train the model."
      ]
    },
    {
      "cell_type": "code",
      "metadata": {
        "colab": {
          "base_uri": "https://localhost:8080/"
        },
        "id": "THVUZrz-jIKy",
        "outputId": "d30e948d-3f99-4f1f-c657-545b1f52a895"
      },
      "source": [
        "trainer = BertTrainer(args)\n",
        "bert_classifier = trainer.model\n",
        "trainer.train()"
      ],
      "execution_count": 64,
      "outputs": [
        {
          "output_type": "stream",
          "text": [
            "Some weights of the model checkpoint at bert-base-uncased were not used when initializing BertModel: ['cls.predictions.transform.LayerNorm.bias', 'cls.seq_relationship.bias', 'cls.predictions.transform.LayerNorm.weight', 'cls.predictions.transform.dense.weight', 'cls.predictions.transform.dense.bias', 'cls.predictions.decoder.weight', 'cls.predictions.bias', 'cls.seq_relationship.weight']\n",
            "- This IS expected if you are initializing BertModel from the checkpoint of a model trained on another task or with another architecture (e.g. initializing a BertForSequenceClassification model from a BertForPreTraining model).\n",
            "- This IS NOT expected if you are initializing BertModel from the checkpoint of a model that you expect to be exactly identical (initializing a BertForSequenceClassification model from a BertForSequenceClassification model).\n"
          ],
          "name": "stderr"
        },
        {
          "output_type": "stream",
          "text": [
            "\n",
            "Using GPU Tesla P100-PCIE-16GB. \n",
            "\n",
            "======== Epoch 1 / 3 ========\n",
            "\n",
            "Training: 1411 batches\n",
            "\n",
            " Batch  |  Train Loss  |  Elapsed \n",
            "-----------------------------------\n",
            "  20    |   0.594820   |  0:00:05 \n",
            "  40    |   0.437119   |  0:00:05 \n",
            "  60    |   0.350687   |  0:00:05 \n",
            "  80    |   0.373798   |  0:00:04 \n",
            "  100   |   0.301961   |  0:00:04 \n",
            "  120   |   0.281907   |  0:00:04 \n",
            "  140   |   0.369403   |  0:00:04 \n",
            "  160   |   0.279932   |  0:00:04 \n",
            "  180   |   0.258973   |  0:00:04 \n",
            "  200   |   0.288279   |  0:00:05 \n",
            "  220   |   0.268619   |  0:00:05 \n",
            "  240   |   0.283780   |  0:00:04 \n",
            "  260   |   0.230329   |  0:00:04 \n",
            "  280   |   0.251350   |  0:00:05 \n",
            "  300   |   0.251501   |  0:00:04 \n",
            "  320   |   0.236274   |  0:00:04 \n",
            "  340   |   0.261550   |  0:00:05 \n",
            "  360   |   0.215508   |  0:00:04 \n",
            "  380   |   0.251708   |  0:00:05 \n",
            "  400   |   0.250090   |  0:00:04 \n",
            "  420   |   0.237201   |  0:00:04 \n",
            "  440   |   0.238205   |  0:00:04 \n",
            "  460   |   0.236797   |  0:00:04 \n",
            "  480   |   0.252670   |  0:00:05 \n",
            "  500   |   0.222924   |  0:00:04 \n",
            "  520   |   0.197746   |  0:00:04 \n",
            "  540   |   0.228648   |  0:00:04 \n",
            "  560   |   0.231988   |  0:00:04 \n",
            "  580   |   0.198080   |  0:00:04 \n",
            "  600   |   0.261458   |  0:00:05 \n",
            "  620   |   0.235857   |  0:00:04 \n",
            "  640   |   0.217918   |  0:00:04 \n",
            "  660   |   0.231648   |  0:00:05 \n",
            "  680   |   0.188360   |  0:00:04 \n",
            "  700   |   0.235695   |  0:00:04 \n",
            "  720   |   0.174407   |  0:00:04 \n",
            "  740   |   0.226846   |  0:00:04 \n",
            "  760   |   0.206273   |  0:00:04 \n",
            "  780   |   0.206333   |  0:00:04 \n",
            "  800   |   0.198325   |  0:00:04 \n",
            "  820   |   0.222146   |  0:00:04 \n",
            "  840   |   0.206344   |  0:00:04 \n",
            "  860   |   0.222196   |  0:00:04 \n",
            "  880   |   0.174761   |  0:00:04 \n",
            "  900   |   0.176433   |  0:00:05 \n",
            "  920   |   0.256068   |  0:00:05 \n",
            "  940   |   0.202234   |  0:00:05 \n",
            "  960   |   0.179071   |  0:00:04 \n",
            "  980   |   0.188692   |  0:00:04 \n",
            " 1000   |   0.188433   |  0:00:04 \n",
            " 1020   |   0.160693   |  0:00:05 \n",
            " 1040   |   0.202717   |  0:00:04 \n",
            " 1060   |   0.220555   |  0:00:04 \n",
            " 1080   |   0.200393   |  0:00:04 \n",
            " 1100   |   0.171707   |  0:00:04 \n",
            " 1120   |   0.175271   |  0:00:04 \n",
            " 1140   |   0.205547   |  0:00:04 \n",
            " 1160   |   0.166423   |  0:00:05 \n",
            " 1180   |   0.192327   |  0:00:05 \n",
            " 1200   |   0.136133   |  0:00:04 \n",
            " 1220   |   0.214982   |  0:00:05 \n",
            " 1240   |   0.165796   |  0:00:04 \n",
            " 1260   |   0.202230   |  0:00:05 \n",
            " 1280   |   0.180694   |  0:00:04 \n",
            " 1300   |   0.175379   |  0:00:04 \n",
            " 1320   |   0.179297   |  0:00:04 \n",
            " 1340   |   0.180432   |  0:00:04 \n",
            " 1360   |   0.178001   |  0:00:04 \n",
            " 1380   |   0.206532   |  0:00:04 \n",
            " 1400   |   0.145416   |  0:00:04 \n",
            " 1410   |   0.124790   |  0:00:02 \n",
            "-----------------------------------\n",
            "   -    |   0.230106   |  0:05:17 \n",
            "-----------------------------------\n",
            "\n",
            "\n",
            "Evaluation\n",
            "\n",
            " Val Loss  |  Accuracy  |  Elapsed \n",
            "-----------------------------------\n",
            " 0.265750  |  0.918527  |  0:00:02 \n",
            "-----------------------------------\n",
            "\n",
            "\n",
            "======== Epoch 2 / 3 ========\n",
            "\n",
            "Training: 1411 batches\n",
            "\n",
            " Batch  |  Train Loss  |  Elapsed \n",
            "-----------------------------------\n",
            "  20    |   0.073684   |  0:00:05 \n",
            "  40    |   0.099593   |  0:00:05 \n",
            "  60    |   0.129891   |  0:00:05 \n",
            "  80    |   0.069543   |  0:00:04 \n",
            "  100   |   0.097948   |  0:00:04 \n",
            "  120   |   0.097687   |  0:00:04 \n",
            "  140   |   0.119813   |  0:00:04 \n",
            "  160   |   0.114485   |  0:00:04 \n",
            "  180   |   0.110638   |  0:00:04 \n",
            "  200   |   0.094508   |  0:00:05 \n",
            "  220   |   0.095065   |  0:00:04 \n",
            "  240   |   0.103606   |  0:00:04 \n",
            "  260   |   0.095944   |  0:00:04 \n",
            "  280   |   0.097062   |  0:00:04 \n",
            "  300   |   0.083154   |  0:00:05 \n",
            "  320   |   0.079007   |  0:00:05 \n",
            "  340   |   0.123202   |  0:00:05 \n",
            "  360   |   0.117752   |  0:00:05 \n",
            "  380   |   0.131261   |  0:00:05 \n",
            "  400   |   0.069624   |  0:00:05 \n",
            "  420   |   0.072874   |  0:00:05 \n",
            "  440   |   0.136612   |  0:00:05 \n",
            "  460   |   0.081754   |  0:00:05 \n",
            "  480   |   0.100706   |  0:00:05 \n",
            "  500   |   0.141537   |  0:00:05 \n",
            "  520   |   0.099608   |  0:00:05 \n",
            "  540   |   0.112656   |  0:00:04 \n",
            "  560   |   0.127765   |  0:00:04 \n",
            "  580   |   0.127243   |  0:00:04 \n",
            "  600   |   0.115704   |  0:00:04 \n",
            "  620   |   0.125418   |  0:00:04 \n",
            "  640   |   0.112627   |  0:00:04 \n",
            "  660   |   0.124983   |  0:00:04 \n",
            "  680   |   0.090048   |  0:00:04 \n",
            "  700   |   0.106911   |  0:00:04 \n",
            "  720   |   0.117750   |  0:00:04 \n",
            "  740   |   0.118897   |  0:00:04 \n",
            "  760   |   0.071674   |  0:00:04 \n",
            "  780   |   0.112982   |  0:00:04 \n",
            "  800   |   0.096081   |  0:00:04 \n",
            "  820   |   0.090005   |  0:00:04 \n",
            "  840   |   0.116208   |  0:00:04 \n",
            "  860   |   0.119611   |  0:00:04 \n",
            "  880   |   0.088636   |  0:00:04 \n",
            "  900   |   0.105149   |  0:00:04 \n",
            "  920   |   0.096139   |  0:00:04 \n",
            "  940   |   0.083286   |  0:00:05 \n",
            "  960   |   0.140003   |  0:00:04 \n",
            "  980   |   0.118999   |  0:00:04 \n",
            " 1000   |   0.107233   |  0:00:04 \n",
            " 1020   |   0.142684   |  0:00:04 \n",
            " 1040   |   0.143187   |  0:00:04 \n",
            " 1060   |   0.086926   |  0:00:04 \n",
            " 1080   |   0.099656   |  0:00:04 \n",
            " 1100   |   0.114866   |  0:00:04 \n",
            " 1120   |   0.105302   |  0:00:04 \n",
            " 1140   |   0.096852   |  0:00:04 \n",
            " 1160   |   0.098767   |  0:00:04 \n",
            " 1180   |   0.074267   |  0:00:04 \n",
            " 1200   |   0.085456   |  0:00:04 \n",
            " 1220   |   0.105475   |  0:00:04 \n",
            " 1240   |   0.071382   |  0:00:04 \n",
            " 1260   |   0.140006   |  0:00:04 \n",
            " 1280   |   0.091383   |  0:00:04 \n",
            " 1300   |   0.164539   |  0:00:04 \n",
            " 1320   |   0.144595   |  0:00:04 \n",
            " 1340   |   0.084051   |  0:00:04 \n",
            " 1360   |   0.061330   |  0:00:04 \n",
            " 1380   |   0.088596   |  0:00:04 \n",
            " 1400   |   0.125008   |  0:00:04 \n",
            " 1410   |   0.161261   |  0:00:02 \n",
            "-----------------------------------\n",
            "   -    |   0.105900   |  0:05:16 \n",
            "-----------------------------------\n",
            "\n",
            "\n",
            "Evaluation\n",
            "\n",
            " Val Loss  |  Accuracy  |  Elapsed \n",
            "-----------------------------------\n",
            " 0.272132  |  0.921875  |  0:00:02 \n",
            "-----------------------------------\n",
            "\n",
            "\n",
            "======== Epoch 3 / 3 ========\n",
            "\n",
            "Training: 1411 batches\n",
            "\n",
            " Batch  |  Train Loss  |  Elapsed \n",
            "-----------------------------------\n",
            "  20    |   0.060758   |  0:00:05 \n",
            "  40    |   0.078574   |  0:00:04 \n",
            "  60    |   0.040253   |  0:00:04 \n",
            "  80    |   0.074244   |  0:00:04 \n",
            "  100   |   0.030892   |  0:00:04 \n",
            "  120   |   0.056373   |  0:00:04 \n",
            "  140   |   0.075627   |  0:00:04 \n",
            "  160   |   0.030853   |  0:00:04 \n",
            "  180   |   0.059997   |  0:00:04 \n",
            "  200   |   0.065142   |  0:00:04 \n",
            "  220   |   0.047742   |  0:00:04 \n",
            "  240   |   0.054948   |  0:00:04 \n",
            "  260   |   0.029407   |  0:00:04 \n",
            "  280   |   0.067557   |  0:00:04 \n",
            "  300   |   0.044758   |  0:00:04 \n",
            "  320   |   0.067717   |  0:00:04 \n",
            "  340   |   0.043061   |  0:00:04 \n",
            "  360   |   0.042496   |  0:00:04 \n",
            "  380   |   0.095344   |  0:00:04 \n",
            "  400   |   0.040127   |  0:00:04 \n",
            "  420   |   0.080905   |  0:00:04 \n",
            "  440   |   0.018381   |  0:00:04 \n",
            "  460   |   0.067945   |  0:00:04 \n",
            "  480   |   0.080781   |  0:00:04 \n",
            "  500   |   0.039621   |  0:00:04 \n",
            "  520   |   0.076255   |  0:00:04 \n",
            "  540   |   0.053821   |  0:00:04 \n",
            "  560   |   0.108361   |  0:00:04 \n",
            "  580   |   0.046406   |  0:00:04 \n",
            "  600   |   0.056247   |  0:00:04 \n",
            "  620   |   0.078013   |  0:00:04 \n",
            "  640   |   0.060597   |  0:00:04 \n",
            "  660   |   0.041377   |  0:00:04 \n",
            "  680   |   0.072292   |  0:00:04 \n",
            "  700   |   0.035585   |  0:00:04 \n",
            "  720   |   0.051748   |  0:00:04 \n",
            "  740   |   0.054523   |  0:00:04 \n",
            "  760   |   0.067309   |  0:00:04 \n",
            "  780   |   0.065173   |  0:00:04 \n",
            "  800   |   0.054451   |  0:00:04 \n",
            "  820   |   0.080523   |  0:00:04 \n",
            "  840   |   0.074345   |  0:00:04 \n",
            "  860   |   0.060683   |  0:00:04 \n",
            "  880   |   0.048259   |  0:00:04 \n",
            "  900   |   0.046421   |  0:00:04 \n",
            "  920   |   0.055089   |  0:00:04 \n",
            "  940   |   0.051863   |  0:00:04 \n",
            "  960   |   0.087878   |  0:00:04 \n",
            "  980   |   0.038504   |  0:00:04 \n",
            " 1000   |   0.050723   |  0:00:04 \n",
            " 1020   |   0.050777   |  0:00:04 \n",
            " 1040   |   0.035005   |  0:00:04 \n",
            " 1060   |   0.062082   |  0:00:04 \n",
            " 1080   |   0.055904   |  0:00:04 \n",
            " 1100   |   0.049720   |  0:00:04 \n",
            " 1120   |   0.058608   |  0:00:04 \n",
            " 1140   |   0.059931   |  0:00:04 \n",
            " 1160   |   0.053162   |  0:00:04 \n",
            " 1180   |   0.063436   |  0:00:04 \n",
            " 1200   |   0.058945   |  0:00:04 \n",
            " 1220   |   0.050578   |  0:00:04 \n",
            " 1240   |   0.039514   |  0:00:04 \n",
            " 1260   |   0.033200   |  0:00:04 \n",
            " 1280   |   0.055645   |  0:00:04 \n",
            " 1300   |   0.034922   |  0:00:04 \n",
            " 1320   |   0.051704   |  0:00:04 \n",
            " 1340   |   0.034471   |  0:00:04 \n",
            " 1360   |   0.053350   |  0:00:04 \n",
            " 1380   |   0.058071   |  0:00:04 \n",
            " 1400   |   0.050435   |  0:00:04 \n",
            " 1410   |   0.053603   |  0:00:02 \n",
            "-----------------------------------\n",
            "   -    |   0.055978   |  0:05:14 \n",
            "-----------------------------------\n",
            "\n",
            "\n",
            "Evaluation\n",
            "\n",
            " Val Loss  |  Accuracy  |  Elapsed \n",
            "-----------------------------------\n",
            " 0.302988  |  0.927455  |  0:00:02 \n",
            "-----------------------------------\n",
            "\n",
            "\n",
            "Training completed!\n"
          ],
          "name": "stdout"
        }
      ]
    },
    {
      "cell_type": "markdown",
      "metadata": {
        "id": "zZBJw6_Kufca"
      },
      "source": [
        "After training the model, we can easily print its statistics in a data frame and save it as an excel table."
      ]
    },
    {
      "cell_type": "code",
      "metadata": {
        "colab": {
          "base_uri": "https://localhost:8080/",
          "height": 173
        },
        "id": "d9cqHoFsscUh",
        "outputId": "61009558-cd35-400f-e66c-7b193dc84b4e"
      },
      "source": [
        "# Create a DataFrame from our training statistics.\n",
        "df_stats = pd.DataFrame(data=trainer.training_stats)\n",
        "\n",
        "# Use the 'epoch' as the row index.\n",
        "df_stats = df_stats.set_index('epoch')\n",
        "\n",
        "# Save data frame\n",
        "df_stats.to_excel(sentiment_dir/'training_stats.xlsx')\n",
        "\n",
        "df_stats"
      ],
      "execution_count": 65,
      "outputs": [
        {
          "output_type": "execute_result",
          "data": {
            "text/html": [
              "<div>\n",
              "<style scoped>\n",
              "    .dataframe tbody tr th:only-of-type {\n",
              "        vertical-align: middle;\n",
              "    }\n",
              "\n",
              "    .dataframe tbody tr th {\n",
              "        vertical-align: top;\n",
              "    }\n",
              "\n",
              "    .dataframe thead th {\n",
              "        text-align: right;\n",
              "    }\n",
              "</style>\n",
              "<table border=\"1\" class=\"dataframe\">\n",
              "  <thead>\n",
              "    <tr style=\"text-align: right;\">\n",
              "      <th></th>\n",
              "      <th>Training Loss</th>\n",
              "      <th>Validation Loss</th>\n",
              "      <th>Accuracy</th>\n",
              "      <th>Training Time</th>\n",
              "      <th>Validation Time</th>\n",
              "    </tr>\n",
              "    <tr>\n",
              "      <th>epoch</th>\n",
              "      <th></th>\n",
              "      <th></th>\n",
              "      <th></th>\n",
              "      <th></th>\n",
              "      <th></th>\n",
              "    </tr>\n",
              "  </thead>\n",
              "  <tbody>\n",
              "    <tr>\n",
              "      <th>1</th>\n",
              "      <td>0.230106</td>\n",
              "      <td>0.265750</td>\n",
              "      <td>0.918527</td>\n",
              "      <td>0:05:17</td>\n",
              "      <td>0:00:02</td>\n",
              "    </tr>\n",
              "    <tr>\n",
              "      <th>2</th>\n",
              "      <td>0.105900</td>\n",
              "      <td>0.272132</td>\n",
              "      <td>0.921875</td>\n",
              "      <td>0:05:16</td>\n",
              "      <td>0:00:02</td>\n",
              "    </tr>\n",
              "    <tr>\n",
              "      <th>3</th>\n",
              "      <td>0.055978</td>\n",
              "      <td>0.302988</td>\n",
              "      <td>0.927455</td>\n",
              "      <td>0:05:14</td>\n",
              "      <td>0:00:02</td>\n",
              "    </tr>\n",
              "  </tbody>\n",
              "</table>\n",
              "</div>"
            ],
            "text/plain": [
              "       Training Loss  Validation Loss  Accuracy Training Time Validation Time\n",
              "epoch                                                                        \n",
              "1           0.230106         0.265750  0.918527       0:05:17         0:00:02\n",
              "2           0.105900         0.272132  0.921875       0:05:16         0:00:02\n",
              "3           0.055978         0.302988  0.927455       0:05:14         0:00:02"
            ]
          },
          "metadata": {
            "tags": []
          },
          "execution_count": 65
        }
      ]
    },
    {
      "cell_type": "markdown",
      "metadata": {
        "id": "0FlBfCt1vzj9"
      },
      "source": [
        "We can print how both (training and validation) losses evolve during epochs."
      ]
    },
    {
      "cell_type": "code",
      "metadata": {
        "id": "P38nQ_tbvpm2"
      },
      "source": [
        "def plot_loss_curves(df):\n",
        "    # Use plot styling from seaborn.\n",
        "    sns.set(style='darkgrid')\n",
        "\n",
        "    # Increase the plot size and font size.\n",
        "    sns.set(font_scale=1.5)\n",
        "    plt.rcParams[\"figure.figsize\"] = (12,6)\n",
        "\n",
        "    # Plot the learning curve.\n",
        "    plt.plot(df['Training Loss'], 'b-o', label=\"Training\")\n",
        "    plt.plot(df['Validation Loss'], 'g-o', label=\"Validation\")\n",
        "\n",
        "    # Label the plot.\n",
        "    plt.title(\"Training & Validation Loss\")\n",
        "    plt.xlabel(\"Epoch\")\n",
        "    plt.ylabel(\"Loss\")\n",
        "    plt.legend()\n",
        "    plt.xticks(df.index.values)\n",
        "\n",
        "    plt.show()"
      ],
      "execution_count": 66,
      "outputs": []
    },
    {
      "cell_type": "code",
      "metadata": {
        "colab": {
          "base_uri": "https://localhost:8080/",
          "height": 427
        },
        "id": "54tP7ZpO-5Ui",
        "outputId": "f026c34e-f81a-48c7-91f6-27275926f472"
      },
      "source": [
        "plot_loss_curves(df_stats)"
      ],
      "execution_count": 67,
      "outputs": [
        {
          "output_type": "display_data",
          "data": {
            "image/png": "[encoded data removed]",
            "text/plain": [
              "<Figure size 864x432 with 1 Axes>"
            ]
          },
          "metadata": {
            "tags": []
          }
        }
      ]
    },
    {
      "cell_type": "markdown",
      "metadata": {
        "id": "C--5u9xt5du0"
      },
      "source": [
        "While the the training loss is going down with each epoch, the validation loss is increasing. This suggests that we are training our model too long, and it is over-fitting on the training data.\n",
        "\t\t\t\n",
        "Validation loss is a more precise measure than accuracy, because with accuracy we do not care about the exact output value, but just which side of a threshold it falls on. If we are predicting the correct answer, but with less confidence, then validation loss will catch this, while accuracy will not."
      ]
    },
    {
      "cell_type": "markdown",
      "metadata": {
        "id": "MkNh9tB_-efC"
      },
      "source": [
        "### 5.5.2 - Save and load model"
      ]
    },
    {
      "cell_type": "markdown",
      "metadata": {
        "id": "B7mkkuXoGVZ_"
      },
      "source": [
        "Last step is to save the fine-tuned model as well as the training arguments."
      ]
    },
    {
      "cell_type": "code",
      "metadata": {
        "id": "safVP_6TBr7n"
      },
      "source": [
        "def save_json(path, file):\n",
        "    with open(path, \"w\") as outfile:\n",
        "        json.dump(file, outfile)"
      ],
      "execution_count": 68,
      "outputs": []
    },
    {
      "cell_type": "code",
      "metadata": {
        "id": "6gNPJgkmbYwO",
        "colab": {
          "base_uri": "https://localhost:8080/"
        },
        "outputId": "885418ec-598e-4fa9-d6d8-3d2f4e595d85"
      },
      "source": [
        "print('Saving model...')\n",
        "torch.save(bert_classifier.state_dict(), sentiment_dir/'pytorch_model.pt')\n",
        "\n",
        "print('Saving tokenizer data...')\n",
        "tokenizer.save_pretrained(sentiment_dir)\n",
        "\n",
        "print('Saving training arguments...')\n",
        "save_json(sentiment_dir/'training_args.json', args)\n",
        "\n",
        "print('Saving training statistics..')\n",
        "save_json(sentiment_dir/'training_stats.json', trainer.training_stats)"
      ],
      "execution_count": 69,
      "outputs": [
        {
          "output_type": "stream",
          "text": [
            "Saving model...\n",
            "Saving tokenizer data...\n",
            "Saving training arguments...\n",
            "Saving training statistics..\n"
          ],
          "name": "stdout"
        }
      ]
    },
    {
      "cell_type": "markdown",
      "metadata": {
        "id": "GvizxatWVn-R"
      },
      "source": [
        "And if we want to load it."
      ]
    },
    {
      "cell_type": "code",
      "metadata": {
        "id": "Af4Zxg15Vqyr"
      },
      "source": [
        "'''path = '/content/drive/MyDrive/Degree/TFG/Models/BertForSentimentAnalysis/pytorch_model.pt'\n",
        "\n",
        "bert_classifier = BertClassifier()\n",
        "bert_classifier.load_state_dict(torch.load(path))\n",
        "bert_classifier.to(device)'''"
      ],
      "execution_count": null,
      "outputs": []
    },
    {
      "cell_type": "markdown",
      "metadata": {
        "id": "UDi8plm1iAp6"
      },
      "source": [
        "## 5.6 - Evaluation"
      ]
    },
    {
      "cell_type": "markdown",
      "metadata": {
        "id": "F2WZqXed64Bu"
      },
      "source": [
        "Once our model is fine-tuned, we can evaluate it with the test dataset. We need to define the prediction function which is going to be almost equal to the previous evaluation function, but applying a **softmax** to return the probabilities per class."
      ]
    },
    {
      "cell_type": "code",
      "metadata": {
        "id": "L4beq2q02L13"
      },
      "source": [
        "def bert_predict(model, test_dataloader):\n",
        "    \"\"\"Perform a forward pass on the trained BERT model to predict probabilities\n",
        "    on the test set.\n",
        "    \"\"\"\n",
        "    # Put the model into the evaluation mode. The dropout layers are disabled during\n",
        "    # the test time.\n",
        "    model.eval()\n",
        "\n",
        "    # Predictions\n",
        "    all_logits = []\n",
        "\n",
        "    # Set time\n",
        "    t0_test = time.time()\n",
        "\n",
        "    # Tracking variables\n",
        "    test_accuracy = []\n",
        "    test_loss = []\n",
        "\n",
        "    # For each batch in our test set...\n",
        "    info_device()\n",
        "    for batch in test_dataloader:\n",
        "        # Load batch to device\n",
        "        b_input_ids, b_attn_mask, b_labels = tuple(t.to(device) for t in batch)\n",
        "\n",
        "        # Compute logits\n",
        "        with torch.no_grad():\n",
        "            logits = model(b_input_ids, b_attn_mask)\n",
        "        all_logits.append(logits)\n",
        "\n",
        "        # Compute loss\n",
        "        loss = loss_fn(logits, b_labels)\n",
        "        test_loss.append(loss.item())\n",
        "\n",
        "        # Get the predictions\n",
        "        preds = torch.argmax(logits, dim=1).flatten()\n",
        "\n",
        "        # Calculate the accuracy rate\n",
        "        accuracy = (preds == b_labels).cpu().numpy().mean()\n",
        "        test_accuracy.append(accuracy)\n",
        "    \n",
        "    # Compute the average accuracy and loss over the validation set.\n",
        "    test_loss = np.mean(test_loss)\n",
        "    test_accuracy = np.mean(test_accuracy)\n",
        "\n",
        "    # Compute elapsed time\n",
        "    time_elapsed = format_time(time.time() - t0_test)\n",
        "\n",
        "    # Calculate probabilities\n",
        "    all_logits = torch.cat(all_logits, dim=0)\n",
        "    probs = F.softmax(all_logits, dim=1).cpu().numpy()\n",
        "\n",
        "    test_stats = {\n",
        "        'Test Loss': test_loss,\n",
        "        'Accuracy': test_accuracy,\n",
        "        'Test time': time_elapsed\n",
        "    }\n",
        "\n",
        "    print(f\"{'Test Loss':^12} | {'Accuracy':^10} | {'Test time':^11}\")\n",
        "    print(\"-\"*40)\n",
        "    print(f\"{test_loss:^12.6f} | {test_accuracy:^10.6f} | {time_elapsed:^11}\")\n",
        "    print(\"-\"*40)\n",
        "  \n",
        "    return probs, test_stats"
      ],
      "execution_count": 71,
      "outputs": []
    },
    {
      "cell_type": "markdown",
      "metadata": {
        "id": "UgDYuFTztwfN"
      },
      "source": [
        "From `BertTrainer` we get the `model` and the `test_dataloader`. Using last function, we get the corresponding probabilities for each class."
      ]
    },
    {
      "cell_type": "code",
      "metadata": {
        "colab": {
          "base_uri": "https://localhost:8080/"
        },
        "id": "Jy4fJdpU2ep1",
        "outputId": "57b6088e-ccb6-4d86-b9f9-346f97bc7a7b"
      },
      "source": [
        "# Compute probabilities in test set\n",
        "probs, test_stats= bert_predict(bert_classifier, generate_data_loaders(32, test=True))\n",
        "\n",
        "# Compute predictions\n",
        "preds = np.argmax(probs, axis=1)\n",
        "\n",
        "# Test labels\n",
        "test_df = datasets['test']\n",
        "y_true = test_df.label"
      ],
      "execution_count": 72,
      "outputs": [
        {
          "output_type": "stream",
          "text": [
            "\n",
            "Using GPU Tesla P100-PCIE-16GB. \n",
            "\n",
            " Test Loss   |  Accuracy  |  Test time \n",
            "----------------------------------------\n",
            "  0.214045   |  0.949241  |   0:00:46  \n",
            "----------------------------------------\n"
          ],
          "name": "stdout"
        }
      ]
    },
    {
      "cell_type": "code",
      "metadata": {
        "colab": {
          "base_uri": "https://localhost:8080/"
        },
        "id": "14_4pt8LdERy",
        "outputId": "89b32852-939d-4287-e096-9a0f8a5736b8"
      },
      "source": [
        "print('Saving test statistics..')\n",
        "save_json(sentiment_dir/'test_stats.json', test_stats)"
      ],
      "execution_count": 73,
      "outputs": [
        {
          "output_type": "stream",
          "text": [
            "Saving test statistics..\n"
          ],
          "name": "stdout"
        }
      ]
    },
    {
      "cell_type": "markdown",
      "metadata": {
        "id": "AsP8WSWyaoW9"
      },
      "source": [
        "To get a fast intuition on the result, we can plot some predicted sentences. Remember that the label 1 corresponds with positive sentiment while label 0 with negative."
      ]
    },
    {
      "cell_type": "code",
      "metadata": {
        "colab": {
          "base_uri": "https://localhost:8080/",
          "height": 204
        },
        "id": "Jfc4r_BWMoGm",
        "outputId": "16547f83-9c8e-4139-db19-4811a77239b3"
      },
      "source": [
        "num_examples = 5 #@param {type:\"slider\", min:1, max:10, step:1}\n",
        "df = test_df.sample(num_examples)\n",
        "df['real'] = np.where(df.label==0, 'negative', 'positive')\n",
        "df['predicted'] = np.where(preds[df.index]==0, 'negative', 'positive')\n",
        "df['probability'] = np.amax(probs, axis=1)[df.index]\n",
        "pd.set_option(\"max_colwidth\", 150)\n",
        "df"
      ],
      "execution_count": 74,
      "outputs": [
        {
          "output_type": "execute_result",
          "data": {
            "text/html": [
              "<div>\n",
              "<style scoped>\n",
              "    .dataframe tbody tr th:only-of-type {\n",
              "        vertical-align: middle;\n",
              "    }\n",
              "\n",
              "    .dataframe tbody tr th {\n",
              "        vertical-align: top;\n",
              "    }\n",
              "\n",
              "    .dataframe thead th {\n",
              "        text-align: right;\n",
              "    }\n",
              "</style>\n",
              "<table border=\"1\" class=\"dataframe\">\n",
              "  <thead>\n",
              "    <tr style=\"text-align: right;\">\n",
              "      <th></th>\n",
              "      <th>sentence</th>\n",
              "      <th>label</th>\n",
              "      <th>real</th>\n",
              "      <th>predicted</th>\n",
              "      <th>probability</th>\n",
              "    </tr>\n",
              "  </thead>\n",
              "  <tbody>\n",
              "    <tr>\n",
              "      <th>1891</th>\n",
              "      <td>fascinating -- and timely --</td>\n",
              "      <td>1</td>\n",
              "      <td>positive</td>\n",
              "      <td>positive</td>\n",
              "      <td>0.999180</td>\n",
              "    </tr>\n",
              "    <tr>\n",
              "      <th>20706</th>\n",
              "      <td>, sarah 's dedication to finding her husband seems more psychotic than romantic , and nothing in the movie makes a convincing case that one woman ...</td>\n",
              "      <td>0</td>\n",
              "      <td>negative</td>\n",
              "      <td>negative</td>\n",
              "      <td>0.998587</td>\n",
              "    </tr>\n",
              "    <tr>\n",
              "      <th>14030</th>\n",
              "      <td>interesting social</td>\n",
              "      <td>1</td>\n",
              "      <td>positive</td>\n",
              "      <td>positive</td>\n",
              "      <td>0.999140</td>\n",
              "    </tr>\n",
              "    <tr>\n",
              "      <th>15419</th>\n",
              "      <td>found this a remarkable and novel concept</td>\n",
              "      <td>1</td>\n",
              "      <td>positive</td>\n",
              "      <td>positive</td>\n",
              "      <td>0.999182</td>\n",
              "    </tr>\n",
              "    <tr>\n",
              "      <th>17873</th>\n",
              "      <td>goals</td>\n",
              "      <td>1</td>\n",
              "      <td>positive</td>\n",
              "      <td>positive</td>\n",
              "      <td>0.998932</td>\n",
              "    </tr>\n",
              "  </tbody>\n",
              "</table>\n",
              "</div>"
            ],
            "text/plain": [
              "                                                                                                                                                    sentence  ...  probability\n",
              "1891                                                                                                                           fascinating -- and timely --   ...     0.999180\n",
              "20706  , sarah 's dedication to finding her husband seems more psychotic than romantic , and nothing in the movie makes a convincing case that one woman ...  ...     0.998587\n",
              "14030                                                                                                                                    interesting social   ...     0.999140\n",
              "15419                                                                                                             found this a remarkable and novel concept   ...     0.999182\n",
              "17873                                                                                                                                                 goals   ...     0.998932\n",
              "\n",
              "[5 rows x 5 columns]"
            ]
          },
          "metadata": {
            "tags": []
          },
          "execution_count": 74
        }
      ]
    },
    {
      "cell_type": "markdown",
      "metadata": {
        "id": "i3HkKh0_YJoK"
      },
      "source": [
        "### 5.6.1 - Variable Threshold"
      ]
    },
    {
      "cell_type": "markdown",
      "metadata": {
        "id": "YsSlCGCAajmD"
      },
      "source": [
        "Sentiment classification task is even difficult for human. Therefore, define a threshold is going to provide a safer margin to classify one class. \n",
        "\n",
        "For example, if we define that positive sentiment sample are the only ones where probability of being *positive* is bigger than 0.9, samples classified as positive are going to have surely positive sentiment. The main drawback here is all samples wich are positive and are classified as negative."
      ]
    },
    {
      "cell_type": "markdown",
      "metadata": {
        "id": "8yvLZpyAYp1A"
      },
      "source": [
        "To get a better intuiton about the performance, we can plot the confusion matrix."
      ]
    },
    {
      "cell_type": "code",
      "metadata": {
        "id": "O8-eUICKC5ks"
      },
      "source": [
        "from sklearn.metrics import confusion_matrix\n",
        "import itertools\n",
        "\n",
        "def plot_confusion_matrix(cm, classes, normalize=False):\n",
        "    if normalize:\n",
        "        cm = cm.astype('float') / cm.sum(axis=1)[:, np.newaxis]\n",
        "        title = \"Normalized confusion matrix\"\n",
        "    else:\n",
        "        title = 'Confusion matrix, without normalization'\n",
        "\n",
        "    plt.imshow(cm, interpolation='nearest', cmap=plt.cm.Blues)\n",
        "    plt.title(title)\n",
        "    plt.colorbar()\n",
        "    tick_marks = np.arange(len(classes))\n",
        "    plt.xticks(tick_marks, classes)\n",
        "    plt.yticks(tick_marks, classes)\n",
        "\n",
        "    fmt = '.2f' if normalize else 'd'\n",
        "    thresh = cm.min() + ((cm.max() - cm.min()) / 2)\n",
        "    for i, j in itertools.product(range(cm.shape[0]), range(cm.shape[1])):\n",
        "        plt.text(j, i, format(cm[i, j], fmt), horizontalalignment=\"center\", color=\"white\" if cm[i, j] > thresh else \"black\")\n",
        "\n",
        "    plt.tight_layout()\n",
        "    plt.grid(False)\n",
        "    plt.ylabel('True label')\n",
        "    plt.xlabel('Predicted label')"
      ],
      "execution_count": 75,
      "outputs": []
    },
    {
      "cell_type": "code",
      "metadata": {
        "colab": {
          "base_uri": "https://localhost:8080/",
          "height": 446
        },
        "id": "saeayM_oD1ng",
        "outputId": "90cd6947-583f-4ffc-c842-4a8ee45c8896"
      },
      "source": [
        "plot_confusion_matrix(confusion_matrix(preds, y_true), ('positive', 'negative'))"
      ],
      "execution_count": 76,
      "outputs": [
        {
          "output_type": "display_data",
          "data": {
            "image/png": "[encoded data removed]",
            "text/plain": [
              "<Figure size 864x432 with 2 Axes>"
            ]
          },
          "metadata": {
            "tags": []
          }
        }
      ]
    },
    {
      "cell_type": "markdown",
      "metadata": {
        "id": "bFXyQR063Z4M"
      },
      "source": [
        "A useful tool to determine an optimal threshold  is the **Receiver Operating Characteristic curve (ROC)**. It is a plot of the false positive rate (x-axis) versus the true positive rate (y-axis) for a number of different candidate threshold values between 0.0 and 1.0.\n",
        "\n",
        "The **true positive rate** is calculated as the number of true positives divided by the sum of the number of true positives and the number of false negatives. It is also called as **hit rate** and describes how good the model is at predicting the positive class when the actual outcome is positive. It is also known as **sensitivity** or **recall**.\n",
        "\n",
        "\\begin{equation}\n",
        "    TPR = \\frac{TP}{TP \\ + \\ FN}\n",
        "\\end{equation}\n",
        "\n",
        "The **false positive rate** is calculated as the number of false positives divided by the sum of the number of false positives and the number of true negatives. It is also called the **false alarm rate** as it summarizes how often a positive class is predicted when the actual outcome is negative.\n",
        "\n",
        "\\begin{equation}\n",
        "    FPR = \\frac{FP}{FP \\ + \\ TN}\n",
        "\\end{equation}\n",
        "\n",
        "The complement of the FPR is the **specificity** and it is calculated as:\n",
        "\n",
        "\\begin{equation}\n",
        "  \\text{Specificity} = 1 - FPR\n",
        "\\end{equation}\n",
        "\n",
        "The Geometric Mean or G-Mean is a metric for imbalanced classification that, if optimized, will seek a balance between the sensitivity and the specificity.\n",
        "\n",
        "\\begin{equation}\n",
        "    \\text{G-Mean} = \\sqrt{\\text{Sensitivity} \\cdot \\text{Specificity}}\n",
        "\\end{equation}\n",
        "\n",
        "One approach to determine the optimized threshold would be to test the model with each threshold and select the one with the largest G-Mean value."
      ]
    },
    {
      "cell_type": "code",
      "metadata": {
        "id": "VdRopsSbtvBh"
      },
      "source": [
        "from sklearn.metrics import roc_curve, auc\n",
        "\n",
        "def evaluate_roc(probs, y_true):\n",
        "    fpr, tpr, thresholds = roc_curve(y_true, probs[:, 1])\n",
        "    roc_auc = auc(fpr, tpr)\n",
        "\n",
        "    # calculate the g-mean for each threshold\n",
        "    gmeans = np.sqrt(tpr * (1-fpr))\n",
        "    # locate the index of the largest g-mean\n",
        "    ix = np.argmax(gmeans)\n",
        "    \n",
        "    # title\n",
        "    plt.title(f'Receiver Operating Characteristic\\nAUC = {roc_auc:.2f}, Best G-Mean = {gmeans[ix]:.2f}')\n",
        "    # plot ROC curve\n",
        "    plt.plot([0, 1], [0, 1],'--', label='No skill')\n",
        "    plt.plot(fpr, tpr, marker='.', label='Bert Classifier')\n",
        "    plt.plot(fpr[ix], tpr[ix], marker='o', color='black', label=f'Best threshold = {thresholds[ix]:.2f}')\n",
        "    # show legend\n",
        "    plt.legend(loc = 'lower right')\n",
        "    # axis labels\n",
        "    plt.ylabel('True Positive Rate')\n",
        "    plt.xlabel('False Positive Rate')\n",
        "    # show plot\n",
        "    plt.show()\n",
        "    return tpr, fpr, thresholds"
      ],
      "execution_count": 77,
      "outputs": []
    },
    {
      "cell_type": "code",
      "metadata": {
        "colab": {
          "base_uri": "https://localhost:8080/",
          "height": 447
        },
        "id": "ojBpEORfuTfI",
        "outputId": "192b1514-9e1a-4983-c290-af0d19467949"
      },
      "source": [
        "tpr, fpr, thresholds = evaluate_roc(probs, y_true)"
      ],
      "execution_count": 78,
      "outputs": [
        {
          "output_type": "display_data",
          "data": {
            "image/png": "[encoded data removed]",
            "text/plain": [
              "<Figure size 864x432 with 1 Axes>"
            ]
          },
          "metadata": {
            "tags": []
          }
        }
      ]
    },
    {
      "cell_type": "markdown",
      "metadata": {
        "id": "fXWo7a4bZpKs"
      },
      "source": [
        "An excellent model has AUC near to the 1 which means it has a good measure of separability. A poor model has AUC near to the 0 which means it has the worst measure of separability. In fact, it means it is reciprocating the result. It is predicting 0s as 1s and 1s as 0s. And when AUC is 0.5, it means the model has no class separation capacity whatsoever."
      ]
    },
    {
      "cell_type": "markdown",
      "metadata": {
        "id": "SDdnlu47DubS"
      },
      "source": [
        "To confirm the result we can check it with the [Youden's J statistic](https://en.wikipedia.org/wiki/Youden%27s_J_statistic) which is defined as:\n",
        "\n",
        "\\begin{equation}\n",
        "    \\begin{split}\n",
        "        &J = \\text{Sensitivity} + \\text{Specificity} - 1 = \\\\\n",
        "        &TPR + (1 - FPR) - 1 = TPR - FPR\n",
        "    \\end{split}\n",
        "\\end{equation}"
      ]
    },
    {
      "cell_type": "code",
      "metadata": {
        "colab": {
          "base_uri": "https://localhost:8080/"
        },
        "id": "ILv2twvdv7OE",
        "outputId": "675a3a88-3f76-4a79-eceb-3fc5b579c9b2"
      },
      "source": [
        "# get the best threshold\n",
        "J = tpr - fpr\n",
        "ix = np.argmax(J)\n",
        "best_thres = thresholds[ix]\n",
        "print('Best threshold = %.2f' % (best_thres))"
      ],
      "execution_count": 79,
      "outputs": [
        {
          "output_type": "stream",
          "text": [
            "Best threshold = 0.94\n"
          ],
          "name": "stdout"
        }
      ]
    },
    {
      "cell_type": "markdown",
      "metadata": {
        "id": "WPu5KLWpl7B5"
      },
      "source": [
        "Another way to evaluate the skill of a prediction model is with the **Precision-Recall** curve.\n",
        "\n",
        "Precision is a ratio of the number of true positives divided by the sum of the true positives and false positives. It describes how good a model is at predicting the positive class. Precision is referred to as the positive predictive value.\n",
        "\n",
        "\\begin{equation}\n",
        "    \\text{Precision} = \\frac{TP}{TP \\ + \\ FP}\n",
        "\\end{equation}\n",
        "\n",
        "As it has been mentioned, **recall** is the same as TPR.\n",
        "\n",
        "F-Measure or **F1 score** is defined as the harmonic mean of precision (P) and recall (R).\n",
        "\n",
        "\\begin{equation}\n",
        "    F1 = \\frac{2PR}{P \\ + \\ R}\n",
        "\\end{equation}\n",
        "\n",
        "As in the ROC curve, the approach to finding the optimal threshold would be to calculate the F-measure for each threshold and select the largest one."
      ]
    },
    {
      "cell_type": "code",
      "metadata": {
        "id": "R5pEb0H4pmE4"
      },
      "source": [
        "from sklearn.metrics import precision_recall_curve\n",
        "\n",
        "def evaluate_prec_recall(probs, preds, y_true):\n",
        "    precision, recall, thresholds = precision_recall_curve(y_true, probs[:, 1])\n",
        "\n",
        "    # convert to f score\n",
        "    fscore = (2 * precision * recall) / (precision + recall)\n",
        "    # locate the index of the largest f score\n",
        "    ix = np.argmax(fscore)\n",
        "\n",
        "    # title\n",
        "    plt.title(f'Precision-Recall\\nBest F1 score = {fscore[ix]:.2f}')\n",
        "    # plot the precision-recall curves\n",
        "    no_skill = len(y_true[y_true==1]) / len(y_true)\n",
        "    plt.plot([0, 1], [no_skill, no_skill], linestyle='--', label='No skill')\n",
        "    plt.plot(recall, precision, marker='.', label='Bert Classifier')\n",
        "    plt.plot(recall[ix], precision[ix], marker='o', color='black', label=f'Best threshold = {thresholds[ix]:.2f}')\n",
        "    # show legend\n",
        "    plt.legend()\n",
        "    # axis labels\n",
        "    plt.xlabel('Recall')\n",
        "    plt.ylabel('Precision')\n",
        "    # show the plot\n",
        "    plt.show()"
      ],
      "execution_count": 80,
      "outputs": []
    },
    {
      "cell_type": "code",
      "metadata": {
        "colab": {
          "base_uri": "https://localhost:8080/",
          "height": 447
        },
        "id": "AixYhUNZmycW",
        "outputId": "c034c25d-440b-435a-967e-abe338ff2d38"
      },
      "source": [
        "evaluate_prec_recall(probs, preds, y_true)"
      ],
      "execution_count": 81,
      "outputs": [
        {
          "output_type": "display_data",
          "data": {
            "image/png": "[encoded data removed]",
            "text/plain": [
              "<Figure size 864x432 with 1 Axes>"
            ]
          },
          "metadata": {
            "tags": []
          }
        }
      ]
    },
    {
      "cell_type": "markdown",
      "metadata": {
        "id": "9bXiLFZnBvmk"
      },
      "source": [
        "A model with perfect skill is depicted as a point at (1,1). A skilful model is represented by a curve that bows towards (1,1) above the flat line of no skill."
      ]
    },
    {
      "cell_type": "markdown",
      "metadata": {
        "id": "PwA726ILA6kv"
      },
      "source": [
        "ROC curves should be used when there are roughly equal numbers of observations for each class. Precision-Recall curves should be used when there is a moderate to large class imbalance. The reason for this recommendation is that ROC curves present an optimistic picture of the model on datasets with a class imbalance."
      ]
    },
    {
      "cell_type": "markdown",
      "metadata": {
        "id": "SkcwMyOGJX-M"
      },
      "source": [
        "Finally, we can predict test samples with the optimized threshold."
      ]
    },
    {
      "cell_type": "code",
      "metadata": {
        "colab": {
          "base_uri": "https://localhost:8080/",
          "height": 221
        },
        "id": "OUPJwQ5K2cS1",
        "outputId": "f806ecda-602f-4c9b-9b79-113569943771"
      },
      "source": [
        "# Get new predictions respect best threshold\n",
        "preds_thres = np.where(probs[:, 1] > best_thres, 1, 0)\n",
        "\n",
        "num_examples = 5 #@param {type:\"slider\", min:1, max:10, step:1}\n",
        "df = test_df.sample(num_examples)\n",
        "df['real'] = np.where(df.label==0, 'negative', 'positive')\n",
        "df['predicted'] = np.where(preds_thres[df.index]==0, 'negative', 'positive')\n",
        "df['positive probability'] = probs[df.index, 1]\n",
        "df['negative probability'] = probs[df.index, 0]\n",
        "pd.set_option(\"max_colwidth\", 150)\n",
        "print(f'Threshold: {best_thres:.2f}')\n",
        "df"
      ],
      "execution_count": 82,
      "outputs": [
        {
          "output_type": "stream",
          "text": [
            "Threshold: 0.94\n"
          ],
          "name": "stdout"
        },
        {
          "output_type": "execute_result",
          "data": {
            "text/html": [
              "<div>\n",
              "<style scoped>\n",
              "    .dataframe tbody tr th:only-of-type {\n",
              "        vertical-align: middle;\n",
              "    }\n",
              "\n",
              "    .dataframe tbody tr th {\n",
              "        vertical-align: top;\n",
              "    }\n",
              "\n",
              "    .dataframe thead th {\n",
              "        text-align: right;\n",
              "    }\n",
              "</style>\n",
              "<table border=\"1\" class=\"dataframe\">\n",
              "  <thead>\n",
              "    <tr style=\"text-align: right;\">\n",
              "      <th></th>\n",
              "      <th>sentence</th>\n",
              "      <th>label</th>\n",
              "      <th>real</th>\n",
              "      <th>predicted</th>\n",
              "      <th>positive probability</th>\n",
              "      <th>negative probability</th>\n",
              "    </tr>\n",
              "  </thead>\n",
              "  <tbody>\n",
              "    <tr>\n",
              "      <th>17964</th>\n",
              "      <td>the costuming of the stars</td>\n",
              "      <td>1</td>\n",
              "      <td>positive</td>\n",
              "      <td>positive</td>\n",
              "      <td>0.998746</td>\n",
              "      <td>0.001254</td>\n",
              "    </tr>\n",
              "    <tr>\n",
              "      <th>5055</th>\n",
              "      <td>lofty</td>\n",
              "      <td>1</td>\n",
              "      <td>positive</td>\n",
              "      <td>positive</td>\n",
              "      <td>0.998983</td>\n",
              "      <td>0.001017</td>\n",
              "    </tr>\n",
              "    <tr>\n",
              "      <th>13665</th>\n",
              "      <td>truly funny</td>\n",
              "      <td>1</td>\n",
              "      <td>positive</td>\n",
              "      <td>positive</td>\n",
              "      <td>0.999195</td>\n",
              "      <td>0.000805</td>\n",
              "    </tr>\n",
              "    <tr>\n",
              "      <th>7671</th>\n",
              "      <td>go to a picture-perfect beach during sunset</td>\n",
              "      <td>1</td>\n",
              "      <td>positive</td>\n",
              "      <td>positive</td>\n",
              "      <td>0.999077</td>\n",
              "      <td>0.000923</td>\n",
              "    </tr>\n",
              "    <tr>\n",
              "      <th>16903</th>\n",
              "      <td>remarkably faithful one</td>\n",
              "      <td>1</td>\n",
              "      <td>positive</td>\n",
              "      <td>positive</td>\n",
              "      <td>0.999169</td>\n",
              "      <td>0.000832</td>\n",
              "    </tr>\n",
              "  </tbody>\n",
              "</table>\n",
              "</div>"
            ],
            "text/plain": [
              "                                           sentence  ...  negative probability\n",
              "17964                   the costuming of the stars   ...              0.001254\n",
              "5055                                         lofty   ...              0.001017\n",
              "13665                                  truly funny   ...              0.000805\n",
              "7671   go to a picture-perfect beach during sunset   ...              0.000923\n",
              "16903                      remarkably faithful one   ...              0.000832\n",
              "\n",
              "[5 rows x 6 columns]"
            ]
          },
          "metadata": {
            "tags": []
          },
          "execution_count": 82
        }
      ]
    },
    {
      "cell_type": "markdown",
      "metadata": {
        "id": "mA2b-qLbJb3v"
      },
      "source": [
        "And check the new results in the confusion matrix."
      ]
    },
    {
      "cell_type": "code",
      "metadata": {
        "colab": {
          "base_uri": "https://localhost:8080/",
          "height": 446
        },
        "id": "imFdzQGPtlKv",
        "outputId": "647de283-5e09-44bb-9a18-c9499e02a5ce"
      },
      "source": [
        "plot_confusion_matrix(confusion_matrix(preds_thres, y_true), ('positive', 'negative'))"
      ],
      "execution_count": 83,
      "outputs": [
        {
          "output_type": "display_data",
          "data": {
            "image/png": "[encoded data removed]",
            "text/plain": [
              "<Figure size 864x432 with 2 Axes>"
            ]
          },
          "metadata": {
            "tags": []
          }
        }
      ]
    },
    {
      "cell_type": "markdown",
      "metadata": {
        "id": "HNmIMT68s2az"
      },
      "source": [
        "### 5.6.2 - Pipeline for Custom Sentence"
      ]
    },
    {
      "cell_type": "markdown",
      "metadata": {
        "id": "6HysJTFYCToL"
      },
      "source": [
        "In order to get a fast intuiton about the application, let's define a pipeline to process and classify a custom sentence."
      ]
    },
    {
      "cell_type": "code",
      "metadata": {
        "id": "4nAtUId96-N1"
      },
      "source": [
        "def bert_classification(model, sequence):\n",
        "    \"\"\"Perform a forward pass on the trained BERT model to predict probabilities\n",
        "    on the test set.\n",
        "    \"\"\"\n",
        "    # Put the model into the evaluation mode. The dropout layers are disabled during\n",
        "    # the test time.\n",
        "    model.eval()\n",
        "\n",
        "    # Load batch to device\n",
        "    b_input_ids, b_attn_mask = (sequence['input_ids'].to(device), \n",
        "                                sequence['attention_mask'].to(device))\n",
        "\n",
        "    # Compute logits\n",
        "    with torch.no_grad():\n",
        "        logits = model(b_input_ids, b_attn_mask)\n",
        "\n",
        "    # Apply softmax to calculate probabilities\n",
        "    probs = F.softmax(logits, dim=1).cpu().numpy()\n",
        "\n",
        "    return probs"
      ],
      "execution_count": 84,
      "outputs": []
    },
    {
      "cell_type": "code",
      "metadata": {
        "id": "8byVLP5CCkJA",
        "colab": {
          "base_uri": "https://localhost:8080/"
        },
        "outputId": "275f6a2e-cc0b-4247-8fd8-6c23cc212782"
      },
      "source": [
        "#@title { vertical-output: true }\n",
        "\n",
        "#@markdown Insert here a sentence in English\n",
        "sentence = \"After all this process, we can claim this model is super\" #@param {type:\"string\"}\n",
        "\n",
        "# Preprocess sentence\n",
        "encoded_sentence = dict()\n",
        "encoded_sentence['input_ids'], encoded_sentence['attention_mask'] = preprocessing_for_sa(pd.Series(sentence), tokenizer, len(tokenizer.encode(sentence)))\n",
        "\n",
        "# Compute probabilities\n",
        "final_probs = bert_classification(bert_classifier, encoded_sentence)\n",
        "\n",
        "# Print results\n",
        "print(f\"{'Sentiment':^11} | {'Probability':^13}\")\n",
        "print(27*'-')\n",
        "print(f\"{'Positive':^11} | {final_probs[0][1]:^13.5f}\")\n",
        "print(27*'-')\n",
        "print(f\"{'Negative':^11} | {final_probs[0][0]:^13.5f}\")\n",
        "print(27*'-')"
      ],
      "execution_count": 85,
      "outputs": [
        {
          "output_type": "stream",
          "text": [
            " Sentiment  |  Probability \n",
            "---------------------------\n",
            " Positive   |    0.99280   \n",
            "---------------------------\n",
            " Negative   |    0.00720   \n",
            "---------------------------\n"
          ],
          "name": "stdout"
        }
      ]
    },
    {
      "cell_type": "markdown",
      "metadata": {
        "id": "Oz6PyX0Enxw-"
      },
      "source": [
        "Finally, to download the whole folder."
      ]
    },
    {
      "cell_type": "code",
      "metadata": {
        "id": "ZFIwC28TnxWa"
      },
      "source": [
        "def download_folder(dir): \n",
        "    !zip -r $dir\\.zip $dir\n",
        "    files.download(f'{dir}.zip')"
      ],
      "execution_count": 86,
      "outputs": []
    },
    {
      "cell_type": "code",
      "metadata": {
        "id": "OJkPGEDmn86P"
      },
      "source": [
        "#download_folder(sentiment_dir)"
      ],
      "execution_count": 87,
      "outputs": []
    },
    {
      "cell_type": "markdown",
      "metadata": {
        "id": "0zJIwTuBQKmU"
      },
      "source": [
        "# 6 - Question Answering"
      ]
    },
    {
      "cell_type": "markdown",
      "metadata": {
        "id": "3_vCUke1zRjx"
      },
      "source": [
        "A more challenged task is **Question Answering**, which corresponds to extract the answer to a question from a given context. In this case the model answers the question by taking a substring of a context, not by generating new text.\n",
        "\n",
        "We are going to use [SQuAD](https://rajpurkar.github.io/SQuAD-explorer/) (Stanford Question Answering Dataset), a collection of 100k crowdsourced question/answer pairs. Given a question and a passage from Wikipedia containing the answer, the task is to predict the answer text span in the passage. This corresponds with SQuAD 1.1. In SQuAD 2.0 the problem definition is extended allowing for the possibility\n",
        "that no short answer exists in the provided paragraph, making the problem more realistic.\n"
      ]
    },
    {
      "cell_type": "markdown",
      "metadata": {
        "id": "ReMEq5Ja3w9t"
      },
      "source": [
        "![Q&A](https://raw.githubusercontent.com/ion-bueno/bert-from-inside/main/images/question_answering.png)\n",
        "\n",
        "> Image from [Hugging Face models](https://huggingface.co/models)"
      ]
    },
    {
      "cell_type": "markdown",
      "metadata": {
        "id": "egdBStwB4KQl"
      },
      "source": [
        "> For this task it is followed Hugging Face notebook's [question_answering](https://github.com/huggingface/notebooks/blob/master/examples/question_answering.ipynb)"
      ]
    },
    {
      "cell_type": "markdown",
      "metadata": {
        "id": "uHhkbyihMiix"
      },
      "source": [
        "## 6.1 - Setup"
      ]
    },
    {
      "cell_type": "markdown",
      "metadata": {
        "id": "M7m050pfMpz6"
      },
      "source": [
        "As before, the option to change the runtime type to a GPU is a good option."
      ]
    },
    {
      "cell_type": "code",
      "metadata": {
        "colab": {
          "base_uri": "https://localhost:8080/"
        },
        "id": "6pGcZbjzMyvX",
        "outputId": "c35000b9-e370-46a4-8715-dfb46b71e7c2"
      },
      "source": [
        "# If there's a GPU available...\n",
        "if torch.cuda.is_available():    \n",
        "    # Tell PyTorch to use the GPU.    \n",
        "    device = torch.device(\"cuda\")\n",
        "    print('There are %d GPU(s) available.' % torch.cuda.device_count())\n",
        "    print('We will use the GPU:', torch.cuda.get_device_name(0))\n",
        "\n",
        "# If not...\n",
        "else:\n",
        "    print('No GPU available, using the CPU instead.')\n",
        "    device = torch.device(\"cpu\")\n"
      ],
      "execution_count": 88,
      "outputs": [
        {
          "output_type": "stream",
          "text": [
            "There are 1 GPU(s) available.\n",
            "We will use the GPU: Tesla P100-PCIE-16GB\n"
          ],
          "name": "stdout"
        }
      ]
    },
    {
      "cell_type": "markdown",
      "metadata": {
        "id": "D2Oz5y8fM0ka"
      },
      "source": [
        "## 6.2 - Load SQuAD Dataset"
      ]
    },
    {
      "cell_type": "markdown",
      "metadata": {
        "id": "6hEJMkm3NNj_"
      },
      "source": [
        "We are going to use [Hugging Face Datasets](https://huggingface.co/docs/datasets/v1.4.1/index.html), so running next cell we install the libraries in Colab."
      ]
    },
    {
      "cell_type": "code",
      "metadata": {
        "colab": {
          "base_uri": "https://localhost:8080/"
        },
        "id": "4I7zzOdSNcn6",
        "outputId": "4d14d343-756e-411f-8051-cf30d76ddd1f"
      },
      "source": [
        "!pip install datasets"
      ],
      "execution_count": 89,
      "outputs": [
        {
          "output_type": "stream",
          "text": [
            "Collecting datasets\n",
            "\u001b[?25l  Downloading https://files.pythonhosted.org/packages/08/a2/d4e1024c891506e1cee8f9d719d20831bac31cb5b7416983c4d2f65a6287/datasets-1.8.0-py3-none-any.whl (237kB)\n",
            "\r\u001b[K     |█▍                              | 10kB 20.2MB/s eta 0:00:01\r\u001b[K     |██▊                             | 20kB 7.6MB/s eta 0:00:01\r\u001b[K     |████▏                           | 30kB 7.1MB/s eta 0:00:01\r\u001b[K     |█████▌                          | 40kB 6.8MB/s eta 0:00:01\r\u001b[K     |███████                         | 51kB 4.1MB/s eta 0:00:01\r\u001b[K     |████████▎                       | 61kB 4.3MB/s eta 0:00:01\r\u001b[K     |█████████▋                      | 71kB 4.8MB/s eta 0:00:01\r\u001b[K     |███████████                     | 81kB 5.0MB/s eta 0:00:01\r\u001b[K     |████████████▍                   | 92kB 5.1MB/s eta 0:00:01\r\u001b[K     |█████████████▉                  | 102kB 4.2MB/s eta 0:00:01\r\u001b[K     |███████████████▏                | 112kB 4.2MB/s eta 0:00:01\r\u001b[K     |████████████████▌               | 122kB 4.2MB/s eta 0:00:01\r\u001b[K     |██████████████████              | 133kB 4.2MB/s eta 0:00:01\r\u001b[K     |███████████████████▎            | 143kB 4.2MB/s eta 0:00:01\r\u001b[K     |████████████████████▊           | 153kB 4.2MB/s eta 0:00:01\r\u001b[K     |██████████████████████          | 163kB 4.2MB/s eta 0:00:01\r\u001b[K     |███████████████████████▌        | 174kB 4.2MB/s eta 0:00:01\r\u001b[K     |████████████████████████▉       | 184kB 4.2MB/s eta 0:00:01\r\u001b[K     |██████████████████████████▏     | 194kB 4.2MB/s eta 0:00:01\r\u001b[K     |███████████████████████████▋    | 204kB 4.2MB/s eta 0:00:01\r\u001b[K     |█████████████████████████████   | 215kB 4.2MB/s eta 0:00:01\r\u001b[K     |██████████████████████████████▍ | 225kB 4.2MB/s eta 0:00:01\r\u001b[K     |███████████████████████████████▊| 235kB 4.2MB/s eta 0:00:01\r\u001b[K     |████████████████████████████████| 245kB 4.2MB/s \n",
            "\u001b[?25hRequirement already satisfied: tqdm<4.50.0,>=4.27 in /usr/local/lib/python3.7/dist-packages (from datasets) (4.41.1)\n",
            "Requirement already satisfied: pyarrow<4.0.0,>=1.0.0 in /usr/local/lib/python3.7/dist-packages (from datasets) (3.0.0)\n",
            "Requirement already satisfied: importlib-metadata; python_version < \"3.8\" in /usr/local/lib/python3.7/dist-packages (from datasets) (4.0.1)\n",
            "Requirement already satisfied: dill in /usr/local/lib/python3.7/dist-packages (from datasets) (0.3.3)\n",
            "Collecting fsspec\n",
            "\u001b[?25l  Downloading https://files.pythonhosted.org/packages/8e/d2/d05466997f7751a2c06a7a416b7d1f131d765f7916698d3fdcb3a4d037e5/fsspec-2021.6.0-py3-none-any.whl (114kB)\n",
            "\u001b[K     |████████████████████████████████| 122kB 7.4MB/s \n",
            "\u001b[?25hRequirement already satisfied: multiprocess in /usr/local/lib/python3.7/dist-packages (from datasets) (0.70.11.1)\n",
            "Collecting xxhash\n",
            "\u001b[?25l  Downloading https://files.pythonhosted.org/packages/7d/4f/0a862cad26aa2ed7a7cd87178cbbfa824fc1383e472d63596a0d018374e7/xxhash-2.0.2-cp37-cp37m-manylinux2010_x86_64.whl (243kB)\n",
            "\u001b[K     |████████████████████████████████| 245kB 7.3MB/s \n",
            "\u001b[?25hRequirement already satisfied: huggingface-hub<0.1.0 in /usr/local/lib/python3.7/dist-packages (from datasets) (0.0.8)\n",
            "Requirement already satisfied: packaging in /usr/local/lib/python3.7/dist-packages (from datasets) (20.9)\n",
            "Requirement already satisfied: numpy>=1.17 in /usr/local/lib/python3.7/dist-packages (from datasets) (1.19.5)\n",
            "Requirement already satisfied: requests>=2.19.0 in /usr/local/lib/python3.7/dist-packages (from datasets) (2.23.0)\n",
            "Requirement already satisfied: pandas in /usr/local/lib/python3.7/dist-packages (from datasets) (1.1.5)\n",
            "Requirement already satisfied: typing-extensions>=3.6.4; python_version < \"3.8\" in /usr/local/lib/python3.7/dist-packages (from importlib-metadata; python_version < \"3.8\"->datasets) (3.7.4.3)\n",
            "Requirement already satisfied: zipp>=0.5 in /usr/local/lib/python3.7/dist-packages (from importlib-metadata; python_version < \"3.8\"->datasets) (3.4.1)\n",
            "Requirement already satisfied: filelock in /usr/local/lib/python3.7/dist-packages (from huggingface-hub<0.1.0->datasets) (3.0.12)\n",
            "Requirement already satisfied: pyparsing>=2.0.2 in /usr/local/lib/python3.7/dist-packages (from packaging->datasets) (2.4.7)\n",
            "Requirement already satisfied: chardet<4,>=3.0.2 in /usr/local/lib/python3.7/dist-packages (from requests>=2.19.0->datasets) (3.0.4)\n",
            "Requirement already satisfied: idna<3,>=2.5 in /usr/local/lib/python3.7/dist-packages (from requests>=2.19.0->datasets) (2.10)\n",
            "Requirement already satisfied: certifi>=2017.4.17 in /usr/local/lib/python3.7/dist-packages (from requests>=2.19.0->datasets) (2020.12.5)\n",
            "Requirement already satisfied: urllib3!=1.25.0,!=1.25.1,<1.26,>=1.21.1 in /usr/local/lib/python3.7/dist-packages (from requests>=2.19.0->datasets) (1.24.3)\n",
            "Requirement already satisfied: pytz>=2017.2 in /usr/local/lib/python3.7/dist-packages (from pandas->datasets) (2018.9)\n",
            "Requirement already satisfied: python-dateutil>=2.7.3 in /usr/local/lib/python3.7/dist-packages (from pandas->datasets) (2.8.1)\n",
            "Requirement already satisfied: six>=1.5 in /usr/local/lib/python3.7/dist-packages (from python-dateutil>=2.7.3->pandas->datasets) (1.15.0)\n",
            "Installing collected packages: fsspec, xxhash, datasets\n",
            "Successfully installed datasets-1.8.0 fsspec-2021.6.0 xxhash-2.0.2\n"
          ],
          "name": "stdout"
        }
      ]
    },
    {
      "cell_type": "markdown",
      "metadata": {
        "id": "YenkcQigPzwK"
      },
      "source": [
        "With method [`load_dataset`](https://huggingface.co/docs/datasets/v1.4.1/package_reference/loading_methods.html#datasets.load_dataset) and specifying the name of the datasets we can load the required data."
      ]
    },
    {
      "cell_type": "code",
      "metadata": {
        "colab": {
          "base_uri": "https://localhost:8080/",
          "height": 267,
          "referenced_widgets": [
            "9682d236b1f14f6d9a5d466458beaf2c",
            "47778129b21e4b1ab88750557e39e94f",
            "c3a7fb759c124063ae0285bb32f2c1dc",
            "bf771ae5914e49fc9ef88fc9c581cc4a",
            "7165d4ad4e8e42aa89c2f21b38cb80da",
            "ea8bab9736b04550830b373d4c2be1a9",
            "de2728dda4f44ade9a3c7cd7d19ab3b7",
            "81d3896278af46be83a0e30c1f62c605",
            "5fda5d278f3b4f2b88ab1aa9d4e7a94a",
            "9bac08a97d654a06b730793e8ac2b644",
            "74820ca738db4e8c96d66c828e9fded9",
            "e2cc18176eef4f90ac0db167cce4f861",
            "b536b3f2aaca49b1b70c74915d8ed455",
            "bec704dba23e423bb09444a0ed868238",
            "304d22a9fd2c4c1b955f919289af3de2",
            "99fef41754a646b4a531968196b7acab",
            "af2f5508bfbc4f6a96fda3101304b387",
            "4e4104d3257144f6a85fc3fdb817760c",
            "3abf36e368e94f9c8e6820a8a3a60590",
            "3638be53fa8145bdaf4208489d0b079b",
            "903d87fa836e473e9a31a8cf1c6a7601",
            "c08438a1ecd141ed95c8809f7ddcf26a",
            "d661376dd5c44332856da9a4cf9f1335",
            "f3e9571a2e084e4b8ac16cfc38ddf1b4",
            "56272bb483334c329af56692f981f050",
            "696bb5681ac14789a0fe45dc4d3a23a9",
            "9861ef684f24462e8c1b03f13bfeb070",
            "a9c62bbb8c2046d99685920827122b2a",
            "fb761a3d3d2b4c728355fff2da6eb0e1",
            "df3a2f22afba4d2f94299f8e24d20d3b",
            "59d29630173a443ca1f84f58bfbbe90d",
            "1395c770ef2c4eccacd3efd627f7ced1",
            "baf5d5a70d36492e80a67eb99ba37ec0",
            "95439036f19a46e193e8c04380860f95",
            "3179ea28629f4313a06aca487eef4642",
            "d181b174002f430bb165690b4ea29906",
            "00b68ebfab9241968a60d44cb5793d51",
            "580eac65ec364d73a8d960720d0848bc",
            "6b5c3c5f5315449884342c00676a7a5a",
            "f9654cd217684f67b77d2849d320f7e8",
            "412d827f4dfd4ca8ad0322c5567d7828",
            "6cd09dff9f924afaa57cfb1b1d333850",
            "3b44acac8de2465b84b8785e4e422c4e",
            "0a469f0faa434535981653caeee2220d",
            "b34d0eea570e4ff7beb9162fcb821be6",
            "e742895551814aab9e238de77ee6ac1f",
            "e10b062314724548a1b016c0e08a014b",
            "0b2c7595672c4c0ead0d9bc2ae217e25"
          ]
        },
        "id": "ZCsWZXIlOTTK",
        "outputId": "f1b82e0f-fa59-4aec-d9d0-90b6f9cc5f9e"
      },
      "source": [
        "from datasets import load_dataset\n",
        "\n",
        "# This flag is the difference between SQUAD v1 or 2 \n",
        "# if you're using another dataset, it indicates if impossible answers are allowed or not).\n",
        "squad_v2 = False\n",
        "original_datasets = load_dataset('squad_v2' if squad_v2 else 'squad')"
      ],
      "execution_count": 90,
      "outputs": [
        {
          "output_type": "display_data",
          "data": {
            "application/vnd.jupyter.widget-view+json": {
              "model_id": "9682d236b1f14f6d9a5d466458beaf2c",
              "version_minor": 0,
              "version_major": 2
            },
            "text/plain": [
              "HBox(children=(FloatProgress(value=0.0, description='Downloading', max=1947.0, style=ProgressStyle(description…"
            ]
          },
          "metadata": {
            "tags": []
          }
        },
        {
          "output_type": "stream",
          "text": [
            "\n"
          ],
          "name": "stdout"
        },
        {
          "output_type": "display_data",
          "data": {
            "application/vnd.jupyter.widget-view+json": {
              "model_id": "5fda5d278f3b4f2b88ab1aa9d4e7a94a",
              "version_minor": 0,
              "version_major": 2
            },
            "text/plain": [
              "HBox(children=(FloatProgress(value=0.0, description='Downloading', max=1021.0, style=ProgressStyle(description…"
            ]
          },
          "metadata": {
            "tags": []
          }
        },
        {
          "output_type": "stream",
          "text": [
            "\n",
            "Downloading and preparing dataset squad/plain_text (download: 33.51 MiB, generated: 85.63 MiB, post-processed: Unknown size, total: 119.14 MiB) to /root/.cache/huggingface/datasets/squad/plain_text/1.0.0/6b6c4172d0119c74515f44ea0b8262efe4897f2ddb6613e5e915840fdc309c16...\n"
          ],
          "name": "stdout"
        },
        {
          "output_type": "display_data",
          "data": {
            "application/vnd.jupyter.widget-view+json": {
              "model_id": "af2f5508bfbc4f6a96fda3101304b387",
              "version_minor": 0,
              "version_major": 2
            },
            "text/plain": [
              "HBox(children=(FloatProgress(value=0.0, description='Downloading', max=8116577.0, style=ProgressStyle(descript…"
            ]
          },
          "metadata": {
            "tags": []
          }
        },
        {
          "output_type": "stream",
          "text": [
            "\n"
          ],
          "name": "stdout"
        },
        {
          "output_type": "display_data",
          "data": {
            "application/vnd.jupyter.widget-view+json": {
              "model_id": "56272bb483334c329af56692f981f050",
              "version_minor": 0,
              "version_major": 2
            },
            "text/plain": [
              "HBox(children=(FloatProgress(value=0.0, description='Downloading', max=1054280.0, style=ProgressStyle(descript…"
            ]
          },
          "metadata": {
            "tags": []
          }
        },
        {
          "output_type": "stream",
          "text": [
            "\n"
          ],
          "name": "stdout"
        },
        {
          "output_type": "display_data",
          "data": {
            "application/vnd.jupyter.widget-view+json": {
              "model_id": "baf5d5a70d36492e80a67eb99ba37ec0",
              "version_minor": 0,
              "version_major": 2
            },
            "text/plain": [
              "HBox(children=(FloatProgress(value=1.0, bar_style='info', max=1.0), HTML(value='')))"
            ]
          },
          "metadata": {
            "tags": []
          }
        },
        {
          "output_type": "stream",
          "text": [
            "\r"
          ],
          "name": "stdout"
        },
        {
          "output_type": "display_data",
          "data": {
            "application/vnd.jupyter.widget-view+json": {
              "model_id": "412d827f4dfd4ca8ad0322c5567d7828",
              "version_minor": 0,
              "version_major": 2
            },
            "text/plain": [
              "HBox(children=(FloatProgress(value=1.0, bar_style='info', max=1.0), HTML(value='')))"
            ]
          },
          "metadata": {
            "tags": []
          }
        },
        {
          "output_type": "stream",
          "text": [
            "\rDataset squad downloaded and prepared to /root/.cache/huggingface/datasets/squad/plain_text/1.0.0/6b6c4172d0119c74515f44ea0b8262efe4897f2ddb6613e5e915840fdc309c16. Subsequent calls will reuse this data.\n"
          ],
          "name": "stdout"
        }
      ]
    },
    {
      "cell_type": "markdown",
      "metadata": {
        "id": "Cn_QnL6WQpOf"
      },
      "source": [
        "The loaded dataset is an object of [`DatasetDict`](https://huggingface.co/docs/datasets/package_reference/main_classes.html#datasetdict). It is a dictionary which contains train and validation samples, with the correspondig `context`, `question` and `answers`. As in the previous task, SQuAD is also used in competitions. In this case, there are not original test data. For this reason, as before, one third of training set is going to be used as test."
      ]
    },
    {
      "cell_type": "code",
      "metadata": {
        "id": "vDlay57Q0xL8"
      },
      "source": [
        "new_split = original_datasets['train'].train_test_split(test_size=0.33)\n",
        "original_datasets['train'] = new_split['train']\n",
        "original_datasets['test'] = new_split['test']"
      ],
      "execution_count": 91,
      "outputs": []
    },
    {
      "cell_type": "markdown",
      "metadata": {
        "id": "KfGCw5Gk1o0I"
      },
      "source": [
        "With next function we can show random elements in the dataset."
      ]
    },
    {
      "cell_type": "code",
      "metadata": {
        "id": "i3j8APAoIrI3"
      },
      "source": [
        "from datasets import ClassLabel, Sequence\n",
        "from IPython.display import display, HTML\n",
        "\n",
        "def show_random_elements(dataset, num_examples):\n",
        "    assert num_examples <= len(dataset), \"Can't pick more elements than there are in the dataset.\"\n",
        "    picks = []\n",
        "    for _ in range(num_examples):\n",
        "        pick = random.randint(0, len(dataset)-1)\n",
        "        while pick in picks:\n",
        "            pick = random.randint(0, len(dataset)-1)\n",
        "        picks.append(pick)\n",
        "    \n",
        "    df = pd.DataFrame(dataset[picks])\n",
        "    for column, typ in dataset.features.items():\n",
        "        if isinstance(typ, ClassLabel):\n",
        "            df[column] = df[column].transform(lambda i: typ.names[i])\n",
        "        elif isinstance(typ, Sequence) and isinstance(typ.feature, ClassLabel):\n",
        "            df[column] = df[column].transform(lambda x: [typ.feature.names[i] for i in x])\n",
        "    display(HTML(df.to_html()))"
      ],
      "execution_count": 92,
      "outputs": []
    },
    {
      "cell_type": "markdown",
      "metadata": {
        "id": "OGqxi4rE3j6e"
      },
      "source": [
        "For a fast intuition on the model, we can remove some data, since the original size of the dataset has more than 80k samples only in training. With `perc` we select the percentage of data we are going to use. Removed sample are selected randomly."
      ]
    },
    {
      "cell_type": "code",
      "metadata": {
        "colab": {
          "base_uri": "https://localhost:8080/",
          "height": 431
        },
        "id": "s4Ww8dtnQsSu",
        "outputId": "3aae8dc2-5b69-42f8-e856-1168ca88551a"
      },
      "source": [
        "#@markdown Select a split\n",
        "split = \"train\" #@param [\"train\", \"validation\", \"test\"]\n",
        "#@markdown Select number of examples to visualize it\n",
        "num_examples = 3 #@param {type:\"slider\", min:1, max:10, step:1}\n",
        "print(f'Some sentences of {split} split, which has a length of {original_datasets[split].num_rows}\\n')\n",
        "show_random_elements(original_datasets[split], num_examples)\n"
      ],
      "execution_count": 93,
      "outputs": [
        {
          "output_type": "stream",
          "text": [
            "Some sentences of train split, which has a length of 58691\n",
            "\n"
          ],
          "name": "stdout"
        },
        {
          "output_type": "display_data",
          "data": {
            "text/html": [
              "<table border=\"1\" class=\"dataframe\">\n",
              "  <thead>\n",
              "    <tr style=\"text-align: right;\">\n",
              "      <th></th>\n",
              "      <th>answers</th>\n",
              "      <th>context</th>\n",
              "      <th>id</th>\n",
              "      <th>question</th>\n",
              "      <th>title</th>\n",
              "    </tr>\n",
              "  </thead>\n",
              "  <tbody>\n",
              "    <tr>\n",
              "      <th>0</th>\n",
              "      <td>{'text': ['Hauts-de-Seine, Seine-Saint-Denis and Val-de-Marne'], 'answer_start': [318]}</td>\n",
              "      <td>The Métropole du Grand Paris, or Metropolis of Greater Paris, formally came into existence on January 1, 2016. It is an administrative structure for cooperation between the City of Paris and its nearest suburbs. It includes the City of Paris, plus the communes, or towns of the three departments of the inner suburbs; Hauts-de-Seine, Seine-Saint-Denis and Val-de-Marne; plus seven communes in the outer suburbs, including Argenteuil in Val d'Oise and Paray-Vieille-Poste in Essonne, which were added to include the major airports of Paris. The Metropole covers 814 square kilometers and has a population of 6.945 million persons.</td>\n",
              "      <td>5728ccfb4b864d1900164e61</td>\n",
              "      <td>What three departments of the inner suburbs are included in the metropole?</td>\n",
              "      <td>Paris</td>\n",
              "    </tr>\n",
              "    <tr>\n",
              "      <th>1</th>\n",
              "      <td>{'text': ['Government'], 'answer_start': [206]}</td>\n",
              "      <td>Connaught Place, one of North India's largest commercial and financial centres, is located in the northern part of New Delhi. Adjoining areas such as Barakhamba Road, ITO are also major commercial centres. Government and quasi government sector was the primary employer in New Delhi. The city's service sector has expanded due in part to the large skilled English-speaking workforce that has attracted many multinational companies. Key service industries include information technology, telecommunications, hotels, banking, media and tourism.</td>\n",
              "      <td>5706af7575f01819005e7d37</td>\n",
              "      <td>Prior to the expansion of the service sector, what sector was the largest employer in New Delhi?</td>\n",
              "      <td>New_Delhi</td>\n",
              "    </tr>\n",
              "    <tr>\n",
              "      <th>2</th>\n",
              "      <td>{'text': ['age and accumulated experiences'], 'answer_start': [739]}</td>\n",
              "      <td>The inclusiveness of Weinreich's definition (above) directs attention to the totality of one's identity at a given phase in time, and assists in elucidating component aspects of one's total identity, such as one's gender identity, ethnic identity, occupational identity and so on. The definition readily applies to the young child, to the adolescent, to the young adult, and to the older adult in various phases of the life cycle. Depending on whether one is a young child or an adult at the height of one's powers, how one construes oneself as one was in the past will refer to very different salient experiential markers. Likewise, how one construes oneself as one aspires to be in the future will differ considerably according to one's age and accumulated experiences. (Weinreich &amp; Saunderson, (eds) 2003, pp 26–34).</td>\n",
              "      <td>570961b2ed30961900e84037</td>\n",
              "      <td>How one construes oneself now and in the future differs considerably because of what 2 things?</td>\n",
              "      <td>Identity_(social_science)</td>\n",
              "    </tr>\n",
              "  </tbody>\n",
              "</table>"
            ],
            "text/plain": [
              "<IPython.core.display.HTML object>"
            ]
          },
          "metadata": {
            "tags": []
          }
        }
      ]
    },
    {
      "cell_type": "markdown",
      "metadata": {
        "id": "BBP-0Z5w5R3t"
      },
      "source": [
        "As before, for a fast intuition on the model, we can remove some data."
      ]
    },
    {
      "cell_type": "code",
      "metadata": {
        "id": "CNZtBVZxA-SQ"
      },
      "source": [
        "from datasets import DatasetDict"
      ],
      "execution_count": 94,
      "outputs": []
    },
    {
      "cell_type": "code",
      "metadata": {
        "colab": {
          "base_uri": "https://localhost:8080/"
        },
        "id": "Dj7Kp7aAaBTO",
        "outputId": "6e258f5c-082f-45ae-8f73-4a5d865beded"
      },
      "source": [
        "#@title 6.2.1 Resize dataset { vertical-output: true }\n",
        "#@markdown Percentage of dataset to use %\n",
        "perc = 100 #@param {type:\"slider\", min:1, max:100, step:1}\n",
        "datasets = DatasetDict()\n",
        "\n",
        "for key, dataset in original_datasets.shuffle().items():\n",
        "    if perc != 100:\n",
        "        datasets[key] = dataset.select(np.arange(0, round(dataset.num_rows*(perc/100)+1)))\n",
        "        print(f'{key:<10}\\t', f'From: {original_datasets[key].num_rows:<10}', f'To: {datasets[key].num_rows:<10}')\n",
        "    else:\n",
        "        datasets[key] = original_datasets[key]\n",
        "        print(f'{key:<10}\\t', f'size: {len(original_datasets[key]):<10}')"
      ],
      "execution_count": 95,
      "outputs": [
        {
          "output_type": "stream",
          "text": [
            "train     \t size: 58691     \n",
            "validation\t size: 10570     \n",
            "test      \t size: 28908     \n"
          ],
          "name": "stdout"
        }
      ]
    },
    {
      "cell_type": "markdown",
      "metadata": {
        "id": "R-LZ1teNUeFY"
      },
      "source": [
        "## 6.3 - Preprocessing data"
      ]
    },
    {
      "cell_type": "markdown",
      "metadata": {
        "id": "c8q68IuPU1_l"
      },
      "source": [
        "In this task the structure of the input differs from sentiment analysis. Now we have two sentences:\n",
        "\n",
        "\\begin{matrix}\n",
        "    [CLS] & \\text{Sentence A} & [SEP] & \\text{Sentence B}\n",
        "\\end{matrix}"
      ]
    },
    {
      "cell_type": "markdown",
      "metadata": {
        "id": "ZInR1JVXVn4V"
      },
      "source": [
        "In this case we are going to use [`BertTokenizerFast`](https://huggingface.co/transformers/model_doc/bert.html#transformers.BertTokenizerFast). This one is a [Fast Tokenizer](https://huggingface.co/transformers/main_classes/tokenizer.html#tokenizer), which according to Hugging Face implies \n",
        "\n",
        "- A significant speed-up in particular when doing batched tokenization.\n",
        "- Additional methods to map between the original string (character and words) and the token space.\n",
        "\n",
        "As before, we choose [`bert-base-uncased`](https://huggingface.co/bert-base-uncased) as pre-trained model."
      ]
    },
    {
      "cell_type": "code",
      "metadata": {
        "colab": {
          "base_uri": "https://localhost:8080/"
        },
        "id": "yvPgC4STfI7f",
        "outputId": "425f18db-4b03-4df8-9ef4-718894e28348"
      },
      "source": [
        "from transformers import BertTokenizerFast\n",
        "\n",
        "MODEL_NAME = 'bert-base-uncased'\n",
        "\n",
        "# Load the BERT tokenizer.\n",
        "print('Loading BERT tokenizer...\\n')\n",
        "tokenizer = BertTokenizerFast.from_pretrained(MODEL_NAME)"
      ],
      "execution_count": 96,
      "outputs": [
        {
          "output_type": "stream",
          "text": [
            "Loading BERT tokenizer...\n",
            "\n"
          ],
          "name": "stdout"
        }
      ]
    },
    {
      "cell_type": "markdown",
      "metadata": {
        "id": "ul-6neG4ki-Q"
      },
      "source": [
        "As before, we can check its attributes."
      ]
    },
    {
      "cell_type": "code",
      "metadata": {
        "colab": {
          "base_uri": "https://localhost:8080/"
        },
        "id": "phbxf9K_kvXW",
        "outputId": "cbc9a3e6-eb5a-4dd5-f8e9-868b28b16683"
      },
      "source": [
        "#@markdown Select an option to visualize it\n",
        "attribute = \"vocab_size\" #@param [\"vocab_size\", \"model_max_length\", \"padding_side\", \"sep_token\", \"pad_token\", \"cls_token\", \"mask_token\", \"unk_token\"]\n",
        "\n",
        "print(getattr(tokenizer, attribute))"
      ],
      "execution_count": 97,
      "outputs": [
        {
          "output_type": "stream",
          "text": [
            "30522\n"
          ],
          "name": "stdout"
        }
      ]
    },
    {
      "cell_type": "markdown",
      "metadata": {
        "id": "hD1KrbgIAknD"
      },
      "source": [
        "One problem is how manage long documents. The \n",
        "usual truncation process could carry in losing the answer we are looking for. To deal with it, we truncate the context into features, text shorter than maximum length allowed, and allow some overlap between them in case the answer lies at the point we split a long context\n"
      ]
    },
    {
      "cell_type": "code",
      "metadata": {
        "id": "H4lwrtz5C3QR"
      },
      "source": [
        "max_length = 384 # The maximum length of a feature (question and context)\n",
        "doc_stride = 128 # The authorized overlap between two parts of the context when splitting it is needed."
      ],
      "execution_count": 98,
      "outputs": []
    },
    {
      "cell_type": "markdown",
      "metadata": {
        "id": "UohhB81oTEIh"
      },
      "source": [
        "Let's find an example whose length is longer than `max_length`."
      ]
    },
    {
      "cell_type": "code",
      "metadata": {
        "colab": {
          "base_uri": "https://localhost:8080/"
        },
        "id": "wgCCZ_EGC354",
        "outputId": "9707e8f6-d77c-4523-97ac-b9da7a6db783"
      },
      "source": [
        "for i, example in enumerate(datasets[\"train\"]):\n",
        "    if len(tokenizer(example[\"question\"], example[\"context\"])[\"input_ids\"]) > max_length:\n",
        "        break\n",
        "example = datasets[\"train\"][i]\n",
        "example"
      ],
      "execution_count": 99,
      "outputs": [
        {
          "output_type": "execute_result",
          "data": {
            "text/plain": [
              "{'answers': {'answer_start': [56], 'text': ['1998 Winter Olympics']},\n",
              " 'context': \"Japan: The event was held in Nagano, which hosted the 1998 Winter Olympics, on April 26. Japanese Buddhist temple Zenkō-ji, which was originally scheduled to be the starting point for the Olympic torch relay in Nagano, refused to host the torch and pulled out of the relay plans, amid speculation that monks there sympathized with anti-Chinese government protesters. as well as the risk of disruption by violent protests. Parts of Zenkō-ji temple's main building (Zenkō-ji Hondō), reconstructed in 1707 and one of the National Treasures of Japan, was then vandalized with spraypaint. A new starting point, previously the site of a municipal building and now a parking lot, was chosen by the city. An event the city had planned to hold at the Minami Nagano Sports Park following the torch relay was also canceled out of concern about disruptions caused by demonstrators protesting against China's recent crackdown in Tibet. Thousands of riot police were mobilized to protect the torch along its route. The show of force kept most protesters in check, but slogans shouted by pro-China or pro-Tibet demonstrators, Japanese nationalists, and human rights organizations flooded the air. Five men were arrested and four injured amidst scenes of mob violence. The torch route was packed with mostly peaceful demonstrators. The public was not allowed at the parking lot where the relay started. After the Zenkoji monks held a prayer ceremony for victims of the recent events in Tibet. More than 100 police officers ran with the torch and riot police lined the streets while three helicopters flew above. Only two Chinese guards were allowed to accompany the torch because of Japan's concern over their treatment of demonstrators at previous relays. A man with a Tibetan flag tried to stop the torch at the beginning of the relay but was dragged off by police. Some raw eggs were also thrown from the crowd.\",\n",
              " 'id': '56db6d76e7c41114004b50e2',\n",
              " 'question': 'Which Olympics did Nagano host?',\n",
              " 'title': '2008_Summer_Olympics_torch_relay'}"
            ]
          },
          "metadata": {
            "tags": []
          },
          "execution_count": 99
        }
      ]
    },
    {
      "cell_type": "code",
      "metadata": {
        "colab": {
          "base_uri": "https://localhost:8080/"
        },
        "id": "aKprbGPFgPF6",
        "outputId": "79c8075c-93b0-467b-bfc2-f79f81da5fd5"
      },
      "source": [
        "print(f'Original length \\t{len(tokenizer(example[\"question\"], example[\"context\"])[\"input_ids\"])}')\n",
        "print(f'Truncated length \\t{len(tokenizer(example[\"question\"], example[\"context\"], max_length=max_length, truncation=\"only_second\")[\"input_ids\"])}')"
      ],
      "execution_count": 100,
      "outputs": [
        {
          "output_type": "stream",
          "text": [
            "Original length \t392\n",
            "Truncated length \t384\n"
          ],
          "name": "stdout"
        }
      ]
    },
    {
      "cell_type": "markdown",
      "metadata": {
        "id": "2yGs3fWPVsUO"
      },
      "source": [
        "Only the context should be truncated, specifying `truncation=only_second`. The tokenizer will return a lisf of features capped by a certain maximum length, with the overlap we talked above. We just have to declare `return_overflowing_tokens=True` and `stride=doc_stride` to pass the stride.\n",
        "\n",
        "Mention we need to find in which of those features the answer actually is, and where exactly in that feature, the start and end positions. The tokenizer we're using can help us with that by returning an `offset_mapping`:"
      ]
    },
    {
      "cell_type": "code",
      "metadata": {
        "id": "0_Y6IdUoC8_W"
      },
      "source": [
        "tokenized_example = tokenizer(\n",
        "    example[\"question\"],\n",
        "    example[\"context\"],\n",
        "    max_length=max_length,\n",
        "    truncation=\"only_second\",\n",
        "    return_overflowing_tokens=True,\n",
        "    return_offsets_mapping=True,\n",
        "    stride=doc_stride\n",
        ")"
      ],
      "execution_count": 101,
      "outputs": []
    },
    {
      "cell_type": "markdown",
      "metadata": {
        "id": "Rmrd83ymaf_s"
      },
      "source": [
        "We can plot each of the features in order to see the overlapping part:"
      ]
    },
    {
      "cell_type": "code",
      "metadata": {
        "colab": {
          "base_uri": "https://localhost:8080/"
        },
        "id": "y7Jy6J3XadOn",
        "outputId": "db995c7c-3f99-46db-c5ea-3a39be78338c"
      },
      "source": [
        "for i, x in enumerate(tokenized_example[\"input_ids\"]):\n",
        "    print(f'Feature {i+1} with {len(x)} tokens')\n",
        "    print(tokenizer.convert_ids_to_tokens(x), '\\n') # or tokenizer.decode(x)"
      ],
      "execution_count": 102,
      "outputs": [
        {
          "output_type": "stream",
          "text": [
            "Feature 1 with 384 tokens\n",
            "['[CLS]', 'which', 'olympics', 'did', 'naga', '##no', 'host', '?', '[SEP]', 'japan', ':', 'the', 'event', 'was', 'held', 'in', 'naga', '##no', ',', 'which', 'hosted', 'the', '1998', 'winter', 'olympics', ',', 'on', 'april', '26', '.', 'japanese', 'buddhist', 'temple', 'zen', '##ko', '-', 'ji', ',', 'which', 'was', 'originally', 'scheduled', 'to', 'be', 'the', 'starting', 'point', 'for', 'the', 'olympic', 'torch', 'relay', 'in', 'naga', '##no', ',', 'refused', 'to', 'host', 'the', 'torch', 'and', 'pulled', 'out', 'of', 'the', 'relay', 'plans', ',', 'amid', 'speculation', 'that', 'monks', 'there', 'sy', '##mp', '##athi', '##zed', 'with', 'anti', '-', 'chinese', 'government', 'protesters', '.', 'as', 'well', 'as', 'the', 'risk', 'of', 'disruption', 'by', 'violent', 'protests', '.', 'parts', 'of', 'zen', '##ko', '-', 'ji', 'temple', \"'\", 's', 'main', 'building', '(', 'zen', '##ko', '-', 'ji', 'hon', '##do', ')', ',', 'reconstructed', 'in', '1707', 'and', 'one', 'of', 'the', 'national', 'treasures', 'of', 'japan', ',', 'was', 'then', 'van', '##dal', '##ized', 'with', 'spray', '##pa', '##int', '.', 'a', 'new', 'starting', 'point', ',', 'previously', 'the', 'site', 'of', 'a', 'municipal', 'building', 'and', 'now', 'a', 'parking', 'lot', ',', 'was', 'chosen', 'by', 'the', 'city', '.', 'an', 'event', 'the', 'city', 'had', 'planned', 'to', 'hold', 'at', 'the', 'mina', '##mi', 'naga', '##no', 'sports', 'park', 'following', 'the', 'torch', 'relay', 'was', 'also', 'canceled', 'out', 'of', 'concern', 'about', 'disruption', '##s', 'caused', 'by', 'demonstrators', 'protesting', 'against', 'china', \"'\", 's', 'recent', 'crack', '##down', 'in', 'tibet', '.', 'thousands', 'of', 'riot', 'police', 'were', 'mobilized', 'to', 'protect', 'the', 'torch', 'along', 'its', 'route', '.', 'the', 'show', 'of', 'force', 'kept', 'most', 'protesters', 'in', 'check', ',', 'but', 'slogan', '##s', 'shouted', 'by', 'pro', '-', 'china', 'or', 'pro', '-', 'tibet', 'demonstrators', ',', 'japanese', 'nationalists', ',', 'and', 'human', 'rights', 'organizations', 'flooded', 'the', 'air', '.', 'five', 'men', 'were', 'arrested', 'and', 'four', 'injured', 'amidst', 'scenes', 'of', 'mob', 'violence', '.', 'the', 'torch', 'route', 'was', 'packed', 'with', 'mostly', 'peaceful', 'demonstrators', '.', 'the', 'public', 'was', 'not', 'allowed', 'at', 'the', 'parking', 'lot', 'where', 'the', 'relay', 'started', '.', 'after', 'the', 'zen', '##ko', '##ji', 'monks', 'held', 'a', 'prayer', 'ceremony', 'for', 'victims', 'of', 'the', 'recent', 'events', 'in', 'tibet', '.', 'more', 'than', '100', 'police', 'officers', 'ran', 'with', 'the', 'torch', 'and', 'riot', 'police', 'lined', 'the', 'streets', 'while', 'three', 'helicopters', 'flew', 'above', '.', 'only', 'two', 'chinese', 'guards', 'were', 'allowed', 'to', 'accompany', 'the', 'torch', 'because', 'of', 'japan', \"'\", 's', 'concern', 'over', 'their', 'treatment', 'of', 'demonstrators', 'at', 'previous', 'relay', '##s', '.', 'a', 'man', 'with', 'a', 'tibetan', 'flag', 'tried', 'to', 'stop', 'the', 'torch', 'at', 'the', 'beginning', 'of', 'the', 'relay', 'but', 'was', 'dragged', 'off', 'by', 'police', '.', 'some', 'raw', '[SEP]'] \n",
            "\n",
            "Feature 2 with 146 tokens\n",
            "['[CLS]', 'which', 'olympics', 'did', 'naga', '##no', 'host', '?', '[SEP]', 'men', 'were', 'arrested', 'and', 'four', 'injured', 'amidst', 'scenes', 'of', 'mob', 'violence', '.', 'the', 'torch', 'route', 'was', 'packed', 'with', 'mostly', 'peaceful', 'demonstrators', '.', 'the', 'public', 'was', 'not', 'allowed', 'at', 'the', 'parking', 'lot', 'where', 'the', 'relay', 'started', '.', 'after', 'the', 'zen', '##ko', '##ji', 'monks', 'held', 'a', 'prayer', 'ceremony', 'for', 'victims', 'of', 'the', 'recent', 'events', 'in', 'tibet', '.', 'more', 'than', '100', 'police', 'officers', 'ran', 'with', 'the', 'torch', 'and', 'riot', 'police', 'lined', 'the', 'streets', 'while', 'three', 'helicopters', 'flew', 'above', '.', 'only', 'two', 'chinese', 'guards', 'were', 'allowed', 'to', 'accompany', 'the', 'torch', 'because', 'of', 'japan', \"'\", 's', 'concern', 'over', 'their', 'treatment', 'of', 'demonstrators', 'at', 'previous', 'relay', '##s', '.', 'a', 'man', 'with', 'a', 'tibetan', 'flag', 'tried', 'to', 'stop', 'the', 'torch', 'at', 'the', 'beginning', 'of', 'the', 'relay', 'but', 'was', 'dragged', 'off', 'by', 'police', '.', 'some', 'raw', 'eggs', 'were', 'also', 'thrown', 'from', 'the', 'crowd', '.', '[SEP]'] \n",
            "\n"
          ],
          "name": "stdout"
        }
      ]
    },
    {
      "cell_type": "markdown",
      "metadata": {
        "id": "nUvWR31SbRIH"
      },
      "source": [
        "And how the tokenizer can provide us the positions of each token:"
      ]
    },
    {
      "cell_type": "code",
      "metadata": {
        "colab": {
          "base_uri": "https://localhost:8080/"
        },
        "id": "2IDygx3Cb4Vb",
        "outputId": "f5c87c48-8629-471f-9cad-9d462bf88ed7"
      },
      "source": [
        "rnd_index = random.randint(0, len(tokenized_example[\"input_ids\"][0])-1)\n",
        "token_id = tokenized_example[\"input_ids\"][0][rnd_index]\n",
        "offsets = tokenized_example[\"offset_mapping\"][0][rnd_index]\n",
        "\n",
        "print(f'Token {rnd_index} \\t{tokenizer.convert_ids_to_tokens(token_id)}\\n')\n",
        "\n",
        "print(f'Start position \\t{offsets[0]}')\n",
        "print(f'End position \\t{offsets[1]}')"
      ],
      "execution_count": 103,
      "outputs": [
        {
          "output_type": "stream",
          "text": [
            "Token 379 \tpolice\n",
            "\n",
            "Start position \t1844\n",
            "End position \t1850\n"
          ],
          "name": "stdout"
        }
      ]
    },
    {
      "cell_type": "markdown",
      "metadata": {
        "id": "LyKmuAv3wz79"
      },
      "source": [
        "To distinguish which parts of the offsets correspond to the question and which part correspond to the context, we can use [`sequence_ids`](https://huggingface.co/transformers/main_classes/tokenizer.html#transformers.BatchEncoding.sequence_ids) method. It returns `None` for the special tokens, then 0 or 1 depending on whether the corresponding token comes from the first sentence past (the question) or the second (the context)."
      ]
    },
    {
      "cell_type": "code",
      "metadata": {
        "colab": {
          "base_uri": "https://localhost:8080/"
        },
        "id": "7dLSn6Z4ej8N",
        "outputId": "2356d3be-d232-4119-81d7-213563860390"
      },
      "source": [
        "sequence_ids = tokenized_example.sequence_ids()\n",
        "print(sequence_ids)"
      ],
      "execution_count": 104,
      "outputs": [
        {
          "output_type": "stream",
          "text": [
            "[None, 0, 0, 0, 0, 0, 0, 0, None, 1, 1, 1, 1, 1, 1, 1, 1, 1, 1, 1, 1, 1, 1, 1, 1, 1, 1, 1, 1, 1, 1, 1, 1, 1, 1, 1, 1, 1, 1, 1, 1, 1, 1, 1, 1, 1, 1, 1, 1, 1, 1, 1, 1, 1, 1, 1, 1, 1, 1, 1, 1, 1, 1, 1, 1, 1, 1, 1, 1, 1, 1, 1, 1, 1, 1, 1, 1, 1, 1, 1, 1, 1, 1, 1, 1, 1, 1, 1, 1, 1, 1, 1, 1, 1, 1, 1, 1, 1, 1, 1, 1, 1, 1, 1, 1, 1, 1, 1, 1, 1, 1, 1, 1, 1, 1, 1, 1, 1, 1, 1, 1, 1, 1, 1, 1, 1, 1, 1, 1, 1, 1, 1, 1, 1, 1, 1, 1, 1, 1, 1, 1, 1, 1, 1, 1, 1, 1, 1, 1, 1, 1, 1, 1, 1, 1, 1, 1, 1, 1, 1, 1, 1, 1, 1, 1, 1, 1, 1, 1, 1, 1, 1, 1, 1, 1, 1, 1, 1, 1, 1, 1, 1, 1, 1, 1, 1, 1, 1, 1, 1, 1, 1, 1, 1, 1, 1, 1, 1, 1, 1, 1, 1, 1, 1, 1, 1, 1, 1, 1, 1, 1, 1, 1, 1, 1, 1, 1, 1, 1, 1, 1, 1, 1, 1, 1, 1, 1, 1, 1, 1, 1, 1, 1, 1, 1, 1, 1, 1, 1, 1, 1, 1, 1, 1, 1, 1, 1, 1, 1, 1, 1, 1, 1, 1, 1, 1, 1, 1, 1, 1, 1, 1, 1, 1, 1, 1, 1, 1, 1, 1, 1, 1, 1, 1, 1, 1, 1, 1, 1, 1, 1, 1, 1, 1, 1, 1, 1, 1, 1, 1, 1, 1, 1, 1, 1, 1, 1, 1, 1, 1, 1, 1, 1, 1, 1, 1, 1, 1, 1, 1, 1, 1, 1, 1, 1, 1, 1, 1, 1, 1, 1, 1, 1, 1, 1, 1, 1, 1, 1, 1, 1, 1, 1, 1, 1, 1, 1, 1, 1, 1, 1, 1, 1, 1, 1, 1, 1, 1, 1, 1, 1, 1, 1, 1, 1, 1, 1, 1, 1, 1, 1, 1, 1, 1, 1, 1, 1, 1, 1, 1, 1, 1, 1, 1, 1, 1, 1, 1, 1, 1, 1, 1, 1, None]\n"
          ],
          "name": "stdout"
        }
      ]
    },
    {
      "cell_type": "markdown",
      "metadata": {
        "id": "Z-FZScaFfq92"
      },
      "source": [
        "With all of this, the last step is to check if the answer is in the feature or in the next one."
      ]
    },
    {
      "cell_type": "code",
      "metadata": {
        "colab": {
          "base_uri": "https://localhost:8080/"
        },
        "id": "n_T4P94NfqPa",
        "outputId": "2903b3a7-5df3-4127-f6e8-ac66e34bdd8a"
      },
      "source": [
        "answers = example[\"answers\"]\n",
        "start_char = answers[\"answer_start\"][0]\n",
        "end_char = start_char + len(answers[\"text\"][0])\n",
        "\n",
        "# Start token index of the current span in the text.\n",
        "token_start_index = 0\n",
        "while sequence_ids[token_start_index] != 1:\n",
        "    token_start_index += 1\n",
        "\n",
        "# End token index of the current span in the text.\n",
        "token_end_index = len(tokenized_example[\"input_ids\"][0]) - 1\n",
        "while sequence_ids[token_end_index] != 1:\n",
        "    token_end_index -= 1\n",
        "\n",
        "# Detect if the answer is out of the span (in which case this feature is labeled with the CLS index).\n",
        "offsets = tokenized_example[\"offset_mapping\"][0]\n",
        "if (offsets[token_start_index][0] <= start_char and offsets[token_end_index][1] >= end_char):\n",
        "    # Move the token_start_index and token_end_index to the two ends of the answer.\n",
        "    # Note: we could go after the last offset if the answer is the last word (edge case).\n",
        "    while token_start_index < len(offsets) and offsets[token_start_index][0] <= start_char:\n",
        "        token_start_index += 1\n",
        "    start_position = token_start_index - 1\n",
        "    while offsets[token_end_index][1] >= end_char:\n",
        "        token_end_index -= 1\n",
        "    end_position = token_end_index + 1\n",
        "    print(f'Original answer \\t{answers[\"text\"][0]}', '\\n')\n",
        "    print(f'Start position \\t\\t{start_position}')\n",
        "    print(f'End position \\t\\t{end_position}')\n",
        "    print(f'In feature \\t\\t{tokenizer.decode(tokenized_example[\"input_ids\"][0][start_position: end_position+1])}')\n",
        "else:\n",
        "    print(\"The answer is not in this feature.\")"
      ],
      "execution_count": 105,
      "outputs": [
        {
          "output_type": "stream",
          "text": [
            "Original answer \t1998 Winter Olympics \n",
            "\n",
            "Start position \t\t22\n",
            "End position \t\t26\n",
            "In feature \t\t1998 winter olympics, on\n"
          ],
          "name": "stdout"
        }
      ]
    },
    {
      "cell_type": "markdown",
      "metadata": {
        "id": "pt4b2eCbrz-Y"
      },
      "source": [
        "Once all steps are explained, we can integrate them in a whole function to preprocess whole data."
      ]
    },
    {
      "cell_type": "code",
      "metadata": {
        "id": "mQz2mF7fwz8A"
      },
      "source": [
        "def preprocessing_for_qa(examples):\n",
        "    # Tokenize our examples with truncation and padding, but keep the overflows using a stride. This results\n",
        "    # in one example possible giving several features when a context is long, each of those features having a\n",
        "    # context that overlaps a bit the context of the previous feature.\n",
        "    tokenized_examples = tokenizer(\n",
        "        examples[\"question\"],               #tokenize question\n",
        "        examples[\"context\"],                #tokenize context\n",
        "        truncation=\"only_second\",           #truncate only context if necessary\n",
        "        max_length=max_length,              #variable max_length\n",
        "        stride=doc_stride,                  #overlap to stride\n",
        "        return_overflowing_tokens=True,     #return overflowing tokens\n",
        "        return_offsets_mapping=True,        #return offsets mapping\n",
        "        padding=\"max_length\"                #pad to max length\n",
        "    )\n",
        "\n",
        "    # Since one example might give us several features if it has a long context, we need a map from a feature to\n",
        "    # its corresponding example. This key gives us just that.\n",
        "    sample_mapping = tokenized_examples.pop(\"overflow_to_sample_mapping\")\n",
        "\n",
        "    # The offset mappings will give us a map from token to character position in the original context. This will\n",
        "    # help us compute the start_positions and end_positions.\n",
        "    offset_mapping = tokenized_examples.pop(\"offset_mapping\")\n",
        "\n",
        "    # Let's label those examples!\n",
        "    tokenized_examples[\"start_positions\"] = []\n",
        "    tokenized_examples[\"end_positions\"] = []\n",
        "\n",
        "    for i, offsets in enumerate(offset_mapping):\n",
        "        # We will label impossible answers with the index of the CLS token.\n",
        "        input_ids = tokenized_examples[\"input_ids\"][i]\n",
        "        cls_index = input_ids.index(tokenizer.cls_token_id)\n",
        "\n",
        "        # Grab the sequence corresponding to that example (to know what is the context and what is the question).\n",
        "        sequence_ids = tokenized_examples.sequence_ids(i)\n",
        "\n",
        "        # One example can give several spans, this is the index of the example containing this span of text.\n",
        "        sample_index = sample_mapping[i]\n",
        "        answers = examples[\"answers\"][sample_index]\n",
        "\n",
        "        # If no answers are given, set the cls_index as answer.\n",
        "        if len(answers[\"answer_start\"]) == 0:\n",
        "            tokenized_examples[\"start_positions\"].append(cls_index)\n",
        "            tokenized_examples[\"end_positions\"].append(cls_index)\n",
        "        else:\n",
        "            # Start/end character index of the answer in the text.\n",
        "            start_char = answers[\"answer_start\"][0]\n",
        "            end_char = start_char + len(answers[\"text\"][0])\n",
        "\n",
        "            # Start token index of the current span in the text.\n",
        "            token_start_index = 0\n",
        "            while sequence_ids[token_start_index] != 1:\n",
        "                token_start_index += 1\n",
        "\n",
        "            # End token index of the current span in the text.\n",
        "            token_end_index = len(input_ids) - 1\n",
        "            while sequence_ids[token_end_index] != 1:\n",
        "                token_end_index -= 1\n",
        "\n",
        "            # Detect if the answer is out of the span (in which case this feature is labeled with the CLS index).\n",
        "            if not (offsets[token_start_index][0] <= start_char and offsets[token_end_index][1] >= end_char):\n",
        "                tokenized_examples[\"start_positions\"].append(cls_index)\n",
        "                tokenized_examples[\"end_positions\"].append(cls_index)\n",
        "            else:\n",
        "                # Otherwise move the token_start_index and token_end_index to the two ends of the answer.\n",
        "                # Note: we could go after the last offset if the answer is the last word (edge case).\n",
        "                while token_start_index < len(offsets) and offsets[token_start_index][0] <= start_char:\n",
        "                    token_start_index += 1\n",
        "                tokenized_examples[\"start_positions\"].append(token_start_index - 1)\n",
        "                while offsets[token_end_index][1] >= end_char:\n",
        "                    token_end_index -= 1\n",
        "                tokenized_examples[\"end_positions\"].append(token_end_index + 1)\n",
        "\n",
        "    return tokenized_examples"
      ],
      "execution_count": 106,
      "outputs": []
    },
    {
      "cell_type": "markdown",
      "metadata": {
        "id": "hd0323JyKkoZ"
      },
      "source": [
        "Now, we only have to apply the function to the different splits. We can use the [`map`](https://huggingface.co/docs/datasets/v1.4.1/package_reference/main_classes.html?highlight=map#datasets.Dataset.map) method:"
      ]
    },
    {
      "cell_type": "code",
      "metadata": {
        "colab": {
          "base_uri": "https://localhost:8080/",
          "height": 164,
          "referenced_widgets": [
            "f5ed8e38e4b4407d83b5d9c6516ad618",
            "2f892028c9bc4c6b9cea9f0d2e353dc2",
            "c3b92a65cd0a4012842d73c4086088c8",
            "54d404bf1a8d4b4aaefed7782383ecde",
            "c881957e5ca34a188462b064d9bfb4eb",
            "6202167ee6d345b2b29089f11e4ed2f1",
            "1b90775d537f469f86a502fc639c4ddb",
            "5f15ef64c5184a0e939a3ad73493b9c2",
            "d738dc2ae8ea443d995c8fb7818689e6",
            "8dba3b398bd448f5bb566cff7eff8e01",
            "b98e804f288642339daa0b1ab87a46df",
            "87cc1d01fb0342cb989a5263badc7cb4",
            "3260cd759ea049c396fc9ecf0e4057ad",
            "8ca632cc43a74b66808c8ef7388ba68c",
            "aaab5f370f714015b3e5be2e5f9165f0",
            "636a9eac22bf4772947966da4279e91b",
            "da3d877e32c945aa999b7b5eebd5db03",
            "e76b6bf40b4d440eb6ec653f0393f8fd",
            "de9866dc89834e06bdd9ed8fe8cc2638",
            "4905ca4ba5834a229575a8f9dcf9c361",
            "a64f5fc3f09941c59d0f17551f5c44f1",
            "feaafc37b3684796804531838d243140",
            "f58d720e28bf4852887200a86e00fc8d",
            "fedf476a7ab04330a4803d0b499606fe"
          ]
        },
        "id": "fUC0DNfzNJIW",
        "outputId": "dbefc200-d89c-45a4-f0ef-3f15f6e25395"
      },
      "source": [
        "tokenized_datasets = datasets.map(preprocessing_for_qa, \n",
        "                                  batched=True, \n",
        "                                  remove_columns=datasets[\"train\"].column_names)"
      ],
      "execution_count": 107,
      "outputs": [
        {
          "output_type": "display_data",
          "data": {
            "application/vnd.jupyter.widget-view+json": {
              "model_id": "f5ed8e38e4b4407d83b5d9c6516ad618",
              "version_minor": 0,
              "version_major": 2
            },
            "text/plain": [
              "HBox(children=(FloatProgress(value=0.0, max=59.0), HTML(value='')))"
            ]
          },
          "metadata": {
            "tags": []
          }
        },
        {
          "output_type": "stream",
          "text": [
            "\n"
          ],
          "name": "stdout"
        },
        {
          "output_type": "display_data",
          "data": {
            "application/vnd.jupyter.widget-view+json": {
              "model_id": "d738dc2ae8ea443d995c8fb7818689e6",
              "version_minor": 0,
              "version_major": 2
            },
            "text/plain": [
              "HBox(children=(FloatProgress(value=0.0, max=11.0), HTML(value='')))"
            ]
          },
          "metadata": {
            "tags": []
          }
        },
        {
          "output_type": "stream",
          "text": [
            "\n"
          ],
          "name": "stdout"
        },
        {
          "output_type": "display_data",
          "data": {
            "application/vnd.jupyter.widget-view+json": {
              "model_id": "da3d877e32c945aa999b7b5eebd5db03",
              "version_minor": 0,
              "version_major": 2
            },
            "text/plain": [
              "HBox(children=(FloatProgress(value=0.0, max=29.0), HTML(value='')))"
            ]
          },
          "metadata": {
            "tags": []
          }
        },
        {
          "output_type": "stream",
          "text": [
            "\n"
          ],
          "name": "stdout"
        }
      ]
    },
    {
      "cell_type": "markdown",
      "metadata": {
        "id": "voWiw8C7IrJV"
      },
      "source": [
        "The results are automatically cached by the [Datasets](https://huggingface.co/docs/datasets/v1.4.1/index.html) library to avoid spending time on this step the next time you run your notebook. With `load_from_cache_file=False` in the call to [`map`](https://huggingface.co/docs/datasets/v1.4.1/package_reference/main_classes.html?highlight=map#datasets.Dataset.map), the cached files are not used and the preprocessing is applied again.\n",
        "\n",
        "Note that we passed `batched=True` to encode the texts by batches together. This is to leverage the full benefit of the fast tokenizer we loaded earlier, which will use multi-threading to treat the texts in a batch concurrently."
      ]
    },
    {
      "cell_type": "markdown",
      "metadata": {
        "id": "iGeN3Ju3WZzQ"
      },
      "source": [
        "Once the original datasets are tokenizer, we get another [`DatasetDict`](https://huggingface.co/docs/datasets/package_reference/main_classes.html#datasetdict), but with different columns than the original one: `attention_mask`, used to indicate words from additional padding, `input_ids`, tokens as integers, and `token_type_ids`, indicating to which sentence words belongs. Finally the start and end positions of the answer."
      ]
    },
    {
      "cell_type": "code",
      "metadata": {
        "colab": {
          "base_uri": "https://localhost:8080/",
          "height": 499
        },
        "id": "OauAJlyHWtpQ",
        "outputId": "84ff1c1f-4055-4dcb-d40b-32c018b91b78"
      },
      "source": [
        "#@markdown Select a split\n",
        "split = \"train\" #@param [\"train\", \"validation\", \"test\"]\n",
        "#@markdown Select number of examples to visualize it\n",
        "num_examples = 3 #@param {type:\"slider\", min:1, max:10, step:1}\n",
        "print(f'Some sentences of {split} split, which has a length of {tokenized_datasets[split].num_rows}\\n')\n",
        "show_random_elements(tokenized_datasets[split], num_examples)"
      ],
      "execution_count": 108,
      "outputs": [
        {
          "output_type": "stream",
          "text": [
            "Some sentences of train split, which has a length of 59327\n",
            "\n"
          ],
          "name": "stdout"
        },
        {
          "output_type": "display_data",
          "data": {
            "text/html": [
              "<table border=\"1\" class=\"dataframe\">\n",
              "  <thead>\n",
              "    <tr style=\"text-align: right;\">\n",
              "      <th></th>\n",
              "      <th>attention_mask</th>\n",
              "      <th>end_positions</th>\n",
              "      <th>input_ids</th>\n",
              "      <th>start_positions</th>\n",
              "      <th>token_type_ids</th>\n",
              "    </tr>\n",
              "  </thead>\n",
              "  <tbody>\n",
              "    <tr>\n",
              "      <th>0</th>\n",
              "      <td>[1, 1, 1, 1, 1, 1, 1, 1, 1, 1, 1, 1, 1, 1, 1, 1, 1, 1, 1, 1, 1, 1, 1, 1, 1, 1, 1, 1, 1, 1, 1, 1, 1, 1, 1, 1, 1, 1, 1, 1, 1, 1, 1, 1, 1, 1, 1, 1, 1, 1, 1, 1, 1, 1, 1, 1, 1, 1, 1, 1, 1, 1, 1, 1, 1, 1, 1, 1, 1, 1, 1, 1, 1, 1, 1, 1, 1, 1, 1, 1, 1, 1, 1, 1, 1, 1, 1, 1, 1, 1, 1, 1, 1, 1, 1, 1, 1, 1, 1, 1, ...]</td>\n",
              "      <td>110</td>\n",
              "      <td>[101, 2054, 2095, 2106, 10692, 2707, 2037, 3171, 4125, 2241, 2006, 2844, 14338, 1029, 102, 2138, 1997, 1996, 3795, 3171, 19396, 2008, 2211, 1999, 2289, 1010, 1996, 14230, 1997, 10692, 10548, 2011, 1015, 1012, 1018, 1003, 1999, 1996, 3416, 4284, 1997, 2263, 1010, 2058, 1017, 1003, 1999, 1996, 3822, 4284, 1997, 2263, 1010, 1998, 2058, 1023, 1003, 1999, 1996, 4343, 4284, 1997, 2263, 1012, 1996, 12029, 2231, 2081, 1037, 26215, 4997, 5166, 1010, 2029, 2001, 2979, 2011, 15544, 8004, 12676, 12193, 1012, 1996, 6599, 1997, 1996, 5166, 2001, 10548, 2005, 2263, 2011, 25212, 2243, 1020, 1012, 1015, 4551, 1998, 1996, ...]</td>\n",
              "      <td>110</td>\n",
              "      <td>[0, 0, 0, 0, 0, 0, 0, 0, 0, 0, 0, 0, 0, 0, 0, 1, 1, 1, 1, 1, 1, 1, 1, 1, 1, 1, 1, 1, 1, 1, 1, 1, 1, 1, 1, 1, 1, 1, 1, 1, 1, 1, 1, 1, 1, 1, 1, 1, 1, 1, 1, 1, 1, 1, 1, 1, 1, 1, 1, 1, 1, 1, 1, 1, 1, 1, 1, 1, 1, 1, 1, 1, 1, 1, 1, 1, 1, 1, 1, 1, 1, 1, 1, 1, 1, 1, 1, 1, 1, 1, 1, 1, 1, 1, 1, 1, 1, 1, 1, 1, ...]</td>\n",
              "    </tr>\n",
              "    <tr>\n",
              "      <th>1</th>\n",
              "      <td>[1, 1, 1, 1, 1, 1, 1, 1, 1, 1, 1, 1, 1, 1, 1, 1, 1, 1, 1, 1, 1, 1, 1, 1, 1, 1, 1, 1, 1, 1, 1, 1, 1, 1, 1, 1, 1, 1, 1, 1, 1, 1, 1, 1, 1, 1, 1, 1, 1, 1, 1, 1, 1, 1, 1, 1, 1, 1, 1, 1, 1, 1, 1, 1, 1, 1, 1, 1, 1, 1, 1, 0, 0, 0, 0, 0, 0, 0, 0, 0, 0, 0, 0, 0, 0, 0, 0, 0, 0, 0, 0, 0, 0, 0, 0, 0, 0, 0, 0, 0, ...]</td>\n",
              "      <td>42</td>\n",
              "      <td>[101, 1999, 2289, 1010, 2054, 2001, 1996, 2988, 5813, 1997, 1996, 21388, 26797, 2291, 1029, 102, 1999, 2289, 1010, 1996, 2880, 8418, 25311, 6692, 2739, 4034, 2988, 2008, 1996, 5813, 1997, 1996, 21388, 26797, 2291, 2001, 2004, 2152, 2004, 1014, 1012, 1019, 3620, 1012, 2007, 1996, 4493, 5310, 17703, 2009, 3544, 2008, 1996, 10250, 12322, 9250, 10640, 2003, 2322, 2213, 1006, 2531, 2213, 1010, 4895, 9289, 12322, 9250, 1007, 1012, 102, 0, 0, 0, 0, 0, 0, 0, 0, 0, 0, 0, 0, 0, 0, 0, 0, 0, 0, 0, 0, 0, 0, 0, 0, 0, 0, 0, 0, 0, ...]</td>\n",
              "      <td>36</td>\n",
              "      <td>[0, 0, 0, 0, 0, 0, 0, 0, 0, 0, 0, 0, 0, 0, 0, 0, 1, 1, 1, 1, 1, 1, 1, 1, 1, 1, 1, 1, 1, 1, 1, 1, 1, 1, 1, 1, 1, 1, 1, 1, 1, 1, 1, 1, 1, 1, 1, 1, 1, 1, 1, 1, 1, 1, 1, 1, 1, 1, 1, 1, 1, 1, 1, 1, 1, 1, 1, 1, 1, 1, 1, 0, 0, 0, 0, 0, 0, 0, 0, 0, 0, 0, 0, 0, 0, 0, 0, 0, 0, 0, 0, 0, 0, 0, 0, 0, 0, 0, 0, 0, ...]</td>\n",
              "    </tr>\n",
              "    <tr>\n",
              "      <th>2</th>\n",
              "      <td>[1, 1, 1, 1, 1, 1, 1, 1, 1, 1, 1, 1, 1, 1, 1, 1, 1, 1, 1, 1, 1, 1, 1, 1, 1, 1, 1, 1, 1, 1, 1, 1, 1, 1, 1, 1, 1, 1, 1, 1, 1, 1, 1, 1, 1, 1, 1, 1, 1, 1, 1, 1, 1, 1, 1, 1, 1, 1, 1, 1, 1, 1, 1, 1, 1, 1, 1, 1, 1, 1, 1, 1, 1, 1, 1, 1, 1, 1, 1, 1, 1, 1, 1, 1, 1, 1, 1, 1, 1, 1, 1, 1, 1, 1, 1, 1, 1, 1, 1, 1, ...]</td>\n",
              "      <td>178</td>\n",
              "      <td>[101, 2054, 12763, 2024, 3378, 2007, 25353, 21850, 6856, 1029, 102, 1999, 5184, 29393, 8458, 8189, 11233, 1010, 1996, 2034, 12553, 3424, 1011, 1999, 25969, 3512, 4319, 1010, 2001, 2764, 2011, 2703, 15501, 12190, 7033, 1998, 15535, 6152, 17064, 12112, 1997, 1996, 2820, 1997, 6388, 7242, 1999, 4068, 1012, 1996, 4319, 2001, 2445, 1996, 3293, 2171, 16183, 10755, 8791, 1012, 15501, 12190, 7033, 1010, 9073, 2119, 1996, 2236, 22423, 1997, 29596, 1998, 1996, 13228, 16326, 1997, 3056, 18554, 2015, 2011, 10327, 1010, 1044, 22571, 14573, 2229, 3550, 2008, 2019, 29596, 1011, 4820, 18554, 2007, 2714, 13228, 16326, 5144, 2071, 2022, ...]</td>\n",
              "      <td>168</td>\n",
              "      <td>[0, 0, 0, 0, 0, 0, 0, 0, 0, 0, 0, 1, 1, 1, 1, 1, 1, 1, 1, 1, 1, 1, 1, 1, 1, 1, 1, 1, 1, 1, 1, 1, 1, 1, 1, 1, 1, 1, 1, 1, 1, 1, 1, 1, 1, 1, 1, 1, 1, 1, 1, 1, 1, 1, 1, 1, 1, 1, 1, 1, 1, 1, 1, 1, 1, 1, 1, 1, 1, 1, 1, 1, 1, 1, 1, 1, 1, 1, 1, 1, 1, 1, 1, 1, 1, 1, 1, 1, 1, 1, 1, 1, 1, 1, 1, 1, 1, 1, 1, 1, ...]</td>\n",
              "    </tr>\n",
              "  </tbody>\n",
              "</table>"
            ],
            "text/plain": [
              "<IPython.core.display.HTML object>"
            ]
          },
          "metadata": {
            "tags": []
          }
        }
      ]
    },
    {
      "cell_type": "markdown",
      "metadata": {
        "id": "tQBsd8ivQ8cX"
      },
      "source": [
        "## 6.4 - Generate the Model"
      ]
    },
    {
      "cell_type": "markdown",
      "metadata": {
        "id": "-_mjlVIIncTf"
      },
      "source": [
        "To fine tune on **Question Answering**, it is introduced a start vector $ S \\in \\mathbb R^{H} $ and an end vector $ E \\in \\mathbb R^{H} $."
      ]
    },
    {
      "cell_type": "markdown",
      "metadata": {
        "id": "zPARYgkTSI7X"
      },
      "source": [
        "![Fine tune Q&A](https://raw.githubusercontent.com/ion-bueno/bert-from-inside/main/images/question_answering_fine_tune.png)"
      ]
    },
    {
      "cell_type": "markdown",
      "metadata": {
        "id": "jb12e17xqRSr"
      },
      "source": [
        "To compute the probability of a word $ i $ being the start or the end of the answer, we compute the dot product between $ S $ and $ T_i $ followed by a softmax over all the words in the sequence.\n",
        "\n",
        "\\begin{equation}\n",
        "    P_i = \\frac{e^{S \\cdot T_i}}{\\sum_{j} e^{S \\cdot T_j}}\n",
        "\\end{equation} \n",
        "\n",
        "The score for a candidate is defined as $ S \\cdot T_i \\ + \\ E \\cdot T_j $, where $ i $ is the start position and $ j $ the final position. The maximum scoring span: $ \\hat{s_{i, j}} = max_{j \\geq i} S \\cdot T_i \\ + \\ E \\cdot T_j $ is used as prediction, where the training objective is the sum of the log-likelihoods of the correct start and end positions."
      ]
    },
    {
      "cell_type": "markdown",
      "metadata": {
        "id": "ZwmIElx_DKBV"
      },
      "source": [
        "![Model Q&A](https://raw.githubusercontent.com/ion-bueno/bert-from-inside/main/images/bert-qa.png)"
      ]
    },
    {
      "cell_type": "markdown",
      "metadata": {
        "id": "URbe2r4LuNkG"
      },
      "source": [
        "To extend to SQuAD 2.0, questions which do not have an answer have an span with start and end at the $ [CLS] $ token. It is compared the score of the null answer span: $ s_{null} = S \\cdot C \\ + E \\cdot C $ with $ \\hat{s_{i, j}} $. It is predicted a non-null answer if $ \\hat{s_{i, j}} > s_{null} \\ + \\ \\tau$, where threshold $ \\tau $ i selected on the validation set to maximize F1."
      ]
    },
    {
      "cell_type": "markdown",
      "metadata": {
        "id": "B4iHhaveC1HX"
      },
      "source": [
        "In this task we are going to use the model designed by Hugging Face [`BertForQuestionAnswering`](https://huggingface.co/transformers/model_doc/bert.html#transformers.BertForQuestionAnswering)."
      ]
    },
    {
      "cell_type": "code",
      "metadata": {
        "colab": {
          "base_uri": "https://localhost:8080/"
        },
        "id": "eddDHjFJ_6zq",
        "outputId": "00996296-fe8e-43ec-a352-5717ab8bce4e"
      },
      "source": [
        "from transformers import BertForQuestionAnswering\n",
        "\n",
        "bert_qa = BertForQuestionAnswering.from_pretrained(MODEL_NAME)"
      ],
      "execution_count": 109,
      "outputs": [
        {
          "output_type": "stream",
          "text": [
            "Some weights of the model checkpoint at bert-base-uncased were not used when initializing BertForQuestionAnswering: ['cls.predictions.bias', 'cls.predictions.transform.LayerNorm.bias', 'cls.seq_relationship.bias', 'cls.predictions.transform.LayerNorm.weight', 'cls.predictions.transform.dense.weight', 'cls.predictions.transform.dense.bias', 'cls.predictions.decoder.weight', 'cls.seq_relationship.weight']\n",
            "- This IS expected if you are initializing BertForQuestionAnswering from the checkpoint of a model trained on another task or with another architecture (e.g. initializing a BertForSequenceClassification model from a BertForPreTraining model).\n",
            "- This IS NOT expected if you are initializing BertForQuestionAnswering from the checkpoint of a model that you expect to be exactly identical (initializing a BertForSequenceClassification model from a BertForSequenceClassification model).\n",
            "Some weights of BertForQuestionAnswering were not initialized from the model checkpoint at bert-base-uncased and are newly initialized: ['qa_outputs.bias', 'qa_outputs.weight']\n",
            "You should probably TRAIN this model on a down-stream task to be able to use it for predictions and inference.\n"
          ],
          "name": "stderr"
        }
      ]
    },
    {
      "cell_type": "code",
      "metadata": {
        "colab": {
          "base_uri": "https://localhost:8080/"
        },
        "id": "VtD_B4OnAGJP",
        "outputId": "d045a63b-ee6d-4b8b-920a-d87bfe4bb3aa"
      },
      "source": [
        "#@markdown Select whole model, only pretrained BERT or the question & answer outputs\n",
        "block = \"model\" #@param [\"model\", \"bert\", \"qa_outputs\"]\n",
        "if block == 'model':\n",
        "    print(bert_qa)\n",
        "else:\n",
        "    print(getattr(model, block))"
      ],
      "execution_count": 110,
      "outputs": [
        {
          "output_type": "stream",
          "text": [
            "BertForQuestionAnswering(\n",
            "  (bert): BertModel(\n",
            "    (embeddings): BertEmbeddings(\n",
            "      (word_embeddings): Embedding(30522, 768, padding_idx=0)\n",
            "      (position_embeddings): Embedding(512, 768)\n",
            "      (token_type_embeddings): Embedding(2, 768)\n",
            "      (LayerNorm): LayerNorm((768,), eps=1e-12, elementwise_affine=True)\n",
            "      (dropout): Dropout(p=0.1, inplace=False)\n",
            "    )\n",
            "    (encoder): BertEncoder(\n",
            "      (layer): ModuleList(\n",
            "        (0): BertLayer(\n",
            "          (attention): BertAttention(\n",
            "            (self): BertSelfAttention(\n",
            "              (query): Linear(in_features=768, out_features=768, bias=True)\n",
            "              (key): Linear(in_features=768, out_features=768, bias=True)\n",
            "              (value): Linear(in_features=768, out_features=768, bias=True)\n",
            "              (dropout): Dropout(p=0.1, inplace=False)\n",
            "            )\n",
            "            (output): BertSelfOutput(\n",
            "              (dense): Linear(in_features=768, out_features=768, bias=True)\n",
            "              (LayerNorm): LayerNorm((768,), eps=1e-12, elementwise_affine=True)\n",
            "              (dropout): Dropout(p=0.1, inplace=False)\n",
            "            )\n",
            "          )\n",
            "          (intermediate): BertIntermediate(\n",
            "            (dense): Linear(in_features=768, out_features=3072, bias=True)\n",
            "          )\n",
            "          (output): BertOutput(\n",
            "            (dense): Linear(in_features=3072, out_features=768, bias=True)\n",
            "            (LayerNorm): LayerNorm((768,), eps=1e-12, elementwise_affine=True)\n",
            "            (dropout): Dropout(p=0.1, inplace=False)\n",
            "          )\n",
            "        )\n",
            "        (1): BertLayer(\n",
            "          (attention): BertAttention(\n",
            "            (self): BertSelfAttention(\n",
            "              (query): Linear(in_features=768, out_features=768, bias=True)\n",
            "              (key): Linear(in_features=768, out_features=768, bias=True)\n",
            "              (value): Linear(in_features=768, out_features=768, bias=True)\n",
            "              (dropout): Dropout(p=0.1, inplace=False)\n",
            "            )\n",
            "            (output): BertSelfOutput(\n",
            "              (dense): Linear(in_features=768, out_features=768, bias=True)\n",
            "              (LayerNorm): LayerNorm((768,), eps=1e-12, elementwise_affine=True)\n",
            "              (dropout): Dropout(p=0.1, inplace=False)\n",
            "            )\n",
            "          )\n",
            "          (intermediate): BertIntermediate(\n",
            "            (dense): Linear(in_features=768, out_features=3072, bias=True)\n",
            "          )\n",
            "          (output): BertOutput(\n",
            "            (dense): Linear(in_features=3072, out_features=768, bias=True)\n",
            "            (LayerNorm): LayerNorm((768,), eps=1e-12, elementwise_affine=True)\n",
            "            (dropout): Dropout(p=0.1, inplace=False)\n",
            "          )\n",
            "        )\n",
            "        (2): BertLayer(\n",
            "          (attention): BertAttention(\n",
            "            (self): BertSelfAttention(\n",
            "              (query): Linear(in_features=768, out_features=768, bias=True)\n",
            "              (key): Linear(in_features=768, out_features=768, bias=True)\n",
            "              (value): Linear(in_features=768, out_features=768, bias=True)\n",
            "              (dropout): Dropout(p=0.1, inplace=False)\n",
            "            )\n",
            "            (output): BertSelfOutput(\n",
            "              (dense): Linear(in_features=768, out_features=768, bias=True)\n",
            "              (LayerNorm): LayerNorm((768,), eps=1e-12, elementwise_affine=True)\n",
            "              (dropout): Dropout(p=0.1, inplace=False)\n",
            "            )\n",
            "          )\n",
            "          (intermediate): BertIntermediate(\n",
            "            (dense): Linear(in_features=768, out_features=3072, bias=True)\n",
            "          )\n",
            "          (output): BertOutput(\n",
            "            (dense): Linear(in_features=3072, out_features=768, bias=True)\n",
            "            (LayerNorm): LayerNorm((768,), eps=1e-12, elementwise_affine=True)\n",
            "            (dropout): Dropout(p=0.1, inplace=False)\n",
            "          )\n",
            "        )\n",
            "        (3): BertLayer(\n",
            "          (attention): BertAttention(\n",
            "            (self): BertSelfAttention(\n",
            "              (query): Linear(in_features=768, out_features=768, bias=True)\n",
            "              (key): Linear(in_features=768, out_features=768, bias=True)\n",
            "              (value): Linear(in_features=768, out_features=768, bias=True)\n",
            "              (dropout): Dropout(p=0.1, inplace=False)\n",
            "            )\n",
            "            (output): BertSelfOutput(\n",
            "              (dense): Linear(in_features=768, out_features=768, bias=True)\n",
            "              (LayerNorm): LayerNorm((768,), eps=1e-12, elementwise_affine=True)\n",
            "              (dropout): Dropout(p=0.1, inplace=False)\n",
            "            )\n",
            "          )\n",
            "          (intermediate): BertIntermediate(\n",
            "            (dense): Linear(in_features=768, out_features=3072, bias=True)\n",
            "          )\n",
            "          (output): BertOutput(\n",
            "            (dense): Linear(in_features=3072, out_features=768, bias=True)\n",
            "            (LayerNorm): LayerNorm((768,), eps=1e-12, elementwise_affine=True)\n",
            "            (dropout): Dropout(p=0.1, inplace=False)\n",
            "          )\n",
            "        )\n",
            "        (4): BertLayer(\n",
            "          (attention): BertAttention(\n",
            "            (self): BertSelfAttention(\n",
            "              (query): Linear(in_features=768, out_features=768, bias=True)\n",
            "              (key): Linear(in_features=768, out_features=768, bias=True)\n",
            "              (value): Linear(in_features=768, out_features=768, bias=True)\n",
            "              (dropout): Dropout(p=0.1, inplace=False)\n",
            "            )\n",
            "            (output): BertSelfOutput(\n",
            "              (dense): Linear(in_features=768, out_features=768, bias=True)\n",
            "              (LayerNorm): LayerNorm((768,), eps=1e-12, elementwise_affine=True)\n",
            "              (dropout): Dropout(p=0.1, inplace=False)\n",
            "            )\n",
            "          )\n",
            "          (intermediate): BertIntermediate(\n",
            "            (dense): Linear(in_features=768, out_features=3072, bias=True)\n",
            "          )\n",
            "          (output): BertOutput(\n",
            "            (dense): Linear(in_features=3072, out_features=768, bias=True)\n",
            "            (LayerNorm): LayerNorm((768,), eps=1e-12, elementwise_affine=True)\n",
            "            (dropout): Dropout(p=0.1, inplace=False)\n",
            "          )\n",
            "        )\n",
            "        (5): BertLayer(\n",
            "          (attention): BertAttention(\n",
            "            (self): BertSelfAttention(\n",
            "              (query): Linear(in_features=768, out_features=768, bias=True)\n",
            "              (key): Linear(in_features=768, out_features=768, bias=True)\n",
            "              (value): Linear(in_features=768, out_features=768, bias=True)\n",
            "              (dropout): Dropout(p=0.1, inplace=False)\n",
            "            )\n",
            "            (output): BertSelfOutput(\n",
            "              (dense): Linear(in_features=768, out_features=768, bias=True)\n",
            "              (LayerNorm): LayerNorm((768,), eps=1e-12, elementwise_affine=True)\n",
            "              (dropout): Dropout(p=0.1, inplace=False)\n",
            "            )\n",
            "          )\n",
            "          (intermediate): BertIntermediate(\n",
            "            (dense): Linear(in_features=768, out_features=3072, bias=True)\n",
            "          )\n",
            "          (output): BertOutput(\n",
            "            (dense): Linear(in_features=3072, out_features=768, bias=True)\n",
            "            (LayerNorm): LayerNorm((768,), eps=1e-12, elementwise_affine=True)\n",
            "            (dropout): Dropout(p=0.1, inplace=False)\n",
            "          )\n",
            "        )\n",
            "        (6): BertLayer(\n",
            "          (attention): BertAttention(\n",
            "            (self): BertSelfAttention(\n",
            "              (query): Linear(in_features=768, out_features=768, bias=True)\n",
            "              (key): Linear(in_features=768, out_features=768, bias=True)\n",
            "              (value): Linear(in_features=768, out_features=768, bias=True)\n",
            "              (dropout): Dropout(p=0.1, inplace=False)\n",
            "            )\n",
            "            (output): BertSelfOutput(\n",
            "              (dense): Linear(in_features=768, out_features=768, bias=True)\n",
            "              (LayerNorm): LayerNorm((768,), eps=1e-12, elementwise_affine=True)\n",
            "              (dropout): Dropout(p=0.1, inplace=False)\n",
            "            )\n",
            "          )\n",
            "          (intermediate): BertIntermediate(\n",
            "            (dense): Linear(in_features=768, out_features=3072, bias=True)\n",
            "          )\n",
            "          (output): BertOutput(\n",
            "            (dense): Linear(in_features=3072, out_features=768, bias=True)\n",
            "            (LayerNorm): LayerNorm((768,), eps=1e-12, elementwise_affine=True)\n",
            "            (dropout): Dropout(p=0.1, inplace=False)\n",
            "          )\n",
            "        )\n",
            "        (7): BertLayer(\n",
            "          (attention): BertAttention(\n",
            "            (self): BertSelfAttention(\n",
            "              (query): Linear(in_features=768, out_features=768, bias=True)\n",
            "              (key): Linear(in_features=768, out_features=768, bias=True)\n",
            "              (value): Linear(in_features=768, out_features=768, bias=True)\n",
            "              (dropout): Dropout(p=0.1, inplace=False)\n",
            "            )\n",
            "            (output): BertSelfOutput(\n",
            "              (dense): Linear(in_features=768, out_features=768, bias=True)\n",
            "              (LayerNorm): LayerNorm((768,), eps=1e-12, elementwise_affine=True)\n",
            "              (dropout): Dropout(p=0.1, inplace=False)\n",
            "            )\n",
            "          )\n",
            "          (intermediate): BertIntermediate(\n",
            "            (dense): Linear(in_features=768, out_features=3072, bias=True)\n",
            "          )\n",
            "          (output): BertOutput(\n",
            "            (dense): Linear(in_features=3072, out_features=768, bias=True)\n",
            "            (LayerNorm): LayerNorm((768,), eps=1e-12, elementwise_affine=True)\n",
            "            (dropout): Dropout(p=0.1, inplace=False)\n",
            "          )\n",
            "        )\n",
            "        (8): BertLayer(\n",
            "          (attention): BertAttention(\n",
            "            (self): BertSelfAttention(\n",
            "              (query): Linear(in_features=768, out_features=768, bias=True)\n",
            "              (key): Linear(in_features=768, out_features=768, bias=True)\n",
            "              (value): Linear(in_features=768, out_features=768, bias=True)\n",
            "              (dropout): Dropout(p=0.1, inplace=False)\n",
            "            )\n",
            "            (output): BertSelfOutput(\n",
            "              (dense): Linear(in_features=768, out_features=768, bias=True)\n",
            "              (LayerNorm): LayerNorm((768,), eps=1e-12, elementwise_affine=True)\n",
            "              (dropout): Dropout(p=0.1, inplace=False)\n",
            "            )\n",
            "          )\n",
            "          (intermediate): BertIntermediate(\n",
            "            (dense): Linear(in_features=768, out_features=3072, bias=True)\n",
            "          )\n",
            "          (output): BertOutput(\n",
            "            (dense): Linear(in_features=3072, out_features=768, bias=True)\n",
            "            (LayerNorm): LayerNorm((768,), eps=1e-12, elementwise_affine=True)\n",
            "            (dropout): Dropout(p=0.1, inplace=False)\n",
            "          )\n",
            "        )\n",
            "        (9): BertLayer(\n",
            "          (attention): BertAttention(\n",
            "            (self): BertSelfAttention(\n",
            "              (query): Linear(in_features=768, out_features=768, bias=True)\n",
            "              (key): Linear(in_features=768, out_features=768, bias=True)\n",
            "              (value): Linear(in_features=768, out_features=768, bias=True)\n",
            "              (dropout): Dropout(p=0.1, inplace=False)\n",
            "            )\n",
            "            (output): BertSelfOutput(\n",
            "              (dense): Linear(in_features=768, out_features=768, bias=True)\n",
            "              (LayerNorm): LayerNorm((768,), eps=1e-12, elementwise_affine=True)\n",
            "              (dropout): Dropout(p=0.1, inplace=False)\n",
            "            )\n",
            "          )\n",
            "          (intermediate): BertIntermediate(\n",
            "            (dense): Linear(in_features=768, out_features=3072, bias=True)\n",
            "          )\n",
            "          (output): BertOutput(\n",
            "            (dense): Linear(in_features=3072, out_features=768, bias=True)\n",
            "            (LayerNorm): LayerNorm((768,), eps=1e-12, elementwise_affine=True)\n",
            "            (dropout): Dropout(p=0.1, inplace=False)\n",
            "          )\n",
            "        )\n",
            "        (10): BertLayer(\n",
            "          (attention): BertAttention(\n",
            "            (self): BertSelfAttention(\n",
            "              (query): Linear(in_features=768, out_features=768, bias=True)\n",
            "              (key): Linear(in_features=768, out_features=768, bias=True)\n",
            "              (value): Linear(in_features=768, out_features=768, bias=True)\n",
            "              (dropout): Dropout(p=0.1, inplace=False)\n",
            "            )\n",
            "            (output): BertSelfOutput(\n",
            "              (dense): Linear(in_features=768, out_features=768, bias=True)\n",
            "              (LayerNorm): LayerNorm((768,), eps=1e-12, elementwise_affine=True)\n",
            "              (dropout): Dropout(p=0.1, inplace=False)\n",
            "            )\n",
            "          )\n",
            "          (intermediate): BertIntermediate(\n",
            "            (dense): Linear(in_features=768, out_features=3072, bias=True)\n",
            "          )\n",
            "          (output): BertOutput(\n",
            "            (dense): Linear(in_features=3072, out_features=768, bias=True)\n",
            "            (LayerNorm): LayerNorm((768,), eps=1e-12, elementwise_affine=True)\n",
            "            (dropout): Dropout(p=0.1, inplace=False)\n",
            "          )\n",
            "        )\n",
            "        (11): BertLayer(\n",
            "          (attention): BertAttention(\n",
            "            (self): BertSelfAttention(\n",
            "              (query): Linear(in_features=768, out_features=768, bias=True)\n",
            "              (key): Linear(in_features=768, out_features=768, bias=True)\n",
            "              (value): Linear(in_features=768, out_features=768, bias=True)\n",
            "              (dropout): Dropout(p=0.1, inplace=False)\n",
            "            )\n",
            "            (output): BertSelfOutput(\n",
            "              (dense): Linear(in_features=768, out_features=768, bias=True)\n",
            "              (LayerNorm): LayerNorm((768,), eps=1e-12, elementwise_affine=True)\n",
            "              (dropout): Dropout(p=0.1, inplace=False)\n",
            "            )\n",
            "          )\n",
            "          (intermediate): BertIntermediate(\n",
            "            (dense): Linear(in_features=768, out_features=3072, bias=True)\n",
            "          )\n",
            "          (output): BertOutput(\n",
            "            (dense): Linear(in_features=3072, out_features=768, bias=True)\n",
            "            (LayerNorm): LayerNorm((768,), eps=1e-12, elementwise_affine=True)\n",
            "            (dropout): Dropout(p=0.1, inplace=False)\n",
            "          )\n",
            "        )\n",
            "      )\n",
            "    )\n",
            "  )\n",
            "  (qa_outputs): Linear(in_features=768, out_features=2, bias=True)\n",
            ")\n"
          ],
          "name": "stdout"
        }
      ]
    },
    {
      "cell_type": "markdown",
      "metadata": {
        "id": "KvBPQ9ytQLkS"
      },
      "source": [
        "## 6.5 - Fine-Tune on SQuAD"
      ]
    },
    {
      "cell_type": "markdown",
      "metadata": {
        "id": "CKMFi-Oy3JHL"
      },
      "source": [
        "Now it is the moment to train the model for our specific task. We can use an instance of [`Trainer`](https://huggingface.co/transformers/main_classes/trainer.html?highlight=trainer#transformers.Trainer) class in order to avoid many lines of code. The most important is the [`TrainingArguments`](https://huggingface.co/transformers/main_classes/trainer.html#transformers.TrainingArguments), which is a class that contains all the attributes to customize the training. It requires one folder name, which will be used to save the checkpoints of the model, and all other arguments are optional."
      ]
    },
    {
      "cell_type": "code",
      "metadata": {
        "id": "aUKFtfhi58BY"
      },
      "source": [
        "from transformers import TrainingArguments"
      ],
      "execution_count": 111,
      "outputs": []
    },
    {
      "cell_type": "code",
      "metadata": {
        "id": "qNvT62_G3SMm"
      },
      "source": [
        "#@title 6.5.1 - Hyperparameters Selection\n",
        "batch_size =  16#@param {type:\"integer\"}\n",
        "learning_rate = 5e-5 #@param {type:\"number\"}\n",
        "epochs =  3#@param {type:\"integer\"}\n",
        "epsilon = 1e-8 #@param {type:\"number\"}\n",
        "weight_decay=0.01 #@param {type:\"number\"}\n",
        "qa_dir = Path('question_answering')\n",
        "strategy = 'epoch'\n",
        "\n",
        "args = TrainingArguments(\n",
        "    qa_dir,\n",
        "    evaluation_strategy = strategy,\n",
        "    learning_rate=learning_rate,\n",
        "    per_device_train_batch_size=batch_size,\n",
        "    per_device_eval_batch_size=batch_size,\n",
        "    num_train_epochs=epochs,\n",
        "    weight_decay=weight_decay,\n",
        "    logging_dir= 'squad_logs',\n",
        "    logging_strategy=strategy,\n",
        "    load_best_model_at_end=True\n",
        ")"
      ],
      "execution_count": 112,
      "outputs": []
    },
    {
      "cell_type": "markdown",
      "metadata": {
        "id": "Gzb8iZf5LQQg"
      },
      "source": [
        "For example, in this case we set the evaluation to be done at the end of each epoch in `evaluation_strategy`. Customize batch size per GPU core for training `per_device_train_batch_size` and evaluation `per_device_eval_batch_size`. In addition to give values for the total number of epochs to perform `num_train_epohs`, `learning_rate` and `weight_decay`."
      ]
    },
    {
      "cell_type": "markdown",
      "metadata": {
        "id": "-DUzYVcWPV5Z"
      },
      "source": [
        "Then it is only needed to pass the arguments and dataset to [`Trainer`](https://huggingface.co/transformers/main_classes/trainer.html?highlight=trainer#transformers.Trainer). The data collator will batch our processed examples together. The tokenizer is used again in order to perfom padding according to the model's preferences: rigth or left and with which token."
      ]
    },
    {
      "cell_type": "code",
      "metadata": {
        "id": "lRjT5yTnZDI6"
      },
      "source": [
        "from transformers import Trainer, default_data_collator"
      ],
      "execution_count": 113,
      "outputs": []
    },
    {
      "cell_type": "code",
      "metadata": {
        "id": "lcSaL_qe6HI9"
      },
      "source": [
        "trainer = Trainer(\n",
        "    bert_qa,\n",
        "    args,\n",
        "    train_dataset=tokenized_datasets[\"train\"],\n",
        "    eval_dataset=tokenized_datasets[\"validation\"],\n",
        "    data_collator=default_data_collator,\n",
        "    tokenizer=tokenizer\n",
        ")"
      ],
      "execution_count": 114,
      "outputs": []
    },
    {
      "cell_type": "markdown",
      "metadata": {
        "id": "UDFqOt-4QW8q"
      },
      "source": [
        "In order to fine-tune the model it is only required to call the [`train`](https://huggingface.co/transformers/main_classes/trainer.html?highlight=trainer#transformers.Trainer.train) method for [`Trainer`](https://huggingface.co/transformers/main_classes/trainer.html?highlight=trainer#transformers.Trainer)."
      ]
    },
    {
      "cell_type": "code",
      "metadata": {
        "colab": {
          "base_uri": "https://localhost:8080/",
          "height": 219
        },
        "id": "-kiqohIHQc2R",
        "outputId": "cd1a0862-d617-412f-fcca-fdcf8f072a2b"
      },
      "source": [
        "info_device()    \n",
        "out = trainer.train()"
      ],
      "execution_count": 115,
      "outputs": [
        {
          "output_type": "stream",
          "text": [
            "\n",
            "Using GPU Tesla P100-PCIE-16GB. \n",
            "\n"
          ],
          "name": "stdout"
        },
        {
          "output_type": "display_data",
          "data": {
            "text/html": [
              "\n",
              "    <div>\n",
              "      \n",
              "      <progress value='11124' max='11124' style='width:300px; height:20px; vertical-align: middle;'></progress>\n",
              "      [11124/11124 2:20:25, Epoch 3/3]\n",
              "    </div>\n",
              "    <table border=\"1\" class=\"dataframe\">\n",
              "  <thead>\n",
              "    <tr style=\"text-align: left;\">\n",
              "      <th>Epoch</th>\n",
              "      <th>Training Loss</th>\n",
              "      <th>Validation Loss</th>\n",
              "    </tr>\n",
              "  </thead>\n",
              "  <tbody>\n",
              "    <tr>\n",
              "      <td>1</td>\n",
              "      <td>1.351000</td>\n",
              "      <td>1.043283</td>\n",
              "    </tr>\n",
              "    <tr>\n",
              "      <td>2</td>\n",
              "      <td>0.726700</td>\n",
              "      <td>1.072840</td>\n",
              "    </tr>\n",
              "    <tr>\n",
              "      <td>3</td>\n",
              "      <td>0.406700</td>\n",
              "      <td>1.296904</td>\n",
              "    </tr>\n",
              "  </tbody>\n",
              "</table><p>"
            ],
            "text/plain": [
              "<IPython.core.display.HTML object>"
            ]
          },
          "metadata": {
            "tags": []
          }
        }
      ]
    },
    {
      "cell_type": "markdown",
      "metadata": {
        "id": "RFsuoranIfjQ"
      },
      "source": [
        "Now it is necesary to perform some operation to get the final results. We need to load the saved checkpoint and extract the information. Mention Hugging Face does not provide the training time per epoch, only total one. Due to that, we assume an equal distribution of time in each epoch."
      ]
    },
    {
      "cell_type": "code",
      "metadata": {
        "id": "rHbVFmrCCOqc"
      },
      "source": [
        "checkpoint = qa_dir/f'checkpoint-{out.global_step}/trainer_state.json'\n",
        "\n",
        "with open(checkpoint) as json_file:\n",
        "    train_dic = json.load(json_file)\n",
        "\n",
        "total_train_time = out.metrics['train_runtime']\n",
        "training_stats = []\n",
        "for i in range(epochs):\n",
        "    training_stats.append(\n",
        "                {\n",
        "                    'epoch': i + 1,\n",
        "                    'Training Loss': train_dic['log_history'][i*2]['loss'],\n",
        "                    'Validation Loss': train_dic['log_history'][i*2+1]['eval_loss'],\n",
        "                    'Validation Time':  format_time(train_dic['log_history'][i*2+1]['eval_runtime'])\n",
        "                }\n",
        "    )"
      ],
      "execution_count": 116,
      "outputs": []
    },
    {
      "cell_type": "code",
      "metadata": {
        "id": "IfjbYPTqDt4w",
        "colab": {
          "base_uri": "https://localhost:8080/",
          "height": 173
        },
        "outputId": "f8e212b4-8a2e-4c19-e7bc-372cd882e2b5"
      },
      "source": [
        "# Create a DataFrame from our training statistics.\n",
        "df_stats = pd.DataFrame(data=training_stats)\n",
        "df_stats['Training Time'] = format_time(total_train_time/epochs)\n",
        "\n",
        "# Use the 'epoch' as the row index.\n",
        "df_stats = df_stats.set_index('epoch')\n",
        "df_stats = df_stats[['Training Loss', 'Validation Loss', 'Training Time', 'Validation Time']]\n",
        "\n",
        "# Save data frame\n",
        "df_stats.to_excel(qa_dir/'training_stats.xlsx')\n",
        "\n",
        "df_stats"
      ],
      "execution_count": 117,
      "outputs": [
        {
          "output_type": "execute_result",
          "data": {
            "text/html": [
              "<div>\n",
              "<style scoped>\n",
              "    .dataframe tbody tr th:only-of-type {\n",
              "        vertical-align: middle;\n",
              "    }\n",
              "\n",
              "    .dataframe tbody tr th {\n",
              "        vertical-align: top;\n",
              "    }\n",
              "\n",
              "    .dataframe thead th {\n",
              "        text-align: right;\n",
              "    }\n",
              "</style>\n",
              "<table border=\"1\" class=\"dataframe\">\n",
              "  <thead>\n",
              "    <tr style=\"text-align: right;\">\n",
              "      <th></th>\n",
              "      <th>Training Loss</th>\n",
              "      <th>Validation Loss</th>\n",
              "      <th>Training Time</th>\n",
              "      <th>Validation Time</th>\n",
              "    </tr>\n",
              "    <tr>\n",
              "      <th>epoch</th>\n",
              "      <th></th>\n",
              "      <th></th>\n",
              "      <th></th>\n",
              "      <th></th>\n",
              "    </tr>\n",
              "  </thead>\n",
              "  <tbody>\n",
              "    <tr>\n",
              "      <th>1</th>\n",
              "      <td>1.3510</td>\n",
              "      <td>1.043283</td>\n",
              "      <td>0:46:49</td>\n",
              "      <td>0:02:20</td>\n",
              "    </tr>\n",
              "    <tr>\n",
              "      <th>2</th>\n",
              "      <td>0.7267</td>\n",
              "      <td>1.072840</td>\n",
              "      <td>0:46:49</td>\n",
              "      <td>0:02:20</td>\n",
              "    </tr>\n",
              "    <tr>\n",
              "      <th>3</th>\n",
              "      <td>0.4067</td>\n",
              "      <td>1.296904</td>\n",
              "      <td>0:46:49</td>\n",
              "      <td>0:02:20</td>\n",
              "    </tr>\n",
              "  </tbody>\n",
              "</table>\n",
              "</div>"
            ],
            "text/plain": [
              "       Training Loss  Validation Loss Training Time Validation Time\n",
              "epoch                                                              \n",
              "1             1.3510         1.043283       0:46:49         0:02:20\n",
              "2             0.7267         1.072840       0:46:49         0:02:20\n",
              "3             0.4067         1.296904       0:46:49         0:02:20"
            ]
          },
          "metadata": {
            "tags": []
          },
          "execution_count": 117
        }
      ]
    },
    {
      "cell_type": "code",
      "metadata": {
        "id": "DzyvvSLKHdGF",
        "colab": {
          "base_uri": "https://localhost:8080/",
          "height": 427
        },
        "outputId": "d9a3e99f-df1c-4222-f405-e4816391f61c"
      },
      "source": [
        "plot_loss_curves(df_stats)"
      ],
      "execution_count": 118,
      "outputs": [
        {
          "output_type": "display_data",
          "data": {
            "image/png": "[encoded data removed]",
            "text/plain": [
              "<Figure size 864x432 with 1 Axes>"
            ]
          },
          "metadata": {
            "tags": []
          }
        }
      ]
    },
    {
      "cell_type": "markdown",
      "metadata": {
        "id": "-mSjPuJZ-XTl"
      },
      "source": [
        "### 6.5.2 - Save and load model"
      ]
    },
    {
      "cell_type": "markdown",
      "metadata": {
        "id": "w13kj3lHKLIv"
      },
      "source": [
        "Save the model and the corresponding state."
      ]
    },
    {
      "cell_type": "code",
      "metadata": {
        "id": "k4KKmHUcJeQv",
        "colab": {
          "base_uri": "https://localhost:8080/"
        },
        "outputId": "c72165f3-8562-48bb-96ac-c43fb06fdf1b"
      },
      "source": [
        "print('Saving model, tokenizer and training arguments...')\n",
        "trainer.save_model()\n",
        "trainer.save_state()\n",
        "\n",
        "print('Saving training statistics..')\n",
        "save_json(qa_dir/'training_stats.json', training_stats)"
      ],
      "execution_count": 119,
      "outputs": [
        {
          "output_type": "stream",
          "text": [
            "Saving model, tokenizer and training arguments...\n",
            "Saving training statistics..\n"
          ],
          "name": "stdout"
        }
      ]
    },
    {
      "cell_type": "markdown",
      "metadata": {
        "id": "J2R7Zlxw_JCf"
      },
      "source": [
        "And if we want to load it again."
      ]
    },
    {
      "cell_type": "code",
      "metadata": {
        "id": "kUK3eaRs_Lum"
      },
      "source": [
        "'''bert_qa = BertForQuestionAnswering.from_pretrained(qa_dir)\n",
        "bert_qa.to(device)\n",
        "trainer = Trainer(\n",
        "    bert_qa,\n",
        "    args,\n",
        "    train_dataset=tokenized_datasets[\"train\"],\n",
        "    eval_dataset=tokenized_datasets[\"validation\"],\n",
        "    data_collator=default_data_collator,\n",
        "    tokenizer=tokenizer\n",
        ")'''"
      ],
      "execution_count": null,
      "outputs": []
    },
    {
      "cell_type": "markdown",
      "metadata": {
        "id": "jv56bYwLH1IG"
      },
      "source": [
        "## 6.6 - Evaluation"
      ]
    },
    {
      "cell_type": "markdown",
      "metadata": {
        "id": "6xr8LoOJWdpV"
      },
      "source": [
        "Once the model is trained, in order to perform the predictions and get an intuition about the result, we need to map the predictions back to parts of the context. The model itself predicts logits for the start and end position of our answers. The output of the model is a dict-like object that contains the loss (since we provided labels), the start and end logits. "
      ]
    },
    {
      "cell_type": "code",
      "metadata": {
        "id": "FZ2CpVHdH5Ic",
        "colab": {
          "base_uri": "https://localhost:8080/"
        },
        "outputId": "48ed2ac4-813d-4ce5-f096-ea3c3b208ef2"
      },
      "source": [
        "for batch in trainer.get_test_dataloader(tokenized_datasets['test']):\n",
        "    break\n",
        "batch = {k: v.to(trainer.args.device) for k, v in batch.items()}\n",
        "with torch.no_grad():\n",
        "    output = bert_qa(**batch)\n",
        "\n",
        "print('Output of the model')\n",
        "print(output.keys())\n",
        "print('\\nDimension start and end logits')\n",
        "print(tuple(output.start_logits.shape))"
      ],
      "execution_count": 121,
      "outputs": [
        {
          "output_type": "stream",
          "text": [
            "Output of the model\n",
            "odict_keys(['loss', 'start_logits', 'end_logits'])\n",
            "\n",
            "Dimension start and end logits\n",
            "(16, 384)\n"
          ],
          "name": "stdout"
        }
      ]
    },
    {
      "cell_type": "markdown",
      "metadata": {
        "id": "e_dH31wtYt8U"
      },
      "source": [
        "There is one logit per feature and token. One idea to predict an answer is to take the index for the maximum of the start logits as a star position and the index of the maximum of the ends logits as an end position. The problem is if this prediction gives us an impossible result, as a greater start position than the end one.\n",
        "\n",
        "To classify the answer, we add the start and end logits to obtain a score. With hyper-parameter `n_best_size` we limit the possible answers. Best indices in the start and end logits are picked and gather all the answers this predicts. After checking if each one is valid, we will sort them by their score and keep the best one."
      ]
    },
    {
      "cell_type": "markdown",
      "metadata": {
        "id": "8mwi1uEyE7Fo"
      },
      "source": [
        "And then we can sort the `valid_answers` according to their `score` and only keep the best one. The only point left is how to check a given span is inside the context (and not the question) and how to get back the text inside. To do this, we need to add two things to our validation features:\n",
        "- the ID of the example that generated the feature (since each example can generate several features, as seen before);\n",
        "- the offset mapping that will give us a map from token indices to character positions in the context.\n",
        "\n",
        "That's why we will re-process the validation set with the following function."
      ]
    },
    {
      "cell_type": "code",
      "metadata": {
        "id": "yQVj0dCbNJbl"
      },
      "source": [
        "def prepare_test_features(examples):\n",
        "    # Tokenize our examples with truncation and maybe padding, but keep the overflows using a stride. This results\n",
        "    # in one example possible giving several features when a context is long, each of those features having a\n",
        "    # context that overlaps a bit the context of the previous feature.\n",
        "    tokenized_examples = tokenizer(\n",
        "        examples[\"question\"],\n",
        "        examples[\"context\"],\n",
        "        truncation=\"only_second\",\n",
        "        max_length=max_length,\n",
        "        stride=doc_stride,\n",
        "        return_overflowing_tokens=True,\n",
        "        return_offsets_mapping=True,\n",
        "        padding=\"max_length\"\n",
        "    )\n",
        "\n",
        "    # Since one example might give us several features if it has a long context, we need a map from a feature to\n",
        "    # its corresponding example. This key gives us just that.\n",
        "    sample_mapping = tokenized_examples.pop(\"overflow_to_sample_mapping\")\n",
        "\n",
        "    # We keep the example_id that gave us this feature and we will store the offset mappings.\n",
        "    tokenized_examples[\"example_id\"] = []\n",
        "\n",
        "    for i in range(len(tokenized_examples[\"input_ids\"])):\n",
        "        # Grab the sequence corresponding to that example (to know what is the context and what is the question).\n",
        "        sequence_ids = tokenized_examples.sequence_ids(i)\n",
        "\n",
        "        # One example can give several spans, this is the index of the example containing this span of text.\n",
        "        sample_index = sample_mapping[i]\n",
        "        tokenized_examples[\"example_id\"].append(examples[\"id\"][sample_index])\n",
        "\n",
        "        # Set to None the offset_mapping that are not part of the context so it's easy to determine if a token\n",
        "        # position is part of the context or not.\n",
        "        tokenized_examples[\"offset_mapping\"][i] = [\n",
        "            (o if sequence_ids[k] == 1 else None)\n",
        "            for k, o in enumerate(tokenized_examples[\"offset_mapping\"][i])\n",
        "        ]\n",
        "\n",
        "    return tokenized_examples"
      ],
      "execution_count": 122,
      "outputs": []
    },
    {
      "cell_type": "markdown",
      "metadata": {
        "id": "P1oLfP50bSAU"
      },
      "source": [
        "And like before, we can apply that function to our test set easily."
      ]
    },
    {
      "cell_type": "code",
      "metadata": {
        "id": "8ysa43PrQhhE",
        "colab": {
          "base_uri": "https://localhost:8080/",
          "height": 66,
          "referenced_widgets": [
            "856056c4642b4429af66ebeb631b84da",
            "7ed69ba4d23341cbb9336b0789fbf8e3",
            "87d0dead72df43f4b34af202e9aaddc3",
            "39c51d45461f41a99858a7152ca4094c",
            "03d48ffab67d46b7accda89888d0a85b",
            "a0e4162e8a054cefbe06d5998f966c0c",
            "0b72447fda4c4b4cba86a3b3cd060206",
            "2827b3ba903241f8b0db34a65d5d5ba7"
          ]
        },
        "outputId": "18968f32-f2ad-4e8e-cb68-9499dd0a4a47"
      },
      "source": [
        "test_features = datasets['test'].map(\n",
        "    prepare_test_features,\n",
        "    batched=True,\n",
        "    remove_columns=datasets['test'].column_names\n",
        ")\n",
        "test_features = test_features.add_column('start_positions', tokenized_datasets['test']['start_positions'])\n",
        "test_features = test_features.add_column('end_positions', tokenized_datasets['test']['end_positions'])"
      ],
      "execution_count": 123,
      "outputs": [
        {
          "output_type": "display_data",
          "data": {
            "application/vnd.jupyter.widget-view+json": {
              "model_id": "856056c4642b4429af66ebeb631b84da",
              "version_minor": 0,
              "version_major": 2
            },
            "text/plain": [
              "HBox(children=(FloatProgress(value=0.0, max=29.0), HTML(value='')))"
            ]
          },
          "metadata": {
            "tags": []
          }
        },
        {
          "output_type": "stream",
          "text": [
            "\n"
          ],
          "name": "stdout"
        }
      ]
    },
    {
      "cell_type": "markdown",
      "metadata": {
        "id": "dnN3-DI6bXG2"
      },
      "source": [
        "Now we can get the predictions and the metrics for all features by using the [`predict`](https://huggingface.co/transformers/main_classes/trainer.html?highlight=trainer%20predict#transformers.Trainer.predict)."
      ]
    },
    {
      "cell_type": "code",
      "metadata": {
        "id": "a7aw7mq9RM0F",
        "colab": {
          "base_uri": "https://localhost:8080/",
          "height": 459
        },
        "outputId": "82b1aafc-e717-4e03-f60e-f51d246446c2"
      },
      "source": [
        "info_device()\n",
        "print('Testing\\n')\n",
        "raw_predictions = trainer.predict(test_features)\n",
        "\n",
        "test_stats = {\n",
        "    'test_loss': raw_predictions.metrics['test_loss'],\n",
        "    'test_runtime': format_time(raw_predictions.metrics['test_runtime'])\n",
        "}\n",
        "\n",
        "print('\\n')\n",
        "print(f\"{'Test Loss':^12} | {'Test time':^11}\")\n",
        "print(\"-\"*27)\n",
        "print(f\"{test_stats['test_loss']:^12.6f} | {test_stats['test_runtime']:^11}\")\n",
        "print(\"-\"*27)"
      ],
      "execution_count": 124,
      "outputs": [
        {
          "output_type": "stream",
          "text": [
            "\n",
            "Using GPU Tesla P100-PCIE-16GB. \n",
            "\n",
            "Testing\n",
            "\n"
          ],
          "name": "stdout"
        },
        {
          "output_type": "error",
          "ename": "RuntimeError",
          "evalue": "ignored",
          "traceback": [
            "\u001b[0;31m---------------------------------------------------------------------------\u001b[0m",
            "\u001b[0;31mRuntimeError\u001b[0m                              Traceback (most recent call last)",
            "\u001b[0;32m<ipython-input-124-e1559867ac0b>\u001b[0m in \u001b[0;36m<module>\u001b[0;34m()\u001b[0m\n\u001b[1;32m      1\u001b[0m \u001b[0minfo_device\u001b[0m\u001b[0;34m(\u001b[0m\u001b[0;34m)\u001b[0m\u001b[0;34m\u001b[0m\u001b[0;34m\u001b[0m\u001b[0m\n\u001b[1;32m      2\u001b[0m \u001b[0mprint\u001b[0m\u001b[0;34m(\u001b[0m\u001b[0;34m'Testing\\n'\u001b[0m\u001b[0;34m)\u001b[0m\u001b[0;34m\u001b[0m\u001b[0;34m\u001b[0m\u001b[0m\n\u001b[0;32m----> 3\u001b[0;31m \u001b[0mraw_predictions\u001b[0m \u001b[0;34m=\u001b[0m \u001b[0mtrainer\u001b[0m\u001b[0;34m.\u001b[0m\u001b[0mpredict\u001b[0m\u001b[0;34m(\u001b[0m\u001b[0mtest_features\u001b[0m\u001b[0;34m)\u001b[0m\u001b[0;34m\u001b[0m\u001b[0;34m\u001b[0m\u001b[0m\n\u001b[0m\u001b[1;32m      4\u001b[0m \u001b[0;34m\u001b[0m\u001b[0m\n\u001b[1;32m      5\u001b[0m test_stats = {\n",
            "\u001b[0;32m/usr/local/lib/python3.7/dist-packages/transformers/trainer.py\u001b[0m in \u001b[0;36mpredict\u001b[0;34m(self, test_dataset, ignore_keys, metric_key_prefix)\u001b[0m\n\u001b[1;32m   2064\u001b[0m         \u001b[0meval_loop\u001b[0m \u001b[0;34m=\u001b[0m \u001b[0mself\u001b[0m\u001b[0;34m.\u001b[0m\u001b[0mprediction_loop\u001b[0m \u001b[0;32mif\u001b[0m \u001b[0mself\u001b[0m\u001b[0;34m.\u001b[0m\u001b[0margs\u001b[0m\u001b[0;34m.\u001b[0m\u001b[0muse_legacy_prediction_loop\u001b[0m \u001b[0;32melse\u001b[0m \u001b[0mself\u001b[0m\u001b[0;34m.\u001b[0m\u001b[0mevaluation_loop\u001b[0m\u001b[0;34m\u001b[0m\u001b[0;34m\u001b[0m\u001b[0m\n\u001b[1;32m   2065\u001b[0m         output = eval_loop(\n\u001b[0;32m-> 2066\u001b[0;31m             \u001b[0mtest_dataloader\u001b[0m\u001b[0;34m,\u001b[0m \u001b[0mdescription\u001b[0m\u001b[0;34m=\u001b[0m\u001b[0;34m\"Prediction\"\u001b[0m\u001b[0;34m,\u001b[0m \u001b[0mignore_keys\u001b[0m\u001b[0;34m=\u001b[0m\u001b[0mignore_keys\u001b[0m\u001b[0;34m,\u001b[0m \u001b[0mmetric_key_prefix\u001b[0m\u001b[0;34m=\u001b[0m\u001b[0mmetric_key_prefix\u001b[0m\u001b[0;34m\u001b[0m\u001b[0;34m\u001b[0m\u001b[0m\n\u001b[0m\u001b[1;32m   2067\u001b[0m         )\n\u001b[1;32m   2068\u001b[0m         \u001b[0moutput\u001b[0m\u001b[0;34m.\u001b[0m\u001b[0mmetrics\u001b[0m\u001b[0;34m.\u001b[0m\u001b[0mupdate\u001b[0m\u001b[0;34m(\u001b[0m\u001b[0mspeed_metrics\u001b[0m\u001b[0;34m(\u001b[0m\u001b[0mmetric_key_prefix\u001b[0m\u001b[0;34m,\u001b[0m \u001b[0mstart_time\u001b[0m\u001b[0;34m,\u001b[0m \u001b[0moutput\u001b[0m\u001b[0;34m.\u001b[0m\u001b[0mnum_samples\u001b[0m\u001b[0;34m)\u001b[0m\u001b[0;34m)\u001b[0m\u001b[0;34m\u001b[0m\u001b[0;34m\u001b[0m\u001b[0m\n",
            "\u001b[0;32m/usr/local/lib/python3.7/dist-packages/transformers/trainer.py\u001b[0m in \u001b[0;36mevaluation_loop\u001b[0;34m(self, dataloader, description, prediction_loss_only, ignore_keys, metric_key_prefix)\u001b[0m\n\u001b[1;32m   2145\u001b[0m         \u001b[0mobserved_num_examples\u001b[0m \u001b[0;34m=\u001b[0m \u001b[0;36m0\u001b[0m\u001b[0;34m\u001b[0m\u001b[0;34m\u001b[0m\u001b[0m\n\u001b[1;32m   2146\u001b[0m         \u001b[0;31m# Main evaluation loop\u001b[0m\u001b[0;34m\u001b[0m\u001b[0;34m\u001b[0m\u001b[0;34m\u001b[0m\u001b[0m\n\u001b[0;32m-> 2147\u001b[0;31m         \u001b[0;32mfor\u001b[0m \u001b[0mstep\u001b[0m\u001b[0;34m,\u001b[0m \u001b[0minputs\u001b[0m \u001b[0;32min\u001b[0m \u001b[0menumerate\u001b[0m\u001b[0;34m(\u001b[0m\u001b[0mdataloader\u001b[0m\u001b[0;34m)\u001b[0m\u001b[0;34m:\u001b[0m\u001b[0;34m\u001b[0m\u001b[0;34m\u001b[0m\u001b[0m\n\u001b[0m\u001b[1;32m   2148\u001b[0m             \u001b[0;31m# Update the observed num examples\u001b[0m\u001b[0;34m\u001b[0m\u001b[0;34m\u001b[0m\u001b[0;34m\u001b[0m\u001b[0m\n\u001b[1;32m   2149\u001b[0m             \u001b[0mobserved_batch_size\u001b[0m \u001b[0;34m=\u001b[0m \u001b[0mfind_batch_size\u001b[0m\u001b[0;34m(\u001b[0m\u001b[0minputs\u001b[0m\u001b[0;34m)\u001b[0m\u001b[0;34m\u001b[0m\u001b[0;34m\u001b[0m\u001b[0m\n",
            "\u001b[0;32m/usr/local/lib/python3.7/dist-packages/torch/utils/data/dataloader.py\u001b[0m in \u001b[0;36m__next__\u001b[0;34m(self)\u001b[0m\n\u001b[1;32m    515\u001b[0m             \u001b[0;32mif\u001b[0m \u001b[0mself\u001b[0m\u001b[0;34m.\u001b[0m\u001b[0m_sampler_iter\u001b[0m \u001b[0;32mis\u001b[0m \u001b[0;32mNone\u001b[0m\u001b[0;34m:\u001b[0m\u001b[0;34m\u001b[0m\u001b[0;34m\u001b[0m\u001b[0m\n\u001b[1;32m    516\u001b[0m                 \u001b[0mself\u001b[0m\u001b[0;34m.\u001b[0m\u001b[0m_reset\u001b[0m\u001b[0;34m(\u001b[0m\u001b[0;34m)\u001b[0m\u001b[0;34m\u001b[0m\u001b[0;34m\u001b[0m\u001b[0m\n\u001b[0;32m--> 517\u001b[0;31m             \u001b[0mdata\u001b[0m \u001b[0;34m=\u001b[0m \u001b[0mself\u001b[0m\u001b[0;34m.\u001b[0m\u001b[0m_next_data\u001b[0m\u001b[0;34m(\u001b[0m\u001b[0;34m)\u001b[0m\u001b[0;34m\u001b[0m\u001b[0;34m\u001b[0m\u001b[0m\n\u001b[0m\u001b[1;32m    518\u001b[0m             \u001b[0mself\u001b[0m\u001b[0;34m.\u001b[0m\u001b[0m_num_yielded\u001b[0m \u001b[0;34m+=\u001b[0m \u001b[0;36m1\u001b[0m\u001b[0;34m\u001b[0m\u001b[0;34m\u001b[0m\u001b[0m\n\u001b[1;32m    519\u001b[0m             \u001b[0;32mif\u001b[0m \u001b[0mself\u001b[0m\u001b[0;34m.\u001b[0m\u001b[0m_dataset_kind\u001b[0m \u001b[0;34m==\u001b[0m \u001b[0m_DatasetKind\u001b[0m\u001b[0;34m.\u001b[0m\u001b[0mIterable\u001b[0m \u001b[0;32mand\u001b[0m\u001b[0;31m \u001b[0m\u001b[0;31m\\\u001b[0m\u001b[0;34m\u001b[0m\u001b[0;34m\u001b[0m\u001b[0m\n",
            "\u001b[0;32m/usr/local/lib/python3.7/dist-packages/torch/utils/data/dataloader.py\u001b[0m in \u001b[0;36m_next_data\u001b[0;34m(self)\u001b[0m\n\u001b[1;32m    555\u001b[0m     \u001b[0;32mdef\u001b[0m \u001b[0m_next_data\u001b[0m\u001b[0;34m(\u001b[0m\u001b[0mself\u001b[0m\u001b[0;34m)\u001b[0m\u001b[0;34m:\u001b[0m\u001b[0;34m\u001b[0m\u001b[0;34m\u001b[0m\u001b[0m\n\u001b[1;32m    556\u001b[0m         \u001b[0mindex\u001b[0m \u001b[0;34m=\u001b[0m \u001b[0mself\u001b[0m\u001b[0;34m.\u001b[0m\u001b[0m_next_index\u001b[0m\u001b[0;34m(\u001b[0m\u001b[0;34m)\u001b[0m  \u001b[0;31m# may raise StopIteration\u001b[0m\u001b[0;34m\u001b[0m\u001b[0;34m\u001b[0m\u001b[0m\n\u001b[0;32m--> 557\u001b[0;31m         \u001b[0mdata\u001b[0m \u001b[0;34m=\u001b[0m \u001b[0mself\u001b[0m\u001b[0;34m.\u001b[0m\u001b[0m_dataset_fetcher\u001b[0m\u001b[0;34m.\u001b[0m\u001b[0mfetch\u001b[0m\u001b[0;34m(\u001b[0m\u001b[0mindex\u001b[0m\u001b[0;34m)\u001b[0m  \u001b[0;31m# may raise StopIteration\u001b[0m\u001b[0;34m\u001b[0m\u001b[0;34m\u001b[0m\u001b[0m\n\u001b[0m\u001b[1;32m    558\u001b[0m         \u001b[0;32mif\u001b[0m \u001b[0mself\u001b[0m\u001b[0;34m.\u001b[0m\u001b[0m_pin_memory\u001b[0m\u001b[0;34m:\u001b[0m\u001b[0;34m\u001b[0m\u001b[0;34m\u001b[0m\u001b[0m\n\u001b[1;32m    559\u001b[0m             \u001b[0mdata\u001b[0m \u001b[0;34m=\u001b[0m \u001b[0m_utils\u001b[0m\u001b[0;34m.\u001b[0m\u001b[0mpin_memory\u001b[0m\u001b[0;34m.\u001b[0m\u001b[0mpin_memory\u001b[0m\u001b[0;34m(\u001b[0m\u001b[0mdata\u001b[0m\u001b[0;34m)\u001b[0m\u001b[0;34m\u001b[0m\u001b[0;34m\u001b[0m\u001b[0m\n",
            "\u001b[0;32m/usr/local/lib/python3.7/dist-packages/torch/utils/data/_utils/fetch.py\u001b[0m in \u001b[0;36mfetch\u001b[0;34m(self, possibly_batched_index)\u001b[0m\n\u001b[1;32m     45\u001b[0m         \u001b[0;32melse\u001b[0m\u001b[0;34m:\u001b[0m\u001b[0;34m\u001b[0m\u001b[0;34m\u001b[0m\u001b[0m\n\u001b[1;32m     46\u001b[0m             \u001b[0mdata\u001b[0m \u001b[0;34m=\u001b[0m \u001b[0mself\u001b[0m\u001b[0;34m.\u001b[0m\u001b[0mdataset\u001b[0m\u001b[0;34m[\u001b[0m\u001b[0mpossibly_batched_index\u001b[0m\u001b[0;34m]\u001b[0m\u001b[0;34m\u001b[0m\u001b[0;34m\u001b[0m\u001b[0m\n\u001b[0;32m---> 47\u001b[0;31m         \u001b[0;32mreturn\u001b[0m \u001b[0mself\u001b[0m\u001b[0;34m.\u001b[0m\u001b[0mcollate_fn\u001b[0m\u001b[0;34m(\u001b[0m\u001b[0mdata\u001b[0m\u001b[0;34m)\u001b[0m\u001b[0;34m\u001b[0m\u001b[0;34m\u001b[0m\u001b[0m\n\u001b[0m",
            "\u001b[0;32m/usr/local/lib/python3.7/dist-packages/transformers/data/data_collator.py\u001b[0m in \u001b[0;36mdefault_data_collator\u001b[0;34m(features)\u001b[0m\n\u001b[1;32m     78\u001b[0m                 \u001b[0mbatch\u001b[0m\u001b[0;34m[\u001b[0m\u001b[0mk\u001b[0m\u001b[0;34m]\u001b[0m \u001b[0;34m=\u001b[0m \u001b[0mtorch\u001b[0m\u001b[0;34m.\u001b[0m\u001b[0mstack\u001b[0m\u001b[0;34m(\u001b[0m\u001b[0;34m[\u001b[0m\u001b[0mf\u001b[0m\u001b[0;34m[\u001b[0m\u001b[0mk\u001b[0m\u001b[0;34m]\u001b[0m \u001b[0;32mfor\u001b[0m \u001b[0mf\u001b[0m \u001b[0;32min\u001b[0m \u001b[0mfeatures\u001b[0m\u001b[0;34m]\u001b[0m\u001b[0;34m)\u001b[0m\u001b[0;34m\u001b[0m\u001b[0;34m\u001b[0m\u001b[0m\n\u001b[1;32m     79\u001b[0m             \u001b[0;32melse\u001b[0m\u001b[0;34m:\u001b[0m\u001b[0;34m\u001b[0m\u001b[0;34m\u001b[0m\u001b[0m\n\u001b[0;32m---> 80\u001b[0;31m                 \u001b[0mbatch\u001b[0m\u001b[0;34m[\u001b[0m\u001b[0mk\u001b[0m\u001b[0;34m]\u001b[0m \u001b[0;34m=\u001b[0m \u001b[0mtorch\u001b[0m\u001b[0;34m.\u001b[0m\u001b[0mtensor\u001b[0m\u001b[0;34m(\u001b[0m\u001b[0;34m[\u001b[0m\u001b[0mf\u001b[0m\u001b[0;34m[\u001b[0m\u001b[0mk\u001b[0m\u001b[0;34m]\u001b[0m \u001b[0;32mfor\u001b[0m \u001b[0mf\u001b[0m \u001b[0;32min\u001b[0m \u001b[0mfeatures\u001b[0m\u001b[0;34m]\u001b[0m\u001b[0;34m)\u001b[0m\u001b[0;34m\u001b[0m\u001b[0;34m\u001b[0m\u001b[0m\n\u001b[0m\u001b[1;32m     81\u001b[0m \u001b[0;34m\u001b[0m\u001b[0m\n\u001b[1;32m     82\u001b[0m     \u001b[0;32mreturn\u001b[0m \u001b[0mbatch\u001b[0m\u001b[0;34m\u001b[0m\u001b[0;34m\u001b[0m\u001b[0m\n",
            "\u001b[0;31mRuntimeError\u001b[0m: Could not infer dtype of NoneType"
          ]
        }
      ]
    },
    {
      "cell_type": "code",
      "metadata": {
        "id": "-tq29b5KZJQ9"
      },
      "source": [
        "print('Saving test statistics...')\n",
        "save_json(qa_dir/'test_stats.json', test_stats)"
      ],
      "execution_count": null,
      "outputs": []
    },
    {
      "cell_type": "markdown",
      "metadata": {
        "id": "qbG4KyzJbut_"
      },
      "source": [
        "The `Trainer` *hides* the columns that are not used by the model (here `example_id` and `offset_mapping` which we will need for our post-processing), so we set them back:"
      ]
    },
    {
      "cell_type": "code",
      "metadata": {
        "id": "s0d33x7Me3OW"
      },
      "source": [
        "test_features.set_format(type=test_features.format[\"type\"], columns=list(test_features.features.keys()))"
      ],
      "execution_count": null,
      "outputs": []
    },
    {
      "cell_type": "markdown",
      "metadata": {
        "id": "YkeV1CEqcHsW"
      },
      "source": [
        "We set `None` in the offset mappings when it corresponds to a part of the question, so it's easy to check if an answer is fully inside the context. We also eliminate very long answers from our considerations with hyper-parameter `max_answer_length`.\n",
        "\n",
        "We also need a map between examples and their corresponding features. Also, we gather together all the answers in all the features generated by a given example, then pick the best one.\n",
        "\n",
        "The last bit to deal with is the impossible answer (when `squad_v2 = True`). We need to also grab the score for the impossible answer (which has start and end indices corresponding to the index of the CLS token). When one example gives several features, we have to predict the impossible answer when all the features give a high score to the impossible answer, since one feature could predict the impossible answer just because the answer isn't in the part of the context it has access too. We then predict the impossible answer when that score is greater than the score of the best non-impossible answer. "
      ]
    },
    {
      "cell_type": "code",
      "metadata": {
        "id": "OpR-1V_cwz8O"
      },
      "source": [
        "import collections\n",
        "from tqdm.auto import tqdm\n",
        "\n",
        "def postprocess_predictions(examples, features, raw_predictions, n_best_size = 20, max_answer_length = 30):\n",
        "    m = nn.Softmax(dim=1)\n",
        "    all_start_logits, all_end_logits = raw_predictions\n",
        "    # Build a map example to its corresponding features.\n",
        "    example_id_to_index = {k: i for i, k in enumerate(examples[\"id\"])}\n",
        "    features_per_example = collections.defaultdict(list)\n",
        "    for i, feature in enumerate(features):\n",
        "        features_per_example[example_id_to_index[feature[\"example_id\"]]].append(i)\n",
        "\n",
        "    # The dictionaries we have to fill.\n",
        "    predictions = collections.OrderedDict()\n",
        "\n",
        "    # Logging.\n",
        "    print(f\"Post-processing {len(examples)} example predictions split into {len(features)} features.\")\n",
        "\n",
        "    # Let's loop over all the examples!\n",
        "    for example_index, example in enumerate(tqdm(examples)):\n",
        "        # Those are the indices of the features associated to the current example.\n",
        "        feature_indices = features_per_example[example_index]\n",
        "\n",
        "        min_null_score = None # Only used if squad_v2 is True.\n",
        "        valid_answers = []\n",
        "        \n",
        "        context = example[\"context\"]\n",
        "        # Looping through all the features associated to the current example.\n",
        "        for feature_index in feature_indices:\n",
        "            # We grab the predictions of the model for this feature.\n",
        "            start_logits = all_start_logits[feature_index]\n",
        "            end_logits = all_end_logits[feature_index]\n",
        "            # This is what will allow us to map some the positions in our logits to span of texts in the original\n",
        "            # context.\n",
        "            offset_mapping = features[feature_index][\"offset_mapping\"]\n",
        "\n",
        "            # Update minimum null prediction.\n",
        "            cls_index = features[feature_index][\"input_ids\"].index(tokenizer.cls_token_id)\n",
        "            feature_null_score = start_logits[cls_index] + end_logits[cls_index]\n",
        "            if min_null_score is None or min_null_score < feature_null_score:\n",
        "                min_null_score = feature_null_score\n",
        "\n",
        "            # Go through all possibilities for the `n_best_size` greater start and end logits.\n",
        "            start_indexes = np.argsort(start_logits)[-1 : -n_best_size - 1 : -1].tolist()\n",
        "            end_indexes = np.argsort(end_logits)[-1 : -n_best_size - 1 : -1].tolist()\n",
        "            for start_index in start_indexes:\n",
        "                for end_index in end_indexes:\n",
        "                    # Don't consider out-of-scope answers, either because the indices are out of bounds or correspond\n",
        "                    # to part of the input_ids that are not in the context.\n",
        "                    if (\n",
        "                        start_index >= len(offset_mapping)\n",
        "                        or end_index >= len(offset_mapping)\n",
        "                        or offset_mapping[start_index] is None\n",
        "                        or offset_mapping[end_index] is None\n",
        "                    ):\n",
        "                        continue\n",
        "                    # Don't consider answers with a length that is either < 0 or > max_answer_length.\n",
        "                    if end_index < start_index or end_index - start_index + 1 > max_answer_length:\n",
        "                        continue\n",
        "\n",
        "                    start_char = offset_mapping[start_index][0]\n",
        "                    end_char = offset_mapping[end_index][1]\n",
        "                    valid_answers.append(\n",
        "                        {\n",
        "                            \"score\": start_logits[start_index] + end_logits[end_index],\n",
        "                            \"text\": context[start_char: end_char]\n",
        "                        }\n",
        "                    )\n",
        "        \n",
        "        if len(valid_answers) > 0:\n",
        "            best_answer = sorted(valid_answers, key=lambda x: x[\"score\"], reverse=True)[0]\n",
        "        else:\n",
        "            # In the very rare edge case we have not a single non-null prediction, we create a fake prediction to avoid\n",
        "            # failure.\n",
        "            best_answer = {\"text\": \"\", \"score\": 0.0}\n",
        "\n",
        "        # Let's pick our final answer: the best one or the null answer (only for squad_v2)\n",
        "        if not squad_v2:\n",
        "            predictions[example[\"id\"]] = best_answer[\"text\"]\n",
        "        else:\n",
        "            predictions[example[\"id\"]] = best_answer[\"text\"] if best_answer[\"score\"] > min_null_score else ''\n",
        "\n",
        "    return predictions"
      ],
      "execution_count": null,
      "outputs": []
    },
    {
      "cell_type": "markdown",
      "metadata": {
        "id": "4MbIqiaakkbH"
      },
      "source": [
        "And we can apply our post-processing function to our raw predictions:"
      ]
    },
    {
      "cell_type": "code",
      "metadata": {
        "id": "trrh8PkOerpE"
      },
      "source": [
        "final_predictions = postprocess_predictions(datasets['test'], test_features, raw_predictions.predictions)"
      ],
      "execution_count": null,
      "outputs": []
    },
    {
      "cell_type": "markdown",
      "metadata": {
        "id": "RHwf6B2iNKDI"
      },
      "source": [
        "Now it is necessary to indicate how to compute metrics from the predictions. We use a [`metric`](https://huggingface.co/docs/datasets/package_reference/main_classes.html#datasets.Metric) which is in charge of compute the corresponding metrics for each model. We load it using the class method [`load_metric`](https://huggingface.co/docs/datasets/v1.4.1/package_reference/loading_methods.html?highlight=load_metric#datasets.load_metric)."
      ]
    },
    {
      "cell_type": "code",
      "metadata": {
        "id": "cu29AdtVe-kd"
      },
      "source": [
        "from datasets import load_metric\n",
        "\n",
        "metric = load_metric(\"squad_v2\" if squad_v2 else \"squad\")\n",
        "metric"
      ],
      "execution_count": null,
      "outputs": []
    },
    {
      "cell_type": "markdown",
      "metadata": {
        "id": "xrcNU7OykqAU"
      },
      "source": [
        "We just need to format predictions and labels a bit as it expects a list of dictionaries and not one big dictionary. In the case of squad_v2, we also have to set a `no_answer_probability` argument which we set to 0.0.\n",
        "\n",
        "Metrics computation returns:\n",
        "    \n",
        "- `exact_match`: exact match (the normalized answer exactly match the gold answer).\n",
        "\n",
        "- `f1`: the F-score of predicted tokens versus the gold answer."
      ]
    },
    {
      "cell_type": "code",
      "metadata": {
        "id": "SXzmbIchfLgv"
      },
      "source": [
        "if squad_v2:\n",
        "    formatted_predictions = [{\"id\": k, \"prediction_text\": v, \"no_answer_probability\": 0.0} for k, v in final_predictions.items()]\n",
        "else:\n",
        "    formatted_predictions = [{\"id\": k, \"prediction_text\": v} for k, v in final_predictions.items()]\n",
        "references = [{\"id\": ex[\"id\"], \"answers\": ex[\"answers\"]} for ex in datasets['test']]\n",
        "scores = metric.compute(predictions=formatted_predictions, references=references)\n",
        "\n",
        "print(f\"{'Exact match':^13} | {'f1 score':^10}\")\n",
        "print(26*'-')\n",
        "print(f\"{scores['exact_match']:^13.5f} | {scores['f1']:^10.5f}\")\n",
        "print(26*'-')"
      ],
      "execution_count": null,
      "outputs": []
    },
    {
      "cell_type": "code",
      "metadata": {
        "id": "z70BC9qnnH2I"
      },
      "source": [
        "def show_predictions(dataset, predictions, num_examples):\n",
        "    assert num_examples <= len(dataset), \"Can't pick more elements than there are in the dataset.\"\n",
        "    picks = []\n",
        "    for _ in range(num_examples):\n",
        "        pick = random.randint(0, len(dataset)-1)\n",
        "        while pick in picks:\n",
        "            pick = random.randint(0, len(dataset)-1)\n",
        "        picks.append(pick)\n",
        "    \n",
        "    df = pd.DataFrame(dataset[picks])\n",
        "    df.drop(['id', 'title'], axis=1, inplace=True)\n",
        "    df['answers'] = df['answers'].map(lambda dic: dic['text'][0]).values\n",
        "    df['predicted answers'] = [predictions[idx]['prediction_text'] for idx in picks]\n",
        "    df = df[['context', 'question', 'answers', 'predicted answers']]\n",
        "    for column, typ in dataset.features.items():\n",
        "        if isinstance(typ, ClassLabel):\n",
        "            df[column] = df[column].transform(lambda i: typ.names[i])\n",
        "        elif isinstance(typ, Sequence) and isinstance(typ.feature, ClassLabel):\n",
        "            df[column] = df[column].transform(lambda x: [typ.feature.names[i] for i in x])\n",
        "    display(HTML(df.to_html()))"
      ],
      "execution_count": null,
      "outputs": []
    },
    {
      "cell_type": "code",
      "metadata": {
        "id": "kojOMeuaoi5e"
      },
      "source": [
        "#@markdown Select number of examples to visualize it\n",
        "num_examples = 3 #@param {type:\"slider\", min:1, max:5, step:1}\n",
        "show_predictions(datasets['test'], formatted_predictions, num_examples)"
      ],
      "execution_count": null,
      "outputs": []
    },
    {
      "cell_type": "markdown",
      "metadata": {
        "id": "G5RmM7PStRs8"
      },
      "source": [
        "### 6.6.1 - Pipeline for Custom Sentence"
      ]
    },
    {
      "cell_type": "markdown",
      "metadata": {
        "id": "Y2UW-J8ZtZrZ"
      },
      "source": [
        "In order to get a fast intuiton about the application, let's define a pipeline to process and try to answer to a question from our own text."
      ]
    },
    {
      "cell_type": "code",
      "metadata": {
        "id": "jXsY72rh1NF_"
      },
      "source": [
        "from datasets import Dataset\n",
        "\n",
        "def bert_for_qa(context, question, trainer, id='0'):\n",
        "    # Generate dataset from input data\n",
        "    dataset = Dataset.from_dict(\n",
        "        {'id': [id], 'context': [context], 'question': [question]}\n",
        "    )\n",
        "    # Preprocess data\n",
        "    features = dataset.map(\n",
        "        prepare_test_features,\n",
        "        batched=True,\n",
        "        remove_columns=dataset.column_names\n",
        "    )\n",
        "    # Predictions\n",
        "    predictions = trainer.predict(features)\n",
        "    # Postprocess data\n",
        "    processed_predictions = postprocess_predictions(dataset, features, predictions.predictions)\n",
        "    # Return answer\n",
        "    return processed_predictions[id]"
      ],
      "execution_count": null,
      "outputs": []
    },
    {
      "cell_type": "code",
      "metadata": {
        "id": "NUQk4hhc1GYh"
      },
      "source": [
        "#@title { vertical-output: true }\n",
        "context = \"BERT is the best model for NLP, so much better than RNNs... I love it!\" #@param {type:\"string\"}\n",
        "question = \"Which model do I love?\" #@param {type:\"string\"}\n",
        "answer = bert_for_qa(context, question, trainer)\n",
        "\n",
        "print('\\nThe predicted answer is\\n')\n",
        "print(answer)\n"
      ],
      "execution_count": null,
      "outputs": []
    },
    {
      "cell_type": "markdown",
      "metadata": {
        "id": "NuyFHz59oCNt"
      },
      "source": [
        "To donwload it."
      ]
    },
    {
      "cell_type": "code",
      "metadata": {
        "id": "lhOP8g9MoBzP"
      },
      "source": [
        "#download_folder(qa_dir)"
      ],
      "execution_count": null,
      "outputs": []
    }
  ]
}