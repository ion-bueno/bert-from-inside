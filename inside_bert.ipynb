{
  "nbformat": 4,
  "nbformat_minor": 0,
  "metadata": {
    "accelerator": "GPU",
    "colab": {
      "name": "Inside a NLP multitasking neural network. BERT, one model to rule them all",
      "provenance": [],
      "collapsed_sections": [],
      "toc_visible": true,
      "machine_shape": "hm",
      "include_colab_link": true
    },
    "kernelspec": {
      "display_name": "Python 3",
      "name": "python3"
    },
    "widgets": {
      "application/vnd.jupyter.widget-state+json": {
        "813fc032906f4a4b93b079b2ede46614": {
          "model_module": "@jupyter-widgets/controls",
          "model_name": "HBoxModel",
          "state": {
            "_view_name": "HBoxView",
            "_dom_classes": [],
            "_model_name": "HBoxModel",
            "_view_module": "@jupyter-widgets/controls",
            "_model_module_version": "1.5.0",
            "_view_count": null,
            "_view_module_version": "1.5.0",
            "box_style": "",
            "layout": "IPY_MODEL_31d16fd6185f410f9bb236b91db2be98",
            "_model_module": "@jupyter-widgets/controls",
            "children": [
              "IPY_MODEL_0671db3ca6d14c88a748b8fc79edd4e2",
              "IPY_MODEL_7e8809272cb248a9b2810431c477da43"
            ]
          }
        },
        "31d16fd6185f410f9bb236b91db2be98": {
          "model_module": "@jupyter-widgets/base",
          "model_name": "LayoutModel",
          "state": {
            "_view_name": "LayoutView",
            "grid_template_rows": null,
            "right": null,
            "justify_content": null,
            "_view_module": "@jupyter-widgets/base",
            "overflow": null,
            "_model_module_version": "1.2.0",
            "_view_count": null,
            "flex_flow": null,
            "width": null,
            "min_width": null,
            "border": null,
            "align_items": null,
            "bottom": null,
            "_model_module": "@jupyter-widgets/base",
            "top": null,
            "grid_column": null,
            "overflow_y": null,
            "overflow_x": null,
            "grid_auto_flow": null,
            "grid_area": null,
            "grid_template_columns": null,
            "flex": null,
            "_model_name": "LayoutModel",
            "justify_items": null,
            "grid_row": null,
            "max_height": null,
            "align_content": null,
            "visibility": null,
            "align_self": null,
            "height": null,
            "min_height": null,
            "padding": null,
            "grid_auto_rows": null,
            "grid_gap": null,
            "max_width": null,
            "order": null,
            "_view_module_version": "1.2.0",
            "grid_template_areas": null,
            "object_position": null,
            "object_fit": null,
            "grid_auto_columns": null,
            "margin": null,
            "display": null,
            "left": null
          }
        },
        "0671db3ca6d14c88a748b8fc79edd4e2": {
          "model_module": "@jupyter-widgets/controls",
          "model_name": "FloatProgressModel",
          "state": {
            "_view_name": "ProgressView",
            "style": "IPY_MODEL_2d4d89d851c546b88ec94939ee8cb2cb",
            "_dom_classes": [],
            "description": "Downloading: 100%",
            "_model_name": "FloatProgressModel",
            "bar_style": "success",
            "max": 570,
            "_view_module": "@jupyter-widgets/controls",
            "_model_module_version": "1.5.0",
            "value": 570,
            "_view_count": null,
            "_view_module_version": "1.5.0",
            "orientation": "horizontal",
            "min": 0,
            "description_tooltip": null,
            "_model_module": "@jupyter-widgets/controls",
            "layout": "IPY_MODEL_ef75b618147e43d5b0894fe3f10378bc"
          }
        },
        "7e8809272cb248a9b2810431c477da43": {
          "model_module": "@jupyter-widgets/controls",
          "model_name": "HTMLModel",
          "state": {
            "_view_name": "HTMLView",
            "style": "IPY_MODEL_4eea6ab46cfe4d2bbeeca10d7ff7bf50",
            "_dom_classes": [],
            "description": "",
            "_model_name": "HTMLModel",
            "placeholder": "​",
            "_view_module": "@jupyter-widgets/controls",
            "_model_module_version": "1.5.0",
            "value": " 570/570 [00:28&lt;00:00, 20.1B/s]",
            "_view_count": null,
            "_view_module_version": "1.5.0",
            "description_tooltip": null,
            "_model_module": "@jupyter-widgets/controls",
            "layout": "IPY_MODEL_196bc9904eab4ae0b4c9b7f083304fb2"
          }
        },
        "2d4d89d851c546b88ec94939ee8cb2cb": {
          "model_module": "@jupyter-widgets/controls",
          "model_name": "ProgressStyleModel",
          "state": {
            "_view_name": "StyleView",
            "_model_name": "ProgressStyleModel",
            "description_width": "initial",
            "_view_module": "@jupyter-widgets/base",
            "_model_module_version": "1.5.0",
            "_view_count": null,
            "_view_module_version": "1.2.0",
            "bar_color": null,
            "_model_module": "@jupyter-widgets/controls"
          }
        },
        "ef75b618147e43d5b0894fe3f10378bc": {
          "model_module": "@jupyter-widgets/base",
          "model_name": "LayoutModel",
          "state": {
            "_view_name": "LayoutView",
            "grid_template_rows": null,
            "right": null,
            "justify_content": null,
            "_view_module": "@jupyter-widgets/base",
            "overflow": null,
            "_model_module_version": "1.2.0",
            "_view_count": null,
            "flex_flow": null,
            "width": null,
            "min_width": null,
            "border": null,
            "align_items": null,
            "bottom": null,
            "_model_module": "@jupyter-widgets/base",
            "top": null,
            "grid_column": null,
            "overflow_y": null,
            "overflow_x": null,
            "grid_auto_flow": null,
            "grid_area": null,
            "grid_template_columns": null,
            "flex": null,
            "_model_name": "LayoutModel",
            "justify_items": null,
            "grid_row": null,
            "max_height": null,
            "align_content": null,
            "visibility": null,
            "align_self": null,
            "height": null,
            "min_height": null,
            "padding": null,
            "grid_auto_rows": null,
            "grid_gap": null,
            "max_width": null,
            "order": null,
            "_view_module_version": "1.2.0",
            "grid_template_areas": null,
            "object_position": null,
            "object_fit": null,
            "grid_auto_columns": null,
            "margin": null,
            "display": null,
            "left": null
          }
        },
        "4eea6ab46cfe4d2bbeeca10d7ff7bf50": {
          "model_module": "@jupyter-widgets/controls",
          "model_name": "DescriptionStyleModel",
          "state": {
            "_view_name": "StyleView",
            "_model_name": "DescriptionStyleModel",
            "description_width": "",
            "_view_module": "@jupyter-widgets/base",
            "_model_module_version": "1.5.0",
            "_view_count": null,
            "_view_module_version": "1.2.0",
            "_model_module": "@jupyter-widgets/controls"
          }
        },
        "196bc9904eab4ae0b4c9b7f083304fb2": {
          "model_module": "@jupyter-widgets/base",
          "model_name": "LayoutModel",
          "state": {
            "_view_name": "LayoutView",
            "grid_template_rows": null,
            "right": null,
            "justify_content": null,
            "_view_module": "@jupyter-widgets/base",
            "overflow": null,
            "_model_module_version": "1.2.0",
            "_view_count": null,
            "flex_flow": null,
            "width": null,
            "min_width": null,
            "border": null,
            "align_items": null,
            "bottom": null,
            "_model_module": "@jupyter-widgets/base",
            "top": null,
            "grid_column": null,
            "overflow_y": null,
            "overflow_x": null,
            "grid_auto_flow": null,
            "grid_area": null,
            "grid_template_columns": null,
            "flex": null,
            "_model_name": "LayoutModel",
            "justify_items": null,
            "grid_row": null,
            "max_height": null,
            "align_content": null,
            "visibility": null,
            "align_self": null,
            "height": null,
            "min_height": null,
            "padding": null,
            "grid_auto_rows": null,
            "grid_gap": null,
            "max_width": null,
            "order": null,
            "_view_module_version": "1.2.0",
            "grid_template_areas": null,
            "object_position": null,
            "object_fit": null,
            "grid_auto_columns": null,
            "margin": null,
            "display": null,
            "left": null
          }
        },
        "2dd09319e0df488c953ea1cdea62312f": {
          "model_module": "@jupyter-widgets/controls",
          "model_name": "HBoxModel",
          "state": {
            "_view_name": "HBoxView",
            "_dom_classes": [],
            "_model_name": "HBoxModel",
            "_view_module": "@jupyter-widgets/controls",
            "_model_module_version": "1.5.0",
            "_view_count": null,
            "_view_module_version": "1.5.0",
            "box_style": "",
            "layout": "IPY_MODEL_8d3e5ee1b76e4d87aa790c2b9bf3d631",
            "_model_module": "@jupyter-widgets/controls",
            "children": [
              "IPY_MODEL_d8f05c058ef44de7b2e3801a044a0de5",
              "IPY_MODEL_c1440c985ddb43388de623a4f18986b0"
            ]
          }
        },
        "8d3e5ee1b76e4d87aa790c2b9bf3d631": {
          "model_module": "@jupyter-widgets/base",
          "model_name": "LayoutModel",
          "state": {
            "_view_name": "LayoutView",
            "grid_template_rows": null,
            "right": null,
            "justify_content": null,
            "_view_module": "@jupyter-widgets/base",
            "overflow": null,
            "_model_module_version": "1.2.0",
            "_view_count": null,
            "flex_flow": null,
            "width": null,
            "min_width": null,
            "border": null,
            "align_items": null,
            "bottom": null,
            "_model_module": "@jupyter-widgets/base",
            "top": null,
            "grid_column": null,
            "overflow_y": null,
            "overflow_x": null,
            "grid_auto_flow": null,
            "grid_area": null,
            "grid_template_columns": null,
            "flex": null,
            "_model_name": "LayoutModel",
            "justify_items": null,
            "grid_row": null,
            "max_height": null,
            "align_content": null,
            "visibility": null,
            "align_self": null,
            "height": null,
            "min_height": null,
            "padding": null,
            "grid_auto_rows": null,
            "grid_gap": null,
            "max_width": null,
            "order": null,
            "_view_module_version": "1.2.0",
            "grid_template_areas": null,
            "object_position": null,
            "object_fit": null,
            "grid_auto_columns": null,
            "margin": null,
            "display": null,
            "left": null
          }
        },
        "d8f05c058ef44de7b2e3801a044a0de5": {
          "model_module": "@jupyter-widgets/controls",
          "model_name": "FloatProgressModel",
          "state": {
            "_view_name": "ProgressView",
            "style": "IPY_MODEL_b68b1416cb5b4bc5a0cf0134271263c0",
            "_dom_classes": [],
            "description": "Downloading: 100%",
            "_model_name": "FloatProgressModel",
            "bar_style": "success",
            "max": 440473133,
            "_view_module": "@jupyter-widgets/controls",
            "_model_module_version": "1.5.0",
            "value": 440473133,
            "_view_count": null,
            "_view_module_version": "1.5.0",
            "orientation": "horizontal",
            "min": 0,
            "description_tooltip": null,
            "_model_module": "@jupyter-widgets/controls",
            "layout": "IPY_MODEL_786137ae3d904acd890329d9bc1edd1c"
          }
        },
        "c1440c985ddb43388de623a4f18986b0": {
          "model_module": "@jupyter-widgets/controls",
          "model_name": "HTMLModel",
          "state": {
            "_view_name": "HTMLView",
            "style": "IPY_MODEL_9cab05c431984bb890f214cb9b99a7f6",
            "_dom_classes": [],
            "description": "",
            "_model_name": "HTMLModel",
            "placeholder": "​",
            "_view_module": "@jupyter-widgets/controls",
            "_model_module_version": "1.5.0",
            "value": " 440M/440M [00:14&lt;00:00, 30.6MB/s]",
            "_view_count": null,
            "_view_module_version": "1.5.0",
            "description_tooltip": null,
            "_model_module": "@jupyter-widgets/controls",
            "layout": "IPY_MODEL_91a79c4f86d3467bb6dba3ae22b35687"
          }
        },
        "b68b1416cb5b4bc5a0cf0134271263c0": {
          "model_module": "@jupyter-widgets/controls",
          "model_name": "ProgressStyleModel",
          "state": {
            "_view_name": "StyleView",
            "_model_name": "ProgressStyleModel",
            "description_width": "initial",
            "_view_module": "@jupyter-widgets/base",
            "_model_module_version": "1.5.0",
            "_view_count": null,
            "_view_module_version": "1.2.0",
            "bar_color": null,
            "_model_module": "@jupyter-widgets/controls"
          }
        },
        "786137ae3d904acd890329d9bc1edd1c": {
          "model_module": "@jupyter-widgets/base",
          "model_name": "LayoutModel",
          "state": {
            "_view_name": "LayoutView",
            "grid_template_rows": null,
            "right": null,
            "justify_content": null,
            "_view_module": "@jupyter-widgets/base",
            "overflow": null,
            "_model_module_version": "1.2.0",
            "_view_count": null,
            "flex_flow": null,
            "width": null,
            "min_width": null,
            "border": null,
            "align_items": null,
            "bottom": null,
            "_model_module": "@jupyter-widgets/base",
            "top": null,
            "grid_column": null,
            "overflow_y": null,
            "overflow_x": null,
            "grid_auto_flow": null,
            "grid_area": null,
            "grid_template_columns": null,
            "flex": null,
            "_model_name": "LayoutModel",
            "justify_items": null,
            "grid_row": null,
            "max_height": null,
            "align_content": null,
            "visibility": null,
            "align_self": null,
            "height": null,
            "min_height": null,
            "padding": null,
            "grid_auto_rows": null,
            "grid_gap": null,
            "max_width": null,
            "order": null,
            "_view_module_version": "1.2.0",
            "grid_template_areas": null,
            "object_position": null,
            "object_fit": null,
            "grid_auto_columns": null,
            "margin": null,
            "display": null,
            "left": null
          }
        },
        "9cab05c431984bb890f214cb9b99a7f6": {
          "model_module": "@jupyter-widgets/controls",
          "model_name": "DescriptionStyleModel",
          "state": {
            "_view_name": "StyleView",
            "_model_name": "DescriptionStyleModel",
            "description_width": "",
            "_view_module": "@jupyter-widgets/base",
            "_model_module_version": "1.5.0",
            "_view_count": null,
            "_view_module_version": "1.2.0",
            "_model_module": "@jupyter-widgets/controls"
          }
        },
        "91a79c4f86d3467bb6dba3ae22b35687": {
          "model_module": "@jupyter-widgets/base",
          "model_name": "LayoutModel",
          "state": {
            "_view_name": "LayoutView",
            "grid_template_rows": null,
            "right": null,
            "justify_content": null,
            "_view_module": "@jupyter-widgets/base",
            "overflow": null,
            "_model_module_version": "1.2.0",
            "_view_count": null,
            "flex_flow": null,
            "width": null,
            "min_width": null,
            "border": null,
            "align_items": null,
            "bottom": null,
            "_model_module": "@jupyter-widgets/base",
            "top": null,
            "grid_column": null,
            "overflow_y": null,
            "overflow_x": null,
            "grid_auto_flow": null,
            "grid_area": null,
            "grid_template_columns": null,
            "flex": null,
            "_model_name": "LayoutModel",
            "justify_items": null,
            "grid_row": null,
            "max_height": null,
            "align_content": null,
            "visibility": null,
            "align_self": null,
            "height": null,
            "min_height": null,
            "padding": null,
            "grid_auto_rows": null,
            "grid_gap": null,
            "max_width": null,
            "order": null,
            "_view_module_version": "1.2.0",
            "grid_template_areas": null,
            "object_position": null,
            "object_fit": null,
            "grid_auto_columns": null,
            "margin": null,
            "display": null,
            "left": null
          }
        },
        "5aac931e402d4e7f88a0fc39c142e6c5": {
          "model_module": "@jupyter-widgets/controls",
          "model_name": "HBoxModel",
          "state": {
            "_view_name": "HBoxView",
            "_dom_classes": [],
            "_model_name": "HBoxModel",
            "_view_module": "@jupyter-widgets/controls",
            "_model_module_version": "1.5.0",
            "_view_count": null,
            "_view_module_version": "1.5.0",
            "box_style": "",
            "layout": "IPY_MODEL_ea469d87f3cd430ebdbcf85f732033d5",
            "_model_module": "@jupyter-widgets/controls",
            "children": [
              "IPY_MODEL_a945116be64341ca9018fcf62d68045f",
              "IPY_MODEL_08cc4387a2a3443b8bca921afdc08e9b"
            ]
          }
        },
        "ea469d87f3cd430ebdbcf85f732033d5": {
          "model_module": "@jupyter-widgets/base",
          "model_name": "LayoutModel",
          "state": {
            "_view_name": "LayoutView",
            "grid_template_rows": null,
            "right": null,
            "justify_content": null,
            "_view_module": "@jupyter-widgets/base",
            "overflow": null,
            "_model_module_version": "1.2.0",
            "_view_count": null,
            "flex_flow": null,
            "width": null,
            "min_width": null,
            "border": null,
            "align_items": null,
            "bottom": null,
            "_model_module": "@jupyter-widgets/base",
            "top": null,
            "grid_column": null,
            "overflow_y": null,
            "overflow_x": null,
            "grid_auto_flow": null,
            "grid_area": null,
            "grid_template_columns": null,
            "flex": null,
            "_model_name": "LayoutModel",
            "justify_items": null,
            "grid_row": null,
            "max_height": null,
            "align_content": null,
            "visibility": null,
            "align_self": null,
            "height": null,
            "min_height": null,
            "padding": null,
            "grid_auto_rows": null,
            "grid_gap": null,
            "max_width": null,
            "order": null,
            "_view_module_version": "1.2.0",
            "grid_template_areas": null,
            "object_position": null,
            "object_fit": null,
            "grid_auto_columns": null,
            "margin": null,
            "display": null,
            "left": null
          }
        },
        "a945116be64341ca9018fcf62d68045f": {
          "model_module": "@jupyter-widgets/controls",
          "model_name": "FloatProgressModel",
          "state": {
            "_view_name": "ProgressView",
            "style": "IPY_MODEL_6c460920bbe74319be927b7de6cec4b0",
            "_dom_classes": [],
            "description": "Downloading: 100%",
            "_model_name": "FloatProgressModel",
            "bar_style": "success",
            "max": 231508,
            "_view_module": "@jupyter-widgets/controls",
            "_model_module_version": "1.5.0",
            "value": 231508,
            "_view_count": null,
            "_view_module_version": "1.5.0",
            "orientation": "horizontal",
            "min": 0,
            "description_tooltip": null,
            "_model_module": "@jupyter-widgets/controls",
            "layout": "IPY_MODEL_16b74057dabb448c91f9306a30f6d679"
          }
        },
        "08cc4387a2a3443b8bca921afdc08e9b": {
          "model_module": "@jupyter-widgets/controls",
          "model_name": "HTMLModel",
          "state": {
            "_view_name": "HTMLView",
            "style": "IPY_MODEL_d8e6692429974739b7b75c9f7d700a39",
            "_dom_classes": [],
            "description": "",
            "_model_name": "HTMLModel",
            "placeholder": "​",
            "_view_module": "@jupyter-widgets/controls",
            "_model_module_version": "1.5.0",
            "value": " 232k/232k [00:02&lt;00:00, 98.3kB/s]",
            "_view_count": null,
            "_view_module_version": "1.5.0",
            "description_tooltip": null,
            "_model_module": "@jupyter-widgets/controls",
            "layout": "IPY_MODEL_30e5ed1261bd4cf7845f53c224241a07"
          }
        },
        "6c460920bbe74319be927b7de6cec4b0": {
          "model_module": "@jupyter-widgets/controls",
          "model_name": "ProgressStyleModel",
          "state": {
            "_view_name": "StyleView",
            "_model_name": "ProgressStyleModel",
            "description_width": "initial",
            "_view_module": "@jupyter-widgets/base",
            "_model_module_version": "1.5.0",
            "_view_count": null,
            "_view_module_version": "1.2.0",
            "bar_color": null,
            "_model_module": "@jupyter-widgets/controls"
          }
        },
        "16b74057dabb448c91f9306a30f6d679": {
          "model_module": "@jupyter-widgets/base",
          "model_name": "LayoutModel",
          "state": {
            "_view_name": "LayoutView",
            "grid_template_rows": null,
            "right": null,
            "justify_content": null,
            "_view_module": "@jupyter-widgets/base",
            "overflow": null,
            "_model_module_version": "1.2.0",
            "_view_count": null,
            "flex_flow": null,
            "width": null,
            "min_width": null,
            "border": null,
            "align_items": null,
            "bottom": null,
            "_model_module": "@jupyter-widgets/base",
            "top": null,
            "grid_column": null,
            "overflow_y": null,
            "overflow_x": null,
            "grid_auto_flow": null,
            "grid_area": null,
            "grid_template_columns": null,
            "flex": null,
            "_model_name": "LayoutModel",
            "justify_items": null,
            "grid_row": null,
            "max_height": null,
            "align_content": null,
            "visibility": null,
            "align_self": null,
            "height": null,
            "min_height": null,
            "padding": null,
            "grid_auto_rows": null,
            "grid_gap": null,
            "max_width": null,
            "order": null,
            "_view_module_version": "1.2.0",
            "grid_template_areas": null,
            "object_position": null,
            "object_fit": null,
            "grid_auto_columns": null,
            "margin": null,
            "display": null,
            "left": null
          }
        },
        "d8e6692429974739b7b75c9f7d700a39": {
          "model_module": "@jupyter-widgets/controls",
          "model_name": "DescriptionStyleModel",
          "state": {
            "_view_name": "StyleView",
            "_model_name": "DescriptionStyleModel",
            "description_width": "",
            "_view_module": "@jupyter-widgets/base",
            "_model_module_version": "1.5.0",
            "_view_count": null,
            "_view_module_version": "1.2.0",
            "_model_module": "@jupyter-widgets/controls"
          }
        },
        "30e5ed1261bd4cf7845f53c224241a07": {
          "model_module": "@jupyter-widgets/base",
          "model_name": "LayoutModel",
          "state": {
            "_view_name": "LayoutView",
            "grid_template_rows": null,
            "right": null,
            "justify_content": null,
            "_view_module": "@jupyter-widgets/base",
            "overflow": null,
            "_model_module_version": "1.2.0",
            "_view_count": null,
            "flex_flow": null,
            "width": null,
            "min_width": null,
            "border": null,
            "align_items": null,
            "bottom": null,
            "_model_module": "@jupyter-widgets/base",
            "top": null,
            "grid_column": null,
            "overflow_y": null,
            "overflow_x": null,
            "grid_auto_flow": null,
            "grid_area": null,
            "grid_template_columns": null,
            "flex": null,
            "_model_name": "LayoutModel",
            "justify_items": null,
            "grid_row": null,
            "max_height": null,
            "align_content": null,
            "visibility": null,
            "align_self": null,
            "height": null,
            "min_height": null,
            "padding": null,
            "grid_auto_rows": null,
            "grid_gap": null,
            "max_width": null,
            "order": null,
            "_view_module_version": "1.2.0",
            "grid_template_areas": null,
            "object_position": null,
            "object_fit": null,
            "grid_auto_columns": null,
            "margin": null,
            "display": null,
            "left": null
          }
        },
        "2d632da2e0b948cbb00c4ca0a0a55f60": {
          "model_module": "@jupyter-widgets/controls",
          "model_name": "HBoxModel",
          "state": {
            "_view_name": "HBoxView",
            "_dom_classes": [],
            "_model_name": "HBoxModel",
            "_view_module": "@jupyter-widgets/controls",
            "_model_module_version": "1.5.0",
            "_view_count": null,
            "_view_module_version": "1.5.0",
            "box_style": "",
            "layout": "IPY_MODEL_b03f83f066b8476dbbf27003d74b880c",
            "_model_module": "@jupyter-widgets/controls",
            "children": [
              "IPY_MODEL_91b78d64f1b949eeb3e4d25b8a2b8945",
              "IPY_MODEL_5d425d0f23ff41d9b45b6090bc15d986"
            ]
          }
        },
        "b03f83f066b8476dbbf27003d74b880c": {
          "model_module": "@jupyter-widgets/base",
          "model_name": "LayoutModel",
          "state": {
            "_view_name": "LayoutView",
            "grid_template_rows": null,
            "right": null,
            "justify_content": null,
            "_view_module": "@jupyter-widgets/base",
            "overflow": null,
            "_model_module_version": "1.2.0",
            "_view_count": null,
            "flex_flow": null,
            "width": null,
            "min_width": null,
            "border": null,
            "align_items": null,
            "bottom": null,
            "_model_module": "@jupyter-widgets/base",
            "top": null,
            "grid_column": null,
            "overflow_y": null,
            "overflow_x": null,
            "grid_auto_flow": null,
            "grid_area": null,
            "grid_template_columns": null,
            "flex": null,
            "_model_name": "LayoutModel",
            "justify_items": null,
            "grid_row": null,
            "max_height": null,
            "align_content": null,
            "visibility": null,
            "align_self": null,
            "height": null,
            "min_height": null,
            "padding": null,
            "grid_auto_rows": null,
            "grid_gap": null,
            "max_width": null,
            "order": null,
            "_view_module_version": "1.2.0",
            "grid_template_areas": null,
            "object_position": null,
            "object_fit": null,
            "grid_auto_columns": null,
            "margin": null,
            "display": null,
            "left": null
          }
        },
        "91b78d64f1b949eeb3e4d25b8a2b8945": {
          "model_module": "@jupyter-widgets/controls",
          "model_name": "FloatProgressModel",
          "state": {
            "_view_name": "ProgressView",
            "style": "IPY_MODEL_48922a2dc4f24aa5be81131c1f854f22",
            "_dom_classes": [],
            "description": "Downloading: 100%",
            "_model_name": "FloatProgressModel",
            "bar_style": "success",
            "max": 28,
            "_view_module": "@jupyter-widgets/controls",
            "_model_module_version": "1.5.0",
            "value": 28,
            "_view_count": null,
            "_view_module_version": "1.5.0",
            "orientation": "horizontal",
            "min": 0,
            "description_tooltip": null,
            "_model_module": "@jupyter-widgets/controls",
            "layout": "IPY_MODEL_7d76f16dcd8747dcaf62802d9513f87c"
          }
        },
        "5d425d0f23ff41d9b45b6090bc15d986": {
          "model_module": "@jupyter-widgets/controls",
          "model_name": "HTMLModel",
          "state": {
            "_view_name": "HTMLView",
            "style": "IPY_MODEL_326adbbe4d574f7cb93448b49c354534",
            "_dom_classes": [],
            "description": "",
            "_model_name": "HTMLModel",
            "placeholder": "​",
            "_view_module": "@jupyter-widgets/controls",
            "_model_module_version": "1.5.0",
            "value": " 28.0/28.0 [00:00&lt;00:00, 36.4B/s]",
            "_view_count": null,
            "_view_module_version": "1.5.0",
            "description_tooltip": null,
            "_model_module": "@jupyter-widgets/controls",
            "layout": "IPY_MODEL_74f2079b924e4ad4ac0501a4515165fe"
          }
        },
        "48922a2dc4f24aa5be81131c1f854f22": {
          "model_module": "@jupyter-widgets/controls",
          "model_name": "ProgressStyleModel",
          "state": {
            "_view_name": "StyleView",
            "_model_name": "ProgressStyleModel",
            "description_width": "initial",
            "_view_module": "@jupyter-widgets/base",
            "_model_module_version": "1.5.0",
            "_view_count": null,
            "_view_module_version": "1.2.0",
            "bar_color": null,
            "_model_module": "@jupyter-widgets/controls"
          }
        },
        "7d76f16dcd8747dcaf62802d9513f87c": {
          "model_module": "@jupyter-widgets/base",
          "model_name": "LayoutModel",
          "state": {
            "_view_name": "LayoutView",
            "grid_template_rows": null,
            "right": null,
            "justify_content": null,
            "_view_module": "@jupyter-widgets/base",
            "overflow": null,
            "_model_module_version": "1.2.0",
            "_view_count": null,
            "flex_flow": null,
            "width": null,
            "min_width": null,
            "border": null,
            "align_items": null,
            "bottom": null,
            "_model_module": "@jupyter-widgets/base",
            "top": null,
            "grid_column": null,
            "overflow_y": null,
            "overflow_x": null,
            "grid_auto_flow": null,
            "grid_area": null,
            "grid_template_columns": null,
            "flex": null,
            "_model_name": "LayoutModel",
            "justify_items": null,
            "grid_row": null,
            "max_height": null,
            "align_content": null,
            "visibility": null,
            "align_self": null,
            "height": null,
            "min_height": null,
            "padding": null,
            "grid_auto_rows": null,
            "grid_gap": null,
            "max_width": null,
            "order": null,
            "_view_module_version": "1.2.0",
            "grid_template_areas": null,
            "object_position": null,
            "object_fit": null,
            "grid_auto_columns": null,
            "margin": null,
            "display": null,
            "left": null
          }
        },
        "326adbbe4d574f7cb93448b49c354534": {
          "model_module": "@jupyter-widgets/controls",
          "model_name": "DescriptionStyleModel",
          "state": {
            "_view_name": "StyleView",
            "_model_name": "DescriptionStyleModel",
            "description_width": "",
            "_view_module": "@jupyter-widgets/base",
            "_model_module_version": "1.5.0",
            "_view_count": null,
            "_view_module_version": "1.2.0",
            "_model_module": "@jupyter-widgets/controls"
          }
        },
        "74f2079b924e4ad4ac0501a4515165fe": {
          "model_module": "@jupyter-widgets/base",
          "model_name": "LayoutModel",
          "state": {
            "_view_name": "LayoutView",
            "grid_template_rows": null,
            "right": null,
            "justify_content": null,
            "_view_module": "@jupyter-widgets/base",
            "overflow": null,
            "_model_module_version": "1.2.0",
            "_view_count": null,
            "flex_flow": null,
            "width": null,
            "min_width": null,
            "border": null,
            "align_items": null,
            "bottom": null,
            "_model_module": "@jupyter-widgets/base",
            "top": null,
            "grid_column": null,
            "overflow_y": null,
            "overflow_x": null,
            "grid_auto_flow": null,
            "grid_area": null,
            "grid_template_columns": null,
            "flex": null,
            "_model_name": "LayoutModel",
            "justify_items": null,
            "grid_row": null,
            "max_height": null,
            "align_content": null,
            "visibility": null,
            "align_self": null,
            "height": null,
            "min_height": null,
            "padding": null,
            "grid_auto_rows": null,
            "grid_gap": null,
            "max_width": null,
            "order": null,
            "_view_module_version": "1.2.0",
            "grid_template_areas": null,
            "object_position": null,
            "object_fit": null,
            "grid_auto_columns": null,
            "margin": null,
            "display": null,
            "left": null
          }
        },
        "0c14c23dfd144eb084083e3df9838d80": {
          "model_module": "@jupyter-widgets/controls",
          "model_name": "HBoxModel",
          "state": {
            "_view_name": "HBoxView",
            "_dom_classes": [],
            "_model_name": "HBoxModel",
            "_view_module": "@jupyter-widgets/controls",
            "_model_module_version": "1.5.0",
            "_view_count": null,
            "_view_module_version": "1.5.0",
            "box_style": "",
            "layout": "IPY_MODEL_fd6157893f4c4a2ca121c32a97682a74",
            "_model_module": "@jupyter-widgets/controls",
            "children": [
              "IPY_MODEL_0dd4efa8884f4e88918369bb02770d32",
              "IPY_MODEL_fe1519de8ee74584b7beb641e8e1e65c"
            ]
          }
        },
        "fd6157893f4c4a2ca121c32a97682a74": {
          "model_module": "@jupyter-widgets/base",
          "model_name": "LayoutModel",
          "state": {
            "_view_name": "LayoutView",
            "grid_template_rows": null,
            "right": null,
            "justify_content": null,
            "_view_module": "@jupyter-widgets/base",
            "overflow": null,
            "_model_module_version": "1.2.0",
            "_view_count": null,
            "flex_flow": null,
            "width": null,
            "min_width": null,
            "border": null,
            "align_items": null,
            "bottom": null,
            "_model_module": "@jupyter-widgets/base",
            "top": null,
            "grid_column": null,
            "overflow_y": null,
            "overflow_x": null,
            "grid_auto_flow": null,
            "grid_area": null,
            "grid_template_columns": null,
            "flex": null,
            "_model_name": "LayoutModel",
            "justify_items": null,
            "grid_row": null,
            "max_height": null,
            "align_content": null,
            "visibility": null,
            "align_self": null,
            "height": null,
            "min_height": null,
            "padding": null,
            "grid_auto_rows": null,
            "grid_gap": null,
            "max_width": null,
            "order": null,
            "_view_module_version": "1.2.0",
            "grid_template_areas": null,
            "object_position": null,
            "object_fit": null,
            "grid_auto_columns": null,
            "margin": null,
            "display": null,
            "left": null
          }
        },
        "0dd4efa8884f4e88918369bb02770d32": {
          "model_module": "@jupyter-widgets/controls",
          "model_name": "FloatProgressModel",
          "state": {
            "_view_name": "ProgressView",
            "style": "IPY_MODEL_54ed975ccbee4e168a2400b6e542c682",
            "_dom_classes": [],
            "description": "Downloading: 100%",
            "_model_name": "FloatProgressModel",
            "bar_style": "success",
            "max": 466062,
            "_view_module": "@jupyter-widgets/controls",
            "_model_module_version": "1.5.0",
            "value": 466062,
            "_view_count": null,
            "_view_module_version": "1.5.0",
            "orientation": "horizontal",
            "min": 0,
            "description_tooltip": null,
            "_model_module": "@jupyter-widgets/controls",
            "layout": "IPY_MODEL_4623404c9d664846a6183a9355fd5b1f"
          }
        },
        "fe1519de8ee74584b7beb641e8e1e65c": {
          "model_module": "@jupyter-widgets/controls",
          "model_name": "HTMLModel",
          "state": {
            "_view_name": "HTMLView",
            "style": "IPY_MODEL_2d7340bf26294a4a865f63cd842ad0b9",
            "_dom_classes": [],
            "description": "",
            "_model_name": "HTMLModel",
            "placeholder": "​",
            "_view_module": "@jupyter-widgets/controls",
            "_model_module_version": "1.5.0",
            "value": " 466k/466k [00:00&lt;00:00, 2.22MB/s]",
            "_view_count": null,
            "_view_module_version": "1.5.0",
            "description_tooltip": null,
            "_model_module": "@jupyter-widgets/controls",
            "layout": "IPY_MODEL_3d6ac1a7a8234d3fbe5e700d5ef30d20"
          }
        },
        "54ed975ccbee4e168a2400b6e542c682": {
          "model_module": "@jupyter-widgets/controls",
          "model_name": "ProgressStyleModel",
          "state": {
            "_view_name": "StyleView",
            "_model_name": "ProgressStyleModel",
            "description_width": "initial",
            "_view_module": "@jupyter-widgets/base",
            "_model_module_version": "1.5.0",
            "_view_count": null,
            "_view_module_version": "1.2.0",
            "bar_color": null,
            "_model_module": "@jupyter-widgets/controls"
          }
        },
        "4623404c9d664846a6183a9355fd5b1f": {
          "model_module": "@jupyter-widgets/base",
          "model_name": "LayoutModel",
          "state": {
            "_view_name": "LayoutView",
            "grid_template_rows": null,
            "right": null,
            "justify_content": null,
            "_view_module": "@jupyter-widgets/base",
            "overflow": null,
            "_model_module_version": "1.2.0",
            "_view_count": null,
            "flex_flow": null,
            "width": null,
            "min_width": null,
            "border": null,
            "align_items": null,
            "bottom": null,
            "_model_module": "@jupyter-widgets/base",
            "top": null,
            "grid_column": null,
            "overflow_y": null,
            "overflow_x": null,
            "grid_auto_flow": null,
            "grid_area": null,
            "grid_template_columns": null,
            "flex": null,
            "_model_name": "LayoutModel",
            "justify_items": null,
            "grid_row": null,
            "max_height": null,
            "align_content": null,
            "visibility": null,
            "align_self": null,
            "height": null,
            "min_height": null,
            "padding": null,
            "grid_auto_rows": null,
            "grid_gap": null,
            "max_width": null,
            "order": null,
            "_view_module_version": "1.2.0",
            "grid_template_areas": null,
            "object_position": null,
            "object_fit": null,
            "grid_auto_columns": null,
            "margin": null,
            "display": null,
            "left": null
          }
        },
        "2d7340bf26294a4a865f63cd842ad0b9": {
          "model_module": "@jupyter-widgets/controls",
          "model_name": "DescriptionStyleModel",
          "state": {
            "_view_name": "StyleView",
            "_model_name": "DescriptionStyleModel",
            "description_width": "",
            "_view_module": "@jupyter-widgets/base",
            "_model_module_version": "1.5.0",
            "_view_count": null,
            "_view_module_version": "1.2.0",
            "_model_module": "@jupyter-widgets/controls"
          }
        },
        "3d6ac1a7a8234d3fbe5e700d5ef30d20": {
          "model_module": "@jupyter-widgets/base",
          "model_name": "LayoutModel",
          "state": {
            "_view_name": "LayoutView",
            "grid_template_rows": null,
            "right": null,
            "justify_content": null,
            "_view_module": "@jupyter-widgets/base",
            "overflow": null,
            "_model_module_version": "1.2.0",
            "_view_count": null,
            "flex_flow": null,
            "width": null,
            "min_width": null,
            "border": null,
            "align_items": null,
            "bottom": null,
            "_model_module": "@jupyter-widgets/base",
            "top": null,
            "grid_column": null,
            "overflow_y": null,
            "overflow_x": null,
            "grid_auto_flow": null,
            "grid_area": null,
            "grid_template_columns": null,
            "flex": null,
            "_model_name": "LayoutModel",
            "justify_items": null,
            "grid_row": null,
            "max_height": null,
            "align_content": null,
            "visibility": null,
            "align_self": null,
            "height": null,
            "min_height": null,
            "padding": null,
            "grid_auto_rows": null,
            "grid_gap": null,
            "max_width": null,
            "order": null,
            "_view_module_version": "1.2.0",
            "grid_template_areas": null,
            "object_position": null,
            "object_fit": null,
            "grid_auto_columns": null,
            "margin": null,
            "display": null,
            "left": null
          }
        },
        "956e735c28474c379038bb250b0c268c": {
          "model_module": "@jupyter-widgets/controls",
          "model_name": "HBoxModel",
          "state": {
            "_view_name": "HBoxView",
            "_dom_classes": [],
            "_model_name": "HBoxModel",
            "_view_module": "@jupyter-widgets/controls",
            "_model_module_version": "1.5.0",
            "_view_count": null,
            "_view_module_version": "1.5.0",
            "box_style": "",
            "layout": "IPY_MODEL_a4ae947f220c4a79ba254915c4cf8ca4",
            "_model_module": "@jupyter-widgets/controls",
            "children": [
              "IPY_MODEL_25ebe9caa03b471ea20f875965822373",
              "IPY_MODEL_f8d533e04e2b4e8e94f8485a0a75e1fc"
            ]
          }
        },
        "a4ae947f220c4a79ba254915c4cf8ca4": {
          "model_module": "@jupyter-widgets/base",
          "model_name": "LayoutModel",
          "state": {
            "_view_name": "LayoutView",
            "grid_template_rows": null,
            "right": null,
            "justify_content": null,
            "_view_module": "@jupyter-widgets/base",
            "overflow": null,
            "_model_module_version": "1.2.0",
            "_view_count": null,
            "flex_flow": null,
            "width": null,
            "min_width": null,
            "border": null,
            "align_items": null,
            "bottom": null,
            "_model_module": "@jupyter-widgets/base",
            "top": null,
            "grid_column": null,
            "overflow_y": null,
            "overflow_x": null,
            "grid_auto_flow": null,
            "grid_area": null,
            "grid_template_columns": null,
            "flex": null,
            "_model_name": "LayoutModel",
            "justify_items": null,
            "grid_row": null,
            "max_height": null,
            "align_content": null,
            "visibility": null,
            "align_self": null,
            "height": null,
            "min_height": null,
            "padding": null,
            "grid_auto_rows": null,
            "grid_gap": null,
            "max_width": null,
            "order": null,
            "_view_module_version": "1.2.0",
            "grid_template_areas": null,
            "object_position": null,
            "object_fit": null,
            "grid_auto_columns": null,
            "margin": null,
            "display": null,
            "left": null
          }
        },
        "25ebe9caa03b471ea20f875965822373": {
          "model_module": "@jupyter-widgets/controls",
          "model_name": "FloatProgressModel",
          "state": {
            "_view_name": "ProgressView",
            "style": "IPY_MODEL_98ad30ef82e94089a3f970380fece0a4",
            "_dom_classes": [],
            "description": "Downloading: ",
            "_model_name": "FloatProgressModel",
            "bar_style": "success",
            "max": 1947,
            "_view_module": "@jupyter-widgets/controls",
            "_model_module_version": "1.5.0",
            "value": 1947,
            "_view_count": null,
            "_view_module_version": "1.5.0",
            "orientation": "horizontal",
            "min": 0,
            "description_tooltip": null,
            "_model_module": "@jupyter-widgets/controls",
            "layout": "IPY_MODEL_9c209f1e20d34b5d983521d45e03237b"
          }
        },
        "f8d533e04e2b4e8e94f8485a0a75e1fc": {
          "model_module": "@jupyter-widgets/controls",
          "model_name": "HTMLModel",
          "state": {
            "_view_name": "HTMLView",
            "style": "IPY_MODEL_36dd3cf4b0994a788e6978f847d85485",
            "_dom_classes": [],
            "description": "",
            "_model_name": "HTMLModel",
            "placeholder": "​",
            "_view_module": "@jupyter-widgets/controls",
            "_model_module_version": "1.5.0",
            "value": " 5.29k/? [00:02&lt;00:00, 1.88kB/s]",
            "_view_count": null,
            "_view_module_version": "1.5.0",
            "description_tooltip": null,
            "_model_module": "@jupyter-widgets/controls",
            "layout": "IPY_MODEL_cf2ed7ee41ab45e58cdc002a2e579f2d"
          }
        },
        "98ad30ef82e94089a3f970380fece0a4": {
          "model_module": "@jupyter-widgets/controls",
          "model_name": "ProgressStyleModel",
          "state": {
            "_view_name": "StyleView",
            "_model_name": "ProgressStyleModel",
            "description_width": "initial",
            "_view_module": "@jupyter-widgets/base",
            "_model_module_version": "1.5.0",
            "_view_count": null,
            "_view_module_version": "1.2.0",
            "bar_color": null,
            "_model_module": "@jupyter-widgets/controls"
          }
        },
        "9c209f1e20d34b5d983521d45e03237b": {
          "model_module": "@jupyter-widgets/base",
          "model_name": "LayoutModel",
          "state": {
            "_view_name": "LayoutView",
            "grid_template_rows": null,
            "right": null,
            "justify_content": null,
            "_view_module": "@jupyter-widgets/base",
            "overflow": null,
            "_model_module_version": "1.2.0",
            "_view_count": null,
            "flex_flow": null,
            "width": null,
            "min_width": null,
            "border": null,
            "align_items": null,
            "bottom": null,
            "_model_module": "@jupyter-widgets/base",
            "top": null,
            "grid_column": null,
            "overflow_y": null,
            "overflow_x": null,
            "grid_auto_flow": null,
            "grid_area": null,
            "grid_template_columns": null,
            "flex": null,
            "_model_name": "LayoutModel",
            "justify_items": null,
            "grid_row": null,
            "max_height": null,
            "align_content": null,
            "visibility": null,
            "align_self": null,
            "height": null,
            "min_height": null,
            "padding": null,
            "grid_auto_rows": null,
            "grid_gap": null,
            "max_width": null,
            "order": null,
            "_view_module_version": "1.2.0",
            "grid_template_areas": null,
            "object_position": null,
            "object_fit": null,
            "grid_auto_columns": null,
            "margin": null,
            "display": null,
            "left": null
          }
        },
        "36dd3cf4b0994a788e6978f847d85485": {
          "model_module": "@jupyter-widgets/controls",
          "model_name": "DescriptionStyleModel",
          "state": {
            "_view_name": "StyleView",
            "_model_name": "DescriptionStyleModel",
            "description_width": "",
            "_view_module": "@jupyter-widgets/base",
            "_model_module_version": "1.5.0",
            "_view_count": null,
            "_view_module_version": "1.2.0",
            "_model_module": "@jupyter-widgets/controls"
          }
        },
        "cf2ed7ee41ab45e58cdc002a2e579f2d": {
          "model_module": "@jupyter-widgets/base",
          "model_name": "LayoutModel",
          "state": {
            "_view_name": "LayoutView",
            "grid_template_rows": null,
            "right": null,
            "justify_content": null,
            "_view_module": "@jupyter-widgets/base",
            "overflow": null,
            "_model_module_version": "1.2.0",
            "_view_count": null,
            "flex_flow": null,
            "width": null,
            "min_width": null,
            "border": null,
            "align_items": null,
            "bottom": null,
            "_model_module": "@jupyter-widgets/base",
            "top": null,
            "grid_column": null,
            "overflow_y": null,
            "overflow_x": null,
            "grid_auto_flow": null,
            "grid_area": null,
            "grid_template_columns": null,
            "flex": null,
            "_model_name": "LayoutModel",
            "justify_items": null,
            "grid_row": null,
            "max_height": null,
            "align_content": null,
            "visibility": null,
            "align_self": null,
            "height": null,
            "min_height": null,
            "padding": null,
            "grid_auto_rows": null,
            "grid_gap": null,
            "max_width": null,
            "order": null,
            "_view_module_version": "1.2.0",
            "grid_template_areas": null,
            "object_position": null,
            "object_fit": null,
            "grid_auto_columns": null,
            "margin": null,
            "display": null,
            "left": null
          }
        },
        "20e7c233366f4960af358647fc55fb2e": {
          "model_module": "@jupyter-widgets/controls",
          "model_name": "HBoxModel",
          "state": {
            "_view_name": "HBoxView",
            "_dom_classes": [],
            "_model_name": "HBoxModel",
            "_view_module": "@jupyter-widgets/controls",
            "_model_module_version": "1.5.0",
            "_view_count": null,
            "_view_module_version": "1.5.0",
            "box_style": "",
            "layout": "IPY_MODEL_a3b4aa5ac25444979dff08b340bcd477",
            "_model_module": "@jupyter-widgets/controls",
            "children": [
              "IPY_MODEL_9af7e55b7f7f43f2a62e13536a9ddfa0",
              "IPY_MODEL_51f139737b1b42aa9cf6bc7246cc757b"
            ]
          }
        },
        "a3b4aa5ac25444979dff08b340bcd477": {
          "model_module": "@jupyter-widgets/base",
          "model_name": "LayoutModel",
          "state": {
            "_view_name": "LayoutView",
            "grid_template_rows": null,
            "right": null,
            "justify_content": null,
            "_view_module": "@jupyter-widgets/base",
            "overflow": null,
            "_model_module_version": "1.2.0",
            "_view_count": null,
            "flex_flow": null,
            "width": null,
            "min_width": null,
            "border": null,
            "align_items": null,
            "bottom": null,
            "_model_module": "@jupyter-widgets/base",
            "top": null,
            "grid_column": null,
            "overflow_y": null,
            "overflow_x": null,
            "grid_auto_flow": null,
            "grid_area": null,
            "grid_template_columns": null,
            "flex": null,
            "_model_name": "LayoutModel",
            "justify_items": null,
            "grid_row": null,
            "max_height": null,
            "align_content": null,
            "visibility": null,
            "align_self": null,
            "height": null,
            "min_height": null,
            "padding": null,
            "grid_auto_rows": null,
            "grid_gap": null,
            "max_width": null,
            "order": null,
            "_view_module_version": "1.2.0",
            "grid_template_areas": null,
            "object_position": null,
            "object_fit": null,
            "grid_auto_columns": null,
            "margin": null,
            "display": null,
            "left": null
          }
        },
        "9af7e55b7f7f43f2a62e13536a9ddfa0": {
          "model_module": "@jupyter-widgets/controls",
          "model_name": "FloatProgressModel",
          "state": {
            "_view_name": "ProgressView",
            "style": "IPY_MODEL_7b0605b4683a4efda8a3a7b1b87e522b",
            "_dom_classes": [],
            "description": "Downloading: ",
            "_model_name": "FloatProgressModel",
            "bar_style": "success",
            "max": 1021,
            "_view_module": "@jupyter-widgets/controls",
            "_model_module_version": "1.5.0",
            "value": 1021,
            "_view_count": null,
            "_view_module_version": "1.5.0",
            "orientation": "horizontal",
            "min": 0,
            "description_tooltip": null,
            "_model_module": "@jupyter-widgets/controls",
            "layout": "IPY_MODEL_732f79f9ba6a4a899de7d7fd3c5cecd3"
          }
        },
        "51f139737b1b42aa9cf6bc7246cc757b": {
          "model_module": "@jupyter-widgets/controls",
          "model_name": "HTMLModel",
          "state": {
            "_view_name": "HTMLView",
            "style": "IPY_MODEL_c36f5698ca3c4bfb8ddee6185652b325",
            "_dom_classes": [],
            "description": "",
            "_model_name": "HTMLModel",
            "placeholder": "​",
            "_view_module": "@jupyter-widgets/controls",
            "_model_module_version": "1.5.0",
            "value": " 2.36k/? [00:00&lt;00:00, 47.6kB/s]",
            "_view_count": null,
            "_view_module_version": "1.5.0",
            "description_tooltip": null,
            "_model_module": "@jupyter-widgets/controls",
            "layout": "IPY_MODEL_b8fc4f18f2d241b5be0ea370f0f5cd89"
          }
        },
        "7b0605b4683a4efda8a3a7b1b87e522b": {
          "model_module": "@jupyter-widgets/controls",
          "model_name": "ProgressStyleModel",
          "state": {
            "_view_name": "StyleView",
            "_model_name": "ProgressStyleModel",
            "description_width": "initial",
            "_view_module": "@jupyter-widgets/base",
            "_model_module_version": "1.5.0",
            "_view_count": null,
            "_view_module_version": "1.2.0",
            "bar_color": null,
            "_model_module": "@jupyter-widgets/controls"
          }
        },
        "732f79f9ba6a4a899de7d7fd3c5cecd3": {
          "model_module": "@jupyter-widgets/base",
          "model_name": "LayoutModel",
          "state": {
            "_view_name": "LayoutView",
            "grid_template_rows": null,
            "right": null,
            "justify_content": null,
            "_view_module": "@jupyter-widgets/base",
            "overflow": null,
            "_model_module_version": "1.2.0",
            "_view_count": null,
            "flex_flow": null,
            "width": null,
            "min_width": null,
            "border": null,
            "align_items": null,
            "bottom": null,
            "_model_module": "@jupyter-widgets/base",
            "top": null,
            "grid_column": null,
            "overflow_y": null,
            "overflow_x": null,
            "grid_auto_flow": null,
            "grid_area": null,
            "grid_template_columns": null,
            "flex": null,
            "_model_name": "LayoutModel",
            "justify_items": null,
            "grid_row": null,
            "max_height": null,
            "align_content": null,
            "visibility": null,
            "align_self": null,
            "height": null,
            "min_height": null,
            "padding": null,
            "grid_auto_rows": null,
            "grid_gap": null,
            "max_width": null,
            "order": null,
            "_view_module_version": "1.2.0",
            "grid_template_areas": null,
            "object_position": null,
            "object_fit": null,
            "grid_auto_columns": null,
            "margin": null,
            "display": null,
            "left": null
          }
        },
        "c36f5698ca3c4bfb8ddee6185652b325": {
          "model_module": "@jupyter-widgets/controls",
          "model_name": "DescriptionStyleModel",
          "state": {
            "_view_name": "StyleView",
            "_model_name": "DescriptionStyleModel",
            "description_width": "",
            "_view_module": "@jupyter-widgets/base",
            "_model_module_version": "1.5.0",
            "_view_count": null,
            "_view_module_version": "1.2.0",
            "_model_module": "@jupyter-widgets/controls"
          }
        },
        "b8fc4f18f2d241b5be0ea370f0f5cd89": {
          "model_module": "@jupyter-widgets/base",
          "model_name": "LayoutModel",
          "state": {
            "_view_name": "LayoutView",
            "grid_template_rows": null,
            "right": null,
            "justify_content": null,
            "_view_module": "@jupyter-widgets/base",
            "overflow": null,
            "_model_module_version": "1.2.0",
            "_view_count": null,
            "flex_flow": null,
            "width": null,
            "min_width": null,
            "border": null,
            "align_items": null,
            "bottom": null,
            "_model_module": "@jupyter-widgets/base",
            "top": null,
            "grid_column": null,
            "overflow_y": null,
            "overflow_x": null,
            "grid_auto_flow": null,
            "grid_area": null,
            "grid_template_columns": null,
            "flex": null,
            "_model_name": "LayoutModel",
            "justify_items": null,
            "grid_row": null,
            "max_height": null,
            "align_content": null,
            "visibility": null,
            "align_self": null,
            "height": null,
            "min_height": null,
            "padding": null,
            "grid_auto_rows": null,
            "grid_gap": null,
            "max_width": null,
            "order": null,
            "_view_module_version": "1.2.0",
            "grid_template_areas": null,
            "object_position": null,
            "object_fit": null,
            "grid_auto_columns": null,
            "margin": null,
            "display": null,
            "left": null
          }
        },
        "e00915c03da84b4db4817a41b5a70c1f": {
          "model_module": "@jupyter-widgets/controls",
          "model_name": "HBoxModel",
          "state": {
            "_view_name": "HBoxView",
            "_dom_classes": [],
            "_model_name": "HBoxModel",
            "_view_module": "@jupyter-widgets/controls",
            "_model_module_version": "1.5.0",
            "_view_count": null,
            "_view_module_version": "1.5.0",
            "box_style": "",
            "layout": "IPY_MODEL_11d7298002174fc9bf5868616db85ac3",
            "_model_module": "@jupyter-widgets/controls",
            "children": [
              "IPY_MODEL_85073e02610c4af49fb9cacbed1974ec",
              "IPY_MODEL_c463f96b9ada4620b1d4e74ea5796f01"
            ]
          }
        },
        "11d7298002174fc9bf5868616db85ac3": {
          "model_module": "@jupyter-widgets/base",
          "model_name": "LayoutModel",
          "state": {
            "_view_name": "LayoutView",
            "grid_template_rows": null,
            "right": null,
            "justify_content": null,
            "_view_module": "@jupyter-widgets/base",
            "overflow": null,
            "_model_module_version": "1.2.0",
            "_view_count": null,
            "flex_flow": null,
            "width": null,
            "min_width": null,
            "border": null,
            "align_items": null,
            "bottom": null,
            "_model_module": "@jupyter-widgets/base",
            "top": null,
            "grid_column": null,
            "overflow_y": null,
            "overflow_x": null,
            "grid_auto_flow": null,
            "grid_area": null,
            "grid_template_columns": null,
            "flex": null,
            "_model_name": "LayoutModel",
            "justify_items": null,
            "grid_row": null,
            "max_height": null,
            "align_content": null,
            "visibility": null,
            "align_self": null,
            "height": null,
            "min_height": null,
            "padding": null,
            "grid_auto_rows": null,
            "grid_gap": null,
            "max_width": null,
            "order": null,
            "_view_module_version": "1.2.0",
            "grid_template_areas": null,
            "object_position": null,
            "object_fit": null,
            "grid_auto_columns": null,
            "margin": null,
            "display": null,
            "left": null
          }
        },
        "85073e02610c4af49fb9cacbed1974ec": {
          "model_module": "@jupyter-widgets/controls",
          "model_name": "FloatProgressModel",
          "state": {
            "_view_name": "ProgressView",
            "style": "IPY_MODEL_c47706f18edf471fa1e3333814098b85",
            "_dom_classes": [],
            "description": "Downloading: ",
            "_model_name": "FloatProgressModel",
            "bar_style": "success",
            "max": 8116577,
            "_view_module": "@jupyter-widgets/controls",
            "_model_module_version": "1.5.0",
            "value": 8116577,
            "_view_count": null,
            "_view_module_version": "1.5.0",
            "orientation": "horizontal",
            "min": 0,
            "description_tooltip": null,
            "_model_module": "@jupyter-widgets/controls",
            "layout": "IPY_MODEL_f2c7d32992294b87b652a1d5e6b2ce67"
          }
        },
        "c463f96b9ada4620b1d4e74ea5796f01": {
          "model_module": "@jupyter-widgets/controls",
          "model_name": "HTMLModel",
          "state": {
            "_view_name": "HTMLView",
            "style": "IPY_MODEL_f933a71a37824c0c94014cb630b33afd",
            "_dom_classes": [],
            "description": "",
            "_model_name": "HTMLModel",
            "placeholder": "​",
            "_view_module": "@jupyter-widgets/controls",
            "_model_module_version": "1.5.0",
            "value": " 30.3M/? [00:01&lt;00:00, 23.9MB/s]",
            "_view_count": null,
            "_view_module_version": "1.5.0",
            "description_tooltip": null,
            "_model_module": "@jupyter-widgets/controls",
            "layout": "IPY_MODEL_32dd4f881c78447aa66a64ccf3e9d8b3"
          }
        },
        "c47706f18edf471fa1e3333814098b85": {
          "model_module": "@jupyter-widgets/controls",
          "model_name": "ProgressStyleModel",
          "state": {
            "_view_name": "StyleView",
            "_model_name": "ProgressStyleModel",
            "description_width": "initial",
            "_view_module": "@jupyter-widgets/base",
            "_model_module_version": "1.5.0",
            "_view_count": null,
            "_view_module_version": "1.2.0",
            "bar_color": null,
            "_model_module": "@jupyter-widgets/controls"
          }
        },
        "f2c7d32992294b87b652a1d5e6b2ce67": {
          "model_module": "@jupyter-widgets/base",
          "model_name": "LayoutModel",
          "state": {
            "_view_name": "LayoutView",
            "grid_template_rows": null,
            "right": null,
            "justify_content": null,
            "_view_module": "@jupyter-widgets/base",
            "overflow": null,
            "_model_module_version": "1.2.0",
            "_view_count": null,
            "flex_flow": null,
            "width": null,
            "min_width": null,
            "border": null,
            "align_items": null,
            "bottom": null,
            "_model_module": "@jupyter-widgets/base",
            "top": null,
            "grid_column": null,
            "overflow_y": null,
            "overflow_x": null,
            "grid_auto_flow": null,
            "grid_area": null,
            "grid_template_columns": null,
            "flex": null,
            "_model_name": "LayoutModel",
            "justify_items": null,
            "grid_row": null,
            "max_height": null,
            "align_content": null,
            "visibility": null,
            "align_self": null,
            "height": null,
            "min_height": null,
            "padding": null,
            "grid_auto_rows": null,
            "grid_gap": null,
            "max_width": null,
            "order": null,
            "_view_module_version": "1.2.0",
            "grid_template_areas": null,
            "object_position": null,
            "object_fit": null,
            "grid_auto_columns": null,
            "margin": null,
            "display": null,
            "left": null
          }
        },
        "f933a71a37824c0c94014cb630b33afd": {
          "model_module": "@jupyter-widgets/controls",
          "model_name": "DescriptionStyleModel",
          "state": {
            "_view_name": "StyleView",
            "_model_name": "DescriptionStyleModel",
            "description_width": "",
            "_view_module": "@jupyter-widgets/base",
            "_model_module_version": "1.5.0",
            "_view_count": null,
            "_view_module_version": "1.2.0",
            "_model_module": "@jupyter-widgets/controls"
          }
        },
        "32dd4f881c78447aa66a64ccf3e9d8b3": {
          "model_module": "@jupyter-widgets/base",
          "model_name": "LayoutModel",
          "state": {
            "_view_name": "LayoutView",
            "grid_template_rows": null,
            "right": null,
            "justify_content": null,
            "_view_module": "@jupyter-widgets/base",
            "overflow": null,
            "_model_module_version": "1.2.0",
            "_view_count": null,
            "flex_flow": null,
            "width": null,
            "min_width": null,
            "border": null,
            "align_items": null,
            "bottom": null,
            "_model_module": "@jupyter-widgets/base",
            "top": null,
            "grid_column": null,
            "overflow_y": null,
            "overflow_x": null,
            "grid_auto_flow": null,
            "grid_area": null,
            "grid_template_columns": null,
            "flex": null,
            "_model_name": "LayoutModel",
            "justify_items": null,
            "grid_row": null,
            "max_height": null,
            "align_content": null,
            "visibility": null,
            "align_self": null,
            "height": null,
            "min_height": null,
            "padding": null,
            "grid_auto_rows": null,
            "grid_gap": null,
            "max_width": null,
            "order": null,
            "_view_module_version": "1.2.0",
            "grid_template_areas": null,
            "object_position": null,
            "object_fit": null,
            "grid_auto_columns": null,
            "margin": null,
            "display": null,
            "left": null
          }
        },
        "1e7b7253e8ae4f1896aacb4b025eff62": {
          "model_module": "@jupyter-widgets/controls",
          "model_name": "HBoxModel",
          "state": {
            "_view_name": "HBoxView",
            "_dom_classes": [],
            "_model_name": "HBoxModel",
            "_view_module": "@jupyter-widgets/controls",
            "_model_module_version": "1.5.0",
            "_view_count": null,
            "_view_module_version": "1.5.0",
            "box_style": "",
            "layout": "IPY_MODEL_cc9bf90f4b3b4d2da6d2c62e326421a3",
            "_model_module": "@jupyter-widgets/controls",
            "children": [
              "IPY_MODEL_df6111ffb7f04d5ba91d755cd415f831",
              "IPY_MODEL_713d8c1749c24169a42e74ce27319297"
            ]
          }
        },
        "cc9bf90f4b3b4d2da6d2c62e326421a3": {
          "model_module": "@jupyter-widgets/base",
          "model_name": "LayoutModel",
          "state": {
            "_view_name": "LayoutView",
            "grid_template_rows": null,
            "right": null,
            "justify_content": null,
            "_view_module": "@jupyter-widgets/base",
            "overflow": null,
            "_model_module_version": "1.2.0",
            "_view_count": null,
            "flex_flow": null,
            "width": null,
            "min_width": null,
            "border": null,
            "align_items": null,
            "bottom": null,
            "_model_module": "@jupyter-widgets/base",
            "top": null,
            "grid_column": null,
            "overflow_y": null,
            "overflow_x": null,
            "grid_auto_flow": null,
            "grid_area": null,
            "grid_template_columns": null,
            "flex": null,
            "_model_name": "LayoutModel",
            "justify_items": null,
            "grid_row": null,
            "max_height": null,
            "align_content": null,
            "visibility": null,
            "align_self": null,
            "height": null,
            "min_height": null,
            "padding": null,
            "grid_auto_rows": null,
            "grid_gap": null,
            "max_width": null,
            "order": null,
            "_view_module_version": "1.2.0",
            "grid_template_areas": null,
            "object_position": null,
            "object_fit": null,
            "grid_auto_columns": null,
            "margin": null,
            "display": null,
            "left": null
          }
        },
        "df6111ffb7f04d5ba91d755cd415f831": {
          "model_module": "@jupyter-widgets/controls",
          "model_name": "FloatProgressModel",
          "state": {
            "_view_name": "ProgressView",
            "style": "IPY_MODEL_909028f5595344609707fda09138ddc3",
            "_dom_classes": [],
            "description": "Downloading: ",
            "_model_name": "FloatProgressModel",
            "bar_style": "success",
            "max": 1054280,
            "_view_module": "@jupyter-widgets/controls",
            "_model_module_version": "1.5.0",
            "value": 1054280,
            "_view_count": null,
            "_view_module_version": "1.5.0",
            "orientation": "horizontal",
            "min": 0,
            "description_tooltip": null,
            "_model_module": "@jupyter-widgets/controls",
            "layout": "IPY_MODEL_b8c0d26c9aea4ac1bbe9f5588baaf97d"
          }
        },
        "713d8c1749c24169a42e74ce27319297": {
          "model_module": "@jupyter-widgets/controls",
          "model_name": "HTMLModel",
          "state": {
            "_view_name": "HTMLView",
            "style": "IPY_MODEL_23e2e22aa628434188a9395cf2bac22d",
            "_dom_classes": [],
            "description": "",
            "_model_name": "HTMLModel",
            "placeholder": "​",
            "_view_module": "@jupyter-widgets/controls",
            "_model_module_version": "1.5.0",
            "value": " 4.85M/? [00:00&lt;00:00, 14.8MB/s]",
            "_view_count": null,
            "_view_module_version": "1.5.0",
            "description_tooltip": null,
            "_model_module": "@jupyter-widgets/controls",
            "layout": "IPY_MODEL_6d19c3bb57814ae8887a374d450b50b1"
          }
        },
        "909028f5595344609707fda09138ddc3": {
          "model_module": "@jupyter-widgets/controls",
          "model_name": "ProgressStyleModel",
          "state": {
            "_view_name": "StyleView",
            "_model_name": "ProgressStyleModel",
            "description_width": "initial",
            "_view_module": "@jupyter-widgets/base",
            "_model_module_version": "1.5.0",
            "_view_count": null,
            "_view_module_version": "1.2.0",
            "bar_color": null,
            "_model_module": "@jupyter-widgets/controls"
          }
        },
        "b8c0d26c9aea4ac1bbe9f5588baaf97d": {
          "model_module": "@jupyter-widgets/base",
          "model_name": "LayoutModel",
          "state": {
            "_view_name": "LayoutView",
            "grid_template_rows": null,
            "right": null,
            "justify_content": null,
            "_view_module": "@jupyter-widgets/base",
            "overflow": null,
            "_model_module_version": "1.2.0",
            "_view_count": null,
            "flex_flow": null,
            "width": null,
            "min_width": null,
            "border": null,
            "align_items": null,
            "bottom": null,
            "_model_module": "@jupyter-widgets/base",
            "top": null,
            "grid_column": null,
            "overflow_y": null,
            "overflow_x": null,
            "grid_auto_flow": null,
            "grid_area": null,
            "grid_template_columns": null,
            "flex": null,
            "_model_name": "LayoutModel",
            "justify_items": null,
            "grid_row": null,
            "max_height": null,
            "align_content": null,
            "visibility": null,
            "align_self": null,
            "height": null,
            "min_height": null,
            "padding": null,
            "grid_auto_rows": null,
            "grid_gap": null,
            "max_width": null,
            "order": null,
            "_view_module_version": "1.2.0",
            "grid_template_areas": null,
            "object_position": null,
            "object_fit": null,
            "grid_auto_columns": null,
            "margin": null,
            "display": null,
            "left": null
          }
        },
        "23e2e22aa628434188a9395cf2bac22d": {
          "model_module": "@jupyter-widgets/controls",
          "model_name": "DescriptionStyleModel",
          "state": {
            "_view_name": "StyleView",
            "_model_name": "DescriptionStyleModel",
            "description_width": "",
            "_view_module": "@jupyter-widgets/base",
            "_model_module_version": "1.5.0",
            "_view_count": null,
            "_view_module_version": "1.2.0",
            "_model_module": "@jupyter-widgets/controls"
          }
        },
        "6d19c3bb57814ae8887a374d450b50b1": {
          "model_module": "@jupyter-widgets/base",
          "model_name": "LayoutModel",
          "state": {
            "_view_name": "LayoutView",
            "grid_template_rows": null,
            "right": null,
            "justify_content": null,
            "_view_module": "@jupyter-widgets/base",
            "overflow": null,
            "_model_module_version": "1.2.0",
            "_view_count": null,
            "flex_flow": null,
            "width": null,
            "min_width": null,
            "border": null,
            "align_items": null,
            "bottom": null,
            "_model_module": "@jupyter-widgets/base",
            "top": null,
            "grid_column": null,
            "overflow_y": null,
            "overflow_x": null,
            "grid_auto_flow": null,
            "grid_area": null,
            "grid_template_columns": null,
            "flex": null,
            "_model_name": "LayoutModel",
            "justify_items": null,
            "grid_row": null,
            "max_height": null,
            "align_content": null,
            "visibility": null,
            "align_self": null,
            "height": null,
            "min_height": null,
            "padding": null,
            "grid_auto_rows": null,
            "grid_gap": null,
            "max_width": null,
            "order": null,
            "_view_module_version": "1.2.0",
            "grid_template_areas": null,
            "object_position": null,
            "object_fit": null,
            "grid_auto_columns": null,
            "margin": null,
            "display": null,
            "left": null
          }
        },
        "3536460505d743da970e10052fdb0374": {
          "model_module": "@jupyter-widgets/controls",
          "model_name": "HBoxModel",
          "state": {
            "_view_name": "HBoxView",
            "_dom_classes": [],
            "_model_name": "HBoxModel",
            "_view_module": "@jupyter-widgets/controls",
            "_model_module_version": "1.5.0",
            "_view_count": null,
            "_view_module_version": "1.5.0",
            "box_style": "",
            "layout": "IPY_MODEL_1d8f8d53a45d4347a3063efe89d34640",
            "_model_module": "@jupyter-widgets/controls",
            "children": [
              "IPY_MODEL_23c8d9e8a9c94ae98bdc081a14b049db",
              "IPY_MODEL_57545c835a6a4384a95c62290a6d1612"
            ]
          }
        },
        "1d8f8d53a45d4347a3063efe89d34640": {
          "model_module": "@jupyter-widgets/base",
          "model_name": "LayoutModel",
          "state": {
            "_view_name": "LayoutView",
            "grid_template_rows": null,
            "right": null,
            "justify_content": null,
            "_view_module": "@jupyter-widgets/base",
            "overflow": null,
            "_model_module_version": "1.2.0",
            "_view_count": null,
            "flex_flow": null,
            "width": null,
            "min_width": null,
            "border": null,
            "align_items": null,
            "bottom": null,
            "_model_module": "@jupyter-widgets/base",
            "top": null,
            "grid_column": null,
            "overflow_y": null,
            "overflow_x": null,
            "grid_auto_flow": null,
            "grid_area": null,
            "grid_template_columns": null,
            "flex": null,
            "_model_name": "LayoutModel",
            "justify_items": null,
            "grid_row": null,
            "max_height": null,
            "align_content": null,
            "visibility": null,
            "align_self": null,
            "height": null,
            "min_height": null,
            "padding": null,
            "grid_auto_rows": null,
            "grid_gap": null,
            "max_width": null,
            "order": null,
            "_view_module_version": "1.2.0",
            "grid_template_areas": null,
            "object_position": null,
            "object_fit": null,
            "grid_auto_columns": null,
            "margin": null,
            "display": null,
            "left": null
          }
        },
        "23c8d9e8a9c94ae98bdc081a14b049db": {
          "model_module": "@jupyter-widgets/controls",
          "model_name": "FloatProgressModel",
          "state": {
            "_view_name": "ProgressView",
            "style": "IPY_MODEL_e218ec4e93994b12976b772be77a2eaf",
            "_dom_classes": [],
            "description": "",
            "_model_name": "FloatProgressModel",
            "bar_style": "info",
            "max": 1,
            "_view_module": "@jupyter-widgets/controls",
            "_model_module_version": "1.5.0",
            "value": 1,
            "_view_count": null,
            "_view_module_version": "1.5.0",
            "orientation": "horizontal",
            "min": 0,
            "description_tooltip": null,
            "_model_module": "@jupyter-widgets/controls",
            "layout": "IPY_MODEL_7b73f6f50c714a6a9c7bacc478a85595"
          }
        },
        "57545c835a6a4384a95c62290a6d1612": {
          "model_module": "@jupyter-widgets/controls",
          "model_name": "HTMLModel",
          "state": {
            "_view_name": "HTMLView",
            "style": "IPY_MODEL_d92a82801e454c07a8bd435de51b28ff",
            "_dom_classes": [],
            "description": "",
            "_model_name": "HTMLModel",
            "placeholder": "​",
            "_view_module": "@jupyter-widgets/controls",
            "_model_module_version": "1.5.0",
            "value": " 87599/0 [00:07&lt;00:00, 8797.50 examples/s]",
            "_view_count": null,
            "_view_module_version": "1.5.0",
            "description_tooltip": null,
            "_model_module": "@jupyter-widgets/controls",
            "layout": "IPY_MODEL_80225e01fcd14fc5a3fe2839d5bfd659"
          }
        },
        "e218ec4e93994b12976b772be77a2eaf": {
          "model_module": "@jupyter-widgets/controls",
          "model_name": "ProgressStyleModel",
          "state": {
            "_view_name": "StyleView",
            "_model_name": "ProgressStyleModel",
            "description_width": "initial",
            "_view_module": "@jupyter-widgets/base",
            "_model_module_version": "1.5.0",
            "_view_count": null,
            "_view_module_version": "1.2.0",
            "bar_color": null,
            "_model_module": "@jupyter-widgets/controls"
          }
        },
        "7b73f6f50c714a6a9c7bacc478a85595": {
          "model_module": "@jupyter-widgets/base",
          "model_name": "LayoutModel",
          "state": {
            "_view_name": "LayoutView",
            "grid_template_rows": null,
            "right": null,
            "justify_content": null,
            "_view_module": "@jupyter-widgets/base",
            "overflow": null,
            "_model_module_version": "1.2.0",
            "_view_count": null,
            "flex_flow": null,
            "width": null,
            "min_width": null,
            "border": null,
            "align_items": null,
            "bottom": null,
            "_model_module": "@jupyter-widgets/base",
            "top": null,
            "grid_column": null,
            "overflow_y": null,
            "overflow_x": null,
            "grid_auto_flow": null,
            "grid_area": null,
            "grid_template_columns": null,
            "flex": null,
            "_model_name": "LayoutModel",
            "justify_items": null,
            "grid_row": null,
            "max_height": null,
            "align_content": null,
            "visibility": null,
            "align_self": null,
            "height": null,
            "min_height": null,
            "padding": null,
            "grid_auto_rows": null,
            "grid_gap": null,
            "max_width": null,
            "order": null,
            "_view_module_version": "1.2.0",
            "grid_template_areas": null,
            "object_position": null,
            "object_fit": null,
            "grid_auto_columns": null,
            "margin": null,
            "display": null,
            "left": null
          }
        },
        "d92a82801e454c07a8bd435de51b28ff": {
          "model_module": "@jupyter-widgets/controls",
          "model_name": "DescriptionStyleModel",
          "state": {
            "_view_name": "StyleView",
            "_model_name": "DescriptionStyleModel",
            "description_width": "",
            "_view_module": "@jupyter-widgets/base",
            "_model_module_version": "1.5.0",
            "_view_count": null,
            "_view_module_version": "1.2.0",
            "_model_module": "@jupyter-widgets/controls"
          }
        },
        "80225e01fcd14fc5a3fe2839d5bfd659": {
          "model_module": "@jupyter-widgets/base",
          "model_name": "LayoutModel",
          "state": {
            "_view_name": "LayoutView",
            "grid_template_rows": null,
            "right": null,
            "justify_content": null,
            "_view_module": "@jupyter-widgets/base",
            "overflow": null,
            "_model_module_version": "1.2.0",
            "_view_count": null,
            "flex_flow": null,
            "width": null,
            "min_width": null,
            "border": null,
            "align_items": null,
            "bottom": null,
            "_model_module": "@jupyter-widgets/base",
            "top": null,
            "grid_column": null,
            "overflow_y": null,
            "overflow_x": null,
            "grid_auto_flow": null,
            "grid_area": null,
            "grid_template_columns": null,
            "flex": null,
            "_model_name": "LayoutModel",
            "justify_items": null,
            "grid_row": null,
            "max_height": null,
            "align_content": null,
            "visibility": null,
            "align_self": null,
            "height": null,
            "min_height": null,
            "padding": null,
            "grid_auto_rows": null,
            "grid_gap": null,
            "max_width": null,
            "order": null,
            "_view_module_version": "1.2.0",
            "grid_template_areas": null,
            "object_position": null,
            "object_fit": null,
            "grid_auto_columns": null,
            "margin": null,
            "display": null,
            "left": null
          }
        },
        "4fdd0db7c47242789d29db7d4596450c": {
          "model_module": "@jupyter-widgets/controls",
          "model_name": "HBoxModel",
          "state": {
            "_view_name": "HBoxView",
            "_dom_classes": [],
            "_model_name": "HBoxModel",
            "_view_module": "@jupyter-widgets/controls",
            "_model_module_version": "1.5.0",
            "_view_count": null,
            "_view_module_version": "1.5.0",
            "box_style": "",
            "layout": "IPY_MODEL_02d75e6ee1fc4d4894272d8dc82354a2",
            "_model_module": "@jupyter-widgets/controls",
            "children": [
              "IPY_MODEL_eacc281c720f48dcac12e61e6effc5a2",
              "IPY_MODEL_69a9da26012948a2b0bb60907a2d04f2"
            ]
          }
        },
        "02d75e6ee1fc4d4894272d8dc82354a2": {
          "model_module": "@jupyter-widgets/base",
          "model_name": "LayoutModel",
          "state": {
            "_view_name": "LayoutView",
            "grid_template_rows": null,
            "right": null,
            "justify_content": null,
            "_view_module": "@jupyter-widgets/base",
            "overflow": null,
            "_model_module_version": "1.2.0",
            "_view_count": null,
            "flex_flow": null,
            "width": null,
            "min_width": null,
            "border": null,
            "align_items": null,
            "bottom": null,
            "_model_module": "@jupyter-widgets/base",
            "top": null,
            "grid_column": null,
            "overflow_y": null,
            "overflow_x": null,
            "grid_auto_flow": null,
            "grid_area": null,
            "grid_template_columns": null,
            "flex": null,
            "_model_name": "LayoutModel",
            "justify_items": null,
            "grid_row": null,
            "max_height": null,
            "align_content": null,
            "visibility": null,
            "align_self": null,
            "height": null,
            "min_height": null,
            "padding": null,
            "grid_auto_rows": null,
            "grid_gap": null,
            "max_width": null,
            "order": null,
            "_view_module_version": "1.2.0",
            "grid_template_areas": null,
            "object_position": null,
            "object_fit": null,
            "grid_auto_columns": null,
            "margin": null,
            "display": null,
            "left": null
          }
        },
        "eacc281c720f48dcac12e61e6effc5a2": {
          "model_module": "@jupyter-widgets/controls",
          "model_name": "FloatProgressModel",
          "state": {
            "_view_name": "ProgressView",
            "style": "IPY_MODEL_e222a7989689479c99d5eeeae8553e95",
            "_dom_classes": [],
            "description": "",
            "_model_name": "FloatProgressModel",
            "bar_style": "info",
            "max": 1,
            "_view_module": "@jupyter-widgets/controls",
            "_model_module_version": "1.5.0",
            "value": 1,
            "_view_count": null,
            "_view_module_version": "1.5.0",
            "orientation": "horizontal",
            "min": 0,
            "description_tooltip": null,
            "_model_module": "@jupyter-widgets/controls",
            "layout": "IPY_MODEL_a10cf8317181497fb329ee2c9dd88e15"
          }
        },
        "69a9da26012948a2b0bb60907a2d04f2": {
          "model_module": "@jupyter-widgets/controls",
          "model_name": "HTMLModel",
          "state": {
            "_view_name": "HTMLView",
            "style": "IPY_MODEL_ea386b7f33624dac885bfb75c59668c7",
            "_dom_classes": [],
            "description": "",
            "_model_name": "HTMLModel",
            "placeholder": "​",
            "_view_module": "@jupyter-widgets/controls",
            "_model_module_version": "1.5.0",
            "value": " 10570/0 [00:00&lt;00:00, 8719.16 examples/s]",
            "_view_count": null,
            "_view_module_version": "1.5.0",
            "description_tooltip": null,
            "_model_module": "@jupyter-widgets/controls",
            "layout": "IPY_MODEL_7411ba313b3348489925f943bcc74785"
          }
        },
        "e222a7989689479c99d5eeeae8553e95": {
          "model_module": "@jupyter-widgets/controls",
          "model_name": "ProgressStyleModel",
          "state": {
            "_view_name": "StyleView",
            "_model_name": "ProgressStyleModel",
            "description_width": "initial",
            "_view_module": "@jupyter-widgets/base",
            "_model_module_version": "1.5.0",
            "_view_count": null,
            "_view_module_version": "1.2.0",
            "bar_color": null,
            "_model_module": "@jupyter-widgets/controls"
          }
        },
        "a10cf8317181497fb329ee2c9dd88e15": {
          "model_module": "@jupyter-widgets/base",
          "model_name": "LayoutModel",
          "state": {
            "_view_name": "LayoutView",
            "grid_template_rows": null,
            "right": null,
            "justify_content": null,
            "_view_module": "@jupyter-widgets/base",
            "overflow": null,
            "_model_module_version": "1.2.0",
            "_view_count": null,
            "flex_flow": null,
            "width": null,
            "min_width": null,
            "border": null,
            "align_items": null,
            "bottom": null,
            "_model_module": "@jupyter-widgets/base",
            "top": null,
            "grid_column": null,
            "overflow_y": null,
            "overflow_x": null,
            "grid_auto_flow": null,
            "grid_area": null,
            "grid_template_columns": null,
            "flex": null,
            "_model_name": "LayoutModel",
            "justify_items": null,
            "grid_row": null,
            "max_height": null,
            "align_content": null,
            "visibility": null,
            "align_self": null,
            "height": null,
            "min_height": null,
            "padding": null,
            "grid_auto_rows": null,
            "grid_gap": null,
            "max_width": null,
            "order": null,
            "_view_module_version": "1.2.0",
            "grid_template_areas": null,
            "object_position": null,
            "object_fit": null,
            "grid_auto_columns": null,
            "margin": null,
            "display": null,
            "left": null
          }
        },
        "ea386b7f33624dac885bfb75c59668c7": {
          "model_module": "@jupyter-widgets/controls",
          "model_name": "DescriptionStyleModel",
          "state": {
            "_view_name": "StyleView",
            "_model_name": "DescriptionStyleModel",
            "description_width": "",
            "_view_module": "@jupyter-widgets/base",
            "_model_module_version": "1.5.0",
            "_view_count": null,
            "_view_module_version": "1.2.0",
            "_model_module": "@jupyter-widgets/controls"
          }
        },
        "7411ba313b3348489925f943bcc74785": {
          "model_module": "@jupyter-widgets/base",
          "model_name": "LayoutModel",
          "state": {
            "_view_name": "LayoutView",
            "grid_template_rows": null,
            "right": null,
            "justify_content": null,
            "_view_module": "@jupyter-widgets/base",
            "overflow": null,
            "_model_module_version": "1.2.0",
            "_view_count": null,
            "flex_flow": null,
            "width": null,
            "min_width": null,
            "border": null,
            "align_items": null,
            "bottom": null,
            "_model_module": "@jupyter-widgets/base",
            "top": null,
            "grid_column": null,
            "overflow_y": null,
            "overflow_x": null,
            "grid_auto_flow": null,
            "grid_area": null,
            "grid_template_columns": null,
            "flex": null,
            "_model_name": "LayoutModel",
            "justify_items": null,
            "grid_row": null,
            "max_height": null,
            "align_content": null,
            "visibility": null,
            "align_self": null,
            "height": null,
            "min_height": null,
            "padding": null,
            "grid_auto_rows": null,
            "grid_gap": null,
            "max_width": null,
            "order": null,
            "_view_module_version": "1.2.0",
            "grid_template_areas": null,
            "object_position": null,
            "object_fit": null,
            "grid_auto_columns": null,
            "margin": null,
            "display": null,
            "left": null
          }
        },
        "15e62ce495804af88f80f2f9e7f032c4": {
          "model_module": "@jupyter-widgets/controls",
          "model_name": "HBoxModel",
          "state": {
            "_view_name": "HBoxView",
            "_dom_classes": [],
            "_model_name": "HBoxModel",
            "_view_module": "@jupyter-widgets/controls",
            "_model_module_version": "1.5.0",
            "_view_count": null,
            "_view_module_version": "1.5.0",
            "box_style": "",
            "layout": "IPY_MODEL_c0bd8ac8c42845789aea8f58ddace4d5",
            "_model_module": "@jupyter-widgets/controls",
            "children": [
              "IPY_MODEL_3075a65030f244ca8c02cb26666cf332",
              "IPY_MODEL_32a6faab02e94528b9bf64d40530e707"
            ]
          }
        },
        "c0bd8ac8c42845789aea8f58ddace4d5": {
          "model_module": "@jupyter-widgets/base",
          "model_name": "LayoutModel",
          "state": {
            "_view_name": "LayoutView",
            "grid_template_rows": null,
            "right": null,
            "justify_content": null,
            "_view_module": "@jupyter-widgets/base",
            "overflow": null,
            "_model_module_version": "1.2.0",
            "_view_count": null,
            "flex_flow": null,
            "width": null,
            "min_width": null,
            "border": null,
            "align_items": null,
            "bottom": null,
            "_model_module": "@jupyter-widgets/base",
            "top": null,
            "grid_column": null,
            "overflow_y": null,
            "overflow_x": null,
            "grid_auto_flow": null,
            "grid_area": null,
            "grid_template_columns": null,
            "flex": null,
            "_model_name": "LayoutModel",
            "justify_items": null,
            "grid_row": null,
            "max_height": null,
            "align_content": null,
            "visibility": null,
            "align_self": null,
            "height": null,
            "min_height": null,
            "padding": null,
            "grid_auto_rows": null,
            "grid_gap": null,
            "max_width": null,
            "order": null,
            "_view_module_version": "1.2.0",
            "grid_template_areas": null,
            "object_position": null,
            "object_fit": null,
            "grid_auto_columns": null,
            "margin": null,
            "display": null,
            "left": null
          }
        },
        "3075a65030f244ca8c02cb26666cf332": {
          "model_module": "@jupyter-widgets/controls",
          "model_name": "FloatProgressModel",
          "state": {
            "_view_name": "ProgressView",
            "style": "IPY_MODEL_1d879a06d7a44ac0a2bd16e65637a873",
            "_dom_classes": [],
            "description": "100%",
            "_model_name": "FloatProgressModel",
            "bar_style": "success",
            "max": 59,
            "_view_module": "@jupyter-widgets/controls",
            "_model_module_version": "1.5.0",
            "value": 59,
            "_view_count": null,
            "_view_module_version": "1.5.0",
            "orientation": "horizontal",
            "min": 0,
            "description_tooltip": null,
            "_model_module": "@jupyter-widgets/controls",
            "layout": "IPY_MODEL_fd32131fc363401a9b2731ed4b22cb91"
          }
        },
        "32a6faab02e94528b9bf64d40530e707": {
          "model_module": "@jupyter-widgets/controls",
          "model_name": "HTMLModel",
          "state": {
            "_view_name": "HTMLView",
            "style": "IPY_MODEL_d04886221d1f4e7fa213c6429cf60d63",
            "_dom_classes": [],
            "description": "",
            "_model_name": "HTMLModel",
            "placeholder": "​",
            "_view_module": "@jupyter-widgets/controls",
            "_model_module_version": "1.5.0",
            "value": " 59/59 [00:32&lt;00:00,  1.82ba/s]",
            "_view_count": null,
            "_view_module_version": "1.5.0",
            "description_tooltip": null,
            "_model_module": "@jupyter-widgets/controls",
            "layout": "IPY_MODEL_35b4fb0fce2445118b82867891414ee5"
          }
        },
        "1d879a06d7a44ac0a2bd16e65637a873": {
          "model_module": "@jupyter-widgets/controls",
          "model_name": "ProgressStyleModel",
          "state": {
            "_view_name": "StyleView",
            "_model_name": "ProgressStyleModel",
            "description_width": "initial",
            "_view_module": "@jupyter-widgets/base",
            "_model_module_version": "1.5.0",
            "_view_count": null,
            "_view_module_version": "1.2.0",
            "bar_color": null,
            "_model_module": "@jupyter-widgets/controls"
          }
        },
        "fd32131fc363401a9b2731ed4b22cb91": {
          "model_module": "@jupyter-widgets/base",
          "model_name": "LayoutModel",
          "state": {
            "_view_name": "LayoutView",
            "grid_template_rows": null,
            "right": null,
            "justify_content": null,
            "_view_module": "@jupyter-widgets/base",
            "overflow": null,
            "_model_module_version": "1.2.0",
            "_view_count": null,
            "flex_flow": null,
            "width": null,
            "min_width": null,
            "border": null,
            "align_items": null,
            "bottom": null,
            "_model_module": "@jupyter-widgets/base",
            "top": null,
            "grid_column": null,
            "overflow_y": null,
            "overflow_x": null,
            "grid_auto_flow": null,
            "grid_area": null,
            "grid_template_columns": null,
            "flex": null,
            "_model_name": "LayoutModel",
            "justify_items": null,
            "grid_row": null,
            "max_height": null,
            "align_content": null,
            "visibility": null,
            "align_self": null,
            "height": null,
            "min_height": null,
            "padding": null,
            "grid_auto_rows": null,
            "grid_gap": null,
            "max_width": null,
            "order": null,
            "_view_module_version": "1.2.0",
            "grid_template_areas": null,
            "object_position": null,
            "object_fit": null,
            "grid_auto_columns": null,
            "margin": null,
            "display": null,
            "left": null
          }
        },
        "d04886221d1f4e7fa213c6429cf60d63": {
          "model_module": "@jupyter-widgets/controls",
          "model_name": "DescriptionStyleModel",
          "state": {
            "_view_name": "StyleView",
            "_model_name": "DescriptionStyleModel",
            "description_width": "",
            "_view_module": "@jupyter-widgets/base",
            "_model_module_version": "1.5.0",
            "_view_count": null,
            "_view_module_version": "1.2.0",
            "_model_module": "@jupyter-widgets/controls"
          }
        },
        "35b4fb0fce2445118b82867891414ee5": {
          "model_module": "@jupyter-widgets/base",
          "model_name": "LayoutModel",
          "state": {
            "_view_name": "LayoutView",
            "grid_template_rows": null,
            "right": null,
            "justify_content": null,
            "_view_module": "@jupyter-widgets/base",
            "overflow": null,
            "_model_module_version": "1.2.0",
            "_view_count": null,
            "flex_flow": null,
            "width": null,
            "min_width": null,
            "border": null,
            "align_items": null,
            "bottom": null,
            "_model_module": "@jupyter-widgets/base",
            "top": null,
            "grid_column": null,
            "overflow_y": null,
            "overflow_x": null,
            "grid_auto_flow": null,
            "grid_area": null,
            "grid_template_columns": null,
            "flex": null,
            "_model_name": "LayoutModel",
            "justify_items": null,
            "grid_row": null,
            "max_height": null,
            "align_content": null,
            "visibility": null,
            "align_self": null,
            "height": null,
            "min_height": null,
            "padding": null,
            "grid_auto_rows": null,
            "grid_gap": null,
            "max_width": null,
            "order": null,
            "_view_module_version": "1.2.0",
            "grid_template_areas": null,
            "object_position": null,
            "object_fit": null,
            "grid_auto_columns": null,
            "margin": null,
            "display": null,
            "left": null
          }
        },
        "bf27d5db4f5c41b5af5d07b167a7f8cf": {
          "model_module": "@jupyter-widgets/controls",
          "model_name": "HBoxModel",
          "state": {
            "_view_name": "HBoxView",
            "_dom_classes": [],
            "_model_name": "HBoxModel",
            "_view_module": "@jupyter-widgets/controls",
            "_model_module_version": "1.5.0",
            "_view_count": null,
            "_view_module_version": "1.5.0",
            "box_style": "",
            "layout": "IPY_MODEL_e0c87ba45fa84041919c77cd205a4e59",
            "_model_module": "@jupyter-widgets/controls",
            "children": [
              "IPY_MODEL_f906513a8bad4a7d9f0bf6617312eae7",
              "IPY_MODEL_42c70a3119fa49d7a331c8d6b90e3070"
            ]
          }
        },
        "e0c87ba45fa84041919c77cd205a4e59": {
          "model_module": "@jupyter-widgets/base",
          "model_name": "LayoutModel",
          "state": {
            "_view_name": "LayoutView",
            "grid_template_rows": null,
            "right": null,
            "justify_content": null,
            "_view_module": "@jupyter-widgets/base",
            "overflow": null,
            "_model_module_version": "1.2.0",
            "_view_count": null,
            "flex_flow": null,
            "width": null,
            "min_width": null,
            "border": null,
            "align_items": null,
            "bottom": null,
            "_model_module": "@jupyter-widgets/base",
            "top": null,
            "grid_column": null,
            "overflow_y": null,
            "overflow_x": null,
            "grid_auto_flow": null,
            "grid_area": null,
            "grid_template_columns": null,
            "flex": null,
            "_model_name": "LayoutModel",
            "justify_items": null,
            "grid_row": null,
            "max_height": null,
            "align_content": null,
            "visibility": null,
            "align_self": null,
            "height": null,
            "min_height": null,
            "padding": null,
            "grid_auto_rows": null,
            "grid_gap": null,
            "max_width": null,
            "order": null,
            "_view_module_version": "1.2.0",
            "grid_template_areas": null,
            "object_position": null,
            "object_fit": null,
            "grid_auto_columns": null,
            "margin": null,
            "display": null,
            "left": null
          }
        },
        "f906513a8bad4a7d9f0bf6617312eae7": {
          "model_module": "@jupyter-widgets/controls",
          "model_name": "FloatProgressModel",
          "state": {
            "_view_name": "ProgressView",
            "style": "IPY_MODEL_7370f6dc45d24fcaa95607b5b93f136e",
            "_dom_classes": [],
            "description": "100%",
            "_model_name": "FloatProgressModel",
            "bar_style": "success",
            "max": 11,
            "_view_module": "@jupyter-widgets/controls",
            "_model_module_version": "1.5.0",
            "value": 11,
            "_view_count": null,
            "_view_module_version": "1.5.0",
            "orientation": "horizontal",
            "min": 0,
            "description_tooltip": null,
            "_model_module": "@jupyter-widgets/controls",
            "layout": "IPY_MODEL_1cfecd15308b4fdab7720d1ef5c09286"
          }
        },
        "42c70a3119fa49d7a331c8d6b90e3070": {
          "model_module": "@jupyter-widgets/controls",
          "model_name": "HTMLModel",
          "state": {
            "_view_name": "HTMLView",
            "style": "IPY_MODEL_0aa8493b90d845b0bdcf010d4f5bfb24",
            "_dom_classes": [],
            "description": "",
            "_model_name": "HTMLModel",
            "placeholder": "​",
            "_view_module": "@jupyter-widgets/controls",
            "_model_module_version": "1.5.0",
            "value": " 11/11 [00:07&lt;00:00,  1.46ba/s]",
            "_view_count": null,
            "_view_module_version": "1.5.0",
            "description_tooltip": null,
            "_model_module": "@jupyter-widgets/controls",
            "layout": "IPY_MODEL_5b06933e172549dd865b18ba2642bbd4"
          }
        },
        "7370f6dc45d24fcaa95607b5b93f136e": {
          "model_module": "@jupyter-widgets/controls",
          "model_name": "ProgressStyleModel",
          "state": {
            "_view_name": "StyleView",
            "_model_name": "ProgressStyleModel",
            "description_width": "initial",
            "_view_module": "@jupyter-widgets/base",
            "_model_module_version": "1.5.0",
            "_view_count": null,
            "_view_module_version": "1.2.0",
            "bar_color": null,
            "_model_module": "@jupyter-widgets/controls"
          }
        },
        "1cfecd15308b4fdab7720d1ef5c09286": {
          "model_module": "@jupyter-widgets/base",
          "model_name": "LayoutModel",
          "state": {
            "_view_name": "LayoutView",
            "grid_template_rows": null,
            "right": null,
            "justify_content": null,
            "_view_module": "@jupyter-widgets/base",
            "overflow": null,
            "_model_module_version": "1.2.0",
            "_view_count": null,
            "flex_flow": null,
            "width": null,
            "min_width": null,
            "border": null,
            "align_items": null,
            "bottom": null,
            "_model_module": "@jupyter-widgets/base",
            "top": null,
            "grid_column": null,
            "overflow_y": null,
            "overflow_x": null,
            "grid_auto_flow": null,
            "grid_area": null,
            "grid_template_columns": null,
            "flex": null,
            "_model_name": "LayoutModel",
            "justify_items": null,
            "grid_row": null,
            "max_height": null,
            "align_content": null,
            "visibility": null,
            "align_self": null,
            "height": null,
            "min_height": null,
            "padding": null,
            "grid_auto_rows": null,
            "grid_gap": null,
            "max_width": null,
            "order": null,
            "_view_module_version": "1.2.0",
            "grid_template_areas": null,
            "object_position": null,
            "object_fit": null,
            "grid_auto_columns": null,
            "margin": null,
            "display": null,
            "left": null
          }
        },
        "0aa8493b90d845b0bdcf010d4f5bfb24": {
          "model_module": "@jupyter-widgets/controls",
          "model_name": "DescriptionStyleModel",
          "state": {
            "_view_name": "StyleView",
            "_model_name": "DescriptionStyleModel",
            "description_width": "",
            "_view_module": "@jupyter-widgets/base",
            "_model_module_version": "1.5.0",
            "_view_count": null,
            "_view_module_version": "1.2.0",
            "_model_module": "@jupyter-widgets/controls"
          }
        },
        "5b06933e172549dd865b18ba2642bbd4": {
          "model_module": "@jupyter-widgets/base",
          "model_name": "LayoutModel",
          "state": {
            "_view_name": "LayoutView",
            "grid_template_rows": null,
            "right": null,
            "justify_content": null,
            "_view_module": "@jupyter-widgets/base",
            "overflow": null,
            "_model_module_version": "1.2.0",
            "_view_count": null,
            "flex_flow": null,
            "width": null,
            "min_width": null,
            "border": null,
            "align_items": null,
            "bottom": null,
            "_model_module": "@jupyter-widgets/base",
            "top": null,
            "grid_column": null,
            "overflow_y": null,
            "overflow_x": null,
            "grid_auto_flow": null,
            "grid_area": null,
            "grid_template_columns": null,
            "flex": null,
            "_model_name": "LayoutModel",
            "justify_items": null,
            "grid_row": null,
            "max_height": null,
            "align_content": null,
            "visibility": null,
            "align_self": null,
            "height": null,
            "min_height": null,
            "padding": null,
            "grid_auto_rows": null,
            "grid_gap": null,
            "max_width": null,
            "order": null,
            "_view_module_version": "1.2.0",
            "grid_template_areas": null,
            "object_position": null,
            "object_fit": null,
            "grid_auto_columns": null,
            "margin": null,
            "display": null,
            "left": null
          }
        },
        "1421fbd7041149d3a2f1ff9e9f2fc4aa": {
          "model_module": "@jupyter-widgets/controls",
          "model_name": "HBoxModel",
          "state": {
            "_view_name": "HBoxView",
            "_dom_classes": [],
            "_model_name": "HBoxModel",
            "_view_module": "@jupyter-widgets/controls",
            "_model_module_version": "1.5.0",
            "_view_count": null,
            "_view_module_version": "1.5.0",
            "box_style": "",
            "layout": "IPY_MODEL_5937d42f58be45beb3aebd5edbbef105",
            "_model_module": "@jupyter-widgets/controls",
            "children": [
              "IPY_MODEL_ecc48df63fce411081ffcebdcc8bb065",
              "IPY_MODEL_4c64c064a688465d852fbc2a57ef087c"
            ]
          }
        },
        "5937d42f58be45beb3aebd5edbbef105": {
          "model_module": "@jupyter-widgets/base",
          "model_name": "LayoutModel",
          "state": {
            "_view_name": "LayoutView",
            "grid_template_rows": null,
            "right": null,
            "justify_content": null,
            "_view_module": "@jupyter-widgets/base",
            "overflow": null,
            "_model_module_version": "1.2.0",
            "_view_count": null,
            "flex_flow": null,
            "width": null,
            "min_width": null,
            "border": null,
            "align_items": null,
            "bottom": null,
            "_model_module": "@jupyter-widgets/base",
            "top": null,
            "grid_column": null,
            "overflow_y": null,
            "overflow_x": null,
            "grid_auto_flow": null,
            "grid_area": null,
            "grid_template_columns": null,
            "flex": null,
            "_model_name": "LayoutModel",
            "justify_items": null,
            "grid_row": null,
            "max_height": null,
            "align_content": null,
            "visibility": null,
            "align_self": null,
            "height": null,
            "min_height": null,
            "padding": null,
            "grid_auto_rows": null,
            "grid_gap": null,
            "max_width": null,
            "order": null,
            "_view_module_version": "1.2.0",
            "grid_template_areas": null,
            "object_position": null,
            "object_fit": null,
            "grid_auto_columns": null,
            "margin": null,
            "display": null,
            "left": null
          }
        },
        "ecc48df63fce411081ffcebdcc8bb065": {
          "model_module": "@jupyter-widgets/controls",
          "model_name": "FloatProgressModel",
          "state": {
            "_view_name": "ProgressView",
            "style": "IPY_MODEL_40c630a6187c48cf9cd7011b4574a585",
            "_dom_classes": [],
            "description": "100%",
            "_model_name": "FloatProgressModel",
            "bar_style": "success",
            "max": 29,
            "_view_module": "@jupyter-widgets/controls",
            "_model_module_version": "1.5.0",
            "value": 29,
            "_view_count": null,
            "_view_module_version": "1.5.0",
            "orientation": "horizontal",
            "min": 0,
            "description_tooltip": null,
            "_model_module": "@jupyter-widgets/controls",
            "layout": "IPY_MODEL_176318f0f80541acb0631eceedef9ef4"
          }
        },
        "4c64c064a688465d852fbc2a57ef087c": {
          "model_module": "@jupyter-widgets/controls",
          "model_name": "HTMLModel",
          "state": {
            "_view_name": "HTMLView",
            "style": "IPY_MODEL_a311b116567a4d44a840cf97d9516838",
            "_dom_classes": [],
            "description": "",
            "_model_name": "HTMLModel",
            "placeholder": "​",
            "_view_module": "@jupyter-widgets/controls",
            "_model_module_version": "1.5.0",
            "value": " 29/29 [2:07:35&lt;00:00, 263.99s/ba]",
            "_view_count": null,
            "_view_module_version": "1.5.0",
            "description_tooltip": null,
            "_model_module": "@jupyter-widgets/controls",
            "layout": "IPY_MODEL_4e8155fd6c4e4156928eb915f7cbb190"
          }
        },
        "40c630a6187c48cf9cd7011b4574a585": {
          "model_module": "@jupyter-widgets/controls",
          "model_name": "ProgressStyleModel",
          "state": {
            "_view_name": "StyleView",
            "_model_name": "ProgressStyleModel",
            "description_width": "initial",
            "_view_module": "@jupyter-widgets/base",
            "_model_module_version": "1.5.0",
            "_view_count": null,
            "_view_module_version": "1.2.0",
            "bar_color": null,
            "_model_module": "@jupyter-widgets/controls"
          }
        },
        "176318f0f80541acb0631eceedef9ef4": {
          "model_module": "@jupyter-widgets/base",
          "model_name": "LayoutModel",
          "state": {
            "_view_name": "LayoutView",
            "grid_template_rows": null,
            "right": null,
            "justify_content": null,
            "_view_module": "@jupyter-widgets/base",
            "overflow": null,
            "_model_module_version": "1.2.0",
            "_view_count": null,
            "flex_flow": null,
            "width": null,
            "min_width": null,
            "border": null,
            "align_items": null,
            "bottom": null,
            "_model_module": "@jupyter-widgets/base",
            "top": null,
            "grid_column": null,
            "overflow_y": null,
            "overflow_x": null,
            "grid_auto_flow": null,
            "grid_area": null,
            "grid_template_columns": null,
            "flex": null,
            "_model_name": "LayoutModel",
            "justify_items": null,
            "grid_row": null,
            "max_height": null,
            "align_content": null,
            "visibility": null,
            "align_self": null,
            "height": null,
            "min_height": null,
            "padding": null,
            "grid_auto_rows": null,
            "grid_gap": null,
            "max_width": null,
            "order": null,
            "_view_module_version": "1.2.0",
            "grid_template_areas": null,
            "object_position": null,
            "object_fit": null,
            "grid_auto_columns": null,
            "margin": null,
            "display": null,
            "left": null
          }
        },
        "a311b116567a4d44a840cf97d9516838": {
          "model_module": "@jupyter-widgets/controls",
          "model_name": "DescriptionStyleModel",
          "state": {
            "_view_name": "StyleView",
            "_model_name": "DescriptionStyleModel",
            "description_width": "",
            "_view_module": "@jupyter-widgets/base",
            "_model_module_version": "1.5.0",
            "_view_count": null,
            "_view_module_version": "1.2.0",
            "_model_module": "@jupyter-widgets/controls"
          }
        },
        "4e8155fd6c4e4156928eb915f7cbb190": {
          "model_module": "@jupyter-widgets/base",
          "model_name": "LayoutModel",
          "state": {
            "_view_name": "LayoutView",
            "grid_template_rows": null,
            "right": null,
            "justify_content": null,
            "_view_module": "@jupyter-widgets/base",
            "overflow": null,
            "_model_module_version": "1.2.0",
            "_view_count": null,
            "flex_flow": null,
            "width": null,
            "min_width": null,
            "border": null,
            "align_items": null,
            "bottom": null,
            "_model_module": "@jupyter-widgets/base",
            "top": null,
            "grid_column": null,
            "overflow_y": null,
            "overflow_x": null,
            "grid_auto_flow": null,
            "grid_area": null,
            "grid_template_columns": null,
            "flex": null,
            "_model_name": "LayoutModel",
            "justify_items": null,
            "grid_row": null,
            "max_height": null,
            "align_content": null,
            "visibility": null,
            "align_self": null,
            "height": null,
            "min_height": null,
            "padding": null,
            "grid_auto_rows": null,
            "grid_gap": null,
            "max_width": null,
            "order": null,
            "_view_module_version": "1.2.0",
            "grid_template_areas": null,
            "object_position": null,
            "object_fit": null,
            "grid_auto_columns": null,
            "margin": null,
            "display": null,
            "left": null
          }
        },
        "b79f4abd93cf4694908f04f82100d8e3": {
          "model_module": "@jupyter-widgets/controls",
          "model_name": "HBoxModel",
          "state": {
            "_view_name": "HBoxView",
            "_dom_classes": [],
            "_model_name": "HBoxModel",
            "_view_module": "@jupyter-widgets/controls",
            "_model_module_version": "1.5.0",
            "_view_count": null,
            "_view_module_version": "1.5.0",
            "box_style": "",
            "layout": "IPY_MODEL_e5417262ec164e7c8afcc668810af42d",
            "_model_module": "@jupyter-widgets/controls",
            "children": [
              "IPY_MODEL_0555bca300d1466aad538965818b01e6",
              "IPY_MODEL_522fc8cf79b144c2a950c27523594972"
            ]
          }
        },
        "e5417262ec164e7c8afcc668810af42d": {
          "model_module": "@jupyter-widgets/base",
          "model_name": "LayoutModel",
          "state": {
            "_view_name": "LayoutView",
            "grid_template_rows": null,
            "right": null,
            "justify_content": null,
            "_view_module": "@jupyter-widgets/base",
            "overflow": null,
            "_model_module_version": "1.2.0",
            "_view_count": null,
            "flex_flow": null,
            "width": null,
            "min_width": null,
            "border": null,
            "align_items": null,
            "bottom": null,
            "_model_module": "@jupyter-widgets/base",
            "top": null,
            "grid_column": null,
            "overflow_y": null,
            "overflow_x": null,
            "grid_auto_flow": null,
            "grid_area": null,
            "grid_template_columns": null,
            "flex": null,
            "_model_name": "LayoutModel",
            "justify_items": null,
            "grid_row": null,
            "max_height": null,
            "align_content": null,
            "visibility": null,
            "align_self": null,
            "height": null,
            "min_height": null,
            "padding": null,
            "grid_auto_rows": null,
            "grid_gap": null,
            "max_width": null,
            "order": null,
            "_view_module_version": "1.2.0",
            "grid_template_areas": null,
            "object_position": null,
            "object_fit": null,
            "grid_auto_columns": null,
            "margin": null,
            "display": null,
            "left": null
          }
        },
        "0555bca300d1466aad538965818b01e6": {
          "model_module": "@jupyter-widgets/controls",
          "model_name": "FloatProgressModel",
          "state": {
            "_view_name": "ProgressView",
            "style": "IPY_MODEL_30b34b78dd3f4904ad4174bc335aac7f",
            "_dom_classes": [],
            "description": "100%",
            "_model_name": "FloatProgressModel",
            "bar_style": "success",
            "max": 29,
            "_view_module": "@jupyter-widgets/controls",
            "_model_module_version": "1.5.0",
            "value": 29,
            "_view_count": null,
            "_view_module_version": "1.5.0",
            "orientation": "horizontal",
            "min": 0,
            "description_tooltip": null,
            "_model_module": "@jupyter-widgets/controls",
            "layout": "IPY_MODEL_ac6c58d2182c450b9797c1cafb70bedb"
          }
        },
        "522fc8cf79b144c2a950c27523594972": {
          "model_module": "@jupyter-widgets/controls",
          "model_name": "HTMLModel",
          "state": {
            "_view_name": "HTMLView",
            "style": "IPY_MODEL_4ca84699247f4878a4665d2cc42938ad",
            "_dom_classes": [],
            "description": "",
            "_model_name": "HTMLModel",
            "placeholder": "​",
            "_view_module": "@jupyter-widgets/controls",
            "_model_module_version": "1.5.0",
            "value": " 29/29 [09:43&lt;00:00, 20.14s/ba]",
            "_view_count": null,
            "_view_module_version": "1.5.0",
            "description_tooltip": null,
            "_model_module": "@jupyter-widgets/controls",
            "layout": "IPY_MODEL_6ac76a04d4d54c90b0f80929030249fd"
          }
        },
        "30b34b78dd3f4904ad4174bc335aac7f": {
          "model_module": "@jupyter-widgets/controls",
          "model_name": "ProgressStyleModel",
          "state": {
            "_view_name": "StyleView",
            "_model_name": "ProgressStyleModel",
            "description_width": "initial",
            "_view_module": "@jupyter-widgets/base",
            "_model_module_version": "1.5.0",
            "_view_count": null,
            "_view_module_version": "1.2.0",
            "bar_color": null,
            "_model_module": "@jupyter-widgets/controls"
          }
        },
        "ac6c58d2182c450b9797c1cafb70bedb": {
          "model_module": "@jupyter-widgets/base",
          "model_name": "LayoutModel",
          "state": {
            "_view_name": "LayoutView",
            "grid_template_rows": null,
            "right": null,
            "justify_content": null,
            "_view_module": "@jupyter-widgets/base",
            "overflow": null,
            "_model_module_version": "1.2.0",
            "_view_count": null,
            "flex_flow": null,
            "width": null,
            "min_width": null,
            "border": null,
            "align_items": null,
            "bottom": null,
            "_model_module": "@jupyter-widgets/base",
            "top": null,
            "grid_column": null,
            "overflow_y": null,
            "overflow_x": null,
            "grid_auto_flow": null,
            "grid_area": null,
            "grid_template_columns": null,
            "flex": null,
            "_model_name": "LayoutModel",
            "justify_items": null,
            "grid_row": null,
            "max_height": null,
            "align_content": null,
            "visibility": null,
            "align_self": null,
            "height": null,
            "min_height": null,
            "padding": null,
            "grid_auto_rows": null,
            "grid_gap": null,
            "max_width": null,
            "order": null,
            "_view_module_version": "1.2.0",
            "grid_template_areas": null,
            "object_position": null,
            "object_fit": null,
            "grid_auto_columns": null,
            "margin": null,
            "display": null,
            "left": null
          }
        },
        "4ca84699247f4878a4665d2cc42938ad": {
          "model_module": "@jupyter-widgets/controls",
          "model_name": "DescriptionStyleModel",
          "state": {
            "_view_name": "StyleView",
            "_model_name": "DescriptionStyleModel",
            "description_width": "",
            "_view_module": "@jupyter-widgets/base",
            "_model_module_version": "1.5.0",
            "_view_count": null,
            "_view_module_version": "1.2.0",
            "_model_module": "@jupyter-widgets/controls"
          }
        },
        "6ac76a04d4d54c90b0f80929030249fd": {
          "model_module": "@jupyter-widgets/base",
          "model_name": "LayoutModel",
          "state": {
            "_view_name": "LayoutView",
            "grid_template_rows": null,
            "right": null,
            "justify_content": null,
            "_view_module": "@jupyter-widgets/base",
            "overflow": null,
            "_model_module_version": "1.2.0",
            "_view_count": null,
            "flex_flow": null,
            "width": null,
            "min_width": null,
            "border": null,
            "align_items": null,
            "bottom": null,
            "_model_module": "@jupyter-widgets/base",
            "top": null,
            "grid_column": null,
            "overflow_y": null,
            "overflow_x": null,
            "grid_auto_flow": null,
            "grid_area": null,
            "grid_template_columns": null,
            "flex": null,
            "_model_name": "LayoutModel",
            "justify_items": null,
            "grid_row": null,
            "max_height": null,
            "align_content": null,
            "visibility": null,
            "align_self": null,
            "height": null,
            "min_height": null,
            "padding": null,
            "grid_auto_rows": null,
            "grid_gap": null,
            "max_width": null,
            "order": null,
            "_view_module_version": "1.2.0",
            "grid_template_areas": null,
            "object_position": null,
            "object_fit": null,
            "grid_auto_columns": null,
            "margin": null,
            "display": null,
            "left": null
          }
        },
        "9c420c3bfa424906bfa494b226e2907a": {
          "model_module": "@jupyter-widgets/controls",
          "model_name": "HBoxModel",
          "state": {
            "_view_name": "HBoxView",
            "_dom_classes": [],
            "_model_name": "HBoxModel",
            "_view_module": "@jupyter-widgets/controls",
            "_model_module_version": "1.5.0",
            "_view_count": null,
            "_view_module_version": "1.5.0",
            "box_style": "",
            "layout": "IPY_MODEL_20d6490579914d69b003a553cadf1644",
            "_model_module": "@jupyter-widgets/controls",
            "children": [
              "IPY_MODEL_5acee8e2818646c18e6dc08d5dc3a94c",
              "IPY_MODEL_5e52156ead384641aff0366d800c935e"
            ]
          }
        },
        "20d6490579914d69b003a553cadf1644": {
          "model_module": "@jupyter-widgets/base",
          "model_name": "LayoutModel",
          "state": {
            "_view_name": "LayoutView",
            "grid_template_rows": null,
            "right": null,
            "justify_content": null,
            "_view_module": "@jupyter-widgets/base",
            "overflow": null,
            "_model_module_version": "1.2.0",
            "_view_count": null,
            "flex_flow": null,
            "width": null,
            "min_width": null,
            "border": null,
            "align_items": null,
            "bottom": null,
            "_model_module": "@jupyter-widgets/base",
            "top": null,
            "grid_column": null,
            "overflow_y": null,
            "overflow_x": null,
            "grid_auto_flow": null,
            "grid_area": null,
            "grid_template_columns": null,
            "flex": null,
            "_model_name": "LayoutModel",
            "justify_items": null,
            "grid_row": null,
            "max_height": null,
            "align_content": null,
            "visibility": null,
            "align_self": null,
            "height": null,
            "min_height": null,
            "padding": null,
            "grid_auto_rows": null,
            "grid_gap": null,
            "max_width": null,
            "order": null,
            "_view_module_version": "1.2.0",
            "grid_template_areas": null,
            "object_position": null,
            "object_fit": null,
            "grid_auto_columns": null,
            "margin": null,
            "display": null,
            "left": null
          }
        },
        "5acee8e2818646c18e6dc08d5dc3a94c": {
          "model_module": "@jupyter-widgets/controls",
          "model_name": "FloatProgressModel",
          "state": {
            "_view_name": "ProgressView",
            "style": "IPY_MODEL_e4bdf4e8f4ee4eb19a0b5ac0ae4a2d96",
            "_dom_classes": [],
            "description": "100%",
            "_model_name": "FloatProgressModel",
            "bar_style": "success",
            "max": 28908,
            "_view_module": "@jupyter-widgets/controls",
            "_model_module_version": "1.5.0",
            "value": 28908,
            "_view_count": null,
            "_view_module_version": "1.5.0",
            "orientation": "horizontal",
            "min": 0,
            "description_tooltip": null,
            "_model_module": "@jupyter-widgets/controls",
            "layout": "IPY_MODEL_237ffb1f0cfc4375ab4d6a3c42e8cfa6"
          }
        },
        "5e52156ead384641aff0366d800c935e": {
          "model_module": "@jupyter-widgets/controls",
          "model_name": "HTMLModel",
          "state": {
            "_view_name": "HTMLView",
            "style": "IPY_MODEL_fe4f75b3aa594325aeb80063c0bafb9d",
            "_dom_classes": [],
            "description": "",
            "_model_name": "HTMLModel",
            "placeholder": "​",
            "_view_module": "@jupyter-widgets/controls",
            "_model_module_version": "1.5.0",
            "value": " 28908/28908 [01:29&lt;00:00, 323.18it/s]",
            "_view_count": null,
            "_view_module_version": "1.5.0",
            "description_tooltip": null,
            "_model_module": "@jupyter-widgets/controls",
            "layout": "IPY_MODEL_15d6ee18dbb74c75bb16c78e33484abc"
          }
        },
        "e4bdf4e8f4ee4eb19a0b5ac0ae4a2d96": {
          "model_module": "@jupyter-widgets/controls",
          "model_name": "ProgressStyleModel",
          "state": {
            "_view_name": "StyleView",
            "_model_name": "ProgressStyleModel",
            "description_width": "initial",
            "_view_module": "@jupyter-widgets/base",
            "_model_module_version": "1.5.0",
            "_view_count": null,
            "_view_module_version": "1.2.0",
            "bar_color": null,
            "_model_module": "@jupyter-widgets/controls"
          }
        },
        "237ffb1f0cfc4375ab4d6a3c42e8cfa6": {
          "model_module": "@jupyter-widgets/base",
          "model_name": "LayoutModel",
          "state": {
            "_view_name": "LayoutView",
            "grid_template_rows": null,
            "right": null,
            "justify_content": null,
            "_view_module": "@jupyter-widgets/base",
            "overflow": null,
            "_model_module_version": "1.2.0",
            "_view_count": null,
            "flex_flow": null,
            "width": null,
            "min_width": null,
            "border": null,
            "align_items": null,
            "bottom": null,
            "_model_module": "@jupyter-widgets/base",
            "top": null,
            "grid_column": null,
            "overflow_y": null,
            "overflow_x": null,
            "grid_auto_flow": null,
            "grid_area": null,
            "grid_template_columns": null,
            "flex": null,
            "_model_name": "LayoutModel",
            "justify_items": null,
            "grid_row": null,
            "max_height": null,
            "align_content": null,
            "visibility": null,
            "align_self": null,
            "height": null,
            "min_height": null,
            "padding": null,
            "grid_auto_rows": null,
            "grid_gap": null,
            "max_width": null,
            "order": null,
            "_view_module_version": "1.2.0",
            "grid_template_areas": null,
            "object_position": null,
            "object_fit": null,
            "grid_auto_columns": null,
            "margin": null,
            "display": null,
            "left": null
          }
        },
        "fe4f75b3aa594325aeb80063c0bafb9d": {
          "model_module": "@jupyter-widgets/controls",
          "model_name": "DescriptionStyleModel",
          "state": {
            "_view_name": "StyleView",
            "_model_name": "DescriptionStyleModel",
            "description_width": "",
            "_view_module": "@jupyter-widgets/base",
            "_model_module_version": "1.5.0",
            "_view_count": null,
            "_view_module_version": "1.2.0",
            "_model_module": "@jupyter-widgets/controls"
          }
        },
        "15d6ee18dbb74c75bb16c78e33484abc": {
          "model_module": "@jupyter-widgets/base",
          "model_name": "LayoutModel",
          "state": {
            "_view_name": "LayoutView",
            "grid_template_rows": null,
            "right": null,
            "justify_content": null,
            "_view_module": "@jupyter-widgets/base",
            "overflow": null,
            "_model_module_version": "1.2.0",
            "_view_count": null,
            "flex_flow": null,
            "width": null,
            "min_width": null,
            "border": null,
            "align_items": null,
            "bottom": null,
            "_model_module": "@jupyter-widgets/base",
            "top": null,
            "grid_column": null,
            "overflow_y": null,
            "overflow_x": null,
            "grid_auto_flow": null,
            "grid_area": null,
            "grid_template_columns": null,
            "flex": null,
            "_model_name": "LayoutModel",
            "justify_items": null,
            "grid_row": null,
            "max_height": null,
            "align_content": null,
            "visibility": null,
            "align_self": null,
            "height": null,
            "min_height": null,
            "padding": null,
            "grid_auto_rows": null,
            "grid_gap": null,
            "max_width": null,
            "order": null,
            "_view_module_version": "1.2.0",
            "grid_template_areas": null,
            "object_position": null,
            "object_fit": null,
            "grid_auto_columns": null,
            "margin": null,
            "display": null,
            "left": null
          }
        },
        "83c5de0bd35c480fb448c90f2c16c51f": {
          "model_module": "@jupyter-widgets/controls",
          "model_name": "HBoxModel",
          "state": {
            "_view_name": "HBoxView",
            "_dom_classes": [],
            "_model_name": "HBoxModel",
            "_view_module": "@jupyter-widgets/controls",
            "_model_module_version": "1.5.0",
            "_view_count": null,
            "_view_module_version": "1.5.0",
            "box_style": "",
            "layout": "IPY_MODEL_1a21f1dc66124e63a9b4952f30bd1166",
            "_model_module": "@jupyter-widgets/controls",
            "children": [
              "IPY_MODEL_807de3b18c7d41c9b11e45bdcfe11935",
              "IPY_MODEL_62a57b34b2fe4d1a8a2d128a8ba17cea"
            ]
          }
        },
        "1a21f1dc66124e63a9b4952f30bd1166": {
          "model_module": "@jupyter-widgets/base",
          "model_name": "LayoutModel",
          "state": {
            "_view_name": "LayoutView",
            "grid_template_rows": null,
            "right": null,
            "justify_content": null,
            "_view_module": "@jupyter-widgets/base",
            "overflow": null,
            "_model_module_version": "1.2.0",
            "_view_count": null,
            "flex_flow": null,
            "width": null,
            "min_width": null,
            "border": null,
            "align_items": null,
            "bottom": null,
            "_model_module": "@jupyter-widgets/base",
            "top": null,
            "grid_column": null,
            "overflow_y": null,
            "overflow_x": null,
            "grid_auto_flow": null,
            "grid_area": null,
            "grid_template_columns": null,
            "flex": null,
            "_model_name": "LayoutModel",
            "justify_items": null,
            "grid_row": null,
            "max_height": null,
            "align_content": null,
            "visibility": null,
            "align_self": null,
            "height": null,
            "min_height": null,
            "padding": null,
            "grid_auto_rows": null,
            "grid_gap": null,
            "max_width": null,
            "order": null,
            "_view_module_version": "1.2.0",
            "grid_template_areas": null,
            "object_position": null,
            "object_fit": null,
            "grid_auto_columns": null,
            "margin": null,
            "display": null,
            "left": null
          }
        },
        "807de3b18c7d41c9b11e45bdcfe11935": {
          "model_module": "@jupyter-widgets/controls",
          "model_name": "FloatProgressModel",
          "state": {
            "_view_name": "ProgressView",
            "style": "IPY_MODEL_ad944b55b2a24c34a3dafb9852202857",
            "_dom_classes": [],
            "description": "Downloading: ",
            "_model_name": "FloatProgressModel",
            "bar_style": "success",
            "max": 1726,
            "_view_module": "@jupyter-widgets/controls",
            "_model_module_version": "1.5.0",
            "value": 1726,
            "_view_count": null,
            "_view_module_version": "1.5.0",
            "orientation": "horizontal",
            "min": 0,
            "description_tooltip": null,
            "_model_module": "@jupyter-widgets/controls",
            "layout": "IPY_MODEL_ed80463428864e0fa11b67f034c08963"
          }
        },
        "62a57b34b2fe4d1a8a2d128a8ba17cea": {
          "model_module": "@jupyter-widgets/controls",
          "model_name": "HTMLModel",
          "state": {
            "_view_name": "HTMLView",
            "style": "IPY_MODEL_ba1bf85fa0644758aa6abe5b807ea69a",
            "_dom_classes": [],
            "description": "",
            "_model_name": "HTMLModel",
            "placeholder": "​",
            "_view_module": "@jupyter-widgets/controls",
            "_model_module_version": "1.5.0",
            "value": " 4.51k/? [00:00&lt;00:00, 9.34kB/s]",
            "_view_count": null,
            "_view_module_version": "1.5.0",
            "description_tooltip": null,
            "_model_module": "@jupyter-widgets/controls",
            "layout": "IPY_MODEL_e63fa7ac974e4d23aec70a65252f618d"
          }
        },
        "ad944b55b2a24c34a3dafb9852202857": {
          "model_module": "@jupyter-widgets/controls",
          "model_name": "ProgressStyleModel",
          "state": {
            "_view_name": "StyleView",
            "_model_name": "ProgressStyleModel",
            "description_width": "initial",
            "_view_module": "@jupyter-widgets/base",
            "_model_module_version": "1.5.0",
            "_view_count": null,
            "_view_module_version": "1.2.0",
            "bar_color": null,
            "_model_module": "@jupyter-widgets/controls"
          }
        },
        "ed80463428864e0fa11b67f034c08963": {
          "model_module": "@jupyter-widgets/base",
          "model_name": "LayoutModel",
          "state": {
            "_view_name": "LayoutView",
            "grid_template_rows": null,
            "right": null,
            "justify_content": null,
            "_view_module": "@jupyter-widgets/base",
            "overflow": null,
            "_model_module_version": "1.2.0",
            "_view_count": null,
            "flex_flow": null,
            "width": null,
            "min_width": null,
            "border": null,
            "align_items": null,
            "bottom": null,
            "_model_module": "@jupyter-widgets/base",
            "top": null,
            "grid_column": null,
            "overflow_y": null,
            "overflow_x": null,
            "grid_auto_flow": null,
            "grid_area": null,
            "grid_template_columns": null,
            "flex": null,
            "_model_name": "LayoutModel",
            "justify_items": null,
            "grid_row": null,
            "max_height": null,
            "align_content": null,
            "visibility": null,
            "align_self": null,
            "height": null,
            "min_height": null,
            "padding": null,
            "grid_auto_rows": null,
            "grid_gap": null,
            "max_width": null,
            "order": null,
            "_view_module_version": "1.2.0",
            "grid_template_areas": null,
            "object_position": null,
            "object_fit": null,
            "grid_auto_columns": null,
            "margin": null,
            "display": null,
            "left": null
          }
        },
        "ba1bf85fa0644758aa6abe5b807ea69a": {
          "model_module": "@jupyter-widgets/controls",
          "model_name": "DescriptionStyleModel",
          "state": {
            "_view_name": "StyleView",
            "_model_name": "DescriptionStyleModel",
            "description_width": "",
            "_view_module": "@jupyter-widgets/base",
            "_model_module_version": "1.5.0",
            "_view_count": null,
            "_view_module_version": "1.2.0",
            "_model_module": "@jupyter-widgets/controls"
          }
        },
        "e63fa7ac974e4d23aec70a65252f618d": {
          "model_module": "@jupyter-widgets/base",
          "model_name": "LayoutModel",
          "state": {
            "_view_name": "LayoutView",
            "grid_template_rows": null,
            "right": null,
            "justify_content": null,
            "_view_module": "@jupyter-widgets/base",
            "overflow": null,
            "_model_module_version": "1.2.0",
            "_view_count": null,
            "flex_flow": null,
            "width": null,
            "min_width": null,
            "border": null,
            "align_items": null,
            "bottom": null,
            "_model_module": "@jupyter-widgets/base",
            "top": null,
            "grid_column": null,
            "overflow_y": null,
            "overflow_x": null,
            "grid_auto_flow": null,
            "grid_area": null,
            "grid_template_columns": null,
            "flex": null,
            "_model_name": "LayoutModel",
            "justify_items": null,
            "grid_row": null,
            "max_height": null,
            "align_content": null,
            "visibility": null,
            "align_self": null,
            "height": null,
            "min_height": null,
            "padding": null,
            "grid_auto_rows": null,
            "grid_gap": null,
            "max_width": null,
            "order": null,
            "_view_module_version": "1.2.0",
            "grid_template_areas": null,
            "object_position": null,
            "object_fit": null,
            "grid_auto_columns": null,
            "margin": null,
            "display": null,
            "left": null
          }
        },
        "ce5ba1af33684a328f83a33d7888841f": {
          "model_module": "@jupyter-widgets/controls",
          "model_name": "HBoxModel",
          "state": {
            "_view_name": "HBoxView",
            "_dom_classes": [],
            "_model_name": "HBoxModel",
            "_view_module": "@jupyter-widgets/controls",
            "_model_module_version": "1.5.0",
            "_view_count": null,
            "_view_module_version": "1.5.0",
            "box_style": "",
            "layout": "IPY_MODEL_cade3114c79e4bc692ca31e2eb1ee8ff",
            "_model_module": "@jupyter-widgets/controls",
            "children": [
              "IPY_MODEL_dfeb105a607f49a59ffafdb08bdef022",
              "IPY_MODEL_58e29c1f24b04521bde60aa8c9f6441b"
            ]
          }
        },
        "cade3114c79e4bc692ca31e2eb1ee8ff": {
          "model_module": "@jupyter-widgets/base",
          "model_name": "LayoutModel",
          "state": {
            "_view_name": "LayoutView",
            "grid_template_rows": null,
            "right": null,
            "justify_content": null,
            "_view_module": "@jupyter-widgets/base",
            "overflow": null,
            "_model_module_version": "1.2.0",
            "_view_count": null,
            "flex_flow": null,
            "width": null,
            "min_width": null,
            "border": null,
            "align_items": null,
            "bottom": null,
            "_model_module": "@jupyter-widgets/base",
            "top": null,
            "grid_column": null,
            "overflow_y": null,
            "overflow_x": null,
            "grid_auto_flow": null,
            "grid_area": null,
            "grid_template_columns": null,
            "flex": null,
            "_model_name": "LayoutModel",
            "justify_items": null,
            "grid_row": null,
            "max_height": null,
            "align_content": null,
            "visibility": null,
            "align_self": null,
            "height": null,
            "min_height": null,
            "padding": null,
            "grid_auto_rows": null,
            "grid_gap": null,
            "max_width": null,
            "order": null,
            "_view_module_version": "1.2.0",
            "grid_template_areas": null,
            "object_position": null,
            "object_fit": null,
            "grid_auto_columns": null,
            "margin": null,
            "display": null,
            "left": null
          }
        },
        "dfeb105a607f49a59ffafdb08bdef022": {
          "model_module": "@jupyter-widgets/controls",
          "model_name": "FloatProgressModel",
          "state": {
            "_view_name": "ProgressView",
            "style": "IPY_MODEL_6b8fc7f02aad4816acdbe991251a052c",
            "_dom_classes": [],
            "description": "Downloading: ",
            "_model_name": "FloatProgressModel",
            "bar_style": "success",
            "max": 1119,
            "_view_module": "@jupyter-widgets/controls",
            "_model_module_version": "1.5.0",
            "value": 1119,
            "_view_count": null,
            "_view_module_version": "1.5.0",
            "orientation": "horizontal",
            "min": 0,
            "description_tooltip": null,
            "_model_module": "@jupyter-widgets/controls",
            "layout": "IPY_MODEL_505d0af9bbda41598afdffddc36095e4"
          }
        },
        "58e29c1f24b04521bde60aa8c9f6441b": {
          "model_module": "@jupyter-widgets/controls",
          "model_name": "HTMLModel",
          "state": {
            "_view_name": "HTMLView",
            "style": "IPY_MODEL_70dc6ac663a54e718adb1315ff36da0f",
            "_dom_classes": [],
            "description": "",
            "_model_name": "HTMLModel",
            "placeholder": "​",
            "_view_module": "@jupyter-widgets/controls",
            "_model_module_version": "1.5.0",
            "value": " 3.31k/? [00:00&lt;00:00, 52.5kB/s]",
            "_view_count": null,
            "_view_module_version": "1.5.0",
            "description_tooltip": null,
            "_model_module": "@jupyter-widgets/controls",
            "layout": "IPY_MODEL_caf02f85fb02418a850e3776b0709188"
          }
        },
        "6b8fc7f02aad4816acdbe991251a052c": {
          "model_module": "@jupyter-widgets/controls",
          "model_name": "ProgressStyleModel",
          "state": {
            "_view_name": "StyleView",
            "_model_name": "ProgressStyleModel",
            "description_width": "initial",
            "_view_module": "@jupyter-widgets/base",
            "_model_module_version": "1.5.0",
            "_view_count": null,
            "_view_module_version": "1.2.0",
            "bar_color": null,
            "_model_module": "@jupyter-widgets/controls"
          }
        },
        "505d0af9bbda41598afdffddc36095e4": {
          "model_module": "@jupyter-widgets/base",
          "model_name": "LayoutModel",
          "state": {
            "_view_name": "LayoutView",
            "grid_template_rows": null,
            "right": null,
            "justify_content": null,
            "_view_module": "@jupyter-widgets/base",
            "overflow": null,
            "_model_module_version": "1.2.0",
            "_view_count": null,
            "flex_flow": null,
            "width": null,
            "min_width": null,
            "border": null,
            "align_items": null,
            "bottom": null,
            "_model_module": "@jupyter-widgets/base",
            "top": null,
            "grid_column": null,
            "overflow_y": null,
            "overflow_x": null,
            "grid_auto_flow": null,
            "grid_area": null,
            "grid_template_columns": null,
            "flex": null,
            "_model_name": "LayoutModel",
            "justify_items": null,
            "grid_row": null,
            "max_height": null,
            "align_content": null,
            "visibility": null,
            "align_self": null,
            "height": null,
            "min_height": null,
            "padding": null,
            "grid_auto_rows": null,
            "grid_gap": null,
            "max_width": null,
            "order": null,
            "_view_module_version": "1.2.0",
            "grid_template_areas": null,
            "object_position": null,
            "object_fit": null,
            "grid_auto_columns": null,
            "margin": null,
            "display": null,
            "left": null
          }
        },
        "70dc6ac663a54e718adb1315ff36da0f": {
          "model_module": "@jupyter-widgets/controls",
          "model_name": "DescriptionStyleModel",
          "state": {
            "_view_name": "StyleView",
            "_model_name": "DescriptionStyleModel",
            "description_width": "",
            "_view_module": "@jupyter-widgets/base",
            "_model_module_version": "1.5.0",
            "_view_count": null,
            "_view_module_version": "1.2.0",
            "_model_module": "@jupyter-widgets/controls"
          }
        },
        "caf02f85fb02418a850e3776b0709188": {
          "model_module": "@jupyter-widgets/base",
          "model_name": "LayoutModel",
          "state": {
            "_view_name": "LayoutView",
            "grid_template_rows": null,
            "right": null,
            "justify_content": null,
            "_view_module": "@jupyter-widgets/base",
            "overflow": null,
            "_model_module_version": "1.2.0",
            "_view_count": null,
            "flex_flow": null,
            "width": null,
            "min_width": null,
            "border": null,
            "align_items": null,
            "bottom": null,
            "_model_module": "@jupyter-widgets/base",
            "top": null,
            "grid_column": null,
            "overflow_y": null,
            "overflow_x": null,
            "grid_auto_flow": null,
            "grid_area": null,
            "grid_template_columns": null,
            "flex": null,
            "_model_name": "LayoutModel",
            "justify_items": null,
            "grid_row": null,
            "max_height": null,
            "align_content": null,
            "visibility": null,
            "align_self": null,
            "height": null,
            "min_height": null,
            "padding": null,
            "grid_auto_rows": null,
            "grid_gap": null,
            "max_width": null,
            "order": null,
            "_view_module_version": "1.2.0",
            "grid_template_areas": null,
            "object_position": null,
            "object_fit": null,
            "grid_auto_columns": null,
            "margin": null,
            "display": null,
            "left": null
          }
        },
        "87096b907d67440da538eb7f797b7848": {
          "model_module": "@jupyter-widgets/controls",
          "model_name": "HBoxModel",
          "state": {
            "_view_name": "HBoxView",
            "_dom_classes": [],
            "_model_name": "HBoxModel",
            "_view_module": "@jupyter-widgets/controls",
            "_model_module_version": "1.5.0",
            "_view_count": null,
            "_view_module_version": "1.5.0",
            "box_style": "",
            "layout": "IPY_MODEL_8c62b21898a04fc29511db53f032507e",
            "_model_module": "@jupyter-widgets/controls",
            "children": [
              "IPY_MODEL_ec16172829e24547a80dd04789d709f0",
              "IPY_MODEL_453876ce77004371987e12586fa6e410"
            ]
          }
        },
        "8c62b21898a04fc29511db53f032507e": {
          "model_module": "@jupyter-widgets/base",
          "model_name": "LayoutModel",
          "state": {
            "_view_name": "LayoutView",
            "grid_template_rows": null,
            "right": null,
            "justify_content": null,
            "_view_module": "@jupyter-widgets/base",
            "overflow": null,
            "_model_module_version": "1.2.0",
            "_view_count": null,
            "flex_flow": null,
            "width": null,
            "min_width": null,
            "border": null,
            "align_items": null,
            "bottom": null,
            "_model_module": "@jupyter-widgets/base",
            "top": null,
            "grid_column": null,
            "overflow_y": null,
            "overflow_x": null,
            "grid_auto_flow": null,
            "grid_area": null,
            "grid_template_columns": null,
            "flex": null,
            "_model_name": "LayoutModel",
            "justify_items": null,
            "grid_row": null,
            "max_height": null,
            "align_content": null,
            "visibility": null,
            "align_self": null,
            "height": null,
            "min_height": null,
            "padding": null,
            "grid_auto_rows": null,
            "grid_gap": null,
            "max_width": null,
            "order": null,
            "_view_module_version": "1.2.0",
            "grid_template_areas": null,
            "object_position": null,
            "object_fit": null,
            "grid_auto_columns": null,
            "margin": null,
            "display": null,
            "left": null
          }
        },
        "ec16172829e24547a80dd04789d709f0": {
          "model_module": "@jupyter-widgets/controls",
          "model_name": "FloatProgressModel",
          "state": {
            "_view_name": "ProgressView",
            "style": "IPY_MODEL_fc7ee193eae245f182a5a2b55c3cfd6f",
            "_dom_classes": [],
            "description": "100%",
            "_model_name": "FloatProgressModel",
            "bar_style": "success",
            "max": 1,
            "_view_module": "@jupyter-widgets/controls",
            "_model_module_version": "1.5.0",
            "value": 1,
            "_view_count": null,
            "_view_module_version": "1.5.0",
            "orientation": "horizontal",
            "min": 0,
            "description_tooltip": null,
            "_model_module": "@jupyter-widgets/controls",
            "layout": "IPY_MODEL_32df2363e0864fdaab1b3131a7e8204a"
          }
        },
        "453876ce77004371987e12586fa6e410": {
          "model_module": "@jupyter-widgets/controls",
          "model_name": "HTMLModel",
          "state": {
            "_view_name": "HTMLView",
            "style": "IPY_MODEL_7f609a3427ad4578bdcac0279f7f17d5",
            "_dom_classes": [],
            "description": "",
            "_model_name": "HTMLModel",
            "placeholder": "​",
            "_view_module": "@jupyter-widgets/controls",
            "_model_module_version": "1.5.0",
            "value": " 1/1 [00:00&lt;00:00,  8.68ba/s]",
            "_view_count": null,
            "_view_module_version": "1.5.0",
            "description_tooltip": null,
            "_model_module": "@jupyter-widgets/controls",
            "layout": "IPY_MODEL_6c28646616f3409ab97b1e20736f8399"
          }
        },
        "fc7ee193eae245f182a5a2b55c3cfd6f": {
          "model_module": "@jupyter-widgets/controls",
          "model_name": "ProgressStyleModel",
          "state": {
            "_view_name": "StyleView",
            "_model_name": "ProgressStyleModel",
            "description_width": "initial",
            "_view_module": "@jupyter-widgets/base",
            "_model_module_version": "1.5.0",
            "_view_count": null,
            "_view_module_version": "1.2.0",
            "bar_color": null,
            "_model_module": "@jupyter-widgets/controls"
          }
        },
        "32df2363e0864fdaab1b3131a7e8204a": {
          "model_module": "@jupyter-widgets/base",
          "model_name": "LayoutModel",
          "state": {
            "_view_name": "LayoutView",
            "grid_template_rows": null,
            "right": null,
            "justify_content": null,
            "_view_module": "@jupyter-widgets/base",
            "overflow": null,
            "_model_module_version": "1.2.0",
            "_view_count": null,
            "flex_flow": null,
            "width": null,
            "min_width": null,
            "border": null,
            "align_items": null,
            "bottom": null,
            "_model_module": "@jupyter-widgets/base",
            "top": null,
            "grid_column": null,
            "overflow_y": null,
            "overflow_x": null,
            "grid_auto_flow": null,
            "grid_area": null,
            "grid_template_columns": null,
            "flex": null,
            "_model_name": "LayoutModel",
            "justify_items": null,
            "grid_row": null,
            "max_height": null,
            "align_content": null,
            "visibility": null,
            "align_self": null,
            "height": null,
            "min_height": null,
            "padding": null,
            "grid_auto_rows": null,
            "grid_gap": null,
            "max_width": null,
            "order": null,
            "_view_module_version": "1.2.0",
            "grid_template_areas": null,
            "object_position": null,
            "object_fit": null,
            "grid_auto_columns": null,
            "margin": null,
            "display": null,
            "left": null
          }
        },
        "7f609a3427ad4578bdcac0279f7f17d5": {
          "model_module": "@jupyter-widgets/controls",
          "model_name": "DescriptionStyleModel",
          "state": {
            "_view_name": "StyleView",
            "_model_name": "DescriptionStyleModel",
            "description_width": "",
            "_view_module": "@jupyter-widgets/base",
            "_model_module_version": "1.5.0",
            "_view_count": null,
            "_view_module_version": "1.2.0",
            "_model_module": "@jupyter-widgets/controls"
          }
        },
        "6c28646616f3409ab97b1e20736f8399": {
          "model_module": "@jupyter-widgets/base",
          "model_name": "LayoutModel",
          "state": {
            "_view_name": "LayoutView",
            "grid_template_rows": null,
            "right": null,
            "justify_content": null,
            "_view_module": "@jupyter-widgets/base",
            "overflow": null,
            "_model_module_version": "1.2.0",
            "_view_count": null,
            "flex_flow": null,
            "width": null,
            "min_width": null,
            "border": null,
            "align_items": null,
            "bottom": null,
            "_model_module": "@jupyter-widgets/base",
            "top": null,
            "grid_column": null,
            "overflow_y": null,
            "overflow_x": null,
            "grid_auto_flow": null,
            "grid_area": null,
            "grid_template_columns": null,
            "flex": null,
            "_model_name": "LayoutModel",
            "justify_items": null,
            "grid_row": null,
            "max_height": null,
            "align_content": null,
            "visibility": null,
            "align_self": null,
            "height": null,
            "min_height": null,
            "padding": null,
            "grid_auto_rows": null,
            "grid_gap": null,
            "max_width": null,
            "order": null,
            "_view_module_version": "1.2.0",
            "grid_template_areas": null,
            "object_position": null,
            "object_fit": null,
            "grid_auto_columns": null,
            "margin": null,
            "display": null,
            "left": null
          }
        },
        "eeaf41eb4e194187bc1630b504a379ca": {
          "model_module": "@jupyter-widgets/controls",
          "model_name": "HBoxModel",
          "state": {
            "_view_name": "HBoxView",
            "_dom_classes": [],
            "_model_name": "HBoxModel",
            "_view_module": "@jupyter-widgets/controls",
            "_model_module_version": "1.5.0",
            "_view_count": null,
            "_view_module_version": "1.5.0",
            "box_style": "",
            "layout": "IPY_MODEL_452da70ac94b4c97aae5421860abc59e",
            "_model_module": "@jupyter-widgets/controls",
            "children": [
              "IPY_MODEL_8b6b5ff3319e478d939d67359368aa20",
              "IPY_MODEL_bd9bf739e5584fd8891e7115ff80661e"
            ]
          }
        },
        "452da70ac94b4c97aae5421860abc59e": {
          "model_module": "@jupyter-widgets/base",
          "model_name": "LayoutModel",
          "state": {
            "_view_name": "LayoutView",
            "grid_template_rows": null,
            "right": null,
            "justify_content": null,
            "_view_module": "@jupyter-widgets/base",
            "overflow": null,
            "_model_module_version": "1.2.0",
            "_view_count": null,
            "flex_flow": null,
            "width": null,
            "min_width": null,
            "border": null,
            "align_items": null,
            "bottom": null,
            "_model_module": "@jupyter-widgets/base",
            "top": null,
            "grid_column": null,
            "overflow_y": null,
            "overflow_x": null,
            "grid_auto_flow": null,
            "grid_area": null,
            "grid_template_columns": null,
            "flex": null,
            "_model_name": "LayoutModel",
            "justify_items": null,
            "grid_row": null,
            "max_height": null,
            "align_content": null,
            "visibility": null,
            "align_self": null,
            "height": null,
            "min_height": null,
            "padding": null,
            "grid_auto_rows": null,
            "grid_gap": null,
            "max_width": null,
            "order": null,
            "_view_module_version": "1.2.0",
            "grid_template_areas": null,
            "object_position": null,
            "object_fit": null,
            "grid_auto_columns": null,
            "margin": null,
            "display": null,
            "left": null
          }
        },
        "8b6b5ff3319e478d939d67359368aa20": {
          "model_module": "@jupyter-widgets/controls",
          "model_name": "FloatProgressModel",
          "state": {
            "_view_name": "ProgressView",
            "style": "IPY_MODEL_8ac5a1e04cdf45f39739c5d706c09d96",
            "_dom_classes": [],
            "description": "100%",
            "_model_name": "FloatProgressModel",
            "bar_style": "success",
            "max": 1,
            "_view_module": "@jupyter-widgets/controls",
            "_model_module_version": "1.5.0",
            "value": 1,
            "_view_count": null,
            "_view_module_version": "1.5.0",
            "orientation": "horizontal",
            "min": 0,
            "description_tooltip": null,
            "_model_module": "@jupyter-widgets/controls",
            "layout": "IPY_MODEL_1f765ad233eb49c7a742d032b6924e87"
          }
        },
        "bd9bf739e5584fd8891e7115ff80661e": {
          "model_module": "@jupyter-widgets/controls",
          "model_name": "HTMLModel",
          "state": {
            "_view_name": "HTMLView",
            "style": "IPY_MODEL_869509b4ddf74fefb7182836509b9f9f",
            "_dom_classes": [],
            "description": "",
            "_model_name": "HTMLModel",
            "placeholder": "​",
            "_view_module": "@jupyter-widgets/controls",
            "_model_module_version": "1.5.0",
            "value": " 1/1 [00:00&lt;00:00,  1.10it/s]",
            "_view_count": null,
            "_view_module_version": "1.5.0",
            "description_tooltip": null,
            "_model_module": "@jupyter-widgets/controls",
            "layout": "IPY_MODEL_5a2ddcd374ce4cceaf1291587a2dd2ab"
          }
        },
        "8ac5a1e04cdf45f39739c5d706c09d96": {
          "model_module": "@jupyter-widgets/controls",
          "model_name": "ProgressStyleModel",
          "state": {
            "_view_name": "StyleView",
            "_model_name": "ProgressStyleModel",
            "description_width": "initial",
            "_view_module": "@jupyter-widgets/base",
            "_model_module_version": "1.5.0",
            "_view_count": null,
            "_view_module_version": "1.2.0",
            "bar_color": null,
            "_model_module": "@jupyter-widgets/controls"
          }
        },
        "1f765ad233eb49c7a742d032b6924e87": {
          "model_module": "@jupyter-widgets/base",
          "model_name": "LayoutModel",
          "state": {
            "_view_name": "LayoutView",
            "grid_template_rows": null,
            "right": null,
            "justify_content": null,
            "_view_module": "@jupyter-widgets/base",
            "overflow": null,
            "_model_module_version": "1.2.0",
            "_view_count": null,
            "flex_flow": null,
            "width": null,
            "min_width": null,
            "border": null,
            "align_items": null,
            "bottom": null,
            "_model_module": "@jupyter-widgets/base",
            "top": null,
            "grid_column": null,
            "overflow_y": null,
            "overflow_x": null,
            "grid_auto_flow": null,
            "grid_area": null,
            "grid_template_columns": null,
            "flex": null,
            "_model_name": "LayoutModel",
            "justify_items": null,
            "grid_row": null,
            "max_height": null,
            "align_content": null,
            "visibility": null,
            "align_self": null,
            "height": null,
            "min_height": null,
            "padding": null,
            "grid_auto_rows": null,
            "grid_gap": null,
            "max_width": null,
            "order": null,
            "_view_module_version": "1.2.0",
            "grid_template_areas": null,
            "object_position": null,
            "object_fit": null,
            "grid_auto_columns": null,
            "margin": null,
            "display": null,
            "left": null
          }
        },
        "869509b4ddf74fefb7182836509b9f9f": {
          "model_module": "@jupyter-widgets/controls",
          "model_name": "DescriptionStyleModel",
          "state": {
            "_view_name": "StyleView",
            "_model_name": "DescriptionStyleModel",
            "description_width": "",
            "_view_module": "@jupyter-widgets/base",
            "_model_module_version": "1.5.0",
            "_view_count": null,
            "_view_module_version": "1.2.0",
            "_model_module": "@jupyter-widgets/controls"
          }
        },
        "5a2ddcd374ce4cceaf1291587a2dd2ab": {
          "model_module": "@jupyter-widgets/base",
          "model_name": "LayoutModel",
          "state": {
            "_view_name": "LayoutView",
            "grid_template_rows": null,
            "right": null,
            "justify_content": null,
            "_view_module": "@jupyter-widgets/base",
            "overflow": null,
            "_model_module_version": "1.2.0",
            "_view_count": null,
            "flex_flow": null,
            "width": null,
            "min_width": null,
            "border": null,
            "align_items": null,
            "bottom": null,
            "_model_module": "@jupyter-widgets/base",
            "top": null,
            "grid_column": null,
            "overflow_y": null,
            "overflow_x": null,
            "grid_auto_flow": null,
            "grid_area": null,
            "grid_template_columns": null,
            "flex": null,
            "_model_name": "LayoutModel",
            "justify_items": null,
            "grid_row": null,
            "max_height": null,
            "align_content": null,
            "visibility": null,
            "align_self": null,
            "height": null,
            "min_height": null,
            "padding": null,
            "grid_auto_rows": null,
            "grid_gap": null,
            "max_width": null,
            "order": null,
            "_view_module_version": "1.2.0",
            "grid_template_areas": null,
            "object_position": null,
            "object_fit": null,
            "grid_auto_columns": null,
            "margin": null,
            "display": null,
            "left": null
          }
        }
      }
    }
  },
  "cells": [
    {
      "cell_type": "markdown",
      "metadata": {
        "id": "view-in-github",
        "colab_type": "text"
      },
      "source": [
        "<a href=\"https://colab.research.google.com/github/ion-bueno/bert-from-inside/blob/main/Inside%20a%20NLP%20multitasking%20neural%20network.%20BERT%2C%20one%20model%20to%20rule%20them%20all.ipynb\" target=\"_parent\"><img src=\"https://colab.research.google.com/assets/colab-badge.svg\" alt=\"Open In Colab\"/></a>"
      ]
    },
    {
      "cell_type": "markdown",
      "metadata": {
        "id": "WgMKxMqIGXgD"
      },
      "source": [
        "# Installation"
      ]
    },
    {
      "cell_type": "markdown",
      "metadata": {
        "id": "uo8tsaAo5a11"
      },
      "source": [
        "## Modules"
      ]
    },
    {
      "cell_type": "markdown",
      "metadata": {
        "id": "B9DPjwT0HBlN"
      },
      "source": [
        "During this notebook it is used Pytorch. It is installed running next cell."
      ]
    },
    {
      "cell_type": "code",
      "metadata": {
        "id": "2YcVR9diuNjr"
      },
      "source": [
        "# !pip3 install torch==1.9.0+cu102 torchvision==0.10.0+cu102 torchaudio===0.9.0 -f https://download.pytorch.org/whl/torch_stable.html"
      ],
      "execution_count": 1,
      "outputs": []
    },
    {
      "cell_type": "markdown",
      "metadata": {
        "id": "hDbShn3OWDj0"
      },
      "source": [
        "BERT was developed in TensorFlow in [github.com/google-research/bert](https://github.com/google-research/bert), but it is going to be used the libray of [HuggingFace](https://huggingface.co/transformers/index.html) to show the model"
      ]
    },
    {
      "cell_type": "code",
      "metadata": {
        "id": "Amub2TUVG_hD"
      },
      "source": [
        "!pip3 install datasets\n",
        "!pip3 install transformers"
      ],
      "execution_count": null,
      "outputs": []
    },
    {
      "cell_type": "markdown",
      "metadata": {
        "id": "oic_Lz0GZ6Pt"
      },
      "source": [
        "Import other modules."
      ]
    },
    {
      "cell_type": "code",
      "metadata": {
        "id": "s2LVsAsvOwqW"
      },
      "source": [
        "# Pytorch modules\n",
        "import torch\n",
        "import torch.nn as nn\n",
        "from torch.autograd import Variable\n",
        "import torch.nn.functional as F\n",
        "# Colab modules\n",
        "from google.colab import files\n",
        "# Usual modules used\n",
        "from pathlib import Path\n",
        "import pandas as pd\n",
        "import numpy as np\n",
        "import math\n",
        "import random\n",
        "import os\n",
        "import json\n",
        "import shutil\n",
        "import matplotlib.pyplot as plt\n",
        "import seaborn as sns\n",
        "import datetime\n",
        "import time"
      ],
      "execution_count": 3,
      "outputs": []
    },
    {
      "cell_type": "markdown",
      "metadata": {
        "id": "qmA7A_2yZ28N"
      },
      "source": [
        "Mount drive to load files from Google Drive. Useful to load trained models."
      ]
    },
    {
      "cell_type": "code",
      "metadata": {
        "id": "KatQ5N1QI_ie"
      },
      "source": [
        "# from google.colab import drive\n",
        "# drive.mount('/content/drive')"
      ],
      "execution_count": 4,
      "outputs": []
    },
    {
      "cell_type": "markdown",
      "metadata": {
        "id": "aKArDx-4DHLE"
      },
      "source": [
        "## Recurrent Functions"
      ]
    },
    {
      "cell_type": "markdown",
      "metadata": {
        "id": "1ejw1cJpDix2"
      },
      "source": [
        "Recurrent functions employed during the develoment of the NLP tasks."
      ]
    },
    {
      "cell_type": "code",
      "metadata": {
        "id": "PeinK47-Flnz"
      },
      "source": [
        "def info_device():\n",
        "    # If there's a GPU available\n",
        "    if torch.cuda.is_available():\n",
        "        print(f'\\nUsing GPU {torch.cuda.get_device_name(0)}.', '\\n')\n",
        "    # If not\n",
        "    else:\n",
        "        print('\\nNo GPU available, using the CPU instead.', '\\n')\n",
        "\n",
        "\n",
        "def format_time(elapsed):\n",
        "    '''\n",
        "    Takes a time in seconds and returns a string hh:mm:ss\n",
        "    '''\n",
        "    # Round to the nearest second.\n",
        "    elapsed_rounded = int(round(elapsed))\n",
        "    \n",
        "    # Format as hh:mm:ss\n",
        "    return str(datetime.timedelta(seconds=elapsed_rounded))\n",
        "\n",
        "\n",
        "def plot_loss_curves(df):\n",
        "    # Use plot styling from seaborn.\n",
        "    sns.set(style='darkgrid')\n",
        "\n",
        "    # Increase the plot size and font size.\n",
        "    sns.set(font_scale=1.5)\n",
        "    plt.rcParams[\"figure.figsize\"] = (12,6)\n",
        "\n",
        "    # Plot the learning curve.\n",
        "    plt.plot(df['Training Loss'], 'b-o', label=\"Training\")\n",
        "    plt.plot(df['Validation Loss'], 'g-o', label=\"Validation\")\n",
        "\n",
        "    # Label the plot.\n",
        "    plt.title(\"Training & Validation Loss\")\n",
        "    plt.xlabel(\"Epoch\")\n",
        "    plt.ylabel(\"Loss\")\n",
        "    plt.legend()\n",
        "    plt.xticks(df.index.values)\n",
        "\n",
        "    plt.show()\n",
        "\n",
        "\n",
        "def save_json(path, file):\n",
        "    with open(path, \"w\") as outfile:\n",
        "        json.dump(file, outfile)\n",
        "\n",
        "\n",
        "def download_folder(dir): \n",
        "    !zip -r $dir\\.zip $dir\n",
        "    files.download(f'{dir}.zip')"
      ],
      "execution_count": 5,
      "outputs": []
    },
    {
      "cell_type": "markdown",
      "metadata": {
        "id": "ksCpEC_5vdb_"
      },
      "source": [
        "# 1 - Background\n",
        "\n",
        "Recurrent neural networks (RNN) were declared as state of the art in sequence modeling and transduction problems, in particular long short-term memory (LSTM) and gated recurrent neural networks (GRU).\n",
        "\n",
        "These models work respect the position of the symbols, input and output. They generate a sequence of hidden states $h_t$, function of previous hidden states $h_{t-1}$ and current input $x_t$.\n",
        "\n",
        "\\begin{equation}\n",
        "  h_t = f(x_t, h_{t-1})\n",
        "\\end{equation}\n"
      ]
    },
    {
      "cell_type": "markdown",
      "metadata": {
        "id": "ByU_MM9YmQLq"
      },
      "source": [
        "![RNN](https://raw.githubusercontent.com/ion-bueno/bert-from-inside/main/images/RNN.png)\n",
        "\n",
        "> RNN high level structure. Image from [Dive into Deep Learning](https://d2l.ai/)."
      ]
    },
    {
      "cell_type": "markdown",
      "metadata": {
        "id": "EL9zstqnViDC"
      },
      "source": [
        "However, RNNs are really slow to train due to the sequential computation they employ. This operations cannot be optimized with modern hardware employed today (GPUs or TPUs).\n",
        "\n",
        "Another important issue is the difficulty to capture long-term dependencies. Gradient based learning algorithms face many problems as the sequence or spans increases. Gradients can exploit or vanish, resulting in many difficulties for gradient optimization."
      ]
    },
    {
      "cell_type": "markdown",
      "metadata": {
        "id": "KHtLxnVeSryf"
      },
      "source": [
        "One novel mechanism employed was **Attention**. It is based on retaining the most significant information. It is applied between the elements of the input and the output. In translation for example, between the source sentence and the translation. Attention has been widely used for many tasks, specially in translation.\n",
        "\n",
        "In this work we are interested in one type of attention: **Self-attention**. Attention is only applied between the elements of the input sequence, relating themselves."
      ]
    },
    {
      "cell_type": "markdown",
      "metadata": {
        "id": "3fs7sOi1O53b"
      },
      "source": [
        "# 2 - Self Attention"
      ]
    },
    {
      "cell_type": "markdown",
      "metadata": {
        "id": "NlzWfPuaNpyf"
      },
      "source": [
        "It is an attention mechanism relating different positions of a single sequence in order to compute a representation of the sequence. The goal is mapping sets to sets, regardless of the order in the sequence. Self-attention has been used successfully in a variety of tasks including reading comprehension, abstractive summarization, textual entailment and learning task-independent sentence representations. \\\\"
      ]
    },
    {
      "cell_type": "markdown",
      "metadata": {
        "id": "snXFyJKGRZSP"
      },
      "source": [
        "## 2.1 - Word Embeddings"
      ]
    },
    {
      "cell_type": "markdown",
      "metadata": {
        "id": "gddSt8MOQdP6"
      },
      "source": [
        "If we have a sentence with length $ n $, each word is usually represented with a word vector $ x_i \\in \\mathbb R^{d}, i \\in \\lbrace1, \\dots, n \\rbrace $ which dimension $ d $ depends on the size of embedding space used. This space tries to cluster similar words, classifying them according to a number $ d $ of features.\n",
        "\n",
        "\\begin{matrix}\n",
        "  \\text{The} & \\text{orange} & \\text{is} & \\text{very} & \\text{healthy} \\\\\n",
        "  x_1 & x_2 & x_3 & x_4 & x_5\n",
        "\\end{matrix}"
      ]
    },
    {
      "cell_type": "code",
      "metadata": {
        "colab": {
          "base_uri": "https://localhost:8080/"
        },
        "id": "Q_ZPAha90o8p",
        "outputId": "2f5d08e8-73c6-4a90-f153-5b1bd51b78ba"
      },
      "source": [
        "#@title { vertical-output: true }\n",
        "sentence = \"The orange is very healthy\" #@param {type:\"string\"}\n",
        "list_sentence = sentence.split()\n",
        "#@markdown Dimension of the embedding vector\n",
        "d =  3#@param {type:\"number\"}\n",
        "vocab = set(list_sentence)\n",
        "word_to_ix = {word: i for i, word in enumerate(vocab)}\n",
        "embeds = nn.Embedding(len(word_to_ix), d)\n",
        "\n",
        "for word in list_sentence:\n",
        "  lookup_tensor = torch.tensor(word_to_ix[word], dtype=torch.long)\n",
        "  vector = embeds(lookup_tensor)\n",
        "  print(word)\n",
        "  print(vector.detach().numpy(), '\\n')"
      ],
      "execution_count": 6,
      "outputs": [
        {
          "output_type": "stream",
          "text": [
            "The\n",
            "[-1.4270844  0.3595118  0.1073881] \n",
            "\n",
            "orange\n",
            "[-0.3226558   0.84128296 -0.22574684] \n",
            "\n",
            "is\n",
            "[ 1.8625331  0.5788812 -1.896803 ] \n",
            "\n",
            "very\n",
            "[0.48085693 0.69332105 0.11034871] \n",
            "\n",
            "healthy\n",
            "[ 0.67152673 -0.9558171   0.3913486 ] \n",
            "\n"
          ],
          "name": "stdout"
        }
      ]
    },
    {
      "cell_type": "markdown",
      "metadata": {
        "id": "FQiDwc4JybzS"
      },
      "source": [
        "These vectors do not provide context information, i.e. the relationship with the rest of the elements in the sequence. For example, $ x_2 $ does not determine if *orange* refers to the color or to the fruit, so it is not clear if it exists a clear relationship with *healthy*.\n",
        "\n",
        "Then it is needed another vector, formed by attention weigths, $ y_i \\in \\mathbb R^{n}, i \\in \\lbrace1,\\dots,n\\rbrace $, where $ n $ is the number of elements in the sequence. For all $ i, j \\in \\lbrace{1,\\dots,n}\\rbrace $.\n",
        "\n",
        "\\begin{equation}\n",
        "  y_i = \\sum^{n}_{j} x_j w_{ij}\n",
        "\\end{equation}\n",
        "\n",
        "The question is, how could we get these weigths? In order to illustrate the process, we are going to use the previous sentence and get the weights associated to the new embedding vector for *orange* ($ y_{2} $).\n",
        "\n",
        "> Remember that $ n $ is the number of words in the sentence and $ d $ the dimension of the word vectors."
      ]
    },
    {
      "cell_type": "markdown",
      "metadata": {
        "id": "fo04Vmks3Gq0"
      },
      "source": [
        "> The explanation is based in the slides of [A series of videos on transformers](https://www.youtube.com/playlist?list=PLDw5cZwIToCvXLVY2bSqt7F2gu8y-Rqje) by Lennart Svensson."
      ]
    },
    {
      "cell_type": "markdown",
      "metadata": {
        "id": "9BgDkBMJ2yxK"
      },
      "source": [
        "## 2.2 - Weighted Averages of Words"
      ]
    },
    {
      "cell_type": "markdown",
      "metadata": {
        "id": "2_6qnuArbEUh"
      },
      "source": [
        "The traditional idea was based in providing larger weigths to similar words making use of the **dot product**. Two similar vectors are going to get a bigget dot product than two very distant. Applying the dot product and softmax respect $ x_2 $"
      ]
    },
    {
      "cell_type": "markdown",
      "metadata": {
        "id": "dqoYDolEOJdg"
      },
      "source": [
        "\\begin{equation}\n",
        "  \\begin{matrix} z_{1} = x_1^T x_2 & \\dots & z_{n} = x_n^T x_2 \\end{matrix} \\\\\n",
        "  \\begin{bmatrix} w_{1} & \\dots & w_{n} \\end{bmatrix} = \\text{softmax} \\begin{pmatrix} z_{1} & \\dots & z_{n} \\end{pmatrix} \\\\\n",
        "  y_2 = \\sum_{j=1}^{n} x_j w_{j}\n",
        "\\end{equation}"
      ]
    },
    {
      "cell_type": "markdown",
      "metadata": {
        "id": "IRMYg52-XN6d"
      },
      "source": [
        "![Weighted Averaged of Words](https://raw.githubusercontent.com/ion-bueno/bert-from-inside/main/images/weight_ave_words.png)\n",
        "\n",
        "> Observations and weights respect time. Image from [A series of videos on transformers](https://www.youtube.com/playlist?list=PLDw5cZwIToCvXLVY2bSqt7F2gu8y-Rqje)."
      ]
    },
    {
      "cell_type": "markdown",
      "metadata": {
        "id": "P7WPCEYKYbh_"
      },
      "source": [
        "Intuitively, it is a method which could obtain good results. Nevertheless, several times correlated words are not necessary close. Therefore it is not an accurate and general method to extract the information between one element and the rest of the sequence."
      ]
    },
    {
      "cell_type": "markdown",
      "metadata": {
        "id": "2s8JJyH4MNy0"
      },
      "source": [
        "## 2.3 - Weights in Self-Attention"
      ]
    },
    {
      "cell_type": "markdown",
      "metadata": {
        "id": "biJITJoQXosT"
      },
      "source": [
        "It is necessary to introduce three vectors: **query**, **keys** and **values**. It is also included three new parameters: $ W_Q, W_K, W_V $, which are going to be trained. For all $ i \\in \\lbrace{1,\\dots,n}\\rbrace $.\n",
        "\n",
        "\\begin{matrix}\n",
        "  \\text{Query} & \\rightarrow & q_i = W^Q x_2 \\\\\n",
        "  \\text{Keys} & \\rightarrow & k_i = W^K x_i \\\\\n",
        "  \\text{Values} & \\rightarrow & v_i = W^V x_i \n",
        "\\end{matrix}"
      ]
    },
    {
      "cell_type": "markdown",
      "metadata": {
        "id": "2outRvCKMV-Z"
      },
      "source": [
        "Instead of using directly the inputs $ x_i $, it is employed the **query** $ q_i $ and **keys** $ k_i \\in \\lbrace{1,\\dots,n}\\rbrace $ to calculate the weights:\n",
        "\\begin{equation}\n",
        "    \\begin{matrix} z_{1} = \\frac{k_1^T q_2}{\\sqrt{d}} & \\dots & z_{n} = \\frac{k_n^T q_2}{\\sqrt{d}} \\end{matrix} \\\\\n",
        "  \\begin{bmatrix} w_1 & \\dots & w_n \\end{bmatrix} = \\text{softmax} \\begin{pmatrix} z_1 & \\dots & z_n \\end{pmatrix}\n",
        "\\end{equation}\n"
      ]
    },
    {
      "cell_type": "markdown",
      "metadata": {
        "id": "2AAWQFphXsty"
      },
      "source": [
        "To get the final embedding vector it is used the **values** $ v_i \\in \\lbrace{1,\\dots,n}\\rbrace $ instead of the inputs $ x_i $:\n",
        "\n",
        "\\begin{equation}\n",
        "  y_2 = \\sum_{j=1}^{n} v_j w_{j}\n",
        "\\end{equation}"
      ]
    },
    {
      "cell_type": "markdown",
      "metadata": {
        "id": "sLDkf7xi-hsw"
      },
      "source": [
        "Intuitively,the query attends the word for which we are going to get the attention weights. Keys corresponds with the rest of the elements in the dot product operation. Values are used in the final combination with the weights. Thanks to learnable matrixes, these combinations are optimized to find combinations and correlations in the own sentence."
      ]
    },
    {
      "cell_type": "markdown",
      "metadata": {
        "id": "VsBg0CcUAqvi"
      },
      "source": [
        "![Self-attention process](https://raw.githubusercontent.com/ion-bueno/bert-from-inside/main/images/self-attention_process.png)\n",
        "\n",
        "> Self-attention process. Image from [Illustrated: Self-Attention](https://towardsdatascience.com/illustrated-self-attention-2d627e33b20a)."
      ]
    },
    {
      "cell_type": "markdown",
      "metadata": {
        "id": "4PLlEXM0YpG2"
      },
      "source": [
        "### 2.3.1 - Matrix Notation"
      ]
    },
    {
      "cell_type": "markdown",
      "metadata": {
        "id": "lnvZVIwwDn5W"
      },
      "source": [
        "To represent the whole process in matrix notation:\n",
        "\n",
        "\\begin{matrix}\n",
        "  \\text{Input} & \\rightarrow & X = \\begin{bmatrix} x_1 & \\dots & x_n \\end{bmatrix}\n",
        "\\end{matrix}"
      ]
    },
    {
      "cell_type": "code",
      "metadata": {
        "colab": {
          "base_uri": "https://localhost:8080/"
        },
        "id": "2Ca6iaIA1EjQ",
        "outputId": "cbceb572-2b07-4d00-9a99-554f5c89e932"
      },
      "source": [
        "lookup_tensor = torch.tensor([word_to_ix[word] for word in list_sentence], dtype=torch.long)\n",
        "X = embeds(lookup_tensor).T\n",
        "print('Input: word per column\\n')\n",
        "print(X.detach().numpy())"
      ],
      "execution_count": 7,
      "outputs": [
        {
          "output_type": "stream",
          "text": [
            "Input: word per column\n",
            "\n",
            "[[-1.4270844  -0.3226558   1.8625331   0.48085693  0.67152673]\n",
            " [ 0.3595118   0.84128296  0.5788812   0.69332105 -0.9558171 ]\n",
            " [ 0.1073881  -0.22574684 -1.896803    0.11034871  0.3913486 ]]\n"
          ],
          "name": "stdout"
        }
      ]
    },
    {
      "cell_type": "markdown",
      "metadata": {
        "id": "yME-uGRP24l_"
      },
      "source": [
        "To calculate **query**, **keys** and **values**:\n",
        "\n",
        "\\begin{matrix}\n",
        "  Q = W^Q X = \\begin{bmatrix} q_1 & \\dots & q_n \\end{bmatrix}  \\\\\n",
        "  K = W^K X = \\begin{bmatrix} k_1 & \\dots & k_n \\end{bmatrix} \\\\\n",
        "  V = W^V X = \\begin{bmatrix} v_1 & \\dots & v_n \\end{bmatrix}\n",
        "\\end{matrix}"
      ]
    },
    {
      "cell_type": "code",
      "metadata": {
        "colab": {
          "base_uri": "https://localhost:8080/"
        },
        "id": "MEMuOjMq4XU0",
        "outputId": "eb392c0f-b8fe-49f9-97f3-e19052d464f0"
      },
      "source": [
        "# initialize weight matrixes\n",
        "dim = (d, d)\n",
        "W_Q = torch.randn(dim)\n",
        "W_K = torch.randn(dim)\n",
        "W_V = torch.randn(dim)\n",
        "\n",
        "# calculate query, keys, values\n",
        "Q = W_Q @ X\n",
        "K = W_K @ X\n",
        "V = W_V @ X\n",
        "\n",
        "print('Query\\n')\n",
        "print(Q.detach().numpy(), '\\n')\n",
        "print('Keys\\n')\n",
        "print(K.detach().numpy(), '\\n')\n",
        "print('Values\\n')\n",
        "print(V.detach().numpy(), '\\n')"
      ],
      "execution_count": 10,
      "outputs": [
        {
          "output_type": "stream",
          "text": [
            "Query\n",
            "\n",
            "[[ 0.66137916 -0.31311184 -1.8683293  -0.61087376  0.21525767]\n",
            " [ 4.272571    1.2250328  -4.875417   -1.2629364  -2.323167  ]\n",
            " [-0.64698535  0.33287638  3.119269    0.25764674 -0.4008254 ]] \n",
            "\n",
            "Keys\n",
            "\n",
            "[[ 1.3502357  -0.27039123 -5.01392    -0.3503492   0.27921772]\n",
            " [ 0.274171   -0.14648661  0.53703576 -0.66290426 -0.06655848]\n",
            " [-0.545273   -0.15799947 -0.52057207  0.49421638  0.44610292]] \n",
            "\n",
            "Values\n",
            "\n",
            "[[ 0.11682092  0.2756145   0.7931453   0.0509825  -0.39097068]\n",
            " [ 1.0154781   0.9634653  -0.3460012   0.4539004  -1.2331994 ]\n",
            " [ 1.1838771   0.14729327 -3.344792   -0.04831012 -0.22063345]] \n",
            "\n"
          ],
          "name": "stdout"
        }
      ]
    },
    {
      "cell_type": "markdown",
      "metadata": {
        "id": "IJhYMfJBhMV_"
      },
      "source": [
        "And the **weights**:\n",
        "\n",
        "\\begin{matrix}\n",
        "  Z = \\frac{K^T Q}{\\sqrt{d}} \\\\\n",
        "  W = \\text{softmax}(Z)\n",
        "\\end{matrix}"
      ]
    },
    {
      "cell_type": "code",
      "metadata": {
        "colab": {
          "base_uri": "https://localhost:8080/"
        },
        "id": "r9Iir7Nn1NCp",
        "outputId": "8f3250ca-b0ff-4916-e0c5-b2f925098051"
      },
      "source": [
        "Z = (K.T @ Q) / (d)\n",
        "# dim=0 since we want to apply it per column\n",
        "W = nn.LogSoftmax(dim=0)(Z)\n",
        "print('Weigths\\n')\n",
        "print(W.detach().numpy(), '\\n')"
      ],
      "execution_count": 11,
      "outputs": [
        {
          "output_type": "stream",
          "text": [
            "Weigths\n",
            "\n",
            "[[-0.80924207 -1.8262454  -4.5308046  -2.2876265  -1.6740227 ]\n",
            " [-1.8491417  -1.7859013  -2.4352193  -1.7472793  -1.5162972 ]\n",
            " [-1.8432397  -1.0519345  -0.9688676  -1.1002672  -2.337527  ]\n",
            " [-2.7429042  -1.9160632  -0.8680274  -1.4575832  -1.2092679 ]\n",
            " [-1.744424   -1.7435957  -2.2792778  -1.8409595  -1.61947   ]] \n",
            "\n"
          ],
          "name": "stdout"
        }
      ]
    },
    {
      "cell_type": "markdown",
      "metadata": {
        "id": "eYvPf694-192"
      },
      "source": [
        "Finally, we get the **output** matrix:\n",
        "\n",
        "\\begin{matrix}\n",
        "  \\text{Output} & \\rightarrow & Y = VW = \\begin{bmatrix} y_1 & \\dots & y_n \\end{bmatrix}\n",
        "\\end{matrix}"
      ]
    },
    {
      "cell_type": "code",
      "metadata": {
        "colab": {
          "base_uri": "https://localhost:8080/"
        },
        "id": "qg6YXnOC_e4w",
        "outputId": "0fe85d3e-4e31-43ce-a7e7-769c59eb6b19"
      },
      "source": [
        "Y = V @ W\n",
        "print('Output\\n')\n",
        "print(Y.detach().numpy(), '\\n')"
      ],
      "execution_count": 12,
      "outputs": [
        {
          "output_type": "stream",
          "text": [
            "Output\n",
            "\n",
            "[[-1.523965   -0.9558918  -1.1220506  -0.97603995 -1.8959593 ]\n",
            " [-1.0593709  -1.9306962  -4.195147   -2.0171115  -0.9038039 ]\n",
            " [ 5.4522324   1.5706611  -1.9371274   1.191127    6.029093  ]] \n",
            "\n"
          ],
          "name": "stdout"
        }
      ]
    },
    {
      "cell_type": "markdown",
      "metadata": {
        "id": "E0yR7j8HDIaw"
      },
      "source": [
        "As it is normal, we have not obtained a meaningful result, since $ W^Q, W^K, W^V $ have not been trained. At the end, we are looking for a rectangular matrix which relates every word in the sentence. "
      ]
    },
    {
      "cell_type": "markdown",
      "metadata": {
        "id": "qkH-EJ8jlh8O"
      },
      "source": [
        "![Intuition self-attention](https://raw.githubusercontent.com/ion-bueno/bert-from-inside/main/images/intuition_att.png)\n",
        "\n",
        "> Intuition about attention. Image from [exBERT](https://huggingface.co/exbert/?model=bert-base-cased&modelKind=bidirectional&sentence=The%20orange%20is%20very%20healthy&layer=0&heads=..0,1,2,3,4,5,6,7,8,9,10,11&threshold=0.7&tokenInd=null&tokenSide=null&maskInds=..&hideClsSep=true) tool."
      ]
    },
    {
      "cell_type": "markdown",
      "metadata": {
        "id": "Rx2d2n9VycK7"
      },
      "source": [
        "# 3 - The Transformer\n",
        "\n",
        "In 2017 was presented the Transformer in the paper [Attention is All You Need](https://arxiv.org/abs/1706.03762). It is the first transduction model relying entirely on self-attention to compute representations of its input and output without using sequence aligned RNNs or convolution. The Transformer reached a new state of the art in translation quality, the original goal for the model. "
      ]
    },
    {
      "cell_type": "markdown",
      "metadata": {
        "id": "A_xD9N3umEyu"
      },
      "source": [
        "![Transformer architecture](https://raw.githubusercontent.com/ion-bueno/bert-from-inside/main/images/transformer.png)\n",
        "\n",
        "> Transformer's architecture. Image from [Attention is All You Need](https://arxiv.org/abs/1706.03762)."
      ]
    },
    {
      "cell_type": "markdown",
      "metadata": {
        "id": "78bu--O6DXAu"
      },
      "source": [
        "In order to understand how the Transformer works, it is going to be explained the main parts.\n",
        "\n",
        "> The code is based mainly in the implementation of [The Annotated Transformer](http://nlp.seas.harvard.edu/2018/04/03/attention.html), which implements the model step by step as it is discussed in the original paper."
      ]
    },
    {
      "cell_type": "markdown",
      "metadata": {
        "id": "p9XTCL8IJ9Ma"
      },
      "source": [
        "## 3.1 - Model Architecture"
      ]
    },
    {
      "cell_type": "markdown",
      "metadata": {
        "id": "BIW801LBKBh5"
      },
      "source": [
        "The model is based in an encoder-decoder structure, as other competitive neural sequence transduction models. It receives as input a complete sentence and generates the probabilities for the next word as output. Usually it is selected the higher one and feed it into the decoder until it is selected the token which indicates the end of sequence. "
      ]
    },
    {
      "cell_type": "markdown",
      "metadata": {
        "id": "Nofb2wJqO9TP"
      },
      "source": [
        "![High level transformer architecture](https://raw.githubusercontent.com/ion-bueno/bert-from-inside/main/images/hl_trans_archi.png)\n",
        "\n",
        "> Transformer's diagram. Image from [A series of videos on transformers](https://www.youtube.com/watch?v=0SmNEp4zTpc&list=PLDw5cZwIToCvXLVY2bSqt7F2gu8y-Rqje).\n"
      ]
    },
    {
      "cell_type": "markdown",
      "metadata": {
        "id": "jopZSHTl6sk2"
      },
      "source": [
        "The Transformer generates one symbol at a time, consuming the previously generated symbols as additional input, so it is an example of auto-regressive model."
      ]
    },
    {
      "cell_type": "markdown",
      "metadata": {
        "id": "cxiXBozxPpWI"
      },
      "source": [
        "## 3.2 - Input Embedding"
      ]
    },
    {
      "cell_type": "markdown",
      "metadata": {
        "id": "UOKfYGq8R90U"
      },
      "source": [
        "Before going into the encoder and decoder stacks, mention how the sentences are preprocessed. The word vectors used as input in the encoder and the decoder are formed by the sum of other two vectors: **word embedding** and **positional encoding**."
      ]
    },
    {
      "cell_type": "markdown",
      "metadata": {
        "id": "rE33YK_we8uE"
      },
      "source": [
        "> Let's define some variables:\n",
        "\n",
        "\n",
        "\n",
        "*   Number of sentences in a batch: $ m $\n",
        "*   Number of words per sentence: $ n $\n",
        "*   Embedding dimension: $ d_{model} $\n",
        "*   Size of vocabulary: $ vocab $\n",
        "\n",
        "\n"
      ]
    },
    {
      "cell_type": "markdown",
      "metadata": {
        "id": "np5nmAyUbPgV"
      },
      "source": [
        "![Transformer input embedding](https://raw.githubusercontent.com/ion-bueno/bert-from-inside/main/images/in_emb.png)\n",
        "\n",
        "> Transformer's input embedding."
      ]
    },
    {
      "cell_type": "markdown",
      "metadata": {
        "id": "fsV9N-zJYnGg"
      },
      "source": [
        "### 3.2.1 - Word Embeddings"
      ]
    },
    {
      "cell_type": "markdown",
      "metadata": {
        "id": "CLsRZqxRTL4i"
      },
      "source": [
        "It is used learned embeddings to convert the input tokens and output tokens to vectors of dimension $ d_{model} $. It is shared the same weight matrix between the two embbeding layers, similar to [Using the Output Embedding to Improve Language Models](https://arxiv.org/abs/1608.05859). Also mention those weights are multiplied by $ \\sqrt{d_{model}} $."
      ]
    },
    {
      "cell_type": "code",
      "metadata": {
        "id": "Kav4S0GhU3Jd"
      },
      "source": [
        "class Embeddings(nn.Module):\n",
        "  def __init__(self, d_model, vocab):\n",
        "    super(Embeddings, self).__init__()\n",
        "    self.lut = nn.Embedding(vocab, d_model)\n",
        "    self.d_model = d_model\n",
        "\n",
        "  def forward(self, x):\n",
        "    return self.lut(x) * math.sqrt(self.d_model)"
      ],
      "execution_count": null,
      "outputs": []
    },
    {
      "cell_type": "markdown",
      "metadata": {
        "id": "mmnQ3x8IYrRV"
      },
      "source": [
        "### 3.2.2 - Positional Encoding"
      ]
    },
    {
      "cell_type": "markdown",
      "metadata": {
        "id": "xuY7cXIoTnaj"
      },
      "source": [
        "The attention blocks only map sets to sets, due to that, there is not any information about the position of the word in the sentence. Then it is injected some information about the relative or absolute position. In the original paper, it is used sine and cosine functions of different frequencies:\n",
        "\n",
        "\\begin{equation}\n",
        "  PE_{(pos, 2i)} = sin(pos/10000^{2i/d_{model}}) \\\\\n",
        "  PE_{(pos, 2i+1)} = cos(pos/10000^{2i/d_{model}})\n",
        "\\end{equation}"
      ]
    },
    {
      "cell_type": "code",
      "metadata": {
        "id": "9s3UgPQ0Wdck"
      },
      "source": [
        "class PositionalEncoding(nn.Module):\n",
        "  \"\"\"Implement the PE function\n",
        "\n",
        "  \"\"\"\n",
        "  def __init__(self, d_model, dropout, max_len=5000):\n",
        "    super(PositionalEncoding, self).__init__()\n",
        "    self.dropout = nn.Dropout(p=dropout)\n",
        "    pe = torch.zeros(max_len, d_model)\n",
        "    position = torch.arange(0, max_len).unsqueeze(1)\n",
        "    div_term = torch.exp(torch.arange(0, d_model, 2) * \n",
        "                         -(math.log(10000.0) / d_model))\n",
        "    pe[:, 0::2] = torch.sin(position * div_term)\n",
        "    pe[:, 1::2] = torch.cos(position * div_term)\n",
        "    pe = pe.unsqueeze(0)\n",
        "    self.register_buffer('pe', pe)\n",
        "\n",
        "\n",
        "  def forward(self, x):\n",
        "    x = x + Variable(self.pe[:, :x.size(1)], requires_grad=False)\n",
        "    return self.dropout(x)"
      ],
      "execution_count": null,
      "outputs": []
    },
    {
      "cell_type": "markdown",
      "metadata": {
        "id": "rhcQ8jbyyzlp"
      },
      "source": [
        "The output is the addition of both embeddings. \n",
        "\n",
        "\\begin{matrix}\n",
        "  x_i = & \\underbrace{E_i}_\\text{Word Embedding} & + & \\underbrace{P_i}_\\text{Positional Encoding}\n",
        "\\end{matrix}\n",
        "\n",
        "Let's see how is the input and how is transformed after this process"
      ]
    },
    {
      "cell_type": "markdown",
      "metadata": {
        "id": "gpnPSaICY6OA"
      },
      "source": [
        "Function to mask Transformer inputs"
      ]
    },
    {
      "cell_type": "code",
      "metadata": {
        "id": "-lzuoKnVa03e"
      },
      "source": [
        "def subsequent_mask(size):\n",
        "  \"\"\"Mask out subsequent positions\n",
        "\n",
        "  \"\"\"\n",
        "  attn_shape = (1, size, size)\n",
        "  subsequent_mask = np.triu(np.ones(attn_shape), k=1).astype('uint8')\n",
        "  return torch.from_numpy(subsequent_mask) == 0"
      ],
      "execution_count": null,
      "outputs": []
    },
    {
      "cell_type": "markdown",
      "metadata": {
        "id": "5oSCMJUEY2pU"
      },
      "source": [
        "Class to manage one batch of data"
      ]
    },
    {
      "cell_type": "code",
      "metadata": {
        "id": "eCLpgj6fZ4UW"
      },
      "source": [
        "class Batch:\n",
        "  \"\"\"Object for holding a batch of data with mask during training\n",
        "\n",
        "  \"\"\"\n",
        "  def __init__(self, src, trg=None, pad=0):\n",
        "    self.src = src\n",
        "    self.src_mask = (src != pad).unsqueeze(-2)\n",
        "    if trg is not None:\n",
        "      self.trg = trg[:, :-1]\n",
        "      self.trg_y = trg[:, 1:]\n",
        "      self.trg_mask = self.make_std_mask(self.trg, pad)\n",
        "      self.ntokens = (self.trg_y != pad).data.sum()\n",
        "\n",
        "  @staticmethod\n",
        "  def make_std_mask(tgt, pad):\n",
        "    \"\"\"Create a mask to hide padding and future words\n",
        "\n",
        "    \"\"\"\n",
        "    tgt_mask = (tgt != pad).unsqueeze(-2)\n",
        "    tgt_mask = tgt_mask & Variable(subsequent_mask(tgt.size(-1)).type_as(tgt_mask.data))\n",
        "    return tgt_mask"
      ],
      "execution_count": null,
      "outputs": []
    },
    {
      "cell_type": "markdown",
      "metadata": {
        "id": "vS_sxWBgY_wJ"
      },
      "source": [
        "Function to generate a random batch of data"
      ]
    },
    {
      "cell_type": "code",
      "metadata": {
        "id": "1f_dsjQNVVfT"
      },
      "source": [
        "def batch_gen(V, batch, words):\n",
        "  \"\"\"Generate random data for a src-tgt copy task.\n",
        "\n",
        "  Args:\n",
        "  V (int): until number created for random int\n",
        "  batch (int): number of rows\n",
        "  words (int): number of columns\n",
        "\n",
        "  Returns:\n",
        "  Batch\n",
        "\n",
        "  \"\"\"\n",
        "  data = torch.from_numpy(np.random.randint(1, V, size=(batch, words)))\n",
        "  data[:, 0] = 1\n",
        "  src = Variable(data, requires_grad=False)\n",
        "  tgt = Variable(data, requires_grad=False)\n",
        "  return Batch(src, tgt, 0)"
      ],
      "execution_count": null,
      "outputs": []
    },
    {
      "cell_type": "markdown",
      "metadata": {
        "id": "0cyPzIoPVu_A"
      },
      "source": [
        "We can check the Transformer input"
      ]
    },
    {
      "cell_type": "code",
      "metadata": {
        "colab": {
          "base_uri": "https://localhost:8080/"
        },
        "id": "GZAKlqt0iSBb",
        "outputId": "5a4e6b58-7e84-4518-d4df-fbfaf6ca4a7f"
      },
      "source": [
        "#@title { vertical-output: true }\n",
        "#@markdown Number of sentences in a batch\n",
        "m = 5 #@param {type:\"integer\"}\n",
        "\n",
        "#@markdown Number of words in a sentence\n",
        "n = 10 #@param {type:\"integer\"}\n",
        "\n",
        "#@markdown Embedding dimension\n",
        "d_model = 512 #@param {type:\"integer\"}\n",
        "\n",
        "#@markdown Vocabulary size\n",
        "vocab = 11 #@param {type:\"integer\"}\n",
        "\n",
        "batch = batch_gen(vocab, m, n)\n",
        "emb = Embeddings(d_model, vocab)\n",
        "pos = PositionalEncoding(d_model, 0.01)\n",
        "\n",
        "emb_w = emb.lut.weight\n",
        "print('Embedding matrix with dimension: (vocab x d_model)')\n",
        "print(tuple(emb_w.shape), '\\n')\n",
        "#print(emb_w.detach().numpy(), '\\n')\n",
        "\n",
        "enc_in = batch.src\n",
        "print('Encoder input before embedding with dimension: (m x n) ')\n",
        "print(tuple(enc_in.shape), '\\n')\n",
        "\n",
        "enc_out = nn.Sequential(emb, pos)(enc_in)\n",
        "print('Encoder input with dimension: (m x n x d_model)')\n",
        "print(tuple(enc_out.shape), '\\n')\n",
        "\n",
        "dec_in = batch.trg\n",
        "print('Decoder input before embedding  with dimension: (m x n-1) ')\n",
        "print(tuple(dec_in.shape), '\\n')\n",
        "\n",
        "dec_out = nn.Sequential(emb, pos)(dec_in)\n",
        "print('Decoder input with dimension: (m x n-1 x d_model)')\n",
        "print(tuple(dec_out.shape), '\\n')"
      ],
      "execution_count": null,
      "outputs": [
        {
          "output_type": "stream",
          "text": [
            "Embedding matrix with dimension: (vocab x d_model)\n",
            "(11, 512) \n",
            "\n",
            "Encoder input before embedding with dimension: (m x n) \n",
            "(5, 10) \n",
            "\n",
            "Encoder input with dimension: (m x n x d_model)\n",
            "(5, 10, 512) \n",
            "\n",
            "Decoder input before embedding  with dimension: (m x n-1) \n",
            "(5, 9) \n",
            "\n",
            "Decoder input with dimension: (m x n-1 x d_model)\n",
            "(5, 9, 512) \n",
            "\n"
          ],
          "name": "stdout"
        }
      ]
    },
    {
      "cell_type": "markdown",
      "metadata": {
        "id": "l9ofzwczProp"
      },
      "source": [
        "## 3.3 - Encoder"
      ]
    },
    {
      "cell_type": "markdown",
      "metadata": {
        "id": "7PP1EybI5CV6"
      },
      "source": [
        "The encoder stacks $ N $ encoder blocks which map sets to sets, what means the output size is the same than input: $ ( m \\ \\text{x} \\ n \\ \\text{x} \\ d_{model} ) $. In the original implementation, they employ $ N=6 $ encoders."
      ]
    },
    {
      "cell_type": "markdown",
      "metadata": {
        "id": "ms1C-CsrbIuR"
      },
      "source": [
        "![Transformer's encoder](https://raw.githubusercontent.com/ion-bueno/bert-from-inside/main/images/encoder.png)\n",
        "\n",
        "> Encoder's architecture."
      ]
    },
    {
      "cell_type": "markdown",
      "metadata": {
        "id": "eAibzJp2sMNL"
      },
      "source": [
        "Each block is formed by two sub-layers: **Multi-Head Attention** and **Feed Forward**. Both are followed by an **Add \\& Norm** layer."
      ]
    },
    {
      "cell_type": "markdown",
      "metadata": {
        "id": "nuOR0vIaZeH6"
      },
      "source": [
        "### 3.3.1 - Multi-Head Attention"
      ]
    },
    {
      "cell_type": "markdown",
      "metadata": {
        "id": "MSCGGrr5Uof3"
      },
      "source": [
        "The Transformer is differentiated for using exclusively self-attention. This model employs a type of self-attention called **Scaled Dot-Product Attention**"
      ]
    },
    {
      "cell_type": "markdown",
      "metadata": {
        "id": "3njTSJhVEfur"
      },
      "source": [
        "#### 3.3.1.1 - Scaled Dot-Product Attention"
      ]
    },
    {
      "cell_type": "markdown",
      "metadata": {
        "id": "RdUPRWV1u9Ao"
      },
      "source": [
        "It is fast and space-efficient in practice, since it can be implemented using highly optimized matrix multiplication code.\n",
        "\n",
        "We have queries $ Q $ and keys $ K $ of dimension $ d_k $ and values $ V $ of dimension $ d_v $.\n",
        "\n",
        "\\begin{equation}\n",
        "  \\text{Attention}(Q, K, V) = \\text{softmax}(\\frac{QK^T}{\\sqrt{d_k}})V\n",
        "\\end{equation}\n",
        "\n",
        "For large values of $ d_k $ the softmax function could have extremely small gradients. For this reason, the dot product is scaled by $ \\frac{1}{\\sqrt{d_k}} $."
      ]
    },
    {
      "cell_type": "markdown",
      "metadata": {
        "id": "MLtjORVBnZ1D"
      },
      "source": [
        "![Scaled dot product attention](https://raw.githubusercontent.com/ion-bueno/bert-from-inside/main/images/sdp_attention.png)"
      ]
    },
    {
      "cell_type": "code",
      "metadata": {
        "id": "YeDeFHvgWprw"
      },
      "source": [
        "def sdp_attention(query, key, value, mask=None, dropout=None):\n",
        "  d_k = query.size(-1)\n",
        "  scores = torch.matmul(query, key.transpose(-2, -1)) / math.sqrt(d_k)\n",
        "  if mask is not None:\n",
        "    scores = scores.masked_fill(mask == 0, -1e9)\n",
        "  p_attn = F.softmax(scores, dim=-1)\n",
        "  if dropout is not None:\n",
        "    p_attn = dropout(p_attn)\n",
        "  return torch.matmul(p_attn, value), p_attn"
      ],
      "execution_count": null,
      "outputs": []
    },
    {
      "cell_type": "markdown",
      "metadata": {
        "id": "_cxAhy-RZxHi"
      },
      "source": [
        "> To remember variables:\n",
        "\n",
        "*   Number of sentences in a batch: $ m $\n",
        "*   Number of words per sentence: $ n $\n",
        "*   Embedding dimension: $ d_{model} $\n",
        "\n",
        "> And let's introduce new ones\n",
        "\n",
        "\n",
        "*   Attention blocks: $ h $\n",
        "*   Dimension attention layers: $ d_k = \\frac{d_{model}}{h} $"
      ]
    },
    {
      "cell_type": "markdown",
      "metadata": {
        "id": "R64X60ZyWAQz"
      },
      "source": [
        "Multi-Head Attention is based on performing attention in parallel. There are $ h $ different blocks, with identical structure but different parameterers: $ W^Q $, $ W^K $ and $ W^V $. The output vectors from different heads are concatenated for each word using the parameter $ W^O $.\n",
        "\n",
        "\\begin{equation}\n",
        "  \\text{MultiHead}(Q,K,V) = \\text{Concat}(\\text{head}_1, \\dots, \\text{head}_h) W_O \\\\\n",
        "  \\text{where} \\ \\text{head}_i = \\text{Attention}(QW^Q_i, KW^K_i, VW^V_i) \\\\\n",
        "  W^Q_i \\in \\mathbb R^{d_{model}\\ x \\ d_k}, \\ W^K_i \\in \\mathbb R^{d_{model}\\ x \\ d_k}, \\ W^V_i \\in \\mathbb R^{d_{model}\\ x \\ d_v} \\\\\n",
        "  W^O \\in \\mathbb R^{h d_v\\ x \\ d_{model}}\n",
        "\\end{equation}\n",
        "\n",
        "The idea is to get information from different representation subspaces at different positions. To get an intuition, we could see it as one head is understanding the sentence gramatically, another one from the point of spelling, etc."
      ]
    },
    {
      "cell_type": "markdown",
      "metadata": {
        "id": "IB3nhzM6dyOk"
      },
      "source": [
        "> In the papers [Attention is All You Need](https://arxiv.org/abs/1706.03762) and [The Annotated Transformer](http://nlp.seas.harvard.edu/2018/04/03/attention.html), it is used $ h = 8 $ and they assume that $ d_v = d_k $."
      ]
    },
    {
      "cell_type": "markdown",
      "metadata": {
        "id": "KcZ1ULyDnpXm"
      },
      "source": [
        "![Multi-Head Attention](https://raw.githubusercontent.com/ion-bueno/bert-from-inside/main/images/multi__head_attention.png)"
      ]
    },
    {
      "cell_type": "markdown",
      "metadata": {
        "id": "vKpHHa4vZ0Lc"
      },
      "source": [
        "To generate $ N $ identical layers:"
      ]
    },
    {
      "cell_type": "code",
      "metadata": {
        "id": "wIptwAwCj7wB"
      },
      "source": [
        "import copy\n",
        "\n",
        "def clones(module, N):\n",
        "  return nn.ModuleList([copy.deepcopy(module) for _ in range(N)])"
      ],
      "execution_count": null,
      "outputs": []
    },
    {
      "cell_type": "markdown",
      "metadata": {
        "id": "SCpFzMs6Z6yr"
      },
      "source": [
        "A class to represent Multi-Head Attention:"
      ]
    },
    {
      "cell_type": "code",
      "metadata": {
        "id": "OGabuvuHebXG"
      },
      "source": [
        "class MultiHeadAttention(nn.Module):\n",
        "  \n",
        "  def __init__(self, h, d_model, dropout=0.1):\n",
        "    super(MultiHeadAttention, self).__init__()\n",
        "    assert d_model % h == 0\n",
        "    # To assume d_v always equals d_k\n",
        "    self.d_k = d_model // h\n",
        "    self.h = h\n",
        "    self.linears = clones(nn.Linear(d_model, d_model), 4)\n",
        "    self.attn = None\n",
        "    self.dropout = nn.Dropout(p=dropout)\n",
        "\n",
        "\n",
        "  def forward(self, query, key, value, mask=None):\n",
        "    if mask is not None:\n",
        "      # Same mask applied to all h heads.\n",
        "      mask = mask.unsqueeze(1)\n",
        "    nbatches = query.size(0)\n",
        "\n",
        "    # 1) Do all the linear projections in batch from d_model => h x d_k\n",
        "    query, key, value = \\\n",
        "      [l(x).view(nbatches, -1, self.h, self.d_k).transpose(1, 2)\n",
        "      for l, x in zip(self.linears, (query, key, value))]\n",
        "\n",
        "    # 2) Apply attention on all the projected vectors in batch.\n",
        "    att_out, self.attn = sdp_attention(query, key, value, mask=mask, \n",
        "                                       dropout=self.dropout)\n",
        "\n",
        "    # 3) \"Concat\" using a view and apply a final linear.\n",
        "    concat_out = att_out.transpose(1, 2).contiguous().view(nbatches, -1, \n",
        "                                                           self.h * self.d_k)\n",
        "\n",
        "    # 4) Last linear\n",
        "    return query, key, value, att_out, concat_out, self.linears[-1](concat_out)"
      ],
      "execution_count": null,
      "outputs": []
    },
    {
      "cell_type": "markdown",
      "metadata": {
        "id": "KbId20t_aBu4"
      },
      "source": [
        "We can see how the tensor is divided into the $ h $ heads and then contactenated to recover its original shape."
      ]
    },
    {
      "cell_type": "code",
      "metadata": {
        "colab": {
          "base_uri": "https://localhost:8080/"
        },
        "id": "se0tXhR_fCks",
        "outputId": "78e05c02-c2ed-438e-fbdc-cfdfefa15283"
      },
      "source": [
        "#@title  { vertical-output: true }\n",
        "#@markdown Attention blocks\n",
        "h =  8#@param {type:\"integer\"}\n",
        "\n",
        "# get previous output as input\n",
        "input = enc_out\n",
        "\n",
        "multi = MultiHeadAttention(h , d_model)\n",
        "q, k, v, att, concat, output = multi(input, input, input)\n",
        "\n",
        "print('Input with dimension: (m x n)')\n",
        "print(tuple(input.shape), '\\n')\n",
        "\n",
        "print('Query, keys and values with dimension: (m x h x n x d_k)')\n",
        "print(tuple(q.shape), '\\n')\n",
        "\n",
        "print('Output with dimension: (m x n x d_model)')\n",
        "print(tuple(output.shape), '\\n')\n",
        "\n",
        "for w, layer in zip(['W_Q', 'W_K', 'W_V', 'W_O'], multi.linears): \n",
        "  print(f'{w} with dimension: {tuple(layer.weight.shape)}')"
      ],
      "execution_count": null,
      "outputs": [
        {
          "output_type": "stream",
          "text": [
            "Input with dimension: (m x n)\n",
            "(5, 10, 512) \n",
            "\n",
            "Query, keys and values with dimension: (m x h x n x d_k)\n",
            "(5, 8, 10, 64) \n",
            "\n",
            "Output with dimension: (m x n x d_model)\n",
            "(5, 10, 512) \n",
            "\n",
            "W_Q with dimension: (512, 512)\n",
            "W_K with dimension: (512, 512)\n",
            "W_V with dimension: (512, 512)\n",
            "W_O with dimension: (512, 512)\n"
          ],
          "name": "stdout"
        }
      ]
    },
    {
      "cell_type": "markdown",
      "metadata": {
        "id": "pyScS4mWaIGG"
      },
      "source": [
        "### 3.3.2 - Feed-Forward"
      ]
    },
    {
      "cell_type": "markdown",
      "metadata": {
        "id": "leKQ5Bk1M6fW"
      },
      "source": [
        "Each layer contains a fully connected feed-forward network. It is used different parameters between blocks.\n",
        "\n",
        "\\begin{equation}\n",
        "  \\text{FFN}(x) = \\text{max}(0,\\ xW_1 \\ + \\ b_1)W_2 \\ + \\ b_2\n",
        "\\end{equation}"
      ]
    },
    {
      "cell_type": "markdown",
      "metadata": {
        "id": "lAS0XzeuaNSt"
      },
      "source": [
        "> In the original paper the input and output have dimensionality $ d_{model} = 512 $ and the inner-layer $ d_{ff} = 2048 $."
      ]
    },
    {
      "cell_type": "code",
      "metadata": {
        "id": "ZMlushNuv3BV"
      },
      "source": [
        "class PositionwiseFeedForward(nn.Module):\n",
        "\n",
        "  def __init__(self, d_model, d_ff, dropout=0.1):\n",
        "    super(PositionwiseFeedForward, self).__init__()\n",
        "    self.w_1 = nn.Linear(d_model, d_ff)\n",
        "    self.w_2 = nn.Linear(d_ff, d_model)\n",
        "    self.dropout = nn.Dropout(dropout)\n",
        "\n",
        "  def forward(self, x):\n",
        "    return self.w_2(self.dropout(F.relu(self.w_1(x))))"
      ],
      "execution_count": null,
      "outputs": []
    },
    {
      "cell_type": "markdown",
      "metadata": {
        "id": "98jLXRaxnDJv"
      },
      "source": [
        "### 3.3.3 Add & Norm"
      ]
    },
    {
      "cell_type": "markdown",
      "metadata": {
        "id": "5rgP8tPIVuS7"
      },
      "source": [
        "This layer corresponds to a [residual connection](https://openaccess.thecvf.com/content_cvpr_2016/html/He_Deep_Residual_Learning_CVPR_2016_paper.html) followed by [layer normalization](https://arxiv.org/abs/1607.06450) in both sub-layers. The goal of a residual connection is easing the training, with layers learning functions with reference to the layer inputs, instead of learning unreferenced ones. The layer normalization is a normalization which is applied per feature."
      ]
    },
    {
      "cell_type": "markdown",
      "metadata": {
        "id": "-PEU842En4eM"
      },
      "source": [
        "![Layer Normalization](https://raw.githubusercontent.com/ion-bueno/bert-from-inside/main/images/layer_norm.png)\n",
        "\n",
        "> Layer normalization. Image from [Transformer video](https://www.youtube.com/watch?v=TQQlZhbC5ps&list=PLTl9hO2Oobd_bzXUpzKMKA3liq2kj6LfE) by CodeEmporium."
      ]
    },
    {
      "cell_type": "markdown",
      "metadata": {
        "id": "yDoWEwSxtlCi"
      },
      "source": [
        "Then, the output of each sub-layer is:\n",
        "\n",
        "\\begin{equation}\n",
        "    \\text{LayerNorm}(x \\ + \\ \\text{Sublayer}(x))\n",
        "\\end{equation}\n",
        "\n",
        "where $ \\text{Sublayer}(x) $ is the function implemented by the corresponding sub-layer. \n",
        "\n",
        "In order to reduce overfitting, it is applied dropout to the output of each sub-layer, before it is added to the sub-layer input and normalized."
      ]
    },
    {
      "cell_type": "code",
      "metadata": {
        "id": "yWCRO3n8w6GK"
      },
      "source": [
        "class LayerNorm(nn.Module):\n",
        "\n",
        "  def __init__(self, features, eps=1e-6):\n",
        "    super(LayerNorm, self).__init__()\n",
        "    self.a_2 = nn.Parameter(torch.ones(features))\n",
        "    self.b_2 = nn.Parameter(torch.zeros(features))\n",
        "    self.eps = eps\n",
        "\n",
        "  def forward(self, x):\n",
        "    mean = x.mean(-1, keepdim=True)\n",
        "    std = x.std(-1, keepdim=True)\n",
        "    return self.a_2 * (x - mean) / (std + self.eps) + self.b_2"
      ],
      "execution_count": null,
      "outputs": []
    },
    {
      "cell_type": "markdown",
      "metadata": {
        "id": "m0riUa70aU8b"
      },
      "source": [
        "To show normalization process in a layer"
      ]
    },
    {
      "cell_type": "code",
      "metadata": {
        "colab": {
          "base_uri": "https://localhost:8080/"
        },
        "id": "nsnnp7boyMI5",
        "outputId": "af2e26e3-6be8-4e00-b458-f6d42547eebb"
      },
      "source": [
        "#@title { vertical-output: true }\n",
        "#@markdown This variable would correspond with d_model in the Transformer\n",
        "features = 5 #@param {type:\"integer\"}\n",
        "rows = 2 #@param {type:\"integer\"}\n",
        "\n",
        "batch_norm = batch_gen(5, rows, features)\n",
        "input = batch_norm.src.float()\n",
        "print('Input')\n",
        "print(input.detach().numpy(), '\\n')\n",
        "\n",
        "output = LayerNorm(features)(input)\n",
        "print('Output')\n",
        "print(output.detach().numpy())"
      ],
      "execution_count": null,
      "outputs": [
        {
          "output_type": "stream",
          "text": [
            "Input\n",
            "[[1. 1. 4. 4. 2.]\n",
            " [1. 4. 1. 1. 2.]] \n",
            "\n",
            "Output\n",
            "[[-0.9231321  -0.9231321   1.055008    1.055008   -0.26375207]\n",
            " [-0.61357147  1.6873218  -0.61357147 -0.61357147  0.15339291]]\n"
          ],
          "name": "stdout"
        }
      ]
    },
    {
      "cell_type": "markdown",
      "metadata": {
        "id": "il6ellS9aas_"
      },
      "source": [
        "Class to represent Sublayer Connection"
      ]
    },
    {
      "cell_type": "code",
      "metadata": {
        "id": "klJw2QYEw8js"
      },
      "source": [
        "class SublayerConnection(nn.Module):\n",
        "  \"\"\"A residual connection followed by a layer norm.\n",
        "  Note for code simplicity the norm is first as opposed to last\n",
        "  \n",
        "  \"\"\"\n",
        "  def __init__(self, size, dropout):\n",
        "    super(SublayerConnection, self).__init__()\n",
        "    self.norm = LayerNorm(size)\n",
        "    self.dropout = nn.Dropout(dropout)\n",
        "\n",
        "  def forward(self, x, sublayer):\n",
        "    \"\"\"Apply residual connection to any sublayer with the same size\n",
        "\n",
        "    \"\"\"\n",
        "    return x + self.dropout(sublayer(self.norm(x)))"
      ],
      "execution_count": null,
      "outputs": []
    },
    {
      "cell_type": "markdown",
      "metadata": {
        "id": "aofgg0qifWRd"
      },
      "source": [
        "\n",
        "\n",
        "---\n",
        "\n"
      ]
    },
    {
      "cell_type": "markdown",
      "metadata": {
        "id": "oB-x7Ye92U_A"
      },
      "source": [
        "Now that all layers are explained, we can implement the whole encoder. First, it is defined the class for an instance in the stack."
      ]
    },
    {
      "cell_type": "code",
      "metadata": {
        "id": "KHgrd2822bir"
      },
      "source": [
        "class EncoderLayer(nn.Module):\n",
        "\n",
        "  def __init__(self, size, self_attn, feed_forward, dropout):\n",
        "    super(EncoderLayer, self).__init__()\n",
        "    self.self_attn = self_attn\n",
        "    self.feed_forward = feed_forward\n",
        "    self.sublayer = clones(SublayerConnection(size, dropout), 2)\n",
        "    self.size = size\n",
        "\n",
        "  def forward(self, x, mask):\n",
        "    x = self.sublayer[0](x, lambda x: self.self_attn(x, x, x, mask))\n",
        "    return self.sublayer[1](x, self.feed_forward)"
      ],
      "execution_count": null,
      "outputs": []
    },
    {
      "cell_type": "markdown",
      "metadata": {
        "id": "V9_hBtxp3Rhm"
      },
      "source": [
        "And the whole class for the encoder\n",
        "\n",
        "> In the original paper they used a stack of $ N=6 $"
      ]
    },
    {
      "cell_type": "code",
      "metadata": {
        "id": "NF0BUBYQ3UhK"
      },
      "source": [
        "class Encoder(nn.Module):\n",
        "    \n",
        "  def __init__(self, layer, N):\n",
        "    super(Encoder, self).__init__()\n",
        "    self.layers = clones(layer, N)\n",
        "    self.norm = LayerNorm(layer.size)\n",
        "\n",
        "  def forward(self, x, mask):\n",
        "    for layer in self.layers: \n",
        "      x = layer(x, mask)\n",
        "    return self.norm(x)"
      ],
      "execution_count": null,
      "outputs": []
    },
    {
      "cell_type": "markdown",
      "metadata": {
        "id": "s7qGfrVEaoXA"
      },
      "source": [
        "To show encoder"
      ]
    },
    {
      "cell_type": "code",
      "metadata": {
        "colab": {
          "base_uri": "https://localhost:8080/"
        },
        "id": "L3fL2fnkMQKl",
        "outputId": "eb2010cb-dbc7-4be7-ae89-955d718df74d"
      },
      "source": [
        "#@title \n",
        "#@markdown Attention blocks\n",
        "h =  8#@param {type:\"integer\"}\n",
        "#@markdown Embedding dimension\n",
        "d_model = 512 #@param {type:\"integer\"}\n",
        "#@markdown Dimension inner layer\n",
        "d_ff = 2048 #@param {type:\"integer\"}\n",
        "#@markdown Dropout\n",
        "dropout = 0.1 #@param {type:\"number\"}\n",
        "#@markdown Encoder blocks\n",
        "N = 6 #@param {type:\"integer\"}\n",
        "\n",
        "c = copy.deepcopy\n",
        "attn = MultiHeadAttention(h, d_model)\n",
        "ff = PositionwiseFeedForward(d_model, d_ff, dropout)\n",
        "\n",
        "enc_block = EncoderLayer(d_model, c(attn), c(ff), dropout)\n",
        "encoder = Encoder(enc_block, N)\n",
        "\n",
        "print(f'One encoder block, there are {N} like this\\n')\n",
        "print(encoder.layers[0])"
      ],
      "execution_count": null,
      "outputs": [
        {
          "output_type": "stream",
          "text": [
            "One encoder block, there are 6 like this\n",
            "\n",
            "EncoderLayer(\n",
            "  (self_attn): MultiHeadAttention(\n",
            "    (linears): ModuleList(\n",
            "      (0): Linear(in_features=512, out_features=512, bias=True)\n",
            "      (1): Linear(in_features=512, out_features=512, bias=True)\n",
            "      (2): Linear(in_features=512, out_features=512, bias=True)\n",
            "      (3): Linear(in_features=512, out_features=512, bias=True)\n",
            "    )\n",
            "    (dropout): Dropout(p=0.1, inplace=False)\n",
            "  )\n",
            "  (feed_forward): PositionwiseFeedForward(\n",
            "    (w_1): Linear(in_features=512, out_features=2048, bias=True)\n",
            "    (w_2): Linear(in_features=2048, out_features=512, bias=True)\n",
            "    (dropout): Dropout(p=0.1, inplace=False)\n",
            "  )\n",
            "  (sublayer): ModuleList(\n",
            "    (0): SublayerConnection(\n",
            "      (norm): LayerNorm()\n",
            "      (dropout): Dropout(p=0.1, inplace=False)\n",
            "    )\n",
            "    (1): SublayerConnection(\n",
            "      (norm): LayerNorm()\n",
            "      (dropout): Dropout(p=0.1, inplace=False)\n",
            "    )\n",
            "  )\n",
            ")\n"
          ],
          "name": "stdout"
        }
      ]
    },
    {
      "cell_type": "markdown",
      "metadata": {
        "id": "i6apm_esRlPP"
      },
      "source": [
        "## 3.4 - Decoder"
      ]
    },
    {
      "cell_type": "markdown",
      "metadata": {
        "id": "A5WY0_QqyvBF"
      },
      "source": [
        "It is also composed of a stack of $ N $ decoder blocks. Using the output from the encoder its function is also mapping sets to sets, maintaning the shape: number of vectors $ m $ and length $ n $. However, the dimensionality in the number of words differs one position from the encoder, being the size: $ ( m \\ \\text{x} \\ n-1 \\ \\text{x} \\ d_{model} ) $. In the original implementation, they employ $ N=6 $ decoders."
      ]
    },
    {
      "cell_type": "markdown",
      "metadata": {
        "id": "ivW20glBbTXN"
      },
      "source": [
        "![Transformer's decoder](https://raw.githubusercontent.com/ion-bueno/bert-from-inside/main/images/decoder.png)\n",
        "\n",
        "> Decoder architecture. Image from [Attention is All You Need](https://arxiv.org/abs/1706.03762)."
      ]
    },
    {
      "cell_type": "markdown",
      "metadata": {
        "id": "2XLa9Wa8U7Wj"
      },
      "source": [
        "The architecture is almost equal to the encoder. Appart from the dimension, there are other two differences:\n",
        "\n",
        "-   The mask for the first multi-attention.\n",
        "-   The encoder's output used as input in the second multi-attention.\n",
        "\n"
      ]
    },
    {
      "cell_type": "markdown",
      "metadata": {
        "id": "W5Ocr6ZOa_fk"
      },
      "source": [
        "### 3.4.1 - Masked Multi-Head Attention"
      ]
    },
    {
      "cell_type": "markdown",
      "metadata": {
        "id": "XutrVAx7Vk_H"
      },
      "source": [
        "The use of a mask is already implemented in the self-attention function and in the generation of a batch. This prevents attending to subsequent positions and ensures that the predictions only depend on known outputs previous to the current one."
      ]
    },
    {
      "cell_type": "markdown",
      "metadata": {
        "id": "MzScbuiZbYh6"
      },
      "source": [
        "![Masked self-attention](https://raw.githubusercontent.com/ion-bueno/bert-from-inside/main/images/masked_attn.png)\n",
        "\n",
        "> Self-attention intuition in encoder and decoder. Image from [Transformer video](https://www.youtube.com/watch?v=TQQlZhbC5ps&list=PLTl9hO2Oobd_bzXUpzKMKA3liq2kj6LfE) by CodeEmporium."
      ]
    },
    {
      "cell_type": "code",
      "metadata": {
        "colab": {
          "base_uri": "https://localhost:8080/"
        },
        "id": "hZgY-1yCaphw",
        "outputId": "09228477-129d-4111-eed4-5dc7235ce320"
      },
      "source": [
        "enc_mask = batch.src_mask.detach().numpy()\n",
        "dec_mask = batch.trg_mask[0].detach().numpy()\n",
        "\n",
        "print('No mask used in encoder\\n')\n",
        "print(enc_mask, '\\n\\n')\n",
        "\n",
        "print('Mask used in decoder\\n')\n",
        "print(dec_mask)"
      ],
      "execution_count": null,
      "outputs": [
        {
          "output_type": "stream",
          "text": [
            "No mask used in encoder\n",
            "\n",
            "[[[ True  True  True  True  True  True  True  True  True  True]]\n",
            "\n",
            " [[ True  True  True  True  True  True  True  True  True  True]]\n",
            "\n",
            " [[ True  True  True  True  True  True  True  True  True  True]]\n",
            "\n",
            " [[ True  True  True  True  True  True  True  True  True  True]]\n",
            "\n",
            " [[ True  True  True  True  True  True  True  True  True  True]]] \n",
            "\n",
            "\n",
            "Mask used in decoder\n",
            "\n",
            "[[ True False False False False False False False False]\n",
            " [ True  True False False False False False False False]\n",
            " [ True  True  True False False False False False False]\n",
            " [ True  True  True  True False False False False False]\n",
            " [ True  True  True  True  True False False False False]\n",
            " [ True  True  True  True  True  True False False False]\n",
            " [ True  True  True  True  True  True  True False False]\n",
            " [ True  True  True  True  True  True  True  True False]\n",
            " [ True  True  True  True  True  True  True  True  True]]\n"
          ],
          "name": "stdout"
        }
      ]
    },
    {
      "cell_type": "markdown",
      "metadata": {
        "id": "zvvlsaTyb7BS"
      },
      "source": [
        "### 3.4.2 - Encoder-Decoder Self-Attention"
      ]
    },
    {
      "cell_type": "markdown",
      "metadata": {
        "id": "AFncrjt8eTiR"
      },
      "source": [
        "The second sublayer in the decoder is a multi-head attention, without mask in this case, but using the encoder's output as input in the block.\n",
        "\n",
        "\\begin{matrix}\n",
        "  \\text{Query} & \\rightarrow & Q^D  & \\text{from decoder's input embedding} \\\\\n",
        "  \\text{Keys} & \\rightarrow & K^E & \\text{from encoder's output} \\\\\n",
        "  \\text{Values} & \\rightarrow & V^E & \\text{from encoder's output}\n",
        "\\end{matrix}"
      ]
    },
    {
      "cell_type": "markdown",
      "metadata": {
        "id": "o8E3Qhk1h22R"
      },
      "source": [
        "Once these two differences are explained, it can be implemented the decoder's blocks."
      ]
    },
    {
      "cell_type": "markdown",
      "metadata": {
        "id": "K3vUE7fUzZi4"
      },
      "source": [
        "\n",
        "\n",
        "---\n",
        "\n"
      ]
    },
    {
      "cell_type": "code",
      "metadata": {
        "id": "QVuMeBPJh-tN"
      },
      "source": [
        "class DecoderLayer(nn.Module):\n",
        "\n",
        "  def __init__(self, size, self_attn, src_attn, feed_forward, dropout):\n",
        "    super(DecoderLayer, self).__init__()\n",
        "    self.size = size\n",
        "    self.self_attn = self_attn\n",
        "    self.src_attn = src_attn\n",
        "    self.feed_forward = feed_forward\n",
        "    self.sublayer = clones(SublayerConnection(size, dropout), 3)\n",
        "\n",
        "  def forward(self, x, memory, src_mask, tgt_mask):\n",
        "    \n",
        "    x = self.sublayer[0](x, lambda x: self.self_attn(x, x, x, tgt_mask))\n",
        "    x = self.sublayer[1](x, lambda x: self.src_attn(x, memory, memory, src_mask))\n",
        "    return self.sublayer[2](x, self.feed_forward)"
      ],
      "execution_count": null,
      "outputs": []
    },
    {
      "cell_type": "markdown",
      "metadata": {
        "id": "vNn7e0ZiiK1G"
      },
      "source": [
        "And the complete decoder."
      ]
    },
    {
      "cell_type": "code",
      "metadata": {
        "id": "F8l37wzGiMPw"
      },
      "source": [
        "class Decoder(nn.Module):\n",
        "\n",
        "  def __init__(self, layer, N):\n",
        "    super(Decoder, self).__init__()\n",
        "    self.layers = clones(layer, N)\n",
        "    self.norm = LayerNorm(layer.size)\n",
        "\n",
        "  def forward(self, x, memory, src_mask, tgt_mask):\n",
        "    for layer in self.layers:\n",
        "      x = layer(x, memory, src_mask, tgt_mask)\n",
        "    return self.norm(x)"
      ],
      "execution_count": null,
      "outputs": []
    },
    {
      "cell_type": "markdown",
      "metadata": {
        "id": "jCnMNMjUcBQo"
      },
      "source": [
        "To show decoder architecture."
      ]
    },
    {
      "cell_type": "code",
      "metadata": {
        "colab": {
          "base_uri": "https://localhost:8080/"
        },
        "id": "K8cZH1NvB2Ml",
        "outputId": "df66e0ba-0876-48a6-deeb-16f123eb3f33"
      },
      "source": [
        "#@title \n",
        "#@markdown Attention blocks\n",
        "h =  8#@param {type:\"integer\"}\n",
        "#@markdown Embedding dimension\n",
        "d_model = 512 #@param {type:\"integer\"}\n",
        "#@markdown Dimension inner layer\n",
        "d_ff = 2048 #@param {type:\"integer\"}\n",
        "#@markdown Dropout\n",
        "dropout = 0.1 #@param {type:\"number\"}\n",
        "#@markdown Encoder blocks\n",
        "N = 6 #@param {type:\"integer\"}\n",
        "\n",
        "c = copy.deepcopy\n",
        "attn = MultiHeadAttention(h, d_model)\n",
        "ff = PositionwiseFeedForward(d_model, d_ff, dropout)\n",
        "\n",
        "dec_block = DecoderLayer(d_model, c(attn), c(attn), c(ff), dropout)\n",
        "decoder = Decoder(dec_block, N)\n",
        "\n",
        "print(f'One decoder block, there are {N} like this\\n')\n",
        "print(decoder.layers[0])"
      ],
      "execution_count": null,
      "outputs": [
        {
          "output_type": "stream",
          "text": [
            "One decoder block, there are 6 like this\n",
            "\n",
            "DecoderLayer(\n",
            "  (self_attn): MultiHeadAttention(\n",
            "    (linears): ModuleList(\n",
            "      (0): Linear(in_features=512, out_features=512, bias=True)\n",
            "      (1): Linear(in_features=512, out_features=512, bias=True)\n",
            "      (2): Linear(in_features=512, out_features=512, bias=True)\n",
            "      (3): Linear(in_features=512, out_features=512, bias=True)\n",
            "    )\n",
            "    (dropout): Dropout(p=0.1, inplace=False)\n",
            "  )\n",
            "  (src_attn): MultiHeadAttention(\n",
            "    (linears): ModuleList(\n",
            "      (0): Linear(in_features=512, out_features=512, bias=True)\n",
            "      (1): Linear(in_features=512, out_features=512, bias=True)\n",
            "      (2): Linear(in_features=512, out_features=512, bias=True)\n",
            "      (3): Linear(in_features=512, out_features=512, bias=True)\n",
            "    )\n",
            "    (dropout): Dropout(p=0.1, inplace=False)\n",
            "  )\n",
            "  (feed_forward): PositionwiseFeedForward(\n",
            "    (w_1): Linear(in_features=512, out_features=2048, bias=True)\n",
            "    (w_2): Linear(in_features=2048, out_features=512, bias=True)\n",
            "    (dropout): Dropout(p=0.1, inplace=False)\n",
            "  )\n",
            "  (sublayer): ModuleList(\n",
            "    (0): SublayerConnection(\n",
            "      (norm): LayerNorm()\n",
            "      (dropout): Dropout(p=0.1, inplace=False)\n",
            "    )\n",
            "    (1): SublayerConnection(\n",
            "      (norm): LayerNorm()\n",
            "      (dropout): Dropout(p=0.1, inplace=False)\n",
            "    )\n",
            "    (2): SublayerConnection(\n",
            "      (norm): LayerNorm()\n",
            "      (dropout): Dropout(p=0.1, inplace=False)\n",
            "    )\n",
            "  )\n",
            ")\n"
          ],
          "name": "stdout"
        }
      ]
    },
    {
      "cell_type": "markdown",
      "metadata": {
        "id": "zxEz0m8hW9y2"
      },
      "source": [
        "## 3.5 - Generator"
      ]
    },
    {
      "cell_type": "markdown",
      "metadata": {
        "id": "tBFIP1RX2KwQ"
      },
      "source": [
        "The final block is a combination of a feed-forward network and a softmax in order to get the probabilities for next word."
      ]
    },
    {
      "cell_type": "markdown",
      "metadata": {
        "id": "z_qOaBC1cK13"
      },
      "source": [
        "![Transformer's generator](https://raw.githubusercontent.com/ion-bueno/bert-from-inside/main/images/generator.png)\n",
        "\n",
        "> Final module, generator. Modified image from [Attention is All You Need](https://arxiv.org/abs/1706.03762)."
      ]
    },
    {
      "cell_type": "code",
      "metadata": {
        "id": "R1XNpbMhBHh6"
      },
      "source": [
        "class Generator(nn.Module):\n",
        "   \n",
        "  def __init__(self, d_model, vocab):\n",
        "    super(Generator, self).__init__()\n",
        "    self.proj = nn.Linear(d_model, vocab)\n",
        "\n",
        "  def forward(self, x):\n",
        "    return F.log_softmax(self.proj(x), dim=-1)"
      ],
      "execution_count": null,
      "outputs": []
    },
    {
      "cell_type": "markdown",
      "metadata": {
        "id": "UyjjFoHV4Z9H"
      },
      "source": [
        "## 3.6 - Final Visualization\n"
      ]
    },
    {
      "cell_type": "markdown",
      "metadata": {
        "id": "Q-Csm3wmI6Vm"
      },
      "source": [
        "Finally, we can implement the whole transformer architecture."
      ]
    },
    {
      "cell_type": "code",
      "metadata": {
        "id": "A6pCQJOKDOpR"
      },
      "source": [
        "class EncoderDecoder(nn.Module):\n",
        "\n",
        "  def __init__(self, encoder, decoder, src_embed, tgt_embed, generator):\n",
        "    super(EncoderDecoder, self).__init__()\n",
        "    self.encoder = encoder\n",
        "    self.decoder = decoder\n",
        "    self.src_embed = src_embed\n",
        "    self.tgt_embed = tgt_embed\n",
        "    self.generator = generator\n",
        "\n",
        "  def forward(self, src, tgt, src_mask, tgt_mask):\n",
        "    return self.decode(self.encode(src, src_mask), src_mask, tgt, tgt_mask)\n",
        "\n",
        "  def encode(self, src, src_mask):\n",
        "    return self.encoder(self.src_embed(src), src_mask)\n",
        "\n",
        "  def decode(self, memory, src_mask, tgt, tgt_mask):\n",
        "    return self.decoder(self.tgt_embed(tgt), memory, src_mask, tgt_mask)"
      ],
      "execution_count": null,
      "outputs": []
    },
    {
      "cell_type": "markdown",
      "metadata": {
        "id": "ypAq7A13cUIm"
      },
      "source": [
        "Function to get a transforme by just setting the parameters."
      ]
    },
    {
      "cell_type": "code",
      "metadata": {
        "id": "jbLhOCWTchCh"
      },
      "source": [
        "def make_model(src_vocab, tgt_vocab, N=6, d_model=512, d_ff=2048, h=8, dropout=0.1):\n",
        "    c = copy.deepcopy\n",
        "    attn = MultiHeadAttention(h, d_model)\n",
        "    ff = PositionwiseFeedForward(d_model, d_ff, dropout)\n",
        "    position = PositionalEncoding(d_model, dropout)\n",
        "    model = EncoderDecoder(\n",
        "            Encoder(EncoderLayer(d_model, c(attn), c(ff), dropout), N),\n",
        "            Decoder(DecoderLayer(d_model, c(attn), c(attn), c(ff), dropout), N),\n",
        "            nn.Sequential(Embeddings(d_model, src_vocab), c(position)),\n",
        "            nn.Sequential(Embeddings(d_model, tgt_vocab), c(position)),\n",
        "            Generator(d_model, tgt_vocab))\n",
        "\n",
        "    # This was important from their code.\n",
        "    # Initialize parameters with Glorot / fan_avg.\n",
        "    for p in model.parameters():\n",
        "        if p.dim() > 1:\n",
        "            nn.init.xavier_uniform_(p)\n",
        "\n",
        "    return model"
      ],
      "execution_count": null,
      "outputs": []
    },
    {
      "cell_type": "markdown",
      "metadata": {
        "id": "I9Zt7OVFcq6e"
      },
      "source": [
        "Set the Transformer parameters."
      ]
    },
    {
      "cell_type": "code",
      "metadata": {
        "id": "RKdpBa-aFIR_"
      },
      "source": [
        "#@markdown Size of source vocabulary\n",
        "src_vocab = 11#@param {type:\"integer\"}\n",
        "#@markdown Size of target vocabulary\n",
        "tgt_vocab = 11#@param {type:\"integer\"}\n",
        "#@markdown Number of encoder and decoder blocks\n",
        "N = 6#@param {type:\"integer\"}\n",
        "#@markdown Inner Transformer size\n",
        "d_model = 512#@param {type:\"integer\"}\n",
        "#@markdown Hidden feed forward size\n",
        "d_ff = 2048#@param {type:\"integer\"}\n",
        "#@markdown Number of attention heads\n",
        "h = 8#@param {type:\"integer\"}\n",
        "#@markdown Dropout probability\n",
        "dropout = 0.1#@param {type:\"number\"}\n",
        "\n",
        "model = make_model(src_vocab, tgt_vocab, N, d_model, d_ff, h, dropout)"
      ],
      "execution_count": null,
      "outputs": []
    },
    {
      "cell_type": "markdown",
      "metadata": {
        "id": "CH-9hBJudSnF"
      },
      "source": [
        "To visualize the whole architecture or per block."
      ]
    },
    {
      "cell_type": "code",
      "metadata": {
        "colab": {
          "base_uri": "https://localhost:8080/"
        },
        "id": "rf9xw--dFRnk",
        "outputId": "236b8e5e-e100-4bc4-fee1-986a3a4cdf58"
      },
      "source": [
        "#@markdown Select a block in the Transformer to visualize it\n",
        "block = \"transformer\" #@param [\"transformer\", \"encoder\", \"decoder\", \"src_embed\", \"tgt_embed\", \"generator\"]\n",
        "\n",
        "if block == 'transformer':\n",
        "    print(model)\n",
        "else:\n",
        "    print(getattr(model, block))"
      ],
      "execution_count": null,
      "outputs": [
        {
          "output_type": "stream",
          "text": [
            "EncoderDecoder(\n",
            "  (encoder): Encoder(\n",
            "    (layers): ModuleList(\n",
            "      (0): EncoderLayer(\n",
            "        (self_attn): MultiHeadAttention(\n",
            "          (linears): ModuleList(\n",
            "            (0): Linear(in_features=512, out_features=512, bias=True)\n",
            "            (1): Linear(in_features=512, out_features=512, bias=True)\n",
            "            (2): Linear(in_features=512, out_features=512, bias=True)\n",
            "            (3): Linear(in_features=512, out_features=512, bias=True)\n",
            "          )\n",
            "          (dropout): Dropout(p=0.1, inplace=False)\n",
            "        )\n",
            "        (feed_forward): PositionwiseFeedForward(\n",
            "          (w_1): Linear(in_features=512, out_features=2048, bias=True)\n",
            "          (w_2): Linear(in_features=2048, out_features=512, bias=True)\n",
            "          (dropout): Dropout(p=0.1, inplace=False)\n",
            "        )\n",
            "        (sublayer): ModuleList(\n",
            "          (0): SublayerConnection(\n",
            "            (norm): LayerNorm()\n",
            "            (dropout): Dropout(p=0.1, inplace=False)\n",
            "          )\n",
            "          (1): SublayerConnection(\n",
            "            (norm): LayerNorm()\n",
            "            (dropout): Dropout(p=0.1, inplace=False)\n",
            "          )\n",
            "        )\n",
            "      )\n",
            "      (1): EncoderLayer(\n",
            "        (self_attn): MultiHeadAttention(\n",
            "          (linears): ModuleList(\n",
            "            (0): Linear(in_features=512, out_features=512, bias=True)\n",
            "            (1): Linear(in_features=512, out_features=512, bias=True)\n",
            "            (2): Linear(in_features=512, out_features=512, bias=True)\n",
            "            (3): Linear(in_features=512, out_features=512, bias=True)\n",
            "          )\n",
            "          (dropout): Dropout(p=0.1, inplace=False)\n",
            "        )\n",
            "        (feed_forward): PositionwiseFeedForward(\n",
            "          (w_1): Linear(in_features=512, out_features=2048, bias=True)\n",
            "          (w_2): Linear(in_features=2048, out_features=512, bias=True)\n",
            "          (dropout): Dropout(p=0.1, inplace=False)\n",
            "        )\n",
            "        (sublayer): ModuleList(\n",
            "          (0): SublayerConnection(\n",
            "            (norm): LayerNorm()\n",
            "            (dropout): Dropout(p=0.1, inplace=False)\n",
            "          )\n",
            "          (1): SublayerConnection(\n",
            "            (norm): LayerNorm()\n",
            "            (dropout): Dropout(p=0.1, inplace=False)\n",
            "          )\n",
            "        )\n",
            "      )\n",
            "      (2): EncoderLayer(\n",
            "        (self_attn): MultiHeadAttention(\n",
            "          (linears): ModuleList(\n",
            "            (0): Linear(in_features=512, out_features=512, bias=True)\n",
            "            (1): Linear(in_features=512, out_features=512, bias=True)\n",
            "            (2): Linear(in_features=512, out_features=512, bias=True)\n",
            "            (3): Linear(in_features=512, out_features=512, bias=True)\n",
            "          )\n",
            "          (dropout): Dropout(p=0.1, inplace=False)\n",
            "        )\n",
            "        (feed_forward): PositionwiseFeedForward(\n",
            "          (w_1): Linear(in_features=512, out_features=2048, bias=True)\n",
            "          (w_2): Linear(in_features=2048, out_features=512, bias=True)\n",
            "          (dropout): Dropout(p=0.1, inplace=False)\n",
            "        )\n",
            "        (sublayer): ModuleList(\n",
            "          (0): SublayerConnection(\n",
            "            (norm): LayerNorm()\n",
            "            (dropout): Dropout(p=0.1, inplace=False)\n",
            "          )\n",
            "          (1): SublayerConnection(\n",
            "            (norm): LayerNorm()\n",
            "            (dropout): Dropout(p=0.1, inplace=False)\n",
            "          )\n",
            "        )\n",
            "      )\n",
            "      (3): EncoderLayer(\n",
            "        (self_attn): MultiHeadAttention(\n",
            "          (linears): ModuleList(\n",
            "            (0): Linear(in_features=512, out_features=512, bias=True)\n",
            "            (1): Linear(in_features=512, out_features=512, bias=True)\n",
            "            (2): Linear(in_features=512, out_features=512, bias=True)\n",
            "            (3): Linear(in_features=512, out_features=512, bias=True)\n",
            "          )\n",
            "          (dropout): Dropout(p=0.1, inplace=False)\n",
            "        )\n",
            "        (feed_forward): PositionwiseFeedForward(\n",
            "          (w_1): Linear(in_features=512, out_features=2048, bias=True)\n",
            "          (w_2): Linear(in_features=2048, out_features=512, bias=True)\n",
            "          (dropout): Dropout(p=0.1, inplace=False)\n",
            "        )\n",
            "        (sublayer): ModuleList(\n",
            "          (0): SublayerConnection(\n",
            "            (norm): LayerNorm()\n",
            "            (dropout): Dropout(p=0.1, inplace=False)\n",
            "          )\n",
            "          (1): SublayerConnection(\n",
            "            (norm): LayerNorm()\n",
            "            (dropout): Dropout(p=0.1, inplace=False)\n",
            "          )\n",
            "        )\n",
            "      )\n",
            "      (4): EncoderLayer(\n",
            "        (self_attn): MultiHeadAttention(\n",
            "          (linears): ModuleList(\n",
            "            (0): Linear(in_features=512, out_features=512, bias=True)\n",
            "            (1): Linear(in_features=512, out_features=512, bias=True)\n",
            "            (2): Linear(in_features=512, out_features=512, bias=True)\n",
            "            (3): Linear(in_features=512, out_features=512, bias=True)\n",
            "          )\n",
            "          (dropout): Dropout(p=0.1, inplace=False)\n",
            "        )\n",
            "        (feed_forward): PositionwiseFeedForward(\n",
            "          (w_1): Linear(in_features=512, out_features=2048, bias=True)\n",
            "          (w_2): Linear(in_features=2048, out_features=512, bias=True)\n",
            "          (dropout): Dropout(p=0.1, inplace=False)\n",
            "        )\n",
            "        (sublayer): ModuleList(\n",
            "          (0): SublayerConnection(\n",
            "            (norm): LayerNorm()\n",
            "            (dropout): Dropout(p=0.1, inplace=False)\n",
            "          )\n",
            "          (1): SublayerConnection(\n",
            "            (norm): LayerNorm()\n",
            "            (dropout): Dropout(p=0.1, inplace=False)\n",
            "          )\n",
            "        )\n",
            "      )\n",
            "      (5): EncoderLayer(\n",
            "        (self_attn): MultiHeadAttention(\n",
            "          (linears): ModuleList(\n",
            "            (0): Linear(in_features=512, out_features=512, bias=True)\n",
            "            (1): Linear(in_features=512, out_features=512, bias=True)\n",
            "            (2): Linear(in_features=512, out_features=512, bias=True)\n",
            "            (3): Linear(in_features=512, out_features=512, bias=True)\n",
            "          )\n",
            "          (dropout): Dropout(p=0.1, inplace=False)\n",
            "        )\n",
            "        (feed_forward): PositionwiseFeedForward(\n",
            "          (w_1): Linear(in_features=512, out_features=2048, bias=True)\n",
            "          (w_2): Linear(in_features=2048, out_features=512, bias=True)\n",
            "          (dropout): Dropout(p=0.1, inplace=False)\n",
            "        )\n",
            "        (sublayer): ModuleList(\n",
            "          (0): SublayerConnection(\n",
            "            (norm): LayerNorm()\n",
            "            (dropout): Dropout(p=0.1, inplace=False)\n",
            "          )\n",
            "          (1): SublayerConnection(\n",
            "            (norm): LayerNorm()\n",
            "            (dropout): Dropout(p=0.1, inplace=False)\n",
            "          )\n",
            "        )\n",
            "      )\n",
            "    )\n",
            "    (norm): LayerNorm()\n",
            "  )\n",
            "  (decoder): Decoder(\n",
            "    (layers): ModuleList(\n",
            "      (0): DecoderLayer(\n",
            "        (self_attn): MultiHeadAttention(\n",
            "          (linears): ModuleList(\n",
            "            (0): Linear(in_features=512, out_features=512, bias=True)\n",
            "            (1): Linear(in_features=512, out_features=512, bias=True)\n",
            "            (2): Linear(in_features=512, out_features=512, bias=True)\n",
            "            (3): Linear(in_features=512, out_features=512, bias=True)\n",
            "          )\n",
            "          (dropout): Dropout(p=0.1, inplace=False)\n",
            "        )\n",
            "        (src_attn): MultiHeadAttention(\n",
            "          (linears): ModuleList(\n",
            "            (0): Linear(in_features=512, out_features=512, bias=True)\n",
            "            (1): Linear(in_features=512, out_features=512, bias=True)\n",
            "            (2): Linear(in_features=512, out_features=512, bias=True)\n",
            "            (3): Linear(in_features=512, out_features=512, bias=True)\n",
            "          )\n",
            "          (dropout): Dropout(p=0.1, inplace=False)\n",
            "        )\n",
            "        (feed_forward): PositionwiseFeedForward(\n",
            "          (w_1): Linear(in_features=512, out_features=2048, bias=True)\n",
            "          (w_2): Linear(in_features=2048, out_features=512, bias=True)\n",
            "          (dropout): Dropout(p=0.1, inplace=False)\n",
            "        )\n",
            "        (sublayer): ModuleList(\n",
            "          (0): SublayerConnection(\n",
            "            (norm): LayerNorm()\n",
            "            (dropout): Dropout(p=0.1, inplace=False)\n",
            "          )\n",
            "          (1): SublayerConnection(\n",
            "            (norm): LayerNorm()\n",
            "            (dropout): Dropout(p=0.1, inplace=False)\n",
            "          )\n",
            "          (2): SublayerConnection(\n",
            "            (norm): LayerNorm()\n",
            "            (dropout): Dropout(p=0.1, inplace=False)\n",
            "          )\n",
            "        )\n",
            "      )\n",
            "      (1): DecoderLayer(\n",
            "        (self_attn): MultiHeadAttention(\n",
            "          (linears): ModuleList(\n",
            "            (0): Linear(in_features=512, out_features=512, bias=True)\n",
            "            (1): Linear(in_features=512, out_features=512, bias=True)\n",
            "            (2): Linear(in_features=512, out_features=512, bias=True)\n",
            "            (3): Linear(in_features=512, out_features=512, bias=True)\n",
            "          )\n",
            "          (dropout): Dropout(p=0.1, inplace=False)\n",
            "        )\n",
            "        (src_attn): MultiHeadAttention(\n",
            "          (linears): ModuleList(\n",
            "            (0): Linear(in_features=512, out_features=512, bias=True)\n",
            "            (1): Linear(in_features=512, out_features=512, bias=True)\n",
            "            (2): Linear(in_features=512, out_features=512, bias=True)\n",
            "            (3): Linear(in_features=512, out_features=512, bias=True)\n",
            "          )\n",
            "          (dropout): Dropout(p=0.1, inplace=False)\n",
            "        )\n",
            "        (feed_forward): PositionwiseFeedForward(\n",
            "          (w_1): Linear(in_features=512, out_features=2048, bias=True)\n",
            "          (w_2): Linear(in_features=2048, out_features=512, bias=True)\n",
            "          (dropout): Dropout(p=0.1, inplace=False)\n",
            "        )\n",
            "        (sublayer): ModuleList(\n",
            "          (0): SublayerConnection(\n",
            "            (norm): LayerNorm()\n",
            "            (dropout): Dropout(p=0.1, inplace=False)\n",
            "          )\n",
            "          (1): SublayerConnection(\n",
            "            (norm): LayerNorm()\n",
            "            (dropout): Dropout(p=0.1, inplace=False)\n",
            "          )\n",
            "          (2): SublayerConnection(\n",
            "            (norm): LayerNorm()\n",
            "            (dropout): Dropout(p=0.1, inplace=False)\n",
            "          )\n",
            "        )\n",
            "      )\n",
            "      (2): DecoderLayer(\n",
            "        (self_attn): MultiHeadAttention(\n",
            "          (linears): ModuleList(\n",
            "            (0): Linear(in_features=512, out_features=512, bias=True)\n",
            "            (1): Linear(in_features=512, out_features=512, bias=True)\n",
            "            (2): Linear(in_features=512, out_features=512, bias=True)\n",
            "            (3): Linear(in_features=512, out_features=512, bias=True)\n",
            "          )\n",
            "          (dropout): Dropout(p=0.1, inplace=False)\n",
            "        )\n",
            "        (src_attn): MultiHeadAttention(\n",
            "          (linears): ModuleList(\n",
            "            (0): Linear(in_features=512, out_features=512, bias=True)\n",
            "            (1): Linear(in_features=512, out_features=512, bias=True)\n",
            "            (2): Linear(in_features=512, out_features=512, bias=True)\n",
            "            (3): Linear(in_features=512, out_features=512, bias=True)\n",
            "          )\n",
            "          (dropout): Dropout(p=0.1, inplace=False)\n",
            "        )\n",
            "        (feed_forward): PositionwiseFeedForward(\n",
            "          (w_1): Linear(in_features=512, out_features=2048, bias=True)\n",
            "          (w_2): Linear(in_features=2048, out_features=512, bias=True)\n",
            "          (dropout): Dropout(p=0.1, inplace=False)\n",
            "        )\n",
            "        (sublayer): ModuleList(\n",
            "          (0): SublayerConnection(\n",
            "            (norm): LayerNorm()\n",
            "            (dropout): Dropout(p=0.1, inplace=False)\n",
            "          )\n",
            "          (1): SublayerConnection(\n",
            "            (norm): LayerNorm()\n",
            "            (dropout): Dropout(p=0.1, inplace=False)\n",
            "          )\n",
            "          (2): SublayerConnection(\n",
            "            (norm): LayerNorm()\n",
            "            (dropout): Dropout(p=0.1, inplace=False)\n",
            "          )\n",
            "        )\n",
            "      )\n",
            "      (3): DecoderLayer(\n",
            "        (self_attn): MultiHeadAttention(\n",
            "          (linears): ModuleList(\n",
            "            (0): Linear(in_features=512, out_features=512, bias=True)\n",
            "            (1): Linear(in_features=512, out_features=512, bias=True)\n",
            "            (2): Linear(in_features=512, out_features=512, bias=True)\n",
            "            (3): Linear(in_features=512, out_features=512, bias=True)\n",
            "          )\n",
            "          (dropout): Dropout(p=0.1, inplace=False)\n",
            "        )\n",
            "        (src_attn): MultiHeadAttention(\n",
            "          (linears): ModuleList(\n",
            "            (0): Linear(in_features=512, out_features=512, bias=True)\n",
            "            (1): Linear(in_features=512, out_features=512, bias=True)\n",
            "            (2): Linear(in_features=512, out_features=512, bias=True)\n",
            "            (3): Linear(in_features=512, out_features=512, bias=True)\n",
            "          )\n",
            "          (dropout): Dropout(p=0.1, inplace=False)\n",
            "        )\n",
            "        (feed_forward): PositionwiseFeedForward(\n",
            "          (w_1): Linear(in_features=512, out_features=2048, bias=True)\n",
            "          (w_2): Linear(in_features=2048, out_features=512, bias=True)\n",
            "          (dropout): Dropout(p=0.1, inplace=False)\n",
            "        )\n",
            "        (sublayer): ModuleList(\n",
            "          (0): SublayerConnection(\n",
            "            (norm): LayerNorm()\n",
            "            (dropout): Dropout(p=0.1, inplace=False)\n",
            "          )\n",
            "          (1): SublayerConnection(\n",
            "            (norm): LayerNorm()\n",
            "            (dropout): Dropout(p=0.1, inplace=False)\n",
            "          )\n",
            "          (2): SublayerConnection(\n",
            "            (norm): LayerNorm()\n",
            "            (dropout): Dropout(p=0.1, inplace=False)\n",
            "          )\n",
            "        )\n",
            "      )\n",
            "      (4): DecoderLayer(\n",
            "        (self_attn): MultiHeadAttention(\n",
            "          (linears): ModuleList(\n",
            "            (0): Linear(in_features=512, out_features=512, bias=True)\n",
            "            (1): Linear(in_features=512, out_features=512, bias=True)\n",
            "            (2): Linear(in_features=512, out_features=512, bias=True)\n",
            "            (3): Linear(in_features=512, out_features=512, bias=True)\n",
            "          )\n",
            "          (dropout): Dropout(p=0.1, inplace=False)\n",
            "        )\n",
            "        (src_attn): MultiHeadAttention(\n",
            "          (linears): ModuleList(\n",
            "            (0): Linear(in_features=512, out_features=512, bias=True)\n",
            "            (1): Linear(in_features=512, out_features=512, bias=True)\n",
            "            (2): Linear(in_features=512, out_features=512, bias=True)\n",
            "            (3): Linear(in_features=512, out_features=512, bias=True)\n",
            "          )\n",
            "          (dropout): Dropout(p=0.1, inplace=False)\n",
            "        )\n",
            "        (feed_forward): PositionwiseFeedForward(\n",
            "          (w_1): Linear(in_features=512, out_features=2048, bias=True)\n",
            "          (w_2): Linear(in_features=2048, out_features=512, bias=True)\n",
            "          (dropout): Dropout(p=0.1, inplace=False)\n",
            "        )\n",
            "        (sublayer): ModuleList(\n",
            "          (0): SublayerConnection(\n",
            "            (norm): LayerNorm()\n",
            "            (dropout): Dropout(p=0.1, inplace=False)\n",
            "          )\n",
            "          (1): SublayerConnection(\n",
            "            (norm): LayerNorm()\n",
            "            (dropout): Dropout(p=0.1, inplace=False)\n",
            "          )\n",
            "          (2): SublayerConnection(\n",
            "            (norm): LayerNorm()\n",
            "            (dropout): Dropout(p=0.1, inplace=False)\n",
            "          )\n",
            "        )\n",
            "      )\n",
            "      (5): DecoderLayer(\n",
            "        (self_attn): MultiHeadAttention(\n",
            "          (linears): ModuleList(\n",
            "            (0): Linear(in_features=512, out_features=512, bias=True)\n",
            "            (1): Linear(in_features=512, out_features=512, bias=True)\n",
            "            (2): Linear(in_features=512, out_features=512, bias=True)\n",
            "            (3): Linear(in_features=512, out_features=512, bias=True)\n",
            "          )\n",
            "          (dropout): Dropout(p=0.1, inplace=False)\n",
            "        )\n",
            "        (src_attn): MultiHeadAttention(\n",
            "          (linears): ModuleList(\n",
            "            (0): Linear(in_features=512, out_features=512, bias=True)\n",
            "            (1): Linear(in_features=512, out_features=512, bias=True)\n",
            "            (2): Linear(in_features=512, out_features=512, bias=True)\n",
            "            (3): Linear(in_features=512, out_features=512, bias=True)\n",
            "          )\n",
            "          (dropout): Dropout(p=0.1, inplace=False)\n",
            "        )\n",
            "        (feed_forward): PositionwiseFeedForward(\n",
            "          (w_1): Linear(in_features=512, out_features=2048, bias=True)\n",
            "          (w_2): Linear(in_features=2048, out_features=512, bias=True)\n",
            "          (dropout): Dropout(p=0.1, inplace=False)\n",
            "        )\n",
            "        (sublayer): ModuleList(\n",
            "          (0): SublayerConnection(\n",
            "            (norm): LayerNorm()\n",
            "            (dropout): Dropout(p=0.1, inplace=False)\n",
            "          )\n",
            "          (1): SublayerConnection(\n",
            "            (norm): LayerNorm()\n",
            "            (dropout): Dropout(p=0.1, inplace=False)\n",
            "          )\n",
            "          (2): SublayerConnection(\n",
            "            (norm): LayerNorm()\n",
            "            (dropout): Dropout(p=0.1, inplace=False)\n",
            "          )\n",
            "        )\n",
            "      )\n",
            "    )\n",
            "    (norm): LayerNorm()\n",
            "  )\n",
            "  (src_embed): Sequential(\n",
            "    (0): Embeddings(\n",
            "      (lut): Embedding(11, 512)\n",
            "    )\n",
            "    (1): PositionalEncoding(\n",
            "      (dropout): Dropout(p=0.1, inplace=False)\n",
            "    )\n",
            "  )\n",
            "  (tgt_embed): Sequential(\n",
            "    (0): Embeddings(\n",
            "      (lut): Embedding(11, 512)\n",
            "    )\n",
            "    (1): PositionalEncoding(\n",
            "      (dropout): Dropout(p=0.1, inplace=False)\n",
            "    )\n",
            "  )\n",
            "  (generator): Generator(\n",
            "    (proj): Linear(in_features=512, out_features=11, bias=True)\n",
            "  )\n",
            ")\n"
          ],
          "name": "stdout"
        }
      ]
    },
    {
      "cell_type": "markdown",
      "metadata": {
        "id": "vcmcatefeCb3"
      },
      "source": [
        "# 4 - BERT"
      ]
    },
    {
      "cell_type": "markdown",
      "metadata": {
        "id": "KexD7CXsOLxz"
      },
      "source": [
        "**B**idirectional **E**ncoder **R**epresentations from **T**ransformer, released in 2019 in paper [BERT: Pre-training of Deep Bidirectional Transformers for Language Understanding](https://arxiv.org/abs/1810.04805), obtained new state-of-the-art results on eleven NLP tasks. \n",
        "\n",
        "BERT was designed to pretrain deep bidirecional representations from unlabeled text by using self-attention to get the left and right context. This approach overcomes current pre-training techniques, where they use unidirectional language models to learn general language representations. Two examples which were competitive models before BERT are [ELMo](https://arxiv.org/abs/1802.05365) and [GPT](https://openai.com/blog/language-unsupervised/).\n",
        "\n",
        "This pretrained model can be fine-tuned adding one output layer and used for a wide range of NLP tasks."
      ]
    },
    {
      "cell_type": "markdown",
      "metadata": {
        "id": "4-Qe3tZVePqX"
      },
      "source": [
        "## 4.1 - Model Architecture"
      ]
    },
    {
      "cell_type": "markdown",
      "metadata": {
        "id": "GR6BHy1eOAez"
      },
      "source": [
        "It is a multi-layer bidirectional Transformer encoder, based on [Attention is All You Need](https://arxiv.org/abs/1706.03762) and implemented as [The Annotated Transformer](http://nlp.seas.harvard.edu/2018/04/03/attention.html). The different hyperparameters and the original notation are:\n",
        "\n",
        "\n",
        "\n",
        "*   Number of layers: $ L $, number of encoder blocks which compose the whole stack. Previously defined as $ N $ in the Encoder part.\n",
        "\n",
        "*   Hidden size: $ H $, embedding dimension of the model. Previously deined as $ d_{model} $.\n",
        "\n",
        "*   Self-attention heads: $ A $, number of heads in self-attention blocks. Previously defined as $ h $.\n"
      ]
    },
    {
      "cell_type": "markdown",
      "metadata": {
        "id": "DXQPhg66eVM5"
      },
      "source": [
        "There are defined two model sizes: \n",
        "\n",
        "\\begin{matrix}\n",
        "  \\text{BERT}_{\\text{BASE}} & \\rightarrow & L=12, \\ H=768, \\ A=12 & \\text{Total parameters}:\\ 110\\text{M} \\\\\n",
        "  \\text{BERT}_{\\text{LARGE}} & \\rightarrow & L=24, \\ H=1024, \\ A=16 & \\text{Total parameters}:\\ 340\\text{M}\n",
        "\\end{matrix}\n",
        "\n",
        "In both cases the inner layer for the last feed-forward block is defined as $ 4H $, being in the BASE 3072 and in the LARGE 4096."
      ]
    },
    {
      "cell_type": "markdown",
      "metadata": {
        "id": "6EBnC4w7eYxG"
      },
      "source": [
        "BERT has been already trained, so we can easily instantiate one of the base model classes of the [HuggingFace](https://huggingface.co/transformers/index.html) library from a pretrained model. To load the required model is used the class [`BertModel`](https://huggingface.co/transformers/model_doc/bert.html#transformers.BertModel).\n",
        "\n",
        "> [HuggingFace](https://huggingface.co/transformers/index.html) has the the possibility to differentiate between *cased* and *uncased* models. "
      ]
    },
    {
      "cell_type": "code",
      "metadata": {
        "id": "bt7Oq3-r3PmA"
      },
      "source": [
        "from transformers import BertModel"
      ],
      "execution_count": null,
      "outputs": []
    },
    {
      "cell_type": "code",
      "metadata": {
        "colab": {
          "base_uri": "https://localhost:8080/",
          "height": 186,
          "referenced_widgets": [
            "813fc032906f4a4b93b079b2ede46614",
            "31d16fd6185f410f9bb236b91db2be98",
            "0671db3ca6d14c88a748b8fc79edd4e2",
            "7e8809272cb248a9b2810431c477da43",
            "2d4d89d851c546b88ec94939ee8cb2cb",
            "ef75b618147e43d5b0894fe3f10378bc",
            "4eea6ab46cfe4d2bbeeca10d7ff7bf50",
            "196bc9904eab4ae0b4c9b7f083304fb2",
            "2dd09319e0df488c953ea1cdea62312f",
            "8d3e5ee1b76e4d87aa790c2b9bf3d631",
            "d8f05c058ef44de7b2e3801a044a0de5",
            "c1440c985ddb43388de623a4f18986b0",
            "b68b1416cb5b4bc5a0cf0134271263c0",
            "786137ae3d904acd890329d9bc1edd1c",
            "9cab05c431984bb890f214cb9b99a7f6",
            "91a79c4f86d3467bb6dba3ae22b35687"
          ]
        },
        "id": "yp0Vn4p1R4EH",
        "outputId": "df67fd33-6f91-491a-bef7-d28e3892b686"
      },
      "source": [
        "#@markdown Select one configuration\n",
        "model_name = \"bert-base-uncased\" #@param [\"bert-base-uncased\", \"bert-base-cased\", \"bert-large-uncased\", \"bert-large-cased\"]\n",
        "# We need to create the model and tokenizer\n",
        "model = BertModel.from_pretrained(model_name)"
      ],
      "execution_count": null,
      "outputs": [
        {
          "output_type": "display_data",
          "data": {
            "application/vnd.jupyter.widget-view+json": {
              "model_id": "813fc032906f4a4b93b079b2ede46614",
              "version_minor": 0,
              "version_major": 2
            },
            "text/plain": [
              "HBox(children=(FloatProgress(value=0.0, description='Downloading', max=570.0, style=ProgressStyle(description_…"
            ]
          },
          "metadata": {
            "tags": []
          }
        },
        {
          "output_type": "stream",
          "text": [
            "\n"
          ],
          "name": "stdout"
        },
        {
          "output_type": "display_data",
          "data": {
            "application/vnd.jupyter.widget-view+json": {
              "model_id": "2dd09319e0df488c953ea1cdea62312f",
              "version_minor": 0,
              "version_major": 2
            },
            "text/plain": [
              "HBox(children=(FloatProgress(value=0.0, description='Downloading', max=440473133.0, style=ProgressStyle(descri…"
            ]
          },
          "metadata": {
            "tags": []
          }
        },
        {
          "output_type": "stream",
          "text": [
            "\n"
          ],
          "name": "stdout"
        },
        {
          "output_type": "stream",
          "text": [
            "Some weights of the model checkpoint at bert-base-uncased were not used when initializing BertModel: ['cls.predictions.bias', 'cls.predictions.transform.dense.bias', 'cls.seq_relationship.bias', 'cls.predictions.transform.LayerNorm.bias', 'cls.predictions.transform.LayerNorm.weight', 'cls.predictions.transform.dense.weight', 'cls.seq_relationship.weight', 'cls.predictions.decoder.weight']\n",
            "- This IS expected if you are initializing BertModel from the checkpoint of a model trained on another task or with another architecture (e.g. initializing a BertForSequenceClassification model from a BertForPreTraining model).\n",
            "- This IS NOT expected if you are initializing BertModel from the checkpoint of a model that you expect to be exactly identical (initializing a BertForSequenceClassification model from a BertForSequenceClassification model).\n"
          ],
          "name": "stderr"
        }
      ]
    },
    {
      "cell_type": "markdown",
      "metadata": {
        "id": "M1qpQYvHS8Rj"
      },
      "source": [
        "The warning is telling us we are throwing away some weights and randomly initializing some other. That is because we are removing the head used to pretrain the model on a masked language modeling objective and replacing it with a new head for which we don't have pretrained weights. The library warns us we should fine-tune this model before using it for inference, which is exactly what we are going to do in next sections."
      ]
    },
    {
      "cell_type": "code",
      "metadata": {
        "colab": {
          "base_uri": "https://localhost:8080/"
        },
        "id": "SvyTaI6sh-oB",
        "outputId": "df1236f7-32fc-40c3-cf10-bfd5fbf64385"
      },
      "source": [
        "#@markdown Select whole model or a block to visualize it\n",
        "block = \"bert\" #@param [\"bert\", \"embeddings\", \"encoder\", \"pooler\"]\n",
        "if block == 'bert':\n",
        "    print(model)\n",
        "else:\n",
        "    print(getattr(model, block))"
      ],
      "execution_count": null,
      "outputs": [
        {
          "output_type": "stream",
          "text": [
            "BertModel(\n",
            "  (embeddings): BertEmbeddings(\n",
            "    (word_embeddings): Embedding(30522, 768, padding_idx=0)\n",
            "    (position_embeddings): Embedding(512, 768)\n",
            "    (token_type_embeddings): Embedding(2, 768)\n",
            "    (LayerNorm): LayerNorm((768,), eps=1e-12, elementwise_affine=True)\n",
            "    (dropout): Dropout(p=0.1, inplace=False)\n",
            "  )\n",
            "  (encoder): BertEncoder(\n",
            "    (layer): ModuleList(\n",
            "      (0): BertLayer(\n",
            "        (attention): BertAttention(\n",
            "          (self): BertSelfAttention(\n",
            "            (query): Linear(in_features=768, out_features=768, bias=True)\n",
            "            (key): Linear(in_features=768, out_features=768, bias=True)\n",
            "            (value): Linear(in_features=768, out_features=768, bias=True)\n",
            "            (dropout): Dropout(p=0.1, inplace=False)\n",
            "          )\n",
            "          (output): BertSelfOutput(\n",
            "            (dense): Linear(in_features=768, out_features=768, bias=True)\n",
            "            (LayerNorm): LayerNorm((768,), eps=1e-12, elementwise_affine=True)\n",
            "            (dropout): Dropout(p=0.1, inplace=False)\n",
            "          )\n",
            "        )\n",
            "        (intermediate): BertIntermediate(\n",
            "          (dense): Linear(in_features=768, out_features=3072, bias=True)\n",
            "        )\n",
            "        (output): BertOutput(\n",
            "          (dense): Linear(in_features=3072, out_features=768, bias=True)\n",
            "          (LayerNorm): LayerNorm((768,), eps=1e-12, elementwise_affine=True)\n",
            "          (dropout): Dropout(p=0.1, inplace=False)\n",
            "        )\n",
            "      )\n",
            "      (1): BertLayer(\n",
            "        (attention): BertAttention(\n",
            "          (self): BertSelfAttention(\n",
            "            (query): Linear(in_features=768, out_features=768, bias=True)\n",
            "            (key): Linear(in_features=768, out_features=768, bias=True)\n",
            "            (value): Linear(in_features=768, out_features=768, bias=True)\n",
            "            (dropout): Dropout(p=0.1, inplace=False)\n",
            "          )\n",
            "          (output): BertSelfOutput(\n",
            "            (dense): Linear(in_features=768, out_features=768, bias=True)\n",
            "            (LayerNorm): LayerNorm((768,), eps=1e-12, elementwise_affine=True)\n",
            "            (dropout): Dropout(p=0.1, inplace=False)\n",
            "          )\n",
            "        )\n",
            "        (intermediate): BertIntermediate(\n",
            "          (dense): Linear(in_features=768, out_features=3072, bias=True)\n",
            "        )\n",
            "        (output): BertOutput(\n",
            "          (dense): Linear(in_features=3072, out_features=768, bias=True)\n",
            "          (LayerNorm): LayerNorm((768,), eps=1e-12, elementwise_affine=True)\n",
            "          (dropout): Dropout(p=0.1, inplace=False)\n",
            "        )\n",
            "      )\n",
            "      (2): BertLayer(\n",
            "        (attention): BertAttention(\n",
            "          (self): BertSelfAttention(\n",
            "            (query): Linear(in_features=768, out_features=768, bias=True)\n",
            "            (key): Linear(in_features=768, out_features=768, bias=True)\n",
            "            (value): Linear(in_features=768, out_features=768, bias=True)\n",
            "            (dropout): Dropout(p=0.1, inplace=False)\n",
            "          )\n",
            "          (output): BertSelfOutput(\n",
            "            (dense): Linear(in_features=768, out_features=768, bias=True)\n",
            "            (LayerNorm): LayerNorm((768,), eps=1e-12, elementwise_affine=True)\n",
            "            (dropout): Dropout(p=0.1, inplace=False)\n",
            "          )\n",
            "        )\n",
            "        (intermediate): BertIntermediate(\n",
            "          (dense): Linear(in_features=768, out_features=3072, bias=True)\n",
            "        )\n",
            "        (output): BertOutput(\n",
            "          (dense): Linear(in_features=3072, out_features=768, bias=True)\n",
            "          (LayerNorm): LayerNorm((768,), eps=1e-12, elementwise_affine=True)\n",
            "          (dropout): Dropout(p=0.1, inplace=False)\n",
            "        )\n",
            "      )\n",
            "      (3): BertLayer(\n",
            "        (attention): BertAttention(\n",
            "          (self): BertSelfAttention(\n",
            "            (query): Linear(in_features=768, out_features=768, bias=True)\n",
            "            (key): Linear(in_features=768, out_features=768, bias=True)\n",
            "            (value): Linear(in_features=768, out_features=768, bias=True)\n",
            "            (dropout): Dropout(p=0.1, inplace=False)\n",
            "          )\n",
            "          (output): BertSelfOutput(\n",
            "            (dense): Linear(in_features=768, out_features=768, bias=True)\n",
            "            (LayerNorm): LayerNorm((768,), eps=1e-12, elementwise_affine=True)\n",
            "            (dropout): Dropout(p=0.1, inplace=False)\n",
            "          )\n",
            "        )\n",
            "        (intermediate): BertIntermediate(\n",
            "          (dense): Linear(in_features=768, out_features=3072, bias=True)\n",
            "        )\n",
            "        (output): BertOutput(\n",
            "          (dense): Linear(in_features=3072, out_features=768, bias=True)\n",
            "          (LayerNorm): LayerNorm((768,), eps=1e-12, elementwise_affine=True)\n",
            "          (dropout): Dropout(p=0.1, inplace=False)\n",
            "        )\n",
            "      )\n",
            "      (4): BertLayer(\n",
            "        (attention): BertAttention(\n",
            "          (self): BertSelfAttention(\n",
            "            (query): Linear(in_features=768, out_features=768, bias=True)\n",
            "            (key): Linear(in_features=768, out_features=768, bias=True)\n",
            "            (value): Linear(in_features=768, out_features=768, bias=True)\n",
            "            (dropout): Dropout(p=0.1, inplace=False)\n",
            "          )\n",
            "          (output): BertSelfOutput(\n",
            "            (dense): Linear(in_features=768, out_features=768, bias=True)\n",
            "            (LayerNorm): LayerNorm((768,), eps=1e-12, elementwise_affine=True)\n",
            "            (dropout): Dropout(p=0.1, inplace=False)\n",
            "          )\n",
            "        )\n",
            "        (intermediate): BertIntermediate(\n",
            "          (dense): Linear(in_features=768, out_features=3072, bias=True)\n",
            "        )\n",
            "        (output): BertOutput(\n",
            "          (dense): Linear(in_features=3072, out_features=768, bias=True)\n",
            "          (LayerNorm): LayerNorm((768,), eps=1e-12, elementwise_affine=True)\n",
            "          (dropout): Dropout(p=0.1, inplace=False)\n",
            "        )\n",
            "      )\n",
            "      (5): BertLayer(\n",
            "        (attention): BertAttention(\n",
            "          (self): BertSelfAttention(\n",
            "            (query): Linear(in_features=768, out_features=768, bias=True)\n",
            "            (key): Linear(in_features=768, out_features=768, bias=True)\n",
            "            (value): Linear(in_features=768, out_features=768, bias=True)\n",
            "            (dropout): Dropout(p=0.1, inplace=False)\n",
            "          )\n",
            "          (output): BertSelfOutput(\n",
            "            (dense): Linear(in_features=768, out_features=768, bias=True)\n",
            "            (LayerNorm): LayerNorm((768,), eps=1e-12, elementwise_affine=True)\n",
            "            (dropout): Dropout(p=0.1, inplace=False)\n",
            "          )\n",
            "        )\n",
            "        (intermediate): BertIntermediate(\n",
            "          (dense): Linear(in_features=768, out_features=3072, bias=True)\n",
            "        )\n",
            "        (output): BertOutput(\n",
            "          (dense): Linear(in_features=3072, out_features=768, bias=True)\n",
            "          (LayerNorm): LayerNorm((768,), eps=1e-12, elementwise_affine=True)\n",
            "          (dropout): Dropout(p=0.1, inplace=False)\n",
            "        )\n",
            "      )\n",
            "      (6): BertLayer(\n",
            "        (attention): BertAttention(\n",
            "          (self): BertSelfAttention(\n",
            "            (query): Linear(in_features=768, out_features=768, bias=True)\n",
            "            (key): Linear(in_features=768, out_features=768, bias=True)\n",
            "            (value): Linear(in_features=768, out_features=768, bias=True)\n",
            "            (dropout): Dropout(p=0.1, inplace=False)\n",
            "          )\n",
            "          (output): BertSelfOutput(\n",
            "            (dense): Linear(in_features=768, out_features=768, bias=True)\n",
            "            (LayerNorm): LayerNorm((768,), eps=1e-12, elementwise_affine=True)\n",
            "            (dropout): Dropout(p=0.1, inplace=False)\n",
            "          )\n",
            "        )\n",
            "        (intermediate): BertIntermediate(\n",
            "          (dense): Linear(in_features=768, out_features=3072, bias=True)\n",
            "        )\n",
            "        (output): BertOutput(\n",
            "          (dense): Linear(in_features=3072, out_features=768, bias=True)\n",
            "          (LayerNorm): LayerNorm((768,), eps=1e-12, elementwise_affine=True)\n",
            "          (dropout): Dropout(p=0.1, inplace=False)\n",
            "        )\n",
            "      )\n",
            "      (7): BertLayer(\n",
            "        (attention): BertAttention(\n",
            "          (self): BertSelfAttention(\n",
            "            (query): Linear(in_features=768, out_features=768, bias=True)\n",
            "            (key): Linear(in_features=768, out_features=768, bias=True)\n",
            "            (value): Linear(in_features=768, out_features=768, bias=True)\n",
            "            (dropout): Dropout(p=0.1, inplace=False)\n",
            "          )\n",
            "          (output): BertSelfOutput(\n",
            "            (dense): Linear(in_features=768, out_features=768, bias=True)\n",
            "            (LayerNorm): LayerNorm((768,), eps=1e-12, elementwise_affine=True)\n",
            "            (dropout): Dropout(p=0.1, inplace=False)\n",
            "          )\n",
            "        )\n",
            "        (intermediate): BertIntermediate(\n",
            "          (dense): Linear(in_features=768, out_features=3072, bias=True)\n",
            "        )\n",
            "        (output): BertOutput(\n",
            "          (dense): Linear(in_features=3072, out_features=768, bias=True)\n",
            "          (LayerNorm): LayerNorm((768,), eps=1e-12, elementwise_affine=True)\n",
            "          (dropout): Dropout(p=0.1, inplace=False)\n",
            "        )\n",
            "      )\n",
            "      (8): BertLayer(\n",
            "        (attention): BertAttention(\n",
            "          (self): BertSelfAttention(\n",
            "            (query): Linear(in_features=768, out_features=768, bias=True)\n",
            "            (key): Linear(in_features=768, out_features=768, bias=True)\n",
            "            (value): Linear(in_features=768, out_features=768, bias=True)\n",
            "            (dropout): Dropout(p=0.1, inplace=False)\n",
            "          )\n",
            "          (output): BertSelfOutput(\n",
            "            (dense): Linear(in_features=768, out_features=768, bias=True)\n",
            "            (LayerNorm): LayerNorm((768,), eps=1e-12, elementwise_affine=True)\n",
            "            (dropout): Dropout(p=0.1, inplace=False)\n",
            "          )\n",
            "        )\n",
            "        (intermediate): BertIntermediate(\n",
            "          (dense): Linear(in_features=768, out_features=3072, bias=True)\n",
            "        )\n",
            "        (output): BertOutput(\n",
            "          (dense): Linear(in_features=3072, out_features=768, bias=True)\n",
            "          (LayerNorm): LayerNorm((768,), eps=1e-12, elementwise_affine=True)\n",
            "          (dropout): Dropout(p=0.1, inplace=False)\n",
            "        )\n",
            "      )\n",
            "      (9): BertLayer(\n",
            "        (attention): BertAttention(\n",
            "          (self): BertSelfAttention(\n",
            "            (query): Linear(in_features=768, out_features=768, bias=True)\n",
            "            (key): Linear(in_features=768, out_features=768, bias=True)\n",
            "            (value): Linear(in_features=768, out_features=768, bias=True)\n",
            "            (dropout): Dropout(p=0.1, inplace=False)\n",
            "          )\n",
            "          (output): BertSelfOutput(\n",
            "            (dense): Linear(in_features=768, out_features=768, bias=True)\n",
            "            (LayerNorm): LayerNorm((768,), eps=1e-12, elementwise_affine=True)\n",
            "            (dropout): Dropout(p=0.1, inplace=False)\n",
            "          )\n",
            "        )\n",
            "        (intermediate): BertIntermediate(\n",
            "          (dense): Linear(in_features=768, out_features=3072, bias=True)\n",
            "        )\n",
            "        (output): BertOutput(\n",
            "          (dense): Linear(in_features=3072, out_features=768, bias=True)\n",
            "          (LayerNorm): LayerNorm((768,), eps=1e-12, elementwise_affine=True)\n",
            "          (dropout): Dropout(p=0.1, inplace=False)\n",
            "        )\n",
            "      )\n",
            "      (10): BertLayer(\n",
            "        (attention): BertAttention(\n",
            "          (self): BertSelfAttention(\n",
            "            (query): Linear(in_features=768, out_features=768, bias=True)\n",
            "            (key): Linear(in_features=768, out_features=768, bias=True)\n",
            "            (value): Linear(in_features=768, out_features=768, bias=True)\n",
            "            (dropout): Dropout(p=0.1, inplace=False)\n",
            "          )\n",
            "          (output): BertSelfOutput(\n",
            "            (dense): Linear(in_features=768, out_features=768, bias=True)\n",
            "            (LayerNorm): LayerNorm((768,), eps=1e-12, elementwise_affine=True)\n",
            "            (dropout): Dropout(p=0.1, inplace=False)\n",
            "          )\n",
            "        )\n",
            "        (intermediate): BertIntermediate(\n",
            "          (dense): Linear(in_features=768, out_features=3072, bias=True)\n",
            "        )\n",
            "        (output): BertOutput(\n",
            "          (dense): Linear(in_features=3072, out_features=768, bias=True)\n",
            "          (LayerNorm): LayerNorm((768,), eps=1e-12, elementwise_affine=True)\n",
            "          (dropout): Dropout(p=0.1, inplace=False)\n",
            "        )\n",
            "      )\n",
            "      (11): BertLayer(\n",
            "        (attention): BertAttention(\n",
            "          (self): BertSelfAttention(\n",
            "            (query): Linear(in_features=768, out_features=768, bias=True)\n",
            "            (key): Linear(in_features=768, out_features=768, bias=True)\n",
            "            (value): Linear(in_features=768, out_features=768, bias=True)\n",
            "            (dropout): Dropout(p=0.1, inplace=False)\n",
            "          )\n",
            "          (output): BertSelfOutput(\n",
            "            (dense): Linear(in_features=768, out_features=768, bias=True)\n",
            "            (LayerNorm): LayerNorm((768,), eps=1e-12, elementwise_affine=True)\n",
            "            (dropout): Dropout(p=0.1, inplace=False)\n",
            "          )\n",
            "        )\n",
            "        (intermediate): BertIntermediate(\n",
            "          (dense): Linear(in_features=768, out_features=3072, bias=True)\n",
            "        )\n",
            "        (output): BertOutput(\n",
            "          (dense): Linear(in_features=3072, out_features=768, bias=True)\n",
            "          (LayerNorm): LayerNorm((768,), eps=1e-12, elementwise_affine=True)\n",
            "          (dropout): Dropout(p=0.1, inplace=False)\n",
            "        )\n",
            "      )\n",
            "    )\n",
            "  )\n",
            "  (pooler): BertPooler(\n",
            "    (dense): Linear(in_features=768, out_features=768, bias=True)\n",
            "    (activation): Tanh()\n",
            "  )\n",
            ")\n"
          ],
          "name": "stdout"
        }
      ]
    },
    {
      "cell_type": "markdown",
      "metadata": {
        "id": "4F7MxCNyfPeo"
      },
      "source": [
        "### 4.1.1 - Input-Output Representations"
      ]
    },
    {
      "cell_type": "markdown",
      "metadata": {
        "id": "Xsn3fTeGbFdL"
      },
      "source": [
        "In order to handle a variety of tasks, the input can be a single sentence or a pair of sentences in one token sequence, which is certainly the name given to the input. The input representation of a word is the addition of three different embeddings:\n",
        "\n",
        "*   **Token Embedding**: normal word embedding. It is used WordPiece with a 30.000 token vocabulary.\n",
        "\n",
        "*   **Segment Embedding**: to differentiate the sentence the word belongs to. It is used the special token [SEP] to separate both sentences. \n",
        "\n",
        "*   **Position Embedding**: to indicate the position in the whole sequence.\n",
        "\n",
        "The first token is always a special classification token [CLS], whose final hidden state layer is used in classification tasks.\n",
        "\n"
      ]
    },
    {
      "cell_type": "markdown",
      "metadata": {
        "id": "3hBoDdzBAIvD"
      },
      "source": [
        "![BERT's input](https://raw.githubusercontent.com/ion-bueno/bert-from-inside/main/images/in_BERT.png)\n",
        "\n",
        "> Input Embedding. Image from [BERT: Pre-training of Deep Bidirectional Transformers for Language Understanding](https://arxiv.org/abs/1810.04805)."
      ]
    },
    {
      "cell_type": "code",
      "metadata": {
        "colab": {
          "base_uri": "https://localhost:8080/"
        },
        "id": "WSmOADeOfOiY",
        "outputId": "a5449702-b0e3-4c38-c1c6-455fb852f420"
      },
      "source": [
        "print(model.embeddings)"
      ],
      "execution_count": null,
      "outputs": [
        {
          "output_type": "stream",
          "text": [
            "BertEmbeddings(\n",
            "  (word_embeddings): Embedding(30522, 768, padding_idx=0)\n",
            "  (position_embeddings): Embedding(512, 768)\n",
            "  (token_type_embeddings): Embedding(2, 768)\n",
            "  (LayerNorm): LayerNorm((768,), eps=1e-12, elementwise_affine=True)\n",
            "  (dropout): Dropout(p=0.1, inplace=False)\n",
            ")\n"
          ],
          "name": "stdout"
        }
      ]
    },
    {
      "cell_type": "markdown",
      "metadata": {
        "id": "CGc2QVvs6vDl"
      },
      "source": [
        "As output we get the corresponding sequence embedding, as it is explained in the encoder, and *NSP* for classification. These values are going to be explained better in next section."
      ]
    },
    {
      "cell_type": "markdown",
      "metadata": {
        "id": "9g6fHh4mfHXX"
      },
      "source": [
        "## 4.2 - Pre-training"
      ]
    },
    {
      "cell_type": "markdown",
      "metadata": {
        "id": "i2M14_bCgkfM"
      },
      "source": [
        "This step is in charge of the model to understand the language and its context. It is used two unsupervised tasks instead of the traditional left-to-right or right-to-left."
      ]
    },
    {
      "cell_type": "markdown",
      "metadata": {
        "id": "_3AH5O6uALAE"
      },
      "source": [
        "![Pre-training BERT](https://raw.githubusercontent.com/ion-bueno/bert-from-inside/main/images/pretrain_BERT.png)\n",
        "\n",
        "> Pre-training process in BERT. Image from [BERT: Pre-training of Deep Bidirectional Transformers for Language Understanding](https://arxiv.org/abs/1810.04805)."
      ]
    },
    {
      "cell_type": "markdown",
      "metadata": {
        "id": "4Isq7F8XppTO"
      },
      "source": [
        "They used as pre-training data the BooksCorpus and English Wikipedia (2,500M words). The authors recommended to use a document-level corpus rather than a shuffled sentence-level corpus in order to extract long contiguous sequences.\n",
        "\n",
        "Training of $ \\text{BERT}_{\\text{BASE}} $ was performed on 4 Cloud TPUs (16 TPU chips total). While training of $ \\text{BERT}_{\\text{LARGE}} $ eployed 16 Cloud TPUs (64 TPU chips total). Each pre-training took 4 days to complete."
      ]
    },
    {
      "cell_type": "markdown",
      "metadata": {
        "id": "6zmfGdJHfFC1"
      },
      "source": [
        "### 4.2.1 - Masked Language Model"
      ]
    },
    {
      "cell_type": "markdown",
      "metadata": {
        "id": "swuvqUT5jALw"
      },
      "source": [
        "Some tokens are masked at random and then predicted. The final $ T_i $ vectors have the same size and are generated simultaneously. They are fed into an output softmax over the vocabulary (30k) to get a distribution and compare with cross entropy loss in order to train the model.\n",
        "\n",
        "However, as the output have all the worlds, included the ones were not masked, it is only considered the masked ones and ignores the others to calculate the cross entropy loss. This ensures more focus into predict the masked values and increases the context awareness."
      ]
    },
    {
      "cell_type": "markdown",
      "metadata": {
        "id": "SkGOlDsqpShP"
      },
      "source": [
        "![MLM](https://raw.githubusercontent.com/ion-bueno/bert-from-inside/main/images/cross_entro_BERT.png)\n",
        "\n",
        "> Prediction of masked word in BERT. Image from [BERT Neural Network - EXPLAINED!](https://www.youtube.com/watch?v=xI0HHN5XKDo&t=348s) by CodeEmporium."
      ]
    },
    {
      "cell_type": "markdown",
      "metadata": {
        "id": "y0QIZVHpfbJA"
      },
      "source": [
        "### 4.2.2 - Next Sentence Prediction"
      ]
    },
    {
      "cell_type": "markdown",
      "metadata": {
        "id": "kuQTTjvOjdp8"
      },
      "source": [
        "Many important tasks as question and answering are based on understanding relationship between two sentences, which is not captured by language modeling. For that reason, while the model is being trained in MLM, is also trained in next sentence prediction.\n",
        "\n",
        "For this purpose it is used the special token [CLS] in the input and C in the output to indicate if *Sentence B* could follow *Sentence A*."
      ]
    },
    {
      "cell_type": "markdown",
      "metadata": {
        "id": "Ul_LRGnUpb-j"
      },
      "source": [
        "![Pre-train BERT](https://raw.githubusercontent.com/ion-bueno/bert-from-inside/main/images/pretrain_BERT_methods.png)\n",
        "\n",
        "> MLM and NSP in pre-training BERT. Image from [BERT Neural Network - EXPLAINED!](https://www.youtube.com/watch?v=xI0HHN5XKDo&t=348s) by CodeEmporium."
      ]
    },
    {
      "cell_type": "markdown",
      "metadata": {
        "id": "p9ky2Sp-N5Ut"
      },
      "source": [
        "## 4.3 - Fine-Tuning"
      ]
    },
    {
      "cell_type": "markdown",
      "metadata": {
        "id": "7DJIu80m4QdU"
      },
      "source": [
        "Thanks to self-attention, which is in charge of applying bidirectional cross attention between the two sentences, is straightforward to model many downstream tasks. In addition to, the two sentences as input in pretraining are equivalent to different trainings in NLP as sentence pairs in paraphrasing, hypothesis-premise pairs, question-passage pairs, etc.\n"
      ]
    },
    {
      "cell_type": "markdown",
      "metadata": {
        "id": "3NwtnjUvpwFh"
      },
      "source": [
        "![Fine-tune BERT](https://raw.githubusercontent.com/ion-bueno/bert-from-inside/main/images/finetune_examples.png)\n",
        "\n",
        "> Different NLP tasks implemented by fine-tuning BERT. Image from [BERT: Pre-training of Deep Bidirectional Transformers for Language Understanding](https://arxiv.org/abs/1810.04805)."
      ]
    },
    {
      "cell_type": "markdown",
      "metadata": {
        "id": "dASIeoBig8mC"
      },
      "source": [
        "Output token representations and $ C $ are fed into an output layer. Only new parameters are learned from sratch, while the rest are slightly fine-tuned. \n",
        "\n",
        "That is the reason fine-tune is relatively inexpensive in computation cost compared with pretraining. In the original paper, authors claim that all of the results can be replicated in at most 1 hour on a single Cloud TPU, or a few hours on a GPU, starting from the exact same pre-trained model."
      ]
    },
    {
      "cell_type": "markdown",
      "metadata": {
        "id": "dRQ7TcbAp9Nl"
      },
      "source": [
        "![Fine-tune BERT details](https://raw.githubusercontent.com/ion-bueno/bert-from-inside/main/images/finetune_BERT_details.png)\n",
        "\n",
        "> Output layer added in fine-tuning. Image from [BERT Neural Network - EXPLAINED!](https://www.youtube.com/watch?v=xI0HHN5XKDo&t=348s) by CodeEmporium."
      ]
    },
    {
      "cell_type": "markdown",
      "metadata": {
        "id": "OzxZgfiLw-1_"
      },
      "source": [
        "The original experiments in the paper correspond with text classification on [GLUE](https://gluebenchmark.com/) and question answering on [SQuAD](https://rajpurkar.github.io/SQuAD-explorer/). It is also evaluated on [SWAG](https://paperswithcode.com/sota/common-sense-reasoning-on-swag), where given a sentence, the task is to choose the most plausible continuation among four choices."
      ]
    },
    {
      "cell_type": "markdown",
      "metadata": {
        "id": "2qEQi_BDffW1"
      },
      "source": [
        "## 4.4 - Self-Attention Visualization"
      ]
    },
    {
      "cell_type": "markdown",
      "metadata": {
        "id": "fm8NzovuqEqC"
      },
      "source": [
        "As it has been mentioned, the model contains $ L $ blocks and $ A $ attention heads. Many models which come from BERT acquired the encoder to perform self-attention. Self-attention operations are not straightforward, even further if we have different blocks and many heads into them.\n",
        "\n",
        "To get an intuition for BERT (and other similar models) respect the attention weights between elements, we can use [exBERT](https://huggingface.co/exbert/?model=bert-base-cased&modelKind=bidirectional&sentence=This%20model%20has%20revolutionized%20the%20world!&layer=0&heads=..0,1,2,3,4,5,6,7,8,9,10,11&threshold=0.7&tokenInd=null&tokenSide=null&maskInds=..&hideClsSep=true). Following next steps:\n",
        "\n",
        "1. First we select a model and introduce the input sentence.\n",
        "2. We can choose if hide special tokens and the percentage of attention shown.\n",
        "3. We select an encoder block (as *Layer*).\n",
        "4. Lastly the attention heads we want to visualize."
      ]
    },
    {
      "cell_type": "markdown",
      "metadata": {
        "id": "NyG_JpNiG299"
      },
      "source": [
        "![exBERT](https://raw.githubusercontent.com/ion-bueno/bert-from-inside/main/images/exbert.png)\n",
        "\n",
        "> Example of [exBERT](https://huggingface.co/exbert/?model=bert-base-cased&modelKind=bidirectional&sentence=This%20model%20has%20revolutionized%20the%20world!&layer=0&heads=..0,1,2,3,4,5,6,7,8,9,10,11&threshold=0.7&tokenInd=null&tokenSide=null&maskInds=..&hideClsSep=true) visualization."
      ]
    },
    {
      "cell_type": "markdown",
      "metadata": {
        "id": "fhsnqD1UKfE4"
      },
      "source": [
        "# 5 - Sentiment Analysis\n",
        "\n"
      ]
    },
    {
      "cell_type": "markdown",
      "metadata": {
        "id": "ISgoHueqCeEg"
      },
      "source": [
        "A tradiditonal task in NLP is **Sentiment Analysis**. The target is to determine if the sentence has a *positive* or *negative* sentiment, corresponding with a binary classification problem. As it is normal, these two labels depend on the context of our text. In spite of being one of the most simple applications, it is really useful and currently demanded in many applications, for example in reviews of films and series.\n",
        "\n",
        "In addition to be a standard assignment, it compounds one of the task of [GLUE](https://gluebenchmark.com/) (General Language Understanding Evaluation), a group of nine classification tasks on sentences or pairs of sentences, which is commonly used to evaluate state-of-the-art models. Sentiment analysis corresponds with [SST-2](https://nlp.stanford.edu/sentiment/index.html) (Stanford Sentiment Treebank)."
      ]
    },
    {
      "cell_type": "markdown",
      "metadata": {
        "id": "oEm7PX1G3luN"
      },
      "source": [
        "![Sentiment Analysis](https://raw.githubusercontent.com/ion-bueno/bert-from-inside/main/images/sentiment_analysis.PNG)\n",
        "\n",
        "> Example of sentiment analysis in one of the [Hugging Face's models](https://huggingface.co/models)."
      ]
    },
    {
      "cell_type": "markdown",
      "metadata": {
        "id": "Q7sSjqazGNDT"
      },
      "source": [
        "> For this task, two tutorials [Fine tuning BERT for Sentiment Analysis](https://skimai.com/fine-tuning-bert-for-sentiment-analysis/) and [BERT Fine-Tuning Tutorial with PyTorch](http://mccormickml.com/2019/07/22/BERT-fine-tuning/), have been used as guide and support to the development of the application."
      ]
    },
    {
      "cell_type": "markdown",
      "metadata": {
        "id": "C72t07tkgGGf"
      },
      "source": [
        "## 5.1 - Setup"
      ]
    },
    {
      "cell_type": "markdown",
      "metadata": {
        "id": "-Sy2wgHzAwRJ"
      },
      "source": [
        "In spite of being much faster than pre-training, fine-tune a BERT model for any class could be slow for a CPU. Due to that, we are going to try using a GPU."
      ]
    },
    {
      "cell_type": "markdown",
      "metadata": {
        "id": "DYpkzpTFBEIY"
      },
      "source": [
        "> In case of running it from Colab, we could make use of Google's GPUs. Make sure to select GPU from *Runtime > Change runtime type > Hardware accelerator > GPU*."
      ]
    },
    {
      "cell_type": "code",
      "metadata": {
        "colab": {
          "base_uri": "https://localhost:8080/"
        },
        "id": "i_x4k_DmO5M8",
        "outputId": "fafc4878-2616-4402-c061-6115616f8aee"
      },
      "source": [
        "# If there's a GPU available...\n",
        "if torch.cuda.is_available():    \n",
        "    # Tell PyTorch to use the GPU.    \n",
        "    device = torch.device(\"cuda\")\n",
        "    print('There are %d GPU(s) available.' % torch.cuda.device_count())\n",
        "    print('We will use the GPU:', torch.cuda.get_device_name(0))\n",
        "\n",
        "# If not...\n",
        "else:\n",
        "    print('No GPU available, using the CPU instead.')\n",
        "    device = torch.device(\"cpu\")\n"
      ],
      "execution_count": null,
      "outputs": [
        {
          "output_type": "stream",
          "text": [
            "There are 1 GPU(s) available.\n",
            "We will use the GPU: Tesla P100-PCIE-16GB\n"
          ],
          "name": "stdout"
        }
      ]
    },
    {
      "cell_type": "markdown",
      "metadata": {
        "id": "UWOX4s-agL1m"
      },
      "source": [
        "## 5.2 - Load SST-2 Dataset"
      ]
    },
    {
      "cell_type": "markdown",
      "metadata": {
        "id": "mSzeqGUCIPCh"
      },
      "source": [
        "First of all we need to download the dataset. We’ll use the `wget` package to download the dataset to the Colab instance’s file system."
      ]
    },
    {
      "cell_type": "code",
      "metadata": {
        "id": "I_EKeJwIMOjb"
      },
      "source": [
        "!pip install wget"
      ],
      "execution_count": null,
      "outputs": []
    },
    {
      "cell_type": "markdown",
      "metadata": {
        "id": "O1QkRBVoI6G0"
      },
      "source": [
        "In this [repository](https://github.com/nyu-mll/GLUE-baselines) is explained how to manage GLUE datasets, altough in this case we only need the corresponding URL. We donwload the dataset and then unzip it to access it."
      ]
    },
    {
      "cell_type": "code",
      "metadata": {
        "id": "DJ0uAJ2WNE1t",
        "colab": {
          "base_uri": "https://localhost:8080/"
        },
        "outputId": "9c1586d6-789f-4afe-b8fa-1a9ae6510f94"
      },
      "source": [
        "import wget\n",
        "\n",
        "sentiment_dir = Path('sentiment_analysis')\n",
        "if not os.path.exists(sentiment_dir):\n",
        "    !mkdir $sentiment_dir\n",
        "\n",
        "# The URL for the dataset zip file.\n",
        "url = 'https://dl.fbaipublicfiles.com/glue/data/SST-2.zip'\n",
        "\n",
        "# Download the file (if we haven't already)\n",
        "if not os.path.exists('./SST-2.zip'):\n",
        "    print('Downloading dataset...')\n",
        "    wget.download(url, './SST-2.zip')\n",
        "\n",
        "# Unzip the dataset (if we haven't already)\n",
        "sst2_dataset = Path('sst-2_dataset')\n",
        "if not os.path.exists(sst2_dataset):\n",
        "    !unzip SST-2.zip\n",
        "    shutil.move('SST-2', sst2_dataset)"
      ],
      "execution_count": null,
      "outputs": [
        {
          "output_type": "stream",
          "text": [
            "Downloading dataset...\n",
            "Archive:  SST-2.zip\n",
            "   creating: SST-2/\n",
            "  inflating: SST-2/dev.tsv           \n",
            "   creating: SST-2/original/\n",
            "  inflating: SST-2/original/README.txt  \n",
            "  inflating: SST-2/original/SOStr.txt  \n",
            "  inflating: SST-2/original/STree.txt  \n",
            "  inflating: SST-2/original/datasetSentences.txt  \n",
            "  inflating: SST-2/original/datasetSplit.txt  \n",
            "  inflating: SST-2/original/dictionary.txt  \n",
            "  inflating: SST-2/original/original_rt_snippets.txt  \n",
            "  inflating: SST-2/original/sentiment_labels.txt  \n",
            "  inflating: SST-2/test.tsv          \n",
            "  inflating: SST-2/train.tsv         \n"
          ],
          "name": "stdout"
        }
      ]
    },
    {
      "cell_type": "markdown",
      "metadata": {
        "id": "KyXCF0E3fW8o"
      },
      "source": [
        "There are three different datasets: *train.csv*, *test.csv*, *dev.csv*. As its own name indicates, they are used for training, testing and validate respectively, the studied model. As there is a [GLUE leaderboard](https://gluebenchmark.com/leaderboard), the test dataset is not labeled. In order to study the performance of our model, we are going to divide the train dataset, which has enough samples, into train and test. Test set is going to be one third of the original train test."
      ]
    },
    {
      "cell_type": "code",
      "metadata": {
        "id": "pMYvqVOQfIg8"
      },
      "source": [
        "from sklearn.model_selection import train_test_split\n",
        "\n",
        "train_df = pd.read_csv(sst2_dataset/'train.tsv', delimiter='\\t', header=1, names=['sentence', 'label'])\n",
        "val_df = pd.read_csv(sst2_dataset/'dev.tsv', delimiter='\\t', header=1, names=['sentence', 'label'])\n",
        "train_df, test_df = train_test_split(train_df, test_size=0.33, shuffle=True)"
      ],
      "execution_count": null,
      "outputs": []
    },
    {
      "cell_type": "markdown",
      "metadata": {
        "id": "TaVAVVZgJPID"
      },
      "source": [
        "They are saved into a dictionay to allow an easy access."
      ]
    },
    {
      "cell_type": "code",
      "metadata": {
        "id": "JO9lvi3_T_oA"
      },
      "source": [
        "# Load the datasets into a pandas dataframe.\n",
        "original_datasets = {\n",
        "    'train':    train_df, \n",
        "    'val':      val_df, \n",
        "    'test':     test_df\n",
        "}"
      ],
      "execution_count": null,
      "outputs": []
    },
    {
      "cell_type": "markdown",
      "metadata": {
        "id": "8sUA4BM7LO3C"
      },
      "source": [
        "To get a fast intuition on the dataset, we can plot some used sentences for the three splits. Mention the label 1 corresponds with positive sentiment while label 0 with negative.\n",
        "\n",
        "\\begin{matrix}\n",
        "    \\text{Class 0} & \\rightarrow & \\text{Negative sentiment} \\\\\n",
        "    \\text{Class 1} & \\rightarrow & \\text{Positive sentiment}\n",
        "\\end{matrix}"
      ]
    },
    {
      "cell_type": "code",
      "metadata": {
        "colab": {
          "base_uri": "https://localhost:8080/",
          "height": 238
        },
        "id": "_1s1Y3T5RS-z",
        "outputId": "1331ba7d-0d13-4940-b613-c17d08a14795"
      },
      "source": [
        "#@markdown Select a split\n",
        "split = \"train\" #@param [\"train\", \"val\", \"test\"]\n",
        "\n",
        "#@markdown Select number of examples to visualize it\n",
        "num_examples = 5 #@param {type:\"slider\", min:1, max:10, step:1}\n",
        "\n",
        "print(f'Some sentences of {split} split, which has a length of {len(original_datasets[split])}\\n')\n",
        "pd.set_option(\"max_colwidth\", 150)\n",
        "original_datasets[split].sample(num_examples)"
      ],
      "execution_count": null,
      "outputs": [
        {
          "output_type": "stream",
          "text": [
            "Some sentences of train split, which has a length of 45123\n",
            "\n"
          ],
          "name": "stdout"
        },
        {
          "output_type": "execute_result",
          "data": {
            "text/html": [
              "<div>\n",
              "<style scoped>\n",
              "    .dataframe tbody tr th:only-of-type {\n",
              "        vertical-align: middle;\n",
              "    }\n",
              "\n",
              "    .dataframe tbody tr th {\n",
              "        vertical-align: top;\n",
              "    }\n",
              "\n",
              "    .dataframe thead th {\n",
              "        text-align: right;\n",
              "    }\n",
              "</style>\n",
              "<table border=\"1\" class=\"dataframe\">\n",
              "  <thead>\n",
              "    <tr style=\"text-align: right;\">\n",
              "      <th></th>\n",
              "      <th>sentence</th>\n",
              "      <th>label</th>\n",
              "    </tr>\n",
              "  </thead>\n",
              "  <tbody>\n",
              "    <tr>\n",
              "      <th>6839</th>\n",
              "      <td>( and probably should have )</td>\n",
              "      <td>0</td>\n",
              "    </tr>\n",
              "    <tr>\n",
              "      <th>43072</th>\n",
              "      <td>clear-cut</td>\n",
              "      <td>1</td>\n",
              "    </tr>\n",
              "    <tr>\n",
              "      <th>62472</th>\n",
              "      <td>a vivid , sometimes surreal ,</td>\n",
              "      <td>1</td>\n",
              "    </tr>\n",
              "    <tr>\n",
              "      <th>33700</th>\n",
              "      <td>is never satisfactory .</td>\n",
              "      <td>0</td>\n",
              "    </tr>\n",
              "    <tr>\n",
              "      <th>58915</th>\n",
              "      <td>is impossible</td>\n",
              "      <td>0</td>\n",
              "    </tr>\n",
              "  </tbody>\n",
              "</table>\n",
              "</div>"
            ],
            "text/plain": [
              "                             sentence  label\n",
              "6839    ( and probably should have )       0\n",
              "43072                      clear-cut       1\n",
              "62472  a vivid , sometimes surreal ,       1\n",
              "33700        is never satisfactory .       0\n",
              "58915                  is impossible       0"
            ]
          },
          "metadata": {
            "tags": []
          },
          "execution_count": 46
        }
      ]
    },
    {
      "cell_type": "markdown",
      "metadata": {
        "id": "o03dUBH1KxIp"
      },
      "source": [
        "Depending on the computation velocity, training process could be very slow. For a fast intuition on the model, we can remove some data, since only the training set has more than 45K samples. With `perc` we select the percentage of data we are going to use. Removed sample are selected randomly."
      ]
    },
    {
      "cell_type": "code",
      "metadata": {
        "id": "Q3d-eYHQgegp",
        "colab": {
          "base_uri": "https://localhost:8080/"
        },
        "outputId": "44de4ea0-0c71-439c-dae1-ed6423b76bdd"
      },
      "source": [
        "#@title 5.2.1 Resize Dataset { vertical-output: true }\n",
        "#@markdown Percentage of dataset to use %\n",
        "perc = 100 #@param {type:\"slider\", min:1, max:100, step:1}\n",
        "datasets = {}\n",
        "\n",
        "for key, df in original_datasets.items():\n",
        "    new_df = df.sample(n=round(len(df)*(perc/100)), random_state=np.random.RandomState())\n",
        "    datasets[key] = new_df.reset_index(drop=True)\n",
        "    if perc != 100:\n",
        "        print(f'{key:<10}', f'From: {len(original_datasets[key]):<10}', f'To: {len(datasets[key]):<10}')\n",
        "    else:\n",
        "        print(f'{key:<10}', f'size: {len(original_datasets[key]):<10}')"
      ],
      "execution_count": null,
      "outputs": [
        {
          "output_type": "stream",
          "text": [
            "train      size: 45123     \n",
            "val        size: 871       \n",
            "test       size: 22225     \n"
          ],
          "name": "stdout"
        }
      ]
    },
    {
      "cell_type": "markdown",
      "metadata": {
        "id": "cxgbVHrorSqy"
      },
      "source": [
        "It is important to know how many samples we have per class in our training dataset, in case we are dealing with an imbalanced classification problem. The number of samples is going to depend on how the original train datatset has been splitted to get the test set."
      ]
    },
    {
      "cell_type": "code",
      "metadata": {
        "colab": {
          "base_uri": "https://localhost:8080/"
        },
        "id": "chVHT0EOrcW3",
        "outputId": "30fb0d06-8371-4061-9c05-a8dfb048df8d"
      },
      "source": [
        "train_labels = datasets['train'].label\n",
        "\n",
        "# Print resulted samples\n",
        "print(f\"{'Total samples':^15} | {'Positive':^10} | {'Negative':^10}\")\n",
        "print(42*'-')\n",
        "print(f\"{len(train_labels):^15} | {len(train_labels[train_labels==1]):^10} | {len(train_labels[train_labels==0]):^10}\")\n",
        "print(42*'-')"
      ],
      "execution_count": null,
      "outputs": [
        {
          "output_type": "stream",
          "text": [
            " Total samples  |  Positive  |  Negative \n",
            "------------------------------------------\n",
            "     45123      |   25208    |   19915   \n",
            "------------------------------------------\n"
          ],
          "name": "stdout"
        }
      ]
    },
    {
      "cell_type": "markdown",
      "metadata": {
        "id": "Z9MMh57I1PmH"
      },
      "source": [
        "As it can be seen, the number of samples per class is balanced."
      ]
    },
    {
      "cell_type": "markdown",
      "metadata": {
        "id": "iPwweniNgTvl"
      },
      "source": [
        "## 5.3 -  Preprocessing SST-2 Data"
      ]
    },
    {
      "cell_type": "markdown",
      "metadata": {
        "id": "krEPtT0qTpQ9"
      },
      "source": [
        "Before input sequences into BERT, it is necessary to preprocess data samples. The steps to perform depend on the model, but mainly the guide to follow is:\n",
        "\n",
        "*   Tokenize sequences, converting text into integers according to embedding space used.\n",
        "\n",
        "*   Pad each sentence to the maximum length which is in your batch.\n",
        "\n",
        "*   Truncate each sentence to the maximum length the model can accept (if applicable). \n"
      ]
    },
    {
      "cell_type": "markdown",
      "metadata": {
        "id": "MRbrb0iDqkZX"
      },
      "source": [
        "![Tokenization](https://raw.githubusercontent.com/ion-bueno/bert-from-inside/main/images/tokenization_types.png)\n",
        "\n",
        "> Tokenization example."
      ]
    },
    {
      "cell_type": "markdown",
      "metadata": {
        "id": "iePZgKqDVcFD"
      },
      "source": [
        "The whole text must also be divided into sentences. Each one can select the more suitable approach depending on the origin of the text. In this case, the text is already divided into sentences.\n",
        "\n",
        "BERT employs [WordPiece](https://research.google/pubs/pub37842/) subword tokenization algorithm. Subword tokenization algorithms rely on the principle that frequently used words should not be split into smaller subwords, but rare words should be decomposed into meaningful subwords.\n",
        "\t\t\n",
        "WordPiece is very similar to [Byte Pair Encoding (BPE)](https://arxiv.org/abs/1508.07909). Every character present in training data is included to learn the corresponding merge rules. In contrast to BPE that chooses the most frequent symbol pair, this algorithm maximizes the likelihood of the training data when it is added to the vocabulary. This approach evaluates if it is worthy to merge two symbols, instead of separated."
      ]
    },
    {
      "cell_type": "markdown",
      "metadata": {
        "id": "JjbGx7_xMfdH"
      },
      "source": [
        "Remember that BERT input follows next scheme:\n",
        "\n",
        "\\begin{matrix}\n",
        "    \\text{[CLS]} & \\text{Sentence A} & \\text{[SEP]} & \\text{Sentence B} & \\text{[SEP]}\n",
        "\\end{matrix}\n",
        "\n",
        "or\n",
        "\n",
        "\\begin{matrix}\n",
        "    \\text{[CLS]} & \\text{Sentence} & \\text{[SEP]}\n",
        "\\end{matrix} \\\\\n",
        "\n",
        "depending on the final task. For classification of one sentence, it corresponds with second option.\n"
      ]
    },
    {
      "cell_type": "markdown",
      "metadata": {
        "id": "dSdChhNAOfLC"
      },
      "source": [
        "In order to preprocess according to the model, it is going to be used the [`BertTokenizer`](https://huggingface.co/transformers/model_doc/bert.html?highlight=berttokenizer#transformers.BertTokenizer) from Hugging Face, which ensures geting a tokenizer that corresponds to the desired model architecture. Besides that, it downloads the vocabulary used when pretraining this specific checkpoint.\n",
        "\n",
        "\n",
        "It is necessary to pass to the tokenizer the name of the pre-trained model we are going to use. It is selected [`bert-base-uncased`](https://huggingface.co/bert-base-uncased), a $ \\text{BERT}_{\\text{BASE}} $ which does not distinguish between upper and lower case."
      ]
    },
    {
      "cell_type": "code",
      "metadata": {
        "id": "_QEvK9RzQdln"
      },
      "source": [
        "from transformers import BertTokenizer"
      ],
      "execution_count": null,
      "outputs": []
    },
    {
      "cell_type": "code",
      "metadata": {
        "id": "VdAmTkmzO6D_"
      },
      "source": [
        "MODEL_NAME = 'bert-base-uncased'"
      ],
      "execution_count": null,
      "outputs": []
    },
    {
      "cell_type": "code",
      "metadata": {
        "colab": {
          "base_uri": "https://localhost:8080/",
          "height": 198,
          "referenced_widgets": [
            "5aac931e402d4e7f88a0fc39c142e6c5",
            "ea469d87f3cd430ebdbcf85f732033d5",
            "a945116be64341ca9018fcf62d68045f",
            "08cc4387a2a3443b8bca921afdc08e9b",
            "6c460920bbe74319be927b7de6cec4b0",
            "16b74057dabb448c91f9306a30f6d679",
            "d8e6692429974739b7b75c9f7d700a39",
            "30e5ed1261bd4cf7845f53c224241a07",
            "2d632da2e0b948cbb00c4ca0a0a55f60",
            "b03f83f066b8476dbbf27003d74b880c",
            "91b78d64f1b949eeb3e4d25b8a2b8945",
            "5d425d0f23ff41d9b45b6090bc15d986",
            "48922a2dc4f24aa5be81131c1f854f22",
            "7d76f16dcd8747dcaf62802d9513f87c",
            "326adbbe4d574f7cb93448b49c354534",
            "74f2079b924e4ad4ac0501a4515165fe",
            "0c14c23dfd144eb084083e3df9838d80",
            "fd6157893f4c4a2ca121c32a97682a74",
            "0dd4efa8884f4e88918369bb02770d32",
            "fe1519de8ee74584b7beb641e8e1e65c",
            "54ed975ccbee4e168a2400b6e542c682",
            "4623404c9d664846a6183a9355fd5b1f",
            "2d7340bf26294a4a865f63cd842ad0b9",
            "3d6ac1a7a8234d3fbe5e700d5ef30d20"
          ]
        },
        "id": "lp5EPjvGOngp",
        "outputId": "ac115467-f221-4319-9858-5b3f7f67a432"
      },
      "source": [
        "# Load the BERT tokenizer.\n",
        "print('Loading BERT tokenizer...\\n')\n",
        "tokenizer = BertTokenizer.from_pretrained(MODEL_NAME)"
      ],
      "execution_count": null,
      "outputs": [
        {
          "output_type": "stream",
          "text": [
            "Loading BERT tokenizer...\n",
            "\n"
          ],
          "name": "stdout"
        },
        {
          "output_type": "display_data",
          "data": {
            "application/vnd.jupyter.widget-view+json": {
              "model_id": "5aac931e402d4e7f88a0fc39c142e6c5",
              "version_minor": 0,
              "version_major": 2
            },
            "text/plain": [
              "HBox(children=(FloatProgress(value=0.0, description='Downloading', max=231508.0, style=ProgressStyle(descripti…"
            ]
          },
          "metadata": {
            "tags": []
          }
        },
        {
          "output_type": "stream",
          "text": [
            "\n"
          ],
          "name": "stdout"
        },
        {
          "output_type": "display_data",
          "data": {
            "application/vnd.jupyter.widget-view+json": {
              "model_id": "2d632da2e0b948cbb00c4ca0a0a55f60",
              "version_minor": 0,
              "version_major": 2
            },
            "text/plain": [
              "HBox(children=(FloatProgress(value=0.0, description='Downloading', max=28.0, style=ProgressStyle(description_w…"
            ]
          },
          "metadata": {
            "tags": []
          }
        },
        {
          "output_type": "stream",
          "text": [
            "\n"
          ],
          "name": "stdout"
        },
        {
          "output_type": "display_data",
          "data": {
            "application/vnd.jupyter.widget-view+json": {
              "model_id": "0c14c23dfd144eb084083e3df9838d80",
              "version_minor": 0,
              "version_major": 2
            },
            "text/plain": [
              "HBox(children=(FloatProgress(value=0.0, description='Downloading', max=466062.0, style=ProgressStyle(descripti…"
            ]
          },
          "metadata": {
            "tags": []
          }
        },
        {
          "output_type": "stream",
          "text": [
            "\n"
          ],
          "name": "stdout"
        }
      ]
    },
    {
      "cell_type": "markdown",
      "metadata": {
        "id": "Esjs9IJyQ-mU"
      },
      "source": [
        "From tokenizer's instance it can be obtained information about the model:\n",
        "\n",
        "- Dimension of the vocabulary used\n",
        "- Maximum allowed length of the model\n",
        "- In which size is applied padding\n",
        "- Special used tokens for separation token, padding token, classification token, mask token and other unknown tokens.\n"
      ]
    },
    {
      "cell_type": "code",
      "metadata": {
        "colab": {
          "base_uri": "https://localhost:8080/"
        },
        "id": "MbJCgRpQYODR",
        "outputId": "fd17c30c-51bc-48ab-95dd-cf62a746aa28"
      },
      "source": [
        "#@markdown Select an option to visualize it\n",
        "attribute = \"vocab_size\" #@param [\"vocab_size\", \"model_max_length\", \"padding_side\", \"sep_token\", \"pad_token\", \"cls_token\", \"mask_token\", \"unk_token\"]\n",
        "\n",
        "print(getattr(tokenizer, attribute))"
      ],
      "execution_count": null,
      "outputs": [
        {
          "output_type": "stream",
          "text": [
            "30522\n"
          ],
          "name": "stdout"
        }
      ]
    },
    {
      "cell_type": "markdown",
      "metadata": {
        "id": "_1hLzeZHRJHb"
      },
      "source": [
        "BERT works with sentences of same dimension. Due to that, it is required to pad (add padding tokens until a specified size) or truncate (separate a sentence if it is longer than the maximum model length). For this reason it is very useful to know which is the maximum length in our sentences, and limit the input size to this value."
      ]
    },
    {
      "cell_type": "code",
      "metadata": {
        "colab": {
          "base_uri": "https://localhost:8080/"
        },
        "id": "MLbnuF07maXq",
        "outputId": "fc9e3161-8c25-4825-af7a-3d8ce3fa997c"
      },
      "source": [
        "# Concatenate sentences in datasets\n",
        "all_sentences = np.concatenate([datasets['train'].sentence.values, \n",
        "                                datasets['val'].sentence.values, \n",
        "                                datasets['test'].sentence.values])\n",
        "\n",
        "# Encode our concatenated data\n",
        "encoded_sentences = [tokenizer.encode(sent, add_special_tokens=True) for sent in all_sentences]\n",
        "\n",
        "# Find the maximum length\n",
        "max_len = max([len(sent) for sent in encoded_sentences])\n",
        "print(f'Max length: {max_len}')"
      ],
      "execution_count": null,
      "outputs": [
        {
          "output_type": "stream",
          "text": [
            "Max length: 66\n"
          ],
          "name": "stdout"
        }
      ]
    },
    {
      "cell_type": "markdown",
      "metadata": {
        "id": "re7NomrbSU4B"
      },
      "source": [
        "In addition to, it is necessary to add the special tokens: [CLS] at the beginning of a sentence and [SEP] between them, altough in this task it will be only at the end of each one."
      ]
    },
    {
      "cell_type": "markdown",
      "metadata": {
        "id": "DqTTwCtTSwNw"
      },
      "source": [
        "In next function, we tokenize each sentence in addition to add special tokens and perform the required padding or truncating operations."
      ]
    },
    {
      "cell_type": "code",
      "metadata": {
        "id": "Q2uqvgtbrZSV"
      },
      "source": [
        "def preprocessing_for_sa(data, tokenizer, max_len=512):\n",
        "    \"\"\"Perform required preprocessing steps for pretrained BERT.\n",
        "    @param    data (np.array): Array of texts to be processed.\n",
        "    @return   input_ids (torch.Tensor): Tensor of token ids to be fed to a model.\n",
        "    @return   attention_masks (torch.Tensor): Tensor of indices specifying which\n",
        "                  tokens should be attended to by the model.\n",
        "    \"\"\"\n",
        "    # Create empty lists to store outputs\n",
        "    input_ids = []\n",
        "    attention_masks = []\n",
        "\n",
        "    # For every sentence...\n",
        "    for sent in data:\n",
        "        encoded_sent = tokenizer.encode_plus(\n",
        "            sent,                           # Tokenize sentence\n",
        "            add_special_tokens=True,        # Add `[CLS]` and `[SEP]`\n",
        "            max_length=max_len,             # Max length to truncate/pad\n",
        "            padding='max_length',           # Pad sentence to max length\n",
        "            truncation=True,                # Truncate to max_length\n",
        "            return_attention_mask=True      # Return attention mask\n",
        "            )\n",
        "        \n",
        "        # Get output and attention mask\n",
        "        input_ids.append(encoded_sent.get('input_ids'))\n",
        "        attention_masks.append(encoded_sent.get('attention_mask'))\n",
        "\n",
        "    # Convert lists to tensors\n",
        "    input_ids = torch.tensor(input_ids)\n",
        "    attention_masks = torch.tensor(attention_masks)\n",
        "\n",
        "    return input_ids, attention_masks"
      ],
      "execution_count": null,
      "outputs": []
    },
    {
      "cell_type": "markdown",
      "metadata": {
        "id": "E0oMD7QcTUH_"
      },
      "source": [
        "From this function we will get the corresponding token IDs as `input_ids`. Also, the second output `attention_masks`, indicates which tokens are useful and which ones are padding tokens. This requirement in the input is necessary for BERT."
      ]
    },
    {
      "cell_type": "code",
      "metadata": {
        "id": "ggrf-hV_3Qmr"
      },
      "source": [
        "encoded_datasets = dict.fromkeys(datasets)\n",
        "\n",
        "for split, df in datasets.items(): \n",
        "    encoded_datasets[split] = dict()\n",
        "    encoded_datasets[split]['input_ids'], encoded_datasets[split]['attention_mask'] = preprocessing_for_sa(df.sentence, tokenizer, max_len)\n",
        "    # Add the corresponding labels\n",
        "    encoded_datasets[split]['label'] = torch.tensor(df.label)"
      ],
      "execution_count": null,
      "outputs": []
    },
    {
      "cell_type": "markdown",
      "metadata": {
        "id": "CS872sOtUW60"
      },
      "source": [
        "To get an intutiton about the whole process, we can print a random sentence as well as the corresponding token IDs and the result after tokenize it."
      ]
    },
    {
      "cell_type": "code",
      "metadata": {
        "colab": {
          "base_uri": "https://localhost:8080/"
        },
        "id": "0uMO0Akt4VSR",
        "outputId": "5ca808ba-edb3-40e0-d4ab-b9277f7d46f5"
      },
      "source": [
        "# Random index\n",
        "rnd_index = random.randint(0, len(datasets[split])-1)\n",
        "# Original sentence\n",
        "sentence = datasets[split].sentence[rnd_index]\n",
        "print('Original sentence:')\n",
        "print(sentence, '\\n')\n",
        "\n",
        "# IDs\n",
        "ids = encoded_datasets[split]['input_ids'][rnd_index]\n",
        "print('Token IDs:')\n",
        "print(ids.detach().numpy(), '\\n')\n",
        "\n",
        "# Token IDs\n",
        "#tokens = tokenizer.convert_ids_to_tokens(ids)\n",
        "print('After tokenization:')\n",
        "print(np.array(tokenizer.convert_ids_to_tokens(ids)))"
      ],
      "execution_count": null,
      "outputs": [
        {
          "output_type": "stream",
          "text": [
            "Original sentence:\n",
            "i 've never seen or heard anything quite like this film , and i recommend it for its originality alone  \n",
            "\n",
            "Token IDs:\n",
            "[  101  1045  1005  2310  2196  2464  2030  2657  2505  3243  2066  2023\n",
            "  2143  1010  1998  1045 16755  2009  2005  2049  2434  3012  2894   102\n",
            "     0     0     0     0     0     0     0     0     0     0     0     0\n",
            "     0     0     0     0     0     0     0     0     0     0     0     0\n",
            "     0     0     0     0     0     0     0     0     0     0     0     0\n",
            "     0     0     0     0     0     0] \n",
            "\n",
            "After tokenization:\n",
            "['[CLS]' 'i' \"'\" 've' 'never' 'seen' 'or' 'heard' 'anything' 'quite'\n",
            " 'like' 'this' 'film' ',' 'and' 'i' 'recommend' 'it' 'for' 'its'\n",
            " 'original' '##ity' 'alone' '[SEP]' '[PAD]' '[PAD]' '[PAD]' '[PAD]'\n",
            " '[PAD]' '[PAD]' '[PAD]' '[PAD]' '[PAD]' '[PAD]' '[PAD]' '[PAD]' '[PAD]'\n",
            " '[PAD]' '[PAD]' '[PAD]' '[PAD]' '[PAD]' '[PAD]' '[PAD]' '[PAD]' '[PAD]'\n",
            " '[PAD]' '[PAD]' '[PAD]' '[PAD]' '[PAD]' '[PAD]' '[PAD]' '[PAD]' '[PAD]'\n",
            " '[PAD]' '[PAD]' '[PAD]' '[PAD]' '[PAD]' '[PAD]' '[PAD]' '[PAD]' '[PAD]'\n",
            " '[PAD]' '[PAD]']\n"
          ],
          "name": "stdout"
        }
      ]
    },
    {
      "cell_type": "markdown",
      "metadata": {
        "id": "C0qzQm6Ag2fG"
      },
      "source": [
        "We will create an iterator for our dataset using the torch [data loader](https://pytorch.org/tutorials/beginner/basics/data_tutorial.html) class. This will help save on memory during training and boost the training speed."
      ]
    },
    {
      "cell_type": "code",
      "metadata": {
        "id": "Kmgor3yXeUsW"
      },
      "source": [
        "from torch.utils.data import TensorDataset, DataLoader, RandomSampler, SequentialSampler\n",
        "\n",
        "def generate_data_loaders(batch_size, test=False):\n",
        "    # Train and val dataloaders\n",
        "    if test is False:\n",
        "        dataloaders = list()\n",
        "        for dataset in (encoded_datasets['train'], \n",
        "                        encoded_datasets['val']):\n",
        "            \n",
        "            data = TensorDataset(dataset['input_ids'], \n",
        "                                dataset['attention_mask'], \n",
        "                                dataset['label'])\n",
        "            sampler = RandomSampler(data)\n",
        "            dataloader = DataLoader(data, sampler=sampler, batch_size=batch_size)\n",
        "            dataloaders.append(dataloader)\n",
        "        return tuple(dataloaders)\n",
        "\n",
        "    # Test dataloader\n",
        "    else:\n",
        "        dataset = encoded_datasets['test']\n",
        "        data = TensorDataset(dataset['input_ids'], \n",
        "                                dataset['attention_mask'], \n",
        "                                dataset['label'])\n",
        "        sampler = SequentialSampler(data)\n",
        "        return DataLoader(data, sampler=sampler, batch_size=batch_size)"
      ],
      "execution_count": null,
      "outputs": []
    },
    {
      "cell_type": "markdown",
      "metadata": {
        "id": "gPQVNkKcgfQp"
      },
      "source": [
        "## 5.4 - Generation of the Model"
      ]
    },
    {
      "cell_type": "markdown",
      "metadata": {
        "id": "7jqdXV0CFsG4"
      },
      "source": [
        "To fine-tune on GLUE, it is introduced classification layer weigths $ W \\in \\mathbb R^{K \\ x \\ H} $, where $ K $ is the number of labels. Then it is computed a standard classification loss with $ C $ and $ W $:\n",
        "\n",
        "\\begin{equation}\n",
        "    \\text{log}(\\text{softmax}(CW^T))\n",
        "\\end{equation}\n",
        "\n"
      ]
    },
    {
      "cell_type": "markdown",
      "metadata": {
        "id": "HUkyebe_q0cZ"
      },
      "source": [
        "![Fine tune sentiment analysis](https://raw.githubusercontent.com/ion-bueno/bert-from-inside/main/images/sentiment_analysis_fine_tune.png)\n",
        "\n",
        "> Fine-tune BERT on sentiment analysis. Image from [BERT: Pre-training of Deep Bidirectional Transformers for Language Understanding](https://arxiv.org/abs/1810.04805)."
      ]
    },
    {
      "cell_type": "markdown",
      "metadata": {
        "id": "IhpgGfl9heot"
      },
      "source": [
        "In **Sentiment Analysis** task, the final model is just a combination of BERT's encoder and a classifier to get the final probabilities."
      ]
    },
    {
      "cell_type": "markdown",
      "metadata": {
        "id": "5bV6gHgCqrRP"
      },
      "source": [
        "![BERT Classifier](https://raw.githubusercontent.com/ion-bueno/bert-from-inside/main/images/bert-classifier.png)\n",
        "\n",
        "> Diagram of BERT Classifier. Image from [The Illustrated BERT, ELMo, and co.](http://jalammar.github.io/illustrated-bert/)."
      ]
    },
    {
      "cell_type": "markdown",
      "metadata": {
        "id": "vUAMrvRQYa_a"
      },
      "source": [
        "Hugging Face provides [`BertForSequenceClassification`](https://huggingface.co/transformers/model_doc/bert.html?highlight=berttokenizer#bertforsequenceclassification) to perform this task. However, in order to show the simplicity of fine-tune process, it is going to be created an own model. At the end, this is the combination of pre-trained [`BertModel`](https://huggingface.co/transformers/model_doc/bert.html#transformers.BertModel) and a classifier, composed by a simple feed-forward neural netword with only one hidden layer, plus a softmax to get the probabilities of each class."
      ]
    },
    {
      "cell_type": "code",
      "metadata": {
        "id": "ujfnQXfrhwcB"
      },
      "source": [
        "# Create the BertClassfier class\n",
        "class BertClassifier(nn.Module):\n",
        "    \"\"\"Bert Model for Classification Tasks.\n",
        "    \"\"\"\n",
        "    def __init__(self, in_classifier=50, dropout=0.1, freeze_bert=False):\n",
        "        \"\"\"\n",
        "        @param    bert: a BertModel object\n",
        "        @param    classifier: a torch.nn.Module classifier\n",
        "        @param    freeze_bert (bool): Set `False` to fine-tune the BERT model\n",
        "        \"\"\"\n",
        "        super(BertClassifier, self).__init__()\n",
        "\n",
        "        # Instantiate BERT model\n",
        "        self.bert = BertModel.from_pretrained(MODEL_NAME)\n",
        "\n",
        "        # Instantiate an one-layer feed-forward classifier\n",
        "        H = in_classifier\n",
        "        D_in = self.bert.config.hidden_size\n",
        "\n",
        "        self.classifier = nn.Sequential(\n",
        "                nn.Linear(D_in, H),\n",
        "                nn.ReLU(),\n",
        "                nn.Dropout(dropout),\n",
        "                nn.Linear(H, 2)\n",
        "        )\n",
        "\n",
        "        # Freeze the BERT model\n",
        "        if freeze_bert:\n",
        "            for param in self.bert.parameters():\n",
        "                param.requires_grad = False\n",
        "        \n",
        "    def forward(self, input_ids, attention_mask):\n",
        "        \"\"\"\n",
        "        Feed input to BERT and the classifier to compute logits.\n",
        "        @param    input_ids (torch.Tensor): an input tensor with shape (batch_size,\n",
        "                      max_length)\n",
        "        @param    attention_mask (torch.Tensor): a tensor that hold attention mask\n",
        "                      information with shape (batch_size, max_length)\n",
        "        @return   logits (torch.Tensor): an output tensor with shape (batch_size,\n",
        "                      num_labels)\n",
        "        \"\"\"\n",
        "        # Feed input to BERT\n",
        "        outputs = self.bert(input_ids=input_ids,\n",
        "                            attention_mask=attention_mask)\n",
        "        \n",
        "        # Extract the last hidden state of the token `[CLS]` for classification task\n",
        "        # outputs[0] = last_hidden_state\n",
        "        # last_hidden_state dimension: (n_batches x words x inner_dim_BERT)\n",
        "        last_hidden_state_cls = outputs[0][:, 0, :]\n",
        "\n",
        "        # Feed input to classifier to compute logits\n",
        "        logits = self.classifier(last_hidden_state_cls)\n",
        "\n",
        "        return logits"
      ],
      "execution_count": null,
      "outputs": []
    },
    {
      "cell_type": "markdown",
      "metadata": {
        "id": "_1NLY5sbc097"
      },
      "source": [
        "Finally, we have to decide the classifier's parameters. In our case the number of neurons in the hidden layer of the neural network as `in_classifier` and a dropout probability as `dropout_classifier`."
      ]
    },
    {
      "cell_type": "code",
      "metadata": {
        "colab": {
          "base_uri": "https://localhost:8080/"
        },
        "id": "r__KXCK8-9jI",
        "outputId": "1a74bdbb-6a3b-474e-dc31-83efb847f854"
      },
      "source": [
        "#@markdown Size classifier layer\n",
        "in_classifier = 50 #@param {type:\"integer\"}\n",
        "#@markdown Classifier droput probability\n",
        "dropout_classifier = 0.01 #@param {type:\"number\"}\n",
        "model = BertClassifier(in_classifier, dropout_classifier)"
      ],
      "execution_count": null,
      "outputs": [
        {
          "output_type": "stream",
          "text": [
            "Some weights of the model checkpoint at bert-base-uncased were not used when initializing BertModel: ['cls.predictions.bias', 'cls.predictions.transform.dense.bias', 'cls.seq_relationship.bias', 'cls.predictions.transform.LayerNorm.bias', 'cls.predictions.transform.LayerNorm.weight', 'cls.predictions.transform.dense.weight', 'cls.seq_relationship.weight', 'cls.predictions.decoder.weight']\n",
            "- This IS expected if you are initializing BertModel from the checkpoint of a model trained on another task or with another architecture (e.g. initializing a BertForSequenceClassification model from a BertForPreTraining model).\n",
            "- This IS NOT expected if you are initializing BertModel from the checkpoint of a model that you expect to be exactly identical (initializing a BertForSequenceClassification model from a BertForSequenceClassification model).\n"
          ],
          "name": "stderr"
        }
      ]
    },
    {
      "cell_type": "markdown",
      "metadata": {
        "id": "_LVmrGBOeB15"
      },
      "source": [
        "With the model created, we can visualize each part: the whole model, only pretrained BERT or the classifier."
      ]
    },
    {
      "cell_type": "code",
      "metadata": {
        "colab": {
          "base_uri": "https://localhost:8080/"
        },
        "id": "cyXhITJRm0Pq",
        "outputId": "1c68fddd-3276-48d7-e815-cdf816bfb7af"
      },
      "source": [
        "#@markdown Select whole model, only pretrained BERT or the classifier\n",
        "block = \"classifier\" #@param [\"model\", \"bert\", \"classifier\"]\n",
        "if block == 'model':\n",
        "    print(model)\n",
        "else:\n",
        "    print(getattr(model, block))"
      ],
      "execution_count": null,
      "outputs": [
        {
          "output_type": "stream",
          "text": [
            "Sequential(\n",
            "  (0): Linear(in_features=768, out_features=50, bias=True)\n",
            "  (1): ReLU()\n",
            "  (2): Dropout(p=0.01, inplace=False)\n",
            "  (3): Linear(in_features=50, out_features=2, bias=True)\n",
            ")\n"
          ],
          "name": "stdout"
        }
      ]
    },
    {
      "cell_type": "markdown",
      "metadata": {
        "id": "V6iOXiN8-8gc"
      },
      "source": [
        "To fine-tune our Bert Classifier, we need to create an optimizer. "
      ]
    },
    {
      "cell_type": "code",
      "metadata": {
        "cellView": "code",
        "id": "D4RYJWzH0wYH"
      },
      "source": [
        "from transformers import AdamW, get_linear_schedule_with_warmup\n",
        "\n",
        "def init_model(train_dataloader,\n",
        "               in_classifier=50, dropout_classifier=0.1, \n",
        "               learning_rate=5e-5, epsilon=1e-8, \n",
        "               epochs=4):\n",
        "    # Model\n",
        "    bert_classifier = BertClassifier(in_classifier, dropout_classifier)\n",
        "    # Run model in device\n",
        "    bert_classifier.to(device)\n",
        "\n",
        "    # Create the optimizer\n",
        "    optimizer = AdamW(\n",
        "        bert_classifier.parameters(),\n",
        "        lr=learning_rate,    \n",
        "        eps=epsilon    \n",
        "    )\n",
        "\n",
        "    # Total number of training steps\n",
        "    total_steps = len(train_dataloader) * epochs\n",
        "\n",
        "    # Set up the learning rate scheduler\n",
        "    scheduler = get_linear_schedule_with_warmup(optimizer,\n",
        "                                                num_warmup_steps=0, # Default value\n",
        "                                                num_training_steps=total_steps)\n",
        "    return bert_classifier, optimizer, scheduler"
      ],
      "execution_count": null,
      "outputs": []
    },
    {
      "cell_type": "markdown",
      "metadata": {
        "id": "beqNViLcz0es"
      },
      "source": [
        "## 5.5 - Fine-Tune on Sentiment Analysis"
      ]
    },
    {
      "cell_type": "markdown",
      "metadata": {
        "id": "bf1km6oGwsat"
      },
      "source": [
        "Before going into detail about how to fine-tune the model, a recap about binary classification problems. There are 4 possible combinations in a binary classification problem (predict a class between two possible ones).\n",
        "\n",
        "- **True Positive (TP)**: if both predicted and actual values are *Positive*.\n",
        "- **False Positive (FP)**: if predicted value is *Positive* and actual one is *Negative*.\n",
        "- **False Negative (FN)**: if predicted value is *Negative* and actual one is *Positive*.\n",
        "- **True Negative (NP)**: if both predicted and actual values are *Negative*.\n",
        "\n"
      ]
    },
    {
      "cell_type": "markdown",
      "metadata": {
        "id": "wSiDusMqx_Nx"
      },
      "source": [
        "![Confussion matrix](https://raw.githubusercontent.com/ion-bueno/bert-from-inside/main/images/conf_matrix.png)\n",
        "\n",
        "> Confusion matrix. Predicted vs. real values."
      ]
    },
    {
      "cell_type": "markdown",
      "metadata": {
        "id": "GOQkdtq70lGH"
      },
      "source": [
        "One method to measure the performance of the model is the **accuracy**. This is defined as the coefficient between the number of correct predictions and the total number of predictions. Then, with previous classification possibilities defined we have:\n",
        "\n",
        "\\begin{equation}\n",
        "    \\text{Accuracy} = \\frac{\\text{Number of correct predictions}}{\\text{Total number of predictions}} = \\frac{TP \\ + \\ TN}{TP \\ + \\ TN \\ + \\ FP \\ + \\ FN}\n",
        "\\end{equation}"
      ]
    },
    {
      "cell_type": "markdown",
      "metadata": {
        "id": "za8pBoDYzw5B"
      },
      "source": [
        "In addition to the accuracy, we use the [cross-entropy loss](https://machinelearningmastery.com/cross-entropy-for-machine-learning/). Each sample has a known class label with a probability of 1.0, and 0.0 for the other label. The model can estimate the probability of an example belonging to each class label. Cross-entropy can then be used to calculate the difference between the two probability distributions."
      ]
    },
    {
      "cell_type": "code",
      "metadata": {
        "id": "mo_Ew7bvz74W"
      },
      "source": [
        "loss_fn = nn.CrossEntropyLoss()"
      ],
      "execution_count": null,
      "outputs": []
    },
    {
      "cell_type": "markdown",
      "metadata": {
        "id": "zb7K4dyOestG"
      },
      "source": [
        "To train the model, as in other architectures, we are going to iterate through batches. At the end of each epoch the model is evaluated respect the validation dataset. We use a [fixed seed](https://machinelearningmastery.com/reproducible-results-neural-networks-keras/) for the random number generator to ensure the same result in two consecutive executions with same parameters."
      ]
    },
    {
      "cell_type": "code",
      "metadata": {
        "id": "jBwRZLp97bTB"
      },
      "source": [
        "class BertTrainer():\n",
        "\n",
        "    def __init__(self, params):\n",
        "        self.epochs = params['epochs']\n",
        "        self.train_dataloader, self.val_dataloader = generate_data_loaders(params['batch_size'])\n",
        "        self.training_stats = []\n",
        "        self.model, self.optimizer, self.scheduler = init_model(self.train_dataloader,\n",
        "                                                                params['in_classifier'], params['dropout'],\n",
        "                                                                params['learning_rate'], params['epsilon'],\n",
        "                                                                self.epochs)\n",
        "        \n",
        "    def set_seed(self, seed_value=42):\n",
        "        \"\"\"Set seed for reproducibility.\n",
        "        \"\"\"\n",
        "        random.seed(seed_value)\n",
        "        np.random.seed(seed_value)\n",
        "        torch.manual_seed(seed_value)\n",
        "        torch.cuda.manual_seed_all(seed_value)\n",
        "\n",
        "    def train(self, evaluation=True):\n",
        "        self.set_seed(42)\n",
        "        info_device()\n",
        "        for epoch_i in range(self.epochs):\n",
        "\n",
        "            # =======================================\n",
        "            #               Training\n",
        "            # =======================================\n",
        "            print(f'======== Epoch {epoch_i+1} / {epochs} ========\\n')\n",
        "\n",
        "            # Print the header of the result table\n",
        "            print(f'Training: {len(self.train_dataloader)} batches\\n')\n",
        "            print(f\"{'Batch':^7} | {'Train Loss':^12} | {'Elapsed':^9}\")\n",
        "            print(\"-\"*35)\n",
        "\n",
        "            # Measure the elapsed time of each epoch\n",
        "            training_time = 0\n",
        "            t0_batch = time.time()\n",
        "\n",
        "            # Reset tracking variables at the beginning of each epoch\n",
        "            total_loss, batch_loss, batch_counts = 0, 0, 0\n",
        "\n",
        "            # Put the model into the training mode\n",
        "            self.model.train()\n",
        "\n",
        "            # For each batch of training data...\n",
        "            for step, batch in enumerate(self.train_dataloader):\n",
        "\n",
        "                batch_counts +=1\n",
        "                # Load batch to device\n",
        "                b_input_ids, b_attn_mask, b_labels = tuple(t.to(device) for t in batch)\n",
        "\n",
        "                # Zero out any previously calculated gradients\n",
        "                self.model.zero_grad()\n",
        "\n",
        "                # Perform a forward pass. This will return logits.\n",
        "                logits = self.model(b_input_ids, b_attn_mask)\n",
        "\n",
        "                # Compute loss and accumulate the loss values\n",
        "                loss = loss_fn(logits, b_labels)\n",
        "                batch_loss += loss.item()\n",
        "                total_loss += loss.item()\n",
        "\n",
        "                # Perform a backward pass to calculate gradients\n",
        "                loss.backward()\n",
        "\n",
        "                # Clip the norm of the gradients to 1.0 to prevent \"exploding gradients\"\n",
        "                torch.nn.utils.clip_grad_norm_(self.model.parameters(), 1.0)\n",
        "\n",
        "                # Update parameters and the learning rate\n",
        "                self.optimizer.step()\n",
        "                self.scheduler.step()\n",
        "\n",
        "                # Print the loss values and time elapsed for every 20 batches\n",
        "                if (step % 20 == 0 and step != 0) or (step == len(self.train_dataloader) - 1):\n",
        "                    # Calculate time elapsed for 20 batches\n",
        "                    time_elapsed = time.time() - t0_batch\n",
        "                    training_time += time_elapsed\n",
        "                    time_elapsed = format_time(time_elapsed)\n",
        "\n",
        "                    # Print training results\n",
        "                    print(f\"{step:^7} | {batch_loss / batch_counts:^12.6f} | {time_elapsed:^9}\")\n",
        "\n",
        "                    # Reset batch tracking variables\n",
        "                    batch_loss, batch_counts = 0, 0\n",
        "                    t0_batch = time.time()\n",
        "\n",
        "            # Calculate the average loss over the entire training data\n",
        "            avg_train_loss = total_loss / len(self.train_dataloader)\n",
        "            # Format training_time\n",
        "            training_time = format_time(training_time)\n",
        "\n",
        "            print(\"-\"*35)\n",
        "            print(f\"{'-':^7} | {avg_train_loss:^12.6f} | {training_time:^9}\")\n",
        "            print(\"-\"*35)\n",
        "            print(\"\\n\")\n",
        "\n",
        "            # =======================================\n",
        "            #               Evaluation\n",
        "            # =======================================\n",
        "\n",
        "            if evaluation:\n",
        "                # After the completion of each training epoch, measure the model's performance\n",
        "                # on our validation set.\n",
        "                val_loss, val_accuracy, validation_time = self.evaluate()\n",
        "\n",
        "            print(\"\\n\")\n",
        "\n",
        "            # Record all statistics from this epoch.\n",
        "            self.training_stats.append(\n",
        "                {\n",
        "                    'epoch': epoch_i + 1,\n",
        "                    'Training Loss': avg_train_loss,\n",
        "                    'Validation Loss': val_loss,\n",
        "                    'Accuracy': val_accuracy,\n",
        "                    'Training Time': training_time,\n",
        "                    'Validation Time': validation_time\n",
        "                }\n",
        "            )\n",
        "\n",
        "        # Finished all epochs\n",
        "        print(\"Training completed!\")\n",
        "\n",
        "\n",
        "    def evaluate(self):\n",
        "        \"\"\"After the completion of each training epoch, measure the model's performance\n",
        "        on our validation set.\n",
        "        \"\"\"\n",
        "        # Put the model into the evaluation mode. The dropout layers are disabled during\n",
        "        # the test time.\n",
        "        self.model.eval()\n",
        "\n",
        "        # Set time\n",
        "        t0_val = time.time()\n",
        "\n",
        "        # Tracking variables\n",
        "        val_accuracy = []\n",
        "        val_loss = []\n",
        "\n",
        "        # For each batch in our validation set...\n",
        "        for batch in self.val_dataloader:\n",
        "            # Load batch to device\n",
        "            b_input_ids, b_attn_mask, b_labels = tuple(t.to(device) for t in batch)\n",
        "\n",
        "            # Compute logits\n",
        "            with torch.no_grad(): \n",
        "                logits = self.model(b_input_ids, b_attn_mask)\n",
        "\n",
        "            # Compute loss\n",
        "            loss = loss_fn(logits, b_labels)\n",
        "            val_loss.append(loss.item())\n",
        "\n",
        "            # Get the predictions\n",
        "            preds = torch.argmax(logits, dim=1).flatten()\n",
        "\n",
        "            # Calculate the accuracy rate\n",
        "            accuracy = (preds == b_labels).cpu().numpy().mean()\n",
        "            val_accuracy.append(accuracy)\n",
        "\n",
        "        # Compute the average accuracy and loss over the validation set.\n",
        "        val_loss = np.mean(val_loss)\n",
        "        val_accuracy = np.mean(val_accuracy)\n",
        "\n",
        "        # Compute elapsed time\n",
        "        time_elapsed = format_time(time.time() - t0_val)\n",
        "\n",
        "        print('Evaluation\\n')\n",
        "        print(f\"{'Val Loss':^10} | {'Accuracy':^10} | {'Elapsed':^9}\")\n",
        "        print(\"-\"*35)\n",
        "        print(f\"{val_loss:^10.6f} | {val_accuracy:^10.6f} | {time_elapsed:^9}\")\n",
        "        print(\"-\"*35)\n",
        "\n",
        "        return val_loss, val_accuracy, time_elapsed"
      ],
      "execution_count": null,
      "outputs": []
    },
    {
      "cell_type": "markdown",
      "metadata": {
        "id": "Owa1c6DDge93"
      },
      "source": [
        "Once we have declared the `BertTrainer` class, it is only necessary to specify the parameters to train the model. The authors recommend following hyper-parameters:\n",
        "\n",
        "- Batch size: 16 or 32\n",
        "- Learning rate for AdamW optimizer: 5e-5, 3e-5 or 2e-5\n",
        "- Number of epochs: 2, 3, 4"
      ]
    },
    {
      "cell_type": "code",
      "metadata": {
        "id": "yX0SIOS7AtWH"
      },
      "source": [
        "#@title 5.5.1 - Hyperparameters Selection\n",
        "in_classifier = 50 #@param {type:\"integer\"}\n",
        "dropout_classifier = 0.1 #@param {type:\"number\"}\n",
        "batch_size =  32#@param {type:\"integer\"}\n",
        "learning_rate = 5e-5 #@param {type:\"number\"}\n",
        "epochs =  3#@param {type:\"integer\"}\n",
        "epsilon = 1e-8 #@param {type:\"number\"}\n",
        "\n",
        "args = {\n",
        "    'batch_size': batch_size,\n",
        "    'in_classifier': in_classifier,\n",
        "    'dropout': dropout_classifier,\n",
        "    'learning_rate': learning_rate,\n",
        "    'epsilon': epsilon,\n",
        "    'epochs': epochs,\n",
        "}"
      ],
      "execution_count": null,
      "outputs": []
    },
    {
      "cell_type": "markdown",
      "metadata": {
        "id": "4vkGIBQ9jIrY"
      },
      "source": [
        "And now we only need to train the model."
      ]
    },
    {
      "cell_type": "code",
      "metadata": {
        "colab": {
          "base_uri": "https://localhost:8080/"
        },
        "id": "THVUZrz-jIKy",
        "outputId": "442f2c04-44b5-4585-e539-5f20eaeb6547"
      },
      "source": [
        "trainer = BertTrainer(args)\n",
        "bert_classifier = trainer.model\n",
        "trainer.train()"
      ],
      "execution_count": null,
      "outputs": [
        {
          "output_type": "stream",
          "text": [
            "Some weights of the model checkpoint at bert-base-uncased were not used when initializing BertModel: ['cls.predictions.bias', 'cls.predictions.transform.dense.bias', 'cls.seq_relationship.bias', 'cls.predictions.transform.LayerNorm.bias', 'cls.predictions.transform.LayerNorm.weight', 'cls.predictions.transform.dense.weight', 'cls.seq_relationship.weight', 'cls.predictions.decoder.weight']\n",
            "- This IS expected if you are initializing BertModel from the checkpoint of a model trained on another task or with another architecture (e.g. initializing a BertForSequenceClassification model from a BertForPreTraining model).\n",
            "- This IS NOT expected if you are initializing BertModel from the checkpoint of a model that you expect to be exactly identical (initializing a BertForSequenceClassification model from a BertForSequenceClassification model).\n"
          ],
          "name": "stderr"
        },
        {
          "output_type": "stream",
          "text": [
            "\n",
            "Using GPU Tesla P100-PCIE-16GB. \n",
            "\n",
            "======== Epoch 1 / 3 ========\n",
            "\n",
            "Training: 1411 batches\n",
            "\n",
            " Batch  |  Train Loss  |  Elapsed \n",
            "-----------------------------------\n",
            "  20    |   0.594877   |  0:00:05 \n",
            "  40    |   0.403328   |  0:00:04 \n",
            "  60    |   0.372488   |  0:00:04 \n",
            "  80    |   0.300714   |  0:00:04 \n",
            "  100   |   0.271782   |  0:00:04 \n",
            "  120   |   0.288423   |  0:00:04 \n",
            "  140   |   0.294095   |  0:00:04 \n",
            "  160   |   0.276833   |  0:00:04 \n",
            "  180   |   0.245413   |  0:00:04 \n",
            "  200   |   0.297411   |  0:00:04 \n",
            "  220   |   0.268379   |  0:00:04 \n",
            "  240   |   0.228694   |  0:00:04 \n",
            "  260   |   0.250261   |  0:00:04 \n",
            "  280   |   0.266757   |  0:00:04 \n",
            "  300   |   0.260484   |  0:00:04 \n",
            "  320   |   0.235156   |  0:00:04 \n",
            "  340   |   0.268404   |  0:00:04 \n",
            "  360   |   0.257511   |  0:00:04 \n",
            "  380   |   0.262482   |  0:00:04 \n",
            "  400   |   0.260302   |  0:00:04 \n",
            "  420   |   0.260245   |  0:00:04 \n",
            "  440   |   0.306050   |  0:00:04 \n",
            "  460   |   0.266214   |  0:00:04 \n",
            "  480   |   0.232383   |  0:00:04 \n",
            "  500   |   0.254883   |  0:00:04 \n",
            "  520   |   0.213762   |  0:00:04 \n",
            "  540   |   0.194550   |  0:00:04 \n",
            "  560   |   0.261667   |  0:00:04 \n",
            "  580   |   0.212399   |  0:00:04 \n",
            "  600   |   0.219349   |  0:00:04 \n",
            "  620   |   0.223114   |  0:00:04 \n",
            "  640   |   0.242093   |  0:00:04 \n",
            "  660   |   0.208020   |  0:00:04 \n",
            "  680   |   0.216071   |  0:00:04 \n",
            "  700   |   0.184852   |  0:00:04 \n",
            "  720   |   0.242806   |  0:00:04 \n",
            "  740   |   0.213228   |  0:00:04 \n",
            "  760   |   0.210928   |  0:00:04 \n",
            "  780   |   0.193333   |  0:00:04 \n",
            "  800   |   0.188394   |  0:00:04 \n",
            "  820   |   0.195721   |  0:00:04 \n",
            "  840   |   0.202991   |  0:00:04 \n",
            "  860   |   0.183897   |  0:00:04 \n",
            "  880   |   0.187544   |  0:00:04 \n",
            "  900   |   0.198881   |  0:00:04 \n",
            "  920   |   0.171337   |  0:00:04 \n",
            "  940   |   0.196235   |  0:00:04 \n",
            "  960   |   0.191563   |  0:00:04 \n",
            "  980   |   0.216839   |  0:00:04 \n",
            " 1000   |   0.220146   |  0:00:04 \n",
            " 1020   |   0.192785   |  0:00:04 \n",
            " 1040   |   0.194340   |  0:00:04 \n",
            " 1060   |   0.238898   |  0:00:04 \n",
            " 1080   |   0.177734   |  0:00:04 \n",
            " 1100   |   0.156712   |  0:00:04 \n",
            " 1120   |   0.166886   |  0:00:04 \n",
            " 1140   |   0.191542   |  0:00:04 \n",
            " 1160   |   0.202513   |  0:00:04 \n",
            " 1180   |   0.201319   |  0:00:04 \n",
            " 1200   |   0.182120   |  0:00:04 \n",
            " 1220   |   0.174201   |  0:00:04 \n",
            " 1240   |   0.179056   |  0:00:04 \n",
            " 1260   |   0.172330   |  0:00:04 \n",
            " 1280   |   0.176040   |  0:00:04 \n",
            " 1300   |   0.174482   |  0:00:04 \n",
            " 1320   |   0.189948   |  0:00:04 \n",
            " 1340   |   0.136250   |  0:00:04 \n",
            " 1360   |   0.184669   |  0:00:04 \n",
            " 1380   |   0.185888   |  0:00:04 \n",
            " 1400   |   0.191364   |  0:00:04 \n",
            " 1410   |   0.154066   |  0:00:02 \n",
            "-----------------------------------\n",
            "   -    |   0.229471   |  0:05:14 \n",
            "-----------------------------------\n",
            "\n",
            "\n",
            "Evaluation\n",
            "\n",
            " Val Loss  |  Accuracy  |  Elapsed \n",
            "-----------------------------------\n",
            " 0.198681  |  0.921875  |  0:00:02 \n",
            "-----------------------------------\n",
            "\n",
            "\n",
            "======== Epoch 2 / 3 ========\n",
            "\n",
            "Training: 1411 batches\n",
            "\n",
            " Batch  |  Train Loss  |  Elapsed \n",
            "-----------------------------------\n",
            "  20    |   0.095619   |  0:00:05 \n",
            "  40    |   0.056857   |  0:00:04 \n",
            "  60    |   0.138405   |  0:00:04 \n",
            "  80    |   0.137155   |  0:00:04 \n",
            "  100   |   0.117811   |  0:00:04 \n",
            "  120   |   0.114282   |  0:00:04 \n",
            "  140   |   0.135754   |  0:00:04 \n",
            "  160   |   0.108871   |  0:00:04 \n",
            "  180   |   0.129877   |  0:00:04 \n",
            "  200   |   0.094528   |  0:00:04 \n",
            "  220   |   0.080868   |  0:00:04 \n",
            "  240   |   0.085807   |  0:00:04 \n",
            "  260   |   0.102981   |  0:00:04 \n",
            "  280   |   0.112261   |  0:00:04 \n",
            "  300   |   0.108653   |  0:00:04 \n",
            "  320   |   0.139558   |  0:00:04 \n",
            "  340   |   0.076917   |  0:00:04 \n",
            "  360   |   0.119643   |  0:00:04 \n",
            "  380   |   0.136395   |  0:00:04 \n",
            "  400   |   0.144276   |  0:00:04 \n",
            "  420   |   0.086453   |  0:00:04 \n",
            "  440   |   0.090190   |  0:00:04 \n",
            "  460   |   0.125222   |  0:00:04 \n",
            "  480   |   0.121619   |  0:00:04 \n",
            "  500   |   0.132149   |  0:00:04 \n",
            "  520   |   0.131476   |  0:00:04 \n",
            "  540   |   0.109485   |  0:00:04 \n",
            "  560   |   0.082315   |  0:00:04 \n",
            "  580   |   0.151981   |  0:00:04 \n",
            "  600   |   0.120436   |  0:00:04 \n",
            "  620   |   0.095242   |  0:00:04 \n",
            "  640   |   0.088653   |  0:00:04 \n",
            "  660   |   0.101809   |  0:00:04 \n",
            "  680   |   0.139515   |  0:00:04 \n",
            "  700   |   0.110699   |  0:00:04 \n",
            "  720   |   0.129305   |  0:00:04 \n",
            "  740   |   0.094139   |  0:00:04 \n",
            "  760   |   0.103645   |  0:00:04 \n",
            "  780   |   0.081371   |  0:00:04 \n",
            "  800   |   0.115043   |  0:00:04 \n",
            "  820   |   0.061173   |  0:00:04 \n",
            "  840   |   0.118043   |  0:00:04 \n",
            "  860   |   0.077380   |  0:00:04 \n",
            "  880   |   0.132251   |  0:00:04 \n",
            "  900   |   0.130737   |  0:00:04 \n",
            "  920   |   0.088729   |  0:00:04 \n",
            "  940   |   0.112240   |  0:00:04 \n",
            "  960   |   0.105244   |  0:00:04 \n",
            "  980   |   0.105561   |  0:00:04 \n",
            " 1000   |   0.077572   |  0:00:04 \n",
            " 1020   |   0.087891   |  0:00:04 \n",
            " 1040   |   0.101912   |  0:00:04 \n",
            " 1060   |   0.126772   |  0:00:04 \n",
            " 1080   |   0.110038   |  0:00:04 \n",
            " 1100   |   0.115434   |  0:00:04 \n",
            " 1120   |   0.081633   |  0:00:04 \n",
            " 1140   |   0.098614   |  0:00:04 \n",
            " 1160   |   0.095972   |  0:00:04 \n",
            " 1180   |   0.076473   |  0:00:04 \n",
            " 1200   |   0.128595   |  0:00:04 \n",
            " 1220   |   0.105103   |  0:00:04 \n",
            " 1240   |   0.103116   |  0:00:04 \n",
            " 1260   |   0.096922   |  0:00:04 \n",
            " 1280   |   0.082862   |  0:00:04 \n",
            " 1300   |   0.082383   |  0:00:04 \n",
            " 1320   |   0.117683   |  0:00:04 \n",
            " 1340   |   0.155244   |  0:00:04 \n",
            " 1360   |   0.115328   |  0:00:04 \n",
            " 1380   |   0.055669   |  0:00:04 \n",
            " 1400   |   0.115340   |  0:00:04 \n",
            " 1410   |   0.069533   |  0:00:02 \n",
            "-----------------------------------\n",
            "   -    |   0.106998   |  0:05:13 \n",
            "-----------------------------------\n",
            "\n",
            "\n",
            "Evaluation\n",
            "\n",
            " Val Loss  |  Accuracy  |  Elapsed \n",
            "-----------------------------------\n",
            " 0.316442  |  0.916773  |  0:00:02 \n",
            "-----------------------------------\n",
            "\n",
            "\n",
            "======== Epoch 3 / 3 ========\n",
            "\n",
            "Training: 1411 batches\n",
            "\n",
            " Batch  |  Train Loss  |  Elapsed \n",
            "-----------------------------------\n",
            "  20    |   0.070164   |  0:00:05 \n",
            "  40    |   0.052032   |  0:00:04 \n",
            "  60    |   0.071900   |  0:00:04 \n",
            "  80    |   0.040711   |  0:00:04 \n",
            "  100   |   0.027677   |  0:00:04 \n",
            "  120   |   0.047961   |  0:00:04 \n",
            "  140   |   0.109828   |  0:00:04 \n",
            "  160   |   0.035246   |  0:00:04 \n",
            "  180   |   0.080793   |  0:00:04 \n",
            "  200   |   0.080250   |  0:00:04 \n",
            "  220   |   0.058560   |  0:00:04 \n",
            "  240   |   0.057623   |  0:00:04 \n",
            "  260   |   0.056009   |  0:00:04 \n",
            "  280   |   0.059698   |  0:00:04 \n",
            "  300   |   0.050147   |  0:00:04 \n",
            "  320   |   0.067714   |  0:00:04 \n",
            "  340   |   0.076660   |  0:00:04 \n",
            "  360   |   0.053613   |  0:00:04 \n",
            "  380   |   0.061405   |  0:00:04 \n",
            "  400   |   0.080451   |  0:00:04 \n",
            "  420   |   0.059583   |  0:00:04 \n",
            "  440   |   0.045141   |  0:00:04 \n",
            "  460   |   0.052592   |  0:00:04 \n",
            "  480   |   0.056022   |  0:00:04 \n",
            "  500   |   0.060556   |  0:00:04 \n",
            "  520   |   0.072512   |  0:00:04 \n",
            "  540   |   0.040129   |  0:00:04 \n",
            "  560   |   0.027290   |  0:00:04 \n",
            "  580   |   0.046979   |  0:00:04 \n",
            "  600   |   0.068145   |  0:00:04 \n",
            "  620   |   0.085336   |  0:00:04 \n",
            "  640   |   0.100750   |  0:00:04 \n",
            "  660   |   0.061067   |  0:00:04 \n",
            "  680   |   0.061293   |  0:00:04 \n",
            "  700   |   0.056629   |  0:00:04 \n",
            "  720   |   0.063599   |  0:00:04 \n",
            "  740   |   0.054522   |  0:00:04 \n",
            "  760   |   0.044392   |  0:00:04 \n",
            "  780   |   0.068211   |  0:00:04 \n",
            "  800   |   0.032039   |  0:00:04 \n",
            "  820   |   0.068314   |  0:00:04 \n",
            "  840   |   0.070409   |  0:00:04 \n",
            "  860   |   0.044320   |  0:00:04 \n",
            "  880   |   0.058187   |  0:00:04 \n",
            "  900   |   0.059834   |  0:00:04 \n",
            "  920   |   0.062197   |  0:00:04 \n",
            "  940   |   0.118746   |  0:00:04 \n",
            "  960   |   0.051381   |  0:00:04 \n",
            "  980   |   0.042083   |  0:00:04 \n",
            " 1000   |   0.060976   |  0:00:04 \n",
            " 1020   |   0.042508   |  0:00:04 \n",
            " 1040   |   0.048518   |  0:00:04 \n",
            " 1060   |   0.056130   |  0:00:04 \n",
            " 1080   |   0.054160   |  0:00:04 \n",
            " 1100   |   0.047458   |  0:00:04 \n",
            " 1120   |   0.061985   |  0:00:04 \n",
            " 1140   |   0.055338   |  0:00:04 \n",
            " 1160   |   0.059186   |  0:00:04 \n",
            " 1180   |   0.067080   |  0:00:04 \n",
            " 1200   |   0.080768   |  0:00:04 \n",
            " 1220   |   0.060998   |  0:00:04 \n",
            " 1240   |   0.057772   |  0:00:04 \n",
            " 1260   |   0.040410   |  0:00:04 \n",
            " 1280   |   0.051326   |  0:00:04 \n",
            " 1300   |   0.068485   |  0:00:04 \n",
            " 1320   |   0.044764   |  0:00:04 \n",
            " 1340   |   0.042807   |  0:00:04 \n",
            " 1360   |   0.062017   |  0:00:04 \n",
            " 1380   |   0.060097   |  0:00:04 \n",
            " 1400   |   0.073291   |  0:00:04 \n",
            " 1410   |   0.024193   |  0:00:02 \n",
            "-----------------------------------\n",
            "   -    |   0.059282   |  0:05:12 \n",
            "-----------------------------------\n",
            "\n",
            "\n",
            "Evaluation\n",
            "\n",
            " Val Loss  |  Accuracy  |  Elapsed \n",
            "-----------------------------------\n",
            " 0.263314  |  0.929688  |  0:00:02 \n",
            "-----------------------------------\n",
            "\n",
            "\n",
            "Training completed!\n"
          ],
          "name": "stdout"
        }
      ]
    },
    {
      "cell_type": "markdown",
      "metadata": {
        "id": "zZBJw6_Kufca"
      },
      "source": [
        "After training the model, we can easily print its statistics in a data frame and save it as an excel table."
      ]
    },
    {
      "cell_type": "code",
      "metadata": {
        "colab": {
          "base_uri": "https://localhost:8080/",
          "height": 173
        },
        "id": "d9cqHoFsscUh",
        "outputId": "1eef61af-579d-413b-8561-e280b9f43550"
      },
      "source": [
        "# Create a DataFrame from our training statistics.\n",
        "df_stats = pd.DataFrame(data=trainer.training_stats)\n",
        "\n",
        "# Use the 'epoch' as the row index.\n",
        "df_stats = df_stats.set_index('epoch')\n",
        "\n",
        "# Save data frame\n",
        "df_stats.to_excel(sentiment_dir/'training_stats.xlsx')\n",
        "\n",
        "df_stats"
      ],
      "execution_count": null,
      "outputs": [
        {
          "output_type": "execute_result",
          "data": {
            "text/html": [
              "<div>\n",
              "<style scoped>\n",
              "    .dataframe tbody tr th:only-of-type {\n",
              "        vertical-align: middle;\n",
              "    }\n",
              "\n",
              "    .dataframe tbody tr th {\n",
              "        vertical-align: top;\n",
              "    }\n",
              "\n",
              "    .dataframe thead th {\n",
              "        text-align: right;\n",
              "    }\n",
              "</style>\n",
              "<table border=\"1\" class=\"dataframe\">\n",
              "  <thead>\n",
              "    <tr style=\"text-align: right;\">\n",
              "      <th></th>\n",
              "      <th>Training Loss</th>\n",
              "      <th>Validation Loss</th>\n",
              "      <th>Accuracy</th>\n",
              "      <th>Training Time</th>\n",
              "      <th>Validation Time</th>\n",
              "    </tr>\n",
              "    <tr>\n",
              "      <th>epoch</th>\n",
              "      <th></th>\n",
              "      <th></th>\n",
              "      <th></th>\n",
              "      <th></th>\n",
              "      <th></th>\n",
              "    </tr>\n",
              "  </thead>\n",
              "  <tbody>\n",
              "    <tr>\n",
              "      <th>1</th>\n",
              "      <td>0.229471</td>\n",
              "      <td>0.198681</td>\n",
              "      <td>0.921875</td>\n",
              "      <td>0:05:14</td>\n",
              "      <td>0:00:02</td>\n",
              "    </tr>\n",
              "    <tr>\n",
              "      <th>2</th>\n",
              "      <td>0.106998</td>\n",
              "      <td>0.316442</td>\n",
              "      <td>0.916773</td>\n",
              "      <td>0:05:13</td>\n",
              "      <td>0:00:02</td>\n",
              "    </tr>\n",
              "    <tr>\n",
              "      <th>3</th>\n",
              "      <td>0.059282</td>\n",
              "      <td>0.263314</td>\n",
              "      <td>0.929688</td>\n",
              "      <td>0:05:12</td>\n",
              "      <td>0:00:02</td>\n",
              "    </tr>\n",
              "  </tbody>\n",
              "</table>\n",
              "</div>"
            ],
            "text/plain": [
              "       Training Loss  Validation Loss  Accuracy Training Time Validation Time\n",
              "epoch                                                                        \n",
              "1           0.229471         0.198681  0.921875       0:05:14         0:00:02\n",
              "2           0.106998         0.316442  0.916773       0:05:13         0:00:02\n",
              "3           0.059282         0.263314  0.929688       0:05:12         0:00:02"
            ]
          },
          "metadata": {
            "tags": []
          },
          "execution_count": 66
        }
      ]
    },
    {
      "cell_type": "markdown",
      "metadata": {
        "id": "0FlBfCt1vzj9"
      },
      "source": [
        "We can print how both (training and validation) losses evolve during epochs."
      ]
    },
    {
      "cell_type": "code",
      "metadata": {
        "colab": {
          "base_uri": "https://localhost:8080/",
          "height": 427
        },
        "id": "54tP7ZpO-5Ui",
        "outputId": "fd45cde2-ed74-4e22-8830-db34369a4b1f"
      },
      "source": [
        "plot_loss_curves(df_stats)"
      ],
      "execution_count": null,
      "outputs": [
        {
          "output_type": "display_data",
          "data": {
            "image/png": "[encoded data removed]",
            "text/plain": [
              "<Figure size 864x432 with 1 Axes>"
            ]
          },
          "metadata": {
            "tags": []
          }
        }
      ]
    },
    {
      "cell_type": "markdown",
      "metadata": {
        "id": "C--5u9xt5du0"
      },
      "source": [
        "While the the training loss is going down with each epoch, the validation loss is increasing. This suggests that we are training our model too long, and it is over-fitting on the training data."
      ]
    },
    {
      "cell_type": "markdown",
      "metadata": {
        "id": "MkNh9tB_-efC"
      },
      "source": [
        "### 5.5.2 - Save Model"
      ]
    },
    {
      "cell_type": "markdown",
      "metadata": {
        "id": "B7mkkuXoGVZ_"
      },
      "source": [
        "Last step is to save the fine-tuned model as well as the training arguments."
      ]
    },
    {
      "cell_type": "code",
      "metadata": {
        "id": "6gNPJgkmbYwO",
        "colab": {
          "base_uri": "https://localhost:8080/"
        },
        "outputId": "cd9ba363-3a56-4870-f5cd-c9dceb08cfa1"
      },
      "source": [
        "print('Saving model...')\n",
        "torch.save(bert_classifier.state_dict(), sentiment_dir/'pytorch_model.pth')\n",
        "\n",
        "print('Saving tokenizer data...')\n",
        "tokenizer.save_pretrained(sentiment_dir)\n",
        "\n",
        "print('Saving training arguments...')\n",
        "save_json(sentiment_dir/'training_args.json', args)\n",
        "\n",
        "print('Saving training statistics..')\n",
        "save_json(sentiment_dir/'training_stats.json', trainer.training_stats)"
      ],
      "execution_count": null,
      "outputs": [
        {
          "output_type": "stream",
          "text": [
            "Saving model...\n",
            "Saving tokenizer data...\n",
            "Saving training arguments...\n",
            "Saving training statistics..\n"
          ],
          "name": "stdout"
        }
      ]
    },
    {
      "cell_type": "markdown",
      "metadata": {
        "id": "UDi8plm1iAp6"
      },
      "source": [
        "## 5.6 - Evaluation of the Model"
      ]
    },
    {
      "cell_type": "markdown",
      "metadata": {
        "id": "F2WZqXed64Bu"
      },
      "source": [
        "Once the model is fine-tuned, it is evaluated respect the test dataset. It is needed to define the prediction function which is going to be almost equal to the previous evaluation function, but applying a **softmax** to return the probabilities per class."
      ]
    },
    {
      "cell_type": "code",
      "metadata": {
        "id": "L4beq2q02L13"
      },
      "source": [
        "def bert_predict(model, test_dataloader):\n",
        "    \"\"\"Perform a forward pass on the trained BERT model to predict probabilities\n",
        "    on the test set.\n",
        "    \"\"\"\n",
        "    # Put the model into the evaluation mode. The dropout layers are disabled during\n",
        "    # the test time.\n",
        "    model.eval()\n",
        "\n",
        "    # Predictions\n",
        "    all_logits = []\n",
        "\n",
        "    # Set time\n",
        "    t0_test = time.time()\n",
        "\n",
        "    # Tracking variables\n",
        "    test_accuracy = []\n",
        "    test_loss = []\n",
        "\n",
        "    # For each batch in our test set...\n",
        "    info_device()\n",
        "    for batch in test_dataloader:\n",
        "        # Load batch to device\n",
        "        b_input_ids, b_attn_mask, b_labels = tuple(t.to(device) for t in batch)\n",
        "\n",
        "        # Compute logits\n",
        "        with torch.no_grad():\n",
        "            logits = model(b_input_ids, b_attn_mask)\n",
        "        all_logits.append(logits)\n",
        "\n",
        "        # Compute loss\n",
        "        loss = loss_fn(logits, b_labels)\n",
        "        test_loss.append(loss.item())\n",
        "\n",
        "        # Get the predictions\n",
        "        preds = torch.argmax(logits, dim=1).flatten()\n",
        "\n",
        "        # Calculate the accuracy rate\n",
        "        accuracy = (preds == b_labels).cpu().numpy().mean()\n",
        "        test_accuracy.append(accuracy)\n",
        "    \n",
        "    # Compute the average accuracy and loss over the validation set.\n",
        "    test_loss = np.mean(test_loss)\n",
        "    test_accuracy = np.mean(test_accuracy)\n",
        "\n",
        "    # Compute elapsed time\n",
        "    time_elapsed = format_time(time.time() - t0_test)\n",
        "\n",
        "    # Calculate probabilities\n",
        "    all_logits = torch.cat(all_logits, dim=0)\n",
        "    probs = F.softmax(all_logits, dim=1).cpu().numpy()\n",
        "\n",
        "    test_stats = {\n",
        "        'Test Loss': test_loss,\n",
        "        'Accuracy': test_accuracy,\n",
        "        'Test time': time_elapsed\n",
        "    }\n",
        "\n",
        "    print(f\"{'Test Loss':^12} | {'Accuracy':^10} | {'Test time':^11}\")\n",
        "    print(\"-\"*40)\n",
        "    print(f\"{test_loss:^12.6f} | {test_accuracy:^10.6f} | {time_elapsed:^11}\")\n",
        "    print(\"-\"*40)\n",
        "  \n",
        "    return probs, test_stats"
      ],
      "execution_count": null,
      "outputs": []
    },
    {
      "cell_type": "markdown",
      "metadata": {
        "id": "UgDYuFTztwfN"
      },
      "source": [
        "From `BertTrainer` we get the `model` and the `test_dataloader`. Using last function, we get the corresponding probabilities for each class."
      ]
    },
    {
      "cell_type": "code",
      "metadata": {
        "colab": {
          "base_uri": "https://localhost:8080/"
        },
        "id": "Jy4fJdpU2ep1",
        "outputId": "bbd3bbbe-b006-415d-8efa-d3fafc7a0f1d"
      },
      "source": [
        "# Compute probabilities in test set\n",
        "probs, test_stats= bert_predict(bert_classifier, generate_data_loaders(32, test=True))\n",
        "\n",
        "# Compute predictions\n",
        "preds = np.argmax(probs, axis=1)\n",
        "\n",
        "# Test labels\n",
        "test_df = datasets['test']\n",
        "y_true = test_df.label"
      ],
      "execution_count": null,
      "outputs": [
        {
          "output_type": "stream",
          "text": [
            "\n",
            "Using GPU Tesla P100-PCIE-16GB. \n",
            "\n",
            " Test Loss   |  Accuracy  |  Test time \n",
            "----------------------------------------\n",
            "  0.226938   |  0.947077  |   0:00:46  \n",
            "----------------------------------------\n"
          ],
          "name": "stdout"
        }
      ]
    },
    {
      "cell_type": "code",
      "metadata": {
        "colab": {
          "base_uri": "https://localhost:8080/"
        },
        "id": "14_4pt8LdERy",
        "outputId": "ad6f676d-92b0-4dc9-81fd-de6438b0ae79"
      },
      "source": [
        "print('Saving test statistics..')\n",
        "save_json(sentiment_dir/'test_stats.json', test_stats)"
      ],
      "execution_count": null,
      "outputs": [
        {
          "output_type": "stream",
          "text": [
            "Saving test statistics..\n"
          ],
          "name": "stdout"
        }
      ]
    },
    {
      "cell_type": "markdown",
      "metadata": {
        "id": "AsP8WSWyaoW9"
      },
      "source": [
        "To get a fast intuition on the result, we can plot some predicted sentences. Remember that the label 1 corresponds with positive sentiment while label 0 with negative."
      ]
    },
    {
      "cell_type": "code",
      "metadata": {
        "colab": {
          "base_uri": "https://localhost:8080/",
          "height": 204
        },
        "id": "Jfc4r_BWMoGm",
        "outputId": "b2e06b6f-0853-47b5-ac17-76721ce78de8"
      },
      "source": [
        "num_examples = 5 #@param {type:\"slider\", min:1, max:10, step:1}\n",
        "df = test_df.sample(num_examples)\n",
        "df['real'] = np.where(df.label==0, 'negative', 'positive')\n",
        "df['predicted'] = np.where(preds[df.index]==0, 'negative', 'positive')\n",
        "df['probability'] = np.amax(probs, axis=1)[df.index]\n",
        "pd.set_option(\"max_colwidth\", 150)\n",
        "df"
      ],
      "execution_count": null,
      "outputs": [
        {
          "output_type": "execute_result",
          "data": {
            "text/html": [
              "<div>\n",
              "<style scoped>\n",
              "    .dataframe tbody tr th:only-of-type {\n",
              "        vertical-align: middle;\n",
              "    }\n",
              "\n",
              "    .dataframe tbody tr th {\n",
              "        vertical-align: top;\n",
              "    }\n",
              "\n",
              "    .dataframe thead th {\n",
              "        text-align: right;\n",
              "    }\n",
              "</style>\n",
              "<table border=\"1\" class=\"dataframe\">\n",
              "  <thead>\n",
              "    <tr style=\"text-align: right;\">\n",
              "      <th></th>\n",
              "      <th>sentence</th>\n",
              "      <th>label</th>\n",
              "      <th>real</th>\n",
              "      <th>predicted</th>\n",
              "      <th>probability</th>\n",
              "    </tr>\n",
              "  </thead>\n",
              "  <tbody>\n",
              "    <tr>\n",
              "      <th>1891</th>\n",
              "      <td>of things that elevate `` glory '' above most of its ilk , most notably the mere presence of duvall</td>\n",
              "      <td>1</td>\n",
              "      <td>positive</td>\n",
              "      <td>positive</td>\n",
              "      <td>0.999101</td>\n",
              "    </tr>\n",
              "    <tr>\n",
              "      <th>20706</th>\n",
              "      <td>muddled and derivative that few will bother thinking it all through</td>\n",
              "      <td>0</td>\n",
              "      <td>negative</td>\n",
              "      <td>negative</td>\n",
              "      <td>0.997816</td>\n",
              "    </tr>\n",
              "    <tr>\n",
              "      <th>14030</th>\n",
              "      <td>its empty head</td>\n",
              "      <td>0</td>\n",
              "      <td>negative</td>\n",
              "      <td>negative</td>\n",
              "      <td>0.997687</td>\n",
              "    </tr>\n",
              "    <tr>\n",
              "      <th>15419</th>\n",
              "      <td>betters it</td>\n",
              "      <td>1</td>\n",
              "      <td>positive</td>\n",
              "      <td>positive</td>\n",
              "      <td>0.986578</td>\n",
              "    </tr>\n",
              "    <tr>\n",
              "      <th>17873</th>\n",
              "      <td>after collateral damage , you might imagine that most every aggrieved father cliché has been unturned .</td>\n",
              "      <td>0</td>\n",
              "      <td>negative</td>\n",
              "      <td>negative</td>\n",
              "      <td>0.996029</td>\n",
              "    </tr>\n",
              "  </tbody>\n",
              "</table>\n",
              "</div>"
            ],
            "text/plain": [
              "                                                                                                       sentence  ...  probability\n",
              "1891       of things that elevate `` glory '' above most of its ilk , most notably the mere presence of duvall   ...     0.999101\n",
              "20706                                      muddled and derivative that few will bother thinking it all through   ...     0.997816\n",
              "14030                                                                                           its empty head   ...     0.997687\n",
              "15419                                                                                               betters it   ...     0.986578\n",
              "17873  after collateral damage , you might imagine that most every aggrieved father cliché has been unturned .   ...     0.996029\n",
              "\n",
              "[5 rows x 5 columns]"
            ]
          },
          "metadata": {
            "tags": []
          },
          "execution_count": 72
        }
      ]
    },
    {
      "cell_type": "markdown",
      "metadata": {
        "id": "i3HkKh0_YJoK"
      },
      "source": [
        "### 5.6.1 - Variable Threshold"
      ]
    },
    {
      "cell_type": "markdown",
      "metadata": {
        "id": "YsSlCGCAajmD"
      },
      "source": [
        "Sentiment classification task is even difficult for human. Therefore, define a threshold is going to provide a safer margin to classify one class. \n",
        "\n",
        "For example, if we define that positive sentiment sample are the only ones where probability of being *positive* is bigger than 0.9, samples classified as positive are going to have surely positive sentiment. The main drawback here is all samples wich are positive and are classified as negative."
      ]
    },
    {
      "cell_type": "markdown",
      "metadata": {
        "id": "8yvLZpyAYp1A"
      },
      "source": [
        "To get a better intuiton about the performance, we can plot the confusion matrix."
      ]
    },
    {
      "cell_type": "code",
      "metadata": {
        "id": "O8-eUICKC5ks"
      },
      "source": [
        "from sklearn.metrics import confusion_matrix\n",
        "import itertools\n",
        "\n",
        "def plot_confusion_matrix(cm, classes, normalize=False):\n",
        "    if normalize:\n",
        "        cm = cm.astype('float') / cm.sum(axis=1)[:, np.newaxis]\n",
        "        title = \"Normalized confusion matrix\"\n",
        "    else:\n",
        "        title = 'Confusion matrix, without normalization'\n",
        "\n",
        "    plt.imshow(cm, interpolation='nearest', cmap=plt.cm.Blues)\n",
        "    plt.title(title)\n",
        "    plt.colorbar()\n",
        "    tick_marks = np.arange(len(classes))\n",
        "    plt.xticks(tick_marks, classes)\n",
        "    plt.yticks(tick_marks, classes)\n",
        "\n",
        "    fmt = '.2f' if normalize else 'd'\n",
        "    thresh = cm.min() + ((cm.max() - cm.min()) / 2)\n",
        "    for i, j in itertools.product(range(cm.shape[0]), range(cm.shape[1])):\n",
        "        plt.text(j, i, format(cm[i, j], fmt), horizontalalignment=\"center\", color=\"white\" if cm[i, j] > thresh else \"black\")\n",
        "\n",
        "    plt.tight_layout()\n",
        "    plt.grid(False)\n",
        "    plt.ylabel('True label')\n",
        "    plt.xlabel('Predicted label')"
      ],
      "execution_count": null,
      "outputs": []
    },
    {
      "cell_type": "code",
      "metadata": {
        "colab": {
          "base_uri": "https://localhost:8080/",
          "height": 446
        },
        "id": "saeayM_oD1ng",
        "outputId": "26a23927-e18e-4fb2-dfa9-a441254175ec"
      },
      "source": [
        "plot_confusion_matrix(confusion_matrix(preds, y_true), ('positive', 'negative'))"
      ],
      "execution_count": null,
      "outputs": [
        {
          "output_type": "display_data",
          "data": {
            "image/png": "[encoded data removed]",
            "text/plain": [
              "<Figure size 864x432 with 2 Axes>"
            ]
          },
          "metadata": {
            "tags": []
          }
        }
      ]
    },
    {
      "cell_type": "markdown",
      "metadata": {
        "id": "bFXyQR063Z4M"
      },
      "source": [
        "A useful tool to determine an optimal threshold  is the **Receiver Operating Characteristic curve (ROC)**. It is a plot of the false positive rate (x-axis) versus the true positive rate (y-axis) for a number of different candidate threshold values between 0.0 and 1.0.\n",
        "\n",
        "The **true positive rate** is calculated as the number of true positives divided by the sum of the number of true positives and the number of false negatives. It is also called **hit rate** and describes how good the model is at predicting the positive class when the actual outcome is positive. It is also known as **sensitivity** or **recall**.\n",
        "\n",
        "\\begin{equation}\n",
        "    TPR = \\frac{TP}{TP \\ + \\ FN}\n",
        "\\end{equation}\n",
        "\n",
        "The **false positive rate** is calculated as the number of false positives divided by the sum of the number of false positives and the number of true negatives. It is also called the **false alarm rate** as it summarizes how often a positive class is predicted when the actual outcome is negative.\n",
        "\n",
        "\\begin{equation}\n",
        "    FPR = \\frac{FP}{FP \\ + \\ TN}\n",
        "\\end{equation}\n",
        "\n",
        "The complement of the FPR is the **specificity** and it is calculated as:\n",
        "\n",
        "\\begin{equation}\n",
        "  \\text{Specificity} = 1 - FPR\n",
        "\\end{equation}\n",
        "\n",
        "The Geometric Mean or G-Mean is a metric for imbalanced classification that, if optimized, will seek a balance between the sensitivity and the specificity.\n",
        "\n",
        "\\begin{equation}\n",
        "    \\text{G-Mean} = \\sqrt{\\text{Sensitivity} \\cdot \\text{Specificity}}\n",
        "\\end{equation}\n",
        "\n",
        "One approach to determine the optimized threshold would be to test the model with each threshold and select the one with the largest G-Mean value."
      ]
    },
    {
      "cell_type": "code",
      "metadata": {
        "id": "VdRopsSbtvBh"
      },
      "source": [
        "from sklearn.metrics import roc_curve, auc\n",
        "\n",
        "def evaluate_roc(probs, y_true):\n",
        "    fpr, tpr, thresholds = roc_curve(y_true, probs[:, 1])\n",
        "    roc_auc = auc(fpr, tpr)\n",
        "\n",
        "    # calculate the g-mean for each threshold\n",
        "    gmeans = np.sqrt(tpr * (1-fpr))\n",
        "    # locate the index of the largest g-mean\n",
        "    ix = np.argmax(gmeans)\n",
        "    \n",
        "    # title\n",
        "    plt.title(f'Receiver Operating Characteristic\\nAUC = {roc_auc:.2f}, Best G-Mean = {gmeans[ix]:.2f}')\n",
        "    # plot ROC curve\n",
        "    plt.plot([0, 1], [0, 1],'--', label='No skill')\n",
        "    plt.plot(fpr, tpr, marker='.', label='Bert Classifier')\n",
        "    plt.plot(fpr[ix], tpr[ix], marker='o', color='black', label=f'Best threshold = {thresholds[ix]:.2f}')\n",
        "    # show legend\n",
        "    plt.legend(loc = 'lower right')\n",
        "    # axis labels\n",
        "    plt.ylabel('True Positive Rate')\n",
        "    plt.xlabel('False Positive Rate')\n",
        "    # show plot\n",
        "    plt.show()\n",
        "    return tpr, fpr, thresholds"
      ],
      "execution_count": null,
      "outputs": []
    },
    {
      "cell_type": "code",
      "metadata": {
        "colab": {
          "base_uri": "https://localhost:8080/",
          "height": 447
        },
        "id": "ojBpEORfuTfI",
        "outputId": "1798b133-b621-497e-f4f4-7623642b42a2"
      },
      "source": [
        "tpr, fpr, thresholds = evaluate_roc(probs, y_true)"
      ],
      "execution_count": null,
      "outputs": [
        {
          "output_type": "display_data",
          "data": {
            "image/png": "[encoded data removed]",
            "text/plain": [
              "<Figure size 864x432 with 1 Axes>"
            ]
          },
          "metadata": {
            "tags": []
          }
        }
      ]
    },
    {
      "cell_type": "markdown",
      "metadata": {
        "id": "fXWo7a4bZpKs"
      },
      "source": [
        "An excellent model has AUC near to 1 which means it has a good measure of separability. A poor model has AUC near to 0 which means it has the worst measure of separability. In fact, it means it is reciprocating the result, predicting 0s as 1s and 1s as 0s. And when AUC is 0.5, it means the model has no class separation capacity whatsoever."
      ]
    },
    {
      "cell_type": "markdown",
      "metadata": {
        "id": "SDdnlu47DubS"
      },
      "source": [
        "To confirm the result we can check it with the [Youden's J statistic](https://en.wikipedia.org/wiki/Youden%27s_J_statistic) which is defined as:\n",
        "\n",
        "\\begin{equation}\n",
        "    \\begin{split}\n",
        "        &J = \\text{Sensitivity} + \\text{Specificity} - 1 = \\\\\n",
        "        &TPR + (1 - FPR) - 1 = TPR - FPR\n",
        "    \\end{split}\n",
        "\\end{equation}"
      ]
    },
    {
      "cell_type": "code",
      "metadata": {
        "colab": {
          "base_uri": "https://localhost:8080/"
        },
        "id": "ILv2twvdv7OE",
        "outputId": "991afb0f-708f-40a3-d6b3-624bb7771929"
      },
      "source": [
        "# get the best threshold\n",
        "J = tpr - fpr\n",
        "ix = np.argmax(J)\n",
        "best_thres = thresholds[ix]\n",
        "print('Best threshold = %.2f' % (best_thres))"
      ],
      "execution_count": null,
      "outputs": [
        {
          "output_type": "stream",
          "text": [
            "Best threshold = 0.76\n"
          ],
          "name": "stdout"
        }
      ]
    },
    {
      "cell_type": "markdown",
      "metadata": {
        "id": "WPu5KLWpl7B5"
      },
      "source": [
        "Another way to evaluate the skill of a prediction model is with the **Precision-Recall** curve.\n",
        "\n",
        "Precision is a ratio of the number of true positives divided by the sum of the true positives and false positives. It describes how good a model is at predicting the positive class.\n",
        "\n",
        "\\begin{equation}\n",
        "    \\text{Precision} = \\frac{TP}{TP \\ + \\ FP}\n",
        "\\end{equation}\n",
        "\n",
        "As it has been mentioned, **recall** is the same as TPR.\n",
        "\n",
        "F-Measure or **F1 score** is defined as the harmonic mean of precision (P) and recall (R).\n",
        "\n",
        "\\begin{equation}\n",
        "    F1 = \\frac{2PR}{P \\ + \\ R}\n",
        "\\end{equation}\n",
        "\n",
        "As in the ROC curve, the approach to finding the optimal threshold would be to calculate the F-measure for each threshold and select the largest one."
      ]
    },
    {
      "cell_type": "code",
      "metadata": {
        "id": "R5pEb0H4pmE4"
      },
      "source": [
        "from sklearn.metrics import precision_recall_curve\n",
        "\n",
        "def evaluate_prec_recall(probs, preds, y_true):\n",
        "    precision, recall, thresholds = precision_recall_curve(y_true, probs[:, 1])\n",
        "\n",
        "    # convert to f score\n",
        "    fscore = (2 * precision * recall) / (precision + recall)\n",
        "    # locate the index of the largest f score\n",
        "    ix = np.argmax(fscore)\n",
        "\n",
        "    # title\n",
        "    plt.title(f'Precision-Recall\\nBest F1 score = {fscore[ix]:.2f}')\n",
        "    # plot the precision-recall curves\n",
        "    no_skill = len(y_true[y_true==1]) / len(y_true)\n",
        "    plt.plot([0, 1], [no_skill, no_skill], linestyle='--', label='No skill')\n",
        "    plt.plot(recall, precision, marker='.', label='Bert Classifier')\n",
        "    plt.plot(recall[ix], precision[ix], marker='o', color='black', label=f'Best threshold = {thresholds[ix]:.2f}')\n",
        "    # show legend\n",
        "    plt.legend()\n",
        "    # axis labels\n",
        "    plt.xlabel('Recall')\n",
        "    plt.ylabel('Precision')\n",
        "    # show the plot\n",
        "    plt.show()"
      ],
      "execution_count": null,
      "outputs": []
    },
    {
      "cell_type": "code",
      "metadata": {
        "colab": {
          "base_uri": "https://localhost:8080/",
          "height": 447
        },
        "id": "AixYhUNZmycW",
        "outputId": "394d9f70-787d-4a21-a421-b21915925101"
      },
      "source": [
        "evaluate_prec_recall(probs, preds, y_true)"
      ],
      "execution_count": null,
      "outputs": [
        {
          "output_type": "display_data",
          "data": {
            "image/png": "[encoded data removed]",
            "text/plain": [
              "<Figure size 864x432 with 1 Axes>"
            ]
          },
          "metadata": {
            "tags": []
          }
        }
      ]
    },
    {
      "cell_type": "markdown",
      "metadata": {
        "id": "9bXiLFZnBvmk"
      },
      "source": [
        "A model with perfect skill is depicted as a point at (1,1). A skilful model is represented by a curve that bows towards (1,1) above the flat line of no skill. Mention thresholds do not have to match, since in each curve the optimization goal is different."
      ]
    },
    {
      "cell_type": "markdown",
      "metadata": {
        "id": "PwA726ILA6kv"
      },
      "source": [
        "ROC curves should be used when there are roughly equal numbers of observations for each class. Precision-Recall curves should be used when there is a moderate to large class imbalance. The reason for this recommendation is that ROC curves present an optimistic picture of the model on datasets with a class imbalance."
      ]
    },
    {
      "cell_type": "markdown",
      "metadata": {
        "id": "SkcwMyOGJX-M"
      },
      "source": [
        "Finally, we can predict test samples with the optimized threshold."
      ]
    },
    {
      "cell_type": "code",
      "metadata": {
        "colab": {
          "base_uri": "https://localhost:8080/",
          "height": 221
        },
        "id": "OUPJwQ5K2cS1",
        "outputId": "0c8ca5db-2bd9-43ee-abe4-e131480a73f6"
      },
      "source": [
        "# Get new predictions respect best threshold\n",
        "preds_thres = np.where(probs[:, 1] > best_thres, 1, 0)\n",
        "\n",
        "num_examples = 5 #@param {type:\"slider\", min:1, max:10, step:1}\n",
        "df = test_df.sample(num_examples)\n",
        "df['real'] = np.where(df.label==0, 'negative', 'positive')\n",
        "df['predicted'] = np.where(preds_thres[df.index]==0, 'negative', 'positive')\n",
        "df['positive probability'] = probs[df.index, 1]\n",
        "df['negative probability'] = probs[df.index, 0]\n",
        "pd.set_option(\"max_colwidth\", 150)\n",
        "print(f'Threshold: {best_thres:.2f}')\n",
        "df"
      ],
      "execution_count": null,
      "outputs": [
        {
          "output_type": "stream",
          "text": [
            "Threshold: 0.76\n"
          ],
          "name": "stdout"
        },
        {
          "output_type": "execute_result",
          "data": {
            "text/html": [
              "<div>\n",
              "<style scoped>\n",
              "    .dataframe tbody tr th:only-of-type {\n",
              "        vertical-align: middle;\n",
              "    }\n",
              "\n",
              "    .dataframe tbody tr th {\n",
              "        vertical-align: top;\n",
              "    }\n",
              "\n",
              "    .dataframe thead th {\n",
              "        text-align: right;\n",
              "    }\n",
              "</style>\n",
              "<table border=\"1\" class=\"dataframe\">\n",
              "  <thead>\n",
              "    <tr style=\"text-align: right;\">\n",
              "      <th></th>\n",
              "      <th>sentence</th>\n",
              "      <th>label</th>\n",
              "      <th>real</th>\n",
              "      <th>predicted</th>\n",
              "      <th>positive probability</th>\n",
              "      <th>negative probability</th>\n",
              "    </tr>\n",
              "  </thead>\n",
              "  <tbody>\n",
              "    <tr>\n",
              "      <th>17964</th>\n",
              "      <td>option to slap her creators because they 're clueless and inept</td>\n",
              "      <td>0</td>\n",
              "      <td>negative</td>\n",
              "      <td>negative</td>\n",
              "      <td>0.002045</td>\n",
              "      <td>0.997955</td>\n",
              "    </tr>\n",
              "    <tr>\n",
              "      <th>5055</th>\n",
              "      <td>the fetid underbelly of fame has never looked uglier .</td>\n",
              "      <td>0</td>\n",
              "      <td>negative</td>\n",
              "      <td>negative</td>\n",
              "      <td>0.010490</td>\n",
              "      <td>0.989510</td>\n",
              "    </tr>\n",
              "    <tr>\n",
              "      <th>13665</th>\n",
              "      <td>profanity and violence</td>\n",
              "      <td>0</td>\n",
              "      <td>negative</td>\n",
              "      <td>negative</td>\n",
              "      <td>0.002618</td>\n",
              "      <td>0.997382</td>\n",
              "    </tr>\n",
              "    <tr>\n",
              "      <th>7671</th>\n",
              "      <td>feel cheated</td>\n",
              "      <td>0</td>\n",
              "      <td>negative</td>\n",
              "      <td>negative</td>\n",
              "      <td>0.002861</td>\n",
              "      <td>0.997139</td>\n",
              "    </tr>\n",
              "    <tr>\n",
              "      <th>16903</th>\n",
              "      <td>familiar and predictable , and 4/5ths of it</td>\n",
              "      <td>0</td>\n",
              "      <td>negative</td>\n",
              "      <td>negative</td>\n",
              "      <td>0.001858</td>\n",
              "      <td>0.998142</td>\n",
              "    </tr>\n",
              "  </tbody>\n",
              "</table>\n",
              "</div>"
            ],
            "text/plain": [
              "                                                               sentence  ...  negative probability\n",
              "17964  option to slap her creators because they 're clueless and inept   ...              0.997955\n",
              "5055            the fetid underbelly of fame has never looked uglier .   ...              0.989510\n",
              "13665                                           profanity and violence   ...              0.997382\n",
              "7671                                                      feel cheated   ...              0.997139\n",
              "16903                      familiar and predictable , and 4/5ths of it   ...              0.998142\n",
              "\n",
              "[5 rows x 6 columns]"
            ]
          },
          "metadata": {
            "tags": []
          },
          "execution_count": 80
        }
      ]
    },
    {
      "cell_type": "markdown",
      "metadata": {
        "id": "mA2b-qLbJb3v"
      },
      "source": [
        "And check the new results in the confusion matrix."
      ]
    },
    {
      "cell_type": "code",
      "metadata": {
        "colab": {
          "base_uri": "https://localhost:8080/",
          "height": 446
        },
        "id": "imFdzQGPtlKv",
        "outputId": "b3e5dae3-f418-4a6c-9c6b-342b42620ae3"
      },
      "source": [
        "plot_confusion_matrix(confusion_matrix(preds_thres, y_true), ('positive', 'negative'))"
      ],
      "execution_count": null,
      "outputs": [
        {
          "output_type": "display_data",
          "data": {
            "image/png": "[encoded data removed]",
            "text/plain": [
              "<Figure size 864x432 with 2 Axes>"
            ]
          },
          "metadata": {
            "tags": []
          }
        }
      ]
    },
    {
      "cell_type": "markdown",
      "metadata": {
        "id": "1Jh0ZGdNSiZ_"
      },
      "source": [
        "### 5.6.2 - Load Model"
      ]
    },
    {
      "cell_type": "markdown",
      "metadata": {
        "id": "hENlXi1hS8yK"
      },
      "source": [
        "And if we want to load a trained model"
      ]
    },
    {
      "cell_type": "code",
      "metadata": {
        "id": "zV3ngDeyS321"
      },
      "source": [
        "'''model_dir = \"/content/drive/MyDrive/Degree/TFG/Models/BertForSentimentAnalysis\" #@param [\"sentiment_analysis\", \"/content/drive/MyDrive/Degree/TFG/Models/BertForSentimentAnalysis\"]\n",
        "model_dir = Path(model_dir)\n",
        "\n",
        "tokenizer = BertTokenizer.from_pretrained(model_dir)\n",
        "bert_classifier = BertClassifier()\n",
        "bert_classifier.load_state_dict(torch.load(model_dir/'pytorch_model.pth'))\n",
        "bert_classifier.to(device)'''"
      ],
      "execution_count": null,
      "outputs": []
    },
    {
      "cell_type": "markdown",
      "metadata": {
        "id": "HNmIMT68s2az"
      },
      "source": [
        "### 5.6.3 - Final Application for Sentiment Analysis"
      ]
    },
    {
      "cell_type": "markdown",
      "metadata": {
        "id": "6HysJTFYCToL"
      },
      "source": [
        "Finally, it is defined a pipeline to process and classify custom sentences."
      ]
    },
    {
      "cell_type": "code",
      "metadata": {
        "id": "4nAtUId96-N1"
      },
      "source": [
        "def bert_classification(model, sequence):\n",
        "    \"\"\"Perform a forward pass on the trained BERT model to predict probabilities\n",
        "    on the test set.\n",
        "    \"\"\"\n",
        "    # Put the model into the evaluation mode. The dropout layers are disabled during\n",
        "    # the test time.\n",
        "    model.eval()\n",
        "\n",
        "    # Load batch to device\n",
        "    b_input_ids, b_attn_mask = (sequence['input_ids'].to(device), \n",
        "                                sequence['attention_mask'].to(device))\n",
        "\n",
        "    # Compute logits\n",
        "    with torch.no_grad():\n",
        "        logits = model(b_input_ids, b_attn_mask)\n",
        "\n",
        "    # Apply softmax to calculate probabilities\n",
        "    probs = F.softmax(logits, dim=1).cpu().numpy()\n",
        "\n",
        "    return probs"
      ],
      "execution_count": null,
      "outputs": []
    },
    {
      "cell_type": "code",
      "metadata": {
        "id": "8byVLP5CCkJA",
        "colab": {
          "base_uri": "https://localhost:8080/"
        },
        "outputId": "2821993a-290d-4161-b978-5e43ba969bad"
      },
      "source": [
        "#@title { vertical-output: true }\n",
        "\n",
        "#@markdown Insert here a sentence in English\n",
        "sentence = \"I love BERT!\" #@param {type:\"string\"}\n",
        "\n",
        "# Preprocess sentence\n",
        "encoded_sentence = dict()\n",
        "encoded_sentence['input_ids'], encoded_sentence['attention_mask'] = preprocessing_for_sa(pd.Series(sentence), tokenizer, len(tokenizer.encode(sentence)))\n",
        "\n",
        "# Compute probabilities\n",
        "final_probs = bert_classification(bert_classifier, encoded_sentence)\n",
        "\n",
        "# Print results\n",
        "print(f\"{'Sentiment':^11} | {'Probability':^13}\")\n",
        "print(27*'-')\n",
        "print(f\"{'Positive':^11} | {final_probs[0][1]:^13.5f}\")\n",
        "print(27*'-')\n",
        "print(f\"{'Negative':^11} | {final_probs[0][0]:^13.5f}\")\n",
        "print(27*'-')"
      ],
      "execution_count": null,
      "outputs": [
        {
          "output_type": "stream",
          "text": [
            " Sentiment  |  Probability \n",
            "---------------------------\n",
            " Positive   |    0.99954   \n",
            "---------------------------\n",
            " Negative   |    0.00046   \n",
            "---------------------------\n"
          ],
          "name": "stdout"
        }
      ]
    },
    {
      "cell_type": "markdown",
      "metadata": {
        "id": "Oz6PyX0Enxw-"
      },
      "source": [
        "Finally, to download the whole folder."
      ]
    },
    {
      "cell_type": "code",
      "metadata": {
        "id": "OJkPGEDmn86P"
      },
      "source": [
        "# download_folder(sentiment_dir)"
      ],
      "execution_count": null,
      "outputs": []
    },
    {
      "cell_type": "markdown",
      "metadata": {
        "id": "0zJIwTuBQKmU"
      },
      "source": [
        "# 6 - Question Answering"
      ]
    },
    {
      "cell_type": "markdown",
      "metadata": {
        "id": "3_vCUke1zRjx"
      },
      "source": [
        "A more challenged task is **Question Answering**, which corresponds to extract the answer to a question from a given context. In this case the model answers the question by taking a substring of the context, not by generating new text.\n",
        "\n",
        "It is used [SQuAD](https://rajpurkar.github.io/SQuAD-explorer/) (Stanford Question Answering Dataset), a collection of 100K crowdsourced question/answer pairs. Given a question and a passage from Wikipedia containing the answer, the task is to predict the answer text span in the passage. This corresponds with SQuAD 1.1. In SQuAD 2.0 the problem definition is extended allowing for the possibility\n",
        "that no short answer exists in the provided paragraph, making the problem more realistic.\n"
      ]
    },
    {
      "cell_type": "markdown",
      "metadata": {
        "id": "ReMEq5Ja3w9t"
      },
      "source": [
        "![Q&A](https://raw.githubusercontent.com/ion-bueno/bert-from-inside/main/images/question_answering.png)\n",
        "\n",
        "> Image from [Hugging Face models](https://huggingface.co/models)"
      ]
    },
    {
      "cell_type": "markdown",
      "metadata": {
        "id": "egdBStwB4KQl"
      },
      "source": [
        "> For this task it is followed Hugging Face notebook's [question_answering](https://github.com/huggingface/notebooks/blob/master/examples/question_answering.ipynb). "
      ]
    },
    {
      "cell_type": "markdown",
      "metadata": {
        "id": "AICoRIG-pitu"
      },
      "source": [
        "\n",
        "\n",
        "---\n",
        "\n",
        "\n",
        "I recommend to perform a *Factory reset runtime* after *Sentiment Analysis*, since sometimes there are problems in the part of evaluation due to cache's use of Hugging Face's functions. Running **Modules** and **Recurrent Functions** sections at the beginning is enough to load the required packages and functions.\n",
        "\n",
        "\n",
        "---\n",
        "\n"
      ]
    },
    {
      "cell_type": "markdown",
      "metadata": {
        "id": "uHhkbyihMiix"
      },
      "source": [
        "## 6.1 - Setup"
      ]
    },
    {
      "cell_type": "markdown",
      "metadata": {
        "id": "M7m050pfMpz6"
      },
      "source": [
        "As before, the option to change the runtime type to a GPU is a good option."
      ]
    },
    {
      "cell_type": "code",
      "metadata": {
        "colab": {
          "base_uri": "https://localhost:8080/"
        },
        "id": "6pGcZbjzMyvX",
        "outputId": "8fb2bd83-6da3-4e02-cfb7-e64771e86a17"
      },
      "source": [
        "# If there's a GPU available...\n",
        "if torch.cuda.is_available():    \n",
        "    # Tell PyTorch to use the GPU.    \n",
        "    device = torch.device(\"cuda\")\n",
        "    print('There are %d GPU(s) available.' % torch.cuda.device_count())\n",
        "    print('We will use the GPU:', torch.cuda.get_device_name(0))\n",
        "\n",
        "# If not...\n",
        "else:\n",
        "    print('No GPU available, using the CPU instead.')\n",
        "    device = torch.device(\"cpu\")\n"
      ],
      "execution_count": null,
      "outputs": [
        {
          "output_type": "stream",
          "text": [
            "There are 1 GPU(s) available.\n",
            "We will use the GPU: Tesla P100-PCIE-16GB\n"
          ],
          "name": "stdout"
        }
      ]
    },
    {
      "cell_type": "markdown",
      "metadata": {
        "id": "D2Oz5y8fM0ka"
      },
      "source": [
        "## 6.2 - Load SQuAD Dataset"
      ]
    },
    {
      "cell_type": "markdown",
      "metadata": {
        "id": "6hEJMkm3NNj_"
      },
      "source": [
        "We are going to use [Hugging Face Datasets](https://huggingface.co/docs/datasets/v1.4.1/index.html), so running next cell we install the libraries in Colab."
      ]
    },
    {
      "cell_type": "markdown",
      "metadata": {
        "id": "YenkcQigPzwK"
      },
      "source": [
        "With method [`load_dataset`](https://huggingface.co/docs/datasets/v1.4.1/package_reference/loading_methods.html#datasets.load_dataset) and specifying the name of the datasets we can load the required data."
      ]
    },
    {
      "cell_type": "code",
      "metadata": {
        "id": "IzRXM3NmXEAk"
      },
      "source": [
        "# This flag is the difference between SQUAD v1 or 2 \n",
        "# if you're using another dataset, it indicates if impossible answers are allowed or not).\n",
        "squad_v2 = False"
      ],
      "execution_count": null,
      "outputs": []
    },
    {
      "cell_type": "code",
      "metadata": {
        "colab": {
          "base_uri": "https://localhost:8080/",
          "height": 267,
          "referenced_widgets": [
            "956e735c28474c379038bb250b0c268c",
            "a4ae947f220c4a79ba254915c4cf8ca4",
            "25ebe9caa03b471ea20f875965822373",
            "f8d533e04e2b4e8e94f8485a0a75e1fc",
            "98ad30ef82e94089a3f970380fece0a4",
            "9c209f1e20d34b5d983521d45e03237b",
            "36dd3cf4b0994a788e6978f847d85485",
            "cf2ed7ee41ab45e58cdc002a2e579f2d",
            "20e7c233366f4960af358647fc55fb2e",
            "a3b4aa5ac25444979dff08b340bcd477",
            "9af7e55b7f7f43f2a62e13536a9ddfa0",
            "51f139737b1b42aa9cf6bc7246cc757b",
            "7b0605b4683a4efda8a3a7b1b87e522b",
            "732f79f9ba6a4a899de7d7fd3c5cecd3",
            "c36f5698ca3c4bfb8ddee6185652b325",
            "b8fc4f18f2d241b5be0ea370f0f5cd89",
            "e00915c03da84b4db4817a41b5a70c1f",
            "11d7298002174fc9bf5868616db85ac3",
            "85073e02610c4af49fb9cacbed1974ec",
            "c463f96b9ada4620b1d4e74ea5796f01",
            "c47706f18edf471fa1e3333814098b85",
            "f2c7d32992294b87b652a1d5e6b2ce67",
            "f933a71a37824c0c94014cb630b33afd",
            "32dd4f881c78447aa66a64ccf3e9d8b3",
            "1e7b7253e8ae4f1896aacb4b025eff62",
            "cc9bf90f4b3b4d2da6d2c62e326421a3",
            "df6111ffb7f04d5ba91d755cd415f831",
            "713d8c1749c24169a42e74ce27319297",
            "909028f5595344609707fda09138ddc3",
            "b8c0d26c9aea4ac1bbe9f5588baaf97d",
            "23e2e22aa628434188a9395cf2bac22d",
            "6d19c3bb57814ae8887a374d450b50b1",
            "3536460505d743da970e10052fdb0374",
            "1d8f8d53a45d4347a3063efe89d34640",
            "23c8d9e8a9c94ae98bdc081a14b049db",
            "57545c835a6a4384a95c62290a6d1612",
            "e218ec4e93994b12976b772be77a2eaf",
            "7b73f6f50c714a6a9c7bacc478a85595",
            "d92a82801e454c07a8bd435de51b28ff",
            "80225e01fcd14fc5a3fe2839d5bfd659",
            "4fdd0db7c47242789d29db7d4596450c",
            "02d75e6ee1fc4d4894272d8dc82354a2",
            "eacc281c720f48dcac12e61e6effc5a2",
            "69a9da26012948a2b0bb60907a2d04f2",
            "e222a7989689479c99d5eeeae8553e95",
            "a10cf8317181497fb329ee2c9dd88e15",
            "ea386b7f33624dac885bfb75c59668c7",
            "7411ba313b3348489925f943bcc74785"
          ]
        },
        "id": "ZCsWZXIlOTTK",
        "outputId": "d47c7285-1589-4170-e054-a5d4793f58b2"
      },
      "source": [
        "from datasets import load_dataset\n",
        "\n",
        "original_datasets = load_dataset('squad_v2' if squad_v2 else 'squad')"
      ],
      "execution_count": null,
      "outputs": [
        {
          "output_type": "display_data",
          "data": {
            "application/vnd.jupyter.widget-view+json": {
              "model_id": "956e735c28474c379038bb250b0c268c",
              "version_minor": 0,
              "version_major": 2
            },
            "text/plain": [
              "HBox(children=(FloatProgress(value=0.0, description='Downloading', max=1947.0, style=ProgressStyle(description…"
            ]
          },
          "metadata": {
            "tags": []
          }
        },
        {
          "output_type": "stream",
          "text": [
            "\n"
          ],
          "name": "stdout"
        },
        {
          "output_type": "display_data",
          "data": {
            "application/vnd.jupyter.widget-view+json": {
              "model_id": "20e7c233366f4960af358647fc55fb2e",
              "version_minor": 0,
              "version_major": 2
            },
            "text/plain": [
              "HBox(children=(FloatProgress(value=0.0, description='Downloading', max=1021.0, style=ProgressStyle(description…"
            ]
          },
          "metadata": {
            "tags": []
          }
        },
        {
          "output_type": "stream",
          "text": [
            "\n",
            "Downloading and preparing dataset squad/plain_text (download: 33.51 MiB, generated: 85.63 MiB, post-processed: Unknown size, total: 119.14 MiB) to /root/.cache/huggingface/datasets/squad/plain_text/1.0.0/6b6c4172d0119c74515f44ea0b8262efe4897f2ddb6613e5e915840fdc309c16...\n"
          ],
          "name": "stdout"
        },
        {
          "output_type": "display_data",
          "data": {
            "application/vnd.jupyter.widget-view+json": {
              "model_id": "e00915c03da84b4db4817a41b5a70c1f",
              "version_minor": 0,
              "version_major": 2
            },
            "text/plain": [
              "HBox(children=(FloatProgress(value=0.0, description='Downloading', max=8116577.0, style=ProgressStyle(descript…"
            ]
          },
          "metadata": {
            "tags": []
          }
        },
        {
          "output_type": "stream",
          "text": [
            "\n"
          ],
          "name": "stdout"
        },
        {
          "output_type": "display_data",
          "data": {
            "application/vnd.jupyter.widget-view+json": {
              "model_id": "1e7b7253e8ae4f1896aacb4b025eff62",
              "version_minor": 0,
              "version_major": 2
            },
            "text/plain": [
              "HBox(children=(FloatProgress(value=0.0, description='Downloading', max=1054280.0, style=ProgressStyle(descript…"
            ]
          },
          "metadata": {
            "tags": []
          }
        },
        {
          "output_type": "stream",
          "text": [
            "\n"
          ],
          "name": "stdout"
        },
        {
          "output_type": "display_data",
          "data": {
            "application/vnd.jupyter.widget-view+json": {
              "model_id": "3536460505d743da970e10052fdb0374",
              "version_minor": 0,
              "version_major": 2
            },
            "text/plain": [
              "HBox(children=(FloatProgress(value=1.0, bar_style='info', max=1.0), HTML(value='')))"
            ]
          },
          "metadata": {
            "tags": []
          }
        },
        {
          "output_type": "stream",
          "text": [
            "\r"
          ],
          "name": "stdout"
        },
        {
          "output_type": "display_data",
          "data": {
            "application/vnd.jupyter.widget-view+json": {
              "model_id": "4fdd0db7c47242789d29db7d4596450c",
              "version_minor": 0,
              "version_major": 2
            },
            "text/plain": [
              "HBox(children=(FloatProgress(value=1.0, bar_style='info', max=1.0), HTML(value='')))"
            ]
          },
          "metadata": {
            "tags": []
          }
        },
        {
          "output_type": "stream",
          "text": [
            "\rDataset squad downloaded and prepared to /root/.cache/huggingface/datasets/squad/plain_text/1.0.0/6b6c4172d0119c74515f44ea0b8262efe4897f2ddb6613e5e915840fdc309c16. Subsequent calls will reuse this data.\n"
          ],
          "name": "stdout"
        }
      ]
    },
    {
      "cell_type": "markdown",
      "metadata": {
        "id": "Cn_QnL6WQpOf"
      },
      "source": [
        "The loaded dataset is an object of [`DatasetDict`](https://huggingface.co/docs/datasets/package_reference/main_classes.html#datasetdict). It is a dictionary which contains train and validation samples, with the correspondig `context`, `question` and `answers`. As in the previous task, SQuAD is also used in competitions. In this case, there are not original test data. As before, one third of training set is going to be used as test."
      ]
    },
    {
      "cell_type": "code",
      "metadata": {
        "id": "vDlay57Q0xL8"
      },
      "source": [
        "new_split = original_datasets['train'].train_test_split(test_size=0.33)\n",
        "original_datasets['train'] = new_split['train']\n",
        "original_datasets['test'] = new_split['test']"
      ],
      "execution_count": null,
      "outputs": []
    },
    {
      "cell_type": "markdown",
      "metadata": {
        "id": "KfGCw5Gk1o0I"
      },
      "source": [
        "With next function we can show random elements in the dataset."
      ]
    },
    {
      "cell_type": "code",
      "metadata": {
        "id": "i3j8APAoIrI3"
      },
      "source": [
        "from datasets import ClassLabel, Sequence\n",
        "from IPython.display import display, HTML\n",
        "\n",
        "def show_random_elements(dataset, num_examples):\n",
        "    assert num_examples <= len(dataset), \"Can't pick more elements than there are in the dataset.\"\n",
        "    picks = []\n",
        "    for _ in range(num_examples):\n",
        "        pick = random.randint(0, len(dataset)-1)\n",
        "        while pick in picks:\n",
        "            pick = random.randint(0, len(dataset)-1)\n",
        "        picks.append(pick)\n",
        "    \n",
        "    df = pd.DataFrame(dataset[picks])\n",
        "    for column, typ in dataset.features.items():\n",
        "        if isinstance(typ, ClassLabel):\n",
        "            df[column] = df[column].transform(lambda i: typ.names[i])\n",
        "        elif isinstance(typ, Sequence) and isinstance(typ.feature, ClassLabel):\n",
        "            df[column] = df[column].transform(lambda x: [typ.feature.names[i] for i in x])\n",
        "    display(HTML(df.to_html()))"
      ],
      "execution_count": null,
      "outputs": []
    },
    {
      "cell_type": "markdown",
      "metadata": {
        "id": "OGqxi4rE3j6e"
      },
      "source": [
        "For a fast intuition on the model, we can remove some data, since the original size of the dataset has more than 80k samples only in training. With `perc` we select the percentage of data we are going to use. Removed sample are selected randomly."
      ]
    },
    {
      "cell_type": "code",
      "metadata": {
        "colab": {
          "base_uri": "https://localhost:8080/",
          "height": 431
        },
        "id": "s4Ww8dtnQsSu",
        "outputId": "9c9a1d8d-c780-40de-bacd-26ef3940c19a"
      },
      "source": [
        "#@markdown Select a split\n",
        "split = \"train\" #@param [\"train\", \"validation\", \"test\"]\n",
        "#@markdown Select number of examples to visualize it\n",
        "num_examples = 3 #@param {type:\"slider\", min:1, max:10, step:1}\n",
        "print(f'Some sentences of {split} split, which has a length of {original_datasets[split].num_rows}\\n')\n",
        "show_random_elements(original_datasets[split], num_examples)\n"
      ],
      "execution_count": null,
      "outputs": [
        {
          "output_type": "stream",
          "text": [
            "Some sentences of train split, which has a length of 58691\n",
            "\n"
          ],
          "name": "stdout"
        },
        {
          "output_type": "display_data",
          "data": {
            "text/html": [
              "<table border=\"1\" class=\"dataframe\">\n",
              "  <thead>\n",
              "    <tr style=\"text-align: right;\">\n",
              "      <th></th>\n",
              "      <th>answers</th>\n",
              "      <th>context</th>\n",
              "      <th>id</th>\n",
              "      <th>question</th>\n",
              "      <th>title</th>\n",
              "    </tr>\n",
              "  </thead>\n",
              "  <tbody>\n",
              "    <tr>\n",
              "      <th>0</th>\n",
              "      <td>{'text': ['Hauts-de-Seine, Seine-Saint-Denis and Val-de-Marne'], 'answer_start': [318]}</td>\n",
              "      <td>The Métropole du Grand Paris, or Metropolis of Greater Paris, formally came into existence on January 1, 2016. It is an administrative structure for cooperation between the City of Paris and its nearest suburbs. It includes the City of Paris, plus the communes, or towns of the three departments of the inner suburbs; Hauts-de-Seine, Seine-Saint-Denis and Val-de-Marne; plus seven communes in the outer suburbs, including Argenteuil in Val d'Oise and Paray-Vieille-Poste in Essonne, which were added to include the major airports of Paris. The Metropole covers 814 square kilometers and has a population of 6.945 million persons.</td>\n",
              "      <td>5728ccfb4b864d1900164e61</td>\n",
              "      <td>What three departments of the inner suburbs are included in the metropole?</td>\n",
              "      <td>Paris</td>\n",
              "    </tr>\n",
              "    <tr>\n",
              "      <th>1</th>\n",
              "      <td>{'text': ['Government'], 'answer_start': [206]}</td>\n",
              "      <td>Connaught Place, one of North India's largest commercial and financial centres, is located in the northern part of New Delhi. Adjoining areas such as Barakhamba Road, ITO are also major commercial centres. Government and quasi government sector was the primary employer in New Delhi. The city's service sector has expanded due in part to the large skilled English-speaking workforce that has attracted many multinational companies. Key service industries include information technology, telecommunications, hotels, banking, media and tourism.</td>\n",
              "      <td>5706af7575f01819005e7d37</td>\n",
              "      <td>Prior to the expansion of the service sector, what sector was the largest employer in New Delhi?</td>\n",
              "      <td>New_Delhi</td>\n",
              "    </tr>\n",
              "    <tr>\n",
              "      <th>2</th>\n",
              "      <td>{'text': ['age and accumulated experiences'], 'answer_start': [739]}</td>\n",
              "      <td>The inclusiveness of Weinreich's definition (above) directs attention to the totality of one's identity at a given phase in time, and assists in elucidating component aspects of one's total identity, such as one's gender identity, ethnic identity, occupational identity and so on. The definition readily applies to the young child, to the adolescent, to the young adult, and to the older adult in various phases of the life cycle. Depending on whether one is a young child or an adult at the height of one's powers, how one construes oneself as one was in the past will refer to very different salient experiential markers. Likewise, how one construes oneself as one aspires to be in the future will differ considerably according to one's age and accumulated experiences. (Weinreich &amp; Saunderson, (eds) 2003, pp 26–34).</td>\n",
              "      <td>570961b2ed30961900e84037</td>\n",
              "      <td>How one construes oneself now and in the future differs considerably because of what 2 things?</td>\n",
              "      <td>Identity_(social_science)</td>\n",
              "    </tr>\n",
              "  </tbody>\n",
              "</table>"
            ],
            "text/plain": [
              "<IPython.core.display.HTML object>"
            ]
          },
          "metadata": {
            "tags": []
          }
        }
      ]
    },
    {
      "cell_type": "markdown",
      "metadata": {
        "id": "BBP-0Z5w5R3t"
      },
      "source": [
        "As before, there is the option to remove some data."
      ]
    },
    {
      "cell_type": "code",
      "metadata": {
        "id": "CNZtBVZxA-SQ"
      },
      "source": [
        "from datasets import DatasetDict"
      ],
      "execution_count": null,
      "outputs": []
    },
    {
      "cell_type": "code",
      "metadata": {
        "colab": {
          "base_uri": "https://localhost:8080/"
        },
        "id": "Dj7Kp7aAaBTO",
        "outputId": "d5f5e223-4753-49aa-ae68-e1a0915639c5"
      },
      "source": [
        "#@title 6.2.1 Resize Dataset { vertical-output: true }\n",
        "#@markdown Percentage of dataset to use %\n",
        "perc = 100 #@param {type:\"slider\", min:1, max:100, step:1}\n",
        "datasets = DatasetDict()\n",
        "\n",
        "for key, dataset in original_datasets.shuffle().items():\n",
        "    if perc != 100:\n",
        "        datasets[key] = dataset.select(np.arange(0, round(dataset.num_rows*(perc/100)+1)))\n",
        "        print(f'{key:<10}\\t', f'From: {original_datasets[key].num_rows:<10}', f'To: {datasets[key].num_rows:<10}')\n",
        "    else:\n",
        "        datasets[key] = original_datasets[key]\n",
        "        print(f'{key:<10}\\t', f'size: {len(original_datasets[key]):<10}')"
      ],
      "execution_count": null,
      "outputs": [
        {
          "output_type": "stream",
          "text": [
            "train     \t size: 58691     \n",
            "validation\t size: 10570     \n",
            "test      \t size: 28908     \n"
          ],
          "name": "stdout"
        }
      ]
    },
    {
      "cell_type": "markdown",
      "metadata": {
        "id": "R-LZ1teNUeFY"
      },
      "source": [
        "## 6.3 - Preprocessing SQuAD Data"
      ]
    },
    {
      "cell_type": "markdown",
      "metadata": {
        "id": "c8q68IuPU1_l"
      },
      "source": [
        "In this task the structure of the input differs from sentiment analysis. Now there are two sentences:\n",
        "\n",
        "\\begin{matrix}\n",
        "    \\text{[CLS]} & \\text{Sentence A} & \\text{[SEP]} & \\text{Sentence B}\n",
        "\\end{matrix}"
      ]
    },
    {
      "cell_type": "markdown",
      "metadata": {
        "id": "ZInR1JVXVn4V"
      },
      "source": [
        "It is employed [`BertTokenizerFast`](https://huggingface.co/transformers/model_doc/bert.html#transformers.BertTokenizerFast). This one is a [Fast Tokenizer](https://huggingface.co/transformers/main_classes/tokenizer.html#tokenizer), which according to Hugging Face implies \n",
        "\n",
        "- A significant speed-up in particular when doing batched tokenization.\n",
        "- Additional methods to map between the original string (character and words) and the token space.\n",
        "\n",
        "As before,[`bert-base-uncased`](https://huggingface.co/bert-base-uncased) is used as pre-trained model."
      ]
    },
    {
      "cell_type": "code",
      "metadata": {
        "id": "vI6VYeQWRs0S"
      },
      "source": [
        "from transformers import BertTokenizerFast"
      ],
      "execution_count": null,
      "outputs": []
    },
    {
      "cell_type": "code",
      "metadata": {
        "id": "6XBnVEhkRsBS"
      },
      "source": [
        "MODEL_NAME = 'bert-base-uncased'"
      ],
      "execution_count": null,
      "outputs": []
    },
    {
      "cell_type": "code",
      "metadata": {
        "id": "PG9XpSxvRuWJ",
        "colab": {
          "base_uri": "https://localhost:8080/"
        },
        "outputId": "b65f52ac-3e08-49ef-9a44-5ee9ddae6f40"
      },
      "source": [
        "# Load the BERT tokenizer.\n",
        "print('Loading BERT tokenizer...\\n')\n",
        "tokenizer = BertTokenizerFast.from_pretrained(MODEL_NAME)"
      ],
      "execution_count": null,
      "outputs": [
        {
          "output_type": "stream",
          "text": [
            "Loading BERT tokenizer...\n",
            "\n"
          ],
          "name": "stdout"
        }
      ]
    },
    {
      "cell_type": "markdown",
      "metadata": {
        "id": "ul-6neG4ki-Q"
      },
      "source": [
        "As before, we can check its attributes."
      ]
    },
    {
      "cell_type": "code",
      "metadata": {
        "colab": {
          "base_uri": "https://localhost:8080/"
        },
        "id": "phbxf9K_kvXW",
        "outputId": "da3683da-473d-4c73-f721-b4d7f8531695"
      },
      "source": [
        "#@markdown Select an option to visualize it\n",
        "attribute = \"vocab_size\" #@param [\"vocab_size\", \"model_max_length\", \"padding_side\", \"sep_token\", \"pad_token\", \"cls_token\", \"mask_token\", \"unk_token\"]\n",
        "\n",
        "print(getattr(tokenizer, attribute))"
      ],
      "execution_count": null,
      "outputs": [
        {
          "output_type": "stream",
          "text": [
            "30522\n"
          ],
          "name": "stdout"
        }
      ]
    },
    {
      "cell_type": "markdown",
      "metadata": {
        "id": "hD1KrbgIAknD"
      },
      "source": [
        "One problem is how to manage long documents. The \n",
        "usual truncation process could carry in losing the answer we are looking for. To deal with it, it is truncated the context into features, text shorter than maximum length allowed, and allowed some overlap between them in case the answer lies at the point it is splitted a long context\n"
      ]
    },
    {
      "cell_type": "code",
      "metadata": {
        "id": "H4lwrtz5C3QR"
      },
      "source": [
        "MAX_LENGTH = 384 # The maximum length of a feature (question and context)\n",
        "DOC_STRIDE = 128 # The authorized overlap between two parts of the context when splitting it is needed."
      ],
      "execution_count": null,
      "outputs": []
    },
    {
      "cell_type": "markdown",
      "metadata": {
        "id": "UohhB81oTEIh"
      },
      "source": [
        "Let's find an example whose length is longer than `MAX_LENGTH`."
      ]
    },
    {
      "cell_type": "code",
      "metadata": {
        "colab": {
          "base_uri": "https://localhost:8080/"
        },
        "id": "wgCCZ_EGC354",
        "outputId": "54919344-3802-44c3-a255-4631626999ee"
      },
      "source": [
        "for i, example in enumerate(datasets[\"train\"]):\n",
        "    if len(tokenizer(example[\"question\"], example[\"context\"])[\"input_ids\"]) > MAX_LENGTH:\n",
        "        break\n",
        "example = datasets[\"train\"][i]\n",
        "example"
      ],
      "execution_count": null,
      "outputs": [
        {
          "output_type": "execute_result",
          "data": {
            "text/plain": [
              "{'answers': {'answer_start': [56], 'text': ['1998 Winter Olympics']},\n",
              " 'context': \"Japan: The event was held in Nagano, which hosted the 1998 Winter Olympics, on April 26. Japanese Buddhist temple Zenkō-ji, which was originally scheduled to be the starting point for the Olympic torch relay in Nagano, refused to host the torch and pulled out of the relay plans, amid speculation that monks there sympathized with anti-Chinese government protesters. as well as the risk of disruption by violent protests. Parts of Zenkō-ji temple's main building (Zenkō-ji Hondō), reconstructed in 1707 and one of the National Treasures of Japan, was then vandalized with spraypaint. A new starting point, previously the site of a municipal building and now a parking lot, was chosen by the city. An event the city had planned to hold at the Minami Nagano Sports Park following the torch relay was also canceled out of concern about disruptions caused by demonstrators protesting against China's recent crackdown in Tibet. Thousands of riot police were mobilized to protect the torch along its route. The show of force kept most protesters in check, but slogans shouted by pro-China or pro-Tibet demonstrators, Japanese nationalists, and human rights organizations flooded the air. Five men were arrested and four injured amidst scenes of mob violence. The torch route was packed with mostly peaceful demonstrators. The public was not allowed at the parking lot where the relay started. After the Zenkoji monks held a prayer ceremony for victims of the recent events in Tibet. More than 100 police officers ran with the torch and riot police lined the streets while three helicopters flew above. Only two Chinese guards were allowed to accompany the torch because of Japan's concern over their treatment of demonstrators at previous relays. A man with a Tibetan flag tried to stop the torch at the beginning of the relay but was dragged off by police. Some raw eggs were also thrown from the crowd.\",\n",
              " 'id': '56db6d76e7c41114004b50e2',\n",
              " 'question': 'Which Olympics did Nagano host?',\n",
              " 'title': '2008_Summer_Olympics_torch_relay'}"
            ]
          },
          "metadata": {
            "tags": []
          },
          "execution_count": 99
        }
      ]
    },
    {
      "cell_type": "code",
      "metadata": {
        "colab": {
          "base_uri": "https://localhost:8080/"
        },
        "id": "aKprbGPFgPF6",
        "outputId": "447914c2-c037-4e10-f5a7-9a35b076a2ac"
      },
      "source": [
        "print(f'Original length \\t{len(tokenizer(example[\"question\"], example[\"context\"])[\"input_ids\"])}')\n",
        "print(f'Truncated length \\t{len(tokenizer(example[\"question\"], example[\"context\"], max_length=MAX_LENGTH, truncation=\"only_second\")[\"input_ids\"])}')"
      ],
      "execution_count": null,
      "outputs": [
        {
          "output_type": "stream",
          "text": [
            "Original length \t392\n",
            "Truncated length \t384\n"
          ],
          "name": "stdout"
        }
      ]
    },
    {
      "cell_type": "markdown",
      "metadata": {
        "id": "2yGs3fWPVsUO"
      },
      "source": [
        "Only the context should be truncated, specifying `truncation=only_second`. The tokenizer will return a lisf of features capped by a certain maximum length, with the overlap we talked above. We just have to declare `return_overflowing_tokens=True` and `stride=doc_stride` to pass the stride.\n",
        "\n",
        "Mention we need to find in which of those features the answer actually is, and where exactly in that feature, the start and end positions. The tokenizer we're using can help us with that by returning an `offset_mapping`:"
      ]
    },
    {
      "cell_type": "code",
      "metadata": {
        "id": "0_Y6IdUoC8_W"
      },
      "source": [
        "tokenized_example = tokenizer(\n",
        "    example[\"question\"],\n",
        "    example[\"context\"],\n",
        "    max_length=MAX_LENGTH,\n",
        "    truncation=\"only_second\",\n",
        "    return_overflowing_tokens=True,\n",
        "    return_offsets_mapping=True,\n",
        "    stride=DOC_STRIDE\n",
        ")"
      ],
      "execution_count": null,
      "outputs": []
    },
    {
      "cell_type": "markdown",
      "metadata": {
        "id": "Rmrd83ymaf_s"
      },
      "source": [
        "We can plot each of the features in order to see the overlapping part:"
      ]
    },
    {
      "cell_type": "code",
      "metadata": {
        "colab": {
          "base_uri": "https://localhost:8080/"
        },
        "id": "y7Jy6J3XadOn",
        "outputId": "c83bff7e-e358-462e-ed7e-92746f16df55"
      },
      "source": [
        "for i, x in enumerate(tokenized_example[\"input_ids\"]):\n",
        "    print(f'Feature {i+1} with {len(x)} tokens')\n",
        "    print(tokenizer.convert_ids_to_tokens(x), '\\n') # or tokenizer.decode(x)"
      ],
      "execution_count": null,
      "outputs": [
        {
          "output_type": "stream",
          "text": [
            "Feature 1 with 384 tokens\n",
            "['[CLS]', 'which', 'olympics', 'did', 'naga', '##no', 'host', '?', '[SEP]', 'japan', ':', 'the', 'event', 'was', 'held', 'in', 'naga', '##no', ',', 'which', 'hosted', 'the', '1998', 'winter', 'olympics', ',', 'on', 'april', '26', '.', 'japanese', 'buddhist', 'temple', 'zen', '##ko', '-', 'ji', ',', 'which', 'was', 'originally', 'scheduled', 'to', 'be', 'the', 'starting', 'point', 'for', 'the', 'olympic', 'torch', 'relay', 'in', 'naga', '##no', ',', 'refused', 'to', 'host', 'the', 'torch', 'and', 'pulled', 'out', 'of', 'the', 'relay', 'plans', ',', 'amid', 'speculation', 'that', 'monks', 'there', 'sy', '##mp', '##athi', '##zed', 'with', 'anti', '-', 'chinese', 'government', 'protesters', '.', 'as', 'well', 'as', 'the', 'risk', 'of', 'disruption', 'by', 'violent', 'protests', '.', 'parts', 'of', 'zen', '##ko', '-', 'ji', 'temple', \"'\", 's', 'main', 'building', '(', 'zen', '##ko', '-', 'ji', 'hon', '##do', ')', ',', 'reconstructed', 'in', '1707', 'and', 'one', 'of', 'the', 'national', 'treasures', 'of', 'japan', ',', 'was', 'then', 'van', '##dal', '##ized', 'with', 'spray', '##pa', '##int', '.', 'a', 'new', 'starting', 'point', ',', 'previously', 'the', 'site', 'of', 'a', 'municipal', 'building', 'and', 'now', 'a', 'parking', 'lot', ',', 'was', 'chosen', 'by', 'the', 'city', '.', 'an', 'event', 'the', 'city', 'had', 'planned', 'to', 'hold', 'at', 'the', 'mina', '##mi', 'naga', '##no', 'sports', 'park', 'following', 'the', 'torch', 'relay', 'was', 'also', 'canceled', 'out', 'of', 'concern', 'about', 'disruption', '##s', 'caused', 'by', 'demonstrators', 'protesting', 'against', 'china', \"'\", 's', 'recent', 'crack', '##down', 'in', 'tibet', '.', 'thousands', 'of', 'riot', 'police', 'were', 'mobilized', 'to', 'protect', 'the', 'torch', 'along', 'its', 'route', '.', 'the', 'show', 'of', 'force', 'kept', 'most', 'protesters', 'in', 'check', ',', 'but', 'slogan', '##s', 'shouted', 'by', 'pro', '-', 'china', 'or', 'pro', '-', 'tibet', 'demonstrators', ',', 'japanese', 'nationalists', ',', 'and', 'human', 'rights', 'organizations', 'flooded', 'the', 'air', '.', 'five', 'men', 'were', 'arrested', 'and', 'four', 'injured', 'amidst', 'scenes', 'of', 'mob', 'violence', '.', 'the', 'torch', 'route', 'was', 'packed', 'with', 'mostly', 'peaceful', 'demonstrators', '.', 'the', 'public', 'was', 'not', 'allowed', 'at', 'the', 'parking', 'lot', 'where', 'the', 'relay', 'started', '.', 'after', 'the', 'zen', '##ko', '##ji', 'monks', 'held', 'a', 'prayer', 'ceremony', 'for', 'victims', 'of', 'the', 'recent', 'events', 'in', 'tibet', '.', 'more', 'than', '100', 'police', 'officers', 'ran', 'with', 'the', 'torch', 'and', 'riot', 'police', 'lined', 'the', 'streets', 'while', 'three', 'helicopters', 'flew', 'above', '.', 'only', 'two', 'chinese', 'guards', 'were', 'allowed', 'to', 'accompany', 'the', 'torch', 'because', 'of', 'japan', \"'\", 's', 'concern', 'over', 'their', 'treatment', 'of', 'demonstrators', 'at', 'previous', 'relay', '##s', '.', 'a', 'man', 'with', 'a', 'tibetan', 'flag', 'tried', 'to', 'stop', 'the', 'torch', 'at', 'the', 'beginning', 'of', 'the', 'relay', 'but', 'was', 'dragged', 'off', 'by', 'police', '.', 'some', 'raw', '[SEP]'] \n",
            "\n",
            "Feature 2 with 146 tokens\n",
            "['[CLS]', 'which', 'olympics', 'did', 'naga', '##no', 'host', '?', '[SEP]', 'men', 'were', 'arrested', 'and', 'four', 'injured', 'amidst', 'scenes', 'of', 'mob', 'violence', '.', 'the', 'torch', 'route', 'was', 'packed', 'with', 'mostly', 'peaceful', 'demonstrators', '.', 'the', 'public', 'was', 'not', 'allowed', 'at', 'the', 'parking', 'lot', 'where', 'the', 'relay', 'started', '.', 'after', 'the', 'zen', '##ko', '##ji', 'monks', 'held', 'a', 'prayer', 'ceremony', 'for', 'victims', 'of', 'the', 'recent', 'events', 'in', 'tibet', '.', 'more', 'than', '100', 'police', 'officers', 'ran', 'with', 'the', 'torch', 'and', 'riot', 'police', 'lined', 'the', 'streets', 'while', 'three', 'helicopters', 'flew', 'above', '.', 'only', 'two', 'chinese', 'guards', 'were', 'allowed', 'to', 'accompany', 'the', 'torch', 'because', 'of', 'japan', \"'\", 's', 'concern', 'over', 'their', 'treatment', 'of', 'demonstrators', 'at', 'previous', 'relay', '##s', '.', 'a', 'man', 'with', 'a', 'tibetan', 'flag', 'tried', 'to', 'stop', 'the', 'torch', 'at', 'the', 'beginning', 'of', 'the', 'relay', 'but', 'was', 'dragged', 'off', 'by', 'police', '.', 'some', 'raw', 'eggs', 'were', 'also', 'thrown', 'from', 'the', 'crowd', '.', '[SEP]'] \n",
            "\n"
          ],
          "name": "stdout"
        }
      ]
    },
    {
      "cell_type": "markdown",
      "metadata": {
        "id": "nUvWR31SbRIH"
      },
      "source": [
        "And how the tokenizer can provide us the positions of each token:"
      ]
    },
    {
      "cell_type": "code",
      "metadata": {
        "colab": {
          "base_uri": "https://localhost:8080/"
        },
        "id": "2IDygx3Cb4Vb",
        "outputId": "8a8fb8d3-1a9a-421a-cd8c-d71b5fc372b0"
      },
      "source": [
        "rnd_index = random.randint(0, len(tokenized_example[\"input_ids\"][0])-1)\n",
        "token_id = tokenized_example[\"input_ids\"][0][rnd_index]\n",
        "offsets = tokenized_example[\"offset_mapping\"][0][rnd_index]\n",
        "\n",
        "print(f'Token {rnd_index} \\t{tokenizer.convert_ids_to_tokens(token_id)}\\n')\n",
        "\n",
        "print(f'Start position \\t{offsets[0]}')\n",
        "print(f'End position \\t{offsets[1]}')"
      ],
      "execution_count": null,
      "outputs": [
        {
          "output_type": "stream",
          "text": [
            "Token 379 \tpolice\n",
            "\n",
            "Start position \t1844\n",
            "End position \t1850\n"
          ],
          "name": "stdout"
        }
      ]
    },
    {
      "cell_type": "markdown",
      "metadata": {
        "id": "LyKmuAv3wz79"
      },
      "source": [
        "To distinguish which parts of the offsets correspond to the question and which part correspond to the context, we can use [`sequence_ids`](https://huggingface.co/transformers/main_classes/tokenizer.html#transformers.BatchEncoding.sequence_ids) method. It returns `None` for the special tokens, then 0 or 1 depending on whether the corresponding token comes from the first sentence past (the question) or the second (the context)."
      ]
    },
    {
      "cell_type": "code",
      "metadata": {
        "colab": {
          "base_uri": "https://localhost:8080/"
        },
        "id": "7dLSn6Z4ej8N",
        "outputId": "8a910281-4a76-41b5-fdb8-b985cdf0772c"
      },
      "source": [
        "sequence_ids = tokenized_example.sequence_ids()\n",
        "print(sequence_ids)"
      ],
      "execution_count": null,
      "outputs": [
        {
          "output_type": "stream",
          "text": [
            "[None, 0, 0, 0, 0, 0, 0, 0, None, 1, 1, 1, 1, 1, 1, 1, 1, 1, 1, 1, 1, 1, 1, 1, 1, 1, 1, 1, 1, 1, 1, 1, 1, 1, 1, 1, 1, 1, 1, 1, 1, 1, 1, 1, 1, 1, 1, 1, 1, 1, 1, 1, 1, 1, 1, 1, 1, 1, 1, 1, 1, 1, 1, 1, 1, 1, 1, 1, 1, 1, 1, 1, 1, 1, 1, 1, 1, 1, 1, 1, 1, 1, 1, 1, 1, 1, 1, 1, 1, 1, 1, 1, 1, 1, 1, 1, 1, 1, 1, 1, 1, 1, 1, 1, 1, 1, 1, 1, 1, 1, 1, 1, 1, 1, 1, 1, 1, 1, 1, 1, 1, 1, 1, 1, 1, 1, 1, 1, 1, 1, 1, 1, 1, 1, 1, 1, 1, 1, 1, 1, 1, 1, 1, 1, 1, 1, 1, 1, 1, 1, 1, 1, 1, 1, 1, 1, 1, 1, 1, 1, 1, 1, 1, 1, 1, 1, 1, 1, 1, 1, 1, 1, 1, 1, 1, 1, 1, 1, 1, 1, 1, 1, 1, 1, 1, 1, 1, 1, 1, 1, 1, 1, 1, 1, 1, 1, 1, 1, 1, 1, 1, 1, 1, 1, 1, 1, 1, 1, 1, 1, 1, 1, 1, 1, 1, 1, 1, 1, 1, 1, 1, 1, 1, 1, 1, 1, 1, 1, 1, 1, 1, 1, 1, 1, 1, 1, 1, 1, 1, 1, 1, 1, 1, 1, 1, 1, 1, 1, 1, 1, 1, 1, 1, 1, 1, 1, 1, 1, 1, 1, 1, 1, 1, 1, 1, 1, 1, 1, 1, 1, 1, 1, 1, 1, 1, 1, 1, 1, 1, 1, 1, 1, 1, 1, 1, 1, 1, 1, 1, 1, 1, 1, 1, 1, 1, 1, 1, 1, 1, 1, 1, 1, 1, 1, 1, 1, 1, 1, 1, 1, 1, 1, 1, 1, 1, 1, 1, 1, 1, 1, 1, 1, 1, 1, 1, 1, 1, 1, 1, 1, 1, 1, 1, 1, 1, 1, 1, 1, 1, 1, 1, 1, 1, 1, 1, 1, 1, 1, 1, 1, 1, 1, 1, 1, 1, 1, 1, 1, 1, 1, 1, 1, 1, 1, 1, 1, 1, 1, 1, 1, 1, 1, 1, 1, 1, 1, 1, 1, 1, 1, 1, 1, 1, None]\n"
          ],
          "name": "stdout"
        }
      ]
    },
    {
      "cell_type": "markdown",
      "metadata": {
        "id": "Z-FZScaFfq92"
      },
      "source": [
        "With all of this, the last step is to check if the answer is in the feature or in the next one."
      ]
    },
    {
      "cell_type": "code",
      "metadata": {
        "colab": {
          "base_uri": "https://localhost:8080/"
        },
        "id": "n_T4P94NfqPa",
        "outputId": "342dcc5d-7850-4d8e-8987-bb29ca723a0c"
      },
      "source": [
        "answers = example[\"answers\"]\n",
        "start_char = answers[\"answer_start\"][0]\n",
        "end_char = start_char + len(answers[\"text\"][0])\n",
        "\n",
        "# Start token index of the current span in the text.\n",
        "token_start_index = 0\n",
        "while sequence_ids[token_start_index] != 1:\n",
        "    token_start_index += 1\n",
        "\n",
        "# End token index of the current span in the text.\n",
        "token_end_index = len(tokenized_example[\"input_ids\"][0]) - 1\n",
        "while sequence_ids[token_end_index] != 1:\n",
        "    token_end_index -= 1\n",
        "\n",
        "# Detect if the answer is out of the span (in which case this feature is labeled with the CLS index).\n",
        "offsets = tokenized_example[\"offset_mapping\"][0]\n",
        "if (offsets[token_start_index][0] <= start_char and offsets[token_end_index][1] >= end_char):\n",
        "    # Move the token_start_index and token_end_index to the two ends of the answer.\n",
        "    # Note: we could go after the last offset if the answer is the last word (edge case).\n",
        "    while token_start_index < len(offsets) and offsets[token_start_index][0] <= start_char:\n",
        "        token_start_index += 1\n",
        "    start_position = token_start_index - 1\n",
        "    while offsets[token_end_index][1] >= end_char:\n",
        "        token_end_index -= 1\n",
        "    end_position = token_end_index + 1\n",
        "    print(f'Original answer \\t{answers[\"text\"][0]}', '\\n')\n",
        "    print(f'Start position \\t\\t{start_position}')\n",
        "    print(f'End position \\t\\t{end_position}')\n",
        "    print(f'In feature \\t\\t{tokenizer.decode(tokenized_example[\"input_ids\"][0][start_position: end_position+1])}')\n",
        "else:\n",
        "    print(\"The answer is not in this feature.\")"
      ],
      "execution_count": null,
      "outputs": [
        {
          "output_type": "stream",
          "text": [
            "Original answer \t1998 Winter Olympics \n",
            "\n",
            "Start position \t\t22\n",
            "End position \t\t26\n",
            "In feature \t\t1998 winter olympics, on\n"
          ],
          "name": "stdout"
        }
      ]
    },
    {
      "cell_type": "markdown",
      "metadata": {
        "id": "pt4b2eCbrz-Y"
      },
      "source": [
        "Once all steps are explained, we can integrate them in a whole function to preprocess whole data."
      ]
    },
    {
      "cell_type": "code",
      "metadata": {
        "id": "mQz2mF7fwz8A"
      },
      "source": [
        "def preprocessing_for_qa(examples):\n",
        "    # Tokenize our examples with truncation and padding, but keep the overflows using a stride. This results\n",
        "    # in one example possible giving several features when a context is long, each of those features having a\n",
        "    # context that overlaps a bit the context of the previous feature.\n",
        "    tokenized_examples = tokenizer(\n",
        "        examples[\"question\"],               #tokenize question\n",
        "        examples[\"context\"],                #tokenize context\n",
        "        truncation=\"only_second\",           #truncate only context if necessary\n",
        "        max_length=MAX_LENGTH,              #variable max_length\n",
        "        stride=DOC_STRIDE,                  #overlap to stride\n",
        "        return_overflowing_tokens=True,     #return overflowing tokens\n",
        "        return_offsets_mapping=True,        #return offsets mapping\n",
        "        padding=\"max_length\"                #pad to max length\n",
        "    )\n",
        "\n",
        "    # Since one example might give us several features if it has a long context, we need a map from a feature to\n",
        "    # its corresponding example. This key gives us just that.\n",
        "    sample_mapping = tokenized_examples.pop(\"overflow_to_sample_mapping\")\n",
        "\n",
        "    # The offset mappings will give us a map from token to character position in the original context. This will\n",
        "    # help us compute the start_positions and end_positions.\n",
        "    offset_mapping = tokenized_examples.pop(\"offset_mapping\")\n",
        "\n",
        "    # Let's label those examples!\n",
        "    tokenized_examples[\"start_positions\"] = []\n",
        "    tokenized_examples[\"end_positions\"] = []\n",
        "\n",
        "    for i, offsets in enumerate(offset_mapping):\n",
        "        # We will label impossible answers with the index of the CLS token.\n",
        "        input_ids = tokenized_examples[\"input_ids\"][i]\n",
        "        cls_index = input_ids.index(tokenizer.cls_token_id)\n",
        "\n",
        "        # Grab the sequence corresponding to that example (to know what is the context and what is the question).\n",
        "        sequence_ids = tokenized_examples.sequence_ids(i)\n",
        "\n",
        "        # One example can give several spans, this is the index of the example containing this span of text.\n",
        "        sample_index = sample_mapping[i]\n",
        "        answers = examples[\"answers\"][sample_index]\n",
        "\n",
        "        # If no answers are given, set the cls_index as answer.\n",
        "        if len(answers[\"answer_start\"]) == 0:\n",
        "            tokenized_examples[\"start_positions\"].append(cls_index)\n",
        "            tokenized_examples[\"end_positions\"].append(cls_index)\n",
        "        else:\n",
        "            # Start/end character index of the answer in the text.\n",
        "            start_char = answers[\"answer_start\"][0]\n",
        "            end_char = start_char + len(answers[\"text\"][0])\n",
        "\n",
        "            # Start token index of the current span in the text.\n",
        "            token_start_index = 0\n",
        "            while sequence_ids[token_start_index] != 1:\n",
        "                token_start_index += 1\n",
        "\n",
        "            # End token index of the current span in the text.\n",
        "            token_end_index = len(input_ids) - 1\n",
        "            while sequence_ids[token_end_index] != 1:\n",
        "                token_end_index -= 1\n",
        "\n",
        "            # Detect if the answer is out of the span (in which case this feature is labeled with the CLS index).\n",
        "            if not (offsets[token_start_index][0] <= start_char and offsets[token_end_index][1] >= end_char):\n",
        "                tokenized_examples[\"start_positions\"].append(cls_index)\n",
        "                tokenized_examples[\"end_positions\"].append(cls_index)\n",
        "            else:\n",
        "                # Otherwise move the token_start_index and token_end_index to the two ends of the answer.\n",
        "                # Note: we could go after the last offset if the answer is the last word (edge case).\n",
        "                while token_start_index < len(offsets) and offsets[token_start_index][0] <= start_char:\n",
        "                    token_start_index += 1\n",
        "                tokenized_examples[\"start_positions\"].append(token_start_index - 1)\n",
        "                while offsets[token_end_index][1] >= end_char:\n",
        "                    token_end_index -= 1\n",
        "                tokenized_examples[\"end_positions\"].append(token_end_index + 1)\n",
        "\n",
        "    return tokenized_examples"
      ],
      "execution_count": null,
      "outputs": []
    },
    {
      "cell_type": "markdown",
      "metadata": {
        "id": "hd0323JyKkoZ"
      },
      "source": [
        "Now, we only have to apply the function to the different splits. We can use the [`map`](https://huggingface.co/docs/datasets/v1.4.1/package_reference/main_classes.html?highlight=map#datasets.Dataset.map) method:"
      ]
    },
    {
      "cell_type": "code",
      "metadata": {
        "colab": {
          "base_uri": "https://localhost:8080/",
          "height": 164,
          "referenced_widgets": [
            "15e62ce495804af88f80f2f9e7f032c4",
            "c0bd8ac8c42845789aea8f58ddace4d5",
            "3075a65030f244ca8c02cb26666cf332",
            "32a6faab02e94528b9bf64d40530e707",
            "1d879a06d7a44ac0a2bd16e65637a873",
            "fd32131fc363401a9b2731ed4b22cb91",
            "d04886221d1f4e7fa213c6429cf60d63",
            "35b4fb0fce2445118b82867891414ee5",
            "bf27d5db4f5c41b5af5d07b167a7f8cf",
            "e0c87ba45fa84041919c77cd205a4e59",
            "f906513a8bad4a7d9f0bf6617312eae7",
            "42c70a3119fa49d7a331c8d6b90e3070",
            "7370f6dc45d24fcaa95607b5b93f136e",
            "1cfecd15308b4fdab7720d1ef5c09286",
            "0aa8493b90d845b0bdcf010d4f5bfb24",
            "5b06933e172549dd865b18ba2642bbd4",
            "1421fbd7041149d3a2f1ff9e9f2fc4aa",
            "5937d42f58be45beb3aebd5edbbef105",
            "ecc48df63fce411081ffcebdcc8bb065",
            "4c64c064a688465d852fbc2a57ef087c",
            "40c630a6187c48cf9cd7011b4574a585",
            "176318f0f80541acb0631eceedef9ef4",
            "a311b116567a4d44a840cf97d9516838",
            "4e8155fd6c4e4156928eb915f7cbb190"
          ]
        },
        "id": "fUC0DNfzNJIW",
        "outputId": "00e97ce3-5a42-4df4-c0b1-6224d3937381"
      },
      "source": [
        "tokenized_datasets = datasets.map(preprocessing_for_qa, \n",
        "                                  batched=True,\n",
        "                                  load_from_cache_file=False,\n",
        "                                  remove_columns=datasets[\"train\"].column_names)"
      ],
      "execution_count": null,
      "outputs": [
        {
          "output_type": "display_data",
          "data": {
            "application/vnd.jupyter.widget-view+json": {
              "model_id": "15e62ce495804af88f80f2f9e7f032c4",
              "version_minor": 0,
              "version_major": 2
            },
            "text/plain": [
              "HBox(children=(FloatProgress(value=0.0, max=59.0), HTML(value='')))"
            ]
          },
          "metadata": {
            "tags": []
          }
        },
        {
          "output_type": "stream",
          "text": [
            "\n"
          ],
          "name": "stdout"
        },
        {
          "output_type": "display_data",
          "data": {
            "application/vnd.jupyter.widget-view+json": {
              "model_id": "bf27d5db4f5c41b5af5d07b167a7f8cf",
              "version_minor": 0,
              "version_major": 2
            },
            "text/plain": [
              "HBox(children=(FloatProgress(value=0.0, max=11.0), HTML(value='')))"
            ]
          },
          "metadata": {
            "tags": []
          }
        },
        {
          "output_type": "stream",
          "text": [
            "\n"
          ],
          "name": "stdout"
        },
        {
          "output_type": "display_data",
          "data": {
            "application/vnd.jupyter.widget-view+json": {
              "model_id": "1421fbd7041149d3a2f1ff9e9f2fc4aa",
              "version_minor": 0,
              "version_major": 2
            },
            "text/plain": [
              "HBox(children=(FloatProgress(value=0.0, max=29.0), HTML(value='')))"
            ]
          },
          "metadata": {
            "tags": []
          }
        },
        {
          "output_type": "stream",
          "text": [
            "\n"
          ],
          "name": "stdout"
        }
      ]
    },
    {
      "cell_type": "markdown",
      "metadata": {
        "id": "voWiw8C7IrJV"
      },
      "source": [
        "The results are automatically cached by the [Datasets](https://huggingface.co/docs/datasets/v1.4.1/index.html) library to avoid spending time on this step the next time you run your notebook. With `load_from_cache_file=False` in the call to [`map`](https://huggingface.co/docs/datasets/v1.4.1/package_reference/main_classes.html?highlight=map#datasets.Dataset.map), the cached files are not used and the preprocessing is applied again.\n",
        "\n",
        "Note that we passed `batched=True` to encode the texts by batches together. This is to leverage the full benefit of the fast tokenizer we loaded earlier, which will use multi-threading to treat the texts in a batch concurrently."
      ]
    },
    {
      "cell_type": "markdown",
      "metadata": {
        "id": "iGeN3Ju3WZzQ"
      },
      "source": [
        "Once the original datasets are tokenizer, we get another [`DatasetDict`](https://huggingface.co/docs/datasets/package_reference/main_classes.html#datasetdict), but with different columns than the original one: `attention_mask`, used to indicate words from additional padding, `input_ids`, tokens as integers, and `token_type_ids`, indicating to which sentence words belongs. Finally the start and end positions of the answer."
      ]
    },
    {
      "cell_type": "code",
      "metadata": {
        "colab": {
          "base_uri": "https://localhost:8080/",
          "height": 499
        },
        "id": "OauAJlyHWtpQ",
        "outputId": "34ce1d3b-7ca3-4b36-b6bf-89c380e51836"
      },
      "source": [
        "#@markdown Select a split\n",
        "split = \"train\" #@param [\"train\", \"validation\", \"test\"]\n",
        "#@markdown Select number of examples to visualize it\n",
        "num_examples = 3 #@param {type:\"slider\", min:1, max:10, step:1}\n",
        "print(f'Some sentences of {split} split, which has a length of {tokenized_datasets[split].num_rows}\\n')\n",
        "show_random_elements(tokenized_datasets[split], num_examples)"
      ],
      "execution_count": null,
      "outputs": [
        {
          "output_type": "stream",
          "text": [
            "Some sentences of train split, which has a length of 59327\n",
            "\n"
          ],
          "name": "stdout"
        },
        {
          "output_type": "display_data",
          "data": {
            "text/html": [
              "<table border=\"1\" class=\"dataframe\">\n",
              "  <thead>\n",
              "    <tr style=\"text-align: right;\">\n",
              "      <th></th>\n",
              "      <th>attention_mask</th>\n",
              "      <th>end_positions</th>\n",
              "      <th>input_ids</th>\n",
              "      <th>start_positions</th>\n",
              "      <th>token_type_ids</th>\n",
              "    </tr>\n",
              "  </thead>\n",
              "  <tbody>\n",
              "    <tr>\n",
              "      <th>0</th>\n",
              "      <td>[1, 1, 1, 1, 1, 1, 1, 1, 1, 1, 1, 1, 1, 1, 1, 1, 1, 1, 1, 1, 1, 1, 1, 1, 1, 1, 1, 1, 1, 1, 1, 1, 1, 1, 1, 1, 1, 1, 1, 1, 1, 1, 1, 1, 1, 1, 1, 1, 1, 1, 1, 1, 1, 1, 1, 1, 1, 1, 1, 1, 1, 1, 1, 1, 1, 1, 1, 1, 1, 1, 1, 1, 1, 1, 1, 1, 1, 1, 1, 1, 1, 1, 1, 1, 1, 1, 1, 1, 1, 1, 1, 1, 1, 1, 1, 1, 1, 1, 1, 1, ...]</td>\n",
              "      <td>110</td>\n",
              "      <td>[101, 2054, 2095, 2106, 10692, 2707, 2037, 3171, 4125, 2241, 2006, 2844, 14338, 1029, 102, 2138, 1997, 1996, 3795, 3171, 19396, 2008, 2211, 1999, 2289, 1010, 1996, 14230, 1997, 10692, 10548, 2011, 1015, 1012, 1018, 1003, 1999, 1996, 3416, 4284, 1997, 2263, 1010, 2058, 1017, 1003, 1999, 1996, 3822, 4284, 1997, 2263, 1010, 1998, 2058, 1023, 1003, 1999, 1996, 4343, 4284, 1997, 2263, 1012, 1996, 12029, 2231, 2081, 1037, 26215, 4997, 5166, 1010, 2029, 2001, 2979, 2011, 15544, 8004, 12676, 12193, 1012, 1996, 6599, 1997, 1996, 5166, 2001, 10548, 2005, 2263, 2011, 25212, 2243, 1020, 1012, 1015, 4551, 1998, 1996, ...]</td>\n",
              "      <td>110</td>\n",
              "      <td>[0, 0, 0, 0, 0, 0, 0, 0, 0, 0, 0, 0, 0, 0, 0, 1, 1, 1, 1, 1, 1, 1, 1, 1, 1, 1, 1, 1, 1, 1, 1, 1, 1, 1, 1, 1, 1, 1, 1, 1, 1, 1, 1, 1, 1, 1, 1, 1, 1, 1, 1, 1, 1, 1, 1, 1, 1, 1, 1, 1, 1, 1, 1, 1, 1, 1, 1, 1, 1, 1, 1, 1, 1, 1, 1, 1, 1, 1, 1, 1, 1, 1, 1, 1, 1, 1, 1, 1, 1, 1, 1, 1, 1, 1, 1, 1, 1, 1, 1, 1, ...]</td>\n",
              "    </tr>\n",
              "    <tr>\n",
              "      <th>1</th>\n",
              "      <td>[1, 1, 1, 1, 1, 1, 1, 1, 1, 1, 1, 1, 1, 1, 1, 1, 1, 1, 1, 1, 1, 1, 1, 1, 1, 1, 1, 1, 1, 1, 1, 1, 1, 1, 1, 1, 1, 1, 1, 1, 1, 1, 1, 1, 1, 1, 1, 1, 1, 1, 1, 1, 1, 1, 1, 1, 1, 1, 1, 1, 1, 1, 1, 1, 1, 1, 1, 1, 1, 1, 1, 0, 0, 0, 0, 0, 0, 0, 0, 0, 0, 0, 0, 0, 0, 0, 0, 0, 0, 0, 0, 0, 0, 0, 0, 0, 0, 0, 0, 0, ...]</td>\n",
              "      <td>42</td>\n",
              "      <td>[101, 1999, 2289, 1010, 2054, 2001, 1996, 2988, 5813, 1997, 1996, 21388, 26797, 2291, 1029, 102, 1999, 2289, 1010, 1996, 2880, 8418, 25311, 6692, 2739, 4034, 2988, 2008, 1996, 5813, 1997, 1996, 21388, 26797, 2291, 2001, 2004, 2152, 2004, 1014, 1012, 1019, 3620, 1012, 2007, 1996, 4493, 5310, 17703, 2009, 3544, 2008, 1996, 10250, 12322, 9250, 10640, 2003, 2322, 2213, 1006, 2531, 2213, 1010, 4895, 9289, 12322, 9250, 1007, 1012, 102, 0, 0, 0, 0, 0, 0, 0, 0, 0, 0, 0, 0, 0, 0, 0, 0, 0, 0, 0, 0, 0, 0, 0, 0, 0, 0, 0, 0, 0, ...]</td>\n",
              "      <td>36</td>\n",
              "      <td>[0, 0, 0, 0, 0, 0, 0, 0, 0, 0, 0, 0, 0, 0, 0, 0, 1, 1, 1, 1, 1, 1, 1, 1, 1, 1, 1, 1, 1, 1, 1, 1, 1, 1, 1, 1, 1, 1, 1, 1, 1, 1, 1, 1, 1, 1, 1, 1, 1, 1, 1, 1, 1, 1, 1, 1, 1, 1, 1, 1, 1, 1, 1, 1, 1, 1, 1, 1, 1, 1, 1, 0, 0, 0, 0, 0, 0, 0, 0, 0, 0, 0, 0, 0, 0, 0, 0, 0, 0, 0, 0, 0, 0, 0, 0, 0, 0, 0, 0, 0, ...]</td>\n",
              "    </tr>\n",
              "    <tr>\n",
              "      <th>2</th>\n",
              "      <td>[1, 1, 1, 1, 1, 1, 1, 1, 1, 1, 1, 1, 1, 1, 1, 1, 1, 1, 1, 1, 1, 1, 1, 1, 1, 1, 1, 1, 1, 1, 1, 1, 1, 1, 1, 1, 1, 1, 1, 1, 1, 1, 1, 1, 1, 1, 1, 1, 1, 1, 1, 1, 1, 1, 1, 1, 1, 1, 1, 1, 1, 1, 1, 1, 1, 1, 1, 1, 1, 1, 1, 1, 1, 1, 1, 1, 1, 1, 1, 1, 1, 1, 1, 1, 1, 1, 1, 1, 1, 1, 1, 1, 1, 1, 1, 1, 1, 1, 1, 1, ...]</td>\n",
              "      <td>178</td>\n",
              "      <td>[101, 2054, 12763, 2024, 3378, 2007, 25353, 21850, 6856, 1029, 102, 1999, 5184, 29393, 8458, 8189, 11233, 1010, 1996, 2034, 12553, 3424, 1011, 1999, 25969, 3512, 4319, 1010, 2001, 2764, 2011, 2703, 15501, 12190, 7033, 1998, 15535, 6152, 17064, 12112, 1997, 1996, 2820, 1997, 6388, 7242, 1999, 4068, 1012, 1996, 4319, 2001, 2445, 1996, 3293, 2171, 16183, 10755, 8791, 1012, 15501, 12190, 7033, 1010, 9073, 2119, 1996, 2236, 22423, 1997, 29596, 1998, 1996, 13228, 16326, 1997, 3056, 18554, 2015, 2011, 10327, 1010, 1044, 22571, 14573, 2229, 3550, 2008, 2019, 29596, 1011, 4820, 18554, 2007, 2714, 13228, 16326, 5144, 2071, 2022, ...]</td>\n",
              "      <td>168</td>\n",
              "      <td>[0, 0, 0, 0, 0, 0, 0, 0, 0, 0, 0, 1, 1, 1, 1, 1, 1, 1, 1, 1, 1, 1, 1, 1, 1, 1, 1, 1, 1, 1, 1, 1, 1, 1, 1, 1, 1, 1, 1, 1, 1, 1, 1, 1, 1, 1, 1, 1, 1, 1, 1, 1, 1, 1, 1, 1, 1, 1, 1, 1, 1, 1, 1, 1, 1, 1, 1, 1, 1, 1, 1, 1, 1, 1, 1, 1, 1, 1, 1, 1, 1, 1, 1, 1, 1, 1, 1, 1, 1, 1, 1, 1, 1, 1, 1, 1, 1, 1, 1, 1, ...]</td>\n",
              "    </tr>\n",
              "  </tbody>\n",
              "</table>"
            ],
            "text/plain": [
              "<IPython.core.display.HTML object>"
            ]
          },
          "metadata": {
            "tags": []
          }
        }
      ]
    },
    {
      "cell_type": "markdown",
      "metadata": {
        "id": "tQBsd8ivQ8cX"
      },
      "source": [
        "## 6.4 - Generation of the Model"
      ]
    },
    {
      "cell_type": "markdown",
      "metadata": {
        "id": "-_mjlVIIncTf"
      },
      "source": [
        "To fine tune on **Question Answering**, it is introduced a start vector $ S \\in \\mathbb R^{H} $ and an end vector $ E \\in \\mathbb R^{H} $."
      ]
    },
    {
      "cell_type": "markdown",
      "metadata": {
        "id": "zPARYgkTSI7X"
      },
      "source": [
        "![Fine tune Q&A](https://raw.githubusercontent.com/ion-bueno/bert-from-inside/main/images/question_answering_fine_tune.png)"
      ]
    },
    {
      "cell_type": "markdown",
      "metadata": {
        "id": "jb12e17xqRSr"
      },
      "source": [
        "To compute the probability of a word $ i $ being the start or the end of the answer, we compute the dot product between $ S $ and $ T_i $ followed by a softmax over all the words in the sequence.\n",
        "\n",
        "\\begin{equation}\n",
        "    P_i = \\frac{e^{S \\cdot T_i}}{\\sum_{j} e^{S \\cdot T_j}}\n",
        "\\end{equation} \n",
        "\n",
        "The score for a candidate is defined as $ S \\cdot T_i \\ + \\ E \\cdot T_j $, where $ i $ is the start position and $ j $ the final position. The maximum scoring span: $ \\hat{s_{i, j}} = max_{j \\geq i} S \\cdot T_i \\ + \\ E \\cdot T_j $ is used as prediction, where the training objective is the sum of the log-likelihoods of the correct start and end positions."
      ]
    },
    {
      "cell_type": "markdown",
      "metadata": {
        "id": "ZwmIElx_DKBV"
      },
      "source": [
        "![Model Q&A](https://raw.githubusercontent.com/ion-bueno/bert-from-inside/main/images/bert-qa.png)"
      ]
    },
    {
      "cell_type": "markdown",
      "metadata": {
        "id": "URbe2r4LuNkG"
      },
      "source": [
        "To extend to SQuAD 2.0, questions which do not have an answer have an span with start and end at the $ [CLS] $ token. It is compared the score of the null answer span: $ s_{null} = S \\cdot C \\ + E \\cdot C $ with $ \\hat{s_{i, j}} $. It is predicted a non-null answer if $ \\hat{s_{i, j}} > s_{null} \\ + \\ \\tau$, where threshold $ \\tau $ i selected on the validation set to maximize F1."
      ]
    },
    {
      "cell_type": "markdown",
      "metadata": {
        "id": "B4iHhaveC1HX"
      },
      "source": [
        "In this task we are going to use the model designed by Hugging Face [`BertForQuestionAnswering`](https://huggingface.co/transformers/model_doc/bert.html#transformers.BertForQuestionAnswering)."
      ]
    },
    {
      "cell_type": "code",
      "metadata": {
        "colab": {
          "base_uri": "https://localhost:8080/"
        },
        "id": "eddDHjFJ_6zq",
        "outputId": "1abbf49a-01a2-44b2-881b-7783fc6d0d8f"
      },
      "source": [
        "from transformers import BertForQuestionAnswering\n",
        "\n",
        "bert_qa = BertForQuestionAnswering.from_pretrained(MODEL_NAME)"
      ],
      "execution_count": null,
      "outputs": [
        {
          "output_type": "stream",
          "text": [
            "Some weights of the model checkpoint at bert-base-uncased were not used when initializing BertForQuestionAnswering: ['cls.predictions.bias', 'cls.predictions.transform.dense.bias', 'cls.seq_relationship.bias', 'cls.predictions.transform.LayerNorm.bias', 'cls.predictions.transform.LayerNorm.weight', 'cls.predictions.transform.dense.weight', 'cls.seq_relationship.weight', 'cls.predictions.decoder.weight']\n",
            "- This IS expected if you are initializing BertForQuestionAnswering from the checkpoint of a model trained on another task or with another architecture (e.g. initializing a BertForSequenceClassification model from a BertForPreTraining model).\n",
            "- This IS NOT expected if you are initializing BertForQuestionAnswering from the checkpoint of a model that you expect to be exactly identical (initializing a BertForSequenceClassification model from a BertForSequenceClassification model).\n",
            "Some weights of BertForQuestionAnswering were not initialized from the model checkpoint at bert-base-uncased and are newly initialized: ['qa_outputs.bias', 'qa_outputs.weight']\n",
            "You should probably TRAIN this model on a down-stream task to be able to use it for predictions and inference.\n"
          ],
          "name": "stderr"
        }
      ]
    },
    {
      "cell_type": "code",
      "metadata": {
        "colab": {
          "base_uri": "https://localhost:8080/"
        },
        "id": "VtD_B4OnAGJP",
        "outputId": "998a6295-ef53-4bb5-cf98-c87a872ffac6"
      },
      "source": [
        "#@markdown Select whole model, only pretrained BERT or the question & answer outputs\n",
        "block = \"model\" #@param [\"model\", \"bert\", \"qa_outputs\"]\n",
        "if block == 'model':\n",
        "    print(bert_qa)\n",
        "else:\n",
        "    print(getattr(model, block))"
      ],
      "execution_count": null,
      "outputs": [
        {
          "output_type": "stream",
          "text": [
            "BertForQuestionAnswering(\n",
            "  (bert): BertModel(\n",
            "    (embeddings): BertEmbeddings(\n",
            "      (word_embeddings): Embedding(30522, 768, padding_idx=0)\n",
            "      (position_embeddings): Embedding(512, 768)\n",
            "      (token_type_embeddings): Embedding(2, 768)\n",
            "      (LayerNorm): LayerNorm((768,), eps=1e-12, elementwise_affine=True)\n",
            "      (dropout): Dropout(p=0.1, inplace=False)\n",
            "    )\n",
            "    (encoder): BertEncoder(\n",
            "      (layer): ModuleList(\n",
            "        (0): BertLayer(\n",
            "          (attention): BertAttention(\n",
            "            (self): BertSelfAttention(\n",
            "              (query): Linear(in_features=768, out_features=768, bias=True)\n",
            "              (key): Linear(in_features=768, out_features=768, bias=True)\n",
            "              (value): Linear(in_features=768, out_features=768, bias=True)\n",
            "              (dropout): Dropout(p=0.1, inplace=False)\n",
            "            )\n",
            "            (output): BertSelfOutput(\n",
            "              (dense): Linear(in_features=768, out_features=768, bias=True)\n",
            "              (LayerNorm): LayerNorm((768,), eps=1e-12, elementwise_affine=True)\n",
            "              (dropout): Dropout(p=0.1, inplace=False)\n",
            "            )\n",
            "          )\n",
            "          (intermediate): BertIntermediate(\n",
            "            (dense): Linear(in_features=768, out_features=3072, bias=True)\n",
            "          )\n",
            "          (output): BertOutput(\n",
            "            (dense): Linear(in_features=3072, out_features=768, bias=True)\n",
            "            (LayerNorm): LayerNorm((768,), eps=1e-12, elementwise_affine=True)\n",
            "            (dropout): Dropout(p=0.1, inplace=False)\n",
            "          )\n",
            "        )\n",
            "        (1): BertLayer(\n",
            "          (attention): BertAttention(\n",
            "            (self): BertSelfAttention(\n",
            "              (query): Linear(in_features=768, out_features=768, bias=True)\n",
            "              (key): Linear(in_features=768, out_features=768, bias=True)\n",
            "              (value): Linear(in_features=768, out_features=768, bias=True)\n",
            "              (dropout): Dropout(p=0.1, inplace=False)\n",
            "            )\n",
            "            (output): BertSelfOutput(\n",
            "              (dense): Linear(in_features=768, out_features=768, bias=True)\n",
            "              (LayerNorm): LayerNorm((768,), eps=1e-12, elementwise_affine=True)\n",
            "              (dropout): Dropout(p=0.1, inplace=False)\n",
            "            )\n",
            "          )\n",
            "          (intermediate): BertIntermediate(\n",
            "            (dense): Linear(in_features=768, out_features=3072, bias=True)\n",
            "          )\n",
            "          (output): BertOutput(\n",
            "            (dense): Linear(in_features=3072, out_features=768, bias=True)\n",
            "            (LayerNorm): LayerNorm((768,), eps=1e-12, elementwise_affine=True)\n",
            "            (dropout): Dropout(p=0.1, inplace=False)\n",
            "          )\n",
            "        )\n",
            "        (2): BertLayer(\n",
            "          (attention): BertAttention(\n",
            "            (self): BertSelfAttention(\n",
            "              (query): Linear(in_features=768, out_features=768, bias=True)\n",
            "              (key): Linear(in_features=768, out_features=768, bias=True)\n",
            "              (value): Linear(in_features=768, out_features=768, bias=True)\n",
            "              (dropout): Dropout(p=0.1, inplace=False)\n",
            "            )\n",
            "            (output): BertSelfOutput(\n",
            "              (dense): Linear(in_features=768, out_features=768, bias=True)\n",
            "              (LayerNorm): LayerNorm((768,), eps=1e-12, elementwise_affine=True)\n",
            "              (dropout): Dropout(p=0.1, inplace=False)\n",
            "            )\n",
            "          )\n",
            "          (intermediate): BertIntermediate(\n",
            "            (dense): Linear(in_features=768, out_features=3072, bias=True)\n",
            "          )\n",
            "          (output): BertOutput(\n",
            "            (dense): Linear(in_features=3072, out_features=768, bias=True)\n",
            "            (LayerNorm): LayerNorm((768,), eps=1e-12, elementwise_affine=True)\n",
            "            (dropout): Dropout(p=0.1, inplace=False)\n",
            "          )\n",
            "        )\n",
            "        (3): BertLayer(\n",
            "          (attention): BertAttention(\n",
            "            (self): BertSelfAttention(\n",
            "              (query): Linear(in_features=768, out_features=768, bias=True)\n",
            "              (key): Linear(in_features=768, out_features=768, bias=True)\n",
            "              (value): Linear(in_features=768, out_features=768, bias=True)\n",
            "              (dropout): Dropout(p=0.1, inplace=False)\n",
            "            )\n",
            "            (output): BertSelfOutput(\n",
            "              (dense): Linear(in_features=768, out_features=768, bias=True)\n",
            "              (LayerNorm): LayerNorm((768,), eps=1e-12, elementwise_affine=True)\n",
            "              (dropout): Dropout(p=0.1, inplace=False)\n",
            "            )\n",
            "          )\n",
            "          (intermediate): BertIntermediate(\n",
            "            (dense): Linear(in_features=768, out_features=3072, bias=True)\n",
            "          )\n",
            "          (output): BertOutput(\n",
            "            (dense): Linear(in_features=3072, out_features=768, bias=True)\n",
            "            (LayerNorm): LayerNorm((768,), eps=1e-12, elementwise_affine=True)\n",
            "            (dropout): Dropout(p=0.1, inplace=False)\n",
            "          )\n",
            "        )\n",
            "        (4): BertLayer(\n",
            "          (attention): BertAttention(\n",
            "            (self): BertSelfAttention(\n",
            "              (query): Linear(in_features=768, out_features=768, bias=True)\n",
            "              (key): Linear(in_features=768, out_features=768, bias=True)\n",
            "              (value): Linear(in_features=768, out_features=768, bias=True)\n",
            "              (dropout): Dropout(p=0.1, inplace=False)\n",
            "            )\n",
            "            (output): BertSelfOutput(\n",
            "              (dense): Linear(in_features=768, out_features=768, bias=True)\n",
            "              (LayerNorm): LayerNorm((768,), eps=1e-12, elementwise_affine=True)\n",
            "              (dropout): Dropout(p=0.1, inplace=False)\n",
            "            )\n",
            "          )\n",
            "          (intermediate): BertIntermediate(\n",
            "            (dense): Linear(in_features=768, out_features=3072, bias=True)\n",
            "          )\n",
            "          (output): BertOutput(\n",
            "            (dense): Linear(in_features=3072, out_features=768, bias=True)\n",
            "            (LayerNorm): LayerNorm((768,), eps=1e-12, elementwise_affine=True)\n",
            "            (dropout): Dropout(p=0.1, inplace=False)\n",
            "          )\n",
            "        )\n",
            "        (5): BertLayer(\n",
            "          (attention): BertAttention(\n",
            "            (self): BertSelfAttention(\n",
            "              (query): Linear(in_features=768, out_features=768, bias=True)\n",
            "              (key): Linear(in_features=768, out_features=768, bias=True)\n",
            "              (value): Linear(in_features=768, out_features=768, bias=True)\n",
            "              (dropout): Dropout(p=0.1, inplace=False)\n",
            "            )\n",
            "            (output): BertSelfOutput(\n",
            "              (dense): Linear(in_features=768, out_features=768, bias=True)\n",
            "              (LayerNorm): LayerNorm((768,), eps=1e-12, elementwise_affine=True)\n",
            "              (dropout): Dropout(p=0.1, inplace=False)\n",
            "            )\n",
            "          )\n",
            "          (intermediate): BertIntermediate(\n",
            "            (dense): Linear(in_features=768, out_features=3072, bias=True)\n",
            "          )\n",
            "          (output): BertOutput(\n",
            "            (dense): Linear(in_features=3072, out_features=768, bias=True)\n",
            "            (LayerNorm): LayerNorm((768,), eps=1e-12, elementwise_affine=True)\n",
            "            (dropout): Dropout(p=0.1, inplace=False)\n",
            "          )\n",
            "        )\n",
            "        (6): BertLayer(\n",
            "          (attention): BertAttention(\n",
            "            (self): BertSelfAttention(\n",
            "              (query): Linear(in_features=768, out_features=768, bias=True)\n",
            "              (key): Linear(in_features=768, out_features=768, bias=True)\n",
            "              (value): Linear(in_features=768, out_features=768, bias=True)\n",
            "              (dropout): Dropout(p=0.1, inplace=False)\n",
            "            )\n",
            "            (output): BertSelfOutput(\n",
            "              (dense): Linear(in_features=768, out_features=768, bias=True)\n",
            "              (LayerNorm): LayerNorm((768,), eps=1e-12, elementwise_affine=True)\n",
            "              (dropout): Dropout(p=0.1, inplace=False)\n",
            "            )\n",
            "          )\n",
            "          (intermediate): BertIntermediate(\n",
            "            (dense): Linear(in_features=768, out_features=3072, bias=True)\n",
            "          )\n",
            "          (output): BertOutput(\n",
            "            (dense): Linear(in_features=3072, out_features=768, bias=True)\n",
            "            (LayerNorm): LayerNorm((768,), eps=1e-12, elementwise_affine=True)\n",
            "            (dropout): Dropout(p=0.1, inplace=False)\n",
            "          )\n",
            "        )\n",
            "        (7): BertLayer(\n",
            "          (attention): BertAttention(\n",
            "            (self): BertSelfAttention(\n",
            "              (query): Linear(in_features=768, out_features=768, bias=True)\n",
            "              (key): Linear(in_features=768, out_features=768, bias=True)\n",
            "              (value): Linear(in_features=768, out_features=768, bias=True)\n",
            "              (dropout): Dropout(p=0.1, inplace=False)\n",
            "            )\n",
            "            (output): BertSelfOutput(\n",
            "              (dense): Linear(in_features=768, out_features=768, bias=True)\n",
            "              (LayerNorm): LayerNorm((768,), eps=1e-12, elementwise_affine=True)\n",
            "              (dropout): Dropout(p=0.1, inplace=False)\n",
            "            )\n",
            "          )\n",
            "          (intermediate): BertIntermediate(\n",
            "            (dense): Linear(in_features=768, out_features=3072, bias=True)\n",
            "          )\n",
            "          (output): BertOutput(\n",
            "            (dense): Linear(in_features=3072, out_features=768, bias=True)\n",
            "            (LayerNorm): LayerNorm((768,), eps=1e-12, elementwise_affine=True)\n",
            "            (dropout): Dropout(p=0.1, inplace=False)\n",
            "          )\n",
            "        )\n",
            "        (8): BertLayer(\n",
            "          (attention): BertAttention(\n",
            "            (self): BertSelfAttention(\n",
            "              (query): Linear(in_features=768, out_features=768, bias=True)\n",
            "              (key): Linear(in_features=768, out_features=768, bias=True)\n",
            "              (value): Linear(in_features=768, out_features=768, bias=True)\n",
            "              (dropout): Dropout(p=0.1, inplace=False)\n",
            "            )\n",
            "            (output): BertSelfOutput(\n",
            "              (dense): Linear(in_features=768, out_features=768, bias=True)\n",
            "              (LayerNorm): LayerNorm((768,), eps=1e-12, elementwise_affine=True)\n",
            "              (dropout): Dropout(p=0.1, inplace=False)\n",
            "            )\n",
            "          )\n",
            "          (intermediate): BertIntermediate(\n",
            "            (dense): Linear(in_features=768, out_features=3072, bias=True)\n",
            "          )\n",
            "          (output): BertOutput(\n",
            "            (dense): Linear(in_features=3072, out_features=768, bias=True)\n",
            "            (LayerNorm): LayerNorm((768,), eps=1e-12, elementwise_affine=True)\n",
            "            (dropout): Dropout(p=0.1, inplace=False)\n",
            "          )\n",
            "        )\n",
            "        (9): BertLayer(\n",
            "          (attention): BertAttention(\n",
            "            (self): BertSelfAttention(\n",
            "              (query): Linear(in_features=768, out_features=768, bias=True)\n",
            "              (key): Linear(in_features=768, out_features=768, bias=True)\n",
            "              (value): Linear(in_features=768, out_features=768, bias=True)\n",
            "              (dropout): Dropout(p=0.1, inplace=False)\n",
            "            )\n",
            "            (output): BertSelfOutput(\n",
            "              (dense): Linear(in_features=768, out_features=768, bias=True)\n",
            "              (LayerNorm): LayerNorm((768,), eps=1e-12, elementwise_affine=True)\n",
            "              (dropout): Dropout(p=0.1, inplace=False)\n",
            "            )\n",
            "          )\n",
            "          (intermediate): BertIntermediate(\n",
            "            (dense): Linear(in_features=768, out_features=3072, bias=True)\n",
            "          )\n",
            "          (output): BertOutput(\n",
            "            (dense): Linear(in_features=3072, out_features=768, bias=True)\n",
            "            (LayerNorm): LayerNorm((768,), eps=1e-12, elementwise_affine=True)\n",
            "            (dropout): Dropout(p=0.1, inplace=False)\n",
            "          )\n",
            "        )\n",
            "        (10): BertLayer(\n",
            "          (attention): BertAttention(\n",
            "            (self): BertSelfAttention(\n",
            "              (query): Linear(in_features=768, out_features=768, bias=True)\n",
            "              (key): Linear(in_features=768, out_features=768, bias=True)\n",
            "              (value): Linear(in_features=768, out_features=768, bias=True)\n",
            "              (dropout): Dropout(p=0.1, inplace=False)\n",
            "            )\n",
            "            (output): BertSelfOutput(\n",
            "              (dense): Linear(in_features=768, out_features=768, bias=True)\n",
            "              (LayerNorm): LayerNorm((768,), eps=1e-12, elementwise_affine=True)\n",
            "              (dropout): Dropout(p=0.1, inplace=False)\n",
            "            )\n",
            "          )\n",
            "          (intermediate): BertIntermediate(\n",
            "            (dense): Linear(in_features=768, out_features=3072, bias=True)\n",
            "          )\n",
            "          (output): BertOutput(\n",
            "            (dense): Linear(in_features=3072, out_features=768, bias=True)\n",
            "            (LayerNorm): LayerNorm((768,), eps=1e-12, elementwise_affine=True)\n",
            "            (dropout): Dropout(p=0.1, inplace=False)\n",
            "          )\n",
            "        )\n",
            "        (11): BertLayer(\n",
            "          (attention): BertAttention(\n",
            "            (self): BertSelfAttention(\n",
            "              (query): Linear(in_features=768, out_features=768, bias=True)\n",
            "              (key): Linear(in_features=768, out_features=768, bias=True)\n",
            "              (value): Linear(in_features=768, out_features=768, bias=True)\n",
            "              (dropout): Dropout(p=0.1, inplace=False)\n",
            "            )\n",
            "            (output): BertSelfOutput(\n",
            "              (dense): Linear(in_features=768, out_features=768, bias=True)\n",
            "              (LayerNorm): LayerNorm((768,), eps=1e-12, elementwise_affine=True)\n",
            "              (dropout): Dropout(p=0.1, inplace=False)\n",
            "            )\n",
            "          )\n",
            "          (intermediate): BertIntermediate(\n",
            "            (dense): Linear(in_features=768, out_features=3072, bias=True)\n",
            "          )\n",
            "          (output): BertOutput(\n",
            "            (dense): Linear(in_features=3072, out_features=768, bias=True)\n",
            "            (LayerNorm): LayerNorm((768,), eps=1e-12, elementwise_affine=True)\n",
            "            (dropout): Dropout(p=0.1, inplace=False)\n",
            "          )\n",
            "        )\n",
            "      )\n",
            "    )\n",
            "  )\n",
            "  (qa_outputs): Linear(in_features=768, out_features=2, bias=True)\n",
            ")\n"
          ],
          "name": "stdout"
        }
      ]
    },
    {
      "cell_type": "markdown",
      "metadata": {
        "id": "KvBPQ9ytQLkS"
      },
      "source": [
        "## 6.5 - Fine-Tune on Question Answering"
      ]
    },
    {
      "cell_type": "markdown",
      "metadata": {
        "id": "CKMFi-Oy3JHL"
      },
      "source": [
        "Now it is the moment to train the model for our specific task. We can use an instance of [`Trainer`](https://huggingface.co/transformers/main_classes/trainer.html?highlight=trainer#transformers.Trainer) class in order to avoid many lines of code. The most important is the [`TrainingArguments`](https://huggingface.co/transformers/main_classes/trainer.html#transformers.TrainingArguments), which is a class that contains all the attributes to customize the training. It requires one folder name, which will be used to save the checkpoints of the model, and all other arguments are optional."
      ]
    },
    {
      "cell_type": "code",
      "metadata": {
        "id": "aUKFtfhi58BY"
      },
      "source": [
        "from transformers import TrainingArguments"
      ],
      "execution_count": null,
      "outputs": []
    },
    {
      "cell_type": "code",
      "metadata": {
        "id": "qNvT62_G3SMm"
      },
      "source": [
        "#@title 6.5.1 - Hyperparameters Selection\n",
        "batch_size =  16#@param {type:\"integer\"}\n",
        "learning_rate = 5e-5 #@param {type:\"number\"}\n",
        "epochs =  3#@param {type:\"integer\"}\n",
        "epsilon = 1e-8 #@param {type:\"number\"}\n",
        "weight_decay=0.01 #@param {type:\"number\"}\n",
        "qa_dir = Path('question_answering')\n",
        "strategy = 'epoch'\n",
        "\n",
        "args = TrainingArguments(\n",
        "    qa_dir,\n",
        "    evaluation_strategy = strategy,\n",
        "    learning_rate=learning_rate,\n",
        "    per_device_train_batch_size=batch_size,\n",
        "    per_device_eval_batch_size=batch_size,\n",
        "    num_train_epochs=epochs,\n",
        "    weight_decay=weight_decay,\n",
        "    logging_dir= 'squad_logs',\n",
        "    logging_strategy=strategy,\n",
        "    load_best_model_at_end=True\n",
        ")"
      ],
      "execution_count": null,
      "outputs": []
    },
    {
      "cell_type": "markdown",
      "metadata": {
        "id": "Gzb8iZf5LQQg"
      },
      "source": [
        "For example, in this case we set the evaluation to be done at the end of each epoch in `evaluation_strategy`. Customize batch size per GPU core for training `per_device_train_batch_size` and evaluation `per_device_eval_batch_size`. In addition to give values for the total number of epochs to perform `num_train_epohs`, `learning_rate` and `weight_decay`."
      ]
    },
    {
      "cell_type": "markdown",
      "metadata": {
        "id": "-DUzYVcWPV5Z"
      },
      "source": [
        "Then it is only needed to pass the arguments and dataset to [`Trainer`](https://huggingface.co/transformers/main_classes/trainer.html?highlight=trainer#transformers.Trainer). The data collator will batch our processed examples together. The tokenizer is used again in order to perfom padding according to the model's preferences: rigth or left and with which token."
      ]
    },
    {
      "cell_type": "code",
      "metadata": {
        "id": "lRjT5yTnZDI6"
      },
      "source": [
        "from transformers import Trainer, default_data_collator"
      ],
      "execution_count": null,
      "outputs": []
    },
    {
      "cell_type": "code",
      "metadata": {
        "id": "lcSaL_qe6HI9"
      },
      "source": [
        "trainer = Trainer(\n",
        "    bert_qa,\n",
        "    args,\n",
        "    train_dataset=tokenized_datasets[\"train\"],\n",
        "    eval_dataset=tokenized_datasets[\"validation\"],\n",
        "    data_collator=default_data_collator,\n",
        "    tokenizer=tokenizer\n",
        ")"
      ],
      "execution_count": null,
      "outputs": []
    },
    {
      "cell_type": "markdown",
      "metadata": {
        "id": "UDFqOt-4QW8q"
      },
      "source": [
        "In order to fine-tune the model it is only required to call the [`train`](https://huggingface.co/transformers/main_classes/trainer.html?highlight=trainer#transformers.Trainer.train) method for [`Trainer`](https://huggingface.co/transformers/main_classes/trainer.html?highlight=trainer#transformers.Trainer)."
      ]
    },
    {
      "cell_type": "code",
      "metadata": {
        "colab": {
          "base_uri": "https://localhost:8080/",
          "height": 219
        },
        "id": "-kiqohIHQc2R",
        "outputId": "05a8d11e-b449-470d-e2e8-1c7bd4a25d08"
      },
      "source": [
        "info_device()    \n",
        "out = trainer.train()"
      ],
      "execution_count": null,
      "outputs": [
        {
          "output_type": "stream",
          "text": [
            "\n",
            "Using GPU Tesla P100-PCIE-16GB. \n",
            "\n"
          ],
          "name": "stdout"
        },
        {
          "output_type": "display_data",
          "data": {
            "text/html": [
              "\n",
              "    <div>\n",
              "      \n",
              "      <progress value='11124' max='11124' style='width:300px; height:20px; vertical-align: middle;'></progress>\n",
              "      [11124/11124 2:07:15, Epoch 3/3]\n",
              "    </div>\n",
              "    <table border=\"1\" class=\"dataframe\">\n",
              "  <thead>\n",
              "    <tr style=\"text-align: left;\">\n",
              "      <th>Epoch</th>\n",
              "      <th>Training Loss</th>\n",
              "      <th>Validation Loss</th>\n",
              "    </tr>\n",
              "  </thead>\n",
              "  <tbody>\n",
              "    <tr>\n",
              "      <td>1</td>\n",
              "      <td>1.336300</td>\n",
              "      <td>1.053371</td>\n",
              "    </tr>\n",
              "    <tr>\n",
              "      <td>2</td>\n",
              "      <td>0.727300</td>\n",
              "      <td>1.065886</td>\n",
              "    </tr>\n",
              "    <tr>\n",
              "      <td>3</td>\n",
              "      <td>0.409800</td>\n",
              "      <td>1.289591</td>\n",
              "    </tr>\n",
              "  </tbody>\n",
              "</table><p>"
            ],
            "text/plain": [
              "<IPython.core.display.HTML object>"
            ]
          },
          "metadata": {
            "tags": []
          }
        }
      ]
    },
    {
      "cell_type": "markdown",
      "metadata": {
        "id": "RFsuoranIfjQ"
      },
      "source": [
        "Now it is necesary to perform some operation to get the final results. We need to load the saved checkpoint and extract the information. Mention Hugging Face does not provide the training time per epoch, only total one. Due to that, we assume an equal distribution of time in each epoch."
      ]
    },
    {
      "cell_type": "code",
      "metadata": {
        "id": "rHbVFmrCCOqc"
      },
      "source": [
        "checkpoint = qa_dir/f'checkpoint-{out.global_step}/trainer_state.json'\n",
        "\n",
        "with open(checkpoint) as json_file:\n",
        "    train_dic = json.load(json_file)\n",
        "\n",
        "total_train_time = out.metrics['train_runtime']\n",
        "training_stats = []\n",
        "for i in range(epochs):\n",
        "    training_stats.append(\n",
        "                {\n",
        "                    'epoch': i + 1,\n",
        "                    'Training Loss': train_dic['log_history'][i*2]['loss'],\n",
        "                    'Validation Loss': train_dic['log_history'][i*2+1]['eval_loss'],\n",
        "                    'Validation Time':  format_time(train_dic['log_history'][i*2+1]['eval_runtime'])\n",
        "                }\n",
        "    )"
      ],
      "execution_count": null,
      "outputs": []
    },
    {
      "cell_type": "code",
      "metadata": {
        "id": "IfjbYPTqDt4w",
        "colab": {
          "base_uri": "https://localhost:8080/",
          "height": 173
        },
        "outputId": "0c778796-3289-42cf-a730-ddc825b2cbe6"
      },
      "source": [
        "# Create a DataFrame from our training statistics.\n",
        "df_stats = pd.DataFrame(data=training_stats)\n",
        "df_stats['Training Time'] = format_time(total_train_time/epochs)\n",
        "\n",
        "# Use the 'epoch' as the row index.\n",
        "df_stats = df_stats.set_index('epoch')\n",
        "df_stats = df_stats[['Training Loss', 'Validation Loss', 'Training Time', 'Validation Time']]\n",
        "\n",
        "# Save data frame\n",
        "df_stats.to_excel(qa_dir/'training_stats.xlsx')\n",
        "\n",
        "df_stats"
      ],
      "execution_count": null,
      "outputs": [
        {
          "output_type": "execute_result",
          "data": {
            "text/html": [
              "<div>\n",
              "<style scoped>\n",
              "    .dataframe tbody tr th:only-of-type {\n",
              "        vertical-align: middle;\n",
              "    }\n",
              "\n",
              "    .dataframe tbody tr th {\n",
              "        vertical-align: top;\n",
              "    }\n",
              "\n",
              "    .dataframe thead th {\n",
              "        text-align: right;\n",
              "    }\n",
              "</style>\n",
              "<table border=\"1\" class=\"dataframe\">\n",
              "  <thead>\n",
              "    <tr style=\"text-align: right;\">\n",
              "      <th></th>\n",
              "      <th>Training Loss</th>\n",
              "      <th>Validation Loss</th>\n",
              "      <th>Training Time</th>\n",
              "      <th>Validation Time</th>\n",
              "    </tr>\n",
              "    <tr>\n",
              "      <th>epoch</th>\n",
              "      <th></th>\n",
              "      <th></th>\n",
              "      <th></th>\n",
              "      <th></th>\n",
              "    </tr>\n",
              "  </thead>\n",
              "  <tbody>\n",
              "    <tr>\n",
              "      <th>1</th>\n",
              "      <td>1.3363</td>\n",
              "      <td>1.053371</td>\n",
              "      <td>0:42:26</td>\n",
              "      <td>0:02:20</td>\n",
              "    </tr>\n",
              "    <tr>\n",
              "      <th>2</th>\n",
              "      <td>0.7273</td>\n",
              "      <td>1.065886</td>\n",
              "      <td>0:42:26</td>\n",
              "      <td>0:02:20</td>\n",
              "    </tr>\n",
              "    <tr>\n",
              "      <th>3</th>\n",
              "      <td>0.4098</td>\n",
              "      <td>1.289591</td>\n",
              "      <td>0:42:26</td>\n",
              "      <td>0:02:20</td>\n",
              "    </tr>\n",
              "  </tbody>\n",
              "</table>\n",
              "</div>"
            ],
            "text/plain": [
              "       Training Loss  Validation Loss Training Time Validation Time\n",
              "epoch                                                              \n",
              "1             1.3363         1.053371       0:42:26         0:02:20\n",
              "2             0.7273         1.065886       0:42:26         0:02:20\n",
              "3             0.4098         1.289591       0:42:26         0:02:20"
            ]
          },
          "metadata": {
            "tags": []
          },
          "execution_count": 117
        }
      ]
    },
    {
      "cell_type": "code",
      "metadata": {
        "id": "DzyvvSLKHdGF",
        "colab": {
          "base_uri": "https://localhost:8080/",
          "height": 427
        },
        "outputId": "e8701177-a497-4566-a305-245fb5e99be7"
      },
      "source": [
        "plot_loss_curves(df_stats)"
      ],
      "execution_count": null,
      "outputs": [
        {
          "output_type": "display_data",
          "data": {
            "image/png": "[encoded data removed]",
            "text/plain": [
              "<Figure size 864x432 with 1 Axes>"
            ]
          },
          "metadata": {
            "tags": []
          }
        }
      ]
    },
    {
      "cell_type": "markdown",
      "metadata": {
        "id": "-mSjPuJZ-XTl"
      },
      "source": [
        "### 6.5.2 - Save Model"
      ]
    },
    {
      "cell_type": "markdown",
      "metadata": {
        "id": "w13kj3lHKLIv"
      },
      "source": [
        "Save the model and the corresponding state."
      ]
    },
    {
      "cell_type": "code",
      "metadata": {
        "id": "k4KKmHUcJeQv",
        "colab": {
          "base_uri": "https://localhost:8080/"
        },
        "outputId": "b2deb9d1-04c4-486d-e24f-c344f4a435fa"
      },
      "source": [
        "print('Saving model, tokenizer and training arguments...')\n",
        "trainer.save_model()\n",
        "trainer.save_state()\n",
        "\n",
        "print('Saving training statistics..')\n",
        "save_json(qa_dir/'training_stats.json', training_stats)"
      ],
      "execution_count": null,
      "outputs": [
        {
          "output_type": "stream",
          "text": [
            "Saving model, tokenizer and training arguments...\n",
            "Saving training statistics..\n"
          ],
          "name": "stdout"
        }
      ]
    },
    {
      "cell_type": "markdown",
      "metadata": {
        "id": "jv56bYwLH1IG"
      },
      "source": [
        "## 6.6 - Evaluation of the Model"
      ]
    },
    {
      "cell_type": "markdown",
      "metadata": {
        "id": "6xr8LoOJWdpV"
      },
      "source": [
        "Once the model is trained, in order to perform the predictions and get an intuition about the result, we need to map the predictions back to parts of the context. The model itself predicts logits for the start and end position of our answers. The output of the model is a dict-like object that contains the cross-entropy loss (since we provided labels), the start and end logits. "
      ]
    },
    {
      "cell_type": "code",
      "metadata": {
        "id": "FZ2CpVHdH5Ic",
        "colab": {
          "base_uri": "https://localhost:8080/"
        },
        "outputId": "4286a080-3dee-4ae6-8544-defffdb1473f"
      },
      "source": [
        "for batch in trainer.get_test_dataloader(tokenized_datasets['test']):\n",
        "    break\n",
        "batch = {k: v.to(trainer.args.device) for k, v in batch.items()}\n",
        "with torch.no_grad():\n",
        "    output = bert_qa(**batch)\n",
        "\n",
        "print('Output of the model')\n",
        "print(output.keys())\n",
        "print('\\nDimension start and end logits')\n",
        "print(tuple(output.start_logits.shape))"
      ],
      "execution_count": null,
      "outputs": [
        {
          "output_type": "stream",
          "text": [
            "Output of the model\n",
            "odict_keys(['loss', 'start_logits', 'end_logits'])\n",
            "\n",
            "Dimension start and end logits\n",
            "(16, 384)\n"
          ],
          "name": "stdout"
        }
      ]
    },
    {
      "cell_type": "markdown",
      "metadata": {
        "id": "e_dH31wtYt8U"
      },
      "source": [
        "There is one logit per feature and token. One idea to predict an answer is to take the index for the maximum of the start logits as a star position and the index of the maximum of the ends logits as an end position. The problem is if this prediction gives us an impossible result, as a greater start position than the end one.\n",
        "\n",
        "To classify the answer, we add the start and end logits to obtain a score. With hyper-parameter `n_best_size` we limit the possible answers. Best indices in the start and end logits are picked and gather all the answers this predicts. After checking if each one is valid, we can sort the `valid_answers` according to their `score` and only keep the best one."
      ]
    },
    {
      "cell_type": "markdown",
      "metadata": {
        "id": "8mwi1uEyE7Fo"
      },
      "source": [
        "The only point left is how to check a given span is inside the context (and not the question) and how to get back the text inside. To do this, we need to add two things to our validation features:\n",
        "- the ID of the example that generated the feature (since each example can generate several features, as seen before);\n",
        "- the offset mapping that will give us a map from token indices to character positions in the context.\n",
        "\n",
        "That's why we will re-process the validation set with the following function."
      ]
    },
    {
      "cell_type": "code",
      "metadata": {
        "id": "yQVj0dCbNJbl"
      },
      "source": [
        "def prepare_test_features(examples):\n",
        "    # Tokenize our examples with truncation and maybe padding, but keep the overflows using a stride. This results\n",
        "    # in one example possible giving several features when a context is long, each of those features having a\n",
        "    # context that overlaps a bit the context of the previous feature.\n",
        "    tokenized_examples = tokenizer(\n",
        "        examples[\"question\"],\n",
        "        examples[\"context\"],\n",
        "        truncation=\"only_second\",\n",
        "        max_length=MAX_LENGTH,\n",
        "        stride=DOC_STRIDE,\n",
        "        return_overflowing_tokens=True,\n",
        "        return_offsets_mapping=True,\n",
        "        padding='max_length'\n",
        "    )\n",
        "\n",
        "    # Since one example might give us several features if it has a long context, we need a map from a feature to\n",
        "    # its corresponding example. This key gives us just that.\n",
        "    sample_mapping = tokenized_examples.pop(\"overflow_to_sample_mapping\")\n",
        "\n",
        "    # We keep the example_id that gave us this feature and we will store the offset mappings.\n",
        "    tokenized_examples[\"example_id\"] = []\n",
        "\n",
        "    for i in range(len(tokenized_examples[\"input_ids\"])):\n",
        "        # Grab the sequence corresponding to that example (to know what is the context and what is the question).\n",
        "        sequence_ids = tokenized_examples.sequence_ids(i)\n",
        "\n",
        "        # One example can give several spans, this is the index of the example containing this span of text.\n",
        "        sample_index = sample_mapping[i]\n",
        "        tokenized_examples[\"example_id\"].append(examples[\"id\"][sample_index])\n",
        "\n",
        "        # Set to None the offset_mapping that are not part of the context so it's easy to determine if a token\n",
        "        # position is part of the context or not.\n",
        "        tokenized_examples[\"offset_mapping\"][i] = [\n",
        "            (o if sequence_ids[k] == 1 else None)\n",
        "            for k, o in enumerate(tokenized_examples[\"offset_mapping\"][i])\n",
        "        ]\n",
        "\n",
        "    return tokenized_examples"
      ],
      "execution_count": null,
      "outputs": []
    },
    {
      "cell_type": "markdown",
      "metadata": {
        "id": "P1oLfP50bSAU"
      },
      "source": [
        "And like before, we can apply that function to our test set easily."
      ]
    },
    {
      "cell_type": "code",
      "metadata": {
        "id": "8ysa43PrQhhE",
        "colab": {
          "base_uri": "https://localhost:8080/",
          "height": 66,
          "referenced_widgets": [
            "b79f4abd93cf4694908f04f82100d8e3",
            "e5417262ec164e7c8afcc668810af42d",
            "0555bca300d1466aad538965818b01e6",
            "522fc8cf79b144c2a950c27523594972",
            "30b34b78dd3f4904ad4174bc335aac7f",
            "ac6c58d2182c450b9797c1cafb70bedb",
            "4ca84699247f4878a4665d2cc42938ad",
            "6ac76a04d4d54c90b0f80929030249fd"
          ]
        },
        "outputId": "4a4f03b2-625f-4ac2-c546-3a72f3085722"
      },
      "source": [
        "test_features = datasets['test'].map(\n",
        "    prepare_test_features,\n",
        "    batched=True,\n",
        "    load_from_cache_file=False,\n",
        "    remove_columns=datasets['test'].column_names\n",
        ")\n",
        "test_features = test_features.add_column('start_positions', tokenized_datasets['test']['start_positions'])\n",
        "test_features = test_features.add_column('end_positions', tokenized_datasets['test']['end_positions'])"
      ],
      "execution_count": null,
      "outputs": [
        {
          "output_type": "display_data",
          "data": {
            "application/vnd.jupyter.widget-view+json": {
              "model_id": "b79f4abd93cf4694908f04f82100d8e3",
              "version_minor": 0,
              "version_major": 2
            },
            "text/plain": [
              "HBox(children=(FloatProgress(value=0.0, max=29.0), HTML(value='')))"
            ]
          },
          "metadata": {
            "tags": []
          }
        },
        {
          "output_type": "stream",
          "text": [
            "\n"
          ],
          "name": "stdout"
        }
      ]
    },
    {
      "cell_type": "markdown",
      "metadata": {
        "id": "dnN3-DI6bXG2"
      },
      "source": [
        "Now we can get the predictions and the metrics for all features by using the [`predict`](https://huggingface.co/transformers/main_classes/trainer.html?highlight=trainer%20predict#transformers.Trainer.predict)."
      ]
    },
    {
      "cell_type": "code",
      "metadata": {
        "id": "a7aw7mq9RM0F",
        "colab": {
          "base_uri": "https://localhost:8080/",
          "height": 224
        },
        "outputId": "8c214949-cce2-4375-9281-8649a75d5b98"
      },
      "source": [
        "info_device()\n",
        "print('Testing\\n')\n",
        "raw_predictions = trainer.predict(test_features)\n",
        "\n",
        "test_stats = {\n",
        "    'test_loss': raw_predictions.metrics['test_loss'],\n",
        "    'test_runtime': format_time(raw_predictions.metrics['test_runtime'])\n",
        "}\n",
        "\n",
        "print('\\n')\n",
        "print(f\"{'Test Loss':^12} | {'Test time':^11}\")\n",
        "print(\"-\"*27)\n",
        "print(f\"{test_stats['test_loss']:^12.6f} | {test_stats['test_runtime']:^11}\")\n",
        "print(\"-\"*27)"
      ],
      "execution_count": null,
      "outputs": [
        {
          "output_type": "stream",
          "text": [
            "\n",
            "Using GPU Tesla P100-PCIE-16GB. \n",
            "\n",
            "Testing\n",
            "\n"
          ],
          "name": "stdout"
        },
        {
          "output_type": "display_data",
          "data": {
            "text/html": [
              "\n",
              "    <div>\n",
              "      \n",
              "      <progress value='1825' max='1825' style='width:300px; height:20px; vertical-align: middle;'></progress>\n",
              "      [1825/1825 06:45]\n",
              "    </div>\n",
              "    "
            ],
            "text/plain": [
              "<IPython.core.display.HTML object>"
            ]
          },
          "metadata": {
            "tags": []
          }
        },
        {
          "output_type": "stream",
          "text": [
            "\n",
            "\n",
            " Test Loss   |  Test time \n",
            "---------------------------\n",
            "  1.004139   |   0:06:46  \n",
            "---------------------------\n"
          ],
          "name": "stdout"
        }
      ]
    },
    {
      "cell_type": "code",
      "metadata": {
        "id": "-tq29b5KZJQ9",
        "colab": {
          "base_uri": "https://localhost:8080/"
        },
        "outputId": "f159030d-77b9-4646-d215-5a491b4b206d"
      },
      "source": [
        "print('Saving test statistics...')\n",
        "save_json(qa_dir/'test_stats.json', test_stats)"
      ],
      "execution_count": null,
      "outputs": [
        {
          "output_type": "stream",
          "text": [
            "Saving test statistics...\n"
          ],
          "name": "stdout"
        }
      ]
    },
    {
      "cell_type": "markdown",
      "metadata": {
        "id": "qbG4KyzJbut_"
      },
      "source": [
        "The `Trainer` *hides* the columns that are not used by the model (here `example_id` and `offset_mapping` which we will need for our post-processing), so we set them back:"
      ]
    },
    {
      "cell_type": "code",
      "metadata": {
        "id": "s0d33x7Me3OW"
      },
      "source": [
        "test_features.set_format(type=test_features.format[\"type\"], columns=list(test_features.features.keys()))"
      ],
      "execution_count": null,
      "outputs": []
    },
    {
      "cell_type": "markdown",
      "metadata": {
        "id": "YkeV1CEqcHsW"
      },
      "source": [
        "We set `None` in the offset mappings when it corresponds to a part of the question, so it's easy to check if an answer is fully inside the context. We also eliminate very long answers from our considerations with hyper-parameter `max_answer_length`.\n",
        "\n",
        "We also need a map between examples and their corresponding features. Also, we gather together all the answers in all the features generated by a given example, then pick the best one.\n",
        "\n",
        "The last bit to deal with is the impossible answer (when `squad_v2 = True`). We need to also grab the score for the impossible answer (which has start and end indices corresponding to the index of the CLS token). When one example gives several features, we have to predict the impossible answer when all the features give a high score to the impossible answer, since one feature could predict the impossible answer just because the answer isn't in the part of the context it has access too. We then predict the impossible answer when that score is greater than the score of the best non-impossible answer. "
      ]
    },
    {
      "cell_type": "code",
      "metadata": {
        "id": "OpR-1V_cwz8O"
      },
      "source": [
        "import collections\n",
        "from tqdm.auto import tqdm\n",
        "\n",
        "def postprocess_predictions(examples, features, raw_predictions, n_best_size = 20, max_answer_length = 30):\n",
        "    m = nn.Softmax(dim=1)\n",
        "    all_start_logits, all_end_logits = raw_predictions\n",
        "    # Build a map example to its corresponding features.\n",
        "    example_id_to_index = {k: i for i, k in enumerate(examples[\"id\"])}\n",
        "    features_per_example = collections.defaultdict(list)\n",
        "    for i, feature in enumerate(features):\n",
        "        features_per_example[example_id_to_index[feature[\"example_id\"]]].append(i)\n",
        "\n",
        "    # The dictionaries we have to fill.\n",
        "    predictions = collections.OrderedDict()\n",
        "\n",
        "    # Logging.\n",
        "    print(f\"Post-processing {len(examples)} example predictions split into {len(features)} features.\")\n",
        "\n",
        "    # Let's loop over all the examples!\n",
        "    for example_index, example in enumerate(tqdm(examples)):\n",
        "        # Those are the indices of the features associated to the current example.\n",
        "        feature_indices = features_per_example[example_index]\n",
        "\n",
        "        min_null_score = None # Only used if squad_v2 is True.\n",
        "        valid_answers = []\n",
        "        \n",
        "        context = example[\"context\"]\n",
        "        # Looping through all the features associated to the current example.\n",
        "        for feature_index in feature_indices:\n",
        "            # We grab the predictions of the model for this feature.\n",
        "            start_logits = all_start_logits[feature_index]\n",
        "            end_logits = all_end_logits[feature_index]\n",
        "            # This is what will allow us to map some the positions in our logits to span of texts in the original\n",
        "            # context.\n",
        "            offset_mapping = features[feature_index][\"offset_mapping\"]\n",
        "\n",
        "            # Update minimum null prediction.\n",
        "            cls_index = features[feature_index][\"input_ids\"].index(tokenizer.cls_token_id)\n",
        "            feature_null_score = start_logits[cls_index] + end_logits[cls_index]\n",
        "            if min_null_score is None or min_null_score < feature_null_score:\n",
        "                min_null_score = feature_null_score\n",
        "\n",
        "            # Go through all possibilities for the `n_best_size` greater start and end logits.\n",
        "            start_indexes = np.argsort(start_logits)[-1 : -n_best_size - 1 : -1].tolist()\n",
        "            end_indexes = np.argsort(end_logits)[-1 : -n_best_size - 1 : -1].tolist()\n",
        "            for start_index in start_indexes:\n",
        "                for end_index in end_indexes:\n",
        "                    # Don't consider out-of-scope answers, either because the indices are out of bounds or correspond\n",
        "                    # to part of the input_ids that are not in the context.\n",
        "                    if (\n",
        "                        start_index >= len(offset_mapping)\n",
        "                        or end_index >= len(offset_mapping)\n",
        "                        or offset_mapping[start_index] is None\n",
        "                        or offset_mapping[end_index] is None\n",
        "                    ):\n",
        "                        continue\n",
        "                    # Don't consider answers with a length that is either < 0 or > max_answer_length.\n",
        "                    if end_index < start_index or end_index - start_index + 1 > max_answer_length:\n",
        "                        continue\n",
        "\n",
        "                    start_char = offset_mapping[start_index][0]\n",
        "                    end_char = offset_mapping[end_index][1]\n",
        "                    valid_answers.append(\n",
        "                        {\n",
        "                            \"score\": start_logits[start_index] + end_logits[end_index],\n",
        "                            \"text\": context[start_char: end_char]\n",
        "                        }\n",
        "                    )\n",
        "        \n",
        "        if len(valid_answers) > 0:\n",
        "            best_answer = sorted(valid_answers, key=lambda x: x[\"score\"], reverse=True)[0]\n",
        "        else:\n",
        "            # In the very rare edge case we have not a single non-null prediction, we create a fake prediction to avoid\n",
        "            # failure.\n",
        "            best_answer = {\"text\": \"\", \"score\": 0.0}\n",
        "\n",
        "        # Let's pick our final answer: the best one or the null answer (only for squad_v2)\n",
        "        if not squad_v2:\n",
        "            predictions[example[\"id\"]] = best_answer[\"text\"]\n",
        "        else:\n",
        "            predictions[example[\"id\"]] = best_answer[\"text\"] if best_answer[\"score\"] > min_null_score else ''\n",
        "\n",
        "    return predictions"
      ],
      "execution_count": null,
      "outputs": []
    },
    {
      "cell_type": "markdown",
      "metadata": {
        "id": "4MbIqiaakkbH"
      },
      "source": [
        "And we can apply our post-processing function to our raw predictions:"
      ]
    },
    {
      "cell_type": "code",
      "metadata": {
        "id": "trrh8PkOerpE",
        "colab": {
          "base_uri": "https://localhost:8080/",
          "height": 83,
          "referenced_widgets": [
            "9c420c3bfa424906bfa494b226e2907a",
            "20d6490579914d69b003a553cadf1644",
            "5acee8e2818646c18e6dc08d5dc3a94c",
            "5e52156ead384641aff0366d800c935e",
            "e4bdf4e8f4ee4eb19a0b5ac0ae4a2d96",
            "237ffb1f0cfc4375ab4d6a3c42e8cfa6",
            "fe4f75b3aa594325aeb80063c0bafb9d",
            "15d6ee18dbb74c75bb16c78e33484abc"
          ]
        },
        "outputId": "eca9a510-cdae-4f13-855d-df921c649386"
      },
      "source": [
        "final_predictions = postprocess_predictions(datasets['test'], test_features, raw_predictions.predictions)"
      ],
      "execution_count": null,
      "outputs": [
        {
          "output_type": "stream",
          "text": [
            "Post-processing 28908 example predictions split into 29197 features.\n"
          ],
          "name": "stdout"
        },
        {
          "output_type": "display_data",
          "data": {
            "application/vnd.jupyter.widget-view+json": {
              "model_id": "9c420c3bfa424906bfa494b226e2907a",
              "version_minor": 0,
              "version_major": 2
            },
            "text/plain": [
              "HBox(children=(FloatProgress(value=0.0, max=28908.0), HTML(value='')))"
            ]
          },
          "metadata": {
            "tags": []
          }
        },
        {
          "output_type": "stream",
          "text": [
            "\n"
          ],
          "name": "stdout"
        }
      ]
    },
    {
      "cell_type": "markdown",
      "metadata": {
        "id": "RHwf6B2iNKDI"
      },
      "source": [
        "Now it is necessary to indicate how to compute metrics from the predictions. We use a [`metric`](https://huggingface.co/docs/datasets/package_reference/main_classes.html#datasets.Metric) which is in charge of compute the corresponding metrics for each model. We load it using the class method [`load_metric`](https://huggingface.co/docs/datasets/v1.4.1/package_reference/loading_methods.html?highlight=load_metric#datasets.load_metric)."
      ]
    },
    {
      "cell_type": "code",
      "metadata": {
        "id": "cu29AdtVe-kd",
        "colab": {
          "base_uri": "https://localhost:8080/",
          "height": 577,
          "referenced_widgets": [
            "83c5de0bd35c480fb448c90f2c16c51f",
            "1a21f1dc66124e63a9b4952f30bd1166",
            "807de3b18c7d41c9b11e45bdcfe11935",
            "62a57b34b2fe4d1a8a2d128a8ba17cea",
            "ad944b55b2a24c34a3dafb9852202857",
            "ed80463428864e0fa11b67f034c08963",
            "ba1bf85fa0644758aa6abe5b807ea69a",
            "e63fa7ac974e4d23aec70a65252f618d",
            "ce5ba1af33684a328f83a33d7888841f",
            "cade3114c79e4bc692ca31e2eb1ee8ff",
            "dfeb105a607f49a59ffafdb08bdef022",
            "58e29c1f24b04521bde60aa8c9f6441b",
            "6b8fc7f02aad4816acdbe991251a052c",
            "505d0af9bbda41598afdffddc36095e4",
            "70dc6ac663a54e718adb1315ff36da0f",
            "caf02f85fb02418a850e3776b0709188"
          ]
        },
        "outputId": "d3daac41-5171-4673-d1d1-77e5d0a03695"
      },
      "source": [
        "from datasets import load_metric\n",
        "\n",
        "metric = load_metric(\"squad_v2\" if squad_v2 else \"squad\")\n",
        "metric"
      ],
      "execution_count": null,
      "outputs": [
        {
          "output_type": "display_data",
          "data": {
            "application/vnd.jupyter.widget-view+json": {
              "model_id": "83c5de0bd35c480fb448c90f2c16c51f",
              "version_minor": 0,
              "version_major": 2
            },
            "text/plain": [
              "HBox(children=(FloatProgress(value=0.0, description='Downloading', max=1726.0, style=ProgressStyle(description…"
            ]
          },
          "metadata": {
            "tags": []
          }
        },
        {
          "output_type": "stream",
          "text": [
            "\n"
          ],
          "name": "stdout"
        },
        {
          "output_type": "display_data",
          "data": {
            "application/vnd.jupyter.widget-view+json": {
              "model_id": "ce5ba1af33684a328f83a33d7888841f",
              "version_minor": 0,
              "version_major": 2
            },
            "text/plain": [
              "HBox(children=(FloatProgress(value=0.0, description='Downloading', max=1119.0, style=ProgressStyle(description…"
            ]
          },
          "metadata": {
            "tags": []
          }
        },
        {
          "output_type": "stream",
          "text": [
            "\n"
          ],
          "name": "stdout"
        },
        {
          "output_type": "execute_result",
          "data": {
            "text/plain": [
              "Metric(name: \"squad\", features: {'predictions': {'id': Value(dtype='string', id=None), 'prediction_text': Value(dtype='string', id=None)}, 'references': {'id': Value(dtype='string', id=None), 'answers': Sequence(feature={'text': Value(dtype='string', id=None), 'answer_start': Value(dtype='int32', id=None)}, length=-1, id=None)}}, usage: \"\"\"\n",
              "Computes SQuAD scores (F1 and EM).\n",
              "Args:\n",
              "    predictions: List of question-answers dictionaries with the following key-values:\n",
              "        - 'id': id of the question-answer pair as given in the references (see below)\n",
              "        - 'prediction_text': the text of the answer\n",
              "    references: List of question-answers dictionaries with the following key-values:\n",
              "        - 'id': id of the question-answer pair (see above),\n",
              "        - 'answers': a Dict in the SQuAD dataset format\n",
              "            {\n",
              "                'text': list of possible texts for the answer, as a list of strings\n",
              "                'answer_start': list of start positions for the answer, as a list of ints\n",
              "            }\n",
              "            Note that answer_start values are not taken into account to compute the metric.\n",
              "Returns:\n",
              "    'exact_match': Exact match (the normalized answer exactly match the gold answer)\n",
              "    'f1': The F-score of predicted tokens versus the gold answer\n",
              "Examples:\n",
              "\n",
              "    >>> predictions = [{'prediction_text': '1976', 'id': '56e10a3be3433e1400422b22'}]\n",
              "    >>> references = [{'answers': {'answer_start': [97], 'text': ['1976']}, 'id': '56e10a3be3433e1400422b22'}]\n",
              "    >>> squad_metric = datasets.load_metric(\"squad\")\n",
              "    >>> results = squad_metric.compute(predictions=predictions, references=references)\n",
              "    >>> print(results)\n",
              "    {'exact_match': 100.0, 'f1': 100.0}\n",
              "\"\"\", stored examples: 0)"
            ]
          },
          "metadata": {
            "tags": []
          },
          "execution_count": 128
        }
      ]
    },
    {
      "cell_type": "markdown",
      "metadata": {
        "id": "xrcNU7OykqAU"
      },
      "source": [
        "We just need to format predictions and labels a bit as it expects a list of dictionaries and not one big dictionary. In the case of squad_v2, we also have to set a `no_answer_probability` argument which we set to 0.0.\n",
        "\n",
        "Metrics computation returns:\n",
        "    \n",
        "- `exact_match`: exact match (the normalized answer exactly match the gold answer).\n",
        "\n",
        "- `f1`: the F-score of predicted tokens versus the gold answer."
      ]
    },
    {
      "cell_type": "code",
      "metadata": {
        "id": "SXzmbIchfLgv",
        "colab": {
          "base_uri": "https://localhost:8080/"
        },
        "outputId": "4461bf04-6262-4684-da4a-9ce6a6406f99"
      },
      "source": [
        "if squad_v2:\n",
        "    formatted_predictions = [{\"id\": k, \"prediction_text\": v, \"no_answer_probability\": 0.0} for k, v in final_predictions.items()]\n",
        "else:\n",
        "    formatted_predictions = [{\"id\": k, \"prediction_text\": v} for k, v in final_predictions.items()]\n",
        "references = [{\"id\": ex[\"id\"], \"answers\": ex[\"answers\"]} for ex in datasets['test']]\n",
        "scores = metric.compute(predictions=formatted_predictions, references=references)\n",
        "\n",
        "print(f\"{'Exact match':^13} | {'f1 score':^10}\")\n",
        "print(26*'-')\n",
        "print(f\"{scores['exact_match']:^13.5f} | {scores['f1']:^10.5f}\")\n",
        "print(26*'-')"
      ],
      "execution_count": null,
      "outputs": [
        {
          "output_type": "stream",
          "text": [
            " Exact match  |  f1 score \n",
            "--------------------------\n",
            "  66.04400    |  79.93587 \n",
            "--------------------------\n"
          ],
          "name": "stdout"
        }
      ]
    },
    {
      "cell_type": "code",
      "metadata": {
        "id": "z70BC9qnnH2I"
      },
      "source": [
        "def show_predictions(dataset, predictions, num_examples):\n",
        "    assert num_examples <= len(dataset), \"Can't pick more elements than there are in the dataset.\"\n",
        "    picks = []\n",
        "    for _ in range(num_examples):\n",
        "        pick = random.randint(0, len(dataset)-1)\n",
        "        while pick in picks:\n",
        "            pick = random.randint(0, len(dataset)-1)\n",
        "        picks.append(pick)\n",
        "    \n",
        "    df = pd.DataFrame(dataset[picks])\n",
        "    df.drop(['id', 'title'], axis=1, inplace=True)\n",
        "    df['answers'] = df['answers'].map(lambda dic: dic['text'][0]).values\n",
        "    df['predicted answers'] = [predictions[idx]['prediction_text'] for idx in picks]\n",
        "    df = df[['context', 'question', 'answers', 'predicted answers']]\n",
        "    for column, typ in dataset.features.items():\n",
        "        if isinstance(typ, ClassLabel):\n",
        "            df[column] = df[column].transform(lambda i: typ.names[i])\n",
        "        elif isinstance(typ, Sequence) and isinstance(typ.feature, ClassLabel):\n",
        "            df[column] = df[column].transform(lambda x: [typ.feature.names[i] for i in x])\n",
        "    display(HTML(df.to_html()))"
      ],
      "execution_count": null,
      "outputs": []
    },
    {
      "cell_type": "code",
      "metadata": {
        "id": "kojOMeuaoi5e",
        "colab": {
          "base_uri": "https://localhost:8080/",
          "height": 380
        },
        "outputId": "62f07a6b-8269-4d62-8a1b-f7cd8e9f4f07"
      },
      "source": [
        "#@markdown Select number of examples to visualize it\n",
        "num_examples = 3 #@param {type:\"slider\", min:1, max:5, step:1}\n",
        "show_predictions(datasets['test'], formatted_predictions, num_examples)"
      ],
      "execution_count": null,
      "outputs": [
        {
          "output_type": "display_data",
          "data": {
            "text/html": [
              "<table border=\"1\" class=\"dataframe\">\n",
              "  <thead>\n",
              "    <tr style=\"text-align: right;\">\n",
              "      <th></th>\n",
              "      <th>context</th>\n",
              "      <th>question</th>\n",
              "      <th>answers</th>\n",
              "      <th>predicted answers</th>\n",
              "    </tr>\n",
              "  </thead>\n",
              "  <tbody>\n",
              "    <tr>\n",
              "      <th>0</th>\n",
              "      <td>As a result of continued warming, the polar ice caps melted and much of Gondwana became a desert. In Eastern Antarctica, seed ferns or pteridosperms became abundant and large amounts of sandstone and shale were laid down at this time. Synapsids, commonly known as \"mammal-like reptiles\", were common in Antarctica during the Early Triassic and included forms such as Lystrosaurus. The Antarctic Peninsula began to form during the Jurassic period (206–146 Ma), and islands gradually rose out of the ocean. Ginkgo trees, conifers, bennettites, horsetails, ferns and cycads were plentiful during this period. In West Antarctica, coniferous forests dominated through the entire Cretaceous period (146–66 Ma), though southern beech became more prominent towards the end of this period. Ammonites were common in the seas around Antarctica, and dinosaurs were also present, though only three Antarctic dinosaur genera (Cryolophosaurus and Glacialisaurus, from the Hanson Formation, and Antarctopelta) have been described to date. It was during this era that Gondwana began to break up.</td>\n",
              "      <td>When did the Antarctic peninsula form?</td>\n",
              "      <td>Jurassic period</td>\n",
              "      <td>Jurassic period</td>\n",
              "    </tr>\n",
              "    <tr>\n",
              "      <th>1</th>\n",
              "      <td>One way to divide hunter-gatherer groups is by their return systems. James Woodburn uses the categories \"immediate return\" hunter-gatherers for egalitarian and \"delayed return\" for nonegalitarian. Immediate return foragers consume their food within a day or two after they procure it. Delayed return foragers store the surplus food (Kelly, 31).</td>\n",
              "      <td>To what kind of group does the delayed return system belong?</td>\n",
              "      <td>nonegalitarian</td>\n",
              "      <td>nonegalitarian</td>\n",
              "    </tr>\n",
              "    <tr>\n",
              "      <th>2</th>\n",
              "      <td>New security features in Windows 8 include two new authentication methods tailored towards touchscreens (PINs and picture passwords), the addition of antivirus capabilities to Windows Defender (bringing it in parity with Microsoft Security Essentials). SmartScreen filtering integrated into Windows, Family Safety offers Parental controls, which allows parents to monitor and manage their children's activities on a device with activity reports and safety controls. Windows 8 also provides integrated system recovery through the new \"Refresh\" and \"Reset\" functions, including system recovery from USB drive. Windows 8's first security patches would be released on November 13, 2012; it would contain three fixes deemed \"critical\" by the company.</td>\n",
              "      <td>What new security features did Windows 8 provide?</td>\n",
              "      <td>PINs and picture passwords</td>\n",
              "      <td>two new authentication methods tailored towards touchscreens</td>\n",
              "    </tr>\n",
              "  </tbody>\n",
              "</table>"
            ],
            "text/plain": [
              "<IPython.core.display.HTML object>"
            ]
          },
          "metadata": {
            "tags": []
          }
        }
      ]
    },
    {
      "cell_type": "markdown",
      "metadata": {
        "id": "CqxEtUppTDNv"
      },
      "source": [
        "### 6.6.1 - Load Model"
      ]
    },
    {
      "cell_type": "markdown",
      "metadata": {
        "id": "cDnAaCuTTLzT"
      },
      "source": [
        "And if we want to load it again."
      ]
    },
    {
      "cell_type": "code",
      "metadata": {
        "id": "Xu8hdE0jTF-r"
      },
      "source": [
        "'''model_dir = \"/content/drive/MyDrive/Degree/TFG/Models/BertForQuestionAnswering\" #@param [\"question_answering\", \"/content/drive/MyDrive/Degree/TFG/Models/BertForQuestionAnswering\"]\n",
        "\n",
        "tokenizer = BertTokenizerFast.from_pretrained(model_dir)\n",
        "bert_qa = BertForQuestionAnswering.from_pretrained(model_dir)\n",
        "trainer = Trainer(bert_qa)\n",
        "bert_qa.to(device)'''"
      ],
      "execution_count": null,
      "outputs": []
    },
    {
      "cell_type": "markdown",
      "metadata": {
        "id": "G5RmM7PStRs8"
      },
      "source": [
        "### 6.6.2 - Final Application for Question Answering"
      ]
    },
    {
      "cell_type": "markdown",
      "metadata": {
        "id": "Y2UW-J8ZtZrZ"
      },
      "source": [
        "Finally, it is developed a pipeline to process and try to answer to a question from our own text."
      ]
    },
    {
      "cell_type": "code",
      "metadata": {
        "id": "jXsY72rh1NF_"
      },
      "source": [
        "from datasets import Dataset\n",
        "\n",
        "def bert_for_qa(context, question, trainer, id='0'):\n",
        "    # Generate dataset from input data\n",
        "    dataset = Dataset.from_dict(\n",
        "        {'id': [id], 'context': [context], 'question': [question]}\n",
        "    )\n",
        "    # Preprocess data\n",
        "    features = dataset.map(\n",
        "        prepare_test_features,\n",
        "        batched=True,\n",
        "        remove_columns=dataset.column_names\n",
        "    )\n",
        "    # Predictions\n",
        "    predictions = trainer.predict(features)\n",
        "    # Postprocess data\n",
        "    processed_predictions = postprocess_predictions(dataset, features, predictions.predictions)\n",
        "    # Return answer\n",
        "    return processed_predictions[id]"
      ],
      "execution_count": null,
      "outputs": []
    },
    {
      "cell_type": "code",
      "metadata": {
        "id": "NUQk4hhc1GYh",
        "colab": {
          "base_uri": "https://localhost:8080/",
          "height": 220,
          "referenced_widgets": [
            "87096b907d67440da538eb7f797b7848",
            "8c62b21898a04fc29511db53f032507e",
            "ec16172829e24547a80dd04789d709f0",
            "453876ce77004371987e12586fa6e410",
            "fc7ee193eae245f182a5a2b55c3cfd6f",
            "32df2363e0864fdaab1b3131a7e8204a",
            "7f609a3427ad4578bdcac0279f7f17d5",
            "6c28646616f3409ab97b1e20736f8399",
            "eeaf41eb4e194187bc1630b504a379ca",
            "452da70ac94b4c97aae5421860abc59e",
            "8b6b5ff3319e478d939d67359368aa20",
            "bd9bf739e5584fd8891e7115ff80661e",
            "8ac5a1e04cdf45f39739c5d706c09d96",
            "1f765ad233eb49c7a742d032b6924e87",
            "869509b4ddf74fefb7182836509b9f9f",
            "5a2ddcd374ce4cceaf1291587a2dd2ab"
          ]
        },
        "outputId": "13385467-35b1-40db-cfe3-06cb79f9a500"
      },
      "source": [
        "#@title { vertical-output: true }\n",
        "context = \"BERT is really easy to implement. Definitely, it is the best NLP model\" #@param {type:\"string\"}\n",
        "question = \"What is the best NLP model?\" #@param {type:\"string\"}\n",
        "answer = bert_for_qa(context, question, trainer)\n",
        "\n",
        "print('\\nThe predicted answer is\\n')\n",
        "print(answer)"
      ],
      "execution_count": null,
      "outputs": [
        {
          "output_type": "display_data",
          "data": {
            "application/vnd.jupyter.widget-view+json": {
              "model_id": "87096b907d67440da538eb7f797b7848",
              "version_minor": 0,
              "version_major": 2
            },
            "text/plain": [
              "HBox(children=(FloatProgress(value=0.0, max=1.0), HTML(value='')))"
            ]
          },
          "metadata": {
            "tags": []
          }
        },
        {
          "output_type": "stream",
          "text": [
            "\n"
          ],
          "name": "stdout"
        },
        {
          "output_type": "display_data",
          "data": {
            "text/html": [
              "\n",
              "    <div>\n",
              "      \n",
              "      <progress value='1826' max='1825' style='width:300px; height:20px; vertical-align: middle;'></progress>\n",
              "      [1825/1825 08:54]\n",
              "    </div>\n",
              "    "
            ],
            "text/plain": [
              "<IPython.core.display.HTML object>"
            ]
          },
          "metadata": {
            "tags": []
          }
        },
        {
          "output_type": "stream",
          "text": [
            "Post-processing 1 example predictions split into 1 features.\n"
          ],
          "name": "stdout"
        },
        {
          "output_type": "display_data",
          "data": {
            "application/vnd.jupyter.widget-view+json": {
              "model_id": "eeaf41eb4e194187bc1630b504a379ca",
              "version_minor": 0,
              "version_major": 2
            },
            "text/plain": [
              "HBox(children=(FloatProgress(value=0.0, max=1.0), HTML(value='')))"
            ]
          },
          "metadata": {
            "tags": []
          }
        },
        {
          "output_type": "stream",
          "text": [
            "\n",
            "\n",
            "The predicted answer is\n",
            "\n",
            "BERT\n"
          ],
          "name": "stdout"
        }
      ]
    },
    {
      "cell_type": "markdown",
      "metadata": {
        "id": "NuyFHz59oCNt"
      },
      "source": [
        "To download the associated folder."
      ]
    },
    {
      "cell_type": "code",
      "metadata": {
        "id": "lhOP8g9MoBzP"
      },
      "source": [
        "# download_folder(qa_dir)"
      ],
      "execution_count": null,
      "outputs": []
    },
    {
      "cell_type": "markdown",
      "metadata": {
        "id": "4kAb-OLzm-Ux"
      },
      "source": [
        "# Cite"
      ]
    },
    {
      "cell_type": "markdown",
      "metadata": {
        "id": "kO9VRbFInDyU"
      },
      "source": [
        "Thanks for reading! If you find it useful, feel free to use it. You can cite it as:"
      ]
    },
    {
      "cell_type": "markdown",
      "metadata": {
        "id": "qKqgXEO0nW5L"
      },
      "source": [
        "```\n",
        "@mastersthesis{bueno2021bert,\n",
        "  author    = {Bueno, Ion},\n",
        "  title     = {Inside a NLP multitasking neural network. BERT, one model to rule them all},\n",
        "  school    = {University Carlos III of Madrid},\n",
        "  year      = {2021},\n",
        "  month     = {jun},\n",
        "  address   = {Madrid, Spain},\n",
        "  url       = {https://github.com/ion-bueno/bert-from-inside}\n",
        "}\n",
        "```"
      ]
    }
  ]
}
